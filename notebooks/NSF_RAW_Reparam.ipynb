{
 "cells": [
  {
   "cell_type": "markdown",
   "id": "26d4c45a",
   "metadata": {
    "toc": true
   },
   "source": [
    "<h1>Table of Contents<span class=\"tocSkip\"></span></h1>\n",
    "<div class=\"toc\"><ul class=\"toc-item\"><li><span><a href=\"#import-and-define\" data-toc-modified-id=\"import-and-define-1\"><span class=\"toc-item-num\">1&nbsp;&nbsp;</span>import and define</a></span><ul class=\"toc-item\"><li><span><a href=\"#Other-pkgs\" data-toc-modified-id=\"Other-pkgs-1.1\"><span class=\"toc-item-num\">1.1&nbsp;&nbsp;</span>Other pkgs</a></span></li><li><span><a href=\"#My-own-pkgs\" data-toc-modified-id=\"My-own-pkgs-1.2\"><span class=\"toc-item-num\">1.2&nbsp;&nbsp;</span>My own pkgs</a></span></li></ul></li><li><span><a href=\"#Load-real-data-PSD-and-brain\" data-toc-modified-id=\"Load-real-data-PSD-and-brain-2\"><span class=\"toc-item-num\">2&nbsp;&nbsp;</span>Load real data PSD and brain</a></span><ul class=\"toc-item\"><li><span><a href=\"#PSD-and-connectome\" data-toc-modified-id=\"PSD-and-connectome-2.1\"><span class=\"toc-item-num\">2.1&nbsp;&nbsp;</span>PSD and connectome</a></span></li><li><span><a href=\"#Set-up-Parameters\" data-toc-modified-id=\"Set-up-Parameters-2.2\"><span class=\"toc-item-num\">2.2&nbsp;&nbsp;</span>Set up Parameters</a></span></li></ul></li><li><span><a href=\"#Prepare-for-SBI\" data-toc-modified-id=\"Prepare-for-SBI-3\"><span class=\"toc-item-num\">3&nbsp;&nbsp;</span>Prepare for SBI</a></span><ul class=\"toc-item\"><li><span><a href=\"#Simulator\" data-toc-modified-id=\"Simulator-3.1\"><span class=\"toc-item-num\">3.1&nbsp;&nbsp;</span>Simulator</a></span></li><li><span><a href=\"#Prior\" data-toc-modified-id=\"Prior-3.2\"><span class=\"toc-item-num\">3.2&nbsp;&nbsp;</span>Prior</a></span></li><li><span><a href=\"#Density-estimator\" data-toc-modified-id=\"Density-estimator-3.3\"><span class=\"toc-item-num\">3.3&nbsp;&nbsp;</span>Density estimator</a></span></li></ul></li><li><span><a href=\"#SBI\" data-toc-modified-id=\"SBI-4\"><span class=\"toc-item-num\">4&nbsp;&nbsp;</span>SBI</a></span><ul class=\"toc-item\"><li><span><a href=\"#RUN\" data-toc-modified-id=\"RUN-4.1\"><span class=\"toc-item-num\">4.1&nbsp;&nbsp;</span>RUN</a></span></li><li><span><a href=\"#Get-posterior\" data-toc-modified-id=\"Get-posterior-4.2\"><span class=\"toc-item-num\">4.2&nbsp;&nbsp;</span>Get posterior</a></span></li><li><span><a href=\"#PSD-estimate\" data-toc-modified-id=\"PSD-estimate-4.3\"><span class=\"toc-item-num\">4.3&nbsp;&nbsp;</span>PSD estimate</a></span></li></ul></li><li><span><a href=\"#Another-way-to-do-the-inference\" data-toc-modified-id=\"Another-way-to-do-the-inference-5\"><span class=\"toc-item-num\">5&nbsp;&nbsp;</span>Another way to do the inference</a></span></li></ul></div>"
   ]
  },
  {
   "cell_type": "markdown",
   "id": "48ee4fd6",
   "metadata": {},
   "source": [
    "This file is to try SBI_SGM when extracting features with fooof (power spectrum model)\n",
    "\n",
    "And I train model with a general connectome.\n"
   ]
  },
  {
   "cell_type": "markdown",
   "id": "269c1f0a",
   "metadata": {},
   "source": [
    "### import and define"
   ]
  },
  {
   "cell_type": "code",
   "execution_count": 1,
   "id": "4e45686c",
   "metadata": {
    "ExecuteTime": {
     "end_time": "2022-11-02T03:43:31.906029Z",
     "start_time": "2022-11-02T03:43:31.892215Z"
    }
   },
   "outputs": [],
   "source": [
    "import os\n",
    "import sys\n",
    "module_path = os.path.abspath(os.path.join('../mypkg'))\n",
    "if module_path not in sys.path:\n",
    "    sys.path.append(module_path)"
   ]
  },
  {
   "cell_type": "markdown",
   "id": "e5ca9b8a",
   "metadata": {},
   "source": [
    "#### Other pkgs"
   ]
  },
  {
   "cell_type": "code",
   "execution_count": 2,
   "id": "c93dcfe1",
   "metadata": {
    "ExecuteTime": {
     "end_time": "2022-11-02T03:43:38.348201Z",
     "start_time": "2022-11-02T03:43:33.908216Z"
    }
   },
   "outputs": [
    {
     "name": "stderr",
     "output_type": "stream",
     "text": [
      "/opt/conda/lib/python3.9/site-packages/scipy/__init__.py:146: UserWarning: A NumPy version >=1.16.5 and <1.23.0 is required for this version of SciPy (detected version 1.23.1\n",
      "  warnings.warn(f\"A NumPy version >={np_minversion} and <{np_maxversion}\"\n"
     ]
    }
   ],
   "source": [
    "from tqdm import trange, tqdm\n",
    "\n",
    "import torch\n",
    "import torch.nn as nn \n",
    "import torch.nn.functional as F \n",
    "from sbi import utils as sutils\n",
    "from sbi import analysis as analysis\n",
    "from sbi.inference.base import infer\n",
    "from sbi.inference import SNPE, prepare_for_sbi, simulate_for_sbi\n",
    "from sbi.utils.get_nn_models import posterior_nn\n",
    "from torch.distributions.multivariate_normal import MultivariateNormal\n",
    "\n",
    "import numpy as np\n",
    "import xarray as xr\n",
    "from easydict import EasyDict as edict\n",
    "from pathlib import Path\n",
    "import pickle\n",
    "import scipy\n",
    "\n",
    "import seaborn as sns\n",
    "import pandas as pd\n",
    "import matplotlib.pyplot as plt\n",
    "import json\n",
    "from functools import partial\n",
    "\n",
    "import warnings\n",
    "warnings.filterwarnings(\"ignore\")"
   ]
  },
  {
   "cell_type": "code",
   "execution_count": null,
   "id": "8bbf603a",
   "metadata": {},
   "outputs": [],
   "source": []
  },
  {
   "cell_type": "code",
   "execution_count": null,
   "id": "aac0886a",
   "metadata": {},
   "outputs": [],
   "source": []
  },
  {
   "cell_type": "markdown",
   "id": "7452265b",
   "metadata": {},
   "source": [
    "#### My own pkgs"
   ]
  },
  {
   "cell_type": "code",
   "execution_count": 3,
   "id": "da2f4f7a",
   "metadata": {
    "ExecuteTime": {
     "end_time": "2022-11-02T03:43:43.428587Z",
     "start_time": "2022-11-02T03:43:42.926690Z"
    }
   },
   "outputs": [],
   "source": [
    "import importlib\n",
    "\n",
    "import utils.misc\n",
    "importlib.reload(utils.misc);\n",
    "from utils.misc import mag2db, meg_psd2spatialfeature, save_pkl_dict2folder, load_pkl_folder2dict, get_mode\n",
    "\n",
    "import utils.standardize\n",
    "importlib.reload(utils.standardize);\n",
    "from utils.standardize import stdz_psd, stdz_vec, minmax_vec, psd_2tr\n",
    "\n",
    "import utils.brain_plot\n",
    "importlib.reload(utils.brain_plot)\n",
    "from utils.brain_plot import U2BrainVec, reorderU \n",
    "\n",
    "import utils.reparam\n",
    "importlib.reload(utils.reparam)\n",
    "from utils.reparam import theta_raw_2out, normcdf_np, normcdf_torch\n",
    "\n",
    "import sgm.sgm\n",
    "importlib.reload(sgm.sgm);\n",
    "from sgm.sgm import SGM\n",
    "\n",
    "\n",
    "from spectrome import Brain, path, functions\n",
    "\n",
    "import features.psm\n",
    "importlib.reload(features.psm)\n",
    "from features.psm import obt_psm_fs, obt_psm_raw\n",
    "\n",
    "import constants\n",
    "importlib.reload(constants)\n",
    "from constants import RES_ROOT, FIG_ROOT, DAT_ROOT\n",
    "\n",
    "import models.embedding_nets \n",
    "importlib.reload(models.embedding_nets)\n",
    "from models.embedding_nets import SummaryNet\n",
    "\n",
    "import sgm.data_gen \n",
    "importlib.reload(sgm.data_gen)\n",
    "from sgm.data_gen import simulator_data"
   ]
  },
  {
   "cell_type": "code",
   "execution_count": 5,
   "id": "3c28c72e",
   "metadata": {
    "ExecuteTime": {
     "end_time": "2022-11-02T03:43:46.528594Z",
     "start_time": "2022-11-02T03:43:46.524180Z"
    }
   },
   "outputs": [],
   "source": [
    "#torch.set_default_tensor_type(torch.DoubleTensor)"
   ]
  },
  {
   "cell_type": "markdown",
   "id": "4022c78f",
   "metadata": {},
   "source": [
    "### Load real data PSD and brain"
   ]
  },
  {
   "cell_type": "markdown",
   "id": "bcd6c5ab",
   "metadata": {},
   "source": [
    "#### PSD and connectome"
   ]
  },
  {
   "cell_type": "code",
   "execution_count": 6,
   "id": "bb358643",
   "metadata": {
    "ExecuteTime": {
     "end_time": "2022-11-02T03:43:47.863765Z",
     "start_time": "2022-11-02T03:43:47.567736Z"
    }
   },
   "outputs": [],
   "source": [
    "# Load data\n",
    "ind_psd_xr = xr.open_dataarray(DAT_ROOT/'individual_psd_reordered_matlab.nc')\n",
    "ind_psd = ind_psd_xr.values\n",
    "FREQS = ind_psd_xr[\"frequencies\"].values\n",
    "ind_conn_xr = xr.open_dataarray(DAT_ROOT/'individual_connectomes_reordered.nc')\n",
    "ind_conn = ind_conn_xr.values"
   ]
  },
  {
   "cell_type": "markdown",
   "id": "b6960bf4",
   "metadata": {},
   "source": [
    "#### Set up Parameters"
   ]
  },
  {
   "cell_type": "code",
   "execution_count": 19,
   "id": "d9326efc",
   "metadata": {
    "ExecuteTime": {
     "end_time": "2022-11-02T03:46:31.798471Z",
     "start_time": "2022-11-02T03:46:31.788975Z"
    }
   },
   "outputs": [],
   "source": [
    "# some constant parameters for this file\n",
    "paras = edict()\n",
    "#v_lower = 3.5-1.8\n",
    "#v_upper = 3.5+1.8\n",
    "#bnds = ((5.0,30.0), (5.0,200.0), (0.1,1.0), (v_lower,v_upper), (0.5,10.0), (0.5,10.0), (5.0,30.0))\n",
    "#This is the order for the above bounds:  tau_e, tau_i, alpha, speed, gei, gii, tauC,\n",
    "\n",
    "# taue, taui, tauC, speed, alpha, gii, gei\n",
    "paras.par_low = np.asarray([0.005,0.005,0.005,1.7,0.1,0.5,0.5])\n",
    "paras.par_high = np.asarray([0.03, 0.20, 0.03,5.3,  1, 10, 10])\n",
    "paras.prior_bds = np.array([paras.par_low, paras.par_high]).T\n",
    "paras.names = [\"Taue\", \"Taui\", \"TauC\", \"Speed\", \"alpha\", \"gii\", \"gei\"]\n",
    "\n",
    "paras.noise_sd = 0.20\n",
    "paras.num_prior_sps = int(2e4)\n",
    "paras.den_est = \"nsf\"\n",
    "paras.is_embed = False\n",
    "\n",
    "paras.prior_sd = 10"
   ]
  },
  {
   "cell_type": "code",
   "execution_count": 20,
   "id": "3ee716f6",
   "metadata": {
    "ExecuteTime": {
     "end_time": "2022-11-02T03:46:32.439056Z",
     "start_time": "2022-11-02T03:46:32.433844Z"
    }
   },
   "outputs": [],
   "source": [
    "_map_fn_torch = partial(normcdf_torch, sd=paras.prior_sd)\n",
    "_theta_raw_2out = partial(theta_raw_2out, map_fn=partial(normcdf_np, sd=paras.prior_sd))"
   ]
  },
  {
   "cell_type": "code",
   "execution_count": 21,
   "id": "221b3b6d",
   "metadata": {
    "ExecuteTime": {
     "end_time": "2022-11-02T03:46:32.823076Z",
     "start_time": "2022-11-02T03:46:32.815794Z"
    }
   },
   "outputs": [
    {
     "name": "stdout",
     "output_type": "stream",
     "text": [
      "folder is /data/rajlab1/user_data/jin/MyResearch/SBI-SGM/mypkg/../results/generalNoiseRawReparamNormcdf_20000_sd20_denestnsf_embedFalse\n",
      "False\n"
     ]
    }
   ],
   "source": [
    "# paras  for this file\n",
    "_paras = edict()\n",
    "_folder_path = f\"./generalNoiseRawReparamNormcdf_{paras.num_prior_sps:.0f}\" +\\\n",
    "               f\"_sd{paras.noise_sd*100:.0f}\" +\\\n",
    "               f\"_denest{paras.den_est}\" +\\\n",
    "               f\"_embed{paras.is_embed}\"\n",
    "_paras.folder_path = RES_ROOT/_folder_path\n",
    "print(f\"folder is {_paras.folder_path}\")\n",
    "print(_paras.folder_path.exists())"
   ]
  },
  {
   "cell_type": "code",
   "execution_count": 22,
   "id": "2f672600",
   "metadata": {
    "ExecuteTime": {
     "end_time": "2022-11-02T03:46:33.233228Z",
     "start_time": "2022-11-02T03:46:33.229186Z"
    }
   },
   "outputs": [],
   "source": [
    "cur_res = edict()"
   ]
  },
  {
   "cell_type": "markdown",
   "id": "86923703",
   "metadata": {},
   "source": [
    "### Prepare for SBI"
   ]
  },
  {
   "cell_type": "markdown",
   "id": "f931d238",
   "metadata": {},
   "source": [
    "#### Simulator"
   ]
  },
  {
   "cell_type": "code",
   "execution_count": 23,
   "id": "b4ee7118",
   "metadata": {
    "ExecuteTime": {
     "end_time": "2022-11-02T03:46:34.517510Z",
     "start_time": "2022-11-02T03:46:34.508112Z"
    }
   },
   "outputs": [],
   "source": [
    "def simulator(params, noise_sd, sgmmodel, prior_bds):\n",
    "    \"\"\"The function to simulate samples\n",
    "    \"\"\"\n",
    "    params_trans = []\n",
    "    for param, prior_bd in zip(params, prior_bds):\n",
    "        param_trans =  _map_fn_torch(param)*(prior_bd[1]-prior_bd[0]) + prior_bd[0]\n",
    "        params_trans.append(param_trans)\n",
    "    params_trans = torch.tensor(params_trans)\n",
    "    \n",
    "    psd, spatialFs = sgmmodel.run_local_coupling_forward(params_trans)\n",
    "    psd = psd[:68, :]\n",
    "    std_spatial = stdz_vec(spatialFs.sum(axis=1)) # std it\n",
    "    \n",
    "    std_psd_DB = psd_2tr(psd)\n",
    "    psd_fs = std_psd_DB.flatten()\n",
    "    \n",
    "    res = np.concatenate([psd_fs, std_spatial]) \n",
    "    noise =  np.random.randn(*res.shape)*noise_sd \n",
    "    \n",
    "    return res+noise"
   ]
  },
  {
   "cell_type": "code",
   "execution_count": null,
   "id": "df187c08",
   "metadata": {},
   "outputs": [],
   "source": []
  },
  {
   "cell_type": "markdown",
   "id": "e2078c03",
   "metadata": {},
   "source": [
    "#### Prior "
   ]
  },
  {
   "cell_type": "code",
   "execution_count": 24,
   "id": "23dff474",
   "metadata": {
    "ExecuteTime": {
     "end_time": "2022-11-02T03:46:36.016713Z",
     "start_time": "2022-11-02T03:46:36.011242Z"
    }
   },
   "outputs": [],
   "source": [
    "#prior = sutils.BoxUniform(low=torch.as_tensor(paras.par_low), high=torch.as_tensor(paras.par_high))\n",
    "prior = MultivariateNormal(loc=torch.zeros(7), covariance_matrix=torch.eye(7)*(paras.prior_sd**2))"
   ]
  },
  {
   "cell_type": "markdown",
   "id": "1b4a2ec2",
   "metadata": {},
   "source": [
    "#### Density estimator"
   ]
  },
  {
   "cell_type": "code",
   "execution_count": 25,
   "id": "dd66a9e9",
   "metadata": {
    "ExecuteTime": {
     "end_time": "2022-11-02T03:46:37.141563Z",
     "start_time": "2022-11-02T03:46:37.135650Z"
    }
   },
   "outputs": [],
   "source": [
    "if paras.is_embed:\n",
    "    embedding_net = SummaryNet(num_in_fs=68*41)\n",
    "    paras.den_est = sutils.posterior_nn(\n",
    "    model=paras.den_est, embedding_net=embedding_net)\n",
    "    for ix in embedding_net.parameters():\n",
    "        print(ix.sum(), ix.shape, ix.dtype)"
   ]
  },
  {
   "cell_type": "markdown",
   "id": "5a694c3b",
   "metadata": {},
   "source": [
    "### SBI"
   ]
  },
  {
   "cell_type": "code",
   "execution_count": 26,
   "id": "c82b5b02",
   "metadata": {
    "ExecuteTime": {
     "end_time": "2022-11-02T03:46:42.117700Z",
     "start_time": "2022-11-02T03:46:40.778631Z"
    }
   },
   "outputs": [],
   "source": [
    "# obtain the brain\n",
    "brain = Brain.Brain()\n",
    "brain.add_connectome(DAT_ROOT)\n",
    "brain.reorder_connectome(brain.connectome, brain.distance_matrix)\n",
    "brain.bi_symmetric_c()\n",
    "brain.reduce_extreme_dir()\n",
    "sgmmodel = SGM(brain.reducedConnectome, brain.distance_matrix, FREQS)\n",
    "\n",
    "simulator_sp = partial(simulator,  noise_sd=paras.noise_sd, sgmmodel=sgmmodel, prior_bds=paras.prior_bds)\n",
    "# make a SBI-wrapper on the simulator object for compatibility\n",
    "simulator_wrapper, prior = prepare_for_sbi(simulator_sp, prior)"
   ]
  },
  {
   "cell_type": "code",
   "execution_count": null,
   "id": "ec84fcba",
   "metadata": {},
   "outputs": [],
   "source": []
  },
  {
   "cell_type": "markdown",
   "id": "aa59351b",
   "metadata": {},
   "source": [
    "#### RUN"
   ]
  },
  {
   "cell_type": "code",
   "execution_count": null,
   "id": "3783abdd",
   "metadata": {
    "ExecuteTime": {
     "start_time": "2022-11-02T03:46:44.563Z"
    },
    "scrolled": true
   },
   "outputs": [
    {
     "data": {
      "application/vnd.jupyter.widget-view+json": {
       "model_id": "1d1fc014d717406d9c1e2816ac179e55",
       "version_major": 2,
       "version_minor": 0
      },
      "text/plain": [
       "Running 20000 simulations in 20000 batches.:   0%|          | 0/20000 [00:00<?, ?it/s]"
      ]
     },
     "metadata": {},
     "output_type": "display_data"
    },
    {
     "name": "stderr",
     "output_type": "stream",
     "text": [
      "/opt/conda/lib/python3.9/site-packages/scipy/__init__.py:146: UserWarning: A NumPy version >=1.16.5 and <1.23.0 is required for this version of SciPy (detected version 1.23.1\n",
      "  warnings.warn(f\"A NumPy version >={np_minversion} and <{np_maxversion}\"\n",
      "/opt/conda/lib/python3.9/site-packages/scipy/__init__.py:146: UserWarning: A NumPy version >=1.16.5 and <1.23.0 is required for this version of SciPy (detected version 1.23.1\n",
      "  warnings.warn(f\"A NumPy version >={np_minversion} and <{np_maxversion}\"\n",
      "/opt/conda/lib/python3.9/site-packages/scipy/__init__.py:146: UserWarning: A NumPy version >=1.16.5 and <1.23.0 is required for this version of SciPy (detected version 1.23.1\n",
      "  warnings.warn(f\"A NumPy version >={np_minversion} and <{np_maxversion}\"\n",
      "/opt/conda/lib/python3.9/site-packages/scipy/__init__.py:146: UserWarning: A NumPy version >=1.16.5 and <1.23.0 is required for this version of SciPy (detected version 1.23.1\n",
      "  warnings.warn(f\"A NumPy version >={np_minversion} and <{np_maxversion}\"\n",
      "/opt/conda/lib/python3.9/site-packages/scipy/__init__.py:146: UserWarning: A NumPy version >=1.16.5 and <1.23.0 is required for this version of SciPy (detected version 1.23.1\n",
      "  warnings.warn(f\"A NumPy version >={np_minversion} and <{np_maxversion}\"\n",
      "/opt/conda/lib/python3.9/site-packages/scipy/__init__.py:146: UserWarning: A NumPy version >=1.16.5 and <1.23.0 is required for this version of SciPy (detected version 1.23.1\n",
      "  warnings.warn(f\"A NumPy version >={np_minversion} and <{np_maxversion}\"\n",
      "/opt/conda/lib/python3.9/site-packages/scipy/__init__.py:146: UserWarning: A NumPy version >=1.16.5 and <1.23.0 is required for this version of SciPy (detected version 1.23.1\n",
      "  warnings.warn(f\"A NumPy version >={np_minversion} and <{np_maxversion}\"\n",
      "/opt/conda/lib/python3.9/site-packages/scipy/__init__.py:146: UserWarning: A NumPy version >=1.16.5 and <1.23.0 is required for this version of SciPy (detected version 1.23.1\n",
      "  warnings.warn(f\"A NumPy version >={np_minversion} and <{np_maxversion}\"\n",
      "/opt/conda/lib/python3.9/site-packages/scipy/__init__.py:146: UserWarning: A NumPy version >=1.16.5 and <1.23.0 is required for this version of SciPy (detected version 1.23.1\n",
      "  warnings.warn(f\"A NumPy version >={np_minversion} and <{np_maxversion}\"\n",
      "/opt/conda/lib/python3.9/site-packages/scipy/__init__.py:146: UserWarning: A NumPy version >=1.16.5 and <1.23.0 is required for this version of SciPy (detected version 1.23.1\n",
      "  warnings.warn(f\"A NumPy version >={np_minversion} and <{np_maxversion}\"\n",
      "/opt/conda/lib/python3.9/site-packages/scipy/__init__.py:146: UserWarning: A NumPy version >=1.16.5 and <1.23.0 is required for this version of SciPy (detected version 1.23.1\n",
      "  warnings.warn(f\"A NumPy version >={np_minversion} and <{np_maxversion}\"\n",
      "/opt/conda/lib/python3.9/site-packages/scipy/__init__.py:146: UserWarning: A NumPy version >=1.16.5 and <1.23.0 is required for this version of SciPy (detected version 1.23.1\n",
      "  warnings.warn(f\"A NumPy version >={np_minversion} and <{np_maxversion}\"\n",
      "/opt/conda/lib/python3.9/site-packages/scipy/__init__.py:146: UserWarning: A NumPy version >=1.16.5 and <1.23.0 is required for this version of SciPy (detected version 1.23.1\n",
      "  warnings.warn(f\"A NumPy version >={np_minversion} and <{np_maxversion}\"\n",
      "/opt/conda/lib/python3.9/site-packages/scipy/__init__.py:146: UserWarning: A NumPy version >=1.16.5 and <1.23.0 is required for this version of SciPy (detected version 1.23.1\n",
      "  warnings.warn(f\"A NumPy version >={np_minversion} and <{np_maxversion}\"\n",
      "/opt/conda/lib/python3.9/site-packages/scipy/__init__.py:146: UserWarning: A NumPy version >=1.16.5 and <1.23.0 is required for this version of SciPy (detected version 1.23.1\n",
      "  warnings.warn(f\"A NumPy version >={np_minversion} and <{np_maxversion}\"\n",
      "/opt/conda/lib/python3.9/site-packages/scipy/__init__.py:146: UserWarning: A NumPy version >=1.16.5 and <1.23.0 is required for this version of SciPy (detected version 1.23.1\n",
      "  warnings.warn(f\"A NumPy version >={np_minversion} and <{np_maxversion}\"\n",
      "/opt/conda/lib/python3.9/site-packages/scipy/__init__.py:146: UserWarning: A NumPy version >=1.16.5 and <1.23.0 is required for this version of SciPy (detected version 1.23.1\n",
      "  warnings.warn(f\"A NumPy version >={np_minversion} and <{np_maxversion}\"\n",
      "/opt/conda/lib/python3.9/site-packages/scipy/__init__.py:146: UserWarning: A NumPy version >=1.16.5 and <1.23.0 is required for this version of SciPy (detected version 1.23.1\n",
      "  warnings.warn(f\"A NumPy version >={np_minversion} and <{np_maxversion}\"\n",
      "/opt/conda/lib/python3.9/site-packages/scipy/__init__.py:146: UserWarning: A NumPy version >=1.16.5 and <1.23.0 is required for this version of SciPy (detected version 1.23.1\n",
      "  warnings.warn(f\"A NumPy version >={np_minversion} and <{np_maxversion}\"\n",
      "/opt/conda/lib/python3.9/site-packages/scipy/__init__.py:146: UserWarning: A NumPy version >=1.16.5 and <1.23.0 is required for this version of SciPy (detected version 1.23.1\n",
      "  warnings.warn(f\"A NumPy version >={np_minversion} and <{np_maxversion}\"\n",
      "/opt/conda/lib/python3.9/site-packages/scipy/__init__.py:146: UserWarning: A NumPy version >=1.16.5 and <1.23.0 is required for this version of SciPy (detected version 1.23.1\n",
      "  warnings.warn(f\"A NumPy version >={np_minversion} and <{np_maxversion}\"\n",
      "/opt/conda/lib/python3.9/site-packages/scipy/__init__.py:146: UserWarning: A NumPy version >=1.16.5 and <1.23.0 is required for this version of SciPy (detected version 1.23.1\n",
      "  warnings.warn(f\"A NumPy version >={np_minversion} and <{np_maxversion}\"\n",
      "/opt/conda/lib/python3.9/site-packages/scipy/__init__.py:146: UserWarning: A NumPy version >=1.16.5 and <1.23.0 is required for this version of SciPy (detected version 1.23.1\n",
      "  warnings.warn(f\"A NumPy version >={np_minversion} and <{np_maxversion}\"\n",
      "/opt/conda/lib/python3.9/site-packages/scipy/__init__.py:146: UserWarning: A NumPy version >=1.16.5 and <1.23.0 is required for this version of SciPy (detected version 1.23.1\n",
      "  warnings.warn(f\"A NumPy version >={np_minversion} and <{np_maxversion}\"\n",
      "/opt/conda/lib/python3.9/site-packages/scipy/__init__.py:146: UserWarning: A NumPy version >=1.16.5 and <1.23.0 is required for this version of SciPy (detected version 1.23.1\n",
      "  warnings.warn(f\"A NumPy version >={np_minversion} and <{np_maxversion}\"\n",
      "/opt/conda/lib/python3.9/site-packages/scipy/__init__.py:146: UserWarning: A NumPy version >=1.16.5 and <1.23.0 is required for this version of SciPy (detected version 1.23.1\n",
      "  warnings.warn(f\"A NumPy version >={np_minversion} and <{np_maxversion}\"\n",
      "/opt/conda/lib/python3.9/site-packages/scipy/__init__.py:146: UserWarning: A NumPy version >=1.16.5 and <1.23.0 is required for this version of SciPy (detected version 1.23.1\n",
      "  warnings.warn(f\"A NumPy version >={np_minversion} and <{np_maxversion}\"\n",
      "/opt/conda/lib/python3.9/site-packages/scipy/__init__.py:146: UserWarning: A NumPy version >=1.16.5 and <1.23.0 is required for this version of SciPy (detected version 1.23.1\n",
      "  warnings.warn(f\"A NumPy version >={np_minversion} and <{np_maxversion}\"\n",
      "/opt/conda/lib/python3.9/site-packages/scipy/__init__.py:146: UserWarning: A NumPy version >=1.16.5 and <1.23.0 is required for this version of SciPy (detected version 1.23.1\n",
      "  warnings.warn(f\"A NumPy version >={np_minversion} and <{np_maxversion}\"\n",
      "/opt/conda/lib/python3.9/site-packages/scipy/__init__.py:146: UserWarning: A NumPy version >=1.16.5 and <1.23.0 is required for this version of SciPy (detected version 1.23.1\n",
      "  warnings.warn(f\"A NumPy version >={np_minversion} and <{np_maxversion}\"\n",
      "/opt/conda/lib/python3.9/site-packages/scipy/__init__.py:146: UserWarning: A NumPy version >=1.16.5 and <1.23.0 is required for this version of SciPy (detected version 1.23.1\n",
      "  warnings.warn(f\"A NumPy version >={np_minversion} and <{np_maxversion}\"\n",
      "/opt/conda/lib/python3.9/site-packages/scipy/__init__.py:146: UserWarning: A NumPy version >=1.16.5 and <1.23.0 is required for this version of SciPy (detected version 1.23.1\n",
      "  warnings.warn(f\"A NumPy version >={np_minversion} and <{np_maxversion}\"\n",
      "/opt/conda/lib/python3.9/site-packages/scipy/__init__.py:146: UserWarning: A NumPy version >=1.16.5 and <1.23.0 is required for this version of SciPy (detected version 1.23.1\n",
      "  warnings.warn(f\"A NumPy version >={np_minversion} and <{np_maxversion}\"\n"
     ]
    },
    {
     "name": "stderr",
     "output_type": "stream",
     "text": [
      "/opt/conda/lib/python3.9/site-packages/scipy/__init__.py:146: UserWarning: A NumPy version >=1.16.5 and <1.23.0 is required for this version of SciPy (detected version 1.23.1\n",
      "  warnings.warn(f\"A NumPy version >={np_minversion} and <{np_maxversion}\"\n",
      "/opt/conda/lib/python3.9/site-packages/scipy/__init__.py:146: UserWarning: A NumPy version >=1.16.5 and <1.23.0 is required for this version of SciPy (detected version 1.23.1\n",
      "  warnings.warn(f\"A NumPy version >={np_minversion} and <{np_maxversion}\"\n",
      "/opt/conda/lib/python3.9/site-packages/scipy/__init__.py:146: UserWarning: A NumPy version >=1.16.5 and <1.23.0 is required for this version of SciPy (detected version 1.23.1\n",
      "  warnings.warn(f\"A NumPy version >={np_minversion} and <{np_maxversion}\"\n",
      "/opt/conda/lib/python3.9/site-packages/scipy/__init__.py:146: UserWarning: A NumPy version >=1.16.5 and <1.23.0 is required for this version of SciPy (detected version 1.23.1\n",
      "  warnings.warn(f\"A NumPy version >={np_minversion} and <{np_maxversion}\"\n",
      "/opt/conda/lib/python3.9/site-packages/scipy/__init__.py:146: UserWarning: A NumPy version >=1.16.5 and <1.23.0 is required for this version of SciPy (detected version 1.23.1\n",
      "  warnings.warn(f\"A NumPy version >={np_minversion} and <{np_maxversion}\"\n",
      "/opt/conda/lib/python3.9/site-packages/scipy/__init__.py:146: UserWarning: A NumPy version >=1.16.5 and <1.23.0 is required for this version of SciPy (detected version 1.23.1\n",
      "  warnings.warn(f\"A NumPy version >={np_minversion} and <{np_maxversion}\"\n",
      "/opt/conda/lib/python3.9/site-packages/scipy/__init__.py:146: UserWarning: A NumPy version >=1.16.5 and <1.23.0 is required for this version of SciPy (detected version 1.23.1\n",
      "  warnings.warn(f\"A NumPy version >={np_minversion} and <{np_maxversion}\"\n",
      "/opt/conda/lib/python3.9/site-packages/scipy/__init__.py:146: UserWarning: A NumPy version >=1.16.5 and <1.23.0 is required for this version of SciPy (detected version 1.23.1\n",
      "  warnings.warn(f\"A NumPy version >={np_minversion} and <{np_maxversion}\"\n",
      "/opt/conda/lib/python3.9/site-packages/scipy/__init__.py:146: UserWarning: A NumPy version >=1.16.5 and <1.23.0 is required for this version of SciPy (detected version 1.23.1\n",
      "  warnings.warn(f\"A NumPy version >={np_minversion} and <{np_maxversion}\"\n",
      "/opt/conda/lib/python3.9/site-packages/scipy/__init__.py:146: UserWarning: A NumPy version >=1.16.5 and <1.23.0 is required for this version of SciPy (detected version 1.23.1\n",
      "  warnings.warn(f\"A NumPy version >={np_minversion} and <{np_maxversion}\"\n",
      "/opt/conda/lib/python3.9/site-packages/scipy/__init__.py:146: UserWarning: A NumPy version >=1.16.5 and <1.23.0 is required for this version of SciPy (detected version 1.23.1\n",
      "  warnings.warn(f\"A NumPy version >={np_minversion} and <{np_maxversion}\"\n",
      "/opt/conda/lib/python3.9/site-packages/scipy/__init__.py:146: UserWarning: A NumPy version >=1.16.5 and <1.23.0 is required for this version of SciPy (detected version 1.23.1\n",
      "  warnings.warn(f\"A NumPy version >={np_minversion} and <{np_maxversion}\"\n",
      "/opt/conda/lib/python3.9/site-packages/scipy/__init__.py:146: UserWarning: A NumPy version >=1.16.5 and <1.23.0 is required for this version of SciPy (detected version 1.23.1\n",
      "  warnings.warn(f\"A NumPy version >={np_minversion} and <{np_maxversion}\"\n",
      "/opt/conda/lib/python3.9/site-packages/scipy/__init__.py:146: UserWarning: A NumPy version >=1.16.5 and <1.23.0 is required for this version of SciPy (detected version 1.23.1\n",
      "  warnings.warn(f\"A NumPy version >={np_minversion} and <{np_maxversion}\"\n",
      "/opt/conda/lib/python3.9/site-packages/scipy/__init__.py:146: UserWarning: A NumPy version >=1.16.5 and <1.23.0 is required for this version of SciPy (detected version 1.23.1\n",
      "  warnings.warn(f\"A NumPy version >={np_minversion} and <{np_maxversion}\"\n",
      "/opt/conda/lib/python3.9/site-packages/scipy/__init__.py:146: UserWarning: A NumPy version >=1.16.5 and <1.23.0 is required for this version of SciPy (detected version 1.23.1\n",
      "  warnings.warn(f\"A NumPy version >={np_minversion} and <{np_maxversion}\"\n",
      "/opt/conda/lib/python3.9/site-packages/scipy/__init__.py:146: UserWarning: A NumPy version >=1.16.5 and <1.23.0 is required for this version of SciPy (detected version 1.23.1\n",
      "  warnings.warn(f\"A NumPy version >={np_minversion} and <{np_maxversion}\"\n"
     ]
    }
   ],
   "source": [
    "theta_raw, x = simulate_for_sbi(simulator_wrapper, prior, \n",
    "                            num_simulations=int(paras.num_prior_sps), \n",
    "                            num_workers=50)\n",
    "inference = SNPE(prior=prior, density_estimator=paras.den_est)\n",
    "density_estimator = inference.append_simulations(theta_raw, x).train()\n",
    "posterior = inference.build_posterior(density_estimator)\n"
   ]
  },
  {
   "cell_type": "code",
   "execution_count": 99,
   "id": "7e2bb5bb",
   "metadata": {
    "ExecuteTime": {
     "end_time": "2022-11-02T02:28:43.293873Z",
     "start_time": "2022-11-02T02:28:41.567604Z"
    }
   },
   "outputs": [
    {
     "name": "stdout",
     "output_type": "stream",
     "text": [
      "/data/rajlab1/user_data/jin/MyResearch/SBI-SGM/mypkg/../results/generalNoiseRawReparam_10000_sd20_denestnsf_embedFalse\n",
      "Create a folder /data/rajlab1/user_data/jin/MyResearch/SBI-SGM/mypkg/../results/generalNoiseRawReparam_10000_sd20_denestnsf_embedFalse\n",
      "Save to /data/rajlab1/user_data/jin/MyResearch/SBI-SGM/mypkg/../results/generalNoiseRawReparam_10000_sd20_denestnsf_embedFalse/theta_raw.pkl\n",
      "Save to /data/rajlab1/user_data/jin/MyResearch/SBI-SGM/mypkg/../results/generalNoiseRawReparam_10000_sd20_denestnsf_embedFalse/x.pkl\n",
      "Save to /data/rajlab1/user_data/jin/MyResearch/SBI-SGM/mypkg/../results/generalNoiseRawReparam_10000_sd20_denestnsf_embedFalse/posterior.pkl\n"
     ]
    }
   ],
   "source": [
    "cur_res.theta_raw = theta_raw\n",
    "cur_res.x = x\n",
    "cur_res.posterior = posterior\n",
    "if paras.is_embed:\n",
    "    cur_res.embedding_net = embedding_net\n",
    "    for ix in embedding_net.parameters():\n",
    "        print(ix.sum(), ix.shape)\n",
    "save_pkl_dict2folder(_paras.folder_path, cur_res, False)"
   ]
  },
  {
   "cell_type": "code",
   "execution_count": null,
   "id": "b6ac9780",
   "metadata": {},
   "outputs": [],
   "source": []
  },
  {
   "cell_type": "markdown",
   "id": "a760e52d",
   "metadata": {},
   "source": [
    "#### Get posterior"
   ]
  },
  {
   "cell_type": "code",
   "execution_count": 17,
   "id": "6b548503",
   "metadata": {
    "ExecuteTime": {
     "end_time": "2022-11-01T22:42:56.924251Z",
     "start_time": "2022-11-01T22:42:51.304332Z"
    }
   },
   "outputs": [
    {
     "name": "stdout",
     "output_type": "stream",
     "text": [
      "Load file /data/rajlab1/user_data/jin/MyResearch/SBI-SGM/mypkg/../results/generalNoiseRawReparam_50000_sd20_denestnsf_embedFalse/theta_raw.pkl\n",
      "Load file /data/rajlab1/user_data/jin/MyResearch/SBI-SGM/mypkg/../results/generalNoiseRawReparam_50000_sd20_denestnsf_embedFalse/x.pkl\n",
      "Load file /data/rajlab1/user_data/jin/MyResearch/SBI-SGM/mypkg/../results/generalNoiseRawReparam_50000_sd20_denestnsf_embedFalse/posterior.pkl\n"
     ]
    }
   ],
   "source": [
    "cur_res = load_pkl_folder2dict(_paras.folder_path)"
   ]
  },
  {
   "cell_type": "code",
   "execution_count": 100,
   "id": "88174c4a",
   "metadata": {
    "ExecuteTime": {
     "end_time": "2022-11-02T02:29:01.068769Z",
     "start_time": "2022-11-02T02:28:44.616558Z"
    },
    "scrolled": true
   },
   "outputs": [
    {
     "data": {
      "application/vnd.jupyter.widget-view+json": {
       "model_id": "3340db0e411844b6bd99780ecdf8d8e0",
       "version_major": 2,
       "version_minor": 0
      },
      "text/plain": [
       "Drawing 10000 posterior samples:   0%|          | 0/10000 [00:00<?, ?it/s]"
      ]
     },
     "metadata": {},
     "output_type": "display_data"
    },
    {
     "data": {
      "application/vnd.jupyter.widget-view+json": {
       "model_id": "e8570782210e4cca84af11a9bb372dad",
       "version_major": 2,
       "version_minor": 0
      },
      "text/plain": [
       "Drawing 10000 posterior samples:   0%|          | 0/10000 [00:00<?, ?it/s]"
      ]
     },
     "metadata": {},
     "output_type": "display_data"
    },
    {
     "data": {
      "application/vnd.jupyter.widget-view+json": {
       "model_id": "bddb0f481b8a4e96aefa30c600113c0c",
       "version_major": 2,
       "version_minor": 0
      },
      "text/plain": [
       "Drawing 10000 posterior samples:   0%|          | 0/10000 [00:00<?, ?it/s]"
      ]
     },
     "metadata": {},
     "output_type": "display_data"
    },
    {
     "data": {
      "application/vnd.jupyter.widget-view+json": {
       "model_id": "ea987ad740374eac940b8dde3f2a02db",
       "version_major": 2,
       "version_minor": 0
      },
      "text/plain": [
       "Drawing 10000 posterior samples:   0%|          | 0/10000 [00:00<?, ?it/s]"
      ]
     },
     "metadata": {},
     "output_type": "display_data"
    },
    {
     "data": {
      "application/vnd.jupyter.widget-view+json": {
       "model_id": "8bae0824a6e9403f8a1f758fd655638b",
       "version_major": 2,
       "version_minor": 0
      },
      "text/plain": [
       "Drawing 10000 posterior samples:   0%|          | 0/10000 [00:00<?, ?it/s]"
      ]
     },
     "metadata": {},
     "output_type": "display_data"
    },
    {
     "data": {
      "application/vnd.jupyter.widget-view+json": {
       "model_id": "409ed680251d4140acd91c7f6e29d0ad",
       "version_major": 2,
       "version_minor": 0
      },
      "text/plain": [
       "Drawing 10000 posterior samples:   0%|          | 0/10000 [00:00<?, ?it/s]"
      ]
     },
     "metadata": {},
     "output_type": "display_data"
    },
    {
     "data": {
      "application/vnd.jupyter.widget-view+json": {
       "model_id": "87dc93eae0444ea3bdc4087cf76becd5",
       "version_major": 2,
       "version_minor": 0
      },
      "text/plain": [
       "Drawing 10000 posterior samples:   0%|          | 0/10000 [00:00<?, ?it/s]"
      ]
     },
     "metadata": {},
     "output_type": "display_data"
    },
    {
     "data": {
      "application/vnd.jupyter.widget-view+json": {
       "model_id": "a9b26377d41941469aae02ac1a4b2cab",
       "version_major": 2,
       "version_minor": 0
      },
      "text/plain": [
       "Drawing 10000 posterior samples:   0%|          | 0/10000 [00:00<?, ?it/s]"
      ]
     },
     "metadata": {},
     "output_type": "display_data"
    },
    {
     "data": {
      "application/vnd.jupyter.widget-view+json": {
       "model_id": "f9abb6abde904a4d8ad208c85f76f4b4",
       "version_major": 2,
       "version_minor": 0
      },
      "text/plain": [
       "Drawing 10000 posterior samples:   0%|          | 0/10000 [00:00<?, ?it/s]"
      ]
     },
     "metadata": {},
     "output_type": "display_data"
    },
    {
     "data": {
      "application/vnd.jupyter.widget-view+json": {
       "model_id": "cc02615849f24d1b96d688ef6cf3a539",
       "version_major": 2,
       "version_minor": 0
      },
      "text/plain": [
       "Drawing 10000 posterior samples:   0%|          | 0/10000 [00:00<?, ?it/s]"
      ]
     },
     "metadata": {},
     "output_type": "display_data"
    },
    {
     "data": {
      "application/vnd.jupyter.widget-view+json": {
       "model_id": "14457b7b463e46d58d419701df19d0bf",
       "version_major": 2,
       "version_minor": 0
      },
      "text/plain": [
       "Drawing 10000 posterior samples:   0%|          | 0/10000 [00:00<?, ?it/s]"
      ]
     },
     "metadata": {},
     "output_type": "display_data"
    },
    {
     "data": {
      "application/vnd.jupyter.widget-view+json": {
       "model_id": "2c3c1ea67347411582b18c09719f14f9",
       "version_major": 2,
       "version_minor": 0
      },
      "text/plain": [
       "Drawing 10000 posterior samples:   0%|          | 0/10000 [00:00<?, ?it/s]"
      ]
     },
     "metadata": {},
     "output_type": "display_data"
    },
    {
     "data": {
      "application/vnd.jupyter.widget-view+json": {
       "model_id": "8faf91cf64c942e6b2f25c564d9bec67",
       "version_major": 2,
       "version_minor": 0
      },
      "text/plain": [
       "Drawing 10000 posterior samples:   0%|          | 0/10000 [00:00<?, ?it/s]"
      ]
     },
     "metadata": {},
     "output_type": "display_data"
    },
    {
     "data": {
      "application/vnd.jupyter.widget-view+json": {
       "model_id": "126e0a884fe04e08893c26feff0646b1",
       "version_major": 2,
       "version_minor": 0
      },
      "text/plain": [
       "Drawing 10000 posterior samples:   0%|          | 0/10000 [00:00<?, ?it/s]"
      ]
     },
     "metadata": {},
     "output_type": "display_data"
    },
    {
     "data": {
      "application/vnd.jupyter.widget-view+json": {
       "model_id": "5af548dd52f7480cac5929cf980c5ea8",
       "version_major": 2,
       "version_minor": 0
      },
      "text/plain": [
       "Drawing 10000 posterior samples:   0%|          | 0/10000 [00:00<?, ?it/s]"
      ]
     },
     "metadata": {},
     "output_type": "display_data"
    },
    {
     "data": {
      "application/vnd.jupyter.widget-view+json": {
       "model_id": "f3b985e86b5844fdb9820e86e5add625",
       "version_major": 2,
       "version_minor": 0
      },
      "text/plain": [
       "Drawing 10000 posterior samples:   0%|          | 0/10000 [00:00<?, ?it/s]"
      ]
     },
     "metadata": {},
     "output_type": "display_data"
    },
    {
     "data": {
      "application/vnd.jupyter.widget-view+json": {
       "model_id": "2f53411f76b54c63a37dc27fb30f2bd7",
       "version_major": 2,
       "version_minor": 0
      },
      "text/plain": [
       "Drawing 10000 posterior samples:   0%|          | 0/10000 [00:00<?, ?it/s]"
      ]
     },
     "metadata": {},
     "output_type": "display_data"
    },
    {
     "data": {
      "application/vnd.jupyter.widget-view+json": {
       "model_id": "800e4ae8a38142e59bc5bd03011c9b73",
       "version_major": 2,
       "version_minor": 0
      },
      "text/plain": [
       "Drawing 10000 posterior samples:   0%|          | 0/10000 [00:00<?, ?it/s]"
      ]
     },
     "metadata": {},
     "output_type": "display_data"
    },
    {
     "data": {
      "application/vnd.jupyter.widget-view+json": {
       "model_id": "d5fe5f74bcc54b00befb212ee3500461",
       "version_major": 2,
       "version_minor": 0
      },
      "text/plain": [
       "Drawing 10000 posterior samples:   0%|          | 0/10000 [00:00<?, ?it/s]"
      ]
     },
     "metadata": {},
     "output_type": "display_data"
    },
    {
     "data": {
      "application/vnd.jupyter.widget-view+json": {
       "model_id": "4b0510defa194c03aac0bb921d261a97",
       "version_major": 2,
       "version_minor": 0
      },
      "text/plain": [
       "Drawing 10000 posterior samples:   0%|          | 0/10000 [00:00<?, ?it/s]"
      ]
     },
     "metadata": {},
     "output_type": "display_data"
    },
    {
     "data": {
      "application/vnd.jupyter.widget-view+json": {
       "model_id": "a678cbc5775242268b2a0fdfe6828877",
       "version_major": 2,
       "version_minor": 0
      },
      "text/plain": [
       "Drawing 10000 posterior samples:   0%|          | 0/10000 [00:00<?, ?it/s]"
      ]
     },
     "metadata": {},
     "output_type": "display_data"
    },
    {
     "data": {
      "application/vnd.jupyter.widget-view+json": {
       "model_id": "ae8afe65461b495dbaa7871c49cd3dc7",
       "version_major": 2,
       "version_minor": 0
      },
      "text/plain": [
       "Drawing 10000 posterior samples:   0%|          | 0/10000 [00:00<?, ?it/s]"
      ]
     },
     "metadata": {},
     "output_type": "display_data"
    },
    {
     "data": {
      "application/vnd.jupyter.widget-view+json": {
       "model_id": "bf5edfc5490548eab931cc57a600ceb0",
       "version_major": 2,
       "version_minor": 0
      },
      "text/plain": [
       "Drawing 10000 posterior samples:   0%|          | 0/10000 [00:00<?, ?it/s]"
      ]
     },
     "metadata": {},
     "output_type": "display_data"
    },
    {
     "data": {
      "application/vnd.jupyter.widget-view+json": {
       "model_id": "ec977b0b950a44989bf4ff7183cc1594",
       "version_major": 2,
       "version_minor": 0
      },
      "text/plain": [
       "Drawing 10000 posterior samples:   0%|          | 0/10000 [00:00<?, ?it/s]"
      ]
     },
     "metadata": {},
     "output_type": "display_data"
    },
    {
     "data": {
      "application/vnd.jupyter.widget-view+json": {
       "model_id": "8d4b79d040384b55a1af35e3a3b45ffa",
       "version_major": 2,
       "version_minor": 0
      },
      "text/plain": [
       "Drawing 10000 posterior samples:   0%|          | 0/10000 [00:00<?, ?it/s]"
      ]
     },
     "metadata": {},
     "output_type": "display_data"
    },
    {
     "data": {
      "application/vnd.jupyter.widget-view+json": {
       "model_id": "46c18a2246c947ecb9bbdb505c5edbea",
       "version_major": 2,
       "version_minor": 0
      },
      "text/plain": [
       "Drawing 10000 posterior samples:   0%|          | 0/10000 [00:00<?, ?it/s]"
      ]
     },
     "metadata": {},
     "output_type": "display_data"
    },
    {
     "data": {
      "application/vnd.jupyter.widget-view+json": {
       "model_id": "b26cc8632fd8477d98807b01cb3af83e",
       "version_major": 2,
       "version_minor": 0
      },
      "text/plain": [
       "Drawing 10000 posterior samples:   0%|          | 0/10000 [00:00<?, ?it/s]"
      ]
     },
     "metadata": {},
     "output_type": "display_data"
    },
    {
     "data": {
      "application/vnd.jupyter.widget-view+json": {
       "model_id": "2a4c423c68a848e6869f39c594331805",
       "version_major": 2,
       "version_minor": 0
      },
      "text/plain": [
       "Drawing 10000 posterior samples:   0%|          | 0/10000 [00:00<?, ?it/s]"
      ]
     },
     "metadata": {},
     "output_type": "display_data"
    },
    {
     "data": {
      "application/vnd.jupyter.widget-view+json": {
       "model_id": "755457f442124fd1a034f612ec91cf7d",
       "version_major": 2,
       "version_minor": 0
      },
      "text/plain": [
       "Drawing 10000 posterior samples:   0%|          | 0/10000 [00:00<?, ?it/s]"
      ]
     },
     "metadata": {},
     "output_type": "display_data"
    },
    {
     "data": {
      "application/vnd.jupyter.widget-view+json": {
       "model_id": "178c570495bf46ffab2a3ccd3bfb0f5e",
       "version_major": 2,
       "version_minor": 0
      },
      "text/plain": [
       "Drawing 10000 posterior samples:   0%|          | 0/10000 [00:00<?, ?it/s]"
      ]
     },
     "metadata": {},
     "output_type": "display_data"
    },
    {
     "data": {
      "application/vnd.jupyter.widget-view+json": {
       "model_id": "81409f4e59ec47c3a5d754cd386dab39",
       "version_major": 2,
       "version_minor": 0
      },
      "text/plain": [
       "Drawing 10000 posterior samples:   0%|          | 0/10000 [00:00<?, ?it/s]"
      ]
     },
     "metadata": {},
     "output_type": "display_data"
    },
    {
     "data": {
      "application/vnd.jupyter.widget-view+json": {
       "model_id": "c62d070b0466428aa699a9bb95803281",
       "version_major": 2,
       "version_minor": 0
      },
      "text/plain": [
       "Drawing 10000 posterior samples:   0%|          | 0/10000 [00:00<?, ?it/s]"
      ]
     },
     "metadata": {},
     "output_type": "display_data"
    },
    {
     "data": {
      "application/vnd.jupyter.widget-view+json": {
       "model_id": "62c8e849aa754f0aa5993f2210ab1c7f",
       "version_major": 2,
       "version_minor": 0
      },
      "text/plain": [
       "Drawing 10000 posterior samples:   0%|          | 0/10000 [00:00<?, ?it/s]"
      ]
     },
     "metadata": {},
     "output_type": "display_data"
    },
    {
     "data": {
      "application/vnd.jupyter.widget-view+json": {
       "model_id": "80c02c45d5b04b56a2ddd7b2cef90b18",
       "version_major": 2,
       "version_minor": 0
      },
      "text/plain": [
       "Drawing 10000 posterior samples:   0%|          | 0/10000 [00:00<?, ?it/s]"
      ]
     },
     "metadata": {},
     "output_type": "display_data"
    },
    {
     "data": {
      "application/vnd.jupyter.widget-view+json": {
       "model_id": "f35d0dc8dfe74be2a3df136010239b7c",
       "version_major": 2,
       "version_minor": 0
      },
      "text/plain": [
       "Drawing 10000 posterior samples:   0%|          | 0/10000 [00:00<?, ?it/s]"
      ]
     },
     "metadata": {},
     "output_type": "display_data"
    },
    {
     "data": {
      "application/vnd.jupyter.widget-view+json": {
       "model_id": "b5f15cf6e1a94b6789c5f065369ddf28",
       "version_major": 2,
       "version_minor": 0
      },
      "text/plain": [
       "Drawing 10000 posterior samples:   0%|          | 0/10000 [00:00<?, ?it/s]"
      ]
     },
     "metadata": {},
     "output_type": "display_data"
    }
   ],
   "source": [
    "post_spss_raw = []\n",
    "for ix in range(ind_psd.shape[-1]):\n",
    "    curC = ind_conn[:, :, ix]\n",
    "    curBrain = Brain.Brain()\n",
    "    curBrain.add_connectome(DAT_ROOT) # grabs distance matrix\n",
    "    # re-ordering for DK atlas and normalizing the connectomes:\n",
    "    curBrain.reorder_connectome(curBrain.connectome, curBrain.distance_matrix)\n",
    "    curBrain.connectome = curC# re-assign connectome to individual connectome\n",
    "    curBrain.bi_symmetric_c()\n",
    "    curBrain.reduce_extreme_dir()\n",
    "        \n",
    "    sp, raw_sps = meg_psd2spatialfeature(curBrain.reducedConnectome, ind_psd[:, :, ix], FREQS, band=\"alpha\")\n",
    "    \n",
    "    std_spv = stdz_vec(raw_sps.sum(axis=1))\n",
    "    std_psd_DB = psd_2tr(ind_psd[:, :, ix])\n",
    "    \n",
    "    curX_raw = np.concatenate([std_psd_DB.flatten(), std_spv])\n",
    "    curX = torch.Tensor(curX_raw)\n",
    "    post_sps_raw = cur_res.posterior.sample((10000, ), x=curX, max_sampling_batch_size=100000)\n",
    "    post_spss_raw.append(post_sps_raw.numpy())\n",
    "        "
   ]
  },
  {
   "cell_type": "code",
   "execution_count": 101,
   "id": "40eae794",
   "metadata": {
    "ExecuteTime": {
     "end_time": "2022-11-02T02:29:01.213138Z",
     "start_time": "2022-11-02T02:29:01.070172Z"
    }
   },
   "outputs": [
    {
     "name": "stdout",
     "output_type": "stream",
     "text": [
      "/data/rajlab1/user_data/jin/MyResearch/SBI-SGM/mypkg/../results/generalNoiseRawReparam_10000_sd20_denestnsf_embedFalse/theta_raw.pkl exists! Use is_force=True to save it anyway\n",
      "/data/rajlab1/user_data/jin/MyResearch/SBI-SGM/mypkg/../results/generalNoiseRawReparam_10000_sd20_denestnsf_embedFalse/x.pkl exists! Use is_force=True to save it anyway\n",
      "/data/rajlab1/user_data/jin/MyResearch/SBI-SGM/mypkg/../results/generalNoiseRawReparam_10000_sd20_denestnsf_embedFalse/posterior.pkl exists! Use is_force=True to save it anyway\n",
      "Save to /data/rajlab1/user_data/jin/MyResearch/SBI-SGM/mypkg/../results/generalNoiseRawReparam_10000_sd20_denestnsf_embedFalse/post_spss_raw.pkl\n"
     ]
    }
   ],
   "source": [
    "cur_res.post_spss_raw = post_spss_raw\n",
    "save_pkl_dict2folder(_paras.folder_path, cur_res, False)"
   ]
  },
  {
   "cell_type": "code",
   "execution_count": 168,
   "id": "6b39a8f9",
   "metadata": {
    "ExecuteTime": {
     "end_time": "2022-11-01T05:37:44.751661Z",
     "start_time": "2022-11-01T05:37:43.299418Z"
    }
   },
   "outputs": [
    {
     "data": {
      "image/png": "[encoded data removed]",
      "text/plain": [
       "<Figure size 576x576 with 49 Axes>"
      ]
     },
     "metadata": {
      "needs_background": "light"
     },
     "output_type": "display_data"
    }
   ],
   "source": [
    "# taue, taui, tauC, speed, alpha, gii, gei\n",
    "_ = analysis.pairplot(cur_res.post_spss_raw[0], \n",
    "                      #limits=paras.prior_bds,\n",
    "                      labels=['taue','taui','tauG','speed','alpha','gii','gei'], \n",
    "                      figsize=(8,8))"
   ]
  },
  {
   "cell_type": "code",
   "execution_count": 102,
   "id": "aa1dcb31",
   "metadata": {
    "ExecuteTime": {
     "end_time": "2022-11-02T02:29:01.506851Z",
     "start_time": "2022-11-02T02:29:01.215789Z"
    }
   },
   "outputs": [
    {
     "name": "stdout",
     "output_type": "stream",
     "text": [
      "/data/rajlab1/user_data/jin/MyResearch/SBI-SGM/mypkg/../results/generalNoiseRawReparam_10000_sd20_denestnsf_embedFalse/theta_raw.pkl exists! Use is_force=True to save it anyway\n",
      "/data/rajlab1/user_data/jin/MyResearch/SBI-SGM/mypkg/../results/generalNoiseRawReparam_10000_sd20_denestnsf_embedFalse/x.pkl exists! Use is_force=True to save it anyway\n",
      "/data/rajlab1/user_data/jin/MyResearch/SBI-SGM/mypkg/../results/generalNoiseRawReparam_10000_sd20_denestnsf_embedFalse/posterior.pkl exists! Use is_force=True to save it anyway\n",
      "/data/rajlab1/user_data/jin/MyResearch/SBI-SGM/mypkg/../results/generalNoiseRawReparam_10000_sd20_denestnsf_embedFalse/post_spss_raw.pkl exists! Use is_force=True to save it anyway\n",
      "Save to /data/rajlab1/user_data/jin/MyResearch/SBI-SGM/mypkg/../results/generalNoiseRawReparam_10000_sd20_denestnsf_embedFalse/post_spss.pkl\n"
     ]
    }
   ],
   "source": [
    "# from theta_raw to theta\n",
    "post_spss = [_theta_raw_2out(post_sps_raw, paras.prior_bds) for post_sps_raw in cur_res.post_spss_raw]\n",
    "\n",
    "cur_res.post_spss = post_spss\n",
    "save_pkl_dict2folder(_paras.folder_path, cur_res, False)"
   ]
  },
  {
   "cell_type": "code",
   "execution_count": 72,
   "id": "8e52ae29",
   "metadata": {
    "ExecuteTime": {
     "end_time": "2022-11-02T01:21:51.713916Z",
     "start_time": "2022-11-02T01:21:49.654510Z"
    }
   },
   "outputs": [
    {
     "data": {
      "image/png": "[encoded data removed]",
      "text/plain": [
       "<Figure size 576x576 with 49 Axes>"
      ]
     },
     "metadata": {
      "needs_background": "light"
     },
     "output_type": "display_data"
    }
   ],
   "source": [
    "# taue, taui, tauC, speed, alpha, gii, gei\n",
    "_ = analysis.pairplot(cur_res.post_spss[0], \n",
    "                      limits=paras.prior_bds,\n",
    "                      labels=['taue','taui','tauG','speed','alpha','gii','gei'], \n",
    "                      figsize=(8,8))"
   ]
  },
  {
   "cell_type": "code",
   "execution_count": null,
   "id": "8f0b70b3",
   "metadata": {},
   "outputs": [],
   "source": []
  },
  {
   "cell_type": "markdown",
   "id": "b71633d4",
   "metadata": {},
   "source": [
    "#### PSD estimate"
   ]
  },
  {
   "cell_type": "code",
   "execution_count": 19,
   "id": "37dc02f7",
   "metadata": {
    "ExecuteTime": {
     "end_time": "2022-11-01T17:01:50.393934Z",
     "start_time": "2022-11-01T17:01:47.224786Z"
    }
   },
   "outputs": [
    {
     "name": "stdout",
     "output_type": "stream",
     "text": [
      "Load file /data/rajlab1/user_data/jin/MyResearch/SBI-SGM/mypkg/../results/generalNoiseRawReparam_20000_sd20_denestnsf_embedFalse/theta_raw.pkl\n",
      "Load file /data/rajlab1/user_data/jin/MyResearch/SBI-SGM/mypkg/../results/generalNoiseRawReparam_20000_sd20_denestnsf_embedFalse/x.pkl\n",
      "Load file /data/rajlab1/user_data/jin/MyResearch/SBI-SGM/mypkg/../results/generalNoiseRawReparam_20000_sd20_denestnsf_embedFalse/posterior.pkl\n",
      "Load file /data/rajlab1/user_data/jin/MyResearch/SBI-SGM/mypkg/../results/generalNoiseRawReparam_20000_sd20_denestnsf_embedFalse/post_spss_raw.pkl\n",
      "Load file /data/rajlab1/user_data/jin/MyResearch/SBI-SGM/mypkg/../results/generalNoiseRawReparam_20000_sd20_denestnsf_embedFalse/post_spss.pkl\n"
     ]
    }
   ],
   "source": [
    "cur_res = load_pkl_folder2dict(_paras.folder_path)"
   ]
  },
  {
   "cell_type": "code",
   "execution_count": 103,
   "id": "a109dfe4",
   "metadata": {
    "ExecuteTime": {
     "end_time": "2022-11-02T02:29:43.389668Z",
     "start_time": "2022-11-02T02:29:01.510748Z"
    },
    "scrolled": true
   },
   "outputs": [
    {
     "name": "stderr",
     "output_type": "stream",
     "text": [
      "100%|██████████████████████████████████████████████████████████████████████████████████████████████████████████████████████████████████████████| 36/36 [00:41<00:00,  1.16s/it]\n"
     ]
    }
   ],
   "source": [
    "# the estimated PSD and spatial feature from SGM  \n",
    "\n",
    "# way 1\n",
    "cur_est_parass = np.array([np.median(ps, axis=0) for ps in cur_res.post_spss])\n",
    "\n",
    "# way 2\n",
    "#cur_est_parass = np.array([[get_mode(ps[:, ix]) for ix in range(7)] for ps in cur_res.post_spss])\n",
    "\n",
    "# way 3\n",
    "#cur_est_parass_raw = np.array([np.median(ps, axis=0) for ps in cur_res.post_spss_raw])\n",
    "#cur_est_parass = _theta_raw_2out(cur_est_parass_raw, paras.prior_bds)\n",
    "\n",
    "# way 4\n",
    "#cur_est_parass_raw = np.array([[get_mode(ps[:, ix]) for ix in range(7)] for ps in cur_res.post_spss_raw])\n",
    "#cur_est_parass = _theta_raw_2out(cur_est_parass_raw, paras.prior_bds)\n",
    "\n",
    "std_psd_DB = []\n",
    "raw_sp = []\n",
    "for ix in trange(36):\n",
    "    cur_est_paras = cur_est_parass[ix, :]\n",
    "    \n",
    "    cur_conn = ind_conn[:, :, ix]\n",
    "    cur_brain = Brain.Brain()\n",
    "    cur_brain.add_connectome(DAT_ROOT) # grabs distance matrix\n",
    "    cur_brain.reorder_connectome(cur_brain.connectome, cur_brain.distance_matrix)\n",
    "    cur_brain.connectome = cur_conn# re-assign connectome to individual connectome\n",
    "    cur_brain.bi_symmetric_c()\n",
    "    cur_brain.reduce_extreme_dir()\n",
    "    \n",
    "    cur_SGM_model = SGM(cur_brain.reducedConnectome, cur_brain.distance_matrix, FREQS)\n",
    "    cur_psd, cur_sp = cur_SGM_model.run_local_coupling_forward(cur_est_paras)\n",
    "    cur_psd = cur_psd[:68, :]\n",
    "    cur_psd_DB = psd_2tr(cur_psd)\n",
    "    \n",
    "    std_psd_DB.append(cur_psd_DB)\n",
    "    raw_sp.append(cur_sp.sum(axis=1))\n",
    "    "
   ]
  },
  {
   "cell_type": "code",
   "execution_count": 104,
   "id": "04e89f61",
   "metadata": {
    "ExecuteTime": {
     "end_time": "2022-11-02T02:29:43.404310Z",
     "start_time": "2022-11-02T02:29:43.391705Z"
    }
   },
   "outputs": [
    {
     "name": "stdout",
     "output_type": "stream",
     "text": [
      "Corr is 0.987\n"
     ]
    }
   ],
   "source": [
    "sgm_psd_curve = np.array(std_psd_DB).mean(axis=1).mean(axis=0)\n",
    "meg_psd_curve = np.mean([psd_2tr(ind_psd[:, :, ix]).mean(axis=0) for ix in range(36)], axis=0)\n",
    "cor = scipy.stats.pearsonr(stdz_vec(meg_psd_curve), stdz_vec(sgm_psd_curve))[0]\n",
    "print(f\"Corr is {cor:.3f}\")"
   ]
  },
  {
   "cell_type": "code",
   "execution_count": 105,
   "id": "7f65133a",
   "metadata": {
    "ExecuteTime": {
     "end_time": "2022-11-02T02:29:43.561310Z",
     "start_time": "2022-11-02T02:29:43.406104Z"
    }
   },
   "outputs": [
    {
     "data": {
      "text/plain": [
       "<matplotlib.legend.Legend at 0x7fe5a82d9b50>"
      ]
     },
     "execution_count": 105,
     "metadata": {},
     "output_type": "execute_result"
    },
    {
     "data": {
      "image/png": "[encoded data removed]",
      "text/plain": [
       "<Figure size 360x360 with 1 Axes>"
      ]
     },
     "metadata": {
      "needs_background": "light"
     },
     "output_type": "display_data"
    }
   ],
   "source": [
    "plt.figure(figsize=[5, 5])\n",
    "plt.plot(FREQS, stdz_vec(meg_psd_curve), linestyle = '-',\n",
    "         marker = 's',fillstyle = 'none',color = 'k', label = \"MEG\", alpha = 0.8)\n",
    "plt.plot(FREQS, stdz_vec(sgm_psd_curve), linestyle = '-',\n",
    "         marker = 'o',fillstyle = 'none',color = 'b', label = \"M-SGM\", alpha = 0.8)\n",
    "plt.xlabel('Frequency (Hz)', fontsize = 17)\n",
    "plt.ylabel('Normalized PSD', fontsize = 17)\n",
    "plt.legend()"
   ]
  },
  {
   "cell_type": "code",
   "execution_count": null,
   "id": "8cda20e3",
   "metadata": {},
   "outputs": [],
   "source": []
  },
  {
   "cell_type": "code",
   "execution_count": 106,
   "id": "952e788f",
   "metadata": {
    "ExecuteTime": {
     "end_time": "2022-11-02T02:29:43.674141Z",
     "start_time": "2022-11-02T02:29:43.562163Z"
    }
   },
   "outputs": [],
   "source": [
    "# Corrs for PSD and spatial features for each subject\n",
    "meg_psd_roi_sub = np.array([psd_2tr(ind_psd[:, :, ix]) for ix in range(36)])\n",
    "sgm_psd_roi_sub = np.array(std_psd_DB)\n",
    "\n",
    "corrs_roi_sub = []\n",
    "for ix in range(meg_psd_roi_sub.shape[0]):\n",
    "    cur_meg = meg_psd_roi_sub[ix]\n",
    "    cur_sgm = sgm_psd_roi_sub[ix]\n",
    "    corrs_roi_sub.append(np.mean([scipy.stats.pearsonr(cur_meg[iy], cur_sgm[iy])[0] for iy in range(68)]))\n",
    "corrs_roi_sub = np.array(corrs_roi_sub)"
   ]
  },
  {
   "cell_type": "code",
   "execution_count": 107,
   "id": "47a59e01",
   "metadata": {
    "ExecuteTime": {
     "end_time": "2022-11-02T02:29:43.689073Z",
     "start_time": "2022-11-02T02:29:43.674933Z"
    }
   },
   "outputs": [
    {
     "data": {
      "text/plain": [
       "array([0.55289899, 0.69674997, 0.7164141 , 0.74623511, 0.8000085 ,\n",
       "       0.81140745, 0.81413199, 0.81725706, 0.82122651, 0.83121165,\n",
       "       0.8338062 , 0.83974544, 0.83999671, 0.84400452, 0.85021649,\n",
       "       0.85381467, 0.85555093, 0.85987917, 0.86269684, 0.86562754,\n",
       "       0.86649103, 0.86741274, 0.87026628, 0.87608524, 0.87838431,\n",
       "       0.88051525, 0.88938885, 0.89197174, 0.89485812, 0.89577566,\n",
       "       0.89785946, 0.89797796, 0.90055215, 0.90904091, 0.91259949,\n",
       "       0.93040619])"
      ]
     },
     "execution_count": 107,
     "metadata": {},
     "output_type": "execute_result"
    }
   ],
   "source": [
    "np.sort(corrs_roi_sub)"
   ]
  },
  {
   "cell_type": "code",
   "execution_count": 108,
   "id": "c0fd924b",
   "metadata": {
    "ExecuteTime": {
     "end_time": "2022-11-02T02:29:43.713911Z",
     "start_time": "2022-11-02T02:29:43.690305Z"
    }
   },
   "outputs": [
    {
     "name": "stdout",
     "output_type": "stream",
     "text": [
      "0.8612880042232248 0.8436795900191779\n"
     ]
    }
   ],
   "source": [
    "print(np.median(corrs_roi_sub), np.mean(corrs_roi_sub))"
   ]
  },
  {
   "cell_type": "code",
   "execution_count": 109,
   "id": "20903cdb",
   "metadata": {
    "ExecuteTime": {
     "end_time": "2022-11-02T02:29:43.739246Z",
     "start_time": "2022-11-02T02:29:43.717232Z"
    }
   },
   "outputs": [
    {
     "data": {
      "text/plain": [
       "array([24,  4, 21, 34, 22, 10, 32,  3, 18, 25,  0,  5, 35, 26,  9, 15, 11,\n",
       "       28, 27, 33,  2, 19,  7, 14,  8,  1,  6, 31, 13, 17, 23, 16, 20, 12,\n",
       "       29, 30])"
      ]
     },
     "execution_count": 109,
     "metadata": {},
     "output_type": "execute_result"
    }
   ],
   "source": [
    "np.argsort(corrs_roi_sub)"
   ]
  },
  {
   "cell_type": "code",
   "execution_count": 110,
   "id": "38238167",
   "metadata": {
    "ExecuteTime": {
     "end_time": "2022-11-02T02:29:43.901879Z",
     "start_time": "2022-11-02T02:29:43.741484Z"
    }
   },
   "outputs": [
    {
     "data": {
      "text/plain": [
       "<matplotlib.legend.Legend at 0x7fe5a6e98a60>"
      ]
     },
     "execution_count": 110,
     "metadata": {},
     "output_type": "execute_result"
    },
    {
     "data": {
      "image/png": "[encoded data removed]",
      "text/plain": [
       "<Figure size 432x288 with 1 Axes>"
      ]
     },
     "metadata": {
      "needs_background": "light"
     },
     "output_type": "display_data"
    }
   ],
   "source": [
    "sub_ix = 1\n",
    "cur_sgm.shape\n",
    "plt.plot(FREQS, stdz_vec(meg_psd_roi_sub[sub_ix, :, :].mean(axis=0)), linestyle = '-',\n",
    "         marker = 's',fillstyle = 'none',color = 'k', label = \"MEG\", alpha = 0.8)\n",
    "plt.plot(FREQS, stdz_vec(sgm_psd_roi_sub[sub_ix, :, :].mean(axis=0)), linestyle = '-',\n",
    "         marker = 'o',fillstyle = 'none',color = 'b', label = \"M-SGM\", alpha = 0.8)\n",
    "plt.legend()"
   ]
  },
  {
   "cell_type": "code",
   "execution_count": 111,
   "id": "dc5a7cdd",
   "metadata": {
    "ExecuteTime": {
     "end_time": "2022-11-02T02:29:44.018337Z",
     "start_time": "2022-11-02T02:29:43.902707Z"
    }
   },
   "outputs": [
    {
     "data": {
      "text/plain": [
       "<matplotlib.legend.Legend at 0x7fe59698cee0>"
      ]
     },
     "execution_count": 111,
     "metadata": {},
     "output_type": "execute_result"
    },
    {
     "data": {
      "image/png": "[encoded data removed]",
      "text/plain": [
       "<Figure size 432x288 with 1 Axes>"
      ]
     },
     "metadata": {
      "needs_background": "light"
     },
     "output_type": "display_data"
    }
   ],
   "source": [
    "sub_ix = 24\n",
    "roi_ix = 1\n",
    "cur_sgm.shape\n",
    "plt.plot(FREQS, stdz_vec(meg_psd_roi_sub[sub_ix, roi_ix, :]), linestyle = '-',\n",
    "         marker = 's',fillstyle = 'none',color = 'k', label = \"MEG\", alpha = 0.8)\n",
    "plt.plot(FREQS, stdz_vec(sgm_psd_roi_sub[sub_ix, roi_ix, :]), linestyle = '-',\n",
    "         marker = 'o',fillstyle = 'none',color = 'b', label = \"M-SGM\", alpha = 0.8)\n",
    "plt.legend()"
   ]
  },
  {
   "cell_type": "code",
   "execution_count": 32,
   "id": "128e03f9",
   "metadata": {
    "ExecuteTime": {
     "end_time": "2022-11-01T23:50:41.009836Z",
     "start_time": "2022-11-01T23:50:37.252263Z"
    }
   },
   "outputs": [
    {
     "name": "stdout",
     "output_type": "stream",
     "text": [
      "Save to /data/rajlab1/user_data/jin/MyResearch/SBI-SGM/mypkg/../results/generalNoiseRawReparam_20000_sd20_denestnsf_embedTrue/theta_raw.pkl\n",
      "Save to /data/rajlab1/user_data/jin/MyResearch/SBI-SGM/mypkg/../results/generalNoiseRawReparam_20000_sd20_denestnsf_embedTrue/x.pkl\n",
      "Save to /data/rajlab1/user_data/jin/MyResearch/SBI-SGM/mypkg/../results/generalNoiseRawReparam_20000_sd20_denestnsf_embedTrue/posterior.pkl\n",
      "Save to /data/rajlab1/user_data/jin/MyResearch/SBI-SGM/mypkg/../results/generalNoiseRawReparam_20000_sd20_denestnsf_embedTrue/embedding_net.pkl\n",
      "Save to /data/rajlab1/user_data/jin/MyResearch/SBI-SGM/mypkg/../results/generalNoiseRawReparam_20000_sd20_denestnsf_embedTrue/post_spss_raw.pkl\n",
      "Save to /data/rajlab1/user_data/jin/MyResearch/SBI-SGM/mypkg/../results/generalNoiseRawReparam_20000_sd20_denestnsf_embedTrue/post_spss.pkl\n",
      "Save to /data/rajlab1/user_data/jin/MyResearch/SBI-SGM/mypkg/../results/generalNoiseRawReparam_20000_sd20_denestnsf_embedTrue/raw_sp.pkl\n",
      "Save to /data/rajlab1/user_data/jin/MyResearch/SBI-SGM/mypkg/../results/generalNoiseRawReparam_20000_sd20_denestnsf_embedTrue/std_psd_DB.pkl\n"
     ]
    }
   ],
   "source": [
    "cur_res.raw_sp = raw_sp\n",
    "cur_res.std_psd_DB = std_psd_DB\n",
    "save_pkl_dict2folder(_paras.folder_path, cur_res, True)"
   ]
  },
  {
   "cell_type": "code",
   "execution_count": null,
   "id": "7e7ff003",
   "metadata": {},
   "outputs": [],
   "source": []
  },
  {
   "cell_type": "markdown",
   "id": "791c1440",
   "metadata": {},
   "source": [
    "### Another way to do the inference"
   ]
  },
  {
   "cell_type": "code",
   "execution_count": 112,
   "id": "4a1726e0",
   "metadata": {
    "ExecuteTime": {
     "end_time": "2022-11-02T02:33:01.975327Z",
     "start_time": "2022-11-02T02:29:44.019134Z"
    }
   },
   "outputs": [
    {
     "name": "stdout",
     "output_type": "stream",
     "text": [
      "0\n"
     ]
    },
    {
     "data": {
      "application/vnd.jupyter.widget-view+json": {
       "model_id": "b574601d364a4e9a9a24893df2a140c6",
       "version_major": 2,
       "version_minor": 0
      },
      "text/plain": [
       "Drawing 100 posterior samples:   0%|          | 0/100 [00:00<?, ?it/s]"
      ]
     },
     "metadata": {},
     "output_type": "display_data"
    },
    {
     "data": {
      "application/vnd.jupyter.widget-view+json": {
       "model_id": "64dfafdd51884f0db5a0a228fb07f879",
       "version_major": 2,
       "version_minor": 0
      },
      "text/plain": [
       "Running 100 simulations in 100 batches.:   0%|          | 0/100 [00:00<?, ?it/s]"
      ]
     },
     "metadata": {},
     "output_type": "display_data"
    },
    {
     "name": "stderr",
     "output_type": "stream",
     "text": [
      "/opt/conda/lib/python3.9/site-packages/scipy/__init__.py:146: UserWarning: A NumPy version >=1.16.5 and <1.23.0 is required for this version of SciPy (detected version 1.23.1\n",
      "  warnings.warn(f\"A NumPy version >={np_minversion} and <{np_maxversion}\"\n",
      "/opt/conda/lib/python3.9/site-packages/scipy/__init__.py:146: UserWarning: A NumPy version >=1.16.5 and <1.23.0 is required for this version of SciPy (detected version 1.23.1\n",
      "  warnings.warn(f\"A NumPy version >={np_minversion} and <{np_maxversion}\"\n",
      "/opt/conda/lib/python3.9/site-packages/scipy/__init__.py:146: UserWarning: A NumPy version >=1.16.5 and <1.23.0 is required for this version of SciPy (detected version 1.23.1\n",
      "  warnings.warn(f\"A NumPy version >={np_minversion} and <{np_maxversion}\"\n",
      "/opt/conda/lib/python3.9/site-packages/scipy/__init__.py:146: UserWarning: A NumPy version >=1.16.5 and <1.23.0 is required for this version of SciPy (detected version 1.23.1\n",
      "  warnings.warn(f\"A NumPy version >={np_minversion} and <{np_maxversion}\"\n",
      "/opt/conda/lib/python3.9/site-packages/scipy/__init__.py:146: UserWarning: A NumPy version >=1.16.5 and <1.23.0 is required for this version of SciPy (detected version 1.23.1\n",
      "  warnings.warn(f\"A NumPy version >={np_minversion} and <{np_maxversion}\"\n",
      "/opt/conda/lib/python3.9/site-packages/scipy/__init__.py:146: UserWarning: A NumPy version >=1.16.5 and <1.23.0 is required for this version of SciPy (detected version 1.23.1\n",
      "  warnings.warn(f\"A NumPy version >={np_minversion} and <{np_maxversion}\"\n",
      "/opt/conda/lib/python3.9/site-packages/scipy/__init__.py:146: UserWarning: A NumPy version >=1.16.5 and <1.23.0 is required for this version of SciPy (detected version 1.23.1\n",
      "  warnings.warn(f\"A NumPy version >={np_minversion} and <{np_maxversion}\"\n",
      "/opt/conda/lib/python3.9/site-packages/scipy/__init__.py:146: UserWarning: A NumPy version >=1.16.5 and <1.23.0 is required for this version of SciPy (detected version 1.23.1\n",
      "  warnings.warn(f\"A NumPy version >={np_minversion} and <{np_maxversion}\"\n",
      "/opt/conda/lib/python3.9/site-packages/scipy/__init__.py:146: UserWarning: A NumPy version >=1.16.5 and <1.23.0 is required for this version of SciPy (detected version 1.23.1\n",
      "  warnings.warn(f\"A NumPy version >={np_minversion} and <{np_maxversion}\"\n",
      "/opt/conda/lib/python3.9/site-packages/scipy/__init__.py:146: UserWarning: A NumPy version >=1.16.5 and <1.23.0 is required for this version of SciPy (detected version 1.23.1\n",
      "  warnings.warn(f\"A NumPy version >={np_minversion} and <{np_maxversion}\"\n",
      "/opt/conda/lib/python3.9/site-packages/scipy/__init__.py:146: UserWarning: A NumPy version >=1.16.5 and <1.23.0 is required for this version of SciPy (detected version 1.23.1\n",
      "  warnings.warn(f\"A NumPy version >={np_minversion} and <{np_maxversion}\"\n",
      "/opt/conda/lib/python3.9/site-packages/scipy/__init__.py:146: UserWarning: A NumPy version >=1.16.5 and <1.23.0 is required for this version of SciPy (detected version 1.23.1\n",
      "  warnings.warn(f\"A NumPy version >={np_minversion} and <{np_maxversion}\"\n",
      "/opt/conda/lib/python3.9/site-packages/scipy/__init__.py:146: UserWarning: A NumPy version >=1.16.5 and <1.23.0 is required for this version of SciPy (detected version 1.23.1\n",
      "  warnings.warn(f\"A NumPy version >={np_minversion} and <{np_maxversion}\"\n",
      "/opt/conda/lib/python3.9/site-packages/scipy/__init__.py:146: UserWarning: A NumPy version >=1.16.5 and <1.23.0 is required for this version of SciPy (detected version 1.23.1\n",
      "  warnings.warn(f\"A NumPy version >={np_minversion} and <{np_maxversion}\"\n",
      "/opt/conda/lib/python3.9/site-packages/scipy/__init__.py:146: UserWarning: A NumPy version >=1.16.5 and <1.23.0 is required for this version of SciPy (detected version 1.23.1\n",
      "  warnings.warn(f\"A NumPy version >={np_minversion} and <{np_maxversion}\"\n",
      "/opt/conda/lib/python3.9/site-packages/scipy/__init__.py:146: UserWarning: A NumPy version >=1.16.5 and <1.23.0 is required for this version of SciPy (detected version 1.23.1\n",
      "  warnings.warn(f\"A NumPy version >={np_minversion} and <{np_maxversion}\"\n",
      "/opt/conda/lib/python3.9/site-packages/scipy/__init__.py:146: UserWarning: A NumPy version >=1.16.5 and <1.23.0 is required for this version of SciPy (detected version 1.23.1\n",
      "  warnings.warn(f\"A NumPy version >={np_minversion} and <{np_maxversion}\"\n",
      "/opt/conda/lib/python3.9/site-packages/scipy/__init__.py:146: UserWarning: A NumPy version >=1.16.5 and <1.23.0 is required for this version of SciPy (detected version 1.23.1\n",
      "  warnings.warn(f\"A NumPy version >={np_minversion} and <{np_maxversion}\"\n",
      "/opt/conda/lib/python3.9/site-packages/scipy/__init__.py:146: UserWarning: A NumPy version >=1.16.5 and <1.23.0 is required for this version of SciPy (detected version 1.23.1\n",
      "  warnings.warn(f\"A NumPy version >={np_minversion} and <{np_maxversion}\"\n",
      "/opt/conda/lib/python3.9/site-packages/scipy/__init__.py:146: UserWarning: A NumPy version >=1.16.5 and <1.23.0 is required for this version of SciPy (detected version 1.23.1\n",
      "  warnings.warn(f\"A NumPy version >={np_minversion} and <{np_maxversion}\"\n",
      "/opt/conda/lib/python3.9/site-packages/scipy/__init__.py:146: UserWarning: A NumPy version >=1.16.5 and <1.23.0 is required for this version of SciPy (detected version 1.23.1\n",
      "  warnings.warn(f\"A NumPy version >={np_minversion} and <{np_maxversion}\"\n",
      "/opt/conda/lib/python3.9/site-packages/scipy/__init__.py:146: UserWarning: A NumPy version >=1.16.5 and <1.23.0 is required for this version of SciPy (detected version 1.23.1\n",
      "  warnings.warn(f\"A NumPy version >={np_minversion} and <{np_maxversion}\"\n",
      "/opt/conda/lib/python3.9/site-packages/scipy/__init__.py:146: UserWarning: A NumPy version >=1.16.5 and <1.23.0 is required for this version of SciPy (detected version 1.23.1\n",
      "  warnings.warn(f\"A NumPy version >={np_minversion} and <{np_maxversion}\"\n",
      "/opt/conda/lib/python3.9/site-packages/scipy/__init__.py:146: UserWarning: A NumPy version >=1.16.5 and <1.23.0 is required for this version of SciPy (detected version 1.23.1\n",
      "  warnings.warn(f\"A NumPy version >={np_minversion} and <{np_maxversion}\"\n",
      "/opt/conda/lib/python3.9/site-packages/scipy/__init__.py:146: UserWarning: A NumPy version >=1.16.5 and <1.23.0 is required for this version of SciPy (detected version 1.23.1\n",
      "  warnings.warn(f\"A NumPy version >={np_minversion} and <{np_maxversion}\"\n",
      "/opt/conda/lib/python3.9/site-packages/scipy/__init__.py:146: UserWarning: A NumPy version >=1.16.5 and <1.23.0 is required for this version of SciPy (detected version 1.23.1\n",
      "  warnings.warn(f\"A NumPy version >={np_minversion} and <{np_maxversion}\"\n",
      "/opt/conda/lib/python3.9/site-packages/scipy/__init__.py:146: UserWarning: A NumPy version >=1.16.5 and <1.23.0 is required for this version of SciPy (detected version 1.23.1\n",
      "  warnings.warn(f\"A NumPy version >={np_minversion} and <{np_maxversion}\"\n",
      "/opt/conda/lib/python3.9/site-packages/scipy/__init__.py:146: UserWarning: A NumPy version >=1.16.5 and <1.23.0 is required for this version of SciPy (detected version 1.23.1\n",
      "  warnings.warn(f\"A NumPy version >={np_minversion} and <{np_maxversion}\"\n",
      "/opt/conda/lib/python3.9/site-packages/scipy/__init__.py:146: UserWarning: A NumPy version >=1.16.5 and <1.23.0 is required for this version of SciPy (detected version 1.23.1\n",
      "  warnings.warn(f\"A NumPy version >={np_minversion} and <{np_maxversion}\"\n",
      "/opt/conda/lib/python3.9/site-packages/scipy/__init__.py:146: UserWarning: A NumPy version >=1.16.5 and <1.23.0 is required for this version of SciPy (detected version 1.23.1\n",
      "  warnings.warn(f\"A NumPy version >={np_minversion} and <{np_maxversion}\"\n",
      "/opt/conda/lib/python3.9/site-packages/scipy/__init__.py:146: UserWarning: A NumPy version >=1.16.5 and <1.23.0 is required for this version of SciPy (detected version 1.23.1\n",
      "  warnings.warn(f\"A NumPy version >={np_minversion} and <{np_maxversion}\"\n",
      "/opt/conda/lib/python3.9/site-packages/scipy/__init__.py:146: UserWarning: A NumPy version >=1.16.5 and <1.23.0 is required for this version of SciPy (detected version 1.23.1\n",
      "  warnings.warn(f\"A NumPy version >={np_minversion} and <{np_maxversion}\"\n",
      "/opt/conda/lib/python3.9/site-packages/scipy/__init__.py:146: UserWarning: A NumPy version >=1.16.5 and <1.23.0 is required for this version of SciPy (detected version 1.23.1\n",
      "  warnings.warn(f\"A NumPy version >={np_minversion} and <{np_maxversion}\"\n"
     ]
    },
    {
     "name": "stderr",
     "output_type": "stream",
     "text": [
      "/opt/conda/lib/python3.9/site-packages/scipy/__init__.py:146: UserWarning: A NumPy version >=1.16.5 and <1.23.0 is required for this version of SciPy (detected version 1.23.1\n",
      "  warnings.warn(f\"A NumPy version >={np_minversion} and <{np_maxversion}\"\n",
      "/opt/conda/lib/python3.9/site-packages/scipy/__init__.py:146: UserWarning: A NumPy version >=1.16.5 and <1.23.0 is required for this version of SciPy (detected version 1.23.1\n",
      "  warnings.warn(f\"A NumPy version >={np_minversion} and <{np_maxversion}\"\n",
      "/opt/conda/lib/python3.9/site-packages/scipy/__init__.py:146: UserWarning: A NumPy version >=1.16.5 and <1.23.0 is required for this version of SciPy (detected version 1.23.1\n",
      "  warnings.warn(f\"A NumPy version >={np_minversion} and <{np_maxversion}\"\n",
      "/opt/conda/lib/python3.9/site-packages/scipy/__init__.py:146: UserWarning: A NumPy version >=1.16.5 and <1.23.0 is required for this version of SciPy (detected version 1.23.1\n",
      "  warnings.warn(f\"A NumPy version >={np_minversion} and <{np_maxversion}\"\n",
      "/opt/conda/lib/python3.9/site-packages/scipy/__init__.py:146: UserWarning: A NumPy version >=1.16.5 and <1.23.0 is required for this version of SciPy (detected version 1.23.1\n",
      "  warnings.warn(f\"A NumPy version >={np_minversion} and <{np_maxversion}\"\n",
      "/opt/conda/lib/python3.9/site-packages/scipy/__init__.py:146: UserWarning: A NumPy version >=1.16.5 and <1.23.0 is required for this version of SciPy (detected version 1.23.1\n",
      "  warnings.warn(f\"A NumPy version >={np_minversion} and <{np_maxversion}\"\n",
      "/opt/conda/lib/python3.9/site-packages/scipy/__init__.py:146: UserWarning: A NumPy version >=1.16.5 and <1.23.0 is required for this version of SciPy (detected version 1.23.1\n",
      "  warnings.warn(f\"A NumPy version >={np_minversion} and <{np_maxversion}\"\n",
      "/opt/conda/lib/python3.9/site-packages/scipy/__init__.py:146: UserWarning: A NumPy version >=1.16.5 and <1.23.0 is required for this version of SciPy (detected version 1.23.1\n",
      "  warnings.warn(f\"A NumPy version >={np_minversion} and <{np_maxversion}\"\n",
      "/opt/conda/lib/python3.9/site-packages/scipy/__init__.py:146: UserWarning: A NumPy version >=1.16.5 and <1.23.0 is required for this version of SciPy (detected version 1.23.1\n",
      "  warnings.warn(f\"A NumPy version >={np_minversion} and <{np_maxversion}\"\n",
      "/opt/conda/lib/python3.9/site-packages/scipy/__init__.py:146: UserWarning: A NumPy version >=1.16.5 and <1.23.0 is required for this version of SciPy (detected version 1.23.1\n",
      "  warnings.warn(f\"A NumPy version >={np_minversion} and <{np_maxversion}\"\n",
      "/opt/conda/lib/python3.9/site-packages/scipy/__init__.py:146: UserWarning: A NumPy version >=1.16.5 and <1.23.0 is required for this version of SciPy (detected version 1.23.1\n",
      "  warnings.warn(f\"A NumPy version >={np_minversion} and <{np_maxversion}\"\n",
      "/opt/conda/lib/python3.9/site-packages/scipy/__init__.py:146: UserWarning: A NumPy version >=1.16.5 and <1.23.0 is required for this version of SciPy (detected version 1.23.1\n",
      "  warnings.warn(f\"A NumPy version >={np_minversion} and <{np_maxversion}\"\n",
      "/opt/conda/lib/python3.9/site-packages/scipy/__init__.py:146: UserWarning: A NumPy version >=1.16.5 and <1.23.0 is required for this version of SciPy (detected version 1.23.1\n",
      "  warnings.warn(f\"A NumPy version >={np_minversion} and <{np_maxversion}\"\n",
      "/opt/conda/lib/python3.9/site-packages/scipy/__init__.py:146: UserWarning: A NumPy version >=1.16.5 and <1.23.0 is required for this version of SciPy (detected version 1.23.1\n",
      "  warnings.warn(f\"A NumPy version >={np_minversion} and <{np_maxversion}\"\n",
      "/opt/conda/lib/python3.9/site-packages/scipy/__init__.py:146: UserWarning: A NumPy version >=1.16.5 and <1.23.0 is required for this version of SciPy (detected version 1.23.1\n",
      "  warnings.warn(f\"A NumPy version >={np_minversion} and <{np_maxversion}\"\n",
      "/opt/conda/lib/python3.9/site-packages/scipy/__init__.py:146: UserWarning: A NumPy version >=1.16.5 and <1.23.0 is required for this version of SciPy (detected version 1.23.1\n",
      "  warnings.warn(f\"A NumPy version >={np_minversion} and <{np_maxversion}\"\n",
      "/opt/conda/lib/python3.9/site-packages/scipy/__init__.py:146: UserWarning: A NumPy version >=1.16.5 and <1.23.0 is required for this version of SciPy (detected version 1.23.1\n",
      "  warnings.warn(f\"A NumPy version >={np_minversion} and <{np_maxversion}\"\n"
     ]
    },
    {
     "name": "stdout",
     "output_type": "stream",
     "text": [
      "1\n"
     ]
    },
    {
     "data": {
      "application/vnd.jupyter.widget-view+json": {
       "model_id": "3ae3f0db66d14382a42795fdb5c8435d",
       "version_major": 2,
       "version_minor": 0
      },
      "text/plain": [
       "Drawing 100 posterior samples:   0%|          | 0/100 [00:00<?, ?it/s]"
      ]
     },
     "metadata": {},
     "output_type": "display_data"
    },
    {
     "data": {
      "application/vnd.jupyter.widget-view+json": {
       "model_id": "81d97ba90f554dc0a879dc5b504583e1",
       "version_major": 2,
       "version_minor": 0
      },
      "text/plain": [
       "Running 100 simulations in 100 batches.:   0%|          | 0/100 [00:00<?, ?it/s]"
      ]
     },
     "metadata": {},
     "output_type": "display_data"
    },
    {
     "name": "stdout",
     "output_type": "stream",
     "text": [
      "2\n"
     ]
    },
    {
     "data": {
      "application/vnd.jupyter.widget-view+json": {
       "model_id": "5a8ca25e50084f34aacf22f28872c67a",
       "version_major": 2,
       "version_minor": 0
      },
      "text/plain": [
       "Drawing 100 posterior samples:   0%|          | 0/100 [00:00<?, ?it/s]"
      ]
     },
     "metadata": {},
     "output_type": "display_data"
    },
    {
     "data": {
      "application/vnd.jupyter.widget-view+json": {
       "model_id": "8d25d657272d443e9c8d1acd560b5bf0",
       "version_major": 2,
       "version_minor": 0
      },
      "text/plain": [
       "Running 100 simulations in 100 batches.:   0%|          | 0/100 [00:00<?, ?it/s]"
      ]
     },
     "metadata": {},
     "output_type": "display_data"
    },
    {
     "name": "stdout",
     "output_type": "stream",
     "text": [
      "3\n"
     ]
    },
    {
     "data": {
      "application/vnd.jupyter.widget-view+json": {
       "model_id": "9e19f94be1ff41928d78196f39fe7ee2",
       "version_major": 2,
       "version_minor": 0
      },
      "text/plain": [
       "Drawing 100 posterior samples:   0%|          | 0/100 [00:00<?, ?it/s]"
      ]
     },
     "metadata": {},
     "output_type": "display_data"
    },
    {
     "data": {
      "application/vnd.jupyter.widget-view+json": {
       "model_id": "d8abd5119ede4fad892f061047517f08",
       "version_major": 2,
       "version_minor": 0
      },
      "text/plain": [
       "Running 100 simulations in 100 batches.:   0%|          | 0/100 [00:00<?, ?it/s]"
      ]
     },
     "metadata": {},
     "output_type": "display_data"
    },
    {
     "name": "stdout",
     "output_type": "stream",
     "text": [
      "4\n"
     ]
    },
    {
     "data": {
      "application/vnd.jupyter.widget-view+json": {
       "model_id": "532b84d170ce46f3b762d081abf4ab39",
       "version_major": 2,
       "version_minor": 0
      },
      "text/plain": [
       "Drawing 100 posterior samples:   0%|          | 0/100 [00:00<?, ?it/s]"
      ]
     },
     "metadata": {},
     "output_type": "display_data"
    },
    {
     "data": {
      "application/vnd.jupyter.widget-view+json": {
       "model_id": "a6bea50936d7437487ee0ff64bf48e3a",
       "version_major": 2,
       "version_minor": 0
      },
      "text/plain": [
       "Running 100 simulations in 100 batches.:   0%|          | 0/100 [00:00<?, ?it/s]"
      ]
     },
     "metadata": {},
     "output_type": "display_data"
    },
    {
     "name": "stdout",
     "output_type": "stream",
     "text": [
      "5\n"
     ]
    },
    {
     "data": {
      "application/vnd.jupyter.widget-view+json": {
       "model_id": "0b82b95e2af241279822575c6f060683",
       "version_major": 2,
       "version_minor": 0
      },
      "text/plain": [
       "Drawing 100 posterior samples:   0%|          | 0/100 [00:00<?, ?it/s]"
      ]
     },
     "metadata": {},
     "output_type": "display_data"
    },
    {
     "data": {
      "application/vnd.jupyter.widget-view+json": {
       "model_id": "2103c7a865c74505871c51d779848c2b",
       "version_major": 2,
       "version_minor": 0
      },
      "text/plain": [
       "Running 100 simulations in 100 batches.:   0%|          | 0/100 [00:00<?, ?it/s]"
      ]
     },
     "metadata": {},
     "output_type": "display_data"
    },
    {
     "name": "stdout",
     "output_type": "stream",
     "text": [
      "6\n"
     ]
    },
    {
     "data": {
      "application/vnd.jupyter.widget-view+json": {
       "model_id": "ed16f146aff44dcea0d3211a73b8909a",
       "version_major": 2,
       "version_minor": 0
      },
      "text/plain": [
       "Drawing 100 posterior samples:   0%|          | 0/100 [00:00<?, ?it/s]"
      ]
     },
     "metadata": {},
     "output_type": "display_data"
    },
    {
     "data": {
      "application/vnd.jupyter.widget-view+json": {
       "model_id": "8c92d3c0671e4721bbef3d643f9aa1ad",
       "version_major": 2,
       "version_minor": 0
      },
      "text/plain": [
       "Running 100 simulations in 100 batches.:   0%|          | 0/100 [00:00<?, ?it/s]"
      ]
     },
     "metadata": {},
     "output_type": "display_data"
    },
    {
     "name": "stdout",
     "output_type": "stream",
     "text": [
      "7\n"
     ]
    },
    {
     "data": {
      "application/vnd.jupyter.widget-view+json": {
       "model_id": "0d4e8cc048b146dca6b01cdd7868c3fd",
       "version_major": 2,
       "version_minor": 0
      },
      "text/plain": [
       "Drawing 100 posterior samples:   0%|          | 0/100 [00:00<?, ?it/s]"
      ]
     },
     "metadata": {},
     "output_type": "display_data"
    },
    {
     "data": {
      "application/vnd.jupyter.widget-view+json": {
       "model_id": "dd0ebce62ac54016a997ce0e8547b87e",
       "version_major": 2,
       "version_minor": 0
      },
      "text/plain": [
       "Running 100 simulations in 100 batches.:   0%|          | 0/100 [00:00<?, ?it/s]"
      ]
     },
     "metadata": {},
     "output_type": "display_data"
    },
    {
     "name": "stdout",
     "output_type": "stream",
     "text": [
      "8\n"
     ]
    },
    {
     "data": {
      "application/vnd.jupyter.widget-view+json": {
       "model_id": "85557d9d458b468f838538edc1b817d6",
       "version_major": 2,
       "version_minor": 0
      },
      "text/plain": [
       "Drawing 100 posterior samples:   0%|          | 0/100 [00:00<?, ?it/s]"
      ]
     },
     "metadata": {},
     "output_type": "display_data"
    },
    {
     "data": {
      "application/vnd.jupyter.widget-view+json": {
       "model_id": "9772fc90c5684dc2913baeb31eaafa06",
       "version_major": 2,
       "version_minor": 0
      },
      "text/plain": [
       "Running 100 simulations in 100 batches.:   0%|          | 0/100 [00:00<?, ?it/s]"
      ]
     },
     "metadata": {},
     "output_type": "display_data"
    },
    {
     "name": "stdout",
     "output_type": "stream",
     "text": [
      "9\n"
     ]
    },
    {
     "data": {
      "application/vnd.jupyter.widget-view+json": {
       "model_id": "7bbbbf1b10764a93a228f85728e0779d",
       "version_major": 2,
       "version_minor": 0
      },
      "text/plain": [
       "Drawing 100 posterior samples:   0%|          | 0/100 [00:00<?, ?it/s]"
      ]
     },
     "metadata": {},
     "output_type": "display_data"
    },
    {
     "data": {
      "application/vnd.jupyter.widget-view+json": {
       "model_id": "aa67870d792346628ae59bd45566a27a",
       "version_major": 2,
       "version_minor": 0
      },
      "text/plain": [
       "Running 100 simulations in 100 batches.:   0%|          | 0/100 [00:00<?, ?it/s]"
      ]
     },
     "metadata": {},
     "output_type": "display_data"
    },
    {
     "name": "stdout",
     "output_type": "stream",
     "text": [
      "10\n"
     ]
    },
    {
     "data": {
      "application/vnd.jupyter.widget-view+json": {
       "model_id": "1605c7f6066143ffad53e72373e7d6a7",
       "version_major": 2,
       "version_minor": 0
      },
      "text/plain": [
       "Drawing 100 posterior samples:   0%|          | 0/100 [00:00<?, ?it/s]"
      ]
     },
     "metadata": {},
     "output_type": "display_data"
    },
    {
     "data": {
      "application/vnd.jupyter.widget-view+json": {
       "model_id": "4bf19d92b0934a3ea29d582fc1e2eaec",
       "version_major": 2,
       "version_minor": 0
      },
      "text/plain": [
       "Running 100 simulations in 100 batches.:   0%|          | 0/100 [00:00<?, ?it/s]"
      ]
     },
     "metadata": {},
     "output_type": "display_data"
    },
    {
     "name": "stdout",
     "output_type": "stream",
     "text": [
      "11\n"
     ]
    },
    {
     "data": {
      "application/vnd.jupyter.widget-view+json": {
       "model_id": "fa2c3494008d46d8a94bebca9d2f4ba6",
       "version_major": 2,
       "version_minor": 0
      },
      "text/plain": [
       "Drawing 100 posterior samples:   0%|          | 0/100 [00:00<?, ?it/s]"
      ]
     },
     "metadata": {},
     "output_type": "display_data"
    },
    {
     "data": {
      "application/vnd.jupyter.widget-view+json": {
       "model_id": "75b926cbacca454dab830532603ab166",
       "version_major": 2,
       "version_minor": 0
      },
      "text/plain": [
       "Running 100 simulations in 100 batches.:   0%|          | 0/100 [00:00<?, ?it/s]"
      ]
     },
     "metadata": {},
     "output_type": "display_data"
    },
    {
     "name": "stdout",
     "output_type": "stream",
     "text": [
      "12\n"
     ]
    },
    {
     "data": {
      "application/vnd.jupyter.widget-view+json": {
       "model_id": "f3a8f00e12204d52988d6367a695c054",
       "version_major": 2,
       "version_minor": 0
      },
      "text/plain": [
       "Drawing 100 posterior samples:   0%|          | 0/100 [00:00<?, ?it/s]"
      ]
     },
     "metadata": {},
     "output_type": "display_data"
    },
    {
     "data": {
      "application/vnd.jupyter.widget-view+json": {
       "model_id": "47b7e3dd96404deeb3371bceb633cb11",
       "version_major": 2,
       "version_minor": 0
      },
      "text/plain": [
       "Running 100 simulations in 100 batches.:   0%|          | 0/100 [00:00<?, ?it/s]"
      ]
     },
     "metadata": {},
     "output_type": "display_data"
    },
    {
     "name": "stdout",
     "output_type": "stream",
     "text": [
      "13\n"
     ]
    },
    {
     "data": {
      "application/vnd.jupyter.widget-view+json": {
       "model_id": "5d175816091c4a499843c6853ca78c1c",
       "version_major": 2,
       "version_minor": 0
      },
      "text/plain": [
       "Drawing 100 posterior samples:   0%|          | 0/100 [00:00<?, ?it/s]"
      ]
     },
     "metadata": {},
     "output_type": "display_data"
    },
    {
     "data": {
      "application/vnd.jupyter.widget-view+json": {
       "model_id": "ee9c11131baa4e0597ec48fe1370b74b",
       "version_major": 2,
       "version_minor": 0
      },
      "text/plain": [
       "Running 100 simulations in 100 batches.:   0%|          | 0/100 [00:00<?, ?it/s]"
      ]
     },
     "metadata": {},
     "output_type": "display_data"
    },
    {
     "name": "stdout",
     "output_type": "stream",
     "text": [
      "14\n"
     ]
    },
    {
     "data": {
      "application/vnd.jupyter.widget-view+json": {
       "model_id": "fb880f2b7ce343bbb8b723c8deaeaf95",
       "version_major": 2,
       "version_minor": 0
      },
      "text/plain": [
       "Drawing 100 posterior samples:   0%|          | 0/100 [00:00<?, ?it/s]"
      ]
     },
     "metadata": {},
     "output_type": "display_data"
    },
    {
     "data": {
      "application/vnd.jupyter.widget-view+json": {
       "model_id": "2f8eb19075ce42c3a157f2c6dc18d071",
       "version_major": 2,
       "version_minor": 0
      },
      "text/plain": [
       "Running 100 simulations in 100 batches.:   0%|          | 0/100 [00:00<?, ?it/s]"
      ]
     },
     "metadata": {},
     "output_type": "display_data"
    },
    {
     "name": "stdout",
     "output_type": "stream",
     "text": [
      "15\n"
     ]
    },
    {
     "data": {
      "application/vnd.jupyter.widget-view+json": {
       "model_id": "298316cba9f14935ae7b5910b29dd995",
       "version_major": 2,
       "version_minor": 0
      },
      "text/plain": [
       "Drawing 100 posterior samples:   0%|          | 0/100 [00:00<?, ?it/s]"
      ]
     },
     "metadata": {},
     "output_type": "display_data"
    },
    {
     "data": {
      "application/vnd.jupyter.widget-view+json": {
       "model_id": "5cc27083255a405990aa9278d3082657",
       "version_major": 2,
       "version_minor": 0
      },
      "text/plain": [
       "Running 100 simulations in 100 batches.:   0%|          | 0/100 [00:00<?, ?it/s]"
      ]
     },
     "metadata": {},
     "output_type": "display_data"
    },
    {
     "name": "stdout",
     "output_type": "stream",
     "text": [
      "16\n"
     ]
    },
    {
     "data": {
      "application/vnd.jupyter.widget-view+json": {
       "model_id": "47bea1c4785a45a0a7ce293ade522880",
       "version_major": 2,
       "version_minor": 0
      },
      "text/plain": [
       "Drawing 100 posterior samples:   0%|          | 0/100 [00:00<?, ?it/s]"
      ]
     },
     "metadata": {},
     "output_type": "display_data"
    },
    {
     "data": {
      "application/vnd.jupyter.widget-view+json": {
       "model_id": "97b75677c14042f382779920437a6776",
       "version_major": 2,
       "version_minor": 0
      },
      "text/plain": [
       "Running 100 simulations in 100 batches.:   0%|          | 0/100 [00:00<?, ?it/s]"
      ]
     },
     "metadata": {},
     "output_type": "display_data"
    },
    {
     "name": "stdout",
     "output_type": "stream",
     "text": [
      "17\n"
     ]
    },
    {
     "data": {
      "application/vnd.jupyter.widget-view+json": {
       "model_id": "014c8b6968914d9095bd6aa6db7c4407",
       "version_major": 2,
       "version_minor": 0
      },
      "text/plain": [
       "Drawing 100 posterior samples:   0%|          | 0/100 [00:00<?, ?it/s]"
      ]
     },
     "metadata": {},
     "output_type": "display_data"
    },
    {
     "data": {
      "application/vnd.jupyter.widget-view+json": {
       "model_id": "e943a36c0fc941459bca67a206aa24e5",
       "version_major": 2,
       "version_minor": 0
      },
      "text/plain": [
       "Running 100 simulations in 100 batches.:   0%|          | 0/100 [00:00<?, ?it/s]"
      ]
     },
     "metadata": {},
     "output_type": "display_data"
    },
    {
     "name": "stdout",
     "output_type": "stream",
     "text": [
      "18\n"
     ]
    },
    {
     "data": {
      "application/vnd.jupyter.widget-view+json": {
       "model_id": "bf82e0c0db874622854ebb4150e67d8c",
       "version_major": 2,
       "version_minor": 0
      },
      "text/plain": [
       "Drawing 100 posterior samples:   0%|          | 0/100 [00:00<?, ?it/s]"
      ]
     },
     "metadata": {},
     "output_type": "display_data"
    },
    {
     "data": {
      "application/vnd.jupyter.widget-view+json": {
       "model_id": "060594b71eb84586a47ec30a712b1abb",
       "version_major": 2,
       "version_minor": 0
      },
      "text/plain": [
       "Running 100 simulations in 100 batches.:   0%|          | 0/100 [00:00<?, ?it/s]"
      ]
     },
     "metadata": {},
     "output_type": "display_data"
    },
    {
     "name": "stdout",
     "output_type": "stream",
     "text": [
      "19\n"
     ]
    },
    {
     "data": {
      "application/vnd.jupyter.widget-view+json": {
       "model_id": "af72fe074474427a9af8a40587039c9e",
       "version_major": 2,
       "version_minor": 0
      },
      "text/plain": [
       "Drawing 100 posterior samples:   0%|          | 0/100 [00:00<?, ?it/s]"
      ]
     },
     "metadata": {},
     "output_type": "display_data"
    },
    {
     "data": {
      "application/vnd.jupyter.widget-view+json": {
       "model_id": "24c27f5800d640c4bd106889133ba67c",
       "version_major": 2,
       "version_minor": 0
      },
      "text/plain": [
       "Running 100 simulations in 100 batches.:   0%|          | 0/100 [00:00<?, ?it/s]"
      ]
     },
     "metadata": {},
     "output_type": "display_data"
    },
    {
     "name": "stdout",
     "output_type": "stream",
     "text": [
      "20\n"
     ]
    },
    {
     "data": {
      "application/vnd.jupyter.widget-view+json": {
       "model_id": "3d1142764c7942c79014d6b58c56d610",
       "version_major": 2,
       "version_minor": 0
      },
      "text/plain": [
       "Drawing 100 posterior samples:   0%|          | 0/100 [00:00<?, ?it/s]"
      ]
     },
     "metadata": {},
     "output_type": "display_data"
    },
    {
     "data": {
      "application/vnd.jupyter.widget-view+json": {
       "model_id": "f40435593c3349ef887a9dcaeb3ff0ba",
       "version_major": 2,
       "version_minor": 0
      },
      "text/plain": [
       "Running 100 simulations in 100 batches.:   0%|          | 0/100 [00:00<?, ?it/s]"
      ]
     },
     "metadata": {},
     "output_type": "display_data"
    },
    {
     "name": "stdout",
     "output_type": "stream",
     "text": [
      "21\n"
     ]
    },
    {
     "data": {
      "application/vnd.jupyter.widget-view+json": {
       "model_id": "ad431e096b674c918456d7715eefbf47",
       "version_major": 2,
       "version_minor": 0
      },
      "text/plain": [
       "Drawing 100 posterior samples:   0%|          | 0/100 [00:00<?, ?it/s]"
      ]
     },
     "metadata": {},
     "output_type": "display_data"
    },
    {
     "data": {
      "application/vnd.jupyter.widget-view+json": {
       "model_id": "049bb36bf98e47758231ecbda08de2c8",
       "version_major": 2,
       "version_minor": 0
      },
      "text/plain": [
       "Running 100 simulations in 100 batches.:   0%|          | 0/100 [00:00<?, ?it/s]"
      ]
     },
     "metadata": {},
     "output_type": "display_data"
    },
    {
     "name": "stdout",
     "output_type": "stream",
     "text": [
      "22\n"
     ]
    },
    {
     "data": {
      "application/vnd.jupyter.widget-view+json": {
       "model_id": "7284add2bcde49c881f10a74a3209877",
       "version_major": 2,
       "version_minor": 0
      },
      "text/plain": [
       "Drawing 100 posterior samples:   0%|          | 0/100 [00:00<?, ?it/s]"
      ]
     },
     "metadata": {},
     "output_type": "display_data"
    },
    {
     "data": {
      "application/vnd.jupyter.widget-view+json": {
       "model_id": "9f3a4386245b478ca10cf6803ede2adf",
       "version_major": 2,
       "version_minor": 0
      },
      "text/plain": [
       "Running 100 simulations in 100 batches.:   0%|          | 0/100 [00:00<?, ?it/s]"
      ]
     },
     "metadata": {},
     "output_type": "display_data"
    },
    {
     "name": "stdout",
     "output_type": "stream",
     "text": [
      "23\n"
     ]
    },
    {
     "data": {
      "application/vnd.jupyter.widget-view+json": {
       "model_id": "b7c96f0f7fa442b69bc338c6e1539226",
       "version_major": 2,
       "version_minor": 0
      },
      "text/plain": [
       "Drawing 100 posterior samples:   0%|          | 0/100 [00:00<?, ?it/s]"
      ]
     },
     "metadata": {},
     "output_type": "display_data"
    },
    {
     "data": {
      "application/vnd.jupyter.widget-view+json": {
       "model_id": "2bd7a37d96224832bff7b930b5ba32d7",
       "version_major": 2,
       "version_minor": 0
      },
      "text/plain": [
       "Running 100 simulations in 100 batches.:   0%|          | 0/100 [00:00<?, ?it/s]"
      ]
     },
     "metadata": {},
     "output_type": "display_data"
    },
    {
     "name": "stdout",
     "output_type": "stream",
     "text": [
      "24\n"
     ]
    },
    {
     "data": {
      "application/vnd.jupyter.widget-view+json": {
       "model_id": "3b44484080b04e24a19f7c61b84ff115",
       "version_major": 2,
       "version_minor": 0
      },
      "text/plain": [
       "Drawing 100 posterior samples:   0%|          | 0/100 [00:00<?, ?it/s]"
      ]
     },
     "metadata": {},
     "output_type": "display_data"
    },
    {
     "data": {
      "application/vnd.jupyter.widget-view+json": {
       "model_id": "60da851e91bf4b77b512c0d2895297c2",
       "version_major": 2,
       "version_minor": 0
      },
      "text/plain": [
       "Running 100 simulations in 100 batches.:   0%|          | 0/100 [00:00<?, ?it/s]"
      ]
     },
     "metadata": {},
     "output_type": "display_data"
    },
    {
     "name": "stdout",
     "output_type": "stream",
     "text": [
      "25\n"
     ]
    },
    {
     "data": {
      "application/vnd.jupyter.widget-view+json": {
       "model_id": "b3b6410cf00241349fc888f753f50bde",
       "version_major": 2,
       "version_minor": 0
      },
      "text/plain": [
       "Drawing 100 posterior samples:   0%|          | 0/100 [00:00<?, ?it/s]"
      ]
     },
     "metadata": {},
     "output_type": "display_data"
    },
    {
     "data": {
      "application/vnd.jupyter.widget-view+json": {
       "model_id": "18d05d72ddef42a98c17800504c014c5",
       "version_major": 2,
       "version_minor": 0
      },
      "text/plain": [
       "Running 100 simulations in 100 batches.:   0%|          | 0/100 [00:00<?, ?it/s]"
      ]
     },
     "metadata": {},
     "output_type": "display_data"
    },
    {
     "name": "stdout",
     "output_type": "stream",
     "text": [
      "26\n"
     ]
    },
    {
     "data": {
      "application/vnd.jupyter.widget-view+json": {
       "model_id": "08b8e2a86e494efcb846b24d59f7ffc2",
       "version_major": 2,
       "version_minor": 0
      },
      "text/plain": [
       "Drawing 100 posterior samples:   0%|          | 0/100 [00:00<?, ?it/s]"
      ]
     },
     "metadata": {},
     "output_type": "display_data"
    },
    {
     "data": {
      "application/vnd.jupyter.widget-view+json": {
       "model_id": "f42997c803b5463b8a2a2efdc0971228",
       "version_major": 2,
       "version_minor": 0
      },
      "text/plain": [
       "Running 100 simulations in 100 batches.:   0%|          | 0/100 [00:00<?, ?it/s]"
      ]
     },
     "metadata": {},
     "output_type": "display_data"
    },
    {
     "name": "stdout",
     "output_type": "stream",
     "text": [
      "27\n"
     ]
    },
    {
     "data": {
      "application/vnd.jupyter.widget-view+json": {
       "model_id": "709e5b44b27a4b3a929a5156fc6025b7",
       "version_major": 2,
       "version_minor": 0
      },
      "text/plain": [
       "Drawing 100 posterior samples:   0%|          | 0/100 [00:00<?, ?it/s]"
      ]
     },
     "metadata": {},
     "output_type": "display_data"
    },
    {
     "data": {
      "application/vnd.jupyter.widget-view+json": {
       "model_id": "c06c52d9d6c54977a12dc113063a0dc5",
       "version_major": 2,
       "version_minor": 0
      },
      "text/plain": [
       "Running 100 simulations in 100 batches.:   0%|          | 0/100 [00:00<?, ?it/s]"
      ]
     },
     "metadata": {},
     "output_type": "display_data"
    },
    {
     "name": "stdout",
     "output_type": "stream",
     "text": [
      "28\n"
     ]
    },
    {
     "data": {
      "application/vnd.jupyter.widget-view+json": {
       "model_id": "5114caa92de04feb9a2d7f0a818ec5b6",
       "version_major": 2,
       "version_minor": 0
      },
      "text/plain": [
       "Drawing 100 posterior samples:   0%|          | 0/100 [00:00<?, ?it/s]"
      ]
     },
     "metadata": {},
     "output_type": "display_data"
    },
    {
     "data": {
      "application/vnd.jupyter.widget-view+json": {
       "model_id": "2a6bd22f88514ba9986a5058a70d7ad6",
       "version_major": 2,
       "version_minor": 0
      },
      "text/plain": [
       "Running 100 simulations in 100 batches.:   0%|          | 0/100 [00:00<?, ?it/s]"
      ]
     },
     "metadata": {},
     "output_type": "display_data"
    },
    {
     "name": "stdout",
     "output_type": "stream",
     "text": [
      "29\n"
     ]
    },
    {
     "data": {
      "application/vnd.jupyter.widget-view+json": {
       "model_id": "585f8e75d4d04fed8212b464c5ce6858",
       "version_major": 2,
       "version_minor": 0
      },
      "text/plain": [
       "Drawing 100 posterior samples:   0%|          | 0/100 [00:00<?, ?it/s]"
      ]
     },
     "metadata": {},
     "output_type": "display_data"
    },
    {
     "data": {
      "application/vnd.jupyter.widget-view+json": {
       "model_id": "94a719d0dd35464e99f9ce701fd75bcc",
       "version_major": 2,
       "version_minor": 0
      },
      "text/plain": [
       "Running 100 simulations in 100 batches.:   0%|          | 0/100 [00:00<?, ?it/s]"
      ]
     },
     "metadata": {},
     "output_type": "display_data"
    },
    {
     "name": "stdout",
     "output_type": "stream",
     "text": [
      "30\n"
     ]
    },
    {
     "data": {
      "application/vnd.jupyter.widget-view+json": {
       "model_id": "e0e75ae00644485db813bc2e6f747f51",
       "version_major": 2,
       "version_minor": 0
      },
      "text/plain": [
       "Drawing 100 posterior samples:   0%|          | 0/100 [00:00<?, ?it/s]"
      ]
     },
     "metadata": {},
     "output_type": "display_data"
    },
    {
     "data": {
      "application/vnd.jupyter.widget-view+json": {
       "model_id": "6f4c4196b9704de3a27d979ea0062e5e",
       "version_major": 2,
       "version_minor": 0
      },
      "text/plain": [
       "Running 100 simulations in 100 batches.:   0%|          | 0/100 [00:00<?, ?it/s]"
      ]
     },
     "metadata": {},
     "output_type": "display_data"
    },
    {
     "name": "stdout",
     "output_type": "stream",
     "text": [
      "31\n"
     ]
    },
    {
     "data": {
      "application/vnd.jupyter.widget-view+json": {
       "model_id": "17ae59b0873e42f2ba6fb51f5d61e3d7",
       "version_major": 2,
       "version_minor": 0
      },
      "text/plain": [
       "Drawing 100 posterior samples:   0%|          | 0/100 [00:00<?, ?it/s]"
      ]
     },
     "metadata": {},
     "output_type": "display_data"
    },
    {
     "data": {
      "application/vnd.jupyter.widget-view+json": {
       "model_id": "cb6a270cebdd464892ebf5a3d1529d46",
       "version_major": 2,
       "version_minor": 0
      },
      "text/plain": [
       "Running 100 simulations in 100 batches.:   0%|          | 0/100 [00:00<?, ?it/s]"
      ]
     },
     "metadata": {},
     "output_type": "display_data"
    },
    {
     "name": "stdout",
     "output_type": "stream",
     "text": [
      "32\n"
     ]
    },
    {
     "data": {
      "application/vnd.jupyter.widget-view+json": {
       "model_id": "1f56a5e5630d41f9826f6fc46ce886ec",
       "version_major": 2,
       "version_minor": 0
      },
      "text/plain": [
       "Drawing 100 posterior samples:   0%|          | 0/100 [00:00<?, ?it/s]"
      ]
     },
     "metadata": {},
     "output_type": "display_data"
    },
    {
     "data": {
      "application/vnd.jupyter.widget-view+json": {
       "model_id": "e0155e4def29431d8188f48b0adc613a",
       "version_major": 2,
       "version_minor": 0
      },
      "text/plain": [
       "Running 100 simulations in 100 batches.:   0%|          | 0/100 [00:00<?, ?it/s]"
      ]
     },
     "metadata": {},
     "output_type": "display_data"
    },
    {
     "name": "stdout",
     "output_type": "stream",
     "text": [
      "33\n"
     ]
    },
    {
     "data": {
      "application/vnd.jupyter.widget-view+json": {
       "model_id": "93f27a94d83d4b2381e4e4cc45b79767",
       "version_major": 2,
       "version_minor": 0
      },
      "text/plain": [
       "Drawing 100 posterior samples:   0%|          | 0/100 [00:00<?, ?it/s]"
      ]
     },
     "metadata": {},
     "output_type": "display_data"
    },
    {
     "data": {
      "application/vnd.jupyter.widget-view+json": {
       "model_id": "bf405adbab5a4f16950395a5042422db",
       "version_major": 2,
       "version_minor": 0
      },
      "text/plain": [
       "Running 100 simulations in 100 batches.:   0%|          | 0/100 [00:00<?, ?it/s]"
      ]
     },
     "metadata": {},
     "output_type": "display_data"
    },
    {
     "name": "stdout",
     "output_type": "stream",
     "text": [
      "34\n"
     ]
    },
    {
     "data": {
      "application/vnd.jupyter.widget-view+json": {
       "model_id": "e2de915c12404c368033a7d6f3d256a2",
       "version_major": 2,
       "version_minor": 0
      },
      "text/plain": [
       "Drawing 100 posterior samples:   0%|          | 0/100 [00:00<?, ?it/s]"
      ]
     },
     "metadata": {},
     "output_type": "display_data"
    },
    {
     "data": {
      "application/vnd.jupyter.widget-view+json": {
       "model_id": "ac81b477961c4a1dbd0d835b2dbdcdff",
       "version_major": 2,
       "version_minor": 0
      },
      "text/plain": [
       "Running 100 simulations in 100 batches.:   0%|          | 0/100 [00:00<?, ?it/s]"
      ]
     },
     "metadata": {},
     "output_type": "display_data"
    },
    {
     "name": "stdout",
     "output_type": "stream",
     "text": [
      "35\n"
     ]
    },
    {
     "data": {
      "application/vnd.jupyter.widget-view+json": {
       "model_id": "73ff0f55155b40d09668dda950cf82a9",
       "version_major": 2,
       "version_minor": 0
      },
      "text/plain": [
       "Drawing 100 posterior samples:   0%|          | 0/100 [00:00<?, ?it/s]"
      ]
     },
     "metadata": {},
     "output_type": "display_data"
    },
    {
     "data": {
      "application/vnd.jupyter.widget-view+json": {
       "model_id": "f894344df8304d2785d82797c22645ec",
       "version_major": 2,
       "version_minor": 0
      },
      "text/plain": [
       "Running 100 simulations in 100 batches.:   0%|          | 0/100 [00:00<?, ?it/s]"
      ]
     },
     "metadata": {},
     "output_type": "display_data"
    }
   ],
   "source": [
    "all_post_psds = []\n",
    "for ix in range(ind_psd.shape[-1]):\n",
    "    curC = ind_conn[:, :, ix]\n",
    "    curBrain = Brain.Brain()\n",
    "    curBrain.add_connectome(DAT_ROOT) # grabs distance matrix\n",
    "    # re-ordering for DK atlas and normalizing the connectomes:\n",
    "    curBrain.reorder_connectome(curBrain.connectome, curBrain.distance_matrix)\n",
    "    curBrain.connectome = curC# re-assign connectome to individual connectome\n",
    "    curBrain.bi_symmetric_c()\n",
    "    curBrain.reduce_extreme_dir()\n",
    "    cur_sgmmodel = SGM(curBrain.reducedConnectome, curBrain.distance_matrix, FREQS)\n",
    "        \n",
    "    sp, raw_sps = meg_psd2spatialfeature(curBrain.reducedConnectome, ind_psd[:, :, ix], FREQS, band=\"alpha\")\n",
    "    \n",
    "    std_spv = stdz_vec(raw_sps.sum(axis=1))\n",
    "    std_psd_DB = psd_2tr(ind_psd[:, :, ix])\n",
    "    \n",
    "    curX_raw = np.concatenate([std_psd_DB.flatten(), std_spv])\n",
    "    curX = torch.Tensor(curX_raw)\n",
    "    cur_post = cur_res.posterior.set_default_x(curX)\n",
    "        \n",
    "    simulator_data_sp = partial(simulator_data,  sgmmodel=cur_sgmmodel, prior_bds=paras.prior_bds)\n",
    "    simulator_data_wrapper, _ = prepare_for_sbi(simulator_data_sp, prior)\n",
    "    \n",
    "    print(ix)\n",
    "    _, post_psd = simulate_for_sbi(simulator_data_wrapper, cur_post, \n",
    "                            num_simulations=100,\n",
    "                            num_workers=50)\n",
    "    all_post_psds.append(post_psd.numpy())"
   ]
  },
  {
   "cell_type": "code",
   "execution_count": 113,
   "id": "cfa3cc15",
   "metadata": {
    "ExecuteTime": {
     "end_time": "2022-11-02T02:33:01.989230Z",
     "start_time": "2022-11-02T02:33:01.977975Z"
    }
   },
   "outputs": [],
   "source": [
    "est_psds = []\n",
    "for post_psd in all_post_psds:\n",
    "    est_psd = np.mean(post_psd[:, :-68], axis=0)\n",
    "    est_psd = est_psd.reshape(68, 40)\n",
    "    est_psds.append(est_psd)"
   ]
  },
  {
   "cell_type": "code",
   "execution_count": 114,
   "id": "3ddef00d",
   "metadata": {
    "ExecuteTime": {
     "end_time": "2022-11-02T02:33:02.037513Z",
     "start_time": "2022-11-02T02:33:01.990930Z"
    }
   },
   "outputs": [
    {
     "name": "stdout",
     "output_type": "stream",
     "text": [
      "Corr is 0.990\n"
     ]
    }
   ],
   "source": [
    "sgm_psd_curve1 = np.array(est_psds).mean(axis=1).mean(axis=0)\n",
    "meg_psd_curve = np.mean([psd_2tr(ind_psd[:, :, ix]).mean(axis=0) for ix in range(36)], axis=0)\n",
    "cor = scipy.stats.pearsonr(stdz_vec(meg_psd_curve), stdz_vec(sgm_psd_curve1))[0]\n",
    "print(f\"Corr is {cor:.3f}\")"
   ]
  },
  {
   "cell_type": "code",
   "execution_count": 115,
   "id": "bc4f341b",
   "metadata": {
    "ExecuteTime": {
     "end_time": "2022-11-02T02:33:02.184590Z",
     "start_time": "2022-11-02T02:33:02.040178Z"
    }
   },
   "outputs": [
    {
     "data": {
      "text/plain": [
       "<matplotlib.legend.Legend at 0x7fe5962d4f40>"
      ]
     },
     "execution_count": 115,
     "metadata": {},
     "output_type": "execute_result"
    },
    {
     "data": {
      "image/png": "[encoded data removed]",
      "text/plain": [
       "<Figure size 360x360 with 1 Axes>"
      ]
     },
     "metadata": {
      "needs_background": "light"
     },
     "output_type": "display_data"
    }
   ],
   "source": [
    "plt.figure(figsize=[5, 5])\n",
    "plt.plot(FREQS, stdz_vec(meg_psd_curve), linestyle = '-',\n",
    "         marker = 's',fillstyle = 'none',color = 'k', label = \"MEG\", alpha = 0.8)\n",
    "plt.plot(FREQS, stdz_vec(sgm_psd_curve1), linestyle = '-',\n",
    "         marker = 'o',fillstyle = 'none',color = 'b', label = \"M-SGM\", alpha = 0.8)\n",
    "plt.xlabel('Frequency (Hz)', fontsize = 17)\n",
    "plt.ylabel('Normalized PSD', fontsize = 17)\n",
    "plt.legend()"
   ]
  },
  {
   "cell_type": "code",
   "execution_count": 116,
   "id": "4674b07d",
   "metadata": {
    "ExecuteTime": {
     "end_time": "2022-11-02T02:33:02.282712Z",
     "start_time": "2022-11-02T02:33:02.185724Z"
    }
   },
   "outputs": [],
   "source": [
    "# Corrs for PSD and spatial features for each subject\n",
    "meg_psd_roi_sub = np.array([psd_2tr(ind_psd[:, :, ix]) for ix in range(36)])\n",
    "sgm_psd_roi_sub = np.array(est_psds)\n",
    "\n",
    "corrs_roi_sub1 = []\n",
    "for ix in range(meg_psd_roi_sub.shape[0]):\n",
    "    cur_meg = meg_psd_roi_sub[ix]\n",
    "    cur_sgm = sgm_psd_roi_sub[ix]\n",
    "    corrs_roi_sub1.append(np.mean([scipy.stats.pearsonr(cur_meg[iy], cur_sgm[iy])[0] for iy in range(68)]))\n",
    "corrs_roi_sub1 = np.array(corrs_roi_sub1)"
   ]
  },
  {
   "cell_type": "code",
   "execution_count": 117,
   "id": "2ac1f68a",
   "metadata": {
    "ExecuteTime": {
     "end_time": "2022-11-02T02:33:02.286871Z",
     "start_time": "2022-11-02T02:33:02.283859Z"
    }
   },
   "outputs": [
    {
     "name": "stdout",
     "output_type": "stream",
     "text": [
      "0.8952592771936776 0.8828395346627933\n"
     ]
    }
   ],
   "source": [
    "print(np.median(corrs_roi_sub1), np.mean(corrs_roi_sub1))"
   ]
  },
  {
   "cell_type": "code",
   "execution_count": 118,
   "id": "4795ea39",
   "metadata": {
    "ExecuteTime": {
     "end_time": "2022-11-02T02:33:02.316931Z",
     "start_time": "2022-11-02T02:33:02.287754Z"
    }
   },
   "outputs": [
    {
     "data": {
      "text/plain": [
       "array([0.72606355, 0.72934459, 0.78626131, 0.8342575 , 0.84029242,\n",
       "       0.84976017, 0.86365918, 0.87362489, 0.8745204 , 0.87478733,\n",
       "       0.87695575, 0.88412599, 0.88459397, 0.8862173 , 0.88916357,\n",
       "       0.89248993, 0.89349774, 0.8950532 , 0.89546536, 0.897309  ,\n",
       "       0.89781729, 0.90101435, 0.90455843, 0.90537875, 0.90844576,\n",
       "       0.91145424, 0.9127061 , 0.91568311, 0.91633912, 0.91696955,\n",
       "       0.91847447, 0.91919175, 0.91972904, 0.92292861, 0.92740986,\n",
       "       0.93667966])"
      ]
     },
     "execution_count": 118,
     "metadata": {},
     "output_type": "execute_result"
    }
   ],
   "source": [
    "np.sort(corrs_roi_sub1)"
   ]
  },
  {
   "cell_type": "code",
   "execution_count": 119,
   "id": "45568d7b",
   "metadata": {
    "ExecuteTime": {
     "end_time": "2022-11-02T02:33:02.349618Z",
     "start_time": "2022-11-02T02:33:02.318521Z"
    }
   },
   "outputs": [
    {
     "data": {
      "text/plain": [
       "array([24,  4, 34, 32, 18, 21, 10, 35,  3,  7, 25, 22, 14, 11,  1, 27, 28,\n",
       "        0,  6,  9, 15,  8, 31, 19, 17, 26,  5, 23, 16,  2, 13, 33, 20, 12,\n",
       "       29, 30])"
      ]
     },
     "execution_count": 119,
     "metadata": {},
     "output_type": "execute_result"
    }
   ],
   "source": [
    "np.argsort(corrs_roi_sub1)"
   ]
  },
  {
   "cell_type": "code",
   "execution_count": 120,
   "id": "d1b778f6",
   "metadata": {
    "ExecuteTime": {
     "end_time": "2022-11-02T02:33:02.470356Z",
     "start_time": "2022-11-02T02:33:02.352037Z"
    }
   },
   "outputs": [
    {
     "data": {
      "text/plain": [
       "<matplotlib.legend.Legend at 0x7fe5a8821970>"
      ]
     },
     "execution_count": 120,
     "metadata": {},
     "output_type": "execute_result"
    },
    {
     "data": {
      "image/png": "[encoded data removed]",
      "text/plain": [
       "<Figure size 432x288 with 1 Axes>"
      ]
     },
     "metadata": {
      "needs_background": "light"
     },
     "output_type": "display_data"
    }
   ],
   "source": [
    "ix = 35\n",
    "sgm_post_rois = sgm_psd_roi_sub.mean(axis=1)\n",
    "plt.plot(FREQS, stdz_vec(meg_psd_roi_sub[ix, :, :].mean(axis=0)), linestyle = '-',\n",
    "         marker = 's',fillstyle = 'none',color = 'k', label = \"MEG\", alpha = 0.8)\n",
    "plt.plot(FREQS, stdz_vec(sgm_post_rois[ix]), linestyle = '-',\n",
    "         marker = 'o',fillstyle = 'none',color = 'b', label = \"M-SGM\", alpha = 0.8)\n",
    "plt.legend()"
   ]
  },
  {
   "cell_type": "code",
   "execution_count": null,
   "id": "1e556805",
   "metadata": {},
   "outputs": [],
   "source": []
  }
 ],
 "metadata": {
  "kernelspec": {
   "display_name": "Python 3 (ipykernel)",
   "language": "python",
   "name": "python3"
  },
  "language_info": {
   "codemirror_mode": {
    "name": "ipython",
    "version": 3
   },
   "file_extension": ".py",
   "mimetype": "text/x-python",
   "name": "python",
   "nbconvert_exporter": "python",
   "pygments_lexer": "ipython3",
   "version": "3.9.7"
  },
  "toc": {
   "base_numbering": 1,
   "nav_menu": {},
   "number_sections": true,
   "sideBar": true,
   "skip_h1_title": false,
   "title_cell": "Table of Contents",
   "title_sidebar": "Contents",
   "toc_cell": true,
   "toc_position": {
    "height": "calc(100% - 180px)",
    "left": "10px",
    "top": "150px",
    "width": "193px"
   },
   "toc_section_display": true,
   "toc_window_display": true
  }
 },
 "nbformat": 4,
 "nbformat_minor": 5
}
