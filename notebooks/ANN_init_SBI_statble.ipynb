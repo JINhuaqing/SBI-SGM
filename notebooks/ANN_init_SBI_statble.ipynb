{
 "cells": [
  {
   "cell_type": "markdown",
   "id": "712b122f",
   "metadata": {},
   "source": [
    "Results of effect of initial pts for annealing\n",
    "\n",
    "and check whether SBI-SGM is stable under different runs\n",
    "\n",
    "**results**\n",
    "\n",
    "1. Ann's performance is stable for the initial pt selection.\n",
    "\n",
    "2. Ann's parameters can be very different depending on the initial pt.\n",
    "\n",
    "3. SBI's posteriors can be very different under different runs.\n",
    "\n",
    "\n",
    "**So do not add the results in the manuscript**"
   ]
  },
  {
   "cell_type": "code",
   "execution_count": null,
   "id": "4c926c23",
   "metadata": {},
   "outputs": [],
   "source": []
  },
  {
   "cell_type": "markdown",
   "id": "269c1f0a",
   "metadata": {},
   "source": [
    "### Import some useful pkgs"
   ]
  },
  {
   "cell_type": "code",
   "execution_count": 1,
   "id": "0e7b3b6a",
   "metadata": {
    "ExecuteTime": {
     "end_time": "2022-12-19T21:42:48.004656Z",
     "start_time": "2022-12-19T21:42:47.989569Z"
    }
   },
   "outputs": [],
   "source": [
    "import os\n",
    "import sys\n",
    "import time\n",
    "module_path = os.path.abspath(os.path.join('../mypkg'))\n",
    "if module_path not in sys.path:\n",
    "    sys.path.append(module_path)"
   ]
  },
  {
   "cell_type": "code",
   "execution_count": 71,
   "id": "78b84827",
   "metadata": {
    "ExecuteTime": {
     "end_time": "2022-11-14T21:19:36.212476Z",
     "start_time": "2022-11-14T21:19:36.204644Z"
    }
   },
   "outputs": [],
   "source": [
    "import pickle\n",
    "import scipy\n",
    "import torch\n",
    "import umap\n",
    "\n",
    "import matplotlib.pyplot as plt\n",
    "import seaborn as sns\n",
    "import pandas as pd\n",
    "import numpy as np\n",
    "import xarray as xr\n",
    "\n",
    "from tqdm import trange, tqdm\n",
    "from sbi import utils as sutils\n",
    "from sbi import analysis as analysis\n",
    "from sbi.inference import SNPE, prepare_for_sbi, simulate_for_sbi\n",
    "from sbi.utils.get_nn_models import posterior_nn\n",
    "from functools import partial\n",
    "from easydict import EasyDict as edict\n",
    "from pathlib import Path"
   ]
  },
  {
   "cell_type": "code",
   "execution_count": null,
   "id": "28ebb54e",
   "metadata": {},
   "outputs": [],
   "source": []
  },
  {
   "cell_type": "markdown",
   "id": "f0c0f03b",
   "metadata": {},
   "source": [
    "#### Reload my modules"
   ]
  },
  {
   "cell_type": "code",
   "execution_count": 3,
   "id": "fbb701d3",
   "metadata": {
    "ExecuteTime": {
     "end_time": "2022-11-12T18:32:12.901417Z",
     "start_time": "2022-11-12T18:32:12.808280Z"
    }
   },
   "outputs": [],
   "source": [
    "import importlib\n",
    "#import constants\n",
    "#importlib.reload(constants)\n",
    "\n",
    "from utils.misc import meg_psd2spatialfeature, get_mode, load_pkl, save_pkl\n",
    "from utils.standardize import stdz_psd, stdz_vec, minmax_vec, psd_2tr\n",
    "from sgm.sgm import SGM\n",
    "from spectrome import Brain, path, functions\n",
    "\n",
    "from constants import RES_ROOT, FIG_ROOT, DAT_ROOT"
   ]
  },
  {
   "cell_type": "code",
   "execution_count": null,
   "id": "70b7f000",
   "metadata": {},
   "outputs": [],
   "source": []
  },
  {
   "cell_type": "markdown",
   "id": "a3712320",
   "metadata": {},
   "source": [
    "### Some functions"
   ]
  },
  {
   "cell_type": "code",
   "execution_count": 4,
   "id": "50210f0f",
   "metadata": {
    "ExecuteTime": {
     "end_time": "2022-11-12T18:32:12.910963Z",
     "start_time": "2022-11-12T18:32:12.903914Z"
    }
   },
   "outputs": [],
   "source": [
    "def _simulate_data(params, sgmmodel):\n",
    "    \"\"\"The function to simulate samples\n",
    "    \"\"\"\n",
    "    psd, spatialFs = sgmmodel.run_local_coupling_forward(params)\n",
    "    psd = psd[:68, :]\n",
    "    spatial_fs = spatialFs.sum(axis=1)\n",
    "    \n",
    "    std_psd_DB = psd_2tr(psd)\n",
    "    psd_fs = std_psd_DB.flatten()\n",
    "    \n",
    "    res = np.concatenate([psd_fs, spatial_fs]) \n",
    "    return res"
   ]
  },
  {
   "cell_type": "code",
   "execution_count": null,
   "id": "e291220f",
   "metadata": {},
   "outputs": [],
   "source": []
  },
  {
   "cell_type": "markdown",
   "id": "4022c78f",
   "metadata": {},
   "source": [
    "### Load real data PSD and brain"
   ]
  },
  {
   "cell_type": "markdown",
   "id": "bcd6c5ab",
   "metadata": {},
   "source": [
    "#### PSD and connectome"
   ]
  },
  {
   "cell_type": "code",
   "execution_count": 5,
   "id": "bb358643",
   "metadata": {
    "ExecuteTime": {
     "end_time": "2022-11-12T18:32:13.318660Z",
     "start_time": "2022-11-12T18:32:12.914116Z"
    }
   },
   "outputs": [],
   "source": [
    "# Load data\n",
    "ind_psd_xr = xr.open_dataarray(DAT_ROOT/'individual_psd_reordered_matlab.nc')\n",
    "ind_psd = ind_psd_xr.values\n",
    "FREQS = ind_psd_xr[\"frequencies\"].values\n",
    "ind_conn_xr = xr.open_dataarray(DAT_ROOT/'individual_connectomes_reordered.nc')\n",
    "ind_conn = ind_conn_xr.values\n"
   ]
  },
  {
   "cell_type": "markdown",
   "id": "972daa5f",
   "metadata": {},
   "source": [
    "#### data for brain plots"
   ]
  },
  {
   "cell_type": "code",
   "execution_count": 6,
   "id": "ebc0d469",
   "metadata": {
    "ExecuteTime": {
     "end_time": "2022-11-12T18:32:14.189666Z",
     "start_time": "2022-11-12T18:32:13.321625Z"
    }
   },
   "outputs": [],
   "source": [
    "# Get reorder indeix\n",
    "# dk86.***.txt is the order for the MEG data\n",
    "# DK68_labelorder.xlsx is the order for the template\n",
    "dk_brainnet = pd.read_excel(DAT_ROOT/\"DK68_labelorder.xlsx\")\n",
    "with open(DAT_ROOT/'dk86atlas_regions_python.txt') as f:\n",
    "    dk_python = f.readlines()\n",
    "    \n",
    "brainnet_order = dk_brainnet[\"Order in Brainstorm\"]\n",
    "dk_python_renamed = []\n",
    "brainnet_renamed = []\n",
    "\n",
    "for i in range(len(dk_python)):\n",
    "    sp1 = dk_python[i].split('=')\n",
    "    sp2 = sp1[1].split('_')\n",
    "    dk_python_renamed.append((sp2[0] + ' ' + sp2[1]).lower().strip())\n",
    "\n",
    "for i in range(len(brainnet_order)):\n",
    "    brainnet_renamed.append((brainnet_order[i].replace(\"'\",\"\")).lower())\n",
    "\n",
    "d = {x: a for a, x in enumerate(dk_python_renamed[0:68])}\n",
    "orderedind = np.array([d[x] for x in brainnet_renamed])"
   ]
  },
  {
   "cell_type": "code",
   "execution_count": 7,
   "id": "1b9e0c6d",
   "metadata": {
    "ExecuteTime": {
     "end_time": "2022-11-12T18:32:14.293056Z",
     "start_time": "2022-11-12T18:32:14.192491Z"
    }
   },
   "outputs": [],
   "source": [
    "def reorderU(wU):\n",
    "    wUreorder = wU.copy()\n",
    "    wUreorder = wUreorder[orderedind]\n",
    "    return wUreorder\n",
    "\n",
    "with open(DAT_ROOT/'BNVtemplate_DK68.txt', \"r\") as tf:\n",
    "    DKtmplateRaw = tf.readlines()\n",
    "DKtmplate = np.array([int(x.strip()) for x in DKtmplateRaw])\n",
    "\n",
    "def U2BrainVec(wU):\n",
    "    emVec = np.zeros_like(DKtmplate, dtype=np.float64)\n",
    "    for idx in range(1, 69):\n",
    "        emVec[DKtmplate==idx] = wU[idx-1]\n",
    "    return emVec"
   ]
  },
  {
   "cell_type": "markdown",
   "id": "b2b22099",
   "metadata": {},
   "source": [
    "#### Load parul's results"
   ]
  },
  {
   "cell_type": "code",
   "execution_count": 12,
   "id": "79faccea",
   "metadata": {
    "ExecuteTime": {
     "end_time": "2022-11-12T18:35:14.787604Z",
     "start_time": "2022-11-12T18:35:14.750909Z"
    }
   },
   "outputs": [],
   "source": [
    "anl_res = pd.read_csv(DAT_ROOT/\"./parul_results.csv\")\n",
    "anl_res1 = pd.read_csv(DAT_ROOT/\"./parul_results_IC1.csv\")\n",
    "anl_res2 = pd.read_csv(DAT_ROOT/\"./parul_results_IC2.csv\")\n",
    "anl_res3 = pd.read_csv(DAT_ROOT/\"./parul_results_IC3.csv\")"
   ]
  },
  {
   "cell_type": "code",
   "execution_count": null,
   "id": "a96a7a19",
   "metadata": {},
   "outputs": [],
   "source": []
  },
  {
   "cell_type": "markdown",
   "id": "b6960bf4",
   "metadata": {},
   "source": [
    "### Set up Parameters"
   ]
  },
  {
   "cell_type": "markdown",
   "id": "01d174ab",
   "metadata": {},
   "source": [
    "#### Set up plotting"
   ]
  },
  {
   "cell_type": "code",
   "execution_count": 36,
   "id": "d2f1079b",
   "metadata": {
    "ExecuteTime": {
     "end_time": "2022-11-12T18:44:00.684351Z",
     "start_time": "2022-11-12T18:44:00.677493Z"
    }
   },
   "outputs": [],
   "source": [
    "metd = edict()\n",
    "metd.anl0 = \"Ann-SGM-All\"\n",
    "metd.anl1 = \"Ann-SGM-1\"\n",
    "metd.anl2 = \"Ann-SGM-2\"\n",
    "metd.anl3 = \"Ann-SGM-3\"\n",
    "\n",
    "plot_sets = edict()\n",
    "plot_sets.col = [\"dodgerblue\", \"coral\", \"red\", \"yellow\"]\n",
    "plot_sets.alpha = 0.8\n",
    "plot_sets.marker = [\"o\", \"h\", \"+\", \"*\"]"
   ]
  },
  {
   "cell_type": "markdown",
   "id": "b34c8244",
   "metadata": {},
   "source": [
    "#### Parameters"
   ]
  },
  {
   "cell_type": "code",
   "execution_count": 73,
   "id": "d9326efc",
   "metadata": {
    "ExecuteTime": {
     "end_time": "2022-11-14T21:22:18.381825Z",
     "start_time": "2022-11-14T21:22:18.374184Z"
    }
   },
   "outputs": [],
   "source": [
    "paras = edict()\n",
    "\n",
    "paras.path = Path(RES_ROOT/\"./main_results_nsf\")\n",
    "\n",
    "paras.robustParas = edict()\n",
    "paras.robustParas.path = Path(paras.path/\"robust_results\")\n",
    "\n",
    "\n",
    "paras.fig_dir = FIG_ROOT\n",
    "paras.res_dir = RES_ROOT\n",
    "paras.name_order = ['taue','taui','tauG','speed','alpha','gii','gei']\n",
    "paras.name_order_latex = [r'$\\tau_e$',r'$\\tau_i$',r'$\\tau_G$',r'$v$',r'$\\alpha$',r'$g_{ii}$',r'$g_{ei}$']"
   ]
  },
  {
   "cell_type": "code",
   "execution_count": 17,
   "id": "e3f21702",
   "metadata": {
    "ExecuteTime": {
     "end_time": "2022-11-12T18:36:54.999379Z",
     "start_time": "2022-11-12T18:36:54.993299Z"
    }
   },
   "outputs": [],
   "source": [
    "# taue, taui, tauC, speed, alpha, gii, gei\n",
    "par_low = np.asarray([0.005,0.005,0.005,1.7,0.1,0.5,0.5])\n",
    "par_high = np.asarray([0.03, 0.20, 0.03,5.3,  1, 10, 10])\n",
    "plotLimits = np.array([par_low, par_high]).T"
   ]
  },
  {
   "cell_type": "code",
   "execution_count": 18,
   "id": "275397c1",
   "metadata": {
    "ExecuteTime": {
     "end_time": "2022-11-12T18:36:58.028189Z",
     "start_time": "2022-11-12T18:36:58.021070Z"
    }
   },
   "outputs": [],
   "source": [
    "prior = sutils.BoxUniform(low=torch.as_tensor(par_low), high=torch.as_tensor(par_high))"
   ]
  },
  {
   "cell_type": "code",
   "execution_count": 19,
   "id": "0694a0fa",
   "metadata": {
    "ExecuteTime": {
     "end_time": "2022-11-12T18:36:59.351795Z",
     "start_time": "2022-11-12T18:36:59.304867Z"
    }
   },
   "outputs": [],
   "source": [
    "# obtain the brain\n",
    "brain = Brain.Brain()\n",
    "brain.add_connectome(DAT_ROOT)\n",
    "brain.reorder_connectome(brain.connectome, brain.distance_matrix)\n",
    "brain.bi_symmetric_c()\n",
    "brain.reduce_extreme_dir()\n",
    "\n",
    "sgmmodel = SGM(brain.reducedConnectome, brain.distance_matrix, FREQS)"
   ]
  },
  {
   "cell_type": "code",
   "execution_count": null,
   "id": "75088afc",
   "metadata": {},
   "outputs": [],
   "source": []
  },
  {
   "cell_type": "code",
   "execution_count": 42,
   "id": "f3155b22",
   "metadata": {
    "ExecuteTime": {
     "end_time": "2022-11-12T18:47:03.679500Z",
     "start_time": "2022-11-12T18:47:03.097297Z"
    }
   },
   "outputs": [
    {
     "name": "stderr",
     "output_type": "stream",
     "text": [
      "100%|██████████████████████████████████████████████████████████████████████████████████████████████████████████████████████████████████████████| 36/36 [00:00<00:00, 63.17it/s]\n"
     ]
    }
   ],
   "source": [
    "# the estimated spatial feature from MEG\n",
    "MEGSPs = []\n",
    "MEGSPRaws = []\n",
    "for ix in trange(36):\n",
    "    curC = ind_conn[:, :, ix]\n",
    "    curBrain = Brain.Brain()\n",
    "    curBrain.add_connectome(DAT_ROOT) # grabs distance matrix\n",
    "    # re-ordering for DK atlas and normalizing the connectomes:\n",
    "    curBrain.reorder_connectome(curBrain.connectome, curBrain.distance_matrix)\n",
    "    curBrain.connectome = curC# re-assign connectome to individual connectome\n",
    "    curBrain.bi_symmetric_c()\n",
    "    curBrain.reduce_extreme_dir()\n",
    "    \n",
    "    curMEGSP, curMEGSPRaw = meg_psd2spatialfeature(curBrain.reducedConnectome, ind_psd[:, :, ix], FREQS)\n",
    "    MEGSPs.append(curMEGSP)\n",
    "    MEGSPRaws.append(curMEGSPRaw.sum(axis=1))"
   ]
  },
  {
   "cell_type": "code",
   "execution_count": null,
   "id": "b34ca50d",
   "metadata": {},
   "outputs": [],
   "source": []
  },
  {
   "cell_type": "markdown",
   "id": "8751a08e",
   "metadata": {},
   "source": [
    "### ANN\n"
   ]
  },
  {
   "cell_type": "code",
   "execution_count": 66,
   "id": "9edcc75e",
   "metadata": {
    "ExecuteTime": {
     "end_time": "2022-11-12T19:01:23.096654Z",
     "start_time": "2022-11-12T19:01:23.089475Z"
    }
   },
   "outputs": [],
   "source": [
    "# taue, taui, tauC, speed, alpha, gii, gei\n",
    "para_nams = [\"taue\", \"taui\", \"tauC\", \"speed\", \"alpha\", \"gii\", \"gei\"]\n",
    "#para_nams = paras.name_order\n",
    "def res_2vec(anl_res, ix=0):\n",
    "    vec = np.array([anl_res[nam][ix] for nam in para_nams])\n",
    "    vec[:3] = vec[:3]/1000\n",
    "    return vec"
   ]
  },
  {
   "cell_type": "code",
   "execution_count": 67,
   "id": "105bafba",
   "metadata": {
    "ExecuteTime": {
     "end_time": "2022-11-12T19:02:06.384105Z",
     "start_time": "2022-11-12T19:01:23.490680Z"
    }
   },
   "outputs": [
    {
     "name": "stderr",
     "output_type": "stream",
     "text": [
      "100%|██████████████████████████████████████████████████████████████████████████████████████████████████████████████████████████████████████████| 36/36 [00:42<00:00,  1.19s/it]\n"
     ]
    }
   ],
   "source": [
    "anl_sgmPSDs = []\n",
    "anl_sgmSPs = []\n",
    "for ix in trange(36):\n",
    "    curParas = res_2vec(anl_res, ix)\n",
    "    curC = ind_conn[:, :, ix]\n",
    "    curBrain = Brain.Brain()\n",
    "    curBrain.add_connectome(DAT_ROOT) # grabs distance matrix\n",
    "        # re-ordering for DK atlas and normalizing the connectomes:\n",
    "    curBrain.reorder_connectome(curBrain.connectome, curBrain.distance_matrix)\n",
    "    curBrain.connectome = curC# re-assign connectome to individual connectome\n",
    "    curBrain.bi_symmetric_c()\n",
    "    curBrain.reduce_extreme_dir()\n",
    "        \n",
    "    curSgmModel = SGM(curBrain.reducedConnectome, curBrain.distance_matrix, FREQS)\n",
    "    curPSD, curSPs = curSgmModel.run_local_coupling_forward(curParas)\n",
    "    curPSD = curPSD[:68, :]\n",
    "    curPSD = psd_2tr(curPSD)\n",
    "        \n",
    "    anl_sgmPSDs.append(curPSD)\n",
    "    anl_sgmSPs.append(curSPs.sum(axis=1))"
   ]
  },
  {
   "cell_type": "code",
   "execution_count": 24,
   "id": "7091ed1c",
   "metadata": {
    "ExecuteTime": {
     "end_time": "2022-11-12T18:39:57.477110Z",
     "start_time": "2022-11-12T18:39:13.543733Z"
    }
   },
   "outputs": [
    {
     "name": "stderr",
     "output_type": "stream",
     "text": [
      "100%|██████████████████████████████████████████████████████████████████████████████████████████████████████████████████████████████████████████| 36/36 [00:43<00:00,  1.22s/it]\n"
     ]
    }
   ],
   "source": [
    "anl_sgmPSD1s = []\n",
    "anl_sgmSP1s = []\n",
    "for ix in trange(36):\n",
    "    curParas = res_2vec(anl_res1, ix)\n",
    "    curC = ind_conn[:, :, ix]\n",
    "    curBrain = Brain.Brain()\n",
    "    curBrain.add_connectome(DAT_ROOT) # grabs distance matrix\n",
    "        # re-ordering for DK atlas and normalizing the connectomes:\n",
    "    curBrain.reorder_connectome(curBrain.connectome, curBrain.distance_matrix)\n",
    "    curBrain.connectome = curC# re-assign connectome to individual connectome\n",
    "    curBrain.bi_symmetric_c()\n",
    "    curBrain.reduce_extreme_dir()\n",
    "        \n",
    "    curSgmModel = SGM(curBrain.reducedConnectome, curBrain.distance_matrix, FREQS)\n",
    "    curPSD, curSPs = curSgmModel.run_local_coupling_forward(curParas)\n",
    "    curPSD = curPSD[:68, :]\n",
    "    curPSD = psd_2tr(curPSD)\n",
    "        \n",
    "    anl_sgmPSD1s.append(curPSD)\n",
    "    anl_sgmSP1s.append(curSPs.sum(axis=1))"
   ]
  },
  {
   "cell_type": "code",
   "execution_count": 25,
   "id": "e0410b46",
   "metadata": {
    "ExecuteTime": {
     "end_time": "2022-11-12T18:40:42.173950Z",
     "start_time": "2022-11-12T18:39:57.479718Z"
    }
   },
   "outputs": [
    {
     "name": "stderr",
     "output_type": "stream",
     "text": [
      "100%|██████████████████████████████████████████████████████████████████████████████████████████████████████████████████████████████████████████| 36/36 [00:44<00:00,  1.24s/it]\n"
     ]
    }
   ],
   "source": [
    "anl_sgmPSD2s = []\n",
    "anl_sgmSP2s = []\n",
    "for ix in trange(36):\n",
    "    curParas = res_2vec(anl_res2, ix)\n",
    "    curC = ind_conn[:, :, ix]\n",
    "    curBrain = Brain.Brain()\n",
    "    curBrain.add_connectome(DAT_ROOT) # grabs distance matrix\n",
    "        # re-ordering for DK atlas and normalizing the connectomes:\n",
    "    curBrain.reorder_connectome(curBrain.connectome, curBrain.distance_matrix)\n",
    "    curBrain.connectome = curC# re-assign connectome to individual connectome\n",
    "    curBrain.bi_symmetric_c()\n",
    "    curBrain.reduce_extreme_dir()\n",
    "        \n",
    "    curSgmModel = SGM(curBrain.reducedConnectome, curBrain.distance_matrix, FREQS)\n",
    "    curPSD, curSPs = curSgmModel.run_local_coupling_forward(curParas)\n",
    "    curPSD = curPSD[:68, :]\n",
    "    curPSD = psd_2tr(curPSD)\n",
    "        \n",
    "    anl_sgmPSD2s.append(curPSD)\n",
    "    anl_sgmSP2s.append(curSPs.sum(axis=1))"
   ]
  },
  {
   "cell_type": "code",
   "execution_count": 26,
   "id": "f74957d8",
   "metadata": {
    "ExecuteTime": {
     "end_time": "2022-11-12T18:41:26.797742Z",
     "start_time": "2022-11-12T18:40:42.179386Z"
    }
   },
   "outputs": [
    {
     "name": "stderr",
     "output_type": "stream",
     "text": [
      "100%|██████████████████████████████████████████████████████████████████████████████████████████████████████████████████████████████████████████| 36/36 [00:44<00:00,  1.24s/it]\n"
     ]
    }
   ],
   "source": [
    "anl_sgmPSD3s = []\n",
    "anl_sgmSP3s = []\n",
    "for ix in trange(36):\n",
    "    curParas = res_2vec(anl_res3, ix)\n",
    "    curC = ind_conn[:, :, ix]\n",
    "    curBrain = Brain.Brain()\n",
    "    curBrain.add_connectome(DAT_ROOT) # grabs distance matrix\n",
    "        # re-ordering for DK atlas and normalizing the connectomes:\n",
    "    curBrain.reorder_connectome(curBrain.connectome, curBrain.distance_matrix)\n",
    "    curBrain.connectome = curC# re-assign connectome to individual connectome\n",
    "    curBrain.bi_symmetric_c()\n",
    "    curBrain.reduce_extreme_dir()\n",
    "        \n",
    "    curSgmModel = SGM(curBrain.reducedConnectome, curBrain.distance_matrix, FREQS)\n",
    "    curPSD, curSPs = curSgmModel.run_local_coupling_forward(curParas)\n",
    "    curPSD = curPSD[:68, :]\n",
    "    curPSD = psd_2tr(curPSD)\n",
    "        \n",
    "    anl_sgmPSD3s.append(curPSD)\n",
    "    anl_sgmSP3s.append(curSPs.sum(axis=1))"
   ]
  },
  {
   "cell_type": "code",
   "execution_count": null,
   "id": "58b9f825",
   "metadata": {},
   "outputs": [],
   "source": []
  },
  {
   "cell_type": "markdown",
   "id": "702cfe98",
   "metadata": {},
   "source": [
    "#### PSD curve"
   ]
  },
  {
   "cell_type": "code",
   "execution_count": 68,
   "id": "2fe5e9c7",
   "metadata": {
    "ExecuteTime": {
     "end_time": "2022-11-12T19:02:06.404743Z",
     "start_time": "2022-11-12T19:02:06.386457Z"
    }
   },
   "outputs": [],
   "source": [
    "MEGPSDMean = np.mean([psd_2tr(ind_psd[:, :, ix]).mean(axis=0) for ix in range(36)], axis=0)\n",
    "anl_PSD = np.array(anl_sgmPSDs).mean(axis=1).mean(axis=0)\n",
    "anl_PSD1 = np.array(anl_sgmPSD1s).mean(axis=1).mean(axis=0)\n",
    "anl_PSD2 = np.array(anl_sgmPSD2s).mean(axis=1).mean(axis=0)\n",
    "anl_PSD3 = np.array(anl_sgmPSD3s).mean(axis=1).mean(axis=0)\n",
    "\n",
    "anl_cor = scipy.stats.pearsonr(stdz_vec(MEGPSDMean), stdz_vec(anl_PSD))[0]\n",
    "anl_cor1 = scipy.stats.pearsonr(stdz_vec(MEGPSDMean), stdz_vec(anl_PSD1))[0]\n",
    "anl_cor2 = scipy.stats.pearsonr(stdz_vec(MEGPSDMean), stdz_vec(anl_PSD2))[0]\n",
    "anl_cor3 = scipy.stats.pearsonr(stdz_vec(MEGPSDMean), stdz_vec(anl_PSD3))[0]"
   ]
  },
  {
   "cell_type": "code",
   "execution_count": 69,
   "id": "097da2d7",
   "metadata": {
    "ExecuteTime": {
     "end_time": "2022-11-12T19:02:06.544714Z",
     "start_time": "2022-11-12T19:02:06.406760Z"
    }
   },
   "outputs": [
    {
     "data": {
      "text/plain": [
       "<matplotlib.legend.Legend at 0x7f015c408970>"
      ]
     },
     "execution_count": 69,
     "metadata": {},
     "output_type": "execute_result"
    },
    {
     "data": {
      "image/png": "[encoded data removed]",
      "text/plain": [
       "<Figure size 600x500 with 1 Axes>"
      ]
     },
     "metadata": {
      "needs_background": "light"
     },
     "output_type": "display_data"
    }
   ],
   "source": [
    "plt.figure(figsize=[6, 5], dpi=100)\n",
    "plt.plot(FREQS, stdz_vec(MEGPSDMean), linestyle = '-',marker = 's',\n",
    "         fillstyle = 'none',color = 'k', \n",
    "         label = \"MEG\")\n",
    "plt.plot(FREQS, stdz_vec(anl_PSD), linestyle = '-',marker=plot_sets.marker[0],\n",
    "         fillstyle = 'none',color = plot_sets.col[0], \n",
    "         label = metd.anl0)\n",
    "plt.plot(FREQS, stdz_vec(anl_PSD1), linestyle = '-',marker=plot_sets.marker[1],\n",
    "         fillstyle = 'none',color = plot_sets.col[1], \n",
    "         label = metd.anl1)\n",
    "plt.plot(FREQS, stdz_vec(anl_PSD2), linestyle = '-',marker=plot_sets.marker[2],\n",
    "         fillstyle = 'none',color = plot_sets.col[2], \n",
    "         label = metd.anl2)\n",
    "plt.plot(FREQS, stdz_vec(anl_PSD3), linestyle = '-',marker=plot_sets.marker[3],\n",
    "         fillstyle = 'none',color = plot_sets.col[3], \n",
    "         label = metd.anl3)\n",
    "plt.xlabel('Frequency (Hz)', fontsize = 17)\n",
    "plt.ylabel('Normalized PSD', fontsize = 17)\n",
    "plt.legend()\n",
    "\n",
    "#plt.savefig(FIG_ROOT/\"PSD_compare.jpg\", bbox_inches=\"tight\")"
   ]
  },
  {
   "cell_type": "code",
   "execution_count": 40,
   "id": "a383af18",
   "metadata": {
    "ExecuteTime": {
     "end_time": "2022-11-12T18:45:54.274699Z",
     "start_time": "2022-11-12T18:45:53.902487Z"
    }
   },
   "outputs": [],
   "source": [
    "MEG_psd_each_ROIs = np.array([psd_2tr(ind_psd[:, :, ix]) for ix in range(36)])\n",
    "anl_PSD_corrs = []\n",
    "for ix in range(MEG_psd_each_ROIs.shape[0]):\n",
    "    curMEG = MEG_psd_each_ROIs[ix]\n",
    "    curSGM = anl_sgmPSDs[ix]\n",
    "    anl_PSD_corrs.append(np.mean([scipy.stats.pearsonr(curMEG[iz], curSGM[iz])[0] for iz in range(68)]))\n",
    "    \n",
    "anl_PSD_corrs1 = []\n",
    "for ix in range(MEG_psd_each_ROIs.shape[0]):\n",
    "    curMEG = MEG_psd_each_ROIs[ix]\n",
    "    curSGM = anl_sgmPSD1s[ix]\n",
    "    anl_PSD_corrs1.append(np.mean([scipy.stats.pearsonr(curMEG[iz], curSGM[iz])[0] for iz in range(68)]))\n",
    "    \n",
    "anl_PSD_corrs2 = []\n",
    "for ix in range(MEG_psd_each_ROIs.shape[0]):\n",
    "    curMEG = MEG_psd_each_ROIs[ix]\n",
    "    curSGM = anl_sgmPSD2s[ix]\n",
    "    anl_PSD_corrs2.append(np.mean([scipy.stats.pearsonr(curMEG[iz], curSGM[iz])[0] for iz in range(68)]))\n",
    "\n",
    "anl_PSD_corrs3 = []\n",
    "for ix in range(MEG_psd_each_ROIs.shape[0]):\n",
    "    curMEG = MEG_psd_each_ROIs[ix]\n",
    "    curSGM = anl_sgmPSD3s[ix]\n",
    "    anl_PSD_corrs3.append(np.mean([scipy.stats.pearsonr(curMEG[iz], curSGM[iz])[0] for iz in range(68)]))"
   ]
  },
  {
   "cell_type": "code",
   "execution_count": 43,
   "id": "8af27bc2",
   "metadata": {
    "ExecuteTime": {
     "end_time": "2022-11-12T18:47:09.459738Z",
     "start_time": "2022-11-12T18:47:09.445983Z"
    }
   },
   "outputs": [],
   "source": [
    "anl_SP_corrs = []\n",
    "for mv, ov in zip(anl_sgmSPs, MEGSPs):\n",
    "    anl_SP_corrs.append(np.dot(mv/np.linalg.norm(mv), ov))\n",
    "    \n",
    "anl_SP_corrs1 = []\n",
    "for mv, ov in zip(anl_sgmSP1s, MEGSPs):\n",
    "    anl_SP_corrs1.append(np.dot(mv/np.linalg.norm(mv), ov))\n",
    "    \n",
    "anl_SP_corrs2 = []\n",
    "for mv, ov in zip(anl_sgmSP2s, MEGSPs):\n",
    "    anl_SP_corrs2.append(np.dot(mv/np.linalg.norm(mv), ov))\n",
    "    \n",
    "anl_SP_corrs3 = []\n",
    "for mv, ov in zip(anl_sgmSP3s, MEGSPs):\n",
    "    anl_SP_corrs3.append(np.dot(mv/np.linalg.norm(mv), ov))"
   ]
  },
  {
   "cell_type": "code",
   "execution_count": null,
   "id": "80b51cda",
   "metadata": {},
   "outputs": [],
   "source": []
  },
  {
   "cell_type": "markdown",
   "id": "473ee588",
   "metadata": {},
   "source": [
    "#### PSD and SP corrs"
   ]
  },
  {
   "cell_type": "code",
   "execution_count": 44,
   "id": "18eadfb8",
   "metadata": {
    "ExecuteTime": {
     "end_time": "2022-11-12T18:48:30.676518Z",
     "start_time": "2022-11-12T18:48:30.671033Z"
    }
   },
   "outputs": [],
   "source": [
    "SP_all = np.array([anl_SP_corrs, anl_SP_corrs1, anl_SP_corrs2, anl_SP_corrs3])\n",
    "PSD_all = np.array([anl_PSD_corrs, anl_PSD_corrs1, anl_PSD_corrs2, anl_PSD_corrs3])"
   ]
  },
  {
   "cell_type": "code",
   "execution_count": 51,
   "id": "8a04d4e9",
   "metadata": {
    "ExecuteTime": {
     "end_time": "2022-11-12T18:52:20.509043Z",
     "start_time": "2022-11-12T18:52:20.328924Z"
    }
   },
   "outputs": [
    {
     "data": {
      "text/plain": [
       "<matplotlib.legend.Legend at 0x7f015c7a5160>"
      ]
     },
     "execution_count": 51,
     "metadata": {},
     "output_type": "execute_result"
    },
    {
     "data": {
      "image/png": "[encoded data removed]",
      "text/plain": [
       "<Figure size 600x500 with 1 Axes>"
      ]
     },
     "metadata": {
      "needs_background": "light"
     },
     "output_type": "display_data"
    }
   ],
   "source": [
    "plt.figure(figsize=[6, 5], dpi=100)\n",
    "box = plt.boxplot(PSD_all.T[:, 0], positions=[0.4],\n",
    "                  notch=True, showfliers=False,  patch_artist=True);\n",
    "for item in ['boxes', 'whiskers',  'medians', 'caps']:\n",
    "    plt.setp(box[item], color=plot_sets.col[0])\n",
    "box0 = box\n",
    "    \n",
    "box = plt.boxplot(PSD_all.T[:, 1], positions=[0.6],\n",
    "                  notch=True, showfliers=False,  patch_artist=True);\n",
    "for item in ['boxes', 'whiskers',  'medians', 'caps']:\n",
    "    plt.setp(box[item], color=plot_sets.col[1])\n",
    "box1 = box\n",
    "\n",
    "box = plt.boxplot(PSD_all.T[:, 2], positions=[0.8],\n",
    "                  notch=True, showfliers=False,  patch_artist=True);\n",
    "for item in ['boxes', 'whiskers',  'medians', 'caps']:\n",
    "    plt.setp(box[item], color=plot_sets.col[2])\n",
    "box2 = box\n",
    "\n",
    "box = plt.boxplot(PSD_all.T[:, 3], positions=[1.0],\n",
    "                  notch=True, showfliers=False,  patch_artist=True);\n",
    "for item in ['boxes', 'whiskers',  'medians', 'caps']:\n",
    "    plt.setp(box[item], color=plot_sets.col[3])\n",
    "box3 = box\n",
    "    \n",
    "#box = plt.boxplot(SP_all.T[:, 0], positions=[.9],\n",
    "#                  notch=True, showfliers=False,  patch_artist=True);\n",
    "#for item in ['boxes', 'whiskers',  'medians', 'caps']:\n",
    "#    plt.setp(box[item], color=plot_sets.col[0])\n",
    "#    \n",
    "#box = plt.boxplot(SP_all.T[:, 1], positions=[1.1],\n",
    "#                  notch=True, showfliers=False,  patch_artist=True);\n",
    "#for item in ['boxes', 'whiskers',  'medians', 'caps']:\n",
    "#    plt.setp(box[item], color=plot_sets.col[1])\n",
    "plt.xlim([0.2, 1.3])\n",
    "\n",
    "plt.xticks([0.4, 0.6, 0.8, 1.0], [\"All\", \"IP1\", \"IP2\", \"IP3\"])\n",
    "plt.ylabel(\"Pearson's r\")\n",
    "plt.legend([box0[\"boxes\"][0], \n",
    "            box1[\"boxes\"][0], \n",
    "            box2[\"boxes\"][0], \n",
    "            box3[\"boxes\"][0], \n",
    "           ], \n",
    "           [metd.anl0, \n",
    "            metd.anl1,\n",
    "            metd.anl2,\n",
    "            metd.anl3,\n",
    "           ])"
   ]
  },
  {
   "cell_type": "markdown",
   "id": "66823958",
   "metadata": {},
   "source": [
    "### SBI"
   ]
  },
  {
   "cell_type": "code",
   "execution_count": 74,
   "id": "1a81dfc4",
   "metadata": {
    "ExecuteTime": {
     "end_time": "2022-11-14T21:22:23.851871Z",
     "start_time": "2022-11-14T21:22:23.841991Z"
    }
   },
   "outputs": [],
   "source": [
    "fils = list(paras.robustParas.path.glob(\"robustSps_100000_sd20_*.pkl\"))\n",
    "\n",
    "tmpSortFn = lambda p: int(p.stem.split(\"_\")[-1])\n",
    "sorted_fils = sorted(fils, key=tmpSortFn)"
   ]
  },
  {
   "cell_type": "code",
   "execution_count": 100,
   "id": "e727e6a4",
   "metadata": {
    "ExecuteTime": {
     "end_time": "2022-11-14T21:30:24.705798Z",
     "start_time": "2022-11-14T21:30:24.698505Z"
    }
   },
   "outputs": [],
   "source": [
    "def _spss_2hist(spss, bds, bins=20):\n",
    "    assert spss.shape[1] == 7\n",
    "    assert bds.shape[0] == 7\n",
    "    hist_ress = []\n",
    "    for ix in range(7):\n",
    "        sps = spss[:, ix]\n",
    "        bd = bds[ix, :]\n",
    "        hist_res_ = np.histogram(sps, bins, bd)\n",
    "        hist_ress.append(hist_res_)\n",
    "    \n",
    "    return hist_ress"
   ]
  },
  {
   "cell_type": "code",
   "execution_count": 111,
   "id": "18b7ec7b",
   "metadata": {
    "ExecuteTime": {
     "end_time": "2022-11-14T21:34:56.614759Z",
     "start_time": "2022-11-14T21:34:55.674360Z"
    }
   },
   "outputs": [
    {
     "name": "stdout",
     "output_type": "stream",
     "text": [
      "Load file /data/rajlab1/user_data/jin/MyResearch/SBI-SGM/mypkg/../results/main_results_nsf/robust_results/robustSps_100000_sd20_1.pkl\n",
      "Load file /data/rajlab1/user_data/jin/MyResearch/SBI-SGM/mypkg/../results/main_results_nsf/robust_results/robustSps_100000_sd20_3.pkl\n"
     ]
    }
   ],
   "source": [
    "res0 = load_pkl(sorted_fils[0])\n",
    "res1 = load_pkl(sorted_fils[2])"
   ]
  },
  {
   "cell_type": "code",
   "execution_count": 115,
   "id": "17fa9fd8",
   "metadata": {
    "ExecuteTime": {
     "end_time": "2022-11-14T21:37:14.615607Z",
     "start_time": "2022-11-14T21:37:14.597841Z"
    }
   },
   "outputs": [
    {
     "name": "stdout",
     "output_type": "stream",
     "text": [
      "(0.3169601628154673, 0.17331312536151855)\n",
      "(0.031587906051702926, 0.8948247159335699)\n",
      "(0.023695612767765602, 0.9210112031372267)\n",
      "(-0.030626425532875423, 0.8980098238711895)\n",
      "(0.9859098374827893, 1.975579367221798e-15)\n",
      "(-0.05494176563394273, 0.8180456875238091)\n",
      "(0.036918898877897045, 0.8771940509268665)\n"
     ]
    }
   ],
   "source": [
    "sub_idx = 1\n",
    "para_idx = 1\n",
    "hists0 = _spss_2hist(res0.postSpss[sub_idx].numpy(), plotLimits)\n",
    "hists1 = _spss_2hist(res1.postSpss[sub_idx].numpy(), plotLimits)\n",
    "for para_idx in range(7):\n",
    "    print(scipy.stats.pearsonr(hists0[para_idx][0], hists1[para_idx][0]))"
   ]
  },
  {
   "cell_type": "code",
   "execution_count": null,
   "id": "97860aba",
   "metadata": {},
   "outputs": [],
   "source": []
  }
 ],
 "metadata": {
  "kernelspec": {
   "display_name": "Python 3 (ipykernel)",
   "language": "python",
   "name": "python3"
  },
  "language_info": {
   "codemirror_mode": {
    "name": "ipython",
    "version": 3
   },
   "file_extension": ".py",
   "mimetype": "text/x-python",
   "name": "python",
   "nbconvert_exporter": "python",
   "pygments_lexer": "ipython3",
   "version": "3.9.7"
  },
  "toc": {
   "base_numbering": 1,
   "nav_menu": {},
   "number_sections": true,
   "sideBar": true,
   "skip_h1_title": false,
   "title_cell": "Table of Contents",
   "title_sidebar": "Contents",
   "toc_cell": false,
   "toc_position": {
    "height": "calc(100% - 180px)",
    "left": "10px",
    "top": "150px",
    "width": "190px"
   },
   "toc_section_display": true,
   "toc_window_display": true
  }
 },
 "nbformat": 4,
 "nbformat_minor": 5
}
