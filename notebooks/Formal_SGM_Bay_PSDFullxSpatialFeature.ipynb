{
 "cells": [
  {
   "cell_type": "markdown",
   "id": "56b6b1db",
   "metadata": {},
   "source": [
    "## SBI steps\n",
    "\n",
    "1. Generate prior pairs (params, "
   ]
  },
  {
   "cell_type": "markdown",
   "id": "269c1f0a",
   "metadata": {},
   "source": [
    "### Import some useful pkgs"
   ]
  },
  {
   "cell_type": "code",
   "execution_count": 1,
   "id": "0e7b3b6a",
   "metadata": {},
   "outputs": [],
   "source": [
    "import os\n",
    "import sys\n",
    "import time\n",
    "module_path = os.path.abspath(os.path.join('..'))\n",
    "if module_path not in sys.path:\n",
    "    sys.path.append(module_path)"
   ]
  },
  {
   "cell_type": "markdown",
   "id": "f0c0f03b",
   "metadata": {},
   "source": [
    "#### Reload my modules"
   ]
  },
  {
   "cell_type": "code",
   "execution_count": 39,
   "id": "fbb701d3",
   "metadata": {},
   "outputs": [],
   "source": [
    "import importlib\n",
    "import sgm_fns\n",
    "import utils\n",
    "importlib.reload(sgm_fns)\n",
    "importlib.reload(utils);"
   ]
  },
  {
   "cell_type": "code",
   "execution_count": 40,
   "id": "d28e851c",
   "metadata": {},
   "outputs": [],
   "source": [
    "from spectrome import Brain, path, functions\n",
    "from sgm_fns import meg_psd2spatialfeature, Sgm\n",
    "from utils import mag2db"
   ]
  },
  {
   "cell_type": "code",
   "execution_count": 8,
   "id": "555995b6",
   "metadata": {},
   "outputs": [],
   "source": [
    "from spectrome import Brain, path, functions\n",
    "from tqdm import trange, tqdm\n",
    "\n",
    "import torch\n",
    "import torch.nn as nn \n",
    "import torch.nn.functional as F \n",
    "from sbi import utils as utils\n",
    "from sbi import analysis as analysis\n",
    "from sbi.inference.base import infer\n",
    "from sbi.inference import SNPE, prepare_for_sbi, simulate_for_sbi\n",
    "from sbi.utils.get_nn_models import posterior_nn\n",
    "from sklearn.preprocessing import minmax_scale\n",
    "\n",
    "import numpy as np\n",
    "import xarray as xr\n",
    "from easydict import EasyDict as edict\n",
    "from pathlib import Path\n",
    "import pickle\n",
    "import scipy"
   ]
  },
  {
   "cell_type": "code",
   "execution_count": 9,
   "id": "bd043bf3",
   "metadata": {},
   "outputs": [],
   "source": [
    "import seaborn as sns\n",
    "import pandas as pd\n",
    "import matplotlib.pyplot as plt"
   ]
  },
  {
   "cell_type": "code",
   "execution_count": null,
   "id": "70b7f000",
   "metadata": {},
   "outputs": [],
   "source": []
  },
  {
   "cell_type": "markdown",
   "id": "a3712320",
   "metadata": {},
   "source": [
    "### Some functions"
   ]
  },
  {
   "cell_type": "code",
   "execution_count": 34,
   "id": "569395ae",
   "metadata": {},
   "outputs": [],
   "source": [
    "std_psd = lambda x: (x- x.mean(axis=1).reshape(-1, 1))/x.std(axis=1).reshape(-1, 1)\n",
    "std_vec = lambda x: (x-x.mean())/x.std()\n",
    "minmax_vec = lambda x: (x-x.min())/(x.max()-x.min())"
   ]
  },
  {
   "cell_type": "code",
   "execution_count": null,
   "id": "e291220f",
   "metadata": {},
   "outputs": [],
   "source": []
  },
  {
   "cell_type": "markdown",
   "id": "4022c78f",
   "metadata": {
    "heading_collapsed": true
   },
   "source": [
    "### Load real data PSD and brain"
   ]
  },
  {
   "cell_type": "markdown",
   "id": "bcd6c5ab",
   "metadata": {
    "heading_collapsed": true,
    "hidden": true
   },
   "source": [
    "#### PSD and connectome"
   ]
  },
  {
   "cell_type": "code",
   "execution_count": 35,
   "id": "bb358643",
   "metadata": {
    "hidden": true
   },
   "outputs": [],
   "source": [
    "# Load data\n",
    "ind_psd_xr = xr.open_dataarray('../data/individual_psd_reordered_matlab.nc')\n",
    "ind_psd = ind_psd_xr.values\n",
    "freqs = ind_psd_xr[\"frequencies\"].values\n",
    "ind_conn_xr = xr.open_dataarray('../data/individual_connectomes_reordered.nc')\n",
    "ind_conn = ind_conn_xr.values\n",
    "\n",
    "\n",
    "\n",
    "data_dir = path.get_data_path()"
   ]
  },
  {
   "cell_type": "markdown",
   "id": "972daa5f",
   "metadata": {
    "heading_collapsed": true,
    "hidden": true
   },
   "source": [
    "#### data for brain plots"
   ]
  },
  {
   "cell_type": "code",
   "execution_count": 36,
   "id": "ebc0d469",
   "metadata": {
    "hidden": true
   },
   "outputs": [],
   "source": [
    "# Get reorder indeix\n",
    "# dk86.***.txt is the order for the MEG data\n",
    "# DK68_labelorder.xlsx is the order for the template\n",
    "dk_brainnet = pd.read_excel(Path(data_dir)/\"DK68_labelorder.xlsx\")\n",
    "with open(Path(data_dir)/'dk86atlas_regions_python.txt') as f:\n",
    "    dk_python = f.readlines()\n",
    "    \n",
    "brainnet_order = dk_brainnet[\"Order in Brainstorm\"]\n",
    "dk_python_renamed = []\n",
    "brainnet_renamed = []\n",
    "\n",
    "for i in range(len(dk_python)):\n",
    "    sp1 = dk_python[i].split('=')\n",
    "    sp2 = sp1[1].split('_')\n",
    "    dk_python_renamed.append((sp2[0] + ' ' + sp2[1]).lower().strip())\n",
    "\n",
    "for i in range(len(brainnet_order)):\n",
    "    brainnet_renamed.append((brainnet_order[i].replace(\"'\",\"\")).lower())\n",
    "\n",
    "d = {x: a for a, x in enumerate(dk_python_renamed[0:68])}\n",
    "orderedind = np.array([d[x] for x in brainnet_renamed])"
   ]
  },
  {
   "cell_type": "code",
   "execution_count": 37,
   "id": "1b9e0c6d",
   "metadata": {
    "hidden": true
   },
   "outputs": [],
   "source": [
    "def reorderU(wU):\n",
    "    wUreorder = wU.copy()\n",
    "    wUreorder = wU[orderedind]\n",
    "    return wUreorder\n",
    "\n",
    "with open(Path(data_dir)/'BNVtemplate_DK68.txt', \"r\") as tf:\n",
    "    DKtmplateRaw = tf.readlines()\n",
    "DKtmplate = np.array([int(x.strip()) for x in DKtmplateRaw])\n",
    "\n",
    "def U2BrainVec(wU):\n",
    "    emVec = np.zeros_like(DKtmplate, dtype=np.float64)\n",
    "    for idx in range(1, 69):\n",
    "        emVec[DKtmplate==idx] = wU[idx-1]\n",
    "    return emVec"
   ]
  },
  {
   "cell_type": "markdown",
   "id": "b6960bf4",
   "metadata": {},
   "source": [
    "### Set up Parameters"
   ]
  },
  {
   "cell_type": "code",
   "execution_count": 43,
   "id": "d9326efc",
   "metadata": {},
   "outputs": [],
   "source": [
    "paras = edict()\n",
    "paras.noise_sd = 0.2\n",
    "paras.num_prior_sps = int(1e5)\n",
    "paras.path = Path(\"./main_results1\")\n",
    "\n",
    "paras.robustParas = edict()\n",
    "paras.robustParas.num_rep = 20\n",
    "paras.robustParas.noise_sd = 0.2\n",
    "paras.robustParas.num_prior_sps = int(1e5)\n",
    "paras.robustParas.path = Path(paras.path/\"robust_results\")\n",
    "\n",
    "paras.tuningParas = edict()\n",
    "paras.tuningParas.num_rep = 20\n",
    "paras.tuningParas.noise_sd = 0.2\n",
    "paras.tuningParas.num_prior_sps = int(1e5)\n",
    "paras.tuningParas.path = Path(paras.path/\"tuning_results\")"
   ]
  },
  {
   "cell_type": "code",
   "execution_count": 44,
   "id": "d103885e",
   "metadata": {},
   "outputs": [],
   "source": [
    "if not paras.path.exists():\n",
    "    paras.path.mkdir()\n",
    "if not paras.robustParas.path.exists():\n",
    "    paras.robustParas.path.mkdir()\n",
    "if not paras.tuningParas.path.exists():\n",
    "    paras.tuningParas.path.mkdir()"
   ]
  },
  {
   "cell_type": "code",
   "execution_count": null,
   "id": "d7c08ebf",
   "metadata": {},
   "outputs": [],
   "source": []
  },
  {
   "cell_type": "markdown",
   "id": "86923703",
   "metadata": {},
   "source": [
    "### Prepare for SBI"
   ]
  },
  {
   "cell_type": "markdown",
   "id": "f931d238",
   "metadata": {},
   "source": [
    "#### Simulator"
   ]
  },
  {
   "cell_type": "code",
   "execution_count": 16,
   "id": "4302220a",
   "metadata": {},
   "outputs": [],
   "source": [
    "def para2res(params):\n",
    "    psd, spatialFs = sgmmodel.run_local_coupling_forward(params)\n",
    "    psdDB = mag2db(np.abs(psd))\n",
    "    stdPsdDB = stdPSDFn(psdDB)\n",
    "    stdSpatialF = stdFn(spatialFs.sum(axis=1))\n",
    "    return stdPsdDB, stdSpatialF\n",
    "\n",
    "def simulator(params):\n",
    "    psd, sp = para2res(params)\n",
    "    psd = psd[:68, :]\n",
    "    res = np.concatenate([psd.flatten(), sp])\n",
    "    #psdM = psd.mean(axis=0)\n",
    "    #res = np.concatenate([psdM, sp])\n",
    "    noise =  np.random.randn(*res.shape)*paras.noise_sd\n",
    "    return res + noise"
   ]
  },
  {
   "cell_type": "markdown",
   "id": "e2078c03",
   "metadata": {
    "heading_collapsed": true
   },
   "source": [
    "#### Prior "
   ]
  },
  {
   "cell_type": "code",
   "execution_count": 17,
   "id": "23dff474",
   "metadata": {
    "hidden": true
   },
   "outputs": [],
   "source": [
    "#v_lower = 3.5-1.8\n",
    "#v_upper = 3.5+1.8\n",
    "#bnds = ((5.0,30.0), (5.0,200.0), (0.1,1.0), (v_lower,v_upper), (0.5,10.0), (0.5,10.0), (5.0,30.0))\n",
    "#This is the order for the above bounds:  tau_e, tau_i, alpha, speed, gei, gii, tauC,\n",
    "\n",
    "# taue, taui, tauC, speed, alpha, gii, gei\n",
    "par_low = np.asarray([0.005,0.005,0.005,1.7,0.1,0.5,0.5])\n",
    "par_high = np.asarray([0.03, 0.20, 0.03,5.3,  1, 10, 10])"
   ]
  },
  {
   "cell_type": "code",
   "execution_count": null,
   "id": "58bfefe7",
   "metadata": {
    "hidden": true
   },
   "outputs": [],
   "source": []
  },
  {
   "cell_type": "markdown",
   "id": "91bd6baa",
   "metadata": {},
   "source": [
    "### Robustness of parameter estimation"
   ]
  },
  {
   "cell_type": "code",
   "execution_count": 41,
   "id": "ecacaff2",
   "metadata": {},
   "outputs": [],
   "source": [
    "def simulator4robust(params):\n",
    "    psd, sp = para2res(params)\n",
    "    psd = psd[:68, :]\n",
    "    res = np.concatenate([psd.flatten(), sp])\n",
    "    noise =  np.random.randn(*res.shape)*paras.robustParas.noise_sd\n",
    "    return res + noise"
   ]
  },
  {
   "cell_type": "code",
   "execution_count": 18,
   "id": "ddbfae29",
   "metadata": {},
   "outputs": [],
   "source": [
    "# obtain the brain\n",
    "data_dir = path.get_data_path()\n",
    "brain = Brain.Brain()\n",
    "brain.add_connectome(data_dir)\n",
    "brain.reorder_connectome(brain.connectome, brain.distance_matrix)\n",
    "brain.bi_symmetric_c()\n",
    "brain.reduce_extreme_dir()\n",
    "\n",
    "sgmmodel = Sgm(brain.reducedConnectome, brain.distance_matrix, freqs)"
   ]
  },
  {
   "cell_type": "code",
   "execution_count": 19,
   "id": "80812bb7",
   "metadata": {},
   "outputs": [],
   "source": [
    "prior = utils.BoxUniform(low=torch.as_tensor(par_low), high=torch.as_tensor(par_high))\n",
    "# make a SBI-wrapper on the simulator object for compatibility\n",
    "simulator_wrapper, prior = prepare_for_sbi(simulator, prior)"
   ]
  },
  {
   "cell_type": "code",
   "execution_count": null,
   "id": "cad6f35c",
   "metadata": {
    "code_folding": []
   },
   "outputs": [],
   "source": [
    "for ix in range(paras.robustParas.num_rep):\n",
    "    theta, x = simulate_for_sbi(simulator_wrapper, prior, num_simulations=int(paras.robustParas.num_prior_sps), num_workers=100)\n",
    "    fname = f\"./robustSps_{paras.robustParas.num_prior_sps:.0f}_sd{paras.robustParas.noise_sd*100:.0f}_{ix+1}.pkl\"\n",
    "        \n",
    "    inference = SNPE(prior=prior, density_estimator=\"mdn\")\n",
    "    density_estimator = inference.append_simulations(theta, x).train()\n",
    "    posterior = inference.build_posterior(density_estimator)\n",
    "    curRes = edict()\n",
    "    curRes.theta = theta\n",
    "    curRes.x = x\n",
    "    curRes.posterior = posterior\n",
    "    \n",
    "    with open(paras.robustParas.path/fname, \"wb\") as f:\n",
    "        pickle.dump(curRes, f)"
   ]
  },
  {
   "cell_type": "code",
   "execution_count": 23,
   "id": "524eee2e",
   "metadata": {},
   "outputs": [],
   "source": [
    "fils = list(paras.robustParas.path.glob(\"robustSps_100000_sd2*.pkl\"))\n",
    "tmpSortFn = lambda p: int(p.stem.split(\"_\")[-1])\n",
    "sortedFils = sorted(fils, key=tmpSortFn)"
   ]
  },
  {
   "cell_type": "code",
   "execution_count": 20,
   "id": "79a8050c",
   "metadata": {
    "scrolled": true
   },
   "outputs": [
    {
     "name": "stderr",
     "output_type": "stream",
     "text": [
      "\r",
      "  0%|                                                                                                          | 0/20 [00:00<?, ?it/s]"
     ]
    },
    {
     "data": {
      "application/vnd.jupyter.widget-view+json": {
       "model_id": "6bdf73ede6f642169fe0ae8f9522ad3d",
       "version_major": 2,
       "version_minor": 0
      },
      "text/plain": [
       "Drawing 10000 posterior samples:   0%|          | 0/10000 [00:00<?, ?it/s]"
      ]
     },
     "metadata": {},
     "output_type": "display_data"
    },
    {
     "name": "stderr",
     "output_type": "stream",
     "text": [
      "/home/hujin/.local/lib/python3.9/site-packages/pyknos/mdn/mdn.py:279: UserWarning: torch.triangular_solve is deprecated in favor of torch.linalg.solve_triangularand will be removed in a future PyTorch release.\n",
      "torch.linalg.solve_triangular has its arguments reversed and does not return a copy of one of the inputs.\n",
      "X = torch.triangular_solve(B, A).solution\n",
      "should be replaced with\n",
      "X = torch.linalg.solve_triangular(A, B). (Triggered internally at  ../aten/src/ATen/native/BatchLinearAlgebra.cpp:2189.)\n",
      "  zero_mean_samples, _ = torch.triangular_solve(\n"
     ]
    },
    {
     "data": {
      "application/vnd.jupyter.widget-view+json": {
       "model_id": "8430266a930f47ff9598423d851cf35b",
       "version_major": 2,
       "version_minor": 0
      },
      "text/plain": [
       "Drawing 10000 posterior samples:   0%|          | 0/10000 [00:00<?, ?it/s]"
      ]
     },
     "metadata": {},
     "output_type": "display_data"
    },
    {
     "data": {
      "application/vnd.jupyter.widget-view+json": {
       "model_id": "4e040c6e57d940c8ab8d2719a61a6331",
       "version_major": 2,
       "version_minor": 0
      },
      "text/plain": [
       "Drawing 10000 posterior samples:   0%|          | 0/10000 [00:00<?, ?it/s]"
      ]
     },
     "metadata": {},
     "output_type": "display_data"
    },
    {
     "data": {
      "application/vnd.jupyter.widget-view+json": {
       "model_id": "190c95bd3a394da0a000bf8a8559a496",
       "version_major": 2,
       "version_minor": 0
      },
      "text/plain": [
       "Drawing 10000 posterior samples:   0%|          | 0/10000 [00:00<?, ?it/s]"
      ]
     },
     "metadata": {},
     "output_type": "display_data"
    },
    {
     "data": {
      "application/vnd.jupyter.widget-view+json": {
       "model_id": "a5523d4090124931a33a5575b62b35b3",
       "version_major": 2,
       "version_minor": 0
      },
      "text/plain": [
       "Drawing 10000 posterior samples:   0%|          | 0/10000 [00:00<?, ?it/s]"
      ]
     },
     "metadata": {},
     "output_type": "display_data"
    },
    {
     "data": {
      "application/vnd.jupyter.widget-view+json": {
       "model_id": "e12600faf3fb49339cc4195b71b55b2f",
       "version_major": 2,
       "version_minor": 0
      },
      "text/plain": [
       "Drawing 10000 posterior samples:   0%|          | 0/10000 [00:00<?, ?it/s]"
      ]
     },
     "metadata": {},
     "output_type": "display_data"
    },
    {
     "data": {
      "application/vnd.jupyter.widget-view+json": {
       "model_id": "ab8d2812c37b42c3b41be64274e2cec4",
       "version_major": 2,
       "version_minor": 0
      },
      "text/plain": [
       "Drawing 10000 posterior samples:   0%|          | 0/10000 [00:00<?, ?it/s]"
      ]
     },
     "metadata": {},
     "output_type": "display_data"
    },
    {
     "data": {
      "application/vnd.jupyter.widget-view+json": {
       "model_id": "dfc816882b4d4a53896b7f2c036ade62",
       "version_major": 2,
       "version_minor": 0
      },
      "text/plain": [
       "Drawing 10000 posterior samples:   0%|          | 0/10000 [00:00<?, ?it/s]"
      ]
     },
     "metadata": {},
     "output_type": "display_data"
    },
    {
     "data": {
      "application/vnd.jupyter.widget-view+json": {
       "model_id": "c6c6a47de67a4513910f026379bebbd8",
       "version_major": 2,
       "version_minor": 0
      },
      "text/plain": [
       "Drawing 10000 posterior samples:   0%|          | 0/10000 [00:00<?, ?it/s]"
      ]
     },
     "metadata": {},
     "output_type": "display_data"
    },
    {
     "data": {
      "application/vnd.jupyter.widget-view+json": {
       "model_id": "8a163fbdddad452da3174b086803d689",
       "version_major": 2,
       "version_minor": 0
      },
      "text/plain": [
       "Drawing 10000 posterior samples:   0%|          | 0/10000 [00:00<?, ?it/s]"
      ]
     },
     "metadata": {},
     "output_type": "display_data"
    },
    {
     "data": {
      "application/vnd.jupyter.widget-view+json": {
       "model_id": "257f57efb79b43c5a62bd8e4fda829d1",
       "version_major": 2,
       "version_minor": 0
      },
      "text/plain": [
       "Drawing 10000 posterior samples:   0%|          | 0/10000 [00:00<?, ?it/s]"
      ]
     },
     "metadata": {},
     "output_type": "display_data"
    },
    {
     "data": {
      "application/vnd.jupyter.widget-view+json": {
       "model_id": "6f69258eda4d4751b37db0d19dd3f6ca",
       "version_major": 2,
       "version_minor": 0
      },
      "text/plain": [
       "Drawing 10000 posterior samples:   0%|          | 0/10000 [00:00<?, ?it/s]"
      ]
     },
     "metadata": {},
     "output_type": "display_data"
    },
    {
     "data": {
      "application/vnd.jupyter.widget-view+json": {
       "model_id": "77bb1eb69c404e2f9f037134c0ecb87f",
       "version_major": 2,
       "version_minor": 0
      },
      "text/plain": [
       "Drawing 10000 posterior samples:   0%|          | 0/10000 [00:00<?, ?it/s]"
      ]
     },
     "metadata": {},
     "output_type": "display_data"
    },
    {
     "data": {
      "application/vnd.jupyter.widget-view+json": {
       "model_id": "80829cdc0446487e8165458b0f166848",
       "version_major": 2,
       "version_minor": 0
      },
      "text/plain": [
       "Drawing 10000 posterior samples:   0%|          | 0/10000 [00:00<?, ?it/s]"
      ]
     },
     "metadata": {},
     "output_type": "display_data"
    },
    {
     "data": {
      "application/vnd.jupyter.widget-view+json": {
       "model_id": "91bbb34c4f794b6a82a8c7cda4d9d1e9",
       "version_major": 2,
       "version_minor": 0
      },
      "text/plain": [
       "Drawing 10000 posterior samples:   0%|          | 0/10000 [00:00<?, ?it/s]"
      ]
     },
     "metadata": {},
     "output_type": "display_data"
    },
    {
     "data": {
      "application/vnd.jupyter.widget-view+json": {
       "model_id": "fb0eb93a2382493f9ed0473fd928ad17",
       "version_major": 2,
       "version_minor": 0
      },
      "text/plain": [
       "Drawing 10000 posterior samples:   0%|          | 0/10000 [00:00<?, ?it/s]"
      ]
     },
     "metadata": {},
     "output_type": "display_data"
    },
    {
     "data": {
      "application/vnd.jupyter.widget-view+json": {
       "model_id": "b73f76e3034c4b2b8d5e4483b68ccb30",
       "version_major": 2,
       "version_minor": 0
      },
      "text/plain": [
       "Drawing 10000 posterior samples:   0%|          | 0/10000 [00:00<?, ?it/s]"
      ]
     },
     "metadata": {},
     "output_type": "display_data"
    },
    {
     "data": {
      "application/vnd.jupyter.widget-view+json": {
       "model_id": "c29599c24c0e4d8a94d4d60512aea896",
       "version_major": 2,
       "version_minor": 0
      },
      "text/plain": [
       "Drawing 10000 posterior samples:   0%|          | 0/10000 [00:00<?, ?it/s]"
      ]
     },
     "metadata": {},
     "output_type": "display_data"
    },
    {
     "data": {
      "application/vnd.jupyter.widget-view+json": {
       "model_id": "34bcbaeb4b294594b5cdab2fc8c26412",
       "version_major": 2,
       "version_minor": 0
      },
      "text/plain": [
       "Drawing 10000 posterior samples:   0%|          | 0/10000 [00:00<?, ?it/s]"
      ]
     },
     "metadata": {},
     "output_type": "display_data"
    },
    {
     "data": {
      "application/vnd.jupyter.widget-view+json": {
       "model_id": "e0f65a530af441489b106589c41c0ef1",
       "version_major": 2,
       "version_minor": 0
      },
      "text/plain": [
       "Drawing 10000 posterior samples:   0%|          | 0/10000 [00:00<?, ?it/s]"
      ]
     },
     "metadata": {},
     "output_type": "display_data"
    },
    {
     "data": {
      "application/vnd.jupyter.widget-view+json": {
       "model_id": "b7789ab262654e7cb41411324da2eeac",
       "version_major": 2,
       "version_minor": 0
      },
      "text/plain": [
       "Drawing 10000 posterior samples:   0%|          | 0/10000 [00:00<?, ?it/s]"
      ]
     },
     "metadata": {},
     "output_type": "display_data"
    },
    {
     "data": {
      "application/vnd.jupyter.widget-view+json": {
       "model_id": "e1e890ad880f4888a19cd7f4b53c0f5c",
       "version_major": 2,
       "version_minor": 0
      },
      "text/plain": [
       "Drawing 10000 posterior samples:   0%|          | 0/10000 [00:00<?, ?it/s]"
      ]
     },
     "metadata": {},
     "output_type": "display_data"
    },
    {
     "data": {
      "application/vnd.jupyter.widget-view+json": {
       "model_id": "6ea43b649f614c3eaea75286b3f0a3d5",
       "version_major": 2,
       "version_minor": 0
      },
      "text/plain": [
       "Drawing 10000 posterior samples:   0%|          | 0/10000 [00:00<?, ?it/s]"
      ]
     },
     "metadata": {},
     "output_type": "display_data"
    },
    {
     "data": {
      "application/vnd.jupyter.widget-view+json": {
       "model_id": "24aba6f86df342acba901e74f63e7d19",
       "version_major": 2,
       "version_minor": 0
      },
      "text/plain": [
       "Drawing 10000 posterior samples:   0%|          | 0/10000 [00:00<?, ?it/s]"
      ]
     },
     "metadata": {},
     "output_type": "display_data"
    },
    {
     "data": {
      "application/vnd.jupyter.widget-view+json": {
       "model_id": "97c2de17cf444caba0c8ed42e4eab55e",
       "version_major": 2,
       "version_minor": 0
      },
      "text/plain": [
       "Drawing 10000 posterior samples:   0%|          | 0/10000 [00:00<?, ?it/s]"
      ]
     },
     "metadata": {},
     "output_type": "display_data"
    },
    {
     "data": {
      "application/vnd.jupyter.widget-view+json": {
       "model_id": "fee02420104f492485f762babd2df7f6",
       "version_major": 2,
       "version_minor": 0
      },
      "text/plain": [
       "Drawing 10000 posterior samples:   0%|          | 0/10000 [00:00<?, ?it/s]"
      ]
     },
     "metadata": {},
     "output_type": "display_data"
    },
    {
     "data": {
      "application/vnd.jupyter.widget-view+json": {
       "model_id": "149ce56e8e1f4ebfabe3fb64db477afd",
       "version_major": 2,
       "version_minor": 0
      },
      "text/plain": [
       "Drawing 10000 posterior samples:   0%|          | 0/10000 [00:00<?, ?it/s]"
      ]
     },
     "metadata": {},
     "output_type": "display_data"
    },
    {
     "data": {
      "application/vnd.jupyter.widget-view+json": {
       "model_id": "30bd63c888e14ab0babb5eb176b87a28",
       "version_major": 2,
       "version_minor": 0
      },
      "text/plain": [
       "Drawing 10000 posterior samples:   0%|          | 0/10000 [00:00<?, ?it/s]"
      ]
     },
     "metadata": {},
     "output_type": "display_data"
    },
    {
     "data": {
      "application/vnd.jupyter.widget-view+json": {
       "model_id": "b795e22cc0d44884a25eee0853cc2a1f",
       "version_major": 2,
       "version_minor": 0
      },
      "text/plain": [
       "Drawing 10000 posterior samples:   0%|          | 0/10000 [00:00<?, ?it/s]"
      ]
     },
     "metadata": {},
     "output_type": "display_data"
    },
    {
     "data": {
      "application/vnd.jupyter.widget-view+json": {
       "model_id": "f27009bfebe44bda92c04c3bc9ff552b",
       "version_major": 2,
       "version_minor": 0
      },
      "text/plain": [
       "Drawing 10000 posterior samples:   0%|          | 0/10000 [00:00<?, ?it/s]"
      ]
     },
     "metadata": {},
     "output_type": "display_data"
    },
    {
     "data": {
      "application/vnd.jupyter.widget-view+json": {
       "model_id": "0fcb5960772545fc8098be0bcd830634",
       "version_major": 2,
       "version_minor": 0
      },
      "text/plain": [
       "Drawing 10000 posterior samples:   0%|          | 0/10000 [00:00<?, ?it/s]"
      ]
     },
     "metadata": {},
     "output_type": "display_data"
    },
    {
     "data": {
      "application/vnd.jupyter.widget-view+json": {
       "model_id": "f7ca329deeba42b285599358c39c5400",
       "version_major": 2,
       "version_minor": 0
      },
      "text/plain": [
       "Drawing 10000 posterior samples:   0%|          | 0/10000 [00:00<?, ?it/s]"
      ]
     },
     "metadata": {},
     "output_type": "display_data"
    },
    {
     "data": {
      "application/vnd.jupyter.widget-view+json": {
       "model_id": "b495099ef8f345cbac4ef240e3661fd7",
       "version_major": 2,
       "version_minor": 0
      },
      "text/plain": [
       "Drawing 10000 posterior samples:   0%|          | 0/10000 [00:00<?, ?it/s]"
      ]
     },
     "metadata": {},
     "output_type": "display_data"
    },
    {
     "data": {
      "application/vnd.jupyter.widget-view+json": {
       "model_id": "953662aaef534abca8099abcddb56dc9",
       "version_major": 2,
       "version_minor": 0
      },
      "text/plain": [
       "Drawing 10000 posterior samples:   0%|          | 0/10000 [00:00<?, ?it/s]"
      ]
     },
     "metadata": {},
     "output_type": "display_data"
    },
    {
     "data": {
      "application/vnd.jupyter.widget-view+json": {
       "model_id": "31389a089775460b941aca9dee7d0689",
       "version_major": 2,
       "version_minor": 0
      },
      "text/plain": [
       "Drawing 10000 posterior samples:   0%|          | 0/10000 [00:00<?, ?it/s]"
      ]
     },
     "metadata": {},
     "output_type": "display_data"
    },
    {
     "data": {
      "application/vnd.jupyter.widget-view+json": {
       "model_id": "fec225792d5a444ca2f91690db1d5c81",
       "version_major": 2,
       "version_minor": 0
      },
      "text/plain": [
       "Drawing 10000 posterior samples:   0%|          | 0/10000 [00:00<?, ?it/s]"
      ]
     },
     "metadata": {},
     "output_type": "display_data"
    },
    {
     "name": "stderr",
     "output_type": "stream",
     "text": [
      "\r",
      "  5%|████▉                                                                                             | 1/20 [00:01<00:33,  1.76s/it]"
     ]
    },
    {
     "data": {
      "application/vnd.jupyter.widget-view+json": {
       "model_id": "94bbd03495cf4a4786e7f31d25cb03b1",
       "version_major": 2,
       "version_minor": 0
      },
      "text/plain": [
       "Drawing 10000 posterior samples:   0%|          | 0/10000 [00:00<?, ?it/s]"
      ]
     },
     "metadata": {},
     "output_type": "display_data"
    },
    {
     "data": {
      "application/vnd.jupyter.widget-view+json": {
       "model_id": "9dbcef65d748457590a6db175b977ee5",
       "version_major": 2,
       "version_minor": 0
      },
      "text/plain": [
       "Drawing 10000 posterior samples:   0%|          | 0/10000 [00:00<?, ?it/s]"
      ]
     },
     "metadata": {},
     "output_type": "display_data"
    },
    {
     "data": {
      "application/vnd.jupyter.widget-view+json": {
       "model_id": "4318739b0e83490e83e62ec59c3005f8",
       "version_major": 2,
       "version_minor": 0
      },
      "text/plain": [
       "Drawing 10000 posterior samples:   0%|          | 0/10000 [00:00<?, ?it/s]"
      ]
     },
     "metadata": {},
     "output_type": "display_data"
    },
    {
     "data": {
      "application/vnd.jupyter.widget-view+json": {
       "model_id": "5ab4d39133834887ac85c1add978a81b",
       "version_major": 2,
       "version_minor": 0
      },
      "text/plain": [
       "Drawing 10000 posterior samples:   0%|          | 0/10000 [00:00<?, ?it/s]"
      ]
     },
     "metadata": {},
     "output_type": "display_data"
    },
    {
     "data": {
      "application/vnd.jupyter.widget-view+json": {
       "model_id": "f0e24fff17754c84b5096a81c2e9d12c",
       "version_major": 2,
       "version_minor": 0
      },
      "text/plain": [
       "Drawing 10000 posterior samples:   0%|          | 0/10000 [00:00<?, ?it/s]"
      ]
     },
     "metadata": {},
     "output_type": "display_data"
    },
    {
     "data": {
      "application/vnd.jupyter.widget-view+json": {
       "model_id": "e96255b4080b48f89b4879bc89e67fbb",
       "version_major": 2,
       "version_minor": 0
      },
      "text/plain": [
       "Drawing 10000 posterior samples:   0%|          | 0/10000 [00:00<?, ?it/s]"
      ]
     },
     "metadata": {},
     "output_type": "display_data"
    },
    {
     "data": {
      "application/vnd.jupyter.widget-view+json": {
       "model_id": "bf98b00b5a294af7b7541d90a8dca465",
       "version_major": 2,
       "version_minor": 0
      },
      "text/plain": [
       "Drawing 10000 posterior samples:   0%|          | 0/10000 [00:00<?, ?it/s]"
      ]
     },
     "metadata": {},
     "output_type": "display_data"
    },
    {
     "data": {
      "application/vnd.jupyter.widget-view+json": {
       "model_id": "03490db78ff741b8884f55eba2093190",
       "version_major": 2,
       "version_minor": 0
      },
      "text/plain": [
       "Drawing 10000 posterior samples:   0%|          | 0/10000 [00:00<?, ?it/s]"
      ]
     },
     "metadata": {},
     "output_type": "display_data"
    },
    {
     "data": {
      "application/vnd.jupyter.widget-view+json": {
       "model_id": "33543567513c48258a5ede79145b472e",
       "version_major": 2,
       "version_minor": 0
      },
      "text/plain": [
       "Drawing 10000 posterior samples:   0%|          | 0/10000 [00:00<?, ?it/s]"
      ]
     },
     "metadata": {},
     "output_type": "display_data"
    },
    {
     "data": {
      "application/vnd.jupyter.widget-view+json": {
       "model_id": "ada99e9fad5849d3a050cfcff76037fe",
       "version_major": 2,
       "version_minor": 0
      },
      "text/plain": [
       "Drawing 10000 posterior samples:   0%|          | 0/10000 [00:00<?, ?it/s]"
      ]
     },
     "metadata": {},
     "output_type": "display_data"
    },
    {
     "data": {
      "application/vnd.jupyter.widget-view+json": {
       "model_id": "cf2050afc69043459458e2a65adf3a42",
       "version_major": 2,
       "version_minor": 0
      },
      "text/plain": [
       "Drawing 10000 posterior samples:   0%|          | 0/10000 [00:00<?, ?it/s]"
      ]
     },
     "metadata": {},
     "output_type": "display_data"
    },
    {
     "data": {
      "application/vnd.jupyter.widget-view+json": {
       "model_id": "0280b4780592475cbe06ea8330b92a24",
       "version_major": 2,
       "version_minor": 0
      },
      "text/plain": [
       "Drawing 10000 posterior samples:   0%|          | 0/10000 [00:00<?, ?it/s]"
      ]
     },
     "metadata": {},
     "output_type": "display_data"
    },
    {
     "data": {
      "application/vnd.jupyter.widget-view+json": {
       "model_id": "53e07f25f10646ce896f73a0b9e730e3",
       "version_major": 2,
       "version_minor": 0
      },
      "text/plain": [
       "Drawing 10000 posterior samples:   0%|          | 0/10000 [00:00<?, ?it/s]"
      ]
     },
     "metadata": {},
     "output_type": "display_data"
    },
    {
     "data": {
      "application/vnd.jupyter.widget-view+json": {
       "model_id": "7198d00acc994fe0944d718281c56aac",
       "version_major": 2,
       "version_minor": 0
      },
      "text/plain": [
       "Drawing 10000 posterior samples:   0%|          | 0/10000 [00:00<?, ?it/s]"
      ]
     },
     "metadata": {},
     "output_type": "display_data"
    },
    {
     "data": {
      "application/vnd.jupyter.widget-view+json": {
       "model_id": "518c4c8ca79a43588fafec51153ed4e1",
       "version_major": 2,
       "version_minor": 0
      },
      "text/plain": [
       "Drawing 10000 posterior samples:   0%|          | 0/10000 [00:00<?, ?it/s]"
      ]
     },
     "metadata": {},
     "output_type": "display_data"
    },
    {
     "data": {
      "application/vnd.jupyter.widget-view+json": {
       "model_id": "33cefbf93aec4917a538cdfc212dedf0",
       "version_major": 2,
       "version_minor": 0
      },
      "text/plain": [
       "Drawing 10000 posterior samples:   0%|          | 0/10000 [00:00<?, ?it/s]"
      ]
     },
     "metadata": {},
     "output_type": "display_data"
    },
    {
     "data": {
      "application/vnd.jupyter.widget-view+json": {
       "model_id": "a3b9bde8df8d4e9580b704c820b33a65",
       "version_major": 2,
       "version_minor": 0
      },
      "text/plain": [
       "Drawing 10000 posterior samples:   0%|          | 0/10000 [00:00<?, ?it/s]"
      ]
     },
     "metadata": {},
     "output_type": "display_data"
    },
    {
     "data": {
      "application/vnd.jupyter.widget-view+json": {
       "model_id": "7ee1e48b49b044e7b0c0954ec2414289",
       "version_major": 2,
       "version_minor": 0
      },
      "text/plain": [
       "Drawing 10000 posterior samples:   0%|          | 0/10000 [00:00<?, ?it/s]"
      ]
     },
     "metadata": {},
     "output_type": "display_data"
    },
    {
     "data": {
      "application/vnd.jupyter.widget-view+json": {
       "model_id": "a19d4ebd939441688cddaf36794998cc",
       "version_major": 2,
       "version_minor": 0
      },
      "text/plain": [
       "Drawing 10000 posterior samples:   0%|          | 0/10000 [00:00<?, ?it/s]"
      ]
     },
     "metadata": {},
     "output_type": "display_data"
    },
    {
     "data": {
      "application/vnd.jupyter.widget-view+json": {
       "model_id": "cac2238ba3e84f19a015899a07940842",
       "version_major": 2,
       "version_minor": 0
      },
      "text/plain": [
       "Drawing 10000 posterior samples:   0%|          | 0/10000 [00:00<?, ?it/s]"
      ]
     },
     "metadata": {},
     "output_type": "display_data"
    },
    {
     "data": {
      "application/vnd.jupyter.widget-view+json": {
       "model_id": "ae80d436f22b4a48bdbfdc4a965b295d",
       "version_major": 2,
       "version_minor": 0
      },
      "text/plain": [
       "Drawing 10000 posterior samples:   0%|          | 0/10000 [00:00<?, ?it/s]"
      ]
     },
     "metadata": {},
     "output_type": "display_data"
    },
    {
     "data": {
      "application/vnd.jupyter.widget-view+json": {
       "model_id": "318c5d5364734cadb5e4723e02b6c263",
       "version_major": 2,
       "version_minor": 0
      },
      "text/plain": [
       "Drawing 10000 posterior samples:   0%|          | 0/10000 [00:00<?, ?it/s]"
      ]
     },
     "metadata": {},
     "output_type": "display_data"
    },
    {
     "data": {
      "application/vnd.jupyter.widget-view+json": {
       "model_id": "d731d3eb6a7e4f42bdf18a86975b024d",
       "version_major": 2,
       "version_minor": 0
      },
      "text/plain": [
       "Drawing 10000 posterior samples:   0%|          | 0/10000 [00:00<?, ?it/s]"
      ]
     },
     "metadata": {},
     "output_type": "display_data"
    },
    {
     "data": {
      "application/vnd.jupyter.widget-view+json": {
       "model_id": "9bfe728d977d4732b1fdb661b1c940a7",
       "version_major": 2,
       "version_minor": 0
      },
      "text/plain": [
       "Drawing 10000 posterior samples:   0%|          | 0/10000 [00:00<?, ?it/s]"
      ]
     },
     "metadata": {},
     "output_type": "display_data"
    },
    {
     "data": {
      "application/vnd.jupyter.widget-view+json": {
       "model_id": "26e7d615fa834798ada14cd2bb6ae9f4",
       "version_major": 2,
       "version_minor": 0
      },
      "text/plain": [
       "Drawing 10000 posterior samples:   0%|          | 0/10000 [00:00<?, ?it/s]"
      ]
     },
     "metadata": {},
     "output_type": "display_data"
    },
    {
     "data": {
      "application/vnd.jupyter.widget-view+json": {
       "model_id": "ca1148908b894017955e6ca5a9a43aeb",
       "version_major": 2,
       "version_minor": 0
      },
      "text/plain": [
       "Drawing 10000 posterior samples:   0%|          | 0/10000 [00:00<?, ?it/s]"
      ]
     },
     "metadata": {},
     "output_type": "display_data"
    },
    {
     "data": {
      "application/vnd.jupyter.widget-view+json": {
       "model_id": "6ababe7a8ec446cd92b6dd871ec454bd",
       "version_major": 2,
       "version_minor": 0
      },
      "text/plain": [
       "Drawing 10000 posterior samples:   0%|          | 0/10000 [00:00<?, ?it/s]"
      ]
     },
     "metadata": {},
     "output_type": "display_data"
    },
    {
     "data": {
      "application/vnd.jupyter.widget-view+json": {
       "model_id": "e92bc92509f547b39b992e5c187b2318",
       "version_major": 2,
       "version_minor": 0
      },
      "text/plain": [
       "Drawing 10000 posterior samples:   0%|          | 0/10000 [00:00<?, ?it/s]"
      ]
     },
     "metadata": {},
     "output_type": "display_data"
    },
    {
     "data": {
      "application/vnd.jupyter.widget-view+json": {
       "model_id": "a47eab1a2db64c3a878b297c9647006a",
       "version_major": 2,
       "version_minor": 0
      },
      "text/plain": [
       "Drawing 10000 posterior samples:   0%|          | 0/10000 [00:00<?, ?it/s]"
      ]
     },
     "metadata": {},
     "output_type": "display_data"
    },
    {
     "data": {
      "application/vnd.jupyter.widget-view+json": {
       "model_id": "ef67e824da1a4ac2ac4863b972bf71de",
       "version_major": 2,
       "version_minor": 0
      },
      "text/plain": [
       "Drawing 10000 posterior samples:   0%|          | 0/10000 [00:00<?, ?it/s]"
      ]
     },
     "metadata": {},
     "output_type": "display_data"
    },
    {
     "data": {
      "application/vnd.jupyter.widget-view+json": {
       "model_id": "0c8f97dd5182481089cf8324ba243e77",
       "version_major": 2,
       "version_minor": 0
      },
      "text/plain": [
       "Drawing 10000 posterior samples:   0%|          | 0/10000 [00:00<?, ?it/s]"
      ]
     },
     "metadata": {},
     "output_type": "display_data"
    },
    {
     "data": {
      "application/vnd.jupyter.widget-view+json": {
       "model_id": "d4d781d139154cb39be2f62482205a31",
       "version_major": 2,
       "version_minor": 0
      },
      "text/plain": [
       "Drawing 10000 posterior samples:   0%|          | 0/10000 [00:00<?, ?it/s]"
      ]
     },
     "metadata": {},
     "output_type": "display_data"
    },
    {
     "data": {
      "application/vnd.jupyter.widget-view+json": {
       "model_id": "0d7dc4c49fc1408aa4d57b18e2c2f744",
       "version_major": 2,
       "version_minor": 0
      },
      "text/plain": [
       "Drawing 10000 posterior samples:   0%|          | 0/10000 [00:00<?, ?it/s]"
      ]
     },
     "metadata": {},
     "output_type": "display_data"
    },
    {
     "data": {
      "application/vnd.jupyter.widget-view+json": {
       "model_id": "171ff2a4f7c743b78fca8f14c07f7712",
       "version_major": 2,
       "version_minor": 0
      },
      "text/plain": [
       "Drawing 10000 posterior samples:   0%|          | 0/10000 [00:00<?, ?it/s]"
      ]
     },
     "metadata": {},
     "output_type": "display_data"
    },
    {
     "data": {
      "application/vnd.jupyter.widget-view+json": {
       "model_id": "f37744c5c2cf418487b4e1c38c12845b",
       "version_major": 2,
       "version_minor": 0
      },
      "text/plain": [
       "Drawing 10000 posterior samples:   0%|          | 0/10000 [00:00<?, ?it/s]"
      ]
     },
     "metadata": {},
     "output_type": "display_data"
    },
    {
     "data": {
      "application/vnd.jupyter.widget-view+json": {
       "model_id": "253d53af70f44523b47d11427c47e4b8",
       "version_major": 2,
       "version_minor": 0
      },
      "text/plain": [
       "Drawing 10000 posterior samples:   0%|          | 0/10000 [00:00<?, ?it/s]"
      ]
     },
     "metadata": {},
     "output_type": "display_data"
    },
    {
     "name": "stderr",
     "output_type": "stream",
     "text": [
      "\r",
      " 10%|█████████▊                                                                                        | 2/20 [00:03<00:28,  1.60s/it]"
     ]
    },
    {
     "data": {
      "application/vnd.jupyter.widget-view+json": {
       "model_id": "52dbe002d90746b8a207bd66f025ecce",
       "version_major": 2,
       "version_minor": 0
      },
      "text/plain": [
       "Drawing 10000 posterior samples:   0%|          | 0/10000 [00:00<?, ?it/s]"
      ]
     },
     "metadata": {},
     "output_type": "display_data"
    },
    {
     "data": {
      "application/vnd.jupyter.widget-view+json": {
       "model_id": "fa0d184e52eb43bb86c2318396098a5c",
       "version_major": 2,
       "version_minor": 0
      },
      "text/plain": [
       "Drawing 10000 posterior samples:   0%|          | 0/10000 [00:00<?, ?it/s]"
      ]
     },
     "metadata": {},
     "output_type": "display_data"
    },
    {
     "data": {
      "application/vnd.jupyter.widget-view+json": {
       "model_id": "d52eebaa8a0b402f9e5f6ddebd190669",
       "version_major": 2,
       "version_minor": 0
      },
      "text/plain": [
       "Drawing 10000 posterior samples:   0%|          | 0/10000 [00:00<?, ?it/s]"
      ]
     },
     "metadata": {},
     "output_type": "display_data"
    },
    {
     "data": {
      "application/vnd.jupyter.widget-view+json": {
       "model_id": "468f4b02dcb74f568f0719c62deda09f",
       "version_major": 2,
       "version_minor": 0
      },
      "text/plain": [
       "Drawing 10000 posterior samples:   0%|          | 0/10000 [00:00<?, ?it/s]"
      ]
     },
     "metadata": {},
     "output_type": "display_data"
    },
    {
     "data": {
      "application/vnd.jupyter.widget-view+json": {
       "model_id": "3903efe335074ac5acad94e96fcc6022",
       "version_major": 2,
       "version_minor": 0
      },
      "text/plain": [
       "Drawing 10000 posterior samples:   0%|          | 0/10000 [00:00<?, ?it/s]"
      ]
     },
     "metadata": {},
     "output_type": "display_data"
    },
    {
     "data": {
      "application/vnd.jupyter.widget-view+json": {
       "model_id": "9c83cbc3ce794bd288213a9440b37846",
       "version_major": 2,
       "version_minor": 0
      },
      "text/plain": [
       "Drawing 10000 posterior samples:   0%|          | 0/10000 [00:00<?, ?it/s]"
      ]
     },
     "metadata": {},
     "output_type": "display_data"
    },
    {
     "data": {
      "application/vnd.jupyter.widget-view+json": {
       "model_id": "9d43e697eda2445896eaf99097dfa4f9",
       "version_major": 2,
       "version_minor": 0
      },
      "text/plain": [
       "Drawing 10000 posterior samples:   0%|          | 0/10000 [00:00<?, ?it/s]"
      ]
     },
     "metadata": {},
     "output_type": "display_data"
    },
    {
     "data": {
      "application/vnd.jupyter.widget-view+json": {
       "model_id": "2e2bf7faca324bd28877cb6e41bc3f7a",
       "version_major": 2,
       "version_minor": 0
      },
      "text/plain": [
       "Drawing 10000 posterior samples:   0%|          | 0/10000 [00:00<?, ?it/s]"
      ]
     },
     "metadata": {},
     "output_type": "display_data"
    },
    {
     "data": {
      "application/vnd.jupyter.widget-view+json": {
       "model_id": "0a3d68b518ce4fd49c4886a104cf1916",
       "version_major": 2,
       "version_minor": 0
      },
      "text/plain": [
       "Drawing 10000 posterior samples:   0%|          | 0/10000 [00:00<?, ?it/s]"
      ]
     },
     "metadata": {},
     "output_type": "display_data"
    },
    {
     "data": {
      "application/vnd.jupyter.widget-view+json": {
       "model_id": "06f28d9c04414a3a923991c9b8282892",
       "version_major": 2,
       "version_minor": 0
      },
      "text/plain": [
       "Drawing 10000 posterior samples:   0%|          | 0/10000 [00:00<?, ?it/s]"
      ]
     },
     "metadata": {},
     "output_type": "display_data"
    },
    {
     "data": {
      "application/vnd.jupyter.widget-view+json": {
       "model_id": "179519520bbc4bab95a8b3f3dc14f6ad",
       "version_major": 2,
       "version_minor": 0
      },
      "text/plain": [
       "Drawing 10000 posterior samples:   0%|          | 0/10000 [00:00<?, ?it/s]"
      ]
     },
     "metadata": {},
     "output_type": "display_data"
    },
    {
     "data": {
      "application/vnd.jupyter.widget-view+json": {
       "model_id": "72f902f94ee0424f8f1f473a8232f7cd",
       "version_major": 2,
       "version_minor": 0
      },
      "text/plain": [
       "Drawing 10000 posterior samples:   0%|          | 0/10000 [00:00<?, ?it/s]"
      ]
     },
     "metadata": {},
     "output_type": "display_data"
    },
    {
     "data": {
      "application/vnd.jupyter.widget-view+json": {
       "model_id": "3cd280e1567d407fb6441ca31a67004e",
       "version_major": 2,
       "version_minor": 0
      },
      "text/plain": [
       "Drawing 10000 posterior samples:   0%|          | 0/10000 [00:00<?, ?it/s]"
      ]
     },
     "metadata": {},
     "output_type": "display_data"
    },
    {
     "data": {
      "application/vnd.jupyter.widget-view+json": {
       "model_id": "60cc700451194677900217effd0bd1b0",
       "version_major": 2,
       "version_minor": 0
      },
      "text/plain": [
       "Drawing 10000 posterior samples:   0%|          | 0/10000 [00:00<?, ?it/s]"
      ]
     },
     "metadata": {},
     "output_type": "display_data"
    },
    {
     "data": {
      "application/vnd.jupyter.widget-view+json": {
       "model_id": "e38872dafef14508b0877ab84dc06a7b",
       "version_major": 2,
       "version_minor": 0
      },
      "text/plain": [
       "Drawing 10000 posterior samples:   0%|          | 0/10000 [00:00<?, ?it/s]"
      ]
     },
     "metadata": {},
     "output_type": "display_data"
    },
    {
     "data": {
      "application/vnd.jupyter.widget-view+json": {
       "model_id": "827af59855ef4feba8bd5ea2ed12abd7",
       "version_major": 2,
       "version_minor": 0
      },
      "text/plain": [
       "Drawing 10000 posterior samples:   0%|          | 0/10000 [00:00<?, ?it/s]"
      ]
     },
     "metadata": {},
     "output_type": "display_data"
    },
    {
     "data": {
      "application/vnd.jupyter.widget-view+json": {
       "model_id": "b3685c0056644cbdbfaa6275a06df9b8",
       "version_major": 2,
       "version_minor": 0
      },
      "text/plain": [
       "Drawing 10000 posterior samples:   0%|          | 0/10000 [00:00<?, ?it/s]"
      ]
     },
     "metadata": {},
     "output_type": "display_data"
    },
    {
     "data": {
      "application/vnd.jupyter.widget-view+json": {
       "model_id": "e180c96312c24ba987fb5435c8e66544",
       "version_major": 2,
       "version_minor": 0
      },
      "text/plain": [
       "Drawing 10000 posterior samples:   0%|          | 0/10000 [00:00<?, ?it/s]"
      ]
     },
     "metadata": {},
     "output_type": "display_data"
    },
    {
     "data": {
      "application/vnd.jupyter.widget-view+json": {
       "model_id": "6a31579317e742f09d76cbb9186ac988",
       "version_major": 2,
       "version_minor": 0
      },
      "text/plain": [
       "Drawing 10000 posterior samples:   0%|          | 0/10000 [00:00<?, ?it/s]"
      ]
     },
     "metadata": {},
     "output_type": "display_data"
    },
    {
     "data": {
      "application/vnd.jupyter.widget-view+json": {
       "model_id": "0bca50fd331b409987f89efb2b6de42e",
       "version_major": 2,
       "version_minor": 0
      },
      "text/plain": [
       "Drawing 10000 posterior samples:   0%|          | 0/10000 [00:00<?, ?it/s]"
      ]
     },
     "metadata": {},
     "output_type": "display_data"
    },
    {
     "data": {
      "application/vnd.jupyter.widget-view+json": {
       "model_id": "e9a3920fcdb249ad81b05864bfe0f848",
       "version_major": 2,
       "version_minor": 0
      },
      "text/plain": [
       "Drawing 10000 posterior samples:   0%|          | 0/10000 [00:00<?, ?it/s]"
      ]
     },
     "metadata": {},
     "output_type": "display_data"
    },
    {
     "data": {
      "application/vnd.jupyter.widget-view+json": {
       "model_id": "b8a7fbc341bb4c1da794fde42b6daf28",
       "version_major": 2,
       "version_minor": 0
      },
      "text/plain": [
       "Drawing 10000 posterior samples:   0%|          | 0/10000 [00:00<?, ?it/s]"
      ]
     },
     "metadata": {},
     "output_type": "display_data"
    },
    {
     "data": {
      "application/vnd.jupyter.widget-view+json": {
       "model_id": "e969bf74a5ec48f58f5640a048f995b2",
       "version_major": 2,
       "version_minor": 0
      },
      "text/plain": [
       "Drawing 10000 posterior samples:   0%|          | 0/10000 [00:00<?, ?it/s]"
      ]
     },
     "metadata": {},
     "output_type": "display_data"
    },
    {
     "data": {
      "application/vnd.jupyter.widget-view+json": {
       "model_id": "f60e563863be40eaa6fe577f7f48f8b9",
       "version_major": 2,
       "version_minor": 0
      },
      "text/plain": [
       "Drawing 10000 posterior samples:   0%|          | 0/10000 [00:00<?, ?it/s]"
      ]
     },
     "metadata": {},
     "output_type": "display_data"
    },
    {
     "data": {
      "application/vnd.jupyter.widget-view+json": {
       "model_id": "bc7fadc99f2840b79e2a648fa1239744",
       "version_major": 2,
       "version_minor": 0
      },
      "text/plain": [
       "Drawing 10000 posterior samples:   0%|          | 0/10000 [00:00<?, ?it/s]"
      ]
     },
     "metadata": {},
     "output_type": "display_data"
    },
    {
     "data": {
      "application/vnd.jupyter.widget-view+json": {
       "model_id": "77d1b8c665e840e38b88383daf38ca41",
       "version_major": 2,
       "version_minor": 0
      },
      "text/plain": [
       "Drawing 10000 posterior samples:   0%|          | 0/10000 [00:00<?, ?it/s]"
      ]
     },
     "metadata": {},
     "output_type": "display_data"
    },
    {
     "data": {
      "application/vnd.jupyter.widget-view+json": {
       "model_id": "db2be22a46b7420b875f1f7e83129c12",
       "version_major": 2,
       "version_minor": 0
      },
      "text/plain": [
       "Drawing 10000 posterior samples:   0%|          | 0/10000 [00:00<?, ?it/s]"
      ]
     },
     "metadata": {},
     "output_type": "display_data"
    },
    {
     "data": {
      "application/vnd.jupyter.widget-view+json": {
       "model_id": "3ffc406534f34e15bfb8832a20fa0650",
       "version_major": 2,
       "version_minor": 0
      },
      "text/plain": [
       "Drawing 10000 posterior samples:   0%|          | 0/10000 [00:00<?, ?it/s]"
      ]
     },
     "metadata": {},
     "output_type": "display_data"
    },
    {
     "data": {
      "application/vnd.jupyter.widget-view+json": {
       "model_id": "30c76ef09e0542d48ecfd5839cf61aef",
       "version_major": 2,
       "version_minor": 0
      },
      "text/plain": [
       "Drawing 10000 posterior samples:   0%|          | 0/10000 [00:00<?, ?it/s]"
      ]
     },
     "metadata": {},
     "output_type": "display_data"
    },
    {
     "data": {
      "application/vnd.jupyter.widget-view+json": {
       "model_id": "21c8ce021eea4644b9fd422d873f691b",
       "version_major": 2,
       "version_minor": 0
      },
      "text/plain": [
       "Drawing 10000 posterior samples:   0%|          | 0/10000 [00:00<?, ?it/s]"
      ]
     },
     "metadata": {},
     "output_type": "display_data"
    },
    {
     "data": {
      "application/vnd.jupyter.widget-view+json": {
       "model_id": "12ed67d192d54f92ba0e9b0372fda46d",
       "version_major": 2,
       "version_minor": 0
      },
      "text/plain": [
       "Drawing 10000 posterior samples:   0%|          | 0/10000 [00:00<?, ?it/s]"
      ]
     },
     "metadata": {},
     "output_type": "display_data"
    },
    {
     "data": {
      "application/vnd.jupyter.widget-view+json": {
       "model_id": "f3a0ede97cdb46ebb4677f6187a04469",
       "version_major": 2,
       "version_minor": 0
      },
      "text/plain": [
       "Drawing 10000 posterior samples:   0%|          | 0/10000 [00:00<?, ?it/s]"
      ]
     },
     "metadata": {},
     "output_type": "display_data"
    },
    {
     "data": {
      "application/vnd.jupyter.widget-view+json": {
       "model_id": "22ef908564ad428ea7ddf640a6667cfa",
       "version_major": 2,
       "version_minor": 0
      },
      "text/plain": [
       "Drawing 10000 posterior samples:   0%|          | 0/10000 [00:00<?, ?it/s]"
      ]
     },
     "metadata": {},
     "output_type": "display_data"
    },
    {
     "data": {
      "application/vnd.jupyter.widget-view+json": {
       "model_id": "87a360a04eac435c8bda1bb01e42a947",
       "version_major": 2,
       "version_minor": 0
      },
      "text/plain": [
       "Drawing 10000 posterior samples:   0%|          | 0/10000 [00:00<?, ?it/s]"
      ]
     },
     "metadata": {},
     "output_type": "display_data"
    },
    {
     "data": {
      "application/vnd.jupyter.widget-view+json": {
       "model_id": "e2f0d4b2e7fb4cdbba9801261efb6e91",
       "version_major": 2,
       "version_minor": 0
      },
      "text/plain": [
       "Drawing 10000 posterior samples:   0%|          | 0/10000 [00:00<?, ?it/s]"
      ]
     },
     "metadata": {},
     "output_type": "display_data"
    },
    {
     "data": {
      "application/vnd.jupyter.widget-view+json": {
       "model_id": "deeca1b9f80f4a01ad18112e62c6573e",
       "version_major": 2,
       "version_minor": 0
      },
      "text/plain": [
       "Drawing 10000 posterior samples:   0%|          | 0/10000 [00:00<?, ?it/s]"
      ]
     },
     "metadata": {},
     "output_type": "display_data"
    },
    {
     "name": "stderr",
     "output_type": "stream",
     "text": [
      "\r",
      " 15%|██████████████▋                                                                                   | 3/20 [00:04<00:26,  1.54s/it]"
     ]
    },
    {
     "data": {
      "application/vnd.jupyter.widget-view+json": {
       "model_id": "7ab2b3628d524e4f93adefb40459b330",
       "version_major": 2,
       "version_minor": 0
      },
      "text/plain": [
       "Drawing 10000 posterior samples:   0%|          | 0/10000 [00:00<?, ?it/s]"
      ]
     },
     "metadata": {},
     "output_type": "display_data"
    },
    {
     "data": {
      "application/vnd.jupyter.widget-view+json": {
       "model_id": "348573d58d4a4ce192b83f75d23f4684",
       "version_major": 2,
       "version_minor": 0
      },
      "text/plain": [
       "Drawing 10000 posterior samples:   0%|          | 0/10000 [00:00<?, ?it/s]"
      ]
     },
     "metadata": {},
     "output_type": "display_data"
    },
    {
     "data": {
      "application/vnd.jupyter.widget-view+json": {
       "model_id": "93fc3f8a7aaa4fa280265949feaf0296",
       "version_major": 2,
       "version_minor": 0
      },
      "text/plain": [
       "Drawing 10000 posterior samples:   0%|          | 0/10000 [00:00<?, ?it/s]"
      ]
     },
     "metadata": {},
     "output_type": "display_data"
    },
    {
     "data": {
      "application/vnd.jupyter.widget-view+json": {
       "model_id": "8ca1e8ee8a13488e90dbb5c9b01dd534",
       "version_major": 2,
       "version_minor": 0
      },
      "text/plain": [
       "Drawing 10000 posterior samples:   0%|          | 0/10000 [00:00<?, ?it/s]"
      ]
     },
     "metadata": {},
     "output_type": "display_data"
    },
    {
     "data": {
      "application/vnd.jupyter.widget-view+json": {
       "model_id": "2b5267fb0456409c8cf7d96329d500d3",
       "version_major": 2,
       "version_minor": 0
      },
      "text/plain": [
       "Drawing 10000 posterior samples:   0%|          | 0/10000 [00:00<?, ?it/s]"
      ]
     },
     "metadata": {},
     "output_type": "display_data"
    },
    {
     "data": {
      "application/vnd.jupyter.widget-view+json": {
       "model_id": "0589b5462d5b45a59b0ed6c89f85e914",
       "version_major": 2,
       "version_minor": 0
      },
      "text/plain": [
       "Drawing 10000 posterior samples:   0%|          | 0/10000 [00:00<?, ?it/s]"
      ]
     },
     "metadata": {},
     "output_type": "display_data"
    },
    {
     "data": {
      "application/vnd.jupyter.widget-view+json": {
       "model_id": "87c8620c42ce40c79b3452ebe4ac2b83",
       "version_major": 2,
       "version_minor": 0
      },
      "text/plain": [
       "Drawing 10000 posterior samples:   0%|          | 0/10000 [00:00<?, ?it/s]"
      ]
     },
     "metadata": {},
     "output_type": "display_data"
    },
    {
     "data": {
      "application/vnd.jupyter.widget-view+json": {
       "model_id": "8df1f3d41d6e4395884afcba0dcbbec0",
       "version_major": 2,
       "version_minor": 0
      },
      "text/plain": [
       "Drawing 10000 posterior samples:   0%|          | 0/10000 [00:00<?, ?it/s]"
      ]
     },
     "metadata": {},
     "output_type": "display_data"
    },
    {
     "data": {
      "application/vnd.jupyter.widget-view+json": {
       "model_id": "df43d301203943e0812d3665d4013130",
       "version_major": 2,
       "version_minor": 0
      },
      "text/plain": [
       "Drawing 10000 posterior samples:   0%|          | 0/10000 [00:00<?, ?it/s]"
      ]
     },
     "metadata": {},
     "output_type": "display_data"
    },
    {
     "data": {
      "application/vnd.jupyter.widget-view+json": {
       "model_id": "4cca7cc2bd31418791c72f16495b3de3",
       "version_major": 2,
       "version_minor": 0
      },
      "text/plain": [
       "Drawing 10000 posterior samples:   0%|          | 0/10000 [00:00<?, ?it/s]"
      ]
     },
     "metadata": {},
     "output_type": "display_data"
    },
    {
     "data": {
      "application/vnd.jupyter.widget-view+json": {
       "model_id": "7a35b97f29024404a98b67cc3f81301a",
       "version_major": 2,
       "version_minor": 0
      },
      "text/plain": [
       "Drawing 10000 posterior samples:   0%|          | 0/10000 [00:00<?, ?it/s]"
      ]
     },
     "metadata": {},
     "output_type": "display_data"
    },
    {
     "data": {
      "application/vnd.jupyter.widget-view+json": {
       "model_id": "8351ac636d1b454eb34f62a299f8443d",
       "version_major": 2,
       "version_minor": 0
      },
      "text/plain": [
       "Drawing 10000 posterior samples:   0%|          | 0/10000 [00:00<?, ?it/s]"
      ]
     },
     "metadata": {},
     "output_type": "display_data"
    },
    {
     "data": {
      "application/vnd.jupyter.widget-view+json": {
       "model_id": "bc2d180015bd4221983d6a8251c5b098",
       "version_major": 2,
       "version_minor": 0
      },
      "text/plain": [
       "Drawing 10000 posterior samples:   0%|          | 0/10000 [00:00<?, ?it/s]"
      ]
     },
     "metadata": {},
     "output_type": "display_data"
    },
    {
     "data": {
      "application/vnd.jupyter.widget-view+json": {
       "model_id": "046daa93856f469390afc8a99c095c91",
       "version_major": 2,
       "version_minor": 0
      },
      "text/plain": [
       "Drawing 10000 posterior samples:   0%|          | 0/10000 [00:00<?, ?it/s]"
      ]
     },
     "metadata": {},
     "output_type": "display_data"
    },
    {
     "data": {
      "application/vnd.jupyter.widget-view+json": {
       "model_id": "ba26f3b955be4c3f893b77f941db46c0",
       "version_major": 2,
       "version_minor": 0
      },
      "text/plain": [
       "Drawing 10000 posterior samples:   0%|          | 0/10000 [00:00<?, ?it/s]"
      ]
     },
     "metadata": {},
     "output_type": "display_data"
    },
    {
     "data": {
      "application/vnd.jupyter.widget-view+json": {
       "model_id": "3a953afc7c694ce885a00b1436217137",
       "version_major": 2,
       "version_minor": 0
      },
      "text/plain": [
       "Drawing 10000 posterior samples:   0%|          | 0/10000 [00:00<?, ?it/s]"
      ]
     },
     "metadata": {},
     "output_type": "display_data"
    },
    {
     "data": {
      "application/vnd.jupyter.widget-view+json": {
       "model_id": "3ab36ec3a6a7460181c6c6eaafa0dcc5",
       "version_major": 2,
       "version_minor": 0
      },
      "text/plain": [
       "Drawing 10000 posterior samples:   0%|          | 0/10000 [00:00<?, ?it/s]"
      ]
     },
     "metadata": {},
     "output_type": "display_data"
    },
    {
     "data": {
      "application/vnd.jupyter.widget-view+json": {
       "model_id": "6d8dda785bba49149d5938795496f9fb",
       "version_major": 2,
       "version_minor": 0
      },
      "text/plain": [
       "Drawing 10000 posterior samples:   0%|          | 0/10000 [00:00<?, ?it/s]"
      ]
     },
     "metadata": {},
     "output_type": "display_data"
    },
    {
     "data": {
      "application/vnd.jupyter.widget-view+json": {
       "model_id": "12ceca0495254014b0502e33291deef2",
       "version_major": 2,
       "version_minor": 0
      },
      "text/plain": [
       "Drawing 10000 posterior samples:   0%|          | 0/10000 [00:00<?, ?it/s]"
      ]
     },
     "metadata": {},
     "output_type": "display_data"
    },
    {
     "data": {
      "application/vnd.jupyter.widget-view+json": {
       "model_id": "58d77eb2283c4b279c11fc9b02b24616",
       "version_major": 2,
       "version_minor": 0
      },
      "text/plain": [
       "Drawing 10000 posterior samples:   0%|          | 0/10000 [00:00<?, ?it/s]"
      ]
     },
     "metadata": {},
     "output_type": "display_data"
    },
    {
     "data": {
      "application/vnd.jupyter.widget-view+json": {
       "model_id": "08085f2c106d4101afe3dafb62e709a6",
       "version_major": 2,
       "version_minor": 0
      },
      "text/plain": [
       "Drawing 10000 posterior samples:   0%|          | 0/10000 [00:00<?, ?it/s]"
      ]
     },
     "metadata": {},
     "output_type": "display_data"
    },
    {
     "data": {
      "application/vnd.jupyter.widget-view+json": {
       "model_id": "16aa66158d84428d9f31cac44877b9bb",
       "version_major": 2,
       "version_minor": 0
      },
      "text/plain": [
       "Drawing 10000 posterior samples:   0%|          | 0/10000 [00:00<?, ?it/s]"
      ]
     },
     "metadata": {},
     "output_type": "display_data"
    },
    {
     "data": {
      "application/vnd.jupyter.widget-view+json": {
       "model_id": "18ef9a9571a345c3949dd544048e1291",
       "version_major": 2,
       "version_minor": 0
      },
      "text/plain": [
       "Drawing 10000 posterior samples:   0%|          | 0/10000 [00:00<?, ?it/s]"
      ]
     },
     "metadata": {},
     "output_type": "display_data"
    },
    {
     "data": {
      "application/vnd.jupyter.widget-view+json": {
       "model_id": "1e8ff35703f247b8884b49be3cb3c78a",
       "version_major": 2,
       "version_minor": 0
      },
      "text/plain": [
       "Drawing 10000 posterior samples:   0%|          | 0/10000 [00:00<?, ?it/s]"
      ]
     },
     "metadata": {},
     "output_type": "display_data"
    },
    {
     "data": {
      "application/vnd.jupyter.widget-view+json": {
       "model_id": "9dfa0ab99a1a4452a13c1bea10bfcc5b",
       "version_major": 2,
       "version_minor": 0
      },
      "text/plain": [
       "Drawing 10000 posterior samples:   0%|          | 0/10000 [00:00<?, ?it/s]"
      ]
     },
     "metadata": {},
     "output_type": "display_data"
    },
    {
     "data": {
      "application/vnd.jupyter.widget-view+json": {
       "model_id": "b060381f15714f63a21fff759a5f6093",
       "version_major": 2,
       "version_minor": 0
      },
      "text/plain": [
       "Drawing 10000 posterior samples:   0%|          | 0/10000 [00:00<?, ?it/s]"
      ]
     },
     "metadata": {},
     "output_type": "display_data"
    },
    {
     "data": {
      "application/vnd.jupyter.widget-view+json": {
       "model_id": "e0880d1f397a457dbe601827b2c4e85b",
       "version_major": 2,
       "version_minor": 0
      },
      "text/plain": [
       "Drawing 10000 posterior samples:   0%|          | 0/10000 [00:00<?, ?it/s]"
      ]
     },
     "metadata": {},
     "output_type": "display_data"
    },
    {
     "data": {
      "application/vnd.jupyter.widget-view+json": {
       "model_id": "a75dac69d5f24e888a6d379638e84e8e",
       "version_major": 2,
       "version_minor": 0
      },
      "text/plain": [
       "Drawing 10000 posterior samples:   0%|          | 0/10000 [00:00<?, ?it/s]"
      ]
     },
     "metadata": {},
     "output_type": "display_data"
    },
    {
     "data": {
      "application/vnd.jupyter.widget-view+json": {
       "model_id": "31dfba1e6db14dee8bc051644711a931",
       "version_major": 2,
       "version_minor": 0
      },
      "text/plain": [
       "Drawing 10000 posterior samples:   0%|          | 0/10000 [00:00<?, ?it/s]"
      ]
     },
     "metadata": {},
     "output_type": "display_data"
    },
    {
     "data": {
      "application/vnd.jupyter.widget-view+json": {
       "model_id": "8a03618d7f6e4862825373b140dd7a85",
       "version_major": 2,
       "version_minor": 0
      },
      "text/plain": [
       "Drawing 10000 posterior samples:   0%|          | 0/10000 [00:00<?, ?it/s]"
      ]
     },
     "metadata": {},
     "output_type": "display_data"
    },
    {
     "data": {
      "application/vnd.jupyter.widget-view+json": {
       "model_id": "31acee01a5d74f21ace1a2305ca5d805",
       "version_major": 2,
       "version_minor": 0
      },
      "text/plain": [
       "Drawing 10000 posterior samples:   0%|          | 0/10000 [00:00<?, ?it/s]"
      ]
     },
     "metadata": {},
     "output_type": "display_data"
    },
    {
     "data": {
      "application/vnd.jupyter.widget-view+json": {
       "model_id": "ef19b39e60044f4682a2e3d63c1ad77f",
       "version_major": 2,
       "version_minor": 0
      },
      "text/plain": [
       "Drawing 10000 posterior samples:   0%|          | 0/10000 [00:00<?, ?it/s]"
      ]
     },
     "metadata": {},
     "output_type": "display_data"
    },
    {
     "data": {
      "application/vnd.jupyter.widget-view+json": {
       "model_id": "f6b75c0df09c44fea20a86f3c6abce0e",
       "version_major": 2,
       "version_minor": 0
      },
      "text/plain": [
       "Drawing 10000 posterior samples:   0%|          | 0/10000 [00:00<?, ?it/s]"
      ]
     },
     "metadata": {},
     "output_type": "display_data"
    },
    {
     "data": {
      "application/vnd.jupyter.widget-view+json": {
       "model_id": "00bd2521bc7e4500b8a4a33bd5e6fb6f",
       "version_major": 2,
       "version_minor": 0
      },
      "text/plain": [
       "Drawing 10000 posterior samples:   0%|          | 0/10000 [00:00<?, ?it/s]"
      ]
     },
     "metadata": {},
     "output_type": "display_data"
    },
    {
     "data": {
      "application/vnd.jupyter.widget-view+json": {
       "model_id": "2d7271ba5d4f4ad790cf5738cba33a49",
       "version_major": 2,
       "version_minor": 0
      },
      "text/plain": [
       "Drawing 10000 posterior samples:   0%|          | 0/10000 [00:00<?, ?it/s]"
      ]
     },
     "metadata": {},
     "output_type": "display_data"
    },
    {
     "data": {
      "application/vnd.jupyter.widget-view+json": {
       "model_id": "8c4b21073d5a472784aec6510b4ba7bb",
       "version_major": 2,
       "version_minor": 0
      },
      "text/plain": [
       "Drawing 10000 posterior samples:   0%|          | 0/10000 [00:00<?, ?it/s]"
      ]
     },
     "metadata": {},
     "output_type": "display_data"
    },
    {
     "name": "stderr",
     "output_type": "stream",
     "text": [
      "\r",
      " 20%|███████████████████▌                                                                              | 4/20 [00:06<00:24,  1.52s/it]"
     ]
    },
    {
     "data": {
      "application/vnd.jupyter.widget-view+json": {
       "model_id": "8cf38c225f5e43b4a5d502aaeeaff6fb",
       "version_major": 2,
       "version_minor": 0
      },
      "text/plain": [
       "Drawing 10000 posterior samples:   0%|          | 0/10000 [00:00<?, ?it/s]"
      ]
     },
     "metadata": {},
     "output_type": "display_data"
    },
    {
     "data": {
      "application/vnd.jupyter.widget-view+json": {
       "model_id": "93478e8ec748457790bf7a71069eaa38",
       "version_major": 2,
       "version_minor": 0
      },
      "text/plain": [
       "Drawing 10000 posterior samples:   0%|          | 0/10000 [00:00<?, ?it/s]"
      ]
     },
     "metadata": {},
     "output_type": "display_data"
    },
    {
     "data": {
      "application/vnd.jupyter.widget-view+json": {
       "model_id": "11350df44ba549ba805dff0f554a38ac",
       "version_major": 2,
       "version_minor": 0
      },
      "text/plain": [
       "Drawing 10000 posterior samples:   0%|          | 0/10000 [00:00<?, ?it/s]"
      ]
     },
     "metadata": {},
     "output_type": "display_data"
    },
    {
     "data": {
      "application/vnd.jupyter.widget-view+json": {
       "model_id": "782c57301e034854bec84ebc887051e6",
       "version_major": 2,
       "version_minor": 0
      },
      "text/plain": [
       "Drawing 10000 posterior samples:   0%|          | 0/10000 [00:00<?, ?it/s]"
      ]
     },
     "metadata": {},
     "output_type": "display_data"
    },
    {
     "data": {
      "application/vnd.jupyter.widget-view+json": {
       "model_id": "e12538d93dae483089a7a24b16e4bfd9",
       "version_major": 2,
       "version_minor": 0
      },
      "text/plain": [
       "Drawing 10000 posterior samples:   0%|          | 0/10000 [00:00<?, ?it/s]"
      ]
     },
     "metadata": {},
     "output_type": "display_data"
    },
    {
     "data": {
      "application/vnd.jupyter.widget-view+json": {
       "model_id": "5162b4420d4d4100b50340721cb66a82",
       "version_major": 2,
       "version_minor": 0
      },
      "text/plain": [
       "Drawing 10000 posterior samples:   0%|          | 0/10000 [00:00<?, ?it/s]"
      ]
     },
     "metadata": {},
     "output_type": "display_data"
    },
    {
     "data": {
      "application/vnd.jupyter.widget-view+json": {
       "model_id": "ec54ac33036a4282bdb7c7648e252702",
       "version_major": 2,
       "version_minor": 0
      },
      "text/plain": [
       "Drawing 10000 posterior samples:   0%|          | 0/10000 [00:00<?, ?it/s]"
      ]
     },
     "metadata": {},
     "output_type": "display_data"
    },
    {
     "data": {
      "application/vnd.jupyter.widget-view+json": {
       "model_id": "335790c7fee64b198aaa8d62cd134d17",
       "version_major": 2,
       "version_minor": 0
      },
      "text/plain": [
       "Drawing 10000 posterior samples:   0%|          | 0/10000 [00:00<?, ?it/s]"
      ]
     },
     "metadata": {},
     "output_type": "display_data"
    },
    {
     "data": {
      "application/vnd.jupyter.widget-view+json": {
       "model_id": "9cdc9b2c38774b01b0e58265773cad92",
       "version_major": 2,
       "version_minor": 0
      },
      "text/plain": [
       "Drawing 10000 posterior samples:   0%|          | 0/10000 [00:00<?, ?it/s]"
      ]
     },
     "metadata": {},
     "output_type": "display_data"
    },
    {
     "data": {
      "application/vnd.jupyter.widget-view+json": {
       "model_id": "9563f672d21b4cfea9d74a00453e160b",
       "version_major": 2,
       "version_minor": 0
      },
      "text/plain": [
       "Drawing 10000 posterior samples:   0%|          | 0/10000 [00:00<?, ?it/s]"
      ]
     },
     "metadata": {},
     "output_type": "display_data"
    },
    {
     "data": {
      "application/vnd.jupyter.widget-view+json": {
       "model_id": "dca4625ba13f49998b412f656b655fa3",
       "version_major": 2,
       "version_minor": 0
      },
      "text/plain": [
       "Drawing 10000 posterior samples:   0%|          | 0/10000 [00:00<?, ?it/s]"
      ]
     },
     "metadata": {},
     "output_type": "display_data"
    },
    {
     "data": {
      "application/vnd.jupyter.widget-view+json": {
       "model_id": "cc536160cfbd450f9466b6a09b256a01",
       "version_major": 2,
       "version_minor": 0
      },
      "text/plain": [
       "Drawing 10000 posterior samples:   0%|          | 0/10000 [00:00<?, ?it/s]"
      ]
     },
     "metadata": {},
     "output_type": "display_data"
    },
    {
     "data": {
      "application/vnd.jupyter.widget-view+json": {
       "model_id": "ade371fb4977480fb6a676de607f0981",
       "version_major": 2,
       "version_minor": 0
      },
      "text/plain": [
       "Drawing 10000 posterior samples:   0%|          | 0/10000 [00:00<?, ?it/s]"
      ]
     },
     "metadata": {},
     "output_type": "display_data"
    },
    {
     "data": {
      "application/vnd.jupyter.widget-view+json": {
       "model_id": "600be17a8d9842198faec9de7c24b343",
       "version_major": 2,
       "version_minor": 0
      },
      "text/plain": [
       "Drawing 10000 posterior samples:   0%|          | 0/10000 [00:00<?, ?it/s]"
      ]
     },
     "metadata": {},
     "output_type": "display_data"
    },
    {
     "data": {
      "application/vnd.jupyter.widget-view+json": {
       "model_id": "e700f7c1cb29430191ded893e5f6455f",
       "version_major": 2,
       "version_minor": 0
      },
      "text/plain": [
       "Drawing 10000 posterior samples:   0%|          | 0/10000 [00:00<?, ?it/s]"
      ]
     },
     "metadata": {},
     "output_type": "display_data"
    },
    {
     "data": {
      "application/vnd.jupyter.widget-view+json": {
       "model_id": "dc8a04b64b4941d0934af5de9eac3281",
       "version_major": 2,
       "version_minor": 0
      },
      "text/plain": [
       "Drawing 10000 posterior samples:   0%|          | 0/10000 [00:00<?, ?it/s]"
      ]
     },
     "metadata": {},
     "output_type": "display_data"
    },
    {
     "data": {
      "application/vnd.jupyter.widget-view+json": {
       "model_id": "d9783cbc4a5b4496b1891e31e8f8af71",
       "version_major": 2,
       "version_minor": 0
      },
      "text/plain": [
       "Drawing 10000 posterior samples:   0%|          | 0/10000 [00:00<?, ?it/s]"
      ]
     },
     "metadata": {},
     "output_type": "display_data"
    },
    {
     "data": {
      "application/vnd.jupyter.widget-view+json": {
       "model_id": "beb09f33e6ce446a801cd99683fe2389",
       "version_major": 2,
       "version_minor": 0
      },
      "text/plain": [
       "Drawing 10000 posterior samples:   0%|          | 0/10000 [00:00<?, ?it/s]"
      ]
     },
     "metadata": {},
     "output_type": "display_data"
    },
    {
     "data": {
      "application/vnd.jupyter.widget-view+json": {
       "model_id": "8cf6ceca9a1440aab3eb89653771722f",
       "version_major": 2,
       "version_minor": 0
      },
      "text/plain": [
       "Drawing 10000 posterior samples:   0%|          | 0/10000 [00:00<?, ?it/s]"
      ]
     },
     "metadata": {},
     "output_type": "display_data"
    },
    {
     "data": {
      "application/vnd.jupyter.widget-view+json": {
       "model_id": "282111f4e01c40ce83d60a932200cbe9",
       "version_major": 2,
       "version_minor": 0
      },
      "text/plain": [
       "Drawing 10000 posterior samples:   0%|          | 0/10000 [00:00<?, ?it/s]"
      ]
     },
     "metadata": {},
     "output_type": "display_data"
    },
    {
     "data": {
      "application/vnd.jupyter.widget-view+json": {
       "model_id": "687d930863e341c1b7265780e4c2939c",
       "version_major": 2,
       "version_minor": 0
      },
      "text/plain": [
       "Drawing 10000 posterior samples:   0%|          | 0/10000 [00:00<?, ?it/s]"
      ]
     },
     "metadata": {},
     "output_type": "display_data"
    },
    {
     "data": {
      "application/vnd.jupyter.widget-view+json": {
       "model_id": "7bd006e8ebd04abcb3dd5d2ef5bc3ef9",
       "version_major": 2,
       "version_minor": 0
      },
      "text/plain": [
       "Drawing 10000 posterior samples:   0%|          | 0/10000 [00:00<?, ?it/s]"
      ]
     },
     "metadata": {},
     "output_type": "display_data"
    },
    {
     "data": {
      "application/vnd.jupyter.widget-view+json": {
       "model_id": "486427f43b9849a399759b4d95f5e491",
       "version_major": 2,
       "version_minor": 0
      },
      "text/plain": [
       "Drawing 10000 posterior samples:   0%|          | 0/10000 [00:00<?, ?it/s]"
      ]
     },
     "metadata": {},
     "output_type": "display_data"
    },
    {
     "data": {
      "application/vnd.jupyter.widget-view+json": {
       "model_id": "06275f614a6e4c43a36358023a0f45c3",
       "version_major": 2,
       "version_minor": 0
      },
      "text/plain": [
       "Drawing 10000 posterior samples:   0%|          | 0/10000 [00:00<?, ?it/s]"
      ]
     },
     "metadata": {},
     "output_type": "display_data"
    },
    {
     "data": {
      "application/vnd.jupyter.widget-view+json": {
       "model_id": "f305e01b93134da28155abd0919ceff4",
       "version_major": 2,
       "version_minor": 0
      },
      "text/plain": [
       "Drawing 10000 posterior samples:   0%|          | 0/10000 [00:00<?, ?it/s]"
      ]
     },
     "metadata": {},
     "output_type": "display_data"
    },
    {
     "data": {
      "application/vnd.jupyter.widget-view+json": {
       "model_id": "406ad34e3e0d439a9a28da9086bdf3c3",
       "version_major": 2,
       "version_minor": 0
      },
      "text/plain": [
       "Drawing 10000 posterior samples:   0%|          | 0/10000 [00:00<?, ?it/s]"
      ]
     },
     "metadata": {},
     "output_type": "display_data"
    },
    {
     "data": {
      "application/vnd.jupyter.widget-view+json": {
       "model_id": "d172c0fdea474debb2a78ce7e47515d2",
       "version_major": 2,
       "version_minor": 0
      },
      "text/plain": [
       "Drawing 10000 posterior samples:   0%|          | 0/10000 [00:00<?, ?it/s]"
      ]
     },
     "metadata": {},
     "output_type": "display_data"
    },
    {
     "data": {
      "application/vnd.jupyter.widget-view+json": {
       "model_id": "6cade5c18b8c4222a8b463536598b8d1",
       "version_major": 2,
       "version_minor": 0
      },
      "text/plain": [
       "Drawing 10000 posterior samples:   0%|          | 0/10000 [00:00<?, ?it/s]"
      ]
     },
     "metadata": {},
     "output_type": "display_data"
    },
    {
     "data": {
      "application/vnd.jupyter.widget-view+json": {
       "model_id": "aa1e203f537f4437b7decfafbc5af7cd",
       "version_major": 2,
       "version_minor": 0
      },
      "text/plain": [
       "Drawing 10000 posterior samples:   0%|          | 0/10000 [00:00<?, ?it/s]"
      ]
     },
     "metadata": {},
     "output_type": "display_data"
    },
    {
     "data": {
      "application/vnd.jupyter.widget-view+json": {
       "model_id": "efc39c0bdc1648c6b0810cff32a34433",
       "version_major": 2,
       "version_minor": 0
      },
      "text/plain": [
       "Drawing 10000 posterior samples:   0%|          | 0/10000 [00:00<?, ?it/s]"
      ]
     },
     "metadata": {},
     "output_type": "display_data"
    },
    {
     "data": {
      "application/vnd.jupyter.widget-view+json": {
       "model_id": "5807dcaf2f9d415eacc77300bb52bbb7",
       "version_major": 2,
       "version_minor": 0
      },
      "text/plain": [
       "Drawing 10000 posterior samples:   0%|          | 0/10000 [00:00<?, ?it/s]"
      ]
     },
     "metadata": {},
     "output_type": "display_data"
    },
    {
     "data": {
      "application/vnd.jupyter.widget-view+json": {
       "model_id": "ddfd3e807f9041f6a2f8a4d30b94e6d6",
       "version_major": 2,
       "version_minor": 0
      },
      "text/plain": [
       "Drawing 10000 posterior samples:   0%|          | 0/10000 [00:00<?, ?it/s]"
      ]
     },
     "metadata": {},
     "output_type": "display_data"
    },
    {
     "data": {
      "application/vnd.jupyter.widget-view+json": {
       "model_id": "fd4639b4cd3341cebd2d5ee6f613bedf",
       "version_major": 2,
       "version_minor": 0
      },
      "text/plain": [
       "Drawing 10000 posterior samples:   0%|          | 0/10000 [00:00<?, ?it/s]"
      ]
     },
     "metadata": {},
     "output_type": "display_data"
    },
    {
     "data": {
      "application/vnd.jupyter.widget-view+json": {
       "model_id": "3fbab66b289d4742a87977e89fbeb600",
       "version_major": 2,
       "version_minor": 0
      },
      "text/plain": [
       "Drawing 10000 posterior samples:   0%|          | 0/10000 [00:00<?, ?it/s]"
      ]
     },
     "metadata": {},
     "output_type": "display_data"
    },
    {
     "data": {
      "application/vnd.jupyter.widget-view+json": {
       "model_id": "0d65f03c8bd24913bd064524b2116c9c",
       "version_major": 2,
       "version_minor": 0
      },
      "text/plain": [
       "Drawing 10000 posterior samples:   0%|          | 0/10000 [00:00<?, ?it/s]"
      ]
     },
     "metadata": {},
     "output_type": "display_data"
    },
    {
     "data": {
      "application/vnd.jupyter.widget-view+json": {
       "model_id": "6419ee16a5614ae19b7dd27198a4d9a2",
       "version_major": 2,
       "version_minor": 0
      },
      "text/plain": [
       "Drawing 10000 posterior samples:   0%|          | 0/10000 [00:00<?, ?it/s]"
      ]
     },
     "metadata": {},
     "output_type": "display_data"
    },
    {
     "name": "stderr",
     "output_type": "stream",
     "text": [
      "\r",
      " 25%|████████████████████████▌                                                                         | 5/20 [00:07<00:22,  1.51s/it]"
     ]
    },
    {
     "data": {
      "application/vnd.jupyter.widget-view+json": {
       "model_id": "b4d5dcc486704b76a6cca02dea0f31ad",
       "version_major": 2,
       "version_minor": 0
      },
      "text/plain": [
       "Drawing 10000 posterior samples:   0%|          | 0/10000 [00:00<?, ?it/s]"
      ]
     },
     "metadata": {},
     "output_type": "display_data"
    },
    {
     "data": {
      "application/vnd.jupyter.widget-view+json": {
       "model_id": "83194647b3454601b5b82b3fb02aec93",
       "version_major": 2,
       "version_minor": 0
      },
      "text/plain": [
       "Drawing 10000 posterior samples:   0%|          | 0/10000 [00:00<?, ?it/s]"
      ]
     },
     "metadata": {},
     "output_type": "display_data"
    },
    {
     "data": {
      "application/vnd.jupyter.widget-view+json": {
       "model_id": "6143cac15a854f29ad5f8d735c44346b",
       "version_major": 2,
       "version_minor": 0
      },
      "text/plain": [
       "Drawing 10000 posterior samples:   0%|          | 0/10000 [00:00<?, ?it/s]"
      ]
     },
     "metadata": {},
     "output_type": "display_data"
    },
    {
     "data": {
      "application/vnd.jupyter.widget-view+json": {
       "model_id": "55c64dd545af401ab1b85160ce4bbc2d",
       "version_major": 2,
       "version_minor": 0
      },
      "text/plain": [
       "Drawing 10000 posterior samples:   0%|          | 0/10000 [00:00<?, ?it/s]"
      ]
     },
     "metadata": {},
     "output_type": "display_data"
    },
    {
     "data": {
      "application/vnd.jupyter.widget-view+json": {
       "model_id": "b36542a975c04839841478b90566cd26",
       "version_major": 2,
       "version_minor": 0
      },
      "text/plain": [
       "Drawing 10000 posterior samples:   0%|          | 0/10000 [00:00<?, ?it/s]"
      ]
     },
     "metadata": {},
     "output_type": "display_data"
    },
    {
     "data": {
      "application/vnd.jupyter.widget-view+json": {
       "model_id": "2e1fd77c734844a8b518ece50883a5f1",
       "version_major": 2,
       "version_minor": 0
      },
      "text/plain": [
       "Drawing 10000 posterior samples:   0%|          | 0/10000 [00:00<?, ?it/s]"
      ]
     },
     "metadata": {},
     "output_type": "display_data"
    },
    {
     "data": {
      "application/vnd.jupyter.widget-view+json": {
       "model_id": "588ee11891f74c7890810b5e4de5a428",
       "version_major": 2,
       "version_minor": 0
      },
      "text/plain": [
       "Drawing 10000 posterior samples:   0%|          | 0/10000 [00:00<?, ?it/s]"
      ]
     },
     "metadata": {},
     "output_type": "display_data"
    },
    {
     "data": {
      "application/vnd.jupyter.widget-view+json": {
       "model_id": "f3cc3fdff1c14732a433b67acd97eb01",
       "version_major": 2,
       "version_minor": 0
      },
      "text/plain": [
       "Drawing 10000 posterior samples:   0%|          | 0/10000 [00:00<?, ?it/s]"
      ]
     },
     "metadata": {},
     "output_type": "display_data"
    },
    {
     "data": {
      "application/vnd.jupyter.widget-view+json": {
       "model_id": "fecdfcfd309b4b90962c53a8d644019b",
       "version_major": 2,
       "version_minor": 0
      },
      "text/plain": [
       "Drawing 10000 posterior samples:   0%|          | 0/10000 [00:00<?, ?it/s]"
      ]
     },
     "metadata": {},
     "output_type": "display_data"
    },
    {
     "data": {
      "application/vnd.jupyter.widget-view+json": {
       "model_id": "202fbebb03604c2b8b284533ae49d9e4",
       "version_major": 2,
       "version_minor": 0
      },
      "text/plain": [
       "Drawing 10000 posterior samples:   0%|          | 0/10000 [00:00<?, ?it/s]"
      ]
     },
     "metadata": {},
     "output_type": "display_data"
    },
    {
     "data": {
      "application/vnd.jupyter.widget-view+json": {
       "model_id": "28a185168b8b4e959772d017ea4a4807",
       "version_major": 2,
       "version_minor": 0
      },
      "text/plain": [
       "Drawing 10000 posterior samples:   0%|          | 0/10000 [00:00<?, ?it/s]"
      ]
     },
     "metadata": {},
     "output_type": "display_data"
    },
    {
     "data": {
      "application/vnd.jupyter.widget-view+json": {
       "model_id": "23f88c15e80044109a6690b9f180a0ac",
       "version_major": 2,
       "version_minor": 0
      },
      "text/plain": [
       "Drawing 10000 posterior samples:   0%|          | 0/10000 [00:00<?, ?it/s]"
      ]
     },
     "metadata": {},
     "output_type": "display_data"
    },
    {
     "data": {
      "application/vnd.jupyter.widget-view+json": {
       "model_id": "e07dce635a5c493bb2d808dc3c07e835",
       "version_major": 2,
       "version_minor": 0
      },
      "text/plain": [
       "Drawing 10000 posterior samples:   0%|          | 0/10000 [00:00<?, ?it/s]"
      ]
     },
     "metadata": {},
     "output_type": "display_data"
    },
    {
     "data": {
      "application/vnd.jupyter.widget-view+json": {
       "model_id": "fa0c16fbfa39477ba0b9c3d4a1218384",
       "version_major": 2,
       "version_minor": 0
      },
      "text/plain": [
       "Drawing 10000 posterior samples:   0%|          | 0/10000 [00:00<?, ?it/s]"
      ]
     },
     "metadata": {},
     "output_type": "display_data"
    },
    {
     "data": {
      "application/vnd.jupyter.widget-view+json": {
       "model_id": "a7f3cded60704b7f8a09b81d9d5760f8",
       "version_major": 2,
       "version_minor": 0
      },
      "text/plain": [
       "Drawing 10000 posterior samples:   0%|          | 0/10000 [00:00<?, ?it/s]"
      ]
     },
     "metadata": {},
     "output_type": "display_data"
    },
    {
     "data": {
      "application/vnd.jupyter.widget-view+json": {
       "model_id": "d256d20c0ed04a29b7a41865146afa83",
       "version_major": 2,
       "version_minor": 0
      },
      "text/plain": [
       "Drawing 10000 posterior samples:   0%|          | 0/10000 [00:00<?, ?it/s]"
      ]
     },
     "metadata": {},
     "output_type": "display_data"
    },
    {
     "data": {
      "application/vnd.jupyter.widget-view+json": {
       "model_id": "b0d8804b2b4140d79f41cb99bb6d7f52",
       "version_major": 2,
       "version_minor": 0
      },
      "text/plain": [
       "Drawing 10000 posterior samples:   0%|          | 0/10000 [00:00<?, ?it/s]"
      ]
     },
     "metadata": {},
     "output_type": "display_data"
    },
    {
     "data": {
      "application/vnd.jupyter.widget-view+json": {
       "model_id": "3d7f2344679b4ec7b9a5d3e7ff6abe99",
       "version_major": 2,
       "version_minor": 0
      },
      "text/plain": [
       "Drawing 10000 posterior samples:   0%|          | 0/10000 [00:00<?, ?it/s]"
      ]
     },
     "metadata": {},
     "output_type": "display_data"
    },
    {
     "data": {
      "application/vnd.jupyter.widget-view+json": {
       "model_id": "a8abebed438749dfa99bdc6039b76f5a",
       "version_major": 2,
       "version_minor": 0
      },
      "text/plain": [
       "Drawing 10000 posterior samples:   0%|          | 0/10000 [00:00<?, ?it/s]"
      ]
     },
     "metadata": {},
     "output_type": "display_data"
    },
    {
     "data": {
      "application/vnd.jupyter.widget-view+json": {
       "model_id": "2cef7da9f2ed4451a6411fe23875e607",
       "version_major": 2,
       "version_minor": 0
      },
      "text/plain": [
       "Drawing 10000 posterior samples:   0%|          | 0/10000 [00:00<?, ?it/s]"
      ]
     },
     "metadata": {},
     "output_type": "display_data"
    },
    {
     "data": {
      "application/vnd.jupyter.widget-view+json": {
       "model_id": "69bceaf2dbc94640a39e757a403a5182",
       "version_major": 2,
       "version_minor": 0
      },
      "text/plain": [
       "Drawing 10000 posterior samples:   0%|          | 0/10000 [00:00<?, ?it/s]"
      ]
     },
     "metadata": {},
     "output_type": "display_data"
    },
    {
     "data": {
      "application/vnd.jupyter.widget-view+json": {
       "model_id": "83cae3686dcb4929adc015738855eeca",
       "version_major": 2,
       "version_minor": 0
      },
      "text/plain": [
       "Drawing 10000 posterior samples:   0%|          | 0/10000 [00:00<?, ?it/s]"
      ]
     },
     "metadata": {},
     "output_type": "display_data"
    },
    {
     "data": {
      "application/vnd.jupyter.widget-view+json": {
       "model_id": "3c79486f859449bda33f662d438e3981",
       "version_major": 2,
       "version_minor": 0
      },
      "text/plain": [
       "Drawing 10000 posterior samples:   0%|          | 0/10000 [00:00<?, ?it/s]"
      ]
     },
     "metadata": {},
     "output_type": "display_data"
    },
    {
     "data": {
      "application/vnd.jupyter.widget-view+json": {
       "model_id": "7e822fa3289a4adb811bd3a40d371104",
       "version_major": 2,
       "version_minor": 0
      },
      "text/plain": [
       "Drawing 10000 posterior samples:   0%|          | 0/10000 [00:00<?, ?it/s]"
      ]
     },
     "metadata": {},
     "output_type": "display_data"
    },
    {
     "data": {
      "application/vnd.jupyter.widget-view+json": {
       "model_id": "fc38d446dce0471ea989ca35e6ffcf4a",
       "version_major": 2,
       "version_minor": 0
      },
      "text/plain": [
       "Drawing 10000 posterior samples:   0%|          | 0/10000 [00:00<?, ?it/s]"
      ]
     },
     "metadata": {},
     "output_type": "display_data"
    },
    {
     "data": {
      "application/vnd.jupyter.widget-view+json": {
       "model_id": "efada336056544378b6f433b523114aa",
       "version_major": 2,
       "version_minor": 0
      },
      "text/plain": [
       "Drawing 10000 posterior samples:   0%|          | 0/10000 [00:00<?, ?it/s]"
      ]
     },
     "metadata": {},
     "output_type": "display_data"
    },
    {
     "data": {
      "application/vnd.jupyter.widget-view+json": {
       "model_id": "b5159c96c6d748acb9cb7c816bcb7c57",
       "version_major": 2,
       "version_minor": 0
      },
      "text/plain": [
       "Drawing 10000 posterior samples:   0%|          | 0/10000 [00:00<?, ?it/s]"
      ]
     },
     "metadata": {},
     "output_type": "display_data"
    },
    {
     "data": {
      "application/vnd.jupyter.widget-view+json": {
       "model_id": "40581b00b9fc4d6aac96df7161e54d6b",
       "version_major": 2,
       "version_minor": 0
      },
      "text/plain": [
       "Drawing 10000 posterior samples:   0%|          | 0/10000 [00:00<?, ?it/s]"
      ]
     },
     "metadata": {},
     "output_type": "display_data"
    },
    {
     "data": {
      "application/vnd.jupyter.widget-view+json": {
       "model_id": "d255a220b8e141e6984e69c2416722ba",
       "version_major": 2,
       "version_minor": 0
      },
      "text/plain": [
       "Drawing 10000 posterior samples:   0%|          | 0/10000 [00:00<?, ?it/s]"
      ]
     },
     "metadata": {},
     "output_type": "display_data"
    },
    {
     "data": {
      "application/vnd.jupyter.widget-view+json": {
       "model_id": "05c11ccf725a4186bd50936b0655d36b",
       "version_major": 2,
       "version_minor": 0
      },
      "text/plain": [
       "Drawing 10000 posterior samples:   0%|          | 0/10000 [00:00<?, ?it/s]"
      ]
     },
     "metadata": {},
     "output_type": "display_data"
    },
    {
     "data": {
      "application/vnd.jupyter.widget-view+json": {
       "model_id": "f35d38854df34302ba63103ce3d8a066",
       "version_major": 2,
       "version_minor": 0
      },
      "text/plain": [
       "Drawing 10000 posterior samples:   0%|          | 0/10000 [00:00<?, ?it/s]"
      ]
     },
     "metadata": {},
     "output_type": "display_data"
    },
    {
     "data": {
      "application/vnd.jupyter.widget-view+json": {
       "model_id": "c91fb59b303f45299df3f9df5a2bac35",
       "version_major": 2,
       "version_minor": 0
      },
      "text/plain": [
       "Drawing 10000 posterior samples:   0%|          | 0/10000 [00:00<?, ?it/s]"
      ]
     },
     "metadata": {},
     "output_type": "display_data"
    },
    {
     "data": {
      "application/vnd.jupyter.widget-view+json": {
       "model_id": "168c44d3535643cf867038407b2dd89a",
       "version_major": 2,
       "version_minor": 0
      },
      "text/plain": [
       "Drawing 10000 posterior samples:   0%|          | 0/10000 [00:00<?, ?it/s]"
      ]
     },
     "metadata": {},
     "output_type": "display_data"
    },
    {
     "data": {
      "application/vnd.jupyter.widget-view+json": {
       "model_id": "c1cc81ee8e37442f87d93499020f7396",
       "version_major": 2,
       "version_minor": 0
      },
      "text/plain": [
       "Drawing 10000 posterior samples:   0%|          | 0/10000 [00:00<?, ?it/s]"
      ]
     },
     "metadata": {},
     "output_type": "display_data"
    },
    {
     "data": {
      "application/vnd.jupyter.widget-view+json": {
       "model_id": "2e7aba69f4314159875c21b6ccf57f0b",
       "version_major": 2,
       "version_minor": 0
      },
      "text/plain": [
       "Drawing 10000 posterior samples:   0%|          | 0/10000 [00:00<?, ?it/s]"
      ]
     },
     "metadata": {},
     "output_type": "display_data"
    },
    {
     "data": {
      "application/vnd.jupyter.widget-view+json": {
       "model_id": "d805fafcc94447f3855cb8779ee22fc8",
       "version_major": 2,
       "version_minor": 0
      },
      "text/plain": [
       "Drawing 10000 posterior samples:   0%|          | 0/10000 [00:00<?, ?it/s]"
      ]
     },
     "metadata": {},
     "output_type": "display_data"
    },
    {
     "name": "stderr",
     "output_type": "stream",
     "text": [
      "\r",
      " 30%|█████████████████████████████▍                                                                    | 6/20 [00:09<00:20,  1.47s/it]"
     ]
    },
    {
     "data": {
      "application/vnd.jupyter.widget-view+json": {
       "model_id": "b4992d2251554ad599a269a409bee8fc",
       "version_major": 2,
       "version_minor": 0
      },
      "text/plain": [
       "Drawing 10000 posterior samples:   0%|          | 0/10000 [00:00<?, ?it/s]"
      ]
     },
     "metadata": {},
     "output_type": "display_data"
    },
    {
     "data": {
      "application/vnd.jupyter.widget-view+json": {
       "model_id": "900304b0587e4ddfb9893f363cf395a4",
       "version_major": 2,
       "version_minor": 0
      },
      "text/plain": [
       "Drawing 10000 posterior samples:   0%|          | 0/10000 [00:00<?, ?it/s]"
      ]
     },
     "metadata": {},
     "output_type": "display_data"
    },
    {
     "data": {
      "application/vnd.jupyter.widget-view+json": {
       "model_id": "7691ccdc38154118b25ad465be965bce",
       "version_major": 2,
       "version_minor": 0
      },
      "text/plain": [
       "Drawing 10000 posterior samples:   0%|          | 0/10000 [00:00<?, ?it/s]"
      ]
     },
     "metadata": {},
     "output_type": "display_data"
    },
    {
     "data": {
      "application/vnd.jupyter.widget-view+json": {
       "model_id": "8ff7a56571e54969bd5e237ac015a752",
       "version_major": 2,
       "version_minor": 0
      },
      "text/plain": [
       "Drawing 10000 posterior samples:   0%|          | 0/10000 [00:00<?, ?it/s]"
      ]
     },
     "metadata": {},
     "output_type": "display_data"
    },
    {
     "data": {
      "application/vnd.jupyter.widget-view+json": {
       "model_id": "2795487a0e8745a5bf6138fff89ab1c3",
       "version_major": 2,
       "version_minor": 0
      },
      "text/plain": [
       "Drawing 10000 posterior samples:   0%|          | 0/10000 [00:00<?, ?it/s]"
      ]
     },
     "metadata": {},
     "output_type": "display_data"
    },
    {
     "data": {
      "application/vnd.jupyter.widget-view+json": {
       "model_id": "893b1d8cdaf34ab38a444a1cd3823212",
       "version_major": 2,
       "version_minor": 0
      },
      "text/plain": [
       "Drawing 10000 posterior samples:   0%|          | 0/10000 [00:00<?, ?it/s]"
      ]
     },
     "metadata": {},
     "output_type": "display_data"
    },
    {
     "data": {
      "application/vnd.jupyter.widget-view+json": {
       "model_id": "1c0e5de9c4574eb0ac95d8489f6809a7",
       "version_major": 2,
       "version_minor": 0
      },
      "text/plain": [
       "Drawing 10000 posterior samples:   0%|          | 0/10000 [00:00<?, ?it/s]"
      ]
     },
     "metadata": {},
     "output_type": "display_data"
    },
    {
     "data": {
      "application/vnd.jupyter.widget-view+json": {
       "model_id": "69bc445500f94915b3a4e489b2f5ea60",
       "version_major": 2,
       "version_minor": 0
      },
      "text/plain": [
       "Drawing 10000 posterior samples:   0%|          | 0/10000 [00:00<?, ?it/s]"
      ]
     },
     "metadata": {},
     "output_type": "display_data"
    },
    {
     "data": {
      "application/vnd.jupyter.widget-view+json": {
       "model_id": "3f527a61ae74448f9b8e48f7d79ac3df",
       "version_major": 2,
       "version_minor": 0
      },
      "text/plain": [
       "Drawing 10000 posterior samples:   0%|          | 0/10000 [00:00<?, ?it/s]"
      ]
     },
     "metadata": {},
     "output_type": "display_data"
    },
    {
     "data": {
      "application/vnd.jupyter.widget-view+json": {
       "model_id": "977dd33e10ed406eabb7a29b0dc2036e",
       "version_major": 2,
       "version_minor": 0
      },
      "text/plain": [
       "Drawing 10000 posterior samples:   0%|          | 0/10000 [00:00<?, ?it/s]"
      ]
     },
     "metadata": {},
     "output_type": "display_data"
    },
    {
     "data": {
      "application/vnd.jupyter.widget-view+json": {
       "model_id": "985dabff22d244a694ec3b04cd72ee59",
       "version_major": 2,
       "version_minor": 0
      },
      "text/plain": [
       "Drawing 10000 posterior samples:   0%|          | 0/10000 [00:00<?, ?it/s]"
      ]
     },
     "metadata": {},
     "output_type": "display_data"
    },
    {
     "data": {
      "application/vnd.jupyter.widget-view+json": {
       "model_id": "99ed4942d40745ccb32698f268211d52",
       "version_major": 2,
       "version_minor": 0
      },
      "text/plain": [
       "Drawing 10000 posterior samples:   0%|          | 0/10000 [00:00<?, ?it/s]"
      ]
     },
     "metadata": {},
     "output_type": "display_data"
    },
    {
     "data": {
      "application/vnd.jupyter.widget-view+json": {
       "model_id": "c5d1ea203e14434785008a05b91bb362",
       "version_major": 2,
       "version_minor": 0
      },
      "text/plain": [
       "Drawing 10000 posterior samples:   0%|          | 0/10000 [00:00<?, ?it/s]"
      ]
     },
     "metadata": {},
     "output_type": "display_data"
    },
    {
     "data": {
      "application/vnd.jupyter.widget-view+json": {
       "model_id": "806d9a74474b4984b771c096126594bb",
       "version_major": 2,
       "version_minor": 0
      },
      "text/plain": [
       "Drawing 10000 posterior samples:   0%|          | 0/10000 [00:00<?, ?it/s]"
      ]
     },
     "metadata": {},
     "output_type": "display_data"
    },
    {
     "data": {
      "application/vnd.jupyter.widget-view+json": {
       "model_id": "239b31714ebe4821894a87e9adfd26ac",
       "version_major": 2,
       "version_minor": 0
      },
      "text/plain": [
       "Drawing 10000 posterior samples:   0%|          | 0/10000 [00:00<?, ?it/s]"
      ]
     },
     "metadata": {},
     "output_type": "display_data"
    },
    {
     "data": {
      "application/vnd.jupyter.widget-view+json": {
       "model_id": "886ccd9bbf41407b86db4999842c6acd",
       "version_major": 2,
       "version_minor": 0
      },
      "text/plain": [
       "Drawing 10000 posterior samples:   0%|          | 0/10000 [00:00<?, ?it/s]"
      ]
     },
     "metadata": {},
     "output_type": "display_data"
    },
    {
     "data": {
      "application/vnd.jupyter.widget-view+json": {
       "model_id": "65d021c485c242f296fa5f467b0baf50",
       "version_major": 2,
       "version_minor": 0
      },
      "text/plain": [
       "Drawing 10000 posterior samples:   0%|          | 0/10000 [00:00<?, ?it/s]"
      ]
     },
     "metadata": {},
     "output_type": "display_data"
    },
    {
     "data": {
      "application/vnd.jupyter.widget-view+json": {
       "model_id": "94720c80388b452082916bc01c05001f",
       "version_major": 2,
       "version_minor": 0
      },
      "text/plain": [
       "Drawing 10000 posterior samples:   0%|          | 0/10000 [00:00<?, ?it/s]"
      ]
     },
     "metadata": {},
     "output_type": "display_data"
    },
    {
     "data": {
      "application/vnd.jupyter.widget-view+json": {
       "model_id": "98f1cb40096346feb7205362b772d11a",
       "version_major": 2,
       "version_minor": 0
      },
      "text/plain": [
       "Drawing 10000 posterior samples:   0%|          | 0/10000 [00:00<?, ?it/s]"
      ]
     },
     "metadata": {},
     "output_type": "display_data"
    },
    {
     "data": {
      "application/vnd.jupyter.widget-view+json": {
       "model_id": "bbe9f5abdbf64eb2afbce5eac7cd37c6",
       "version_major": 2,
       "version_minor": 0
      },
      "text/plain": [
       "Drawing 10000 posterior samples:   0%|          | 0/10000 [00:00<?, ?it/s]"
      ]
     },
     "metadata": {},
     "output_type": "display_data"
    },
    {
     "data": {
      "application/vnd.jupyter.widget-view+json": {
       "model_id": "c392724ba43c4980a5451d1def6d907f",
       "version_major": 2,
       "version_minor": 0
      },
      "text/plain": [
       "Drawing 10000 posterior samples:   0%|          | 0/10000 [00:00<?, ?it/s]"
      ]
     },
     "metadata": {},
     "output_type": "display_data"
    },
    {
     "data": {
      "application/vnd.jupyter.widget-view+json": {
       "model_id": "7e50768db5584e3c8232a7bf4b6ff590",
       "version_major": 2,
       "version_minor": 0
      },
      "text/plain": [
       "Drawing 10000 posterior samples:   0%|          | 0/10000 [00:00<?, ?it/s]"
      ]
     },
     "metadata": {},
     "output_type": "display_data"
    },
    {
     "data": {
      "application/vnd.jupyter.widget-view+json": {
       "model_id": "aaccc87f1835438a8e04035cf57a1d57",
       "version_major": 2,
       "version_minor": 0
      },
      "text/plain": [
       "Drawing 10000 posterior samples:   0%|          | 0/10000 [00:00<?, ?it/s]"
      ]
     },
     "metadata": {},
     "output_type": "display_data"
    },
    {
     "data": {
      "application/vnd.jupyter.widget-view+json": {
       "model_id": "3a8838adaf364aed88e43f1e3c735b81",
       "version_major": 2,
       "version_minor": 0
      },
      "text/plain": [
       "Drawing 10000 posterior samples:   0%|          | 0/10000 [00:00<?, ?it/s]"
      ]
     },
     "metadata": {},
     "output_type": "display_data"
    },
    {
     "data": {
      "application/vnd.jupyter.widget-view+json": {
       "model_id": "adad7d869d97436781170be463627549",
       "version_major": 2,
       "version_minor": 0
      },
      "text/plain": [
       "Drawing 10000 posterior samples:   0%|          | 0/10000 [00:00<?, ?it/s]"
      ]
     },
     "metadata": {},
     "output_type": "display_data"
    },
    {
     "data": {
      "application/vnd.jupyter.widget-view+json": {
       "model_id": "6df02794609048b781f1cd328a7e2b93",
       "version_major": 2,
       "version_minor": 0
      },
      "text/plain": [
       "Drawing 10000 posterior samples:   0%|          | 0/10000 [00:00<?, ?it/s]"
      ]
     },
     "metadata": {},
     "output_type": "display_data"
    },
    {
     "data": {
      "application/vnd.jupyter.widget-view+json": {
       "model_id": "ff003b45ed1a4a1d9da2bbf41cfc5cbc",
       "version_major": 2,
       "version_minor": 0
      },
      "text/plain": [
       "Drawing 10000 posterior samples:   0%|          | 0/10000 [00:00<?, ?it/s]"
      ]
     },
     "metadata": {},
     "output_type": "display_data"
    },
    {
     "data": {
      "application/vnd.jupyter.widget-view+json": {
       "model_id": "93ab1ef7e51d461bab9470f5e261da05",
       "version_major": 2,
       "version_minor": 0
      },
      "text/plain": [
       "Drawing 10000 posterior samples:   0%|          | 0/10000 [00:00<?, ?it/s]"
      ]
     },
     "metadata": {},
     "output_type": "display_data"
    },
    {
     "data": {
      "application/vnd.jupyter.widget-view+json": {
       "model_id": "56daacfba1884b64a779f79ca52ccf18",
       "version_major": 2,
       "version_minor": 0
      },
      "text/plain": [
       "Drawing 10000 posterior samples:   0%|          | 0/10000 [00:00<?, ?it/s]"
      ]
     },
     "metadata": {},
     "output_type": "display_data"
    },
    {
     "data": {
      "application/vnd.jupyter.widget-view+json": {
       "model_id": "6e923a83b4a44b7ca769b9b8edbec56e",
       "version_major": 2,
       "version_minor": 0
      },
      "text/plain": [
       "Drawing 10000 posterior samples:   0%|          | 0/10000 [00:00<?, ?it/s]"
      ]
     },
     "metadata": {},
     "output_type": "display_data"
    },
    {
     "data": {
      "application/vnd.jupyter.widget-view+json": {
       "model_id": "2fde0082921848eab4d181274ba26368",
       "version_major": 2,
       "version_minor": 0
      },
      "text/plain": [
       "Drawing 10000 posterior samples:   0%|          | 0/10000 [00:00<?, ?it/s]"
      ]
     },
     "metadata": {},
     "output_type": "display_data"
    },
    {
     "data": {
      "application/vnd.jupyter.widget-view+json": {
       "model_id": "3286533973bc434c9de4e72cba69cf20",
       "version_major": 2,
       "version_minor": 0
      },
      "text/plain": [
       "Drawing 10000 posterior samples:   0%|          | 0/10000 [00:00<?, ?it/s]"
      ]
     },
     "metadata": {},
     "output_type": "display_data"
    },
    {
     "data": {
      "application/vnd.jupyter.widget-view+json": {
       "model_id": "85191d9bd5874aa294df7a9d11892439",
       "version_major": 2,
       "version_minor": 0
      },
      "text/plain": [
       "Drawing 10000 posterior samples:   0%|          | 0/10000 [00:00<?, ?it/s]"
      ]
     },
     "metadata": {},
     "output_type": "display_data"
    },
    {
     "data": {
      "application/vnd.jupyter.widget-view+json": {
       "model_id": "d8800dab59cc422eae95da1b2e493dcd",
       "version_major": 2,
       "version_minor": 0
      },
      "text/plain": [
       "Drawing 10000 posterior samples:   0%|          | 0/10000 [00:00<?, ?it/s]"
      ]
     },
     "metadata": {},
     "output_type": "display_data"
    },
    {
     "data": {
      "application/vnd.jupyter.widget-view+json": {
       "model_id": "1a8baab04bb14b26ab8e8c9ae15b6969",
       "version_major": 2,
       "version_minor": 0
      },
      "text/plain": [
       "Drawing 10000 posterior samples:   0%|          | 0/10000 [00:00<?, ?it/s]"
      ]
     },
     "metadata": {},
     "output_type": "display_data"
    },
    {
     "data": {
      "application/vnd.jupyter.widget-view+json": {
       "model_id": "ec8400f176e74728abc1ac7ed82c2b32",
       "version_major": 2,
       "version_minor": 0
      },
      "text/plain": [
       "Drawing 10000 posterior samples:   0%|          | 0/10000 [00:00<?, ?it/s]"
      ]
     },
     "metadata": {},
     "output_type": "display_data"
    },
    {
     "name": "stderr",
     "output_type": "stream",
     "text": [
      "\r",
      " 35%|██████████████████████████████████▎                                                               | 7/20 [00:10<00:19,  1.46s/it]"
     ]
    },
    {
     "data": {
      "application/vnd.jupyter.widget-view+json": {
       "model_id": "9f1ff74f9f994608a53c44ede2718303",
       "version_major": 2,
       "version_minor": 0
      },
      "text/plain": [
       "Drawing 10000 posterior samples:   0%|          | 0/10000 [00:00<?, ?it/s]"
      ]
     },
     "metadata": {},
     "output_type": "display_data"
    },
    {
     "data": {
      "application/vnd.jupyter.widget-view+json": {
       "model_id": "53d8a41d374248f5a57a27866f26ff80",
       "version_major": 2,
       "version_minor": 0
      },
      "text/plain": [
       "Drawing 10000 posterior samples:   0%|          | 0/10000 [00:00<?, ?it/s]"
      ]
     },
     "metadata": {},
     "output_type": "display_data"
    },
    {
     "data": {
      "application/vnd.jupyter.widget-view+json": {
       "model_id": "beda450c81964ebd9577fff10c040b28",
       "version_major": 2,
       "version_minor": 0
      },
      "text/plain": [
       "Drawing 10000 posterior samples:   0%|          | 0/10000 [00:00<?, ?it/s]"
      ]
     },
     "metadata": {},
     "output_type": "display_data"
    },
    {
     "data": {
      "application/vnd.jupyter.widget-view+json": {
       "model_id": "75f55a2e18374a98860865a74913b350",
       "version_major": 2,
       "version_minor": 0
      },
      "text/plain": [
       "Drawing 10000 posterior samples:   0%|          | 0/10000 [00:00<?, ?it/s]"
      ]
     },
     "metadata": {},
     "output_type": "display_data"
    },
    {
     "data": {
      "application/vnd.jupyter.widget-view+json": {
       "model_id": "b8312728c2ba412890693974714ad311",
       "version_major": 2,
       "version_minor": 0
      },
      "text/plain": [
       "Drawing 10000 posterior samples:   0%|          | 0/10000 [00:00<?, ?it/s]"
      ]
     },
     "metadata": {},
     "output_type": "display_data"
    },
    {
     "data": {
      "application/vnd.jupyter.widget-view+json": {
       "model_id": "8b063e79869a4d64a9cd64889db2a480",
       "version_major": 2,
       "version_minor": 0
      },
      "text/plain": [
       "Drawing 10000 posterior samples:   0%|          | 0/10000 [00:00<?, ?it/s]"
      ]
     },
     "metadata": {},
     "output_type": "display_data"
    },
    {
     "data": {
      "application/vnd.jupyter.widget-view+json": {
       "model_id": "ec772dd446c5445483fbdccc3fa5cbf5",
       "version_major": 2,
       "version_minor": 0
      },
      "text/plain": [
       "Drawing 10000 posterior samples:   0%|          | 0/10000 [00:00<?, ?it/s]"
      ]
     },
     "metadata": {},
     "output_type": "display_data"
    },
    {
     "data": {
      "application/vnd.jupyter.widget-view+json": {
       "model_id": "fd335e45f4664331889f9706c2d84019",
       "version_major": 2,
       "version_minor": 0
      },
      "text/plain": [
       "Drawing 10000 posterior samples:   0%|          | 0/10000 [00:00<?, ?it/s]"
      ]
     },
     "metadata": {},
     "output_type": "display_data"
    },
    {
     "data": {
      "application/vnd.jupyter.widget-view+json": {
       "model_id": "e906c76430a5406283bec0c5f1b83bdf",
       "version_major": 2,
       "version_minor": 0
      },
      "text/plain": [
       "Drawing 10000 posterior samples:   0%|          | 0/10000 [00:00<?, ?it/s]"
      ]
     },
     "metadata": {},
     "output_type": "display_data"
    },
    {
     "data": {
      "application/vnd.jupyter.widget-view+json": {
       "model_id": "ba30fb760acc4e44b33eee9642291fb9",
       "version_major": 2,
       "version_minor": 0
      },
      "text/plain": [
       "Drawing 10000 posterior samples:   0%|          | 0/10000 [00:00<?, ?it/s]"
      ]
     },
     "metadata": {},
     "output_type": "display_data"
    },
    {
     "data": {
      "application/vnd.jupyter.widget-view+json": {
       "model_id": "cff23b8b5cd04cc9ade7c88d2bd9371f",
       "version_major": 2,
       "version_minor": 0
      },
      "text/plain": [
       "Drawing 10000 posterior samples:   0%|          | 0/10000 [00:00<?, ?it/s]"
      ]
     },
     "metadata": {},
     "output_type": "display_data"
    },
    {
     "data": {
      "application/vnd.jupyter.widget-view+json": {
       "model_id": "81e66ed0e19d496289a4332fb6a79e16",
       "version_major": 2,
       "version_minor": 0
      },
      "text/plain": [
       "Drawing 10000 posterior samples:   0%|          | 0/10000 [00:00<?, ?it/s]"
      ]
     },
     "metadata": {},
     "output_type": "display_data"
    },
    {
     "data": {
      "application/vnd.jupyter.widget-view+json": {
       "model_id": "ffb6629e1f994c1bad7545151045a141",
       "version_major": 2,
       "version_minor": 0
      },
      "text/plain": [
       "Drawing 10000 posterior samples:   0%|          | 0/10000 [00:00<?, ?it/s]"
      ]
     },
     "metadata": {},
     "output_type": "display_data"
    },
    {
     "data": {
      "application/vnd.jupyter.widget-view+json": {
       "model_id": "beba2f8ccee34915bdac980eaf8d7c56",
       "version_major": 2,
       "version_minor": 0
      },
      "text/plain": [
       "Drawing 10000 posterior samples:   0%|          | 0/10000 [00:00<?, ?it/s]"
      ]
     },
     "metadata": {},
     "output_type": "display_data"
    },
    {
     "data": {
      "application/vnd.jupyter.widget-view+json": {
       "model_id": "c955f68eb52a429192d928e84b5d66ce",
       "version_major": 2,
       "version_minor": 0
      },
      "text/plain": [
       "Drawing 10000 posterior samples:   0%|          | 0/10000 [00:00<?, ?it/s]"
      ]
     },
     "metadata": {},
     "output_type": "display_data"
    },
    {
     "data": {
      "application/vnd.jupyter.widget-view+json": {
       "model_id": "c001e51419174889a838a3890c310191",
       "version_major": 2,
       "version_minor": 0
      },
      "text/plain": [
       "Drawing 10000 posterior samples:   0%|          | 0/10000 [00:00<?, ?it/s]"
      ]
     },
     "metadata": {},
     "output_type": "display_data"
    },
    {
     "data": {
      "application/vnd.jupyter.widget-view+json": {
       "model_id": "d94d85b281a84c5eab5e162e653a330e",
       "version_major": 2,
       "version_minor": 0
      },
      "text/plain": [
       "Drawing 10000 posterior samples:   0%|          | 0/10000 [00:00<?, ?it/s]"
      ]
     },
     "metadata": {},
     "output_type": "display_data"
    },
    {
     "data": {
      "application/vnd.jupyter.widget-view+json": {
       "model_id": "58d03f6dab3549ceaf5746326774314f",
       "version_major": 2,
       "version_minor": 0
      },
      "text/plain": [
       "Drawing 10000 posterior samples:   0%|          | 0/10000 [00:00<?, ?it/s]"
      ]
     },
     "metadata": {},
     "output_type": "display_data"
    },
    {
     "data": {
      "application/vnd.jupyter.widget-view+json": {
       "model_id": "5d9ea6e2f5c04c448a507ba10603d1ac",
       "version_major": 2,
       "version_minor": 0
      },
      "text/plain": [
       "Drawing 10000 posterior samples:   0%|          | 0/10000 [00:00<?, ?it/s]"
      ]
     },
     "metadata": {},
     "output_type": "display_data"
    },
    {
     "data": {
      "application/vnd.jupyter.widget-view+json": {
       "model_id": "0b823dc3a51e40a18b7c45b910922c11",
       "version_major": 2,
       "version_minor": 0
      },
      "text/plain": [
       "Drawing 10000 posterior samples:   0%|          | 0/10000 [00:00<?, ?it/s]"
      ]
     },
     "metadata": {},
     "output_type": "display_data"
    },
    {
     "data": {
      "application/vnd.jupyter.widget-view+json": {
       "model_id": "ed9b31af3aa24b97a5a5422a7f35544e",
       "version_major": 2,
       "version_minor": 0
      },
      "text/plain": [
       "Drawing 10000 posterior samples:   0%|          | 0/10000 [00:00<?, ?it/s]"
      ]
     },
     "metadata": {},
     "output_type": "display_data"
    },
    {
     "data": {
      "application/vnd.jupyter.widget-view+json": {
       "model_id": "5f58cfaa279d4df5a413c3aabc98224f",
       "version_major": 2,
       "version_minor": 0
      },
      "text/plain": [
       "Drawing 10000 posterior samples:   0%|          | 0/10000 [00:00<?, ?it/s]"
      ]
     },
     "metadata": {},
     "output_type": "display_data"
    },
    {
     "data": {
      "application/vnd.jupyter.widget-view+json": {
       "model_id": "758ae4ec3dc24258ad1ec89a4952a7c6",
       "version_major": 2,
       "version_minor": 0
      },
      "text/plain": [
       "Drawing 10000 posterior samples:   0%|          | 0/10000 [00:00<?, ?it/s]"
      ]
     },
     "metadata": {},
     "output_type": "display_data"
    },
    {
     "data": {
      "application/vnd.jupyter.widget-view+json": {
       "model_id": "b130d2051b614548ae864a1ab35aecc1",
       "version_major": 2,
       "version_minor": 0
      },
      "text/plain": [
       "Drawing 10000 posterior samples:   0%|          | 0/10000 [00:00<?, ?it/s]"
      ]
     },
     "metadata": {},
     "output_type": "display_data"
    },
    {
     "data": {
      "application/vnd.jupyter.widget-view+json": {
       "model_id": "0625a09b7b9547fa82823b4a0a9f97a9",
       "version_major": 2,
       "version_minor": 0
      },
      "text/plain": [
       "Drawing 10000 posterior samples:   0%|          | 0/10000 [00:00<?, ?it/s]"
      ]
     },
     "metadata": {},
     "output_type": "display_data"
    },
    {
     "data": {
      "application/vnd.jupyter.widget-view+json": {
       "model_id": "b27c36d19a0541af9cae884f09e189d6",
       "version_major": 2,
       "version_minor": 0
      },
      "text/plain": [
       "Drawing 10000 posterior samples:   0%|          | 0/10000 [00:00<?, ?it/s]"
      ]
     },
     "metadata": {},
     "output_type": "display_data"
    },
    {
     "data": {
      "application/vnd.jupyter.widget-view+json": {
       "model_id": "aaf12f42141c452695abeb24acb52f9c",
       "version_major": 2,
       "version_minor": 0
      },
      "text/plain": [
       "Drawing 10000 posterior samples:   0%|          | 0/10000 [00:00<?, ?it/s]"
      ]
     },
     "metadata": {},
     "output_type": "display_data"
    },
    {
     "data": {
      "application/vnd.jupyter.widget-view+json": {
       "model_id": "b51f33e2dc234493be49e60634ddc734",
       "version_major": 2,
       "version_minor": 0
      },
      "text/plain": [
       "Drawing 10000 posterior samples:   0%|          | 0/10000 [00:00<?, ?it/s]"
      ]
     },
     "metadata": {},
     "output_type": "display_data"
    },
    {
     "data": {
      "application/vnd.jupyter.widget-view+json": {
       "model_id": "246ceddff7454ab9b0482e3beb344a15",
       "version_major": 2,
       "version_minor": 0
      },
      "text/plain": [
       "Drawing 10000 posterior samples:   0%|          | 0/10000 [00:00<?, ?it/s]"
      ]
     },
     "metadata": {},
     "output_type": "display_data"
    },
    {
     "data": {
      "application/vnd.jupyter.widget-view+json": {
       "model_id": "33b4debbc5e44472b12ba234e584a386",
       "version_major": 2,
       "version_minor": 0
      },
      "text/plain": [
       "Drawing 10000 posterior samples:   0%|          | 0/10000 [00:00<?, ?it/s]"
      ]
     },
     "metadata": {},
     "output_type": "display_data"
    },
    {
     "data": {
      "application/vnd.jupyter.widget-view+json": {
       "model_id": "a6edfdc2488a47cba62b0c7a6bca4681",
       "version_major": 2,
       "version_minor": 0
      },
      "text/plain": [
       "Drawing 10000 posterior samples:   0%|          | 0/10000 [00:00<?, ?it/s]"
      ]
     },
     "metadata": {},
     "output_type": "display_data"
    },
    {
     "data": {
      "application/vnd.jupyter.widget-view+json": {
       "model_id": "dcc8dc9b6f7b406cb0c057860232eea9",
       "version_major": 2,
       "version_minor": 0
      },
      "text/plain": [
       "Drawing 10000 posterior samples:   0%|          | 0/10000 [00:00<?, ?it/s]"
      ]
     },
     "metadata": {},
     "output_type": "display_data"
    },
    {
     "data": {
      "application/vnd.jupyter.widget-view+json": {
       "model_id": "505dba15c3734b8190431129d650b4c5",
       "version_major": 2,
       "version_minor": 0
      },
      "text/plain": [
       "Drawing 10000 posterior samples:   0%|          | 0/10000 [00:00<?, ?it/s]"
      ]
     },
     "metadata": {},
     "output_type": "display_data"
    },
    {
     "data": {
      "application/vnd.jupyter.widget-view+json": {
       "model_id": "0ddd46d274e2441b940c450215d81039",
       "version_major": 2,
       "version_minor": 0
      },
      "text/plain": [
       "Drawing 10000 posterior samples:   0%|          | 0/10000 [00:00<?, ?it/s]"
      ]
     },
     "metadata": {},
     "output_type": "display_data"
    },
    {
     "data": {
      "application/vnd.jupyter.widget-view+json": {
       "model_id": "f172a6f8b38a40279053bcbed03d8854",
       "version_major": 2,
       "version_minor": 0
      },
      "text/plain": [
       "Drawing 10000 posterior samples:   0%|          | 0/10000 [00:00<?, ?it/s]"
      ]
     },
     "metadata": {},
     "output_type": "display_data"
    },
    {
     "data": {
      "application/vnd.jupyter.widget-view+json": {
       "model_id": "27804c0b34a8488aa02cd370f71b02f5",
       "version_major": 2,
       "version_minor": 0
      },
      "text/plain": [
       "Drawing 10000 posterior samples:   0%|          | 0/10000 [00:00<?, ?it/s]"
      ]
     },
     "metadata": {},
     "output_type": "display_data"
    },
    {
     "name": "stderr",
     "output_type": "stream",
     "text": [
      "\r",
      " 40%|███████████████████████████████████████▏                                                          | 8/20 [00:12<00:18,  1.51s/it]"
     ]
    },
    {
     "data": {
      "application/vnd.jupyter.widget-view+json": {
       "model_id": "1b848284e72444eca4752ed2315bbd0b",
       "version_major": 2,
       "version_minor": 0
      },
      "text/plain": [
       "Drawing 10000 posterior samples:   0%|          | 0/10000 [00:00<?, ?it/s]"
      ]
     },
     "metadata": {},
     "output_type": "display_data"
    },
    {
     "data": {
      "application/vnd.jupyter.widget-view+json": {
       "model_id": "1771f56ec41b4117a09e4e82d2af7b05",
       "version_major": 2,
       "version_minor": 0
      },
      "text/plain": [
       "Drawing 10000 posterior samples:   0%|          | 0/10000 [00:00<?, ?it/s]"
      ]
     },
     "metadata": {},
     "output_type": "display_data"
    },
    {
     "data": {
      "application/vnd.jupyter.widget-view+json": {
       "model_id": "a33c6c4a21d148d79b6f99bc8c14494f",
       "version_major": 2,
       "version_minor": 0
      },
      "text/plain": [
       "Drawing 10000 posterior samples:   0%|          | 0/10000 [00:00<?, ?it/s]"
      ]
     },
     "metadata": {},
     "output_type": "display_data"
    },
    {
     "data": {
      "application/vnd.jupyter.widget-view+json": {
       "model_id": "b69f7b89f2a04d8eaa636421cf4f8482",
       "version_major": 2,
       "version_minor": 0
      },
      "text/plain": [
       "Drawing 10000 posterior samples:   0%|          | 0/10000 [00:00<?, ?it/s]"
      ]
     },
     "metadata": {},
     "output_type": "display_data"
    },
    {
     "data": {
      "application/vnd.jupyter.widget-view+json": {
       "model_id": "0ef02fdcef0b4dbe8e0c8749661ce389",
       "version_major": 2,
       "version_minor": 0
      },
      "text/plain": [
       "Drawing 10000 posterior samples:   0%|          | 0/10000 [00:00<?, ?it/s]"
      ]
     },
     "metadata": {},
     "output_type": "display_data"
    },
    {
     "data": {
      "application/vnd.jupyter.widget-view+json": {
       "model_id": "3f81a34c6628453f82610cac3530d8fa",
       "version_major": 2,
       "version_minor": 0
      },
      "text/plain": [
       "Drawing 10000 posterior samples:   0%|          | 0/10000 [00:00<?, ?it/s]"
      ]
     },
     "metadata": {},
     "output_type": "display_data"
    },
    {
     "data": {
      "application/vnd.jupyter.widget-view+json": {
       "model_id": "80ac97e976784cf38b5b02348b6f8897",
       "version_major": 2,
       "version_minor": 0
      },
      "text/plain": [
       "Drawing 10000 posterior samples:   0%|          | 0/10000 [00:00<?, ?it/s]"
      ]
     },
     "metadata": {},
     "output_type": "display_data"
    },
    {
     "data": {
      "application/vnd.jupyter.widget-view+json": {
       "model_id": "3557b8536c76410b887f29230de6d6aa",
       "version_major": 2,
       "version_minor": 0
      },
      "text/plain": [
       "Drawing 10000 posterior samples:   0%|          | 0/10000 [00:00<?, ?it/s]"
      ]
     },
     "metadata": {},
     "output_type": "display_data"
    },
    {
     "data": {
      "application/vnd.jupyter.widget-view+json": {
       "model_id": "a41f488ac7e4451fbf97584535e865d9",
       "version_major": 2,
       "version_minor": 0
      },
      "text/plain": [
       "Drawing 10000 posterior samples:   0%|          | 0/10000 [00:00<?, ?it/s]"
      ]
     },
     "metadata": {},
     "output_type": "display_data"
    },
    {
     "data": {
      "application/vnd.jupyter.widget-view+json": {
       "model_id": "e47d7499a76a42a2a10a529657e536f5",
       "version_major": 2,
       "version_minor": 0
      },
      "text/plain": [
       "Drawing 10000 posterior samples:   0%|          | 0/10000 [00:00<?, ?it/s]"
      ]
     },
     "metadata": {},
     "output_type": "display_data"
    },
    {
     "data": {
      "application/vnd.jupyter.widget-view+json": {
       "model_id": "7bcbb796c6c24c2dad564116b1857f17",
       "version_major": 2,
       "version_minor": 0
      },
      "text/plain": [
       "Drawing 10000 posterior samples:   0%|          | 0/10000 [00:00<?, ?it/s]"
      ]
     },
     "metadata": {},
     "output_type": "display_data"
    },
    {
     "data": {
      "application/vnd.jupyter.widget-view+json": {
       "model_id": "26e5595537864594a91a53e685ad57ea",
       "version_major": 2,
       "version_minor": 0
      },
      "text/plain": [
       "Drawing 10000 posterior samples:   0%|          | 0/10000 [00:00<?, ?it/s]"
      ]
     },
     "metadata": {},
     "output_type": "display_data"
    },
    {
     "data": {
      "application/vnd.jupyter.widget-view+json": {
       "model_id": "a99285234b5540c6b9e8a08f51e74caf",
       "version_major": 2,
       "version_minor": 0
      },
      "text/plain": [
       "Drawing 10000 posterior samples:   0%|          | 0/10000 [00:00<?, ?it/s]"
      ]
     },
     "metadata": {},
     "output_type": "display_data"
    },
    {
     "data": {
      "application/vnd.jupyter.widget-view+json": {
       "model_id": "d34a0249edee4d4b88f36e0e702e29e7",
       "version_major": 2,
       "version_minor": 0
      },
      "text/plain": [
       "Drawing 10000 posterior samples:   0%|          | 0/10000 [00:00<?, ?it/s]"
      ]
     },
     "metadata": {},
     "output_type": "display_data"
    },
    {
     "data": {
      "application/vnd.jupyter.widget-view+json": {
       "model_id": "bb5f6f3192b4431ba8c52d1d58a808d4",
       "version_major": 2,
       "version_minor": 0
      },
      "text/plain": [
       "Drawing 10000 posterior samples:   0%|          | 0/10000 [00:00<?, ?it/s]"
      ]
     },
     "metadata": {},
     "output_type": "display_data"
    },
    {
     "data": {
      "application/vnd.jupyter.widget-view+json": {
       "model_id": "0d8077c596514901a0c7aed21c789774",
       "version_major": 2,
       "version_minor": 0
      },
      "text/plain": [
       "Drawing 10000 posterior samples:   0%|          | 0/10000 [00:00<?, ?it/s]"
      ]
     },
     "metadata": {},
     "output_type": "display_data"
    },
    {
     "data": {
      "application/vnd.jupyter.widget-view+json": {
       "model_id": "ceadd3cf858f49ed83d3d17a51423127",
       "version_major": 2,
       "version_minor": 0
      },
      "text/plain": [
       "Drawing 10000 posterior samples:   0%|          | 0/10000 [00:00<?, ?it/s]"
      ]
     },
     "metadata": {},
     "output_type": "display_data"
    },
    {
     "data": {
      "application/vnd.jupyter.widget-view+json": {
       "model_id": "fd33707b350443fabbbe0afd263c792c",
       "version_major": 2,
       "version_minor": 0
      },
      "text/plain": [
       "Drawing 10000 posterior samples:   0%|          | 0/10000 [00:00<?, ?it/s]"
      ]
     },
     "metadata": {},
     "output_type": "display_data"
    },
    {
     "data": {
      "application/vnd.jupyter.widget-view+json": {
       "model_id": "51c15184bf8540f0b815657a18935c62",
       "version_major": 2,
       "version_minor": 0
      },
      "text/plain": [
       "Drawing 10000 posterior samples:   0%|          | 0/10000 [00:00<?, ?it/s]"
      ]
     },
     "metadata": {},
     "output_type": "display_data"
    },
    {
     "data": {
      "application/vnd.jupyter.widget-view+json": {
       "model_id": "1463b3a1b572432fbba3c968f68345d0",
       "version_major": 2,
       "version_minor": 0
      },
      "text/plain": [
       "Drawing 10000 posterior samples:   0%|          | 0/10000 [00:00<?, ?it/s]"
      ]
     },
     "metadata": {},
     "output_type": "display_data"
    },
    {
     "data": {
      "application/vnd.jupyter.widget-view+json": {
       "model_id": "2788a5dc931e408cb1e4af971371754e",
       "version_major": 2,
       "version_minor": 0
      },
      "text/plain": [
       "Drawing 10000 posterior samples:   0%|          | 0/10000 [00:00<?, ?it/s]"
      ]
     },
     "metadata": {},
     "output_type": "display_data"
    },
    {
     "data": {
      "application/vnd.jupyter.widget-view+json": {
       "model_id": "5edd504781ca48ebad5ef618210a9bf6",
       "version_major": 2,
       "version_minor": 0
      },
      "text/plain": [
       "Drawing 10000 posterior samples:   0%|          | 0/10000 [00:00<?, ?it/s]"
      ]
     },
     "metadata": {},
     "output_type": "display_data"
    },
    {
     "data": {
      "application/vnd.jupyter.widget-view+json": {
       "model_id": "bfe27764009f4630affba6eaede2dcec",
       "version_major": 2,
       "version_minor": 0
      },
      "text/plain": [
       "Drawing 10000 posterior samples:   0%|          | 0/10000 [00:00<?, ?it/s]"
      ]
     },
     "metadata": {},
     "output_type": "display_data"
    },
    {
     "data": {
      "application/vnd.jupyter.widget-view+json": {
       "model_id": "dad48c81bbad4d64bea9e1eb29a7074a",
       "version_major": 2,
       "version_minor": 0
      },
      "text/plain": [
       "Drawing 10000 posterior samples:   0%|          | 0/10000 [00:00<?, ?it/s]"
      ]
     },
     "metadata": {},
     "output_type": "display_data"
    },
    {
     "data": {
      "application/vnd.jupyter.widget-view+json": {
       "model_id": "8aff89c1393a49a8952b4b8c258e4daf",
       "version_major": 2,
       "version_minor": 0
      },
      "text/plain": [
       "Drawing 10000 posterior samples:   0%|          | 0/10000 [00:00<?, ?it/s]"
      ]
     },
     "metadata": {},
     "output_type": "display_data"
    },
    {
     "data": {
      "application/vnd.jupyter.widget-view+json": {
       "model_id": "501b4b50b58945aea9dc51a14103df6b",
       "version_major": 2,
       "version_minor": 0
      },
      "text/plain": [
       "Drawing 10000 posterior samples:   0%|          | 0/10000 [00:00<?, ?it/s]"
      ]
     },
     "metadata": {},
     "output_type": "display_data"
    },
    {
     "data": {
      "application/vnd.jupyter.widget-view+json": {
       "model_id": "744ec0192819407bb44a34a9f952afbd",
       "version_major": 2,
       "version_minor": 0
      },
      "text/plain": [
       "Drawing 10000 posterior samples:   0%|          | 0/10000 [00:00<?, ?it/s]"
      ]
     },
     "metadata": {},
     "output_type": "display_data"
    },
    {
     "data": {
      "application/vnd.jupyter.widget-view+json": {
       "model_id": "5a7181e08abb48dfad8964980cdde286",
       "version_major": 2,
       "version_minor": 0
      },
      "text/plain": [
       "Drawing 10000 posterior samples:   0%|          | 0/10000 [00:00<?, ?it/s]"
      ]
     },
     "metadata": {},
     "output_type": "display_data"
    },
    {
     "data": {
      "application/vnd.jupyter.widget-view+json": {
       "model_id": "c3c201505c4b44d3ab98c39ad3ecb45c",
       "version_major": 2,
       "version_minor": 0
      },
      "text/plain": [
       "Drawing 10000 posterior samples:   0%|          | 0/10000 [00:00<?, ?it/s]"
      ]
     },
     "metadata": {},
     "output_type": "display_data"
    },
    {
     "data": {
      "application/vnd.jupyter.widget-view+json": {
       "model_id": "e67d8d2e86d740ceb7ea4bde9ddad048",
       "version_major": 2,
       "version_minor": 0
      },
      "text/plain": [
       "Drawing 10000 posterior samples:   0%|          | 0/10000 [00:00<?, ?it/s]"
      ]
     },
     "metadata": {},
     "output_type": "display_data"
    },
    {
     "data": {
      "application/vnd.jupyter.widget-view+json": {
       "model_id": "5919ced9c0ed428fbae903a4730ba750",
       "version_major": 2,
       "version_minor": 0
      },
      "text/plain": [
       "Drawing 10000 posterior samples:   0%|          | 0/10000 [00:00<?, ?it/s]"
      ]
     },
     "metadata": {},
     "output_type": "display_data"
    },
    {
     "data": {
      "application/vnd.jupyter.widget-view+json": {
       "model_id": "02de07d0b2a84e2aa840359bb833a313",
       "version_major": 2,
       "version_minor": 0
      },
      "text/plain": [
       "Drawing 10000 posterior samples:   0%|          | 0/10000 [00:00<?, ?it/s]"
      ]
     },
     "metadata": {},
     "output_type": "display_data"
    },
    {
     "data": {
      "application/vnd.jupyter.widget-view+json": {
       "model_id": "c05494eb4fab42f193fc26edfff521a8",
       "version_major": 2,
       "version_minor": 0
      },
      "text/plain": [
       "Drawing 10000 posterior samples:   0%|          | 0/10000 [00:00<?, ?it/s]"
      ]
     },
     "metadata": {},
     "output_type": "display_data"
    },
    {
     "data": {
      "application/vnd.jupyter.widget-view+json": {
       "model_id": "5c83c22d57e849f5a005db3cd09d65b2",
       "version_major": 2,
       "version_minor": 0
      },
      "text/plain": [
       "Drawing 10000 posterior samples:   0%|          | 0/10000 [00:00<?, ?it/s]"
      ]
     },
     "metadata": {},
     "output_type": "display_data"
    },
    {
     "data": {
      "application/vnd.jupyter.widget-view+json": {
       "model_id": "becd68a7c880400a8226ba5965f4f65e",
       "version_major": 2,
       "version_minor": 0
      },
      "text/plain": [
       "Drawing 10000 posterior samples:   0%|          | 0/10000 [00:00<?, ?it/s]"
      ]
     },
     "metadata": {},
     "output_type": "display_data"
    },
    {
     "data": {
      "application/vnd.jupyter.widget-view+json": {
       "model_id": "24ac6b9a3f8b4d118fbc055bb715d0c1",
       "version_major": 2,
       "version_minor": 0
      },
      "text/plain": [
       "Drawing 10000 posterior samples:   0%|          | 0/10000 [00:00<?, ?it/s]"
      ]
     },
     "metadata": {},
     "output_type": "display_data"
    },
    {
     "name": "stderr",
     "output_type": "stream",
     "text": [
      "\r",
      " 45%|████████████████████████████████████████████                                                      | 9/20 [00:13<00:16,  1.50s/it]"
     ]
    },
    {
     "data": {
      "application/vnd.jupyter.widget-view+json": {
       "model_id": "3cbc2f55fabe42199ae697e5238c4441",
       "version_major": 2,
       "version_minor": 0
      },
      "text/plain": [
       "Drawing 10000 posterior samples:   0%|          | 0/10000 [00:00<?, ?it/s]"
      ]
     },
     "metadata": {},
     "output_type": "display_data"
    },
    {
     "data": {
      "application/vnd.jupyter.widget-view+json": {
       "model_id": "c5e2a0f49bc54df3a3f3251a54a41637",
       "version_major": 2,
       "version_minor": 0
      },
      "text/plain": [
       "Drawing 10000 posterior samples:   0%|          | 0/10000 [00:00<?, ?it/s]"
      ]
     },
     "metadata": {},
     "output_type": "display_data"
    },
    {
     "data": {
      "application/vnd.jupyter.widget-view+json": {
       "model_id": "e1a83a316640485f830b5ee0cb894ee5",
       "version_major": 2,
       "version_minor": 0
      },
      "text/plain": [
       "Drawing 10000 posterior samples:   0%|          | 0/10000 [00:00<?, ?it/s]"
      ]
     },
     "metadata": {},
     "output_type": "display_data"
    },
    {
     "data": {
      "application/vnd.jupyter.widget-view+json": {
       "model_id": "f17a8d62af814f2c85a50a637b3fa189",
       "version_major": 2,
       "version_minor": 0
      },
      "text/plain": [
       "Drawing 10000 posterior samples:   0%|          | 0/10000 [00:00<?, ?it/s]"
      ]
     },
     "metadata": {},
     "output_type": "display_data"
    },
    {
     "data": {
      "application/vnd.jupyter.widget-view+json": {
       "model_id": "5102c7de4d3044919f856b9ae3a0f5a8",
       "version_major": 2,
       "version_minor": 0
      },
      "text/plain": [
       "Drawing 10000 posterior samples:   0%|          | 0/10000 [00:00<?, ?it/s]"
      ]
     },
     "metadata": {},
     "output_type": "display_data"
    },
    {
     "data": {
      "application/vnd.jupyter.widget-view+json": {
       "model_id": "50de147c2c334477afe9b4788a6b0050",
       "version_major": 2,
       "version_minor": 0
      },
      "text/plain": [
       "Drawing 10000 posterior samples:   0%|          | 0/10000 [00:00<?, ?it/s]"
      ]
     },
     "metadata": {},
     "output_type": "display_data"
    },
    {
     "data": {
      "application/vnd.jupyter.widget-view+json": {
       "model_id": "e454c54837b6456a853297794c8cb379",
       "version_major": 2,
       "version_minor": 0
      },
      "text/plain": [
       "Drawing 10000 posterior samples:   0%|          | 0/10000 [00:00<?, ?it/s]"
      ]
     },
     "metadata": {},
     "output_type": "display_data"
    },
    {
     "data": {
      "application/vnd.jupyter.widget-view+json": {
       "model_id": "20bfd36eeb674e209dce3da92a8c5b34",
       "version_major": 2,
       "version_minor": 0
      },
      "text/plain": [
       "Drawing 10000 posterior samples:   0%|          | 0/10000 [00:00<?, ?it/s]"
      ]
     },
     "metadata": {},
     "output_type": "display_data"
    },
    {
     "data": {
      "application/vnd.jupyter.widget-view+json": {
       "model_id": "1d44572ca08f40029448a84642e90c8c",
       "version_major": 2,
       "version_minor": 0
      },
      "text/plain": [
       "Drawing 10000 posterior samples:   0%|          | 0/10000 [00:00<?, ?it/s]"
      ]
     },
     "metadata": {},
     "output_type": "display_data"
    },
    {
     "data": {
      "application/vnd.jupyter.widget-view+json": {
       "model_id": "1f9ac37d7a904177befb075c41c98805",
       "version_major": 2,
       "version_minor": 0
      },
      "text/plain": [
       "Drawing 10000 posterior samples:   0%|          | 0/10000 [00:00<?, ?it/s]"
      ]
     },
     "metadata": {},
     "output_type": "display_data"
    },
    {
     "data": {
      "application/vnd.jupyter.widget-view+json": {
       "model_id": "a16cb63b9b6d45c29d141010ba23a6bc",
       "version_major": 2,
       "version_minor": 0
      },
      "text/plain": [
       "Drawing 10000 posterior samples:   0%|          | 0/10000 [00:00<?, ?it/s]"
      ]
     },
     "metadata": {},
     "output_type": "display_data"
    },
    {
     "data": {
      "application/vnd.jupyter.widget-view+json": {
       "model_id": "a4224e8d0fff4ce4a41a03f026148732",
       "version_major": 2,
       "version_minor": 0
      },
      "text/plain": [
       "Drawing 10000 posterior samples:   0%|          | 0/10000 [00:00<?, ?it/s]"
      ]
     },
     "metadata": {},
     "output_type": "display_data"
    },
    {
     "data": {
      "application/vnd.jupyter.widget-view+json": {
       "model_id": "413fd0f5ef2a4589a2a26139e2432c9c",
       "version_major": 2,
       "version_minor": 0
      },
      "text/plain": [
       "Drawing 10000 posterior samples:   0%|          | 0/10000 [00:00<?, ?it/s]"
      ]
     },
     "metadata": {},
     "output_type": "display_data"
    },
    {
     "data": {
      "application/vnd.jupyter.widget-view+json": {
       "model_id": "066e524023ff4405b2f9d8a05ce88cc0",
       "version_major": 2,
       "version_minor": 0
      },
      "text/plain": [
       "Drawing 10000 posterior samples:   0%|          | 0/10000 [00:00<?, ?it/s]"
      ]
     },
     "metadata": {},
     "output_type": "display_data"
    },
    {
     "data": {
      "application/vnd.jupyter.widget-view+json": {
       "model_id": "250f8b242a664d76974e7be2de7f66b1",
       "version_major": 2,
       "version_minor": 0
      },
      "text/plain": [
       "Drawing 10000 posterior samples:   0%|          | 0/10000 [00:00<?, ?it/s]"
      ]
     },
     "metadata": {},
     "output_type": "display_data"
    },
    {
     "data": {
      "application/vnd.jupyter.widget-view+json": {
       "model_id": "b46a61f5d8c14ff78dd3a3e7ec78bc15",
       "version_major": 2,
       "version_minor": 0
      },
      "text/plain": [
       "Drawing 10000 posterior samples:   0%|          | 0/10000 [00:00<?, ?it/s]"
      ]
     },
     "metadata": {},
     "output_type": "display_data"
    },
    {
     "data": {
      "application/vnd.jupyter.widget-view+json": {
       "model_id": "69981ab75f0345e2bfbf5b09a6075f55",
       "version_major": 2,
       "version_minor": 0
      },
      "text/plain": [
       "Drawing 10000 posterior samples:   0%|          | 0/10000 [00:00<?, ?it/s]"
      ]
     },
     "metadata": {},
     "output_type": "display_data"
    },
    {
     "data": {
      "application/vnd.jupyter.widget-view+json": {
       "model_id": "02ccea3b14054102a8125ff0860d4864",
       "version_major": 2,
       "version_minor": 0
      },
      "text/plain": [
       "Drawing 10000 posterior samples:   0%|          | 0/10000 [00:00<?, ?it/s]"
      ]
     },
     "metadata": {},
     "output_type": "display_data"
    },
    {
     "data": {
      "application/vnd.jupyter.widget-view+json": {
       "model_id": "308af3876141468db4cba6024a582f60",
       "version_major": 2,
       "version_minor": 0
      },
      "text/plain": [
       "Drawing 10000 posterior samples:   0%|          | 0/10000 [00:00<?, ?it/s]"
      ]
     },
     "metadata": {},
     "output_type": "display_data"
    },
    {
     "data": {
      "application/vnd.jupyter.widget-view+json": {
       "model_id": "7b2c677aaaa542c6bda8e24404bb44c0",
       "version_major": 2,
       "version_minor": 0
      },
      "text/plain": [
       "Drawing 10000 posterior samples:   0%|          | 0/10000 [00:00<?, ?it/s]"
      ]
     },
     "metadata": {},
     "output_type": "display_data"
    },
    {
     "data": {
      "application/vnd.jupyter.widget-view+json": {
       "model_id": "07a93e7c58c54b8b9cad206b8c3d7665",
       "version_major": 2,
       "version_minor": 0
      },
      "text/plain": [
       "Drawing 10000 posterior samples:   0%|          | 0/10000 [00:00<?, ?it/s]"
      ]
     },
     "metadata": {},
     "output_type": "display_data"
    },
    {
     "data": {
      "application/vnd.jupyter.widget-view+json": {
       "model_id": "1bcf560c994b4987b84ee02e300a6e27",
       "version_major": 2,
       "version_minor": 0
      },
      "text/plain": [
       "Drawing 10000 posterior samples:   0%|          | 0/10000 [00:00<?, ?it/s]"
      ]
     },
     "metadata": {},
     "output_type": "display_data"
    },
    {
     "data": {
      "application/vnd.jupyter.widget-view+json": {
       "model_id": "0715d16e9d7f40a4a3aa7fb4e54883e4",
       "version_major": 2,
       "version_minor": 0
      },
      "text/plain": [
       "Drawing 10000 posterior samples:   0%|          | 0/10000 [00:00<?, ?it/s]"
      ]
     },
     "metadata": {},
     "output_type": "display_data"
    },
    {
     "data": {
      "application/vnd.jupyter.widget-view+json": {
       "model_id": "9522bb368e6e45a98bdcd673928fe184",
       "version_major": 2,
       "version_minor": 0
      },
      "text/plain": [
       "Drawing 10000 posterior samples:   0%|          | 0/10000 [00:00<?, ?it/s]"
      ]
     },
     "metadata": {},
     "output_type": "display_data"
    },
    {
     "data": {
      "application/vnd.jupyter.widget-view+json": {
       "model_id": "809ad4bad71044c49bb9e2531ec58523",
       "version_major": 2,
       "version_minor": 0
      },
      "text/plain": [
       "Drawing 10000 posterior samples:   0%|          | 0/10000 [00:00<?, ?it/s]"
      ]
     },
     "metadata": {},
     "output_type": "display_data"
    },
    {
     "data": {
      "application/vnd.jupyter.widget-view+json": {
       "model_id": "3abb4c879e7b4240813f04b97d577864",
       "version_major": 2,
       "version_minor": 0
      },
      "text/plain": [
       "Drawing 10000 posterior samples:   0%|          | 0/10000 [00:00<?, ?it/s]"
      ]
     },
     "metadata": {},
     "output_type": "display_data"
    },
    {
     "data": {
      "application/vnd.jupyter.widget-view+json": {
       "model_id": "3f4bb6e123dc423d87ea8c2154629ae2",
       "version_major": 2,
       "version_minor": 0
      },
      "text/plain": [
       "Drawing 10000 posterior samples:   0%|          | 0/10000 [00:00<?, ?it/s]"
      ]
     },
     "metadata": {},
     "output_type": "display_data"
    },
    {
     "data": {
      "application/vnd.jupyter.widget-view+json": {
       "model_id": "9d6ebe0ecbba4ea2b43521f81c1f2303",
       "version_major": 2,
       "version_minor": 0
      },
      "text/plain": [
       "Drawing 10000 posterior samples:   0%|          | 0/10000 [00:00<?, ?it/s]"
      ]
     },
     "metadata": {},
     "output_type": "display_data"
    },
    {
     "data": {
      "application/vnd.jupyter.widget-view+json": {
       "model_id": "960bcf7897af41418786c1a9e32ad4bf",
       "version_major": 2,
       "version_minor": 0
      },
      "text/plain": [
       "Drawing 10000 posterior samples:   0%|          | 0/10000 [00:00<?, ?it/s]"
      ]
     },
     "metadata": {},
     "output_type": "display_data"
    },
    {
     "data": {
      "application/vnd.jupyter.widget-view+json": {
       "model_id": "fb03c5a017c545b8a0ff780f1ea77612",
       "version_major": 2,
       "version_minor": 0
      },
      "text/plain": [
       "Drawing 10000 posterior samples:   0%|          | 0/10000 [00:00<?, ?it/s]"
      ]
     },
     "metadata": {},
     "output_type": "display_data"
    },
    {
     "data": {
      "application/vnd.jupyter.widget-view+json": {
       "model_id": "c9e6f75714f24a1ea804fa69a9ecb8b2",
       "version_major": 2,
       "version_minor": 0
      },
      "text/plain": [
       "Drawing 10000 posterior samples:   0%|          | 0/10000 [00:00<?, ?it/s]"
      ]
     },
     "metadata": {},
     "output_type": "display_data"
    },
    {
     "data": {
      "application/vnd.jupyter.widget-view+json": {
       "model_id": "6f6d7cdf59f64673a33196c5748a2cc9",
       "version_major": 2,
       "version_minor": 0
      },
      "text/plain": [
       "Drawing 10000 posterior samples:   0%|          | 0/10000 [00:00<?, ?it/s]"
      ]
     },
     "metadata": {},
     "output_type": "display_data"
    },
    {
     "data": {
      "application/vnd.jupyter.widget-view+json": {
       "model_id": "980103c06a574e8abde5e0a5e7939a70",
       "version_major": 2,
       "version_minor": 0
      },
      "text/plain": [
       "Drawing 10000 posterior samples:   0%|          | 0/10000 [00:00<?, ?it/s]"
      ]
     },
     "metadata": {},
     "output_type": "display_data"
    },
    {
     "data": {
      "application/vnd.jupyter.widget-view+json": {
       "model_id": "dc6e92dd9625464f960b5a6cbbdbf155",
       "version_major": 2,
       "version_minor": 0
      },
      "text/plain": [
       "Drawing 10000 posterior samples:   0%|          | 0/10000 [00:00<?, ?it/s]"
      ]
     },
     "metadata": {},
     "output_type": "display_data"
    },
    {
     "data": {
      "application/vnd.jupyter.widget-view+json": {
       "model_id": "3839af4c7eda4e5bba3f78c8a0ad839a",
       "version_major": 2,
       "version_minor": 0
      },
      "text/plain": [
       "Drawing 10000 posterior samples:   0%|          | 0/10000 [00:00<?, ?it/s]"
      ]
     },
     "metadata": {},
     "output_type": "display_data"
    },
    {
     "data": {
      "application/vnd.jupyter.widget-view+json": {
       "model_id": "1a5e4c6e7390486b9bb82a82c05ce564",
       "version_major": 2,
       "version_minor": 0
      },
      "text/plain": [
       "Drawing 10000 posterior samples:   0%|          | 0/10000 [00:00<?, ?it/s]"
      ]
     },
     "metadata": {},
     "output_type": "display_data"
    },
    {
     "name": "stderr",
     "output_type": "stream",
     "text": [
      "\r",
      " 50%|████████████████████████████████████████████████▌                                                | 10/20 [00:15<00:15,  1.51s/it]"
     ]
    },
    {
     "data": {
      "application/vnd.jupyter.widget-view+json": {
       "model_id": "f86f736974dc4b1ea3f4bd58de9689a5",
       "version_major": 2,
       "version_minor": 0
      },
      "text/plain": [
       "Drawing 10000 posterior samples:   0%|          | 0/10000 [00:00<?, ?it/s]"
      ]
     },
     "metadata": {},
     "output_type": "display_data"
    },
    {
     "data": {
      "application/vnd.jupyter.widget-view+json": {
       "model_id": "d0691309b1b94c1f9a496f439f0d9d1c",
       "version_major": 2,
       "version_minor": 0
      },
      "text/plain": [
       "Drawing 10000 posterior samples:   0%|          | 0/10000 [00:00<?, ?it/s]"
      ]
     },
     "metadata": {},
     "output_type": "display_data"
    },
    {
     "data": {
      "application/vnd.jupyter.widget-view+json": {
       "model_id": "79e73ddddcfd4b5eb6f53eebc360d25b",
       "version_major": 2,
       "version_minor": 0
      },
      "text/plain": [
       "Drawing 10000 posterior samples:   0%|          | 0/10000 [00:00<?, ?it/s]"
      ]
     },
     "metadata": {},
     "output_type": "display_data"
    },
    {
     "data": {
      "application/vnd.jupyter.widget-view+json": {
       "model_id": "26ef4ec3634f4347805d1676e4caba72",
       "version_major": 2,
       "version_minor": 0
      },
      "text/plain": [
       "Drawing 10000 posterior samples:   0%|          | 0/10000 [00:00<?, ?it/s]"
      ]
     },
     "metadata": {},
     "output_type": "display_data"
    },
    {
     "data": {
      "application/vnd.jupyter.widget-view+json": {
       "model_id": "6676eaf06b50401197ffd535b4b77ab5",
       "version_major": 2,
       "version_minor": 0
      },
      "text/plain": [
       "Drawing 10000 posterior samples:   0%|          | 0/10000 [00:00<?, ?it/s]"
      ]
     },
     "metadata": {},
     "output_type": "display_data"
    },
    {
     "data": {
      "application/vnd.jupyter.widget-view+json": {
       "model_id": "ffd03c18b73441a3944e4015834d7399",
       "version_major": 2,
       "version_minor": 0
      },
      "text/plain": [
       "Drawing 10000 posterior samples:   0%|          | 0/10000 [00:00<?, ?it/s]"
      ]
     },
     "metadata": {},
     "output_type": "display_data"
    },
    {
     "data": {
      "application/vnd.jupyter.widget-view+json": {
       "model_id": "222fbc2ee4e947e98932fef2c3fb7eca",
       "version_major": 2,
       "version_minor": 0
      },
      "text/plain": [
       "Drawing 10000 posterior samples:   0%|          | 0/10000 [00:00<?, ?it/s]"
      ]
     },
     "metadata": {},
     "output_type": "display_data"
    },
    {
     "data": {
      "application/vnd.jupyter.widget-view+json": {
       "model_id": "ff95b13d592f49b4aed0bb31f94c930e",
       "version_major": 2,
       "version_minor": 0
      },
      "text/plain": [
       "Drawing 10000 posterior samples:   0%|          | 0/10000 [00:00<?, ?it/s]"
      ]
     },
     "metadata": {},
     "output_type": "display_data"
    },
    {
     "data": {
      "application/vnd.jupyter.widget-view+json": {
       "model_id": "78b011c7c8a24b32bbff3b603cc99a9c",
       "version_major": 2,
       "version_minor": 0
      },
      "text/plain": [
       "Drawing 10000 posterior samples:   0%|          | 0/10000 [00:00<?, ?it/s]"
      ]
     },
     "metadata": {},
     "output_type": "display_data"
    },
    {
     "data": {
      "application/vnd.jupyter.widget-view+json": {
       "model_id": "9910663a397e4b25a1757ca3c221105b",
       "version_major": 2,
       "version_minor": 0
      },
      "text/plain": [
       "Drawing 10000 posterior samples:   0%|          | 0/10000 [00:00<?, ?it/s]"
      ]
     },
     "metadata": {},
     "output_type": "display_data"
    },
    {
     "data": {
      "application/vnd.jupyter.widget-view+json": {
       "model_id": "e8e9a9ed49f049e3889e842adfc7d139",
       "version_major": 2,
       "version_minor": 0
      },
      "text/plain": [
       "Drawing 10000 posterior samples:   0%|          | 0/10000 [00:00<?, ?it/s]"
      ]
     },
     "metadata": {},
     "output_type": "display_data"
    },
    {
     "data": {
      "application/vnd.jupyter.widget-view+json": {
       "model_id": "871c1bd224144311988981b5357000a7",
       "version_major": 2,
       "version_minor": 0
      },
      "text/plain": [
       "Drawing 10000 posterior samples:   0%|          | 0/10000 [00:00<?, ?it/s]"
      ]
     },
     "metadata": {},
     "output_type": "display_data"
    },
    {
     "data": {
      "application/vnd.jupyter.widget-view+json": {
       "model_id": "b01d2953dabf49f3beae0c1b578327ab",
       "version_major": 2,
       "version_minor": 0
      },
      "text/plain": [
       "Drawing 10000 posterior samples:   0%|          | 0/10000 [00:00<?, ?it/s]"
      ]
     },
     "metadata": {},
     "output_type": "display_data"
    },
    {
     "data": {
      "application/vnd.jupyter.widget-view+json": {
       "model_id": "9b3f8ec8da154795b39cf115fbc6cb4f",
       "version_major": 2,
       "version_minor": 0
      },
      "text/plain": [
       "Drawing 10000 posterior samples:   0%|          | 0/10000 [00:00<?, ?it/s]"
      ]
     },
     "metadata": {},
     "output_type": "display_data"
    },
    {
     "data": {
      "application/vnd.jupyter.widget-view+json": {
       "model_id": "2d522c6b48c64ca9b26679d1495c155e",
       "version_major": 2,
       "version_minor": 0
      },
      "text/plain": [
       "Drawing 10000 posterior samples:   0%|          | 0/10000 [00:00<?, ?it/s]"
      ]
     },
     "metadata": {},
     "output_type": "display_data"
    },
    {
     "data": {
      "application/vnd.jupyter.widget-view+json": {
       "model_id": "9b689caa260247798ce036f5dcb931c8",
       "version_major": 2,
       "version_minor": 0
      },
      "text/plain": [
       "Drawing 10000 posterior samples:   0%|          | 0/10000 [00:00<?, ?it/s]"
      ]
     },
     "metadata": {},
     "output_type": "display_data"
    },
    {
     "data": {
      "application/vnd.jupyter.widget-view+json": {
       "model_id": "21f1c627377b47f4a0692e9a912d28a7",
       "version_major": 2,
       "version_minor": 0
      },
      "text/plain": [
       "Drawing 10000 posterior samples:   0%|          | 0/10000 [00:00<?, ?it/s]"
      ]
     },
     "metadata": {},
     "output_type": "display_data"
    },
    {
     "data": {
      "application/vnd.jupyter.widget-view+json": {
       "model_id": "f6164957765941f0ba97b4804bac8dab",
       "version_major": 2,
       "version_minor": 0
      },
      "text/plain": [
       "Drawing 10000 posterior samples:   0%|          | 0/10000 [00:00<?, ?it/s]"
      ]
     },
     "metadata": {},
     "output_type": "display_data"
    },
    {
     "data": {
      "application/vnd.jupyter.widget-view+json": {
       "model_id": "b9a954f40b01474faa15324680c8510d",
       "version_major": 2,
       "version_minor": 0
      },
      "text/plain": [
       "Drawing 10000 posterior samples:   0%|          | 0/10000 [00:00<?, ?it/s]"
      ]
     },
     "metadata": {},
     "output_type": "display_data"
    },
    {
     "data": {
      "application/vnd.jupyter.widget-view+json": {
       "model_id": "13bfe7a0d96c449b834e330da55a5b24",
       "version_major": 2,
       "version_minor": 0
      },
      "text/plain": [
       "Drawing 10000 posterior samples:   0%|          | 0/10000 [00:00<?, ?it/s]"
      ]
     },
     "metadata": {},
     "output_type": "display_data"
    },
    {
     "data": {
      "application/vnd.jupyter.widget-view+json": {
       "model_id": "115d542e43a84a42b9f8089d180f821d",
       "version_major": 2,
       "version_minor": 0
      },
      "text/plain": [
       "Drawing 10000 posterior samples:   0%|          | 0/10000 [00:00<?, ?it/s]"
      ]
     },
     "metadata": {},
     "output_type": "display_data"
    },
    {
     "data": {
      "application/vnd.jupyter.widget-view+json": {
       "model_id": "2c76736304254b0d90ee50364af989d1",
       "version_major": 2,
       "version_minor": 0
      },
      "text/plain": [
       "Drawing 10000 posterior samples:   0%|          | 0/10000 [00:00<?, ?it/s]"
      ]
     },
     "metadata": {},
     "output_type": "display_data"
    },
    {
     "data": {
      "application/vnd.jupyter.widget-view+json": {
       "model_id": "e28d2e084c874eda88156e8a7c1e0468",
       "version_major": 2,
       "version_minor": 0
      },
      "text/plain": [
       "Drawing 10000 posterior samples:   0%|          | 0/10000 [00:00<?, ?it/s]"
      ]
     },
     "metadata": {},
     "output_type": "display_data"
    },
    {
     "data": {
      "application/vnd.jupyter.widget-view+json": {
       "model_id": "deaf23d711554e848caa007e38bb848d",
       "version_major": 2,
       "version_minor": 0
      },
      "text/plain": [
       "Drawing 10000 posterior samples:   0%|          | 0/10000 [00:00<?, ?it/s]"
      ]
     },
     "metadata": {},
     "output_type": "display_data"
    },
    {
     "data": {
      "application/vnd.jupyter.widget-view+json": {
       "model_id": "00d09b79c63c4b4ba175488c5a4f53a5",
       "version_major": 2,
       "version_minor": 0
      },
      "text/plain": [
       "Drawing 10000 posterior samples:   0%|          | 0/10000 [00:00<?, ?it/s]"
      ]
     },
     "metadata": {},
     "output_type": "display_data"
    },
    {
     "data": {
      "application/vnd.jupyter.widget-view+json": {
       "model_id": "2a8a00ba9a9b43a19bed593aef9dc6c2",
       "version_major": 2,
       "version_minor": 0
      },
      "text/plain": [
       "Drawing 10000 posterior samples:   0%|          | 0/10000 [00:00<?, ?it/s]"
      ]
     },
     "metadata": {},
     "output_type": "display_data"
    },
    {
     "data": {
      "application/vnd.jupyter.widget-view+json": {
       "model_id": "52ebed2913d74c54b5e224163655b733",
       "version_major": 2,
       "version_minor": 0
      },
      "text/plain": [
       "Drawing 10000 posterior samples:   0%|          | 0/10000 [00:00<?, ?it/s]"
      ]
     },
     "metadata": {},
     "output_type": "display_data"
    },
    {
     "data": {
      "application/vnd.jupyter.widget-view+json": {
       "model_id": "cf2f0f7b7d98448d92f972838908e49a",
       "version_major": 2,
       "version_minor": 0
      },
      "text/plain": [
       "Drawing 10000 posterior samples:   0%|          | 0/10000 [00:00<?, ?it/s]"
      ]
     },
     "metadata": {},
     "output_type": "display_data"
    },
    {
     "data": {
      "application/vnd.jupyter.widget-view+json": {
       "model_id": "9a54805d051840ce987b4e40263dcd82",
       "version_major": 2,
       "version_minor": 0
      },
      "text/plain": [
       "Drawing 10000 posterior samples:   0%|          | 0/10000 [00:00<?, ?it/s]"
      ]
     },
     "metadata": {},
     "output_type": "display_data"
    },
    {
     "data": {
      "application/vnd.jupyter.widget-view+json": {
       "model_id": "a6085c2bc7b24f42a1f2188eeb7989e7",
       "version_major": 2,
       "version_minor": 0
      },
      "text/plain": [
       "Drawing 10000 posterior samples:   0%|          | 0/10000 [00:00<?, ?it/s]"
      ]
     },
     "metadata": {},
     "output_type": "display_data"
    },
    {
     "data": {
      "application/vnd.jupyter.widget-view+json": {
       "model_id": "87bc6162f4ae4d6d9a4839b5d54d9a0c",
       "version_major": 2,
       "version_minor": 0
      },
      "text/plain": [
       "Drawing 10000 posterior samples:   0%|          | 0/10000 [00:00<?, ?it/s]"
      ]
     },
     "metadata": {},
     "output_type": "display_data"
    },
    {
     "data": {
      "application/vnd.jupyter.widget-view+json": {
       "model_id": "7037c295575c41ef861055e2249e5753",
       "version_major": 2,
       "version_minor": 0
      },
      "text/plain": [
       "Drawing 10000 posterior samples:   0%|          | 0/10000 [00:00<?, ?it/s]"
      ]
     },
     "metadata": {},
     "output_type": "display_data"
    },
    {
     "data": {
      "application/vnd.jupyter.widget-view+json": {
       "model_id": "03abb4a4955040b3bec94ddcdac9f317",
       "version_major": 2,
       "version_minor": 0
      },
      "text/plain": [
       "Drawing 10000 posterior samples:   0%|          | 0/10000 [00:00<?, ?it/s]"
      ]
     },
     "metadata": {},
     "output_type": "display_data"
    },
    {
     "data": {
      "application/vnd.jupyter.widget-view+json": {
       "model_id": "fccb0a59804c47a28fcc3c2612e36658",
       "version_major": 2,
       "version_minor": 0
      },
      "text/plain": [
       "Drawing 10000 posterior samples:   0%|          | 0/10000 [00:00<?, ?it/s]"
      ]
     },
     "metadata": {},
     "output_type": "display_data"
    },
    {
     "data": {
      "application/vnd.jupyter.widget-view+json": {
       "model_id": "513c662cbbbe4c90a6407ca634b91cf8",
       "version_major": 2,
       "version_minor": 0
      },
      "text/plain": [
       "Drawing 10000 posterior samples:   0%|          | 0/10000 [00:00<?, ?it/s]"
      ]
     },
     "metadata": {},
     "output_type": "display_data"
    },
    {
     "data": {
      "application/vnd.jupyter.widget-view+json": {
       "model_id": "e4b5f43a02264c8281e9ca1a2f279d4e",
       "version_major": 2,
       "version_minor": 0
      },
      "text/plain": [
       "Drawing 10000 posterior samples:   0%|          | 0/10000 [00:00<?, ?it/s]"
      ]
     },
     "metadata": {},
     "output_type": "display_data"
    },
    {
     "name": "stderr",
     "output_type": "stream",
     "text": [
      "\r",
      " 55%|█████████████████████████████████████████████████████▎                                           | 11/20 [00:16<00:13,  1.48s/it]"
     ]
    },
    {
     "data": {
      "application/vnd.jupyter.widget-view+json": {
       "model_id": "b6c9a2a0e03f4998a86991ef2de94be6",
       "version_major": 2,
       "version_minor": 0
      },
      "text/plain": [
       "Drawing 10000 posterior samples:   0%|          | 0/10000 [00:00<?, ?it/s]"
      ]
     },
     "metadata": {},
     "output_type": "display_data"
    },
    {
     "data": {
      "application/vnd.jupyter.widget-view+json": {
       "model_id": "25d2d4bf370c4d66a32013fdaada1274",
       "version_major": 2,
       "version_minor": 0
      },
      "text/plain": [
       "Drawing 10000 posterior samples:   0%|          | 0/10000 [00:00<?, ?it/s]"
      ]
     },
     "metadata": {},
     "output_type": "display_data"
    },
    {
     "data": {
      "application/vnd.jupyter.widget-view+json": {
       "model_id": "7109c49c05ac449490f6beff83d4b505",
       "version_major": 2,
       "version_minor": 0
      },
      "text/plain": [
       "Drawing 10000 posterior samples:   0%|          | 0/10000 [00:00<?, ?it/s]"
      ]
     },
     "metadata": {},
     "output_type": "display_data"
    },
    {
     "data": {
      "application/vnd.jupyter.widget-view+json": {
       "model_id": "1c89f9c94d5e4126a4c95694b447f020",
       "version_major": 2,
       "version_minor": 0
      },
      "text/plain": [
       "Drawing 10000 posterior samples:   0%|          | 0/10000 [00:00<?, ?it/s]"
      ]
     },
     "metadata": {},
     "output_type": "display_data"
    },
    {
     "data": {
      "application/vnd.jupyter.widget-view+json": {
       "model_id": "3194c9cc06044326a0cfb0211254f1b6",
       "version_major": 2,
       "version_minor": 0
      },
      "text/plain": [
       "Drawing 10000 posterior samples:   0%|          | 0/10000 [00:00<?, ?it/s]"
      ]
     },
     "metadata": {},
     "output_type": "display_data"
    },
    {
     "data": {
      "application/vnd.jupyter.widget-view+json": {
       "model_id": "66c31f70f293418b969ccef95a288ce8",
       "version_major": 2,
       "version_minor": 0
      },
      "text/plain": [
       "Drawing 10000 posterior samples:   0%|          | 0/10000 [00:00<?, ?it/s]"
      ]
     },
     "metadata": {},
     "output_type": "display_data"
    },
    {
     "data": {
      "application/vnd.jupyter.widget-view+json": {
       "model_id": "a12ebdbfa96347b696ef89168f4d57b8",
       "version_major": 2,
       "version_minor": 0
      },
      "text/plain": [
       "Drawing 10000 posterior samples:   0%|          | 0/10000 [00:00<?, ?it/s]"
      ]
     },
     "metadata": {},
     "output_type": "display_data"
    },
    {
     "data": {
      "application/vnd.jupyter.widget-view+json": {
       "model_id": "35677bea37664d639de435dcad4e2e8a",
       "version_major": 2,
       "version_minor": 0
      },
      "text/plain": [
       "Drawing 10000 posterior samples:   0%|          | 0/10000 [00:00<?, ?it/s]"
      ]
     },
     "metadata": {},
     "output_type": "display_data"
    },
    {
     "data": {
      "application/vnd.jupyter.widget-view+json": {
       "model_id": "ecc14096a4974629b2a9db6067b221c6",
       "version_major": 2,
       "version_minor": 0
      },
      "text/plain": [
       "Drawing 10000 posterior samples:   0%|          | 0/10000 [00:00<?, ?it/s]"
      ]
     },
     "metadata": {},
     "output_type": "display_data"
    },
    {
     "data": {
      "application/vnd.jupyter.widget-view+json": {
       "model_id": "7eb30bcdd3da462097c5b31b8a40b532",
       "version_major": 2,
       "version_minor": 0
      },
      "text/plain": [
       "Drawing 10000 posterior samples:   0%|          | 0/10000 [00:00<?, ?it/s]"
      ]
     },
     "metadata": {},
     "output_type": "display_data"
    },
    {
     "data": {
      "application/vnd.jupyter.widget-view+json": {
       "model_id": "e50920115b604e52a66e424c679e94c0",
       "version_major": 2,
       "version_minor": 0
      },
      "text/plain": [
       "Drawing 10000 posterior samples:   0%|          | 0/10000 [00:00<?, ?it/s]"
      ]
     },
     "metadata": {},
     "output_type": "display_data"
    },
    {
     "data": {
      "application/vnd.jupyter.widget-view+json": {
       "model_id": "0e5fc6af9ef7416e8ea0486a15d19dda",
       "version_major": 2,
       "version_minor": 0
      },
      "text/plain": [
       "Drawing 10000 posterior samples:   0%|          | 0/10000 [00:00<?, ?it/s]"
      ]
     },
     "metadata": {},
     "output_type": "display_data"
    },
    {
     "data": {
      "application/vnd.jupyter.widget-view+json": {
       "model_id": "232847f5dd974451b1a813a440ca5d0e",
       "version_major": 2,
       "version_minor": 0
      },
      "text/plain": [
       "Drawing 10000 posterior samples:   0%|          | 0/10000 [00:00<?, ?it/s]"
      ]
     },
     "metadata": {},
     "output_type": "display_data"
    },
    {
     "data": {
      "application/vnd.jupyter.widget-view+json": {
       "model_id": "bb0bd48c064040a296bf83d199f80e5e",
       "version_major": 2,
       "version_minor": 0
      },
      "text/plain": [
       "Drawing 10000 posterior samples:   0%|          | 0/10000 [00:00<?, ?it/s]"
      ]
     },
     "metadata": {},
     "output_type": "display_data"
    },
    {
     "data": {
      "application/vnd.jupyter.widget-view+json": {
       "model_id": "25a73a17bee94c61991d4f4d5f10b788",
       "version_major": 2,
       "version_minor": 0
      },
      "text/plain": [
       "Drawing 10000 posterior samples:   0%|          | 0/10000 [00:00<?, ?it/s]"
      ]
     },
     "metadata": {},
     "output_type": "display_data"
    },
    {
     "data": {
      "application/vnd.jupyter.widget-view+json": {
       "model_id": "09789d545b4b407082a8c62a3459536b",
       "version_major": 2,
       "version_minor": 0
      },
      "text/plain": [
       "Drawing 10000 posterior samples:   0%|          | 0/10000 [00:00<?, ?it/s]"
      ]
     },
     "metadata": {},
     "output_type": "display_data"
    },
    {
     "data": {
      "application/vnd.jupyter.widget-view+json": {
       "model_id": "a2f3b5cd5593498fb5e2fe8980827cca",
       "version_major": 2,
       "version_minor": 0
      },
      "text/plain": [
       "Drawing 10000 posterior samples:   0%|          | 0/10000 [00:00<?, ?it/s]"
      ]
     },
     "metadata": {},
     "output_type": "display_data"
    },
    {
     "data": {
      "application/vnd.jupyter.widget-view+json": {
       "model_id": "77694b1eb28d4a2b89b1d5653f42e748",
       "version_major": 2,
       "version_minor": 0
      },
      "text/plain": [
       "Drawing 10000 posterior samples:   0%|          | 0/10000 [00:00<?, ?it/s]"
      ]
     },
     "metadata": {},
     "output_type": "display_data"
    },
    {
     "data": {
      "application/vnd.jupyter.widget-view+json": {
       "model_id": "666e33db983d43ed8b27c6a99ab43dc8",
       "version_major": 2,
       "version_minor": 0
      },
      "text/plain": [
       "Drawing 10000 posterior samples:   0%|          | 0/10000 [00:00<?, ?it/s]"
      ]
     },
     "metadata": {},
     "output_type": "display_data"
    },
    {
     "data": {
      "application/vnd.jupyter.widget-view+json": {
       "model_id": "25de091c9faf4039b4b96acb42240d60",
       "version_major": 2,
       "version_minor": 0
      },
      "text/plain": [
       "Drawing 10000 posterior samples:   0%|          | 0/10000 [00:00<?, ?it/s]"
      ]
     },
     "metadata": {},
     "output_type": "display_data"
    },
    {
     "data": {
      "application/vnd.jupyter.widget-view+json": {
       "model_id": "38bb56be7ff64f2eb17d6c087d3dd946",
       "version_major": 2,
       "version_minor": 0
      },
      "text/plain": [
       "Drawing 10000 posterior samples:   0%|          | 0/10000 [00:00<?, ?it/s]"
      ]
     },
     "metadata": {},
     "output_type": "display_data"
    },
    {
     "data": {
      "application/vnd.jupyter.widget-view+json": {
       "model_id": "9eea498c87df47b08e07b9faa4f658db",
       "version_major": 2,
       "version_minor": 0
      },
      "text/plain": [
       "Drawing 10000 posterior samples:   0%|          | 0/10000 [00:00<?, ?it/s]"
      ]
     },
     "metadata": {},
     "output_type": "display_data"
    },
    {
     "data": {
      "application/vnd.jupyter.widget-view+json": {
       "model_id": "fc315862cfe445938c4d12964fb4ae49",
       "version_major": 2,
       "version_minor": 0
      },
      "text/plain": [
       "Drawing 10000 posterior samples:   0%|          | 0/10000 [00:00<?, ?it/s]"
      ]
     },
     "metadata": {},
     "output_type": "display_data"
    },
    {
     "data": {
      "application/vnd.jupyter.widget-view+json": {
       "model_id": "90e658cfc84a4e288e97a25429aee263",
       "version_major": 2,
       "version_minor": 0
      },
      "text/plain": [
       "Drawing 10000 posterior samples:   0%|          | 0/10000 [00:00<?, ?it/s]"
      ]
     },
     "metadata": {},
     "output_type": "display_data"
    },
    {
     "data": {
      "application/vnd.jupyter.widget-view+json": {
       "model_id": "2692cfc4ba3e416bb699f5689eb5d3b7",
       "version_major": 2,
       "version_minor": 0
      },
      "text/plain": [
       "Drawing 10000 posterior samples:   0%|          | 0/10000 [00:00<?, ?it/s]"
      ]
     },
     "metadata": {},
     "output_type": "display_data"
    },
    {
     "data": {
      "application/vnd.jupyter.widget-view+json": {
       "model_id": "0c120264a1be467fa8871a506c06e6ed",
       "version_major": 2,
       "version_minor": 0
      },
      "text/plain": [
       "Drawing 10000 posterior samples:   0%|          | 0/10000 [00:00<?, ?it/s]"
      ]
     },
     "metadata": {},
     "output_type": "display_data"
    },
    {
     "data": {
      "application/vnd.jupyter.widget-view+json": {
       "model_id": "d265d5633edf4233aec0baf51fb4e5e8",
       "version_major": 2,
       "version_minor": 0
      },
      "text/plain": [
       "Drawing 10000 posterior samples:   0%|          | 0/10000 [00:00<?, ?it/s]"
      ]
     },
     "metadata": {},
     "output_type": "display_data"
    },
    {
     "data": {
      "application/vnd.jupyter.widget-view+json": {
       "model_id": "a717c22a92b845bc81abca3731c3d438",
       "version_major": 2,
       "version_minor": 0
      },
      "text/plain": [
       "Drawing 10000 posterior samples:   0%|          | 0/10000 [00:00<?, ?it/s]"
      ]
     },
     "metadata": {},
     "output_type": "display_data"
    },
    {
     "data": {
      "application/vnd.jupyter.widget-view+json": {
       "model_id": "bf7d2fd40c264a7d8785998bca22e6bb",
       "version_major": 2,
       "version_minor": 0
      },
      "text/plain": [
       "Drawing 10000 posterior samples:   0%|          | 0/10000 [00:00<?, ?it/s]"
      ]
     },
     "metadata": {},
     "output_type": "display_data"
    },
    {
     "data": {
      "application/vnd.jupyter.widget-view+json": {
       "model_id": "e37e0ce1aa354671913001268c329c02",
       "version_major": 2,
       "version_minor": 0
      },
      "text/plain": [
       "Drawing 10000 posterior samples:   0%|          | 0/10000 [00:00<?, ?it/s]"
      ]
     },
     "metadata": {},
     "output_type": "display_data"
    },
    {
     "data": {
      "application/vnd.jupyter.widget-view+json": {
       "model_id": "bc6cb2a49a8645a19a7a29d8fc92ead9",
       "version_major": 2,
       "version_minor": 0
      },
      "text/plain": [
       "Drawing 10000 posterior samples:   0%|          | 0/10000 [00:00<?, ?it/s]"
      ]
     },
     "metadata": {},
     "output_type": "display_data"
    },
    {
     "data": {
      "application/vnd.jupyter.widget-view+json": {
       "model_id": "5fa41ae4cbf74b57ab4ca1ce3c14c6c0",
       "version_major": 2,
       "version_minor": 0
      },
      "text/plain": [
       "Drawing 10000 posterior samples:   0%|          | 0/10000 [00:00<?, ?it/s]"
      ]
     },
     "metadata": {},
     "output_type": "display_data"
    },
    {
     "data": {
      "application/vnd.jupyter.widget-view+json": {
       "model_id": "1471fee45248408b8a18da74cf588441",
       "version_major": 2,
       "version_minor": 0
      },
      "text/plain": [
       "Drawing 10000 posterior samples:   0%|          | 0/10000 [00:00<?, ?it/s]"
      ]
     },
     "metadata": {},
     "output_type": "display_data"
    },
    {
     "data": {
      "application/vnd.jupyter.widget-view+json": {
       "model_id": "685f14fc665f4de1a8b121bcdaafc31e",
       "version_major": 2,
       "version_minor": 0
      },
      "text/plain": [
       "Drawing 10000 posterior samples:   0%|          | 0/10000 [00:00<?, ?it/s]"
      ]
     },
     "metadata": {},
     "output_type": "display_data"
    },
    {
     "data": {
      "application/vnd.jupyter.widget-view+json": {
       "model_id": "7384fc32c0c148978d1723f7ae5491ca",
       "version_major": 2,
       "version_minor": 0
      },
      "text/plain": [
       "Drawing 10000 posterior samples:   0%|          | 0/10000 [00:00<?, ?it/s]"
      ]
     },
     "metadata": {},
     "output_type": "display_data"
    },
    {
     "data": {
      "application/vnd.jupyter.widget-view+json": {
       "model_id": "ad2358f45b834024b8859e21368525a9",
       "version_major": 2,
       "version_minor": 0
      },
      "text/plain": [
       "Drawing 10000 posterior samples:   0%|          | 0/10000 [00:00<?, ?it/s]"
      ]
     },
     "metadata": {},
     "output_type": "display_data"
    },
    {
     "name": "stderr",
     "output_type": "stream",
     "text": [
      "\r",
      " 60%|██████████████████████████████████████████████████████████▏                                      | 12/20 [00:18<00:11,  1.49s/it]"
     ]
    },
    {
     "data": {
      "application/vnd.jupyter.widget-view+json": {
       "model_id": "402cf2602e754d76b139c7e01fa970de",
       "version_major": 2,
       "version_minor": 0
      },
      "text/plain": [
       "Drawing 10000 posterior samples:   0%|          | 0/10000 [00:00<?, ?it/s]"
      ]
     },
     "metadata": {},
     "output_type": "display_data"
    },
    {
     "data": {
      "application/vnd.jupyter.widget-view+json": {
       "model_id": "730817b532ec4ce08e5d15d32e8b57e2",
       "version_major": 2,
       "version_minor": 0
      },
      "text/plain": [
       "Drawing 10000 posterior samples:   0%|          | 0/10000 [00:00<?, ?it/s]"
      ]
     },
     "metadata": {},
     "output_type": "display_data"
    },
    {
     "data": {
      "application/vnd.jupyter.widget-view+json": {
       "model_id": "b78bb9ca2ba241ca99af3b39aab89d75",
       "version_major": 2,
       "version_minor": 0
      },
      "text/plain": [
       "Drawing 10000 posterior samples:   0%|          | 0/10000 [00:00<?, ?it/s]"
      ]
     },
     "metadata": {},
     "output_type": "display_data"
    },
    {
     "data": {
      "application/vnd.jupyter.widget-view+json": {
       "model_id": "c2a97e76ac4c4e1a9cc30d8631db5b26",
       "version_major": 2,
       "version_minor": 0
      },
      "text/plain": [
       "Drawing 10000 posterior samples:   0%|          | 0/10000 [00:00<?, ?it/s]"
      ]
     },
     "metadata": {},
     "output_type": "display_data"
    },
    {
     "data": {
      "application/vnd.jupyter.widget-view+json": {
       "model_id": "d0e7ea711ce740f0a13dc0bfdfdb08a9",
       "version_major": 2,
       "version_minor": 0
      },
      "text/plain": [
       "Drawing 10000 posterior samples:   0%|          | 0/10000 [00:00<?, ?it/s]"
      ]
     },
     "metadata": {},
     "output_type": "display_data"
    },
    {
     "data": {
      "application/vnd.jupyter.widget-view+json": {
       "model_id": "24bfa71f466148adbc0f4b46d55eccc6",
       "version_major": 2,
       "version_minor": 0
      },
      "text/plain": [
       "Drawing 10000 posterior samples:   0%|          | 0/10000 [00:00<?, ?it/s]"
      ]
     },
     "metadata": {},
     "output_type": "display_data"
    },
    {
     "data": {
      "application/vnd.jupyter.widget-view+json": {
       "model_id": "7de59395ea6f4ac5a2150db8ffdbd775",
       "version_major": 2,
       "version_minor": 0
      },
      "text/plain": [
       "Drawing 10000 posterior samples:   0%|          | 0/10000 [00:00<?, ?it/s]"
      ]
     },
     "metadata": {},
     "output_type": "display_data"
    },
    {
     "data": {
      "application/vnd.jupyter.widget-view+json": {
       "model_id": "b6d9f943b55645558412f7d69173f038",
       "version_major": 2,
       "version_minor": 0
      },
      "text/plain": [
       "Drawing 10000 posterior samples:   0%|          | 0/10000 [00:00<?, ?it/s]"
      ]
     },
     "metadata": {},
     "output_type": "display_data"
    },
    {
     "data": {
      "application/vnd.jupyter.widget-view+json": {
       "model_id": "ebb1e9cbaba4400490f5aafce3b6d736",
       "version_major": 2,
       "version_minor": 0
      },
      "text/plain": [
       "Drawing 10000 posterior samples:   0%|          | 0/10000 [00:00<?, ?it/s]"
      ]
     },
     "metadata": {},
     "output_type": "display_data"
    },
    {
     "data": {
      "application/vnd.jupyter.widget-view+json": {
       "model_id": "8a3e7a44ccdb420c92a98a42a845ba34",
       "version_major": 2,
       "version_minor": 0
      },
      "text/plain": [
       "Drawing 10000 posterior samples:   0%|          | 0/10000 [00:00<?, ?it/s]"
      ]
     },
     "metadata": {},
     "output_type": "display_data"
    },
    {
     "data": {
      "application/vnd.jupyter.widget-view+json": {
       "model_id": "1056dd1d179648a299fb9360fd1dd195",
       "version_major": 2,
       "version_minor": 0
      },
      "text/plain": [
       "Drawing 10000 posterior samples:   0%|          | 0/10000 [00:00<?, ?it/s]"
      ]
     },
     "metadata": {},
     "output_type": "display_data"
    },
    {
     "data": {
      "application/vnd.jupyter.widget-view+json": {
       "model_id": "0a83b4a07a3d434990a746848862198f",
       "version_major": 2,
       "version_minor": 0
      },
      "text/plain": [
       "Drawing 10000 posterior samples:   0%|          | 0/10000 [00:00<?, ?it/s]"
      ]
     },
     "metadata": {},
     "output_type": "display_data"
    },
    {
     "data": {
      "application/vnd.jupyter.widget-view+json": {
       "model_id": "ac2bc027ff6b43f7885bbec0b625b3dd",
       "version_major": 2,
       "version_minor": 0
      },
      "text/plain": [
       "Drawing 10000 posterior samples:   0%|          | 0/10000 [00:00<?, ?it/s]"
      ]
     },
     "metadata": {},
     "output_type": "display_data"
    },
    {
     "data": {
      "application/vnd.jupyter.widget-view+json": {
       "model_id": "f53b2a034d5b4e0b8b17818501726266",
       "version_major": 2,
       "version_minor": 0
      },
      "text/plain": [
       "Drawing 10000 posterior samples:   0%|          | 0/10000 [00:00<?, ?it/s]"
      ]
     },
     "metadata": {},
     "output_type": "display_data"
    },
    {
     "data": {
      "application/vnd.jupyter.widget-view+json": {
       "model_id": "203d295a59624f7ca30fbb617317ca23",
       "version_major": 2,
       "version_minor": 0
      },
      "text/plain": [
       "Drawing 10000 posterior samples:   0%|          | 0/10000 [00:00<?, ?it/s]"
      ]
     },
     "metadata": {},
     "output_type": "display_data"
    },
    {
     "data": {
      "application/vnd.jupyter.widget-view+json": {
       "model_id": "178c873626f94e66808c05b117c8cc30",
       "version_major": 2,
       "version_minor": 0
      },
      "text/plain": [
       "Drawing 10000 posterior samples:   0%|          | 0/10000 [00:00<?, ?it/s]"
      ]
     },
     "metadata": {},
     "output_type": "display_data"
    },
    {
     "data": {
      "application/vnd.jupyter.widget-view+json": {
       "model_id": "a7985e2772b641ff87505f4337044e2f",
       "version_major": 2,
       "version_minor": 0
      },
      "text/plain": [
       "Drawing 10000 posterior samples:   0%|          | 0/10000 [00:00<?, ?it/s]"
      ]
     },
     "metadata": {},
     "output_type": "display_data"
    },
    {
     "data": {
      "application/vnd.jupyter.widget-view+json": {
       "model_id": "d91f22ebb90a4da3bbc5c9d9b71b341d",
       "version_major": 2,
       "version_minor": 0
      },
      "text/plain": [
       "Drawing 10000 posterior samples:   0%|          | 0/10000 [00:00<?, ?it/s]"
      ]
     },
     "metadata": {},
     "output_type": "display_data"
    },
    {
     "data": {
      "application/vnd.jupyter.widget-view+json": {
       "model_id": "e597475885774162ad42cfd53a78b1d4",
       "version_major": 2,
       "version_minor": 0
      },
      "text/plain": [
       "Drawing 10000 posterior samples:   0%|          | 0/10000 [00:00<?, ?it/s]"
      ]
     },
     "metadata": {},
     "output_type": "display_data"
    },
    {
     "data": {
      "application/vnd.jupyter.widget-view+json": {
       "model_id": "dd39c58de96d45389a47a5316084dd4a",
       "version_major": 2,
       "version_minor": 0
      },
      "text/plain": [
       "Drawing 10000 posterior samples:   0%|          | 0/10000 [00:00<?, ?it/s]"
      ]
     },
     "metadata": {},
     "output_type": "display_data"
    },
    {
     "data": {
      "application/vnd.jupyter.widget-view+json": {
       "model_id": "0eaa6f96468e418890205a887b4b0a93",
       "version_major": 2,
       "version_minor": 0
      },
      "text/plain": [
       "Drawing 10000 posterior samples:   0%|          | 0/10000 [00:00<?, ?it/s]"
      ]
     },
     "metadata": {},
     "output_type": "display_data"
    },
    {
     "data": {
      "application/vnd.jupyter.widget-view+json": {
       "model_id": "d2d370c9657f41b7bc24d631c17262bf",
       "version_major": 2,
       "version_minor": 0
      },
      "text/plain": [
       "Drawing 10000 posterior samples:   0%|          | 0/10000 [00:00<?, ?it/s]"
      ]
     },
     "metadata": {},
     "output_type": "display_data"
    },
    {
     "data": {
      "application/vnd.jupyter.widget-view+json": {
       "model_id": "25475b48f53a43139871144dc203acaf",
       "version_major": 2,
       "version_minor": 0
      },
      "text/plain": [
       "Drawing 10000 posterior samples:   0%|          | 0/10000 [00:00<?, ?it/s]"
      ]
     },
     "metadata": {},
     "output_type": "display_data"
    },
    {
     "data": {
      "application/vnd.jupyter.widget-view+json": {
       "model_id": "a0cc1563c21045d6bcd5f65cf75b81b5",
       "version_major": 2,
       "version_minor": 0
      },
      "text/plain": [
       "Drawing 10000 posterior samples:   0%|          | 0/10000 [00:00<?, ?it/s]"
      ]
     },
     "metadata": {},
     "output_type": "display_data"
    },
    {
     "data": {
      "application/vnd.jupyter.widget-view+json": {
       "model_id": "4af358f3308841ff825b3515272196aa",
       "version_major": 2,
       "version_minor": 0
      },
      "text/plain": [
       "Drawing 10000 posterior samples:   0%|          | 0/10000 [00:00<?, ?it/s]"
      ]
     },
     "metadata": {},
     "output_type": "display_data"
    },
    {
     "data": {
      "application/vnd.jupyter.widget-view+json": {
       "model_id": "c01e09fffa5341e5ac7323f01badea18",
       "version_major": 2,
       "version_minor": 0
      },
      "text/plain": [
       "Drawing 10000 posterior samples:   0%|          | 0/10000 [00:00<?, ?it/s]"
      ]
     },
     "metadata": {},
     "output_type": "display_data"
    },
    {
     "data": {
      "application/vnd.jupyter.widget-view+json": {
       "model_id": "2fe40423903b4f73ad47b0bd7dbfd1d3",
       "version_major": 2,
       "version_minor": 0
      },
      "text/plain": [
       "Drawing 10000 posterior samples:   0%|          | 0/10000 [00:00<?, ?it/s]"
      ]
     },
     "metadata": {},
     "output_type": "display_data"
    },
    {
     "data": {
      "application/vnd.jupyter.widget-view+json": {
       "model_id": "c7d4ea1e1ce54a51818ce3196f4fc9c3",
       "version_major": 2,
       "version_minor": 0
      },
      "text/plain": [
       "Drawing 10000 posterior samples:   0%|          | 0/10000 [00:00<?, ?it/s]"
      ]
     },
     "metadata": {},
     "output_type": "display_data"
    },
    {
     "data": {
      "application/vnd.jupyter.widget-view+json": {
       "model_id": "1cb7f71eac3f43d2a129f08e93d24fc8",
       "version_major": 2,
       "version_minor": 0
      },
      "text/plain": [
       "Drawing 10000 posterior samples:   0%|          | 0/10000 [00:00<?, ?it/s]"
      ]
     },
     "metadata": {},
     "output_type": "display_data"
    },
    {
     "data": {
      "application/vnd.jupyter.widget-view+json": {
       "model_id": "4e08ee4ba4364e38b5728c31e5f4ea0e",
       "version_major": 2,
       "version_minor": 0
      },
      "text/plain": [
       "Drawing 10000 posterior samples:   0%|          | 0/10000 [00:00<?, ?it/s]"
      ]
     },
     "metadata": {},
     "output_type": "display_data"
    },
    {
     "data": {
      "application/vnd.jupyter.widget-view+json": {
       "model_id": "f24b9f5da8814a1c933347963ea48858",
       "version_major": 2,
       "version_minor": 0
      },
      "text/plain": [
       "Drawing 10000 posterior samples:   0%|          | 0/10000 [00:00<?, ?it/s]"
      ]
     },
     "metadata": {},
     "output_type": "display_data"
    },
    {
     "data": {
      "application/vnd.jupyter.widget-view+json": {
       "model_id": "11726d0b32ea43cb864c5aa2233376ff",
       "version_major": 2,
       "version_minor": 0
      },
      "text/plain": [
       "Drawing 10000 posterior samples:   0%|          | 0/10000 [00:00<?, ?it/s]"
      ]
     },
     "metadata": {},
     "output_type": "display_data"
    },
    {
     "data": {
      "application/vnd.jupyter.widget-view+json": {
       "model_id": "589aa93c0eff4200ad03c7eaddb9e796",
       "version_major": 2,
       "version_minor": 0
      },
      "text/plain": [
       "Drawing 10000 posterior samples:   0%|          | 0/10000 [00:00<?, ?it/s]"
      ]
     },
     "metadata": {},
     "output_type": "display_data"
    },
    {
     "data": {
      "application/vnd.jupyter.widget-view+json": {
       "model_id": "ee646efc2388483ab338bf2d62b87c7d",
       "version_major": 2,
       "version_minor": 0
      },
      "text/plain": [
       "Drawing 10000 posterior samples:   0%|          | 0/10000 [00:00<?, ?it/s]"
      ]
     },
     "metadata": {},
     "output_type": "display_data"
    },
    {
     "data": {
      "application/vnd.jupyter.widget-view+json": {
       "model_id": "80afd49b9be34d6ab5fbb11cddf8d59e",
       "version_major": 2,
       "version_minor": 0
      },
      "text/plain": [
       "Drawing 10000 posterior samples:   0%|          | 0/10000 [00:00<?, ?it/s]"
      ]
     },
     "metadata": {},
     "output_type": "display_data"
    },
    {
     "data": {
      "application/vnd.jupyter.widget-view+json": {
       "model_id": "dce44285bf7e4afa9fd9ccbcbecdb233",
       "version_major": 2,
       "version_minor": 0
      },
      "text/plain": [
       "Drawing 10000 posterior samples:   0%|          | 0/10000 [00:00<?, ?it/s]"
      ]
     },
     "metadata": {},
     "output_type": "display_data"
    },
    {
     "name": "stderr",
     "output_type": "stream",
     "text": [
      "\r",
      " 65%|███████████████████████████████████████████████████████████████                                  | 13/20 [00:19<00:10,  1.51s/it]"
     ]
    },
    {
     "data": {
      "application/vnd.jupyter.widget-view+json": {
       "model_id": "0f09f6fe15ab4223be489fe68426905d",
       "version_major": 2,
       "version_minor": 0
      },
      "text/plain": [
       "Drawing 10000 posterior samples:   0%|          | 0/10000 [00:00<?, ?it/s]"
      ]
     },
     "metadata": {},
     "output_type": "display_data"
    },
    {
     "data": {
      "application/vnd.jupyter.widget-view+json": {
       "model_id": "74165f4f43934ed2841abf2e16dd28bf",
       "version_major": 2,
       "version_minor": 0
      },
      "text/plain": [
       "Drawing 10000 posterior samples:   0%|          | 0/10000 [00:00<?, ?it/s]"
      ]
     },
     "metadata": {},
     "output_type": "display_data"
    },
    {
     "data": {
      "application/vnd.jupyter.widget-view+json": {
       "model_id": "4704fbeede0f41b49f1d9a2d833efa7f",
       "version_major": 2,
       "version_minor": 0
      },
      "text/plain": [
       "Drawing 10000 posterior samples:   0%|          | 0/10000 [00:00<?, ?it/s]"
      ]
     },
     "metadata": {},
     "output_type": "display_data"
    },
    {
     "data": {
      "application/vnd.jupyter.widget-view+json": {
       "model_id": "74c64a2e271747ea893826c6cac817bd",
       "version_major": 2,
       "version_minor": 0
      },
      "text/plain": [
       "Drawing 10000 posterior samples:   0%|          | 0/10000 [00:00<?, ?it/s]"
      ]
     },
     "metadata": {},
     "output_type": "display_data"
    },
    {
     "data": {
      "application/vnd.jupyter.widget-view+json": {
       "model_id": "d9509454eec548118100df4059bc4385",
       "version_major": 2,
       "version_minor": 0
      },
      "text/plain": [
       "Drawing 10000 posterior samples:   0%|          | 0/10000 [00:00<?, ?it/s]"
      ]
     },
     "metadata": {},
     "output_type": "display_data"
    },
    {
     "data": {
      "application/vnd.jupyter.widget-view+json": {
       "model_id": "c08f09ca2ed94348a6a91bd1d4fa9f17",
       "version_major": 2,
       "version_minor": 0
      },
      "text/plain": [
       "Drawing 10000 posterior samples:   0%|          | 0/10000 [00:00<?, ?it/s]"
      ]
     },
     "metadata": {},
     "output_type": "display_data"
    },
    {
     "data": {
      "application/vnd.jupyter.widget-view+json": {
       "model_id": "bce4260cad4646249dc9397da3f4ec7d",
       "version_major": 2,
       "version_minor": 0
      },
      "text/plain": [
       "Drawing 10000 posterior samples:   0%|          | 0/10000 [00:00<?, ?it/s]"
      ]
     },
     "metadata": {},
     "output_type": "display_data"
    },
    {
     "data": {
      "application/vnd.jupyter.widget-view+json": {
       "model_id": "c320168b26414dc7a3003d9cfd069a5a",
       "version_major": 2,
       "version_minor": 0
      },
      "text/plain": [
       "Drawing 10000 posterior samples:   0%|          | 0/10000 [00:00<?, ?it/s]"
      ]
     },
     "metadata": {},
     "output_type": "display_data"
    },
    {
     "data": {
      "application/vnd.jupyter.widget-view+json": {
       "model_id": "e6eb0e4005dc4f4fafab66bb1ceff8fa",
       "version_major": 2,
       "version_minor": 0
      },
      "text/plain": [
       "Drawing 10000 posterior samples:   0%|          | 0/10000 [00:00<?, ?it/s]"
      ]
     },
     "metadata": {},
     "output_type": "display_data"
    },
    {
     "data": {
      "application/vnd.jupyter.widget-view+json": {
       "model_id": "ddf21a9b423241d5a023d7bd86dacdd7",
       "version_major": 2,
       "version_minor": 0
      },
      "text/plain": [
       "Drawing 10000 posterior samples:   0%|          | 0/10000 [00:00<?, ?it/s]"
      ]
     },
     "metadata": {},
     "output_type": "display_data"
    },
    {
     "data": {
      "application/vnd.jupyter.widget-view+json": {
       "model_id": "a9f647080141439183459d5fbb13e608",
       "version_major": 2,
       "version_minor": 0
      },
      "text/plain": [
       "Drawing 10000 posterior samples:   0%|          | 0/10000 [00:00<?, ?it/s]"
      ]
     },
     "metadata": {},
     "output_type": "display_data"
    },
    {
     "data": {
      "application/vnd.jupyter.widget-view+json": {
       "model_id": "66d6c057a0e04c2ca43cefbcbec19ca7",
       "version_major": 2,
       "version_minor": 0
      },
      "text/plain": [
       "Drawing 10000 posterior samples:   0%|          | 0/10000 [00:00<?, ?it/s]"
      ]
     },
     "metadata": {},
     "output_type": "display_data"
    },
    {
     "data": {
      "application/vnd.jupyter.widget-view+json": {
       "model_id": "9a9010f3f55c469bbcbfeba0321de40f",
       "version_major": 2,
       "version_minor": 0
      },
      "text/plain": [
       "Drawing 10000 posterior samples:   0%|          | 0/10000 [00:00<?, ?it/s]"
      ]
     },
     "metadata": {},
     "output_type": "display_data"
    },
    {
     "data": {
      "application/vnd.jupyter.widget-view+json": {
       "model_id": "df9def18f9444308a3789012f2433877",
       "version_major": 2,
       "version_minor": 0
      },
      "text/plain": [
       "Drawing 10000 posterior samples:   0%|          | 0/10000 [00:00<?, ?it/s]"
      ]
     },
     "metadata": {},
     "output_type": "display_data"
    },
    {
     "data": {
      "application/vnd.jupyter.widget-view+json": {
       "model_id": "07a0f01c3a2f489093b75aeac0f04414",
       "version_major": 2,
       "version_minor": 0
      },
      "text/plain": [
       "Drawing 10000 posterior samples:   0%|          | 0/10000 [00:00<?, ?it/s]"
      ]
     },
     "metadata": {},
     "output_type": "display_data"
    },
    {
     "data": {
      "application/vnd.jupyter.widget-view+json": {
       "model_id": "5559bffa30834fda8a270a6c88ad3e25",
       "version_major": 2,
       "version_minor": 0
      },
      "text/plain": [
       "Drawing 10000 posterior samples:   0%|          | 0/10000 [00:00<?, ?it/s]"
      ]
     },
     "metadata": {},
     "output_type": "display_data"
    },
    {
     "data": {
      "application/vnd.jupyter.widget-view+json": {
       "model_id": "b6c5ff4a94d8410ea04cbe24290397aa",
       "version_major": 2,
       "version_minor": 0
      },
      "text/plain": [
       "Drawing 10000 posterior samples:   0%|          | 0/10000 [00:00<?, ?it/s]"
      ]
     },
     "metadata": {},
     "output_type": "display_data"
    },
    {
     "data": {
      "application/vnd.jupyter.widget-view+json": {
       "model_id": "818ad570cd28441f97689d8cd65b620c",
       "version_major": 2,
       "version_minor": 0
      },
      "text/plain": [
       "Drawing 10000 posterior samples:   0%|          | 0/10000 [00:00<?, ?it/s]"
      ]
     },
     "metadata": {},
     "output_type": "display_data"
    },
    {
     "data": {
      "application/vnd.jupyter.widget-view+json": {
       "model_id": "2737c5fdea9b4914a6d74ab9e7d4b713",
       "version_major": 2,
       "version_minor": 0
      },
      "text/plain": [
       "Drawing 10000 posterior samples:   0%|          | 0/10000 [00:00<?, ?it/s]"
      ]
     },
     "metadata": {},
     "output_type": "display_data"
    },
    {
     "data": {
      "application/vnd.jupyter.widget-view+json": {
       "model_id": "2b02406c0f5745739c1c827340a24e2a",
       "version_major": 2,
       "version_minor": 0
      },
      "text/plain": [
       "Drawing 10000 posterior samples:   0%|          | 0/10000 [00:00<?, ?it/s]"
      ]
     },
     "metadata": {},
     "output_type": "display_data"
    },
    {
     "data": {
      "application/vnd.jupyter.widget-view+json": {
       "model_id": "b5a1baa9fd174599ae0cf8b572e65c00",
       "version_major": 2,
       "version_minor": 0
      },
      "text/plain": [
       "Drawing 10000 posterior samples:   0%|          | 0/10000 [00:00<?, ?it/s]"
      ]
     },
     "metadata": {},
     "output_type": "display_data"
    },
    {
     "data": {
      "application/vnd.jupyter.widget-view+json": {
       "model_id": "9a04c05e83a84676a58c60eb53e72411",
       "version_major": 2,
       "version_minor": 0
      },
      "text/plain": [
       "Drawing 10000 posterior samples:   0%|          | 0/10000 [00:00<?, ?it/s]"
      ]
     },
     "metadata": {},
     "output_type": "display_data"
    },
    {
     "data": {
      "application/vnd.jupyter.widget-view+json": {
       "model_id": "3206e86cfc704aff9a17f14131929e0e",
       "version_major": 2,
       "version_minor": 0
      },
      "text/plain": [
       "Drawing 10000 posterior samples:   0%|          | 0/10000 [00:00<?, ?it/s]"
      ]
     },
     "metadata": {},
     "output_type": "display_data"
    },
    {
     "data": {
      "application/vnd.jupyter.widget-view+json": {
       "model_id": "dcb438216dab487c80641c4580a2e172",
       "version_major": 2,
       "version_minor": 0
      },
      "text/plain": [
       "Drawing 10000 posterior samples:   0%|          | 0/10000 [00:00<?, ?it/s]"
      ]
     },
     "metadata": {},
     "output_type": "display_data"
    },
    {
     "data": {
      "application/vnd.jupyter.widget-view+json": {
       "model_id": "ec951d37ea3b4a5d991bdc0cf6caaedb",
       "version_major": 2,
       "version_minor": 0
      },
      "text/plain": [
       "Drawing 10000 posterior samples:   0%|          | 0/10000 [00:00<?, ?it/s]"
      ]
     },
     "metadata": {},
     "output_type": "display_data"
    },
    {
     "data": {
      "application/vnd.jupyter.widget-view+json": {
       "model_id": "9216065671594a9793d0b48223cacc32",
       "version_major": 2,
       "version_minor": 0
      },
      "text/plain": [
       "Drawing 10000 posterior samples:   0%|          | 0/10000 [00:00<?, ?it/s]"
      ]
     },
     "metadata": {},
     "output_type": "display_data"
    },
    {
     "data": {
      "application/vnd.jupyter.widget-view+json": {
       "model_id": "ce96d3887c57477bb8f57f891ce59196",
       "version_major": 2,
       "version_minor": 0
      },
      "text/plain": [
       "Drawing 10000 posterior samples:   0%|          | 0/10000 [00:00<?, ?it/s]"
      ]
     },
     "metadata": {},
     "output_type": "display_data"
    },
    {
     "data": {
      "application/vnd.jupyter.widget-view+json": {
       "model_id": "6a493575a54a41a5930199493153dc8c",
       "version_major": 2,
       "version_minor": 0
      },
      "text/plain": [
       "Drawing 10000 posterior samples:   0%|          | 0/10000 [00:00<?, ?it/s]"
      ]
     },
     "metadata": {},
     "output_type": "display_data"
    },
    {
     "data": {
      "application/vnd.jupyter.widget-view+json": {
       "model_id": "cfe7c3ce572e42be94dd82a42c78e129",
       "version_major": 2,
       "version_minor": 0
      },
      "text/plain": [
       "Drawing 10000 posterior samples:   0%|          | 0/10000 [00:00<?, ?it/s]"
      ]
     },
     "metadata": {},
     "output_type": "display_data"
    },
    {
     "data": {
      "application/vnd.jupyter.widget-view+json": {
       "model_id": "825b759164884bb7b2e53ebe92e228b2",
       "version_major": 2,
       "version_minor": 0
      },
      "text/plain": [
       "Drawing 10000 posterior samples:   0%|          | 0/10000 [00:00<?, ?it/s]"
      ]
     },
     "metadata": {},
     "output_type": "display_data"
    },
    {
     "data": {
      "application/vnd.jupyter.widget-view+json": {
       "model_id": "b578da7b956a4d60a8aead6160484cb0",
       "version_major": 2,
       "version_minor": 0
      },
      "text/plain": [
       "Drawing 10000 posterior samples:   0%|          | 0/10000 [00:00<?, ?it/s]"
      ]
     },
     "metadata": {},
     "output_type": "display_data"
    },
    {
     "data": {
      "application/vnd.jupyter.widget-view+json": {
       "model_id": "281e31d7de7c43df9ecd8c9f2aa1527e",
       "version_major": 2,
       "version_minor": 0
      },
      "text/plain": [
       "Drawing 10000 posterior samples:   0%|          | 0/10000 [00:00<?, ?it/s]"
      ]
     },
     "metadata": {},
     "output_type": "display_data"
    },
    {
     "data": {
      "application/vnd.jupyter.widget-view+json": {
       "model_id": "2ceb98d7ff544901a4b22145d29861bf",
       "version_major": 2,
       "version_minor": 0
      },
      "text/plain": [
       "Drawing 10000 posterior samples:   0%|          | 0/10000 [00:00<?, ?it/s]"
      ]
     },
     "metadata": {},
     "output_type": "display_data"
    },
    {
     "data": {
      "application/vnd.jupyter.widget-view+json": {
       "model_id": "b79530caf9de40b8b54d992c7bc076d1",
       "version_major": 2,
       "version_minor": 0
      },
      "text/plain": [
       "Drawing 10000 posterior samples:   0%|          | 0/10000 [00:00<?, ?it/s]"
      ]
     },
     "metadata": {},
     "output_type": "display_data"
    },
    {
     "data": {
      "application/vnd.jupyter.widget-view+json": {
       "model_id": "1361695dc83e46078c3dc5aa1a64b788",
       "version_major": 2,
       "version_minor": 0
      },
      "text/plain": [
       "Drawing 10000 posterior samples:   0%|          | 0/10000 [00:00<?, ?it/s]"
      ]
     },
     "metadata": {},
     "output_type": "display_data"
    },
    {
     "data": {
      "application/vnd.jupyter.widget-view+json": {
       "model_id": "9f4556a3479e4e26b182a8bac5cd66ca",
       "version_major": 2,
       "version_minor": 0
      },
      "text/plain": [
       "Drawing 10000 posterior samples:   0%|          | 0/10000 [00:00<?, ?it/s]"
      ]
     },
     "metadata": {},
     "output_type": "display_data"
    },
    {
     "name": "stderr",
     "output_type": "stream",
     "text": [
      "\r",
      " 70%|███████████████████████████████████████████████████████████████████▉                             | 14/20 [00:21<00:08,  1.49s/it]"
     ]
    },
    {
     "data": {
      "application/vnd.jupyter.widget-view+json": {
       "model_id": "711098ee6ab9497caf1a607304f58cd1",
       "version_major": 2,
       "version_minor": 0
      },
      "text/plain": [
       "Drawing 10000 posterior samples:   0%|          | 0/10000 [00:00<?, ?it/s]"
      ]
     },
     "metadata": {},
     "output_type": "display_data"
    },
    {
     "data": {
      "application/vnd.jupyter.widget-view+json": {
       "model_id": "ed4c7d714e794bf992344ca5e11803dd",
       "version_major": 2,
       "version_minor": 0
      },
      "text/plain": [
       "Drawing 10000 posterior samples:   0%|          | 0/10000 [00:00<?, ?it/s]"
      ]
     },
     "metadata": {},
     "output_type": "display_data"
    },
    {
     "data": {
      "application/vnd.jupyter.widget-view+json": {
       "model_id": "83563eb2a342437fbe4ff413b44d006d",
       "version_major": 2,
       "version_minor": 0
      },
      "text/plain": [
       "Drawing 10000 posterior samples:   0%|          | 0/10000 [00:00<?, ?it/s]"
      ]
     },
     "metadata": {},
     "output_type": "display_data"
    },
    {
     "data": {
      "application/vnd.jupyter.widget-view+json": {
       "model_id": "3cebebea7c79451aa7e518745c315a3c",
       "version_major": 2,
       "version_minor": 0
      },
      "text/plain": [
       "Drawing 10000 posterior samples:   0%|          | 0/10000 [00:00<?, ?it/s]"
      ]
     },
     "metadata": {},
     "output_type": "display_data"
    },
    {
     "data": {
      "application/vnd.jupyter.widget-view+json": {
       "model_id": "582d16437d554e858c7d67c53d19df65",
       "version_major": 2,
       "version_minor": 0
      },
      "text/plain": [
       "Drawing 10000 posterior samples:   0%|          | 0/10000 [00:00<?, ?it/s]"
      ]
     },
     "metadata": {},
     "output_type": "display_data"
    },
    {
     "data": {
      "application/vnd.jupyter.widget-view+json": {
       "model_id": "d71ac17602d94712b7086812362c7252",
       "version_major": 2,
       "version_minor": 0
      },
      "text/plain": [
       "Drawing 10000 posterior samples:   0%|          | 0/10000 [00:00<?, ?it/s]"
      ]
     },
     "metadata": {},
     "output_type": "display_data"
    },
    {
     "data": {
      "application/vnd.jupyter.widget-view+json": {
       "model_id": "18427191ceda43e4b3c76f2c7f9e9866",
       "version_major": 2,
       "version_minor": 0
      },
      "text/plain": [
       "Drawing 10000 posterior samples:   0%|          | 0/10000 [00:00<?, ?it/s]"
      ]
     },
     "metadata": {},
     "output_type": "display_data"
    },
    {
     "data": {
      "application/vnd.jupyter.widget-view+json": {
       "model_id": "ee91e88d00af45faae148c2d02038b89",
       "version_major": 2,
       "version_minor": 0
      },
      "text/plain": [
       "Drawing 10000 posterior samples:   0%|          | 0/10000 [00:00<?, ?it/s]"
      ]
     },
     "metadata": {},
     "output_type": "display_data"
    },
    {
     "data": {
      "application/vnd.jupyter.widget-view+json": {
       "model_id": "92bd142b0d7f45f996e44456bcc55e1c",
       "version_major": 2,
       "version_minor": 0
      },
      "text/plain": [
       "Drawing 10000 posterior samples:   0%|          | 0/10000 [00:00<?, ?it/s]"
      ]
     },
     "metadata": {},
     "output_type": "display_data"
    },
    {
     "data": {
      "application/vnd.jupyter.widget-view+json": {
       "model_id": "be375aa0145249989aeaa3a79591023e",
       "version_major": 2,
       "version_minor": 0
      },
      "text/plain": [
       "Drawing 10000 posterior samples:   0%|          | 0/10000 [00:00<?, ?it/s]"
      ]
     },
     "metadata": {},
     "output_type": "display_data"
    },
    {
     "data": {
      "application/vnd.jupyter.widget-view+json": {
       "model_id": "c91f29b5a4c940c399d451044632d7ab",
       "version_major": 2,
       "version_minor": 0
      },
      "text/plain": [
       "Drawing 10000 posterior samples:   0%|          | 0/10000 [00:00<?, ?it/s]"
      ]
     },
     "metadata": {},
     "output_type": "display_data"
    },
    {
     "data": {
      "application/vnd.jupyter.widget-view+json": {
       "model_id": "292d0a8368f54638b7174ed9e73edfed",
       "version_major": 2,
       "version_minor": 0
      },
      "text/plain": [
       "Drawing 10000 posterior samples:   0%|          | 0/10000 [00:00<?, ?it/s]"
      ]
     },
     "metadata": {},
     "output_type": "display_data"
    },
    {
     "data": {
      "application/vnd.jupyter.widget-view+json": {
       "model_id": "4fade6dc2c394f3f82f5c2089ccdd92f",
       "version_major": 2,
       "version_minor": 0
      },
      "text/plain": [
       "Drawing 10000 posterior samples:   0%|          | 0/10000 [00:00<?, ?it/s]"
      ]
     },
     "metadata": {},
     "output_type": "display_data"
    },
    {
     "data": {
      "application/vnd.jupyter.widget-view+json": {
       "model_id": "acf5be0cdbd04024af3c8f23797c189b",
       "version_major": 2,
       "version_minor": 0
      },
      "text/plain": [
       "Drawing 10000 posterior samples:   0%|          | 0/10000 [00:00<?, ?it/s]"
      ]
     },
     "metadata": {},
     "output_type": "display_data"
    },
    {
     "data": {
      "application/vnd.jupyter.widget-view+json": {
       "model_id": "40b89457ed1e4d3ba398607a1df92f0b",
       "version_major": 2,
       "version_minor": 0
      },
      "text/plain": [
       "Drawing 10000 posterior samples:   0%|          | 0/10000 [00:00<?, ?it/s]"
      ]
     },
     "metadata": {},
     "output_type": "display_data"
    },
    {
     "data": {
      "application/vnd.jupyter.widget-view+json": {
       "model_id": "16eaea1604404c67bd624557d780cc18",
       "version_major": 2,
       "version_minor": 0
      },
      "text/plain": [
       "Drawing 10000 posterior samples:   0%|          | 0/10000 [00:00<?, ?it/s]"
      ]
     },
     "metadata": {},
     "output_type": "display_data"
    },
    {
     "data": {
      "application/vnd.jupyter.widget-view+json": {
       "model_id": "7ceb9a1d50544a37a9628b65055bf45a",
       "version_major": 2,
       "version_minor": 0
      },
      "text/plain": [
       "Drawing 10000 posterior samples:   0%|          | 0/10000 [00:00<?, ?it/s]"
      ]
     },
     "metadata": {},
     "output_type": "display_data"
    },
    {
     "data": {
      "application/vnd.jupyter.widget-view+json": {
       "model_id": "9cbd051a995a4f2f9acdadc9a62b150f",
       "version_major": 2,
       "version_minor": 0
      },
      "text/plain": [
       "Drawing 10000 posterior samples:   0%|          | 0/10000 [00:00<?, ?it/s]"
      ]
     },
     "metadata": {},
     "output_type": "display_data"
    },
    {
     "data": {
      "application/vnd.jupyter.widget-view+json": {
       "model_id": "00cd18c9ffb44010bdbe236bbc7536b4",
       "version_major": 2,
       "version_minor": 0
      },
      "text/plain": [
       "Drawing 10000 posterior samples:   0%|          | 0/10000 [00:00<?, ?it/s]"
      ]
     },
     "metadata": {},
     "output_type": "display_data"
    },
    {
     "data": {
      "application/vnd.jupyter.widget-view+json": {
       "model_id": "3c445db63b44441d97c7b0a80964d337",
       "version_major": 2,
       "version_minor": 0
      },
      "text/plain": [
       "Drawing 10000 posterior samples:   0%|          | 0/10000 [00:00<?, ?it/s]"
      ]
     },
     "metadata": {},
     "output_type": "display_data"
    },
    {
     "data": {
      "application/vnd.jupyter.widget-view+json": {
       "model_id": "4e0991768f3140f693f681a18bc73732",
       "version_major": 2,
       "version_minor": 0
      },
      "text/plain": [
       "Drawing 10000 posterior samples:   0%|          | 0/10000 [00:00<?, ?it/s]"
      ]
     },
     "metadata": {},
     "output_type": "display_data"
    },
    {
     "data": {
      "application/vnd.jupyter.widget-view+json": {
       "model_id": "dc4ec4f483e14efeb7482cdc9128ce1c",
       "version_major": 2,
       "version_minor": 0
      },
      "text/plain": [
       "Drawing 10000 posterior samples:   0%|          | 0/10000 [00:00<?, ?it/s]"
      ]
     },
     "metadata": {},
     "output_type": "display_data"
    },
    {
     "data": {
      "application/vnd.jupyter.widget-view+json": {
       "model_id": "85032b7e6110439fa44afd7a7ef6493a",
       "version_major": 2,
       "version_minor": 0
      },
      "text/plain": [
       "Drawing 10000 posterior samples:   0%|          | 0/10000 [00:00<?, ?it/s]"
      ]
     },
     "metadata": {},
     "output_type": "display_data"
    },
    {
     "data": {
      "application/vnd.jupyter.widget-view+json": {
       "model_id": "95f09da2385345c68bca39f24bb330c4",
       "version_major": 2,
       "version_minor": 0
      },
      "text/plain": [
       "Drawing 10000 posterior samples:   0%|          | 0/10000 [00:00<?, ?it/s]"
      ]
     },
     "metadata": {},
     "output_type": "display_data"
    },
    {
     "data": {
      "application/vnd.jupyter.widget-view+json": {
       "model_id": "bd0ae07f288f41d099dfd43b39392f2f",
       "version_major": 2,
       "version_minor": 0
      },
      "text/plain": [
       "Drawing 10000 posterior samples:   0%|          | 0/10000 [00:00<?, ?it/s]"
      ]
     },
     "metadata": {},
     "output_type": "display_data"
    },
    {
     "data": {
      "application/vnd.jupyter.widget-view+json": {
       "model_id": "e2ba24c378a44f3a96940f37ec23f63f",
       "version_major": 2,
       "version_minor": 0
      },
      "text/plain": [
       "Drawing 10000 posterior samples:   0%|          | 0/10000 [00:00<?, ?it/s]"
      ]
     },
     "metadata": {},
     "output_type": "display_data"
    },
    {
     "data": {
      "application/vnd.jupyter.widget-view+json": {
       "model_id": "20fe972091d44ca182d77c03425f027e",
       "version_major": 2,
       "version_minor": 0
      },
      "text/plain": [
       "Drawing 10000 posterior samples:   0%|          | 0/10000 [00:00<?, ?it/s]"
      ]
     },
     "metadata": {},
     "output_type": "display_data"
    },
    {
     "data": {
      "application/vnd.jupyter.widget-view+json": {
       "model_id": "864f8172dda84fbeade68643fece4cb3",
       "version_major": 2,
       "version_minor": 0
      },
      "text/plain": [
       "Drawing 10000 posterior samples:   0%|          | 0/10000 [00:00<?, ?it/s]"
      ]
     },
     "metadata": {},
     "output_type": "display_data"
    },
    {
     "data": {
      "application/vnd.jupyter.widget-view+json": {
       "model_id": "62d311aff3ee41339e1a76f6ee1a9afc",
       "version_major": 2,
       "version_minor": 0
      },
      "text/plain": [
       "Drawing 10000 posterior samples:   0%|          | 0/10000 [00:00<?, ?it/s]"
      ]
     },
     "metadata": {},
     "output_type": "display_data"
    },
    {
     "data": {
      "application/vnd.jupyter.widget-view+json": {
       "model_id": "3381ffed20c0497c9e2c6be673d37d81",
       "version_major": 2,
       "version_minor": 0
      },
      "text/plain": [
       "Drawing 10000 posterior samples:   0%|          | 0/10000 [00:00<?, ?it/s]"
      ]
     },
     "metadata": {},
     "output_type": "display_data"
    },
    {
     "data": {
      "application/vnd.jupyter.widget-view+json": {
       "model_id": "4193e9f9403349ff962aa7b0453682a9",
       "version_major": 2,
       "version_minor": 0
      },
      "text/plain": [
       "Drawing 10000 posterior samples:   0%|          | 0/10000 [00:00<?, ?it/s]"
      ]
     },
     "metadata": {},
     "output_type": "display_data"
    },
    {
     "data": {
      "application/vnd.jupyter.widget-view+json": {
       "model_id": "b88a655f10c7467986924153e5cf9cc5",
       "version_major": 2,
       "version_minor": 0
      },
      "text/plain": [
       "Drawing 10000 posterior samples:   0%|          | 0/10000 [00:00<?, ?it/s]"
      ]
     },
     "metadata": {},
     "output_type": "display_data"
    },
    {
     "data": {
      "application/vnd.jupyter.widget-view+json": {
       "model_id": "4554e17cc0694a048f7e7eb2d37ff320",
       "version_major": 2,
       "version_minor": 0
      },
      "text/plain": [
       "Drawing 10000 posterior samples:   0%|          | 0/10000 [00:00<?, ?it/s]"
      ]
     },
     "metadata": {},
     "output_type": "display_data"
    },
    {
     "data": {
      "application/vnd.jupyter.widget-view+json": {
       "model_id": "8dc791c3f3fd40679cfccb9681bfc26f",
       "version_major": 2,
       "version_minor": 0
      },
      "text/plain": [
       "Drawing 10000 posterior samples:   0%|          | 0/10000 [00:00<?, ?it/s]"
      ]
     },
     "metadata": {},
     "output_type": "display_data"
    },
    {
     "data": {
      "application/vnd.jupyter.widget-view+json": {
       "model_id": "4b466ee267dd43dbac23ff086d256301",
       "version_major": 2,
       "version_minor": 0
      },
      "text/plain": [
       "Drawing 10000 posterior samples:   0%|          | 0/10000 [00:00<?, ?it/s]"
      ]
     },
     "metadata": {},
     "output_type": "display_data"
    },
    {
     "data": {
      "application/vnd.jupyter.widget-view+json": {
       "model_id": "d6acaccfedac4b60b650231b3bb3391b",
       "version_major": 2,
       "version_minor": 0
      },
      "text/plain": [
       "Drawing 10000 posterior samples:   0%|          | 0/10000 [00:00<?, ?it/s]"
      ]
     },
     "metadata": {},
     "output_type": "display_data"
    },
    {
     "name": "stderr",
     "output_type": "stream",
     "text": [
      "\r",
      " 75%|████████████████████████████████████████████████████████████████████████▊                        | 15/20 [00:22<00:07,  1.48s/it]"
     ]
    },
    {
     "data": {
      "application/vnd.jupyter.widget-view+json": {
       "model_id": "c4ddaf8e08454953b1d4527b5f29252a",
       "version_major": 2,
       "version_minor": 0
      },
      "text/plain": [
       "Drawing 10000 posterior samples:   0%|          | 0/10000 [00:00<?, ?it/s]"
      ]
     },
     "metadata": {},
     "output_type": "display_data"
    },
    {
     "data": {
      "application/vnd.jupyter.widget-view+json": {
       "model_id": "12aa2cf52be24cd984a4633542dafe48",
       "version_major": 2,
       "version_minor": 0
      },
      "text/plain": [
       "Drawing 10000 posterior samples:   0%|          | 0/10000 [00:00<?, ?it/s]"
      ]
     },
     "metadata": {},
     "output_type": "display_data"
    },
    {
     "data": {
      "application/vnd.jupyter.widget-view+json": {
       "model_id": "335b539cc6f94f6584f5866af3f979f9",
       "version_major": 2,
       "version_minor": 0
      },
      "text/plain": [
       "Drawing 10000 posterior samples:   0%|          | 0/10000 [00:00<?, ?it/s]"
      ]
     },
     "metadata": {},
     "output_type": "display_data"
    },
    {
     "data": {
      "application/vnd.jupyter.widget-view+json": {
       "model_id": "cc3f7d9688fc417980937ae45115eb28",
       "version_major": 2,
       "version_minor": 0
      },
      "text/plain": [
       "Drawing 10000 posterior samples:   0%|          | 0/10000 [00:00<?, ?it/s]"
      ]
     },
     "metadata": {},
     "output_type": "display_data"
    },
    {
     "data": {
      "application/vnd.jupyter.widget-view+json": {
       "model_id": "a2765d20e2ff4fe7b807a3a6918365fe",
       "version_major": 2,
       "version_minor": 0
      },
      "text/plain": [
       "Drawing 10000 posterior samples:   0%|          | 0/10000 [00:00<?, ?it/s]"
      ]
     },
     "metadata": {},
     "output_type": "display_data"
    },
    {
     "data": {
      "application/vnd.jupyter.widget-view+json": {
       "model_id": "fd49bc4e1fea419fb94d0eb0d2922b7c",
       "version_major": 2,
       "version_minor": 0
      },
      "text/plain": [
       "Drawing 10000 posterior samples:   0%|          | 0/10000 [00:00<?, ?it/s]"
      ]
     },
     "metadata": {},
     "output_type": "display_data"
    },
    {
     "data": {
      "application/vnd.jupyter.widget-view+json": {
       "model_id": "6340297ffdb046819e330373b179da9b",
       "version_major": 2,
       "version_minor": 0
      },
      "text/plain": [
       "Drawing 10000 posterior samples:   0%|          | 0/10000 [00:00<?, ?it/s]"
      ]
     },
     "metadata": {},
     "output_type": "display_data"
    },
    {
     "data": {
      "application/vnd.jupyter.widget-view+json": {
       "model_id": "1e8c268fd42e4d4fb4df78887d5b45d8",
       "version_major": 2,
       "version_minor": 0
      },
      "text/plain": [
       "Drawing 10000 posterior samples:   0%|          | 0/10000 [00:00<?, ?it/s]"
      ]
     },
     "metadata": {},
     "output_type": "display_data"
    },
    {
     "data": {
      "application/vnd.jupyter.widget-view+json": {
       "model_id": "95fd82ddebe240e089f1fec65c1e4d78",
       "version_major": 2,
       "version_minor": 0
      },
      "text/plain": [
       "Drawing 10000 posterior samples:   0%|          | 0/10000 [00:00<?, ?it/s]"
      ]
     },
     "metadata": {},
     "output_type": "display_data"
    },
    {
     "data": {
      "application/vnd.jupyter.widget-view+json": {
       "model_id": "41cc382360764b28b87a139fe890f5b7",
       "version_major": 2,
       "version_minor": 0
      },
      "text/plain": [
       "Drawing 10000 posterior samples:   0%|          | 0/10000 [00:00<?, ?it/s]"
      ]
     },
     "metadata": {},
     "output_type": "display_data"
    },
    {
     "data": {
      "application/vnd.jupyter.widget-view+json": {
       "model_id": "cf6bdd095f6b4070b94b25980e74f547",
       "version_major": 2,
       "version_minor": 0
      },
      "text/plain": [
       "Drawing 10000 posterior samples:   0%|          | 0/10000 [00:00<?, ?it/s]"
      ]
     },
     "metadata": {},
     "output_type": "display_data"
    },
    {
     "data": {
      "application/vnd.jupyter.widget-view+json": {
       "model_id": "23ad02d1d8cc48bd957531bf6f9c90f8",
       "version_major": 2,
       "version_minor": 0
      },
      "text/plain": [
       "Drawing 10000 posterior samples:   0%|          | 0/10000 [00:00<?, ?it/s]"
      ]
     },
     "metadata": {},
     "output_type": "display_data"
    },
    {
     "data": {
      "application/vnd.jupyter.widget-view+json": {
       "model_id": "19116de9731541e186b5a96ddcd222d4",
       "version_major": 2,
       "version_minor": 0
      },
      "text/plain": [
       "Drawing 10000 posterior samples:   0%|          | 0/10000 [00:00<?, ?it/s]"
      ]
     },
     "metadata": {},
     "output_type": "display_data"
    },
    {
     "data": {
      "application/vnd.jupyter.widget-view+json": {
       "model_id": "8fd8e35ef861400a832f8449566d65c8",
       "version_major": 2,
       "version_minor": 0
      },
      "text/plain": [
       "Drawing 10000 posterior samples:   0%|          | 0/10000 [00:00<?, ?it/s]"
      ]
     },
     "metadata": {},
     "output_type": "display_data"
    },
    {
     "data": {
      "application/vnd.jupyter.widget-view+json": {
       "model_id": "60deda27a5424958a2286bfa51b44238",
       "version_major": 2,
       "version_minor": 0
      },
      "text/plain": [
       "Drawing 10000 posterior samples:   0%|          | 0/10000 [00:00<?, ?it/s]"
      ]
     },
     "metadata": {},
     "output_type": "display_data"
    },
    {
     "data": {
      "application/vnd.jupyter.widget-view+json": {
       "model_id": "e0179b5e6d824168a3a95c2d6c0c2ec4",
       "version_major": 2,
       "version_minor": 0
      },
      "text/plain": [
       "Drawing 10000 posterior samples:   0%|          | 0/10000 [00:00<?, ?it/s]"
      ]
     },
     "metadata": {},
     "output_type": "display_data"
    },
    {
     "data": {
      "application/vnd.jupyter.widget-view+json": {
       "model_id": "13361f90d12b4ace82d4a7b2977d593f",
       "version_major": 2,
       "version_minor": 0
      },
      "text/plain": [
       "Drawing 10000 posterior samples:   0%|          | 0/10000 [00:00<?, ?it/s]"
      ]
     },
     "metadata": {},
     "output_type": "display_data"
    },
    {
     "data": {
      "application/vnd.jupyter.widget-view+json": {
       "model_id": "d1cad4160d1142278409fe6326b0772e",
       "version_major": 2,
       "version_minor": 0
      },
      "text/plain": [
       "Drawing 10000 posterior samples:   0%|          | 0/10000 [00:00<?, ?it/s]"
      ]
     },
     "metadata": {},
     "output_type": "display_data"
    },
    {
     "data": {
      "application/vnd.jupyter.widget-view+json": {
       "model_id": "5012b6f33ae8456aa04de6b237bc21c8",
       "version_major": 2,
       "version_minor": 0
      },
      "text/plain": [
       "Drawing 10000 posterior samples:   0%|          | 0/10000 [00:00<?, ?it/s]"
      ]
     },
     "metadata": {},
     "output_type": "display_data"
    },
    {
     "data": {
      "application/vnd.jupyter.widget-view+json": {
       "model_id": "da1a10ce70a444f1b4ef37218a5a04e9",
       "version_major": 2,
       "version_minor": 0
      },
      "text/plain": [
       "Drawing 10000 posterior samples:   0%|          | 0/10000 [00:00<?, ?it/s]"
      ]
     },
     "metadata": {},
     "output_type": "display_data"
    },
    {
     "data": {
      "application/vnd.jupyter.widget-view+json": {
       "model_id": "7e733538897348ecae43008801714e44",
       "version_major": 2,
       "version_minor": 0
      },
      "text/plain": [
       "Drawing 10000 posterior samples:   0%|          | 0/10000 [00:00<?, ?it/s]"
      ]
     },
     "metadata": {},
     "output_type": "display_data"
    },
    {
     "data": {
      "application/vnd.jupyter.widget-view+json": {
       "model_id": "31e901fa2f344422870dc3f9632689af",
       "version_major": 2,
       "version_minor": 0
      },
      "text/plain": [
       "Drawing 10000 posterior samples:   0%|          | 0/10000 [00:00<?, ?it/s]"
      ]
     },
     "metadata": {},
     "output_type": "display_data"
    },
    {
     "data": {
      "application/vnd.jupyter.widget-view+json": {
       "model_id": "641ccdbddf134aeeac32d2c17f31923f",
       "version_major": 2,
       "version_minor": 0
      },
      "text/plain": [
       "Drawing 10000 posterior samples:   0%|          | 0/10000 [00:00<?, ?it/s]"
      ]
     },
     "metadata": {},
     "output_type": "display_data"
    },
    {
     "data": {
      "application/vnd.jupyter.widget-view+json": {
       "model_id": "65b6c15e6f144bcd832e704d8f971096",
       "version_major": 2,
       "version_minor": 0
      },
      "text/plain": [
       "Drawing 10000 posterior samples:   0%|          | 0/10000 [00:00<?, ?it/s]"
      ]
     },
     "metadata": {},
     "output_type": "display_data"
    },
    {
     "data": {
      "application/vnd.jupyter.widget-view+json": {
       "model_id": "2714c7c299e04606859d90d56e22e102",
       "version_major": 2,
       "version_minor": 0
      },
      "text/plain": [
       "Drawing 10000 posterior samples:   0%|          | 0/10000 [00:00<?, ?it/s]"
      ]
     },
     "metadata": {},
     "output_type": "display_data"
    },
    {
     "data": {
      "application/vnd.jupyter.widget-view+json": {
       "model_id": "bd35799537ab496289047861c11354e1",
       "version_major": 2,
       "version_minor": 0
      },
      "text/plain": [
       "Drawing 10000 posterior samples:   0%|          | 0/10000 [00:00<?, ?it/s]"
      ]
     },
     "metadata": {},
     "output_type": "display_data"
    },
    {
     "data": {
      "application/vnd.jupyter.widget-view+json": {
       "model_id": "f65273b645f440b3a12190f76133ab6f",
       "version_major": 2,
       "version_minor": 0
      },
      "text/plain": [
       "Drawing 10000 posterior samples:   0%|          | 0/10000 [00:00<?, ?it/s]"
      ]
     },
     "metadata": {},
     "output_type": "display_data"
    },
    {
     "data": {
      "application/vnd.jupyter.widget-view+json": {
       "model_id": "1c4c10bd4ebe490d906785e5600535d9",
       "version_major": 2,
       "version_minor": 0
      },
      "text/plain": [
       "Drawing 10000 posterior samples:   0%|          | 0/10000 [00:00<?, ?it/s]"
      ]
     },
     "metadata": {},
     "output_type": "display_data"
    },
    {
     "data": {
      "application/vnd.jupyter.widget-view+json": {
       "model_id": "394b2bc890a540d3b8f2681cd1830206",
       "version_major": 2,
       "version_minor": 0
      },
      "text/plain": [
       "Drawing 10000 posterior samples:   0%|          | 0/10000 [00:00<?, ?it/s]"
      ]
     },
     "metadata": {},
     "output_type": "display_data"
    },
    {
     "data": {
      "application/vnd.jupyter.widget-view+json": {
       "model_id": "2b1f0209f90d4ec3a9c77d75ab6acc27",
       "version_major": 2,
       "version_minor": 0
      },
      "text/plain": [
       "Drawing 10000 posterior samples:   0%|          | 0/10000 [00:00<?, ?it/s]"
      ]
     },
     "metadata": {},
     "output_type": "display_data"
    },
    {
     "data": {
      "application/vnd.jupyter.widget-view+json": {
       "model_id": "96db6328112d4abbb44dd7156f80629f",
       "version_major": 2,
       "version_minor": 0
      },
      "text/plain": [
       "Drawing 10000 posterior samples:   0%|          | 0/10000 [00:00<?, ?it/s]"
      ]
     },
     "metadata": {},
     "output_type": "display_data"
    },
    {
     "data": {
      "application/vnd.jupyter.widget-view+json": {
       "model_id": "ad0154d1d94340b4b76970411bc6a530",
       "version_major": 2,
       "version_minor": 0
      },
      "text/plain": [
       "Drawing 10000 posterior samples:   0%|          | 0/10000 [00:00<?, ?it/s]"
      ]
     },
     "metadata": {},
     "output_type": "display_data"
    },
    {
     "data": {
      "application/vnd.jupyter.widget-view+json": {
       "model_id": "463ed9da23f44537aa4362f3061f22a9",
       "version_major": 2,
       "version_minor": 0
      },
      "text/plain": [
       "Drawing 10000 posterior samples:   0%|          | 0/10000 [00:00<?, ?it/s]"
      ]
     },
     "metadata": {},
     "output_type": "display_data"
    },
    {
     "data": {
      "application/vnd.jupyter.widget-view+json": {
       "model_id": "dbe39ba529a9417998974e47baac4528",
       "version_major": 2,
       "version_minor": 0
      },
      "text/plain": [
       "Drawing 10000 posterior samples:   0%|          | 0/10000 [00:00<?, ?it/s]"
      ]
     },
     "metadata": {},
     "output_type": "display_data"
    },
    {
     "data": {
      "application/vnd.jupyter.widget-view+json": {
       "model_id": "4bc0c9914c354821b96a6fd7ebbba44f",
       "version_major": 2,
       "version_minor": 0
      },
      "text/plain": [
       "Drawing 10000 posterior samples:   0%|          | 0/10000 [00:00<?, ?it/s]"
      ]
     },
     "metadata": {},
     "output_type": "display_data"
    },
    {
     "data": {
      "application/vnd.jupyter.widget-view+json": {
       "model_id": "2010275edd6d471d9f528d36b69d986c",
       "version_major": 2,
       "version_minor": 0
      },
      "text/plain": [
       "Drawing 10000 posterior samples:   0%|          | 0/10000 [00:00<?, ?it/s]"
      ]
     },
     "metadata": {},
     "output_type": "display_data"
    },
    {
     "name": "stderr",
     "output_type": "stream",
     "text": [
      "\r",
      " 80%|█████████████████████████████████████████████████████████████████████████████▌                   | 16/20 [00:24<00:06,  1.56s/it]"
     ]
    },
    {
     "data": {
      "application/vnd.jupyter.widget-view+json": {
       "model_id": "d3345f24e2b9491db9f90b10d3e59fd8",
       "version_major": 2,
       "version_minor": 0
      },
      "text/plain": [
       "Drawing 10000 posterior samples:   0%|          | 0/10000 [00:00<?, ?it/s]"
      ]
     },
     "metadata": {},
     "output_type": "display_data"
    },
    {
     "data": {
      "application/vnd.jupyter.widget-view+json": {
       "model_id": "f70429e9104746d095de00fa16df2819",
       "version_major": 2,
       "version_minor": 0
      },
      "text/plain": [
       "Drawing 10000 posterior samples:   0%|          | 0/10000 [00:00<?, ?it/s]"
      ]
     },
     "metadata": {},
     "output_type": "display_data"
    },
    {
     "data": {
      "application/vnd.jupyter.widget-view+json": {
       "model_id": "b6258f9efcc64729ab983ed7c0a393ba",
       "version_major": 2,
       "version_minor": 0
      },
      "text/plain": [
       "Drawing 10000 posterior samples:   0%|          | 0/10000 [00:00<?, ?it/s]"
      ]
     },
     "metadata": {},
     "output_type": "display_data"
    },
    {
     "data": {
      "application/vnd.jupyter.widget-view+json": {
       "model_id": "b980f82cdf06450cb016c183deb339ca",
       "version_major": 2,
       "version_minor": 0
      },
      "text/plain": [
       "Drawing 10000 posterior samples:   0%|          | 0/10000 [00:00<?, ?it/s]"
      ]
     },
     "metadata": {},
     "output_type": "display_data"
    },
    {
     "data": {
      "application/vnd.jupyter.widget-view+json": {
       "model_id": "674b7a8b5d6a4809a0120305ee6f1797",
       "version_major": 2,
       "version_minor": 0
      },
      "text/plain": [
       "Drawing 10000 posterior samples:   0%|          | 0/10000 [00:00<?, ?it/s]"
      ]
     },
     "metadata": {},
     "output_type": "display_data"
    },
    {
     "data": {
      "application/vnd.jupyter.widget-view+json": {
       "model_id": "8194539660984a939f496502324aec07",
       "version_major": 2,
       "version_minor": 0
      },
      "text/plain": [
       "Drawing 10000 posterior samples:   0%|          | 0/10000 [00:00<?, ?it/s]"
      ]
     },
     "metadata": {},
     "output_type": "display_data"
    },
    {
     "data": {
      "application/vnd.jupyter.widget-view+json": {
       "model_id": "5801b816cb6e405a8454cdd5e887ac57",
       "version_major": 2,
       "version_minor": 0
      },
      "text/plain": [
       "Drawing 10000 posterior samples:   0%|          | 0/10000 [00:00<?, ?it/s]"
      ]
     },
     "metadata": {},
     "output_type": "display_data"
    },
    {
     "data": {
      "application/vnd.jupyter.widget-view+json": {
       "model_id": "13cd0dd5afd1421993e08485b4cecaeb",
       "version_major": 2,
       "version_minor": 0
      },
      "text/plain": [
       "Drawing 10000 posterior samples:   0%|          | 0/10000 [00:00<?, ?it/s]"
      ]
     },
     "metadata": {},
     "output_type": "display_data"
    },
    {
     "data": {
      "application/vnd.jupyter.widget-view+json": {
       "model_id": "0626d66e82f84b01928a8997aee68252",
       "version_major": 2,
       "version_minor": 0
      },
      "text/plain": [
       "Drawing 10000 posterior samples:   0%|          | 0/10000 [00:00<?, ?it/s]"
      ]
     },
     "metadata": {},
     "output_type": "display_data"
    },
    {
     "data": {
      "application/vnd.jupyter.widget-view+json": {
       "model_id": "69f2268311cf4f2bbcac4d7ffba511d1",
       "version_major": 2,
       "version_minor": 0
      },
      "text/plain": [
       "Drawing 10000 posterior samples:   0%|          | 0/10000 [00:00<?, ?it/s]"
      ]
     },
     "metadata": {},
     "output_type": "display_data"
    },
    {
     "data": {
      "application/vnd.jupyter.widget-view+json": {
       "model_id": "0cae7a6ee5f54ae4b8a7a9d0ef762852",
       "version_major": 2,
       "version_minor": 0
      },
      "text/plain": [
       "Drawing 10000 posterior samples:   0%|          | 0/10000 [00:00<?, ?it/s]"
      ]
     },
     "metadata": {},
     "output_type": "display_data"
    },
    {
     "data": {
      "application/vnd.jupyter.widget-view+json": {
       "model_id": "801aefa936a948439ba36f3f3ce6a795",
       "version_major": 2,
       "version_minor": 0
      },
      "text/plain": [
       "Drawing 10000 posterior samples:   0%|          | 0/10000 [00:00<?, ?it/s]"
      ]
     },
     "metadata": {},
     "output_type": "display_data"
    },
    {
     "data": {
      "application/vnd.jupyter.widget-view+json": {
       "model_id": "d37a4eac3d8b4ae694f849cccc62023a",
       "version_major": 2,
       "version_minor": 0
      },
      "text/plain": [
       "Drawing 10000 posterior samples:   0%|          | 0/10000 [00:00<?, ?it/s]"
      ]
     },
     "metadata": {},
     "output_type": "display_data"
    },
    {
     "data": {
      "application/vnd.jupyter.widget-view+json": {
       "model_id": "f13b504461d74872b019ffe0d0ff2ec4",
       "version_major": 2,
       "version_minor": 0
      },
      "text/plain": [
       "Drawing 10000 posterior samples:   0%|          | 0/10000 [00:00<?, ?it/s]"
      ]
     },
     "metadata": {},
     "output_type": "display_data"
    },
    {
     "data": {
      "application/vnd.jupyter.widget-view+json": {
       "model_id": "04d0955f033440a1b70ada7db17a645f",
       "version_major": 2,
       "version_minor": 0
      },
      "text/plain": [
       "Drawing 10000 posterior samples:   0%|          | 0/10000 [00:00<?, ?it/s]"
      ]
     },
     "metadata": {},
     "output_type": "display_data"
    },
    {
     "data": {
      "application/vnd.jupyter.widget-view+json": {
       "model_id": "5db0e3e5852f44f4b71be9c444dafaa2",
       "version_major": 2,
       "version_minor": 0
      },
      "text/plain": [
       "Drawing 10000 posterior samples:   0%|          | 0/10000 [00:00<?, ?it/s]"
      ]
     },
     "metadata": {},
     "output_type": "display_data"
    },
    {
     "data": {
      "application/vnd.jupyter.widget-view+json": {
       "model_id": "9e7976ec8c244524a97ce60197c4e091",
       "version_major": 2,
       "version_minor": 0
      },
      "text/plain": [
       "Drawing 10000 posterior samples:   0%|          | 0/10000 [00:00<?, ?it/s]"
      ]
     },
     "metadata": {},
     "output_type": "display_data"
    },
    {
     "data": {
      "application/vnd.jupyter.widget-view+json": {
       "model_id": "f1a4e1c7392f415db63ff077533f43b9",
       "version_major": 2,
       "version_minor": 0
      },
      "text/plain": [
       "Drawing 10000 posterior samples:   0%|          | 0/10000 [00:00<?, ?it/s]"
      ]
     },
     "metadata": {},
     "output_type": "display_data"
    },
    {
     "data": {
      "application/vnd.jupyter.widget-view+json": {
       "model_id": "2b358339ae70498690f8310a6db2e17e",
       "version_major": 2,
       "version_minor": 0
      },
      "text/plain": [
       "Drawing 10000 posterior samples:   0%|          | 0/10000 [00:00<?, ?it/s]"
      ]
     },
     "metadata": {},
     "output_type": "display_data"
    },
    {
     "data": {
      "application/vnd.jupyter.widget-view+json": {
       "model_id": "39227ef399c14a108061e8b575e63c14",
       "version_major": 2,
       "version_minor": 0
      },
      "text/plain": [
       "Drawing 10000 posterior samples:   0%|          | 0/10000 [00:00<?, ?it/s]"
      ]
     },
     "metadata": {},
     "output_type": "display_data"
    },
    {
     "data": {
      "application/vnd.jupyter.widget-view+json": {
       "model_id": "b77cc861a0a64433a9dde8ac8d9dbebc",
       "version_major": 2,
       "version_minor": 0
      },
      "text/plain": [
       "Drawing 10000 posterior samples:   0%|          | 0/10000 [00:00<?, ?it/s]"
      ]
     },
     "metadata": {},
     "output_type": "display_data"
    },
    {
     "data": {
      "application/vnd.jupyter.widget-view+json": {
       "model_id": "0182a813c15245f7a9418f9e10d72602",
       "version_major": 2,
       "version_minor": 0
      },
      "text/plain": [
       "Drawing 10000 posterior samples:   0%|          | 0/10000 [00:00<?, ?it/s]"
      ]
     },
     "metadata": {},
     "output_type": "display_data"
    },
    {
     "data": {
      "application/vnd.jupyter.widget-view+json": {
       "model_id": "8e60b1674ca44d0bb500949873167355",
       "version_major": 2,
       "version_minor": 0
      },
      "text/plain": [
       "Drawing 10000 posterior samples:   0%|          | 0/10000 [00:00<?, ?it/s]"
      ]
     },
     "metadata": {},
     "output_type": "display_data"
    },
    {
     "data": {
      "application/vnd.jupyter.widget-view+json": {
       "model_id": "e7add40636494b58b53d60fdb1d50e44",
       "version_major": 2,
       "version_minor": 0
      },
      "text/plain": [
       "Drawing 10000 posterior samples:   0%|          | 0/10000 [00:00<?, ?it/s]"
      ]
     },
     "metadata": {},
     "output_type": "display_data"
    },
    {
     "data": {
      "application/vnd.jupyter.widget-view+json": {
       "model_id": "2db0ba2cf15449e4ba3caf899f33247d",
       "version_major": 2,
       "version_minor": 0
      },
      "text/plain": [
       "Drawing 10000 posterior samples:   0%|          | 0/10000 [00:00<?, ?it/s]"
      ]
     },
     "metadata": {},
     "output_type": "display_data"
    },
    {
     "data": {
      "application/vnd.jupyter.widget-view+json": {
       "model_id": "8294d27d04d34a5dbddf43e461c747b7",
       "version_major": 2,
       "version_minor": 0
      },
      "text/plain": [
       "Drawing 10000 posterior samples:   0%|          | 0/10000 [00:00<?, ?it/s]"
      ]
     },
     "metadata": {},
     "output_type": "display_data"
    },
    {
     "data": {
      "application/vnd.jupyter.widget-view+json": {
       "model_id": "ccf091c2c08a49c4bae89c1ccfc2f1cd",
       "version_major": 2,
       "version_minor": 0
      },
      "text/plain": [
       "Drawing 10000 posterior samples:   0%|          | 0/10000 [00:00<?, ?it/s]"
      ]
     },
     "metadata": {},
     "output_type": "display_data"
    },
    {
     "data": {
      "application/vnd.jupyter.widget-view+json": {
       "model_id": "c2613d5cb8834c0e859eccd9e041ae95",
       "version_major": 2,
       "version_minor": 0
      },
      "text/plain": [
       "Drawing 10000 posterior samples:   0%|          | 0/10000 [00:00<?, ?it/s]"
      ]
     },
     "metadata": {},
     "output_type": "display_data"
    },
    {
     "data": {
      "application/vnd.jupyter.widget-view+json": {
       "model_id": "04d20b29f610497b81e90adfc14c7d7f",
       "version_major": 2,
       "version_minor": 0
      },
      "text/plain": [
       "Drawing 10000 posterior samples:   0%|          | 0/10000 [00:00<?, ?it/s]"
      ]
     },
     "metadata": {},
     "output_type": "display_data"
    },
    {
     "data": {
      "application/vnd.jupyter.widget-view+json": {
       "model_id": "3e9c10699d274453a2a2896cde6f8add",
       "version_major": 2,
       "version_minor": 0
      },
      "text/plain": [
       "Drawing 10000 posterior samples:   0%|          | 0/10000 [00:00<?, ?it/s]"
      ]
     },
     "metadata": {},
     "output_type": "display_data"
    },
    {
     "data": {
      "application/vnd.jupyter.widget-view+json": {
       "model_id": "02fe0cba810e4e3e9099a6b0ac799174",
       "version_major": 2,
       "version_minor": 0
      },
      "text/plain": [
       "Drawing 10000 posterior samples:   0%|          | 0/10000 [00:00<?, ?it/s]"
      ]
     },
     "metadata": {},
     "output_type": "display_data"
    },
    {
     "data": {
      "application/vnd.jupyter.widget-view+json": {
       "model_id": "1e072f27d46b4392aa6b437b86d361ca",
       "version_major": 2,
       "version_minor": 0
      },
      "text/plain": [
       "Drawing 10000 posterior samples:   0%|          | 0/10000 [00:00<?, ?it/s]"
      ]
     },
     "metadata": {},
     "output_type": "display_data"
    },
    {
     "data": {
      "application/vnd.jupyter.widget-view+json": {
       "model_id": "d059b0b8c40046288e0730469db892f6",
       "version_major": 2,
       "version_minor": 0
      },
      "text/plain": [
       "Drawing 10000 posterior samples:   0%|          | 0/10000 [00:00<?, ?it/s]"
      ]
     },
     "metadata": {},
     "output_type": "display_data"
    },
    {
     "data": {
      "application/vnd.jupyter.widget-view+json": {
       "model_id": "74c87425aab44c0298760aa312b9520b",
       "version_major": 2,
       "version_minor": 0
      },
      "text/plain": [
       "Drawing 10000 posterior samples:   0%|          | 0/10000 [00:00<?, ?it/s]"
      ]
     },
     "metadata": {},
     "output_type": "display_data"
    },
    {
     "data": {
      "application/vnd.jupyter.widget-view+json": {
       "model_id": "f3b2230d01304159b4a0b3afe8d71488",
       "version_major": 2,
       "version_minor": 0
      },
      "text/plain": [
       "Drawing 10000 posterior samples:   0%|          | 0/10000 [00:00<?, ?it/s]"
      ]
     },
     "metadata": {},
     "output_type": "display_data"
    },
    {
     "data": {
      "application/vnd.jupyter.widget-view+json": {
       "model_id": "7835abd7eea5475f89d439e8302feca5",
       "version_major": 2,
       "version_minor": 0
      },
      "text/plain": [
       "Drawing 10000 posterior samples:   0%|          | 0/10000 [00:00<?, ?it/s]"
      ]
     },
     "metadata": {},
     "output_type": "display_data"
    },
    {
     "name": "stderr",
     "output_type": "stream",
     "text": [
      "\r",
      " 85%|██████████████████████████████████████████████████████████████████████████████████▍              | 17/20 [00:25<00:04,  1.55s/it]"
     ]
    },
    {
     "data": {
      "application/vnd.jupyter.widget-view+json": {
       "model_id": "6bfa4d6754024905b171c9bbbceb3886",
       "version_major": 2,
       "version_minor": 0
      },
      "text/plain": [
       "Drawing 10000 posterior samples:   0%|          | 0/10000 [00:00<?, ?it/s]"
      ]
     },
     "metadata": {},
     "output_type": "display_data"
    },
    {
     "data": {
      "application/vnd.jupyter.widget-view+json": {
       "model_id": "1ee7967869d742bd82978a1aff3e4aa8",
       "version_major": 2,
       "version_minor": 0
      },
      "text/plain": [
       "Drawing 10000 posterior samples:   0%|          | 0/10000 [00:00<?, ?it/s]"
      ]
     },
     "metadata": {},
     "output_type": "display_data"
    },
    {
     "data": {
      "application/vnd.jupyter.widget-view+json": {
       "model_id": "dcb374eac9eb4fdaac207d1ad13b8547",
       "version_major": 2,
       "version_minor": 0
      },
      "text/plain": [
       "Drawing 10000 posterior samples:   0%|          | 0/10000 [00:00<?, ?it/s]"
      ]
     },
     "metadata": {},
     "output_type": "display_data"
    },
    {
     "data": {
      "application/vnd.jupyter.widget-view+json": {
       "model_id": "78d8d1f07f1f4529a1b3487668c4e8b3",
       "version_major": 2,
       "version_minor": 0
      },
      "text/plain": [
       "Drawing 10000 posterior samples:   0%|          | 0/10000 [00:00<?, ?it/s]"
      ]
     },
     "metadata": {},
     "output_type": "display_data"
    },
    {
     "data": {
      "application/vnd.jupyter.widget-view+json": {
       "model_id": "e5e481b643a14be6b1222c96e0eeaafe",
       "version_major": 2,
       "version_minor": 0
      },
      "text/plain": [
       "Drawing 10000 posterior samples:   0%|          | 0/10000 [00:00<?, ?it/s]"
      ]
     },
     "metadata": {},
     "output_type": "display_data"
    },
    {
     "data": {
      "application/vnd.jupyter.widget-view+json": {
       "model_id": "b7bac3d219154db39891704647f90b2c",
       "version_major": 2,
       "version_minor": 0
      },
      "text/plain": [
       "Drawing 10000 posterior samples:   0%|          | 0/10000 [00:00<?, ?it/s]"
      ]
     },
     "metadata": {},
     "output_type": "display_data"
    },
    {
     "data": {
      "application/vnd.jupyter.widget-view+json": {
       "model_id": "df42edc360164cc38b6daf7eafbc96d7",
       "version_major": 2,
       "version_minor": 0
      },
      "text/plain": [
       "Drawing 10000 posterior samples:   0%|          | 0/10000 [00:00<?, ?it/s]"
      ]
     },
     "metadata": {},
     "output_type": "display_data"
    },
    {
     "data": {
      "application/vnd.jupyter.widget-view+json": {
       "model_id": "f0f55a1e291f488dbe6cae004c535636",
       "version_major": 2,
       "version_minor": 0
      },
      "text/plain": [
       "Drawing 10000 posterior samples:   0%|          | 0/10000 [00:00<?, ?it/s]"
      ]
     },
     "metadata": {},
     "output_type": "display_data"
    },
    {
     "data": {
      "application/vnd.jupyter.widget-view+json": {
       "model_id": "6e91b82eae1a4294a728b4a13e22f5a1",
       "version_major": 2,
       "version_minor": 0
      },
      "text/plain": [
       "Drawing 10000 posterior samples:   0%|          | 0/10000 [00:00<?, ?it/s]"
      ]
     },
     "metadata": {},
     "output_type": "display_data"
    },
    {
     "data": {
      "application/vnd.jupyter.widget-view+json": {
       "model_id": "f02dfc37b6144f5682991ecf0913c7a9",
       "version_major": 2,
       "version_minor": 0
      },
      "text/plain": [
       "Drawing 10000 posterior samples:   0%|          | 0/10000 [00:00<?, ?it/s]"
      ]
     },
     "metadata": {},
     "output_type": "display_data"
    },
    {
     "data": {
      "application/vnd.jupyter.widget-view+json": {
       "model_id": "d38acc8cfaef497daf714e4819e078d6",
       "version_major": 2,
       "version_minor": 0
      },
      "text/plain": [
       "Drawing 10000 posterior samples:   0%|          | 0/10000 [00:00<?, ?it/s]"
      ]
     },
     "metadata": {},
     "output_type": "display_data"
    },
    {
     "data": {
      "application/vnd.jupyter.widget-view+json": {
       "model_id": "99f96e903e5b493fac7aed84faa21858",
       "version_major": 2,
       "version_minor": 0
      },
      "text/plain": [
       "Drawing 10000 posterior samples:   0%|          | 0/10000 [00:00<?, ?it/s]"
      ]
     },
     "metadata": {},
     "output_type": "display_data"
    },
    {
     "data": {
      "application/vnd.jupyter.widget-view+json": {
       "model_id": "be2b2bff4cf24dcf8b369d0e541d063f",
       "version_major": 2,
       "version_minor": 0
      },
      "text/plain": [
       "Drawing 10000 posterior samples:   0%|          | 0/10000 [00:00<?, ?it/s]"
      ]
     },
     "metadata": {},
     "output_type": "display_data"
    },
    {
     "data": {
      "application/vnd.jupyter.widget-view+json": {
       "model_id": "868acfe7fcd04da380e29879aff3b5c9",
       "version_major": 2,
       "version_minor": 0
      },
      "text/plain": [
       "Drawing 10000 posterior samples:   0%|          | 0/10000 [00:00<?, ?it/s]"
      ]
     },
     "metadata": {},
     "output_type": "display_data"
    },
    {
     "data": {
      "application/vnd.jupyter.widget-view+json": {
       "model_id": "6d51d75f40ef40b585b158f4f26d13ad",
       "version_major": 2,
       "version_minor": 0
      },
      "text/plain": [
       "Drawing 10000 posterior samples:   0%|          | 0/10000 [00:00<?, ?it/s]"
      ]
     },
     "metadata": {},
     "output_type": "display_data"
    },
    {
     "data": {
      "application/vnd.jupyter.widget-view+json": {
       "model_id": "8adf3e63d1c04ffe9b6fb9a131394af8",
       "version_major": 2,
       "version_minor": 0
      },
      "text/plain": [
       "Drawing 10000 posterior samples:   0%|          | 0/10000 [00:00<?, ?it/s]"
      ]
     },
     "metadata": {},
     "output_type": "display_data"
    },
    {
     "data": {
      "application/vnd.jupyter.widget-view+json": {
       "model_id": "faf82f960587462180f19796b30444aa",
       "version_major": 2,
       "version_minor": 0
      },
      "text/plain": [
       "Drawing 10000 posterior samples:   0%|          | 0/10000 [00:00<?, ?it/s]"
      ]
     },
     "metadata": {},
     "output_type": "display_data"
    },
    {
     "data": {
      "application/vnd.jupyter.widget-view+json": {
       "model_id": "0dc35d785b3f4a9fbde51efa6e33233b",
       "version_major": 2,
       "version_minor": 0
      },
      "text/plain": [
       "Drawing 10000 posterior samples:   0%|          | 0/10000 [00:00<?, ?it/s]"
      ]
     },
     "metadata": {},
     "output_type": "display_data"
    },
    {
     "data": {
      "application/vnd.jupyter.widget-view+json": {
       "model_id": "b9b979bd03954c449e101db16bffcd46",
       "version_major": 2,
       "version_minor": 0
      },
      "text/plain": [
       "Drawing 10000 posterior samples:   0%|          | 0/10000 [00:00<?, ?it/s]"
      ]
     },
     "metadata": {},
     "output_type": "display_data"
    },
    {
     "data": {
      "application/vnd.jupyter.widget-view+json": {
       "model_id": "c14e654d157d46bebd2b634cb7562ed6",
       "version_major": 2,
       "version_minor": 0
      },
      "text/plain": [
       "Drawing 10000 posterior samples:   0%|          | 0/10000 [00:00<?, ?it/s]"
      ]
     },
     "metadata": {},
     "output_type": "display_data"
    },
    {
     "data": {
      "application/vnd.jupyter.widget-view+json": {
       "model_id": "463bb0f145d8471797f7482d6685ea7b",
       "version_major": 2,
       "version_minor": 0
      },
      "text/plain": [
       "Drawing 10000 posterior samples:   0%|          | 0/10000 [00:00<?, ?it/s]"
      ]
     },
     "metadata": {},
     "output_type": "display_data"
    },
    {
     "data": {
      "application/vnd.jupyter.widget-view+json": {
       "model_id": "23ef1c73eeef444db324736b2b157723",
       "version_major": 2,
       "version_minor": 0
      },
      "text/plain": [
       "Drawing 10000 posterior samples:   0%|          | 0/10000 [00:00<?, ?it/s]"
      ]
     },
     "metadata": {},
     "output_type": "display_data"
    },
    {
     "data": {
      "application/vnd.jupyter.widget-view+json": {
       "model_id": "94de13ed18e14d17bf0f4d4968247454",
       "version_major": 2,
       "version_minor": 0
      },
      "text/plain": [
       "Drawing 10000 posterior samples:   0%|          | 0/10000 [00:00<?, ?it/s]"
      ]
     },
     "metadata": {},
     "output_type": "display_data"
    },
    {
     "data": {
      "application/vnd.jupyter.widget-view+json": {
       "model_id": "3524af150cd74eb49253cd9736840557",
       "version_major": 2,
       "version_minor": 0
      },
      "text/plain": [
       "Drawing 10000 posterior samples:   0%|          | 0/10000 [00:00<?, ?it/s]"
      ]
     },
     "metadata": {},
     "output_type": "display_data"
    },
    {
     "data": {
      "application/vnd.jupyter.widget-view+json": {
       "model_id": "2679a0e44548445183975adebeeb25cb",
       "version_major": 2,
       "version_minor": 0
      },
      "text/plain": [
       "Drawing 10000 posterior samples:   0%|          | 0/10000 [00:00<?, ?it/s]"
      ]
     },
     "metadata": {},
     "output_type": "display_data"
    },
    {
     "data": {
      "application/vnd.jupyter.widget-view+json": {
       "model_id": "4a75e9316bf047d1a8b87d5577793117",
       "version_major": 2,
       "version_minor": 0
      },
      "text/plain": [
       "Drawing 10000 posterior samples:   0%|          | 0/10000 [00:00<?, ?it/s]"
      ]
     },
     "metadata": {},
     "output_type": "display_data"
    },
    {
     "data": {
      "application/vnd.jupyter.widget-view+json": {
       "model_id": "5bf7cae467e14f02902fb028e86109b1",
       "version_major": 2,
       "version_minor": 0
      },
      "text/plain": [
       "Drawing 10000 posterior samples:   0%|          | 0/10000 [00:00<?, ?it/s]"
      ]
     },
     "metadata": {},
     "output_type": "display_data"
    },
    {
     "data": {
      "application/vnd.jupyter.widget-view+json": {
       "model_id": "be441423e3db47848a4661fea579e898",
       "version_major": 2,
       "version_minor": 0
      },
      "text/plain": [
       "Drawing 10000 posterior samples:   0%|          | 0/10000 [00:00<?, ?it/s]"
      ]
     },
     "metadata": {},
     "output_type": "display_data"
    },
    {
     "data": {
      "application/vnd.jupyter.widget-view+json": {
       "model_id": "05eec51a5d234b12a8b8de665272e6eb",
       "version_major": 2,
       "version_minor": 0
      },
      "text/plain": [
       "Drawing 10000 posterior samples:   0%|          | 0/10000 [00:00<?, ?it/s]"
      ]
     },
     "metadata": {},
     "output_type": "display_data"
    },
    {
     "data": {
      "application/vnd.jupyter.widget-view+json": {
       "model_id": "da9f7f9c4c3e4d5ba105212140e55180",
       "version_major": 2,
       "version_minor": 0
      },
      "text/plain": [
       "Drawing 10000 posterior samples:   0%|          | 0/10000 [00:00<?, ?it/s]"
      ]
     },
     "metadata": {},
     "output_type": "display_data"
    },
    {
     "data": {
      "application/vnd.jupyter.widget-view+json": {
       "model_id": "0055ad92f5804ae7953b4a8919ccfd7d",
       "version_major": 2,
       "version_minor": 0
      },
      "text/plain": [
       "Drawing 10000 posterior samples:   0%|          | 0/10000 [00:00<?, ?it/s]"
      ]
     },
     "metadata": {},
     "output_type": "display_data"
    },
    {
     "data": {
      "application/vnd.jupyter.widget-view+json": {
       "model_id": "a2cd77b5699b498487e96ab318d464af",
       "version_major": 2,
       "version_minor": 0
      },
      "text/plain": [
       "Drawing 10000 posterior samples:   0%|          | 0/10000 [00:00<?, ?it/s]"
      ]
     },
     "metadata": {},
     "output_type": "display_data"
    },
    {
     "data": {
      "application/vnd.jupyter.widget-view+json": {
       "model_id": "c921328e4cd449a889684a0803549525",
       "version_major": 2,
       "version_minor": 0
      },
      "text/plain": [
       "Drawing 10000 posterior samples:   0%|          | 0/10000 [00:00<?, ?it/s]"
      ]
     },
     "metadata": {},
     "output_type": "display_data"
    },
    {
     "data": {
      "application/vnd.jupyter.widget-view+json": {
       "model_id": "ac700e789c084144958e18a1106ecc0f",
       "version_major": 2,
       "version_minor": 0
      },
      "text/plain": [
       "Drawing 10000 posterior samples:   0%|          | 0/10000 [00:00<?, ?it/s]"
      ]
     },
     "metadata": {},
     "output_type": "display_data"
    },
    {
     "data": {
      "application/vnd.jupyter.widget-view+json": {
       "model_id": "e56e48e5b0a940b8b40053cad15cc9a5",
       "version_major": 2,
       "version_minor": 0
      },
      "text/plain": [
       "Drawing 10000 posterior samples:   0%|          | 0/10000 [00:00<?, ?it/s]"
      ]
     },
     "metadata": {},
     "output_type": "display_data"
    },
    {
     "data": {
      "application/vnd.jupyter.widget-view+json": {
       "model_id": "d42e013fb8c2463ea34ffdb015a6ab5b",
       "version_major": 2,
       "version_minor": 0
      },
      "text/plain": [
       "Drawing 10000 posterior samples:   0%|          | 0/10000 [00:00<?, ?it/s]"
      ]
     },
     "metadata": {},
     "output_type": "display_data"
    },
    {
     "name": "stderr",
     "output_type": "stream",
     "text": [
      "\r",
      " 90%|███████████████████████████████████████████████████████████████████████████████████████▎         | 18/20 [00:27<00:03,  1.50s/it]"
     ]
    },
    {
     "data": {
      "application/vnd.jupyter.widget-view+json": {
       "model_id": "6fcd81d9d7e44c02bed9d5ac447e2532",
       "version_major": 2,
       "version_minor": 0
      },
      "text/plain": [
       "Drawing 10000 posterior samples:   0%|          | 0/10000 [00:00<?, ?it/s]"
      ]
     },
     "metadata": {},
     "output_type": "display_data"
    },
    {
     "data": {
      "application/vnd.jupyter.widget-view+json": {
       "model_id": "c2ca442267cb45d2bb6c6524b84267d9",
       "version_major": 2,
       "version_minor": 0
      },
      "text/plain": [
       "Drawing 10000 posterior samples:   0%|          | 0/10000 [00:00<?, ?it/s]"
      ]
     },
     "metadata": {},
     "output_type": "display_data"
    },
    {
     "data": {
      "application/vnd.jupyter.widget-view+json": {
       "model_id": "2b552a3c96614d55b6edb163ffc28397",
       "version_major": 2,
       "version_minor": 0
      },
      "text/plain": [
       "Drawing 10000 posterior samples:   0%|          | 0/10000 [00:00<?, ?it/s]"
      ]
     },
     "metadata": {},
     "output_type": "display_data"
    },
    {
     "data": {
      "application/vnd.jupyter.widget-view+json": {
       "model_id": "b794359435914d3585cd0b2380787877",
       "version_major": 2,
       "version_minor": 0
      },
      "text/plain": [
       "Drawing 10000 posterior samples:   0%|          | 0/10000 [00:00<?, ?it/s]"
      ]
     },
     "metadata": {},
     "output_type": "display_data"
    },
    {
     "data": {
      "application/vnd.jupyter.widget-view+json": {
       "model_id": "e791a9cf82f04d1eaff4faa6a0019630",
       "version_major": 2,
       "version_minor": 0
      },
      "text/plain": [
       "Drawing 10000 posterior samples:   0%|          | 0/10000 [00:00<?, ?it/s]"
      ]
     },
     "metadata": {},
     "output_type": "display_data"
    },
    {
     "data": {
      "application/vnd.jupyter.widget-view+json": {
       "model_id": "dd7cd39c9b3a486ba04a1ab78033a482",
       "version_major": 2,
       "version_minor": 0
      },
      "text/plain": [
       "Drawing 10000 posterior samples:   0%|          | 0/10000 [00:00<?, ?it/s]"
      ]
     },
     "metadata": {},
     "output_type": "display_data"
    },
    {
     "data": {
      "application/vnd.jupyter.widget-view+json": {
       "model_id": "1ef76092bcd34952930699f9e4d49847",
       "version_major": 2,
       "version_minor": 0
      },
      "text/plain": [
       "Drawing 10000 posterior samples:   0%|          | 0/10000 [00:00<?, ?it/s]"
      ]
     },
     "metadata": {},
     "output_type": "display_data"
    },
    {
     "data": {
      "application/vnd.jupyter.widget-view+json": {
       "model_id": "fb0842e7ee97411aa958151a9e8094e9",
       "version_major": 2,
       "version_minor": 0
      },
      "text/plain": [
       "Drawing 10000 posterior samples:   0%|          | 0/10000 [00:00<?, ?it/s]"
      ]
     },
     "metadata": {},
     "output_type": "display_data"
    },
    {
     "data": {
      "application/vnd.jupyter.widget-view+json": {
       "model_id": "885030c5167d4ef1ace26e6cb20eb4fa",
       "version_major": 2,
       "version_minor": 0
      },
      "text/plain": [
       "Drawing 10000 posterior samples:   0%|          | 0/10000 [00:00<?, ?it/s]"
      ]
     },
     "metadata": {},
     "output_type": "display_data"
    },
    {
     "data": {
      "application/vnd.jupyter.widget-view+json": {
       "model_id": "8479fb2f440b48b29e4317253e9247d4",
       "version_major": 2,
       "version_minor": 0
      },
      "text/plain": [
       "Drawing 10000 posterior samples:   0%|          | 0/10000 [00:00<?, ?it/s]"
      ]
     },
     "metadata": {},
     "output_type": "display_data"
    },
    {
     "data": {
      "application/vnd.jupyter.widget-view+json": {
       "model_id": "7ba472b40f5c4ac7a909f6624696aa90",
       "version_major": 2,
       "version_minor": 0
      },
      "text/plain": [
       "Drawing 10000 posterior samples:   0%|          | 0/10000 [00:00<?, ?it/s]"
      ]
     },
     "metadata": {},
     "output_type": "display_data"
    },
    {
     "data": {
      "application/vnd.jupyter.widget-view+json": {
       "model_id": "397ff68195794da7aa21bb47e4add723",
       "version_major": 2,
       "version_minor": 0
      },
      "text/plain": [
       "Drawing 10000 posterior samples:   0%|          | 0/10000 [00:00<?, ?it/s]"
      ]
     },
     "metadata": {},
     "output_type": "display_data"
    },
    {
     "data": {
      "application/vnd.jupyter.widget-view+json": {
       "model_id": "9e8fea4ae8384aefa2ba68f5d55b3e01",
       "version_major": 2,
       "version_minor": 0
      },
      "text/plain": [
       "Drawing 10000 posterior samples:   0%|          | 0/10000 [00:00<?, ?it/s]"
      ]
     },
     "metadata": {},
     "output_type": "display_data"
    },
    {
     "data": {
      "application/vnd.jupyter.widget-view+json": {
       "model_id": "db7db0c9f42d4e93bd4ce142ac008e26",
       "version_major": 2,
       "version_minor": 0
      },
      "text/plain": [
       "Drawing 10000 posterior samples:   0%|          | 0/10000 [00:00<?, ?it/s]"
      ]
     },
     "metadata": {},
     "output_type": "display_data"
    },
    {
     "data": {
      "application/vnd.jupyter.widget-view+json": {
       "model_id": "863ec407c92d49d89d5150ce97b98f7b",
       "version_major": 2,
       "version_minor": 0
      },
      "text/plain": [
       "Drawing 10000 posterior samples:   0%|          | 0/10000 [00:00<?, ?it/s]"
      ]
     },
     "metadata": {},
     "output_type": "display_data"
    },
    {
     "data": {
      "application/vnd.jupyter.widget-view+json": {
       "model_id": "14404dd9340b46ad8c0e8e2904b9e44f",
       "version_major": 2,
       "version_minor": 0
      },
      "text/plain": [
       "Drawing 10000 posterior samples:   0%|          | 0/10000 [00:00<?, ?it/s]"
      ]
     },
     "metadata": {},
     "output_type": "display_data"
    },
    {
     "data": {
      "application/vnd.jupyter.widget-view+json": {
       "model_id": "c3e1f54f29954e6c80f70ea6a0d54a8e",
       "version_major": 2,
       "version_minor": 0
      },
      "text/plain": [
       "Drawing 10000 posterior samples:   0%|          | 0/10000 [00:00<?, ?it/s]"
      ]
     },
     "metadata": {},
     "output_type": "display_data"
    },
    {
     "data": {
      "application/vnd.jupyter.widget-view+json": {
       "model_id": "681900cbb3e340d3b17ac731d2bb0dfc",
       "version_major": 2,
       "version_minor": 0
      },
      "text/plain": [
       "Drawing 10000 posterior samples:   0%|          | 0/10000 [00:00<?, ?it/s]"
      ]
     },
     "metadata": {},
     "output_type": "display_data"
    },
    {
     "data": {
      "application/vnd.jupyter.widget-view+json": {
       "model_id": "2bbeb1cd5af84697b81e09d49b1424ff",
       "version_major": 2,
       "version_minor": 0
      },
      "text/plain": [
       "Drawing 10000 posterior samples:   0%|          | 0/10000 [00:00<?, ?it/s]"
      ]
     },
     "metadata": {},
     "output_type": "display_data"
    },
    {
     "data": {
      "application/vnd.jupyter.widget-view+json": {
       "model_id": "54735f9aa2944c76974cf35ef58fd7c4",
       "version_major": 2,
       "version_minor": 0
      },
      "text/plain": [
       "Drawing 10000 posterior samples:   0%|          | 0/10000 [00:00<?, ?it/s]"
      ]
     },
     "metadata": {},
     "output_type": "display_data"
    },
    {
     "data": {
      "application/vnd.jupyter.widget-view+json": {
       "model_id": "7959ce01496249339ed52d3166155cee",
       "version_major": 2,
       "version_minor": 0
      },
      "text/plain": [
       "Drawing 10000 posterior samples:   0%|          | 0/10000 [00:00<?, ?it/s]"
      ]
     },
     "metadata": {},
     "output_type": "display_data"
    },
    {
     "data": {
      "application/vnd.jupyter.widget-view+json": {
       "model_id": "b4cfb52aabc74b359cb62faeb429ef1d",
       "version_major": 2,
       "version_minor": 0
      },
      "text/plain": [
       "Drawing 10000 posterior samples:   0%|          | 0/10000 [00:00<?, ?it/s]"
      ]
     },
     "metadata": {},
     "output_type": "display_data"
    },
    {
     "data": {
      "application/vnd.jupyter.widget-view+json": {
       "model_id": "1048fa1438ea4173b0a658e8649fb76f",
       "version_major": 2,
       "version_minor": 0
      },
      "text/plain": [
       "Drawing 10000 posterior samples:   0%|          | 0/10000 [00:00<?, ?it/s]"
      ]
     },
     "metadata": {},
     "output_type": "display_data"
    },
    {
     "data": {
      "application/vnd.jupyter.widget-view+json": {
       "model_id": "967e78b02ffa4459a965c00235f0d90a",
       "version_major": 2,
       "version_minor": 0
      },
      "text/plain": [
       "Drawing 10000 posterior samples:   0%|          | 0/10000 [00:00<?, ?it/s]"
      ]
     },
     "metadata": {},
     "output_type": "display_data"
    },
    {
     "data": {
      "application/vnd.jupyter.widget-view+json": {
       "model_id": "96bf5e0bc829429bb5cfcfc8cc9e7eba",
       "version_major": 2,
       "version_minor": 0
      },
      "text/plain": [
       "Drawing 10000 posterior samples:   0%|          | 0/10000 [00:00<?, ?it/s]"
      ]
     },
     "metadata": {},
     "output_type": "display_data"
    },
    {
     "data": {
      "application/vnd.jupyter.widget-view+json": {
       "model_id": "f542100845194dddb74e86a90280c07f",
       "version_major": 2,
       "version_minor": 0
      },
      "text/plain": [
       "Drawing 10000 posterior samples:   0%|          | 0/10000 [00:00<?, ?it/s]"
      ]
     },
     "metadata": {},
     "output_type": "display_data"
    },
    {
     "data": {
      "application/vnd.jupyter.widget-view+json": {
       "model_id": "e9e10fa86c6c43df8798f9238abc1dac",
       "version_major": 2,
       "version_minor": 0
      },
      "text/plain": [
       "Drawing 10000 posterior samples:   0%|          | 0/10000 [00:00<?, ?it/s]"
      ]
     },
     "metadata": {},
     "output_type": "display_data"
    },
    {
     "data": {
      "application/vnd.jupyter.widget-view+json": {
       "model_id": "b9f6d246189f451ca733f2d4e98e723f",
       "version_major": 2,
       "version_minor": 0
      },
      "text/plain": [
       "Drawing 10000 posterior samples:   0%|          | 0/10000 [00:00<?, ?it/s]"
      ]
     },
     "metadata": {},
     "output_type": "display_data"
    },
    {
     "data": {
      "application/vnd.jupyter.widget-view+json": {
       "model_id": "c61ed918e1274718a0de8feef04a240f",
       "version_major": 2,
       "version_minor": 0
      },
      "text/plain": [
       "Drawing 10000 posterior samples:   0%|          | 0/10000 [00:00<?, ?it/s]"
      ]
     },
     "metadata": {},
     "output_type": "display_data"
    },
    {
     "data": {
      "application/vnd.jupyter.widget-view+json": {
       "model_id": "5ed16350dc3b49a8aa7cdaf2460b30fe",
       "version_major": 2,
       "version_minor": 0
      },
      "text/plain": [
       "Drawing 10000 posterior samples:   0%|          | 0/10000 [00:00<?, ?it/s]"
      ]
     },
     "metadata": {},
     "output_type": "display_data"
    },
    {
     "data": {
      "application/vnd.jupyter.widget-view+json": {
       "model_id": "275e83e13c574f5cac466f0f972aaeaf",
       "version_major": 2,
       "version_minor": 0
      },
      "text/plain": [
       "Drawing 10000 posterior samples:   0%|          | 0/10000 [00:00<?, ?it/s]"
      ]
     },
     "metadata": {},
     "output_type": "display_data"
    },
    {
     "data": {
      "application/vnd.jupyter.widget-view+json": {
       "model_id": "d64af587ba0c46d7991dab2d6ed3cd8a",
       "version_major": 2,
       "version_minor": 0
      },
      "text/plain": [
       "Drawing 10000 posterior samples:   0%|          | 0/10000 [00:00<?, ?it/s]"
      ]
     },
     "metadata": {},
     "output_type": "display_data"
    },
    {
     "data": {
      "application/vnd.jupyter.widget-view+json": {
       "model_id": "424a3937be23493a88769bece1dced25",
       "version_major": 2,
       "version_minor": 0
      },
      "text/plain": [
       "Drawing 10000 posterior samples:   0%|          | 0/10000 [00:00<?, ?it/s]"
      ]
     },
     "metadata": {},
     "output_type": "display_data"
    },
    {
     "data": {
      "application/vnd.jupyter.widget-view+json": {
       "model_id": "fcbfc49c0c7b450192589a10578395bb",
       "version_major": 2,
       "version_minor": 0
      },
      "text/plain": [
       "Drawing 10000 posterior samples:   0%|          | 0/10000 [00:00<?, ?it/s]"
      ]
     },
     "metadata": {},
     "output_type": "display_data"
    },
    {
     "data": {
      "application/vnd.jupyter.widget-view+json": {
       "model_id": "3015b4c17399441c87eac7ca4d13f2bb",
       "version_major": 2,
       "version_minor": 0
      },
      "text/plain": [
       "Drawing 10000 posterior samples:   0%|          | 0/10000 [00:00<?, ?it/s]"
      ]
     },
     "metadata": {},
     "output_type": "display_data"
    },
    {
     "data": {
      "application/vnd.jupyter.widget-view+json": {
       "model_id": "1dd6fee55af946d59cbe170702a3162f",
       "version_major": 2,
       "version_minor": 0
      },
      "text/plain": [
       "Drawing 10000 posterior samples:   0%|          | 0/10000 [00:00<?, ?it/s]"
      ]
     },
     "metadata": {},
     "output_type": "display_data"
    },
    {
     "name": "stderr",
     "output_type": "stream",
     "text": [
      "\r",
      " 95%|████████████████████████████████████████████████████████████████████████████████████████████▏    | 19/20 [00:28<00:01,  1.48s/it]"
     ]
    },
    {
     "data": {
      "application/vnd.jupyter.widget-view+json": {
       "model_id": "6bcab95e5243459eaf9e4317c95eefe1",
       "version_major": 2,
       "version_minor": 0
      },
      "text/plain": [
       "Drawing 10000 posterior samples:   0%|          | 0/10000 [00:00<?, ?it/s]"
      ]
     },
     "metadata": {},
     "output_type": "display_data"
    },
    {
     "data": {
      "application/vnd.jupyter.widget-view+json": {
       "model_id": "ec53002ded6047aeb65c30aa06e90bf5",
       "version_major": 2,
       "version_minor": 0
      },
      "text/plain": [
       "Drawing 10000 posterior samples:   0%|          | 0/10000 [00:00<?, ?it/s]"
      ]
     },
     "metadata": {},
     "output_type": "display_data"
    },
    {
     "data": {
      "application/vnd.jupyter.widget-view+json": {
       "model_id": "c49b33a29943423c90956983fcdb3ffa",
       "version_major": 2,
       "version_minor": 0
      },
      "text/plain": [
       "Drawing 10000 posterior samples:   0%|          | 0/10000 [00:00<?, ?it/s]"
      ]
     },
     "metadata": {},
     "output_type": "display_data"
    },
    {
     "data": {
      "application/vnd.jupyter.widget-view+json": {
       "model_id": "c282a266cd88430e82c3965161b938de",
       "version_major": 2,
       "version_minor": 0
      },
      "text/plain": [
       "Drawing 10000 posterior samples:   0%|          | 0/10000 [00:00<?, ?it/s]"
      ]
     },
     "metadata": {},
     "output_type": "display_data"
    },
    {
     "data": {
      "application/vnd.jupyter.widget-view+json": {
       "model_id": "0244abfd216b4827b1a389660081c5c0",
       "version_major": 2,
       "version_minor": 0
      },
      "text/plain": [
       "Drawing 10000 posterior samples:   0%|          | 0/10000 [00:00<?, ?it/s]"
      ]
     },
     "metadata": {},
     "output_type": "display_data"
    },
    {
     "data": {
      "application/vnd.jupyter.widget-view+json": {
       "model_id": "dbaec888e67e4a1d928bc8d604aa9e0c",
       "version_major": 2,
       "version_minor": 0
      },
      "text/plain": [
       "Drawing 10000 posterior samples:   0%|          | 0/10000 [00:00<?, ?it/s]"
      ]
     },
     "metadata": {},
     "output_type": "display_data"
    },
    {
     "data": {
      "application/vnd.jupyter.widget-view+json": {
       "model_id": "92858042105e4f5daa8593b9705dbbfe",
       "version_major": 2,
       "version_minor": 0
      },
      "text/plain": [
       "Drawing 10000 posterior samples:   0%|          | 0/10000 [00:00<?, ?it/s]"
      ]
     },
     "metadata": {},
     "output_type": "display_data"
    },
    {
     "data": {
      "application/vnd.jupyter.widget-view+json": {
       "model_id": "2773499666b146399cf6a15d85a383a9",
       "version_major": 2,
       "version_minor": 0
      },
      "text/plain": [
       "Drawing 10000 posterior samples:   0%|          | 0/10000 [00:00<?, ?it/s]"
      ]
     },
     "metadata": {},
     "output_type": "display_data"
    },
    {
     "data": {
      "application/vnd.jupyter.widget-view+json": {
       "model_id": "45ed0b6c231e46b6892edf893149d932",
       "version_major": 2,
       "version_minor": 0
      },
      "text/plain": [
       "Drawing 10000 posterior samples:   0%|          | 0/10000 [00:00<?, ?it/s]"
      ]
     },
     "metadata": {},
     "output_type": "display_data"
    },
    {
     "data": {
      "application/vnd.jupyter.widget-view+json": {
       "model_id": "36aa747aa2224935bfc9d44c711d2d76",
       "version_major": 2,
       "version_minor": 0
      },
      "text/plain": [
       "Drawing 10000 posterior samples:   0%|          | 0/10000 [00:00<?, ?it/s]"
      ]
     },
     "metadata": {},
     "output_type": "display_data"
    },
    {
     "data": {
      "application/vnd.jupyter.widget-view+json": {
       "model_id": "dff4e2f132d3446e91b2f41e70d41436",
       "version_major": 2,
       "version_minor": 0
      },
      "text/plain": [
       "Drawing 10000 posterior samples:   0%|          | 0/10000 [00:00<?, ?it/s]"
      ]
     },
     "metadata": {},
     "output_type": "display_data"
    },
    {
     "data": {
      "application/vnd.jupyter.widget-view+json": {
       "model_id": "1ef9cfac7b6e4b0dab65a1b65de25e94",
       "version_major": 2,
       "version_minor": 0
      },
      "text/plain": [
       "Drawing 10000 posterior samples:   0%|          | 0/10000 [00:00<?, ?it/s]"
      ]
     },
     "metadata": {},
     "output_type": "display_data"
    },
    {
     "data": {
      "application/vnd.jupyter.widget-view+json": {
       "model_id": "3f3f66b23c034b529a14574c8bd805be",
       "version_major": 2,
       "version_minor": 0
      },
      "text/plain": [
       "Drawing 10000 posterior samples:   0%|          | 0/10000 [00:00<?, ?it/s]"
      ]
     },
     "metadata": {},
     "output_type": "display_data"
    },
    {
     "data": {
      "application/vnd.jupyter.widget-view+json": {
       "model_id": "2917013c1eb84abc9bb1d98d1c2efef3",
       "version_major": 2,
       "version_minor": 0
      },
      "text/plain": [
       "Drawing 10000 posterior samples:   0%|          | 0/10000 [00:00<?, ?it/s]"
      ]
     },
     "metadata": {},
     "output_type": "display_data"
    },
    {
     "data": {
      "application/vnd.jupyter.widget-view+json": {
       "model_id": "7462923916bf4dabbdad76f7ba26e3e1",
       "version_major": 2,
       "version_minor": 0
      },
      "text/plain": [
       "Drawing 10000 posterior samples:   0%|          | 0/10000 [00:00<?, ?it/s]"
      ]
     },
     "metadata": {},
     "output_type": "display_data"
    },
    {
     "data": {
      "application/vnd.jupyter.widget-view+json": {
       "model_id": "24e18d754116467e9b833be8d8ff739e",
       "version_major": 2,
       "version_minor": 0
      },
      "text/plain": [
       "Drawing 10000 posterior samples:   0%|          | 0/10000 [00:00<?, ?it/s]"
      ]
     },
     "metadata": {},
     "output_type": "display_data"
    },
    {
     "data": {
      "application/vnd.jupyter.widget-view+json": {
       "model_id": "1f5e0145fd564e528c19131712192389",
       "version_major": 2,
       "version_minor": 0
      },
      "text/plain": [
       "Drawing 10000 posterior samples:   0%|          | 0/10000 [00:00<?, ?it/s]"
      ]
     },
     "metadata": {},
     "output_type": "display_data"
    },
    {
     "data": {
      "application/vnd.jupyter.widget-view+json": {
       "model_id": "fcd5e3642d824df8830d424b5d896111",
       "version_major": 2,
       "version_minor": 0
      },
      "text/plain": [
       "Drawing 10000 posterior samples:   0%|          | 0/10000 [00:00<?, ?it/s]"
      ]
     },
     "metadata": {},
     "output_type": "display_data"
    },
    {
     "data": {
      "application/vnd.jupyter.widget-view+json": {
       "model_id": "5810d05e664140de9d7e3c1365d20ee5",
       "version_major": 2,
       "version_minor": 0
      },
      "text/plain": [
       "Drawing 10000 posterior samples:   0%|          | 0/10000 [00:00<?, ?it/s]"
      ]
     },
     "metadata": {},
     "output_type": "display_data"
    },
    {
     "data": {
      "application/vnd.jupyter.widget-view+json": {
       "model_id": "0eae260aa26b45759376360d5ec1d9a7",
       "version_major": 2,
       "version_minor": 0
      },
      "text/plain": [
       "Drawing 10000 posterior samples:   0%|          | 0/10000 [00:00<?, ?it/s]"
      ]
     },
     "metadata": {},
     "output_type": "display_data"
    },
    {
     "data": {
      "application/vnd.jupyter.widget-view+json": {
       "model_id": "4f96fd9190be4110929fc5d6fe3e629b",
       "version_major": 2,
       "version_minor": 0
      },
      "text/plain": [
       "Drawing 10000 posterior samples:   0%|          | 0/10000 [00:00<?, ?it/s]"
      ]
     },
     "metadata": {},
     "output_type": "display_data"
    },
    {
     "data": {
      "application/vnd.jupyter.widget-view+json": {
       "model_id": "0a5d901985b347d8b5efe5079d4b22ab",
       "version_major": 2,
       "version_minor": 0
      },
      "text/plain": [
       "Drawing 10000 posterior samples:   0%|          | 0/10000 [00:00<?, ?it/s]"
      ]
     },
     "metadata": {},
     "output_type": "display_data"
    },
    {
     "data": {
      "application/vnd.jupyter.widget-view+json": {
       "model_id": "6b995fd90d1d44cf991638ea7df01698",
       "version_major": 2,
       "version_minor": 0
      },
      "text/plain": [
       "Drawing 10000 posterior samples:   0%|          | 0/10000 [00:00<?, ?it/s]"
      ]
     },
     "metadata": {},
     "output_type": "display_data"
    },
    {
     "data": {
      "application/vnd.jupyter.widget-view+json": {
       "model_id": "9724b5317f054bef86b938b87dce527a",
       "version_major": 2,
       "version_minor": 0
      },
      "text/plain": [
       "Drawing 10000 posterior samples:   0%|          | 0/10000 [00:00<?, ?it/s]"
      ]
     },
     "metadata": {},
     "output_type": "display_data"
    },
    {
     "data": {
      "application/vnd.jupyter.widget-view+json": {
       "model_id": "cce89a7daca7451cb6bb05f547e80d50",
       "version_major": 2,
       "version_minor": 0
      },
      "text/plain": [
       "Drawing 10000 posterior samples:   0%|          | 0/10000 [00:00<?, ?it/s]"
      ]
     },
     "metadata": {},
     "output_type": "display_data"
    },
    {
     "data": {
      "application/vnd.jupyter.widget-view+json": {
       "model_id": "b44894bdf31c4bfabb05b41f774955cd",
       "version_major": 2,
       "version_minor": 0
      },
      "text/plain": [
       "Drawing 10000 posterior samples:   0%|          | 0/10000 [00:00<?, ?it/s]"
      ]
     },
     "metadata": {},
     "output_type": "display_data"
    },
    {
     "data": {
      "application/vnd.jupyter.widget-view+json": {
       "model_id": "ffcb7eb8e42f45f580ab6b225d48a5b4",
       "version_major": 2,
       "version_minor": 0
      },
      "text/plain": [
       "Drawing 10000 posterior samples:   0%|          | 0/10000 [00:00<?, ?it/s]"
      ]
     },
     "metadata": {},
     "output_type": "display_data"
    },
    {
     "data": {
      "application/vnd.jupyter.widget-view+json": {
       "model_id": "50fd0455c95048c093c371ee124bda6f",
       "version_major": 2,
       "version_minor": 0
      },
      "text/plain": [
       "Drawing 10000 posterior samples:   0%|          | 0/10000 [00:00<?, ?it/s]"
      ]
     },
     "metadata": {},
     "output_type": "display_data"
    },
    {
     "data": {
      "application/vnd.jupyter.widget-view+json": {
       "model_id": "15c68d1ac32b425cbdf847dbd23c261d",
       "version_major": 2,
       "version_minor": 0
      },
      "text/plain": [
       "Drawing 10000 posterior samples:   0%|          | 0/10000 [00:00<?, ?it/s]"
      ]
     },
     "metadata": {},
     "output_type": "display_data"
    },
    {
     "data": {
      "application/vnd.jupyter.widget-view+json": {
       "model_id": "2b371255128147fe95d24660ff312675",
       "version_major": 2,
       "version_minor": 0
      },
      "text/plain": [
       "Drawing 10000 posterior samples:   0%|          | 0/10000 [00:00<?, ?it/s]"
      ]
     },
     "metadata": {},
     "output_type": "display_data"
    },
    {
     "data": {
      "application/vnd.jupyter.widget-view+json": {
       "model_id": "aa91958114724766821c4fa7b7b33d55",
       "version_major": 2,
       "version_minor": 0
      },
      "text/plain": [
       "Drawing 10000 posterior samples:   0%|          | 0/10000 [00:00<?, ?it/s]"
      ]
     },
     "metadata": {},
     "output_type": "display_data"
    },
    {
     "data": {
      "application/vnd.jupyter.widget-view+json": {
       "model_id": "59356693212b476c83e938553c1a443d",
       "version_major": 2,
       "version_minor": 0
      },
      "text/plain": [
       "Drawing 10000 posterior samples:   0%|          | 0/10000 [00:00<?, ?it/s]"
      ]
     },
     "metadata": {},
     "output_type": "display_data"
    },
    {
     "data": {
      "application/vnd.jupyter.widget-view+json": {
       "model_id": "2bfcf30285f2423eb9311c6a8d3d2b9f",
       "version_major": 2,
       "version_minor": 0
      },
      "text/plain": [
       "Drawing 10000 posterior samples:   0%|          | 0/10000 [00:00<?, ?it/s]"
      ]
     },
     "metadata": {},
     "output_type": "display_data"
    },
    {
     "data": {
      "application/vnd.jupyter.widget-view+json": {
       "model_id": "cf265319ba6e42de925d630bfed353f2",
       "version_major": 2,
       "version_minor": 0
      },
      "text/plain": [
       "Drawing 10000 posterior samples:   0%|          | 0/10000 [00:00<?, ?it/s]"
      ]
     },
     "metadata": {},
     "output_type": "display_data"
    },
    {
     "data": {
      "application/vnd.jupyter.widget-view+json": {
       "model_id": "8c73668a6c5b48c98290b195a88d7718",
       "version_major": 2,
       "version_minor": 0
      },
      "text/plain": [
       "Drawing 10000 posterior samples:   0%|          | 0/10000 [00:00<?, ?it/s]"
      ]
     },
     "metadata": {},
     "output_type": "display_data"
    },
    {
     "data": {
      "application/vnd.jupyter.widget-view+json": {
       "model_id": "b544746ee5614fb8887e34e755813dae",
       "version_major": 2,
       "version_minor": 0
      },
      "text/plain": [
       "Drawing 10000 posterior samples:   0%|          | 0/10000 [00:00<?, ?it/s]"
      ]
     },
     "metadata": {},
     "output_type": "display_data"
    },
    {
     "name": "stderr",
     "output_type": "stream",
     "text": [
      "100%|█████████████████████████████████████████████████████████████████████████████████████████████████| 20/20 [00:30<00:00,  1.50s/it]\n"
     ]
    }
   ],
   "source": [
    "for ixfil in tqdm(sortedFils[:]):\n",
    "    with open(ixfil, \"rb\") as f:\n",
    "        curRes = pickle.load(f)\n",
    "        \n",
    "    ix = tmpSortFn(ixfil)\n",
    "    #if ix != 12:\n",
    "    #    continue \n",
    "    postSpss = []\n",
    "    for iy in range(ind_psd.shape[-1]):\n",
    "        curC = ind_conn[:, :, iy]\n",
    "        curBrain = Brain.Brain()\n",
    "        curBrain.add_connectome(data_dir) # grabs distance matrix\n",
    "        # re-ordering for DK atlas and normalizing the connectomes:\n",
    "        curBrain.reorder_connectome(curBrain.connectome, curBrain.distance_matrix)\n",
    "        curBrain.connectome = curC# re-assign connectome to individual connectome\n",
    "        curBrain.bi_symmetric_c()\n",
    "        curBrain.reduce_extreme_dir()\n",
    "        \n",
    "        sp, _ = MEGPSD2SF(curBrain.reducedConnectome, ind_psd[:, :, iy], freqs, band=\"alpha\")\n",
    "        sp = sp.sum(axis=1)\n",
    "        stdSp = stdFn(sp)\n",
    "        stdPsd = stdPSDFn(mag2db(ind_psd[:, :, iy])).flatten()\n",
    "        #stdPsd = stdPSDFn(mag2db(ind_psd[:, :, iy])).mean(axis=0)\n",
    "        curX = torch.Tensor(np.concatenate([stdPsd, stdSp]))\n",
    "        postSps = curRes.posterior.sample((10000, ), x=curX, max_sampling_batch_size=100000)\n",
    "        postSpss.append(postSps)\n",
    "        \n",
    "    \n",
    "    curRes.postSpss = postSpss\n",
    "    with open(ixfil, \"wb\") as f:\n",
    "        pickle.dump(curRes, f)"
   ]
  },
  {
   "cell_type": "markdown",
   "id": "71601040",
   "metadata": {},
   "source": [
    "#### Point estimates of the parameters"
   ]
  },
  {
   "cell_type": "code",
   "execution_count": 31,
   "id": "cee268b9",
   "metadata": {},
   "outputs": [
    {
     "name": "stderr",
     "output_type": "stream",
     "text": [
      "100%|█████████████████████████████████████████████████████████████████████████████████████████████████| 20/20 [00:02<00:00,  8.85it/s]\n"
     ]
    }
   ],
   "source": [
    "estParass = []\n",
    "for ixfil in tqdm(sortedFils[:]):\n",
    "    with open(ixfil, \"rb\") as f:\n",
    "        curRes = pickle.load(f)\n",
    "    estParass.append(np.array([np.median(postSps.numpy(), axis=0) for postSps in curRes.postSpss]))"
   ]
  },
  {
   "cell_type": "code",
   "execution_count": 32,
   "id": "3841e8d1",
   "metadata": {},
   "outputs": [
    {
     "data": {
      "image/png": "[encoded data removed]",
      "text/plain": [
       "<Figure size 1440x1512 with 7 Axes>"
      ]
     },
     "metadata": {
      "needs_background": "light"
     },
     "output_type": "display_data"
    }
   ],
   "source": [
    "plotLimits = np.array([par_low, par_high]).T\n",
    "labels=['taue','taui','tauG','speed','alpha','gii','gei']\n",
    "estParass = np.array(estParass)\n",
    "plt.figure(figsize=[20, 21])\n",
    "for ix in range(7):\n",
    "    plt.subplot(7, 1, ix+1)\n",
    "    plt.violinplot(estParass[:, :, ix])\n",
    "    plt.ylim(plotLimits[ix, :])\n",
    "    plt.title(labels[ix])"
   ]
  },
  {
   "cell_type": "code",
   "execution_count": 33,
   "id": "6b39a8f9",
   "metadata": {},
   "outputs": [
    {
     "data": {
      "image/png": "[encoded data removed]",
      "text/plain": [
       "<Figure size 576x576 with 49 Axes>"
      ]
     },
     "metadata": {
      "needs_background": "light"
     },
     "output_type": "display_data"
    }
   ],
   "source": [
    "# taue, taui, tauC, speed, alpha, gii, gei\n",
    "_ = analysis.pairplot(curRes.postSpss[0], limits=plotLimits, labels=['taue','taui','tauG','speed','alpha','gii','gei'], figsize=(8,8))"
   ]
  },
  {
   "cell_type": "markdown",
   "id": "b71633d4",
   "metadata": {},
   "source": [
    "#### Spectral and spatial features estimation"
   ]
  },
  {
   "cell_type": "code",
   "execution_count": 21,
   "id": "c61de396",
   "metadata": {},
   "outputs": [
    {
     "name": "stderr",
     "output_type": "stream",
     "text": [
      "100%|█████████████████████████████████████████████████████████████████████████████████████████████████| 36/36 [00:00<00:00, 45.58it/s]\n"
     ]
    }
   ],
   "source": [
    "# the estimated spatial feature from MEG\n",
    "MEGSPs = []\n",
    "MEGSPRaws = []\n",
    "for ix in trange(36):\n",
    "    curC = ind_conn[:, :, ix]\n",
    "    curBrain = Brain.Brain()\n",
    "    curBrain.add_connectome(data_dir) # grabs distance matrix\n",
    "    # re-ordering for DK atlas and normalizing the connectomes:\n",
    "    curBrain.reorder_connectome(curBrain.connectome, curBrain.distance_matrix)\n",
    "    curBrain.connectome = curC# re-assign connectome to individual connectome\n",
    "    curBrain.bi_symmetric_c()\n",
    "    curBrain.reduce_extreme_dir()\n",
    "    \n",
    "    curMEGSP, curMEGSPRaw = meg_psd2spatialfeature(curBrain.reducedConnectome, ind_psd[:, :, ix], freqs)\n",
    "    MEGSPs.append(curMEGSP)\n",
    "    MEGSPRaws.append(curMEGSPRaw.sum(axis=1))"
   ]
  },
  {
   "cell_type": "code",
   "execution_count": 47,
   "id": "a109dfe4",
   "metadata": {
    "scrolled": true
   },
   "outputs": [
    {
     "name": "stderr",
     "output_type": "stream",
     "text": [
      "  0%|                                                                                                          | 0/20 [00:00<?, ?it/s]\n",
      "  0%|                                                                                                          | 0/36 [00:00<?, ?it/s]\u001b[A\n",
      "  3%|██▋                                                                                               | 1/36 [00:01<00:37,  1.06s/it]\u001b[A\n",
      "  6%|█████▍                                                                                            | 2/36 [00:02<00:37,  1.10s/it]\u001b[A\n",
      "  8%|████████▏                                                                                         | 3/36 [00:03<00:36,  1.10s/it]\u001b[A\n",
      " 11%|██████████▉                                                                                       | 4/36 [00:04<00:35,  1.11s/it]\u001b[A\n",
      " 14%|█████████████▌                                                                                    | 5/36 [00:05<00:35,  1.13s/it]\u001b[A\n",
      " 17%|████████████████▎                                                                                 | 6/36 [00:06<00:34,  1.15s/it]\u001b[A\n",
      " 19%|███████████████████                                                                               | 7/36 [00:07<00:33,  1.14s/it]\u001b[A\n",
      " 22%|█████████████████████▊                                                                            | 8/36 [00:08<00:31,  1.12s/it]\u001b[A\n",
      " 25%|████████████████████████▌                                                                         | 9/36 [00:10<00:30,  1.12s/it]\u001b[A\n",
      " 28%|██████████████████████████▉                                                                      | 10/36 [00:11<00:28,  1.11s/it]\u001b[A\n",
      " 31%|█████████████████████████████▋                                                                   | 11/36 [00:12<00:27,  1.11s/it]\u001b[A\n",
      " 33%|████████████████████████████████▎                                                                | 12/36 [00:13<00:26,  1.10s/it]\u001b[A\n",
      " 36%|███████████████████████████████████                                                              | 13/36 [00:14<00:25,  1.10s/it]\u001b[A\n",
      " 39%|█████████████████████████████████████▋                                                           | 14/36 [00:15<00:24,  1.10s/it]\u001b[A\n",
      " 42%|████████████████████████████████████████▍                                                        | 15/36 [00:16<00:23,  1.11s/it]\u001b[A\n",
      " 44%|███████████████████████████████████████████                                                      | 16/36 [00:17<00:21,  1.10s/it]\u001b[A\n",
      " 47%|█████████████████████████████████████████████▊                                                   | 17/36 [00:18<00:20,  1.10s/it]\u001b[A\n",
      " 50%|████████████████████████████████████████████████▌                                                | 18/36 [00:19<00:19,  1.11s/it]\u001b[A\n",
      " 53%|███████████████████████████████████████████████████▏                                             | 19/36 [00:21<00:18,  1.11s/it]\u001b[A\n",
      " 56%|█████████████████████████████████████████████████████▉                                           | 20/36 [00:22<00:17,  1.12s/it]\u001b[A\n",
      " 58%|████████████████████████████████████████████████████████▌                                        | 21/36 [00:23<00:16,  1.12s/it]\u001b[A\n",
      " 61%|███████████████████████████████████████████████████████████▎                                     | 22/36 [00:24<00:15,  1.12s/it]\u001b[A\n",
      " 64%|█████████████████████████████████████████████████████████████▉                                   | 23/36 [00:25<00:14,  1.11s/it]\u001b[A\n",
      " 67%|████████████████████████████████████████████████████████████████▋                                | 24/36 [00:26<00:13,  1.11s/it]\u001b[A\n",
      " 69%|███████████████████████████████████████████████████████████████████▎                             | 25/36 [00:27<00:12,  1.11s/it]\u001b[A\n",
      " 72%|██████████████████████████████████████████████████████████████████████                           | 26/36 [00:28<00:11,  1.12s/it]\u001b[A\n",
      " 75%|████████████████████████████████████████████████████████████████████████▊                        | 27/36 [00:30<00:10,  1.11s/it]\u001b[A\n",
      " 78%|███████████████████████████████████████████████████████████████████████████▍                     | 28/36 [00:31<00:09,  1.13s/it]\u001b[A\n",
      " 81%|██████████████████████████████████████████████████████████████████████████████▏                  | 29/36 [00:32<00:07,  1.13s/it]\u001b[A\n",
      " 83%|████████████████████████████████████████████████████████████████████████████████▊                | 30/36 [00:33<00:06,  1.13s/it]\u001b[A\n",
      " 86%|███████████████████████████████████████████████████████████████████████████████████▌             | 31/36 [00:34<00:05,  1.13s/it]\u001b[A\n",
      " 89%|██████████████████████████████████████████████████████████████████████████████████████▏          | 32/36 [00:35<00:04,  1.12s/it]\u001b[A\n",
      " 92%|████████████████████████████████████████████████████████████████████████████████████████▉        | 33/36 [00:36<00:03,  1.12s/it]\u001b[A\n",
      " 94%|███████████████████████████████████████████████████████████████████████████████████████████▌     | 34/36 [00:37<00:02,  1.11s/it]\u001b[A\n",
      " 97%|██████████████████████████████████████████████████████████████████████████████████████████████▎  | 35/36 [00:38<00:01,  1.10s/it]\u001b[A\n",
      "100%|█████████████████████████████████████████████████████████████████████████████████████████████████| 36/36 [00:40<00:00,  1.11s/it]\u001b[A\n",
      "  5%|████▉                                                                                             | 1/20 [00:40<12:47, 40.38s/it]\n",
      "  0%|                                                                                                          | 0/36 [00:00<?, ?it/s]\u001b[A\n",
      "  3%|██▋                                                                                               | 1/36 [00:01<00:37,  1.08s/it]\u001b[A\n",
      "  6%|█████▍                                                                                            | 2/36 [00:02<00:37,  1.11s/it]\u001b[A\n",
      "  8%|████████▏                                                                                         | 3/36 [00:03<00:37,  1.13s/it]\u001b[A\n",
      " 11%|██████████▉                                                                                       | 4/36 [00:04<00:36,  1.13s/it]\u001b[A\n",
      " 14%|█████████████▌                                                                                    | 5/36 [00:05<00:35,  1.13s/it]\u001b[A\n",
      " 17%|████████████████▎                                                                                 | 6/36 [00:06<00:33,  1.12s/it]\u001b[A\n",
      " 19%|███████████████████                                                                               | 7/36 [00:07<00:32,  1.13s/it]\u001b[A\n",
      " 22%|█████████████████████▊                                                                            | 8/36 [00:08<00:31,  1.12s/it]\u001b[A\n",
      " 25%|████████████████████████▌                                                                         | 9/36 [00:10<00:30,  1.13s/it]\u001b[A\n",
      " 28%|██████████████████████████▉                                                                      | 10/36 [00:11<00:29,  1.12s/it]\u001b[A\n",
      " 31%|█████████████████████████████▋                                                                   | 11/36 [00:12<00:28,  1.12s/it]\u001b[A\n",
      " 33%|████████████████████████████████▎                                                                | 12/36 [00:13<00:26,  1.12s/it]\u001b[A\n",
      " 36%|███████████████████████████████████                                                              | 13/36 [00:14<00:25,  1.13s/it]\u001b[A\n",
      " 39%|█████████████████████████████████████▋                                                           | 14/36 [00:15<00:24,  1.13s/it]\u001b[A\n",
      " 42%|████████████████████████████████████████▍                                                        | 15/36 [00:16<00:23,  1.13s/it]\u001b[A\n",
      " 44%|███████████████████████████████████████████                                                      | 16/36 [00:17<00:22,  1.12s/it]\u001b[A\n",
      " 47%|█████████████████████████████████████████████▊                                                   | 17/36 [00:19<00:21,  1.11s/it]\u001b[A\n",
      " 50%|████████████████████████████████████████████████▌                                                | 18/36 [00:20<00:19,  1.11s/it]\u001b[A\n",
      " 53%|███████████████████████████████████████████████████▏                                             | 19/36 [00:21<00:18,  1.11s/it]\u001b[A\n"
     ]
    },
    {
     "name": "stderr",
     "output_type": "stream",
     "text": [
      " 56%|█████████████████████████████████████████████████████▉                                           | 20/36 [00:22<00:17,  1.12s/it]\u001b[A\n",
      " 58%|████████████████████████████████████████████████████████▌                                        | 21/36 [00:23<00:16,  1.12s/it]\u001b[A\n",
      " 61%|███████████████████████████████████████████████████████████▎                                     | 22/36 [00:24<00:15,  1.12s/it]\u001b[A\n",
      " 64%|█████████████████████████████████████████████████████████████▉                                   | 23/36 [00:25<00:14,  1.11s/it]\u001b[A\n",
      " 67%|████████████████████████████████████████████████████████████████▋                                | 24/36 [00:26<00:13,  1.11s/it]\u001b[A\n",
      " 69%|███████████████████████████████████████████████████████████████████▎                             | 25/36 [00:27<00:12,  1.10s/it]\u001b[A\n",
      " 72%|██████████████████████████████████████████████████████████████████████                           | 26/36 [00:29<00:11,  1.11s/it]\u001b[A\n",
      " 75%|████████████████████████████████████████████████████████████████████████▊                        | 27/36 [00:30<00:10,  1.12s/it]\u001b[A\n",
      " 78%|███████████████████████████████████████████████████████████████████████████▍                     | 28/36 [00:31<00:08,  1.12s/it]\u001b[A\n",
      " 81%|██████████████████████████████████████████████████████████████████████████████▏                  | 29/36 [00:32<00:07,  1.13s/it]\u001b[A\n",
      " 83%|████████████████████████████████████████████████████████████████████████████████▊                | 30/36 [00:33<00:06,  1.14s/it]\u001b[A\n",
      " 86%|███████████████████████████████████████████████████████████████████████████████████▌             | 31/36 [00:34<00:05,  1.14s/it]\u001b[A\n",
      " 89%|██████████████████████████████████████████████████████████████████████████████████████▏          | 32/36 [00:35<00:04,  1.13s/it]\u001b[A\n",
      " 92%|████████████████████████████████████████████████████████████████████████████████████████▉        | 33/36 [00:37<00:03,  1.13s/it]\u001b[A\n",
      " 94%|███████████████████████████████████████████████████████████████████████████████████████████▌     | 34/36 [00:38<00:02,  1.11s/it]\u001b[A\n",
      " 97%|██████████████████████████████████████████████████████████████████████████████████████████████▎  | 35/36 [00:39<00:01,  1.10s/it]\u001b[A\n",
      "100%|█████████████████████████████████████████████████████████████████████████████████████████████████| 36/36 [00:40<00:00,  1.12s/it]\u001b[A\n",
      " 10%|█████████▊                                                                                        | 2/20 [01:20<12:09, 40.52s/it]\n",
      "  0%|                                                                                                          | 0/36 [00:00<?, ?it/s]\u001b[A\n",
      "  3%|██▋                                                                                               | 1/36 [00:01<00:36,  1.04s/it]\u001b[A\n",
      "  6%|█████▍                                                                                            | 2/36 [00:02<00:36,  1.08s/it]\u001b[A\n",
      "  8%|████████▏                                                                                         | 3/36 [00:03<00:36,  1.10s/it]\u001b[A\n",
      " 11%|██████████▉                                                                                       | 4/36 [00:04<00:35,  1.10s/it]\u001b[A\n",
      " 14%|█████████████▌                                                                                    | 5/36 [00:05<00:34,  1.12s/it]\u001b[A\n",
      " 17%|████████████████▎                                                                                 | 6/36 [00:06<00:33,  1.11s/it]\u001b[A\n",
      " 19%|███████████████████                                                                               | 7/36 [00:07<00:32,  1.11s/it]\u001b[A\n",
      " 22%|█████████████████████▊                                                                            | 8/36 [00:08<00:30,  1.10s/it]\u001b[A\n",
      " 25%|████████████████████████▌                                                                         | 9/36 [00:09<00:29,  1.10s/it]\u001b[A\n",
      " 28%|██████████████████████████▉                                                                      | 10/36 [00:10<00:28,  1.09s/it]\u001b[A\n",
      " 31%|█████████████████████████████▋                                                                   | 11/36 [00:12<00:27,  1.11s/it]\u001b[A\n",
      " 33%|████████████████████████████████▎                                                                | 12/36 [00:13<00:26,  1.11s/it]\u001b[A\n",
      " 36%|███████████████████████████████████                                                              | 13/36 [00:14<00:25,  1.12s/it]\u001b[A\n",
      " 39%|█████████████████████████████████████▋                                                           | 14/36 [00:15<00:24,  1.13s/it]\u001b[A\n",
      " 42%|████████████████████████████████████████▍                                                        | 15/36 [00:16<00:23,  1.13s/it]\u001b[A\n",
      " 44%|███████████████████████████████████████████                                                      | 16/36 [00:17<00:22,  1.11s/it]\u001b[A\n",
      " 47%|█████████████████████████████████████████████▊                                                   | 17/36 [00:18<00:21,  1.12s/it]\u001b[A\n",
      " 50%|████████████████████████████████████████████████▌                                                | 18/36 [00:19<00:20,  1.12s/it]\u001b[A\n",
      " 53%|███████████████████████████████████████████████████▏                                             | 19/36 [00:21<00:18,  1.11s/it]\u001b[A\n",
      " 56%|█████████████████████████████████████████████████████▉                                           | 20/36 [00:22<00:17,  1.12s/it]\u001b[A\n",
      " 58%|████████████████████████████████████████████████████████▌                                        | 21/36 [00:23<00:16,  1.12s/it]\u001b[A\n",
      " 61%|███████████████████████████████████████████████████████████▎                                     | 22/36 [00:24<00:15,  1.11s/it]\u001b[A\n",
      " 64%|█████████████████████████████████████████████████████████████▉                                   | 23/36 [00:25<00:14,  1.10s/it]\u001b[A\n",
      " 67%|████████████████████████████████████████████████████████████████▋                                | 24/36 [00:26<00:13,  1.10s/it]\u001b[A\n",
      " 69%|███████████████████████████████████████████████████████████████████▎                             | 25/36 [00:27<00:12,  1.09s/it]\u001b[A\n",
      " 72%|██████████████████████████████████████████████████████████████████████                           | 26/36 [00:28<00:11,  1.10s/it]\u001b[A\n",
      " 75%|████████████████████████████████████████████████████████████████████████▊                        | 27/36 [00:29<00:10,  1.12s/it]\u001b[A\n",
      " 78%|███████████████████████████████████████████████████████████████████████████▍                     | 28/36 [00:31<00:09,  1.13s/it]\u001b[A\n",
      " 81%|██████████████████████████████████████████████████████████████████████████████▏                  | 29/36 [00:32<00:07,  1.13s/it]\u001b[A\n",
      " 83%|████████████████████████████████████████████████████████████████████████████████▊                | 30/36 [00:33<00:06,  1.14s/it]\u001b[A\n",
      " 86%|███████████████████████████████████████████████████████████████████████████████████▌             | 31/36 [00:34<00:05,  1.14s/it]\u001b[A\n",
      " 89%|██████████████████████████████████████████████████████████████████████████████████████▏          | 32/36 [00:35<00:04,  1.13s/it]\u001b[A\n",
      " 92%|████████████████████████████████████████████████████████████████████████████████████████▉        | 33/36 [00:36<00:03,  1.14s/it]\u001b[A\n",
      " 94%|███████████████████████████████████████████████████████████████████████████████████████████▌     | 34/36 [00:37<00:02,  1.12s/it]\u001b[A\n",
      " 97%|██████████████████████████████████████████████████████████████████████████████████████████████▎  | 35/36 [00:38<00:01,  1.11s/it]\u001b[A\n",
      "100%|█████████████████████████████████████████████████████████████████████████████████████████████████| 36/36 [00:40<00:00,  1.11s/it]\u001b[A\n",
      " 15%|██████████████▋                                                                                   | 3/20 [02:01<11:27, 40.47s/it]\n",
      "  0%|                                                                                                          | 0/36 [00:00<?, ?it/s]\u001b[A\n",
      "  3%|██▋                                                                                               | 1/36 [00:01<00:37,  1.08s/it]\u001b[A\n",
      "  6%|█████▍                                                                                            | 2/36 [00:02<00:37,  1.11s/it]\u001b[A\n"
     ]
    },
    {
     "name": "stderr",
     "output_type": "stream",
     "text": [
      "  8%|████████▏                                                                                         | 3/36 [00:03<00:37,  1.12s/it]\u001b[A\n",
      " 11%|██████████▉                                                                                       | 4/36 [00:04<00:35,  1.11s/it]\u001b[A\n",
      " 14%|█████████████▌                                                                                    | 5/36 [00:05<00:34,  1.12s/it]\u001b[A\n",
      " 17%|████████████████▎                                                                                 | 6/36 [00:06<00:33,  1.12s/it]\u001b[A\n",
      " 19%|███████████████████                                                                               | 7/36 [00:07<00:32,  1.13s/it]\u001b[A\n",
      " 22%|█████████████████████▊                                                                            | 8/36 [00:08<00:31,  1.12s/it]\u001b[A\n",
      " 25%|████████████████████████▌                                                                         | 9/36 [00:10<00:30,  1.13s/it]\u001b[A\n",
      " 28%|██████████████████████████▉                                                                      | 10/36 [00:11<00:29,  1.12s/it]\u001b[A\n",
      " 31%|█████████████████████████████▋                                                                   | 11/36 [00:12<00:28,  1.12s/it]\u001b[A\n",
      " 33%|████████████████████████████████▎                                                                | 12/36 [00:13<00:26,  1.12s/it]\u001b[A\n",
      " 36%|███████████████████████████████████                                                              | 13/36 [00:14<00:25,  1.12s/it]\u001b[A\n",
      " 39%|█████████████████████████████████████▋                                                           | 14/36 [00:15<00:24,  1.13s/it]\u001b[A\n",
      " 42%|████████████████████████████████████████▍                                                        | 15/36 [00:16<00:23,  1.13s/it]\u001b[A\n",
      " 44%|███████████████████████████████████████████                                                      | 16/36 [00:17<00:22,  1.13s/it]\u001b[A\n",
      " 47%|█████████████████████████████████████████████▊                                                   | 17/36 [00:19<00:21,  1.15s/it]\u001b[A\n",
      " 50%|████████████████████████████████████████████████▌                                                | 18/36 [00:20<00:20,  1.14s/it]\u001b[A\n",
      " 53%|███████████████████████████████████████████████████▏                                             | 19/36 [00:21<00:19,  1.13s/it]\u001b[A\n",
      " 56%|█████████████████████████████████████████████████████▉                                           | 20/36 [00:22<00:18,  1.13s/it]\u001b[A\n",
      " 58%|████████████████████████████████████████████████████████▌                                        | 21/36 [00:23<00:17,  1.14s/it]\u001b[A\n",
      " 61%|███████████████████████████████████████████████████████████▎                                     | 22/36 [00:24<00:15,  1.13s/it]\u001b[A\n",
      " 64%|█████████████████████████████████████████████████████████████▉                                   | 23/36 [00:25<00:14,  1.12s/it]\u001b[A\n",
      " 67%|████████████████████████████████████████████████████████████████▋                                | 24/36 [00:26<00:13,  1.12s/it]\u001b[A\n",
      " 69%|███████████████████████████████████████████████████████████████████▎                             | 25/36 [00:28<00:12,  1.10s/it]\u001b[A\n",
      " 72%|██████████████████████████████████████████████████████████████████████                           | 26/36 [00:29<00:11,  1.13s/it]\u001b[A\n",
      " 75%|████████████████████████████████████████████████████████████████████████▊                        | 27/36 [00:30<00:10,  1.12s/it]\u001b[A\n",
      " 78%|███████████████████████████████████████████████████████████████████████████▍                     | 28/36 [00:31<00:09,  1.14s/it]\u001b[A\n",
      " 81%|██████████████████████████████████████████████████████████████████████████████▏                  | 29/36 [00:32<00:07,  1.14s/it]\u001b[A\n",
      " 83%|████████████████████████████████████████████████████████████████████████████████▊                | 30/36 [00:33<00:06,  1.15s/it]\u001b[A\n",
      " 86%|███████████████████████████████████████████████████████████████████████████████████▌             | 31/36 [00:34<00:05,  1.14s/it]\u001b[A\n",
      " 89%|██████████████████████████████████████████████████████████████████████████████████████▏          | 32/36 [00:36<00:04,  1.13s/it]\u001b[A\n",
      " 92%|████████████████████████████████████████████████████████████████████████████████████████▉        | 33/36 [00:37<00:03,  1.13s/it]\u001b[A\n",
      " 94%|███████████████████████████████████████████████████████████████████████████████████████████▌     | 34/36 [00:38<00:02,  1.12s/it]\u001b[A\n",
      " 97%|██████████████████████████████████████████████████████████████████████████████████████████████▎  | 35/36 [00:39<00:01,  1.11s/it]\u001b[A\n",
      "100%|█████████████████████████████████████████████████████████████████████████████████████████████████| 36/36 [00:40<00:00,  1.13s/it]\u001b[A\n",
      " 20%|███████████████████▌                                                                              | 4/20 [02:42<10:49, 40.60s/it]\n",
      "  0%|                                                                                                          | 0/36 [00:00<?, ?it/s]\u001b[A\n",
      "  3%|██▋                                                                                               | 1/36 [00:01<00:37,  1.07s/it]\u001b[A\n",
      "  6%|█████▍                                                                                            | 2/36 [00:02<00:37,  1.10s/it]\u001b[A\n",
      "  8%|████████▏                                                                                         | 3/36 [00:03<00:36,  1.12s/it]\u001b[A\n",
      " 11%|██████████▉                                                                                       | 4/36 [00:04<00:36,  1.13s/it]\u001b[A\n",
      " 14%|█████████████▌                                                                                    | 5/36 [00:05<00:34,  1.13s/it]\u001b[A\n",
      " 17%|████████████████▎                                                                                 | 6/36 [00:06<00:34,  1.14s/it]\u001b[A\n",
      " 19%|███████████████████                                                                               | 7/36 [00:07<00:32,  1.13s/it]\u001b[A\n",
      " 22%|█████████████████████▊                                                                            | 8/36 [00:09<00:31,  1.14s/it]\u001b[A\n",
      " 25%|████████████████████████▌                                                                         | 9/36 [00:10<00:30,  1.14s/it]\u001b[A\n",
      " 28%|██████████████████████████▉                                                                      | 10/36 [00:11<00:29,  1.13s/it]\u001b[A\n",
      " 31%|█████████████████████████████▋                                                                   | 11/36 [00:12<00:28,  1.13s/it]\u001b[A\n",
      " 33%|████████████████████████████████▎                                                                | 12/36 [00:13<00:27,  1.13s/it]\u001b[A\n",
      " 36%|███████████████████████████████████                                                              | 13/36 [00:14<00:25,  1.13s/it]\u001b[A\n",
      " 39%|█████████████████████████████████████▋                                                           | 14/36 [00:15<00:24,  1.13s/it]\u001b[A\n",
      " 42%|████████████████████████████████████████▍                                                        | 15/36 [00:16<00:23,  1.13s/it]\u001b[A\n",
      " 44%|███████████████████████████████████████████                                                      | 16/36 [00:18<00:22,  1.12s/it]\u001b[A\n",
      " 47%|█████████████████████████████████████████████▊                                                   | 17/36 [00:19<00:21,  1.12s/it]\u001b[A\n",
      " 50%|████████████████████████████████████████████████▌                                                | 18/36 [00:20<00:20,  1.12s/it]\u001b[A\n",
      " 53%|███████████████████████████████████████████████████▏                                             | 19/36 [00:21<00:18,  1.12s/it]\u001b[A\n",
      " 56%|█████████████████████████████████████████████████████▉                                           | 20/36 [00:22<00:18,  1.13s/it]\u001b[A\n",
      " 58%|████████████████████████████████████████████████████████▌                                        | 21/36 [00:23<00:17,  1.14s/it]\u001b[A\n",
      " 61%|███████████████████████████████████████████████████████████▎                                     | 22/36 [00:24<00:15,  1.13s/it]\u001b[A\n",
      " 64%|█████████████████████████████████████████████████████████████▉                                   | 23/36 [00:25<00:14,  1.12s/it]\u001b[A\n"
     ]
    },
    {
     "name": "stderr",
     "output_type": "stream",
     "text": [
      " 67%|████████████████████████████████████████████████████████████████▋                                | 24/36 [00:26<00:13,  1.10s/it]\u001b[A\n",
      " 69%|███████████████████████████████████████████████████████████████████▎                             | 25/36 [00:28<00:12,  1.09s/it]\u001b[A\n",
      " 72%|██████████████████████████████████████████████████████████████████████                           | 26/36 [00:29<00:11,  1.11s/it]\u001b[A\n",
      " 75%|████████████████████████████████████████████████████████████████████████▊                        | 27/36 [00:30<00:09,  1.11s/it]\u001b[A\n",
      " 78%|███████████████████████████████████████████████████████████████████████████▍                     | 28/36 [00:31<00:08,  1.11s/it]\u001b[A\n",
      " 81%|██████████████████████████████████████████████████████████████████████████████▏                  | 29/36 [00:32<00:07,  1.11s/it]\u001b[A\n",
      " 83%|████████████████████████████████████████████████████████████████████████████████▊                | 30/36 [00:33<00:06,  1.12s/it]\u001b[A\n",
      " 86%|███████████████████████████████████████████████████████████████████████████████████▌             | 31/36 [00:34<00:05,  1.11s/it]\u001b[A\n",
      " 89%|██████████████████████████████████████████████████████████████████████████████████████▏          | 32/36 [00:35<00:04,  1.11s/it]\u001b[A\n",
      " 92%|████████████████████████████████████████████████████████████████████████████████████████▉        | 33/36 [00:36<00:03,  1.11s/it]\u001b[A\n",
      " 94%|███████████████████████████████████████████████████████████████████████████████████████████▌     | 34/36 [00:37<00:02,  1.09s/it]\u001b[A\n",
      " 97%|██████████████████████████████████████████████████████████████████████████████████████████████▎  | 35/36 [00:39<00:01,  1.08s/it]\u001b[A\n",
      "100%|█████████████████████████████████████████████████████████████████████████████████████████████████| 36/36 [00:40<00:00,  1.12s/it]\u001b[A\n",
      " 25%|████████████████████████▌                                                                         | 5/20 [03:22<10:08, 40.55s/it]\n",
      "  0%|                                                                                                          | 0/36 [00:00<?, ?it/s]\u001b[A\n",
      "  3%|██▋                                                                                               | 1/36 [00:01<00:37,  1.06s/it]\u001b[A\n",
      "  6%|█████▍                                                                                            | 2/36 [00:02<00:37,  1.10s/it]\u001b[A\n",
      "  8%|████████▏                                                                                         | 3/36 [00:03<00:37,  1.12s/it]\u001b[A\n",
      " 11%|██████████▉                                                                                       | 4/36 [00:04<00:36,  1.13s/it]\u001b[A\n",
      " 14%|█████████████▌                                                                                    | 5/36 [00:05<00:35,  1.14s/it]\u001b[A\n",
      " 17%|████████████████▎                                                                                 | 6/36 [00:06<00:34,  1.14s/it]\u001b[A\n",
      " 19%|███████████████████                                                                               | 7/36 [00:07<00:32,  1.13s/it]\u001b[A\n",
      " 22%|█████████████████████▊                                                                            | 8/36 [00:09<00:31,  1.13s/it]\u001b[A\n",
      " 25%|████████████████████████▌                                                                         | 9/36 [00:10<00:30,  1.13s/it]\u001b[A\n",
      " 28%|██████████████████████████▉                                                                      | 10/36 [00:11<00:29,  1.13s/it]\u001b[A\n",
      " 31%|█████████████████████████████▋                                                                   | 11/36 [00:12<00:28,  1.13s/it]\u001b[A\n",
      " 33%|████████████████████████████████▎                                                                | 12/36 [00:13<00:26,  1.12s/it]\u001b[A\n",
      " 36%|███████████████████████████████████                                                              | 13/36 [00:14<00:25,  1.13s/it]\u001b[A\n",
      " 39%|█████████████████████████████████████▋                                                           | 14/36 [00:15<00:24,  1.13s/it]\u001b[A\n",
      " 42%|████████████████████████████████████████▍                                                        | 15/36 [00:16<00:23,  1.14s/it]\u001b[A\n",
      " 44%|███████████████████████████████████████████                                                      | 16/36 [00:18<00:22,  1.12s/it]\u001b[A\n",
      " 47%|█████████████████████████████████████████████▊                                                   | 17/36 [00:19<00:21,  1.13s/it]\u001b[A\n",
      " 50%|████████████████████████████████████████████████▌                                                | 18/36 [00:20<00:20,  1.12s/it]\u001b[A\n",
      " 53%|███████████████████████████████████████████████████▏                                             | 19/36 [00:21<00:19,  1.12s/it]\u001b[A\n",
      " 56%|█████████████████████████████████████████████████████▉                                           | 20/36 [00:22<00:17,  1.12s/it]\u001b[A\n",
      " 58%|████████████████████████████████████████████████████████▌                                        | 21/36 [00:23<00:16,  1.13s/it]\u001b[A\n",
      " 61%|███████████████████████████████████████████████████████████▎                                     | 22/36 [00:24<00:15,  1.12s/it]\u001b[A\n",
      " 64%|█████████████████████████████████████████████████████████████▉                                   | 23/36 [00:25<00:14,  1.12s/it]\u001b[A\n",
      " 67%|████████████████████████████████████████████████████████████████▋                                | 24/36 [00:26<00:13,  1.11s/it]\u001b[A\n",
      " 69%|███████████████████████████████████████████████████████████████████▎                             | 25/36 [00:28<00:12,  1.12s/it]\u001b[A\n",
      " 72%|██████████████████████████████████████████████████████████████████████                           | 26/36 [00:29<00:11,  1.13s/it]\u001b[A\n",
      " 75%|████████████████████████████████████████████████████████████████████████▊                        | 27/36 [00:30<00:10,  1.14s/it]\u001b[A\n",
      " 78%|███████████████████████████████████████████████████████████████████████████▍                     | 28/36 [00:31<00:09,  1.16s/it]\u001b[A\n",
      " 81%|██████████████████████████████████████████████████████████████████████████████▏                  | 29/36 [00:32<00:08,  1.16s/it]\u001b[A\n",
      " 83%|████████████████████████████████████████████████████████████████████████████████▊                | 30/36 [00:33<00:06,  1.16s/it]\u001b[A\n",
      " 86%|███████████████████████████████████████████████████████████████████████████████████▌             | 31/36 [00:35<00:05,  1.15s/it]\u001b[A\n",
      " 89%|██████████████████████████████████████████████████████████████████████████████████████▏          | 32/36 [00:36<00:04,  1.14s/it]\u001b[A\n",
      " 92%|████████████████████████████████████████████████████████████████████████████████████████▉        | 33/36 [00:37<00:03,  1.14s/it]\u001b[A\n",
      " 94%|███████████████████████████████████████████████████████████████████████████████████████████▌     | 34/36 [00:38<00:02,  1.12s/it]\u001b[A\n",
      " 97%|██████████████████████████████████████████████████████████████████████████████████████████████▎  | 35/36 [00:39<00:01,  1.11s/it]\u001b[A\n",
      "100%|█████████████████████████████████████████████████████████████████████████████████████████████████| 36/36 [00:40<00:00,  1.13s/it]\u001b[A\n",
      " 30%|█████████████████████████████▍                                                                    | 6/20 [04:03<09:29, 40.68s/it]\n",
      "  0%|                                                                                                          | 0/36 [00:00<?, ?it/s]\u001b[A\n",
      "  3%|██▋                                                                                               | 1/36 [00:01<00:38,  1.10s/it]\u001b[A\n",
      "  6%|█████▍                                                                                            | 2/36 [00:02<00:38,  1.13s/it]\u001b[A\n",
      "  8%|████████▏                                                                                         | 3/36 [00:03<00:37,  1.14s/it]\u001b[A\n",
      " 11%|██████████▉                                                                                       | 4/36 [00:04<00:36,  1.15s/it]\u001b[A\n",
      " 14%|█████████████▌                                                                                    | 5/36 [00:05<00:35,  1.14s/it]\u001b[A\n",
      " 17%|████████████████▎                                                                                 | 6/36 [00:06<00:33,  1.13s/it]\u001b[A\n"
     ]
    },
    {
     "name": "stderr",
     "output_type": "stream",
     "text": [
      " 19%|███████████████████                                                                               | 7/36 [00:07<00:32,  1.13s/it]\u001b[A\n",
      " 22%|█████████████████████▊                                                                            | 8/36 [00:09<00:31,  1.12s/it]\u001b[A\n",
      " 25%|████████████████████████▌                                                                         | 9/36 [00:10<00:30,  1.13s/it]\u001b[A\n",
      " 28%|██████████████████████████▉                                                                      | 10/36 [00:11<00:29,  1.12s/it]\u001b[A\n",
      " 31%|█████████████████████████████▋                                                                   | 11/36 [00:12<00:28,  1.12s/it]\u001b[A\n",
      " 33%|████████████████████████████████▎                                                                | 12/36 [00:13<00:27,  1.13s/it]\u001b[A\n",
      " 36%|███████████████████████████████████                                                              | 13/36 [00:14<00:26,  1.13s/it]\u001b[A\n",
      " 39%|█████████████████████████████████████▋                                                           | 14/36 [00:15<00:24,  1.10s/it]\u001b[A\n",
      " 42%|████████████████████████████████████████▍                                                        | 15/36 [00:16<00:23,  1.10s/it]\u001b[A\n",
      " 44%|███████████████████████████████████████████                                                      | 16/36 [00:17<00:21,  1.10s/it]\u001b[A\n",
      " 47%|█████████████████████████████████████████████▊                                                   | 17/36 [00:19<00:21,  1.11s/it]\u001b[A\n",
      " 50%|████████████████████████████████████████████████▌                                                | 18/36 [00:20<00:20,  1.11s/it]\u001b[A\n",
      " 53%|███████████████████████████████████████████████████▏                                             | 19/36 [00:21<00:18,  1.11s/it]\u001b[A\n",
      " 56%|█████████████████████████████████████████████████████▉                                           | 20/36 [00:22<00:17,  1.12s/it]\u001b[A\n",
      " 58%|████████████████████████████████████████████████████████▌                                        | 21/36 [00:23<00:16,  1.13s/it]\u001b[A\n",
      " 61%|███████████████████████████████████████████████████████████▎                                     | 22/36 [00:24<00:15,  1.12s/it]\u001b[A\n",
      " 64%|█████████████████████████████████████████████████████████████▉                                   | 23/36 [00:25<00:14,  1.12s/it]\u001b[A\n",
      " 67%|████████████████████████████████████████████████████████████████▋                                | 24/36 [00:26<00:13,  1.12s/it]\u001b[A\n",
      " 69%|███████████████████████████████████████████████████████████████████▎                             | 25/36 [00:27<00:12,  1.12s/it]\u001b[A\n",
      " 72%|██████████████████████████████████████████████████████████████████████                           | 26/36 [00:29<00:11,  1.12s/it]\u001b[A\n",
      " 75%|████████████████████████████████████████████████████████████████████████▊                        | 27/36 [00:30<00:10,  1.13s/it]\u001b[A\n",
      " 78%|███████████████████████████████████████████████████████████████████████████▍                     | 28/36 [00:31<00:09,  1.14s/it]\u001b[A\n",
      " 81%|██████████████████████████████████████████████████████████████████████████████▏                  | 29/36 [00:32<00:08,  1.14s/it]\u001b[A\n",
      " 83%|████████████████████████████████████████████████████████████████████████████████▊                | 30/36 [00:33<00:06,  1.15s/it]\u001b[A\n",
      " 86%|███████████████████████████████████████████████████████████████████████████████████▌             | 31/36 [00:34<00:05,  1.15s/it]\u001b[A\n",
      " 89%|██████████████████████████████████████████████████████████████████████████████████████▏          | 32/36 [00:36<00:04,  1.14s/it]\u001b[A\n",
      " 92%|████████████████████████████████████████████████████████████████████████████████████████▉        | 33/36 [00:37<00:03,  1.14s/it]\u001b[A\n",
      " 94%|███████████████████████████████████████████████████████████████████████████████████████████▌     | 34/36 [00:38<00:02,  1.12s/it]\u001b[A\n",
      " 97%|██████████████████████████████████████████████████████████████████████████████████████████████▎  | 35/36 [00:39<00:01,  1.11s/it]\u001b[A\n",
      "100%|█████████████████████████████████████████████████████████████████████████████████████████████████| 36/36 [00:40<00:00,  1.12s/it]\u001b[A\n",
      " 35%|██████████████████████████████████▎                                                               | 7/20 [04:44<08:49, 40.71s/it]\n",
      "  0%|                                                                                                          | 0/36 [00:00<?, ?it/s]\u001b[A\n",
      "  3%|██▋                                                                                               | 1/36 [00:01<00:37,  1.08s/it]\u001b[A\n",
      "  6%|█████▍                                                                                            | 2/36 [00:02<00:37,  1.11s/it]\u001b[A\n",
      "  8%|████████▏                                                                                         | 3/36 [00:03<00:37,  1.13s/it]\u001b[A\n",
      " 11%|██████████▉                                                                                       | 4/36 [00:04<00:35,  1.12s/it]\u001b[A\n",
      " 14%|█████████████▌                                                                                    | 5/36 [00:05<00:34,  1.13s/it]\u001b[A\n",
      " 17%|████████████████▎                                                                                 | 6/36 [00:06<00:33,  1.13s/it]\u001b[A\n",
      " 19%|███████████████████                                                                               | 7/36 [00:07<00:32,  1.13s/it]\u001b[A\n",
      " 22%|█████████████████████▊                                                                            | 8/36 [00:09<00:31,  1.13s/it]\u001b[A\n",
      " 25%|████████████████████████▌                                                                         | 9/36 [00:10<00:30,  1.13s/it]\u001b[A\n",
      " 28%|██████████████████████████▉                                                                      | 10/36 [00:11<00:29,  1.12s/it]\u001b[A\n",
      " 31%|█████████████████████████████▋                                                                   | 11/36 [00:12<00:27,  1.12s/it]\u001b[A\n",
      " 33%|████████████████████████████████▎                                                                | 12/36 [00:13<00:26,  1.12s/it]\u001b[A\n",
      " 36%|███████████████████████████████████                                                              | 13/36 [00:14<00:25,  1.12s/it]\u001b[A\n",
      " 39%|█████████████████████████████████████▋                                                           | 14/36 [00:15<00:24,  1.12s/it]\u001b[A\n",
      " 42%|████████████████████████████████████████▍                                                        | 15/36 [00:16<00:23,  1.12s/it]\u001b[A\n",
      " 44%|███████████████████████████████████████████                                                      | 16/36 [00:17<00:22,  1.11s/it]\u001b[A\n",
      " 47%|█████████████████████████████████████████████▊                                                   | 17/36 [00:19<00:21,  1.11s/it]\u001b[A\n",
      " 50%|████████████████████████████████████████████████▌                                                | 18/36 [00:20<00:20,  1.11s/it]\u001b[A\n",
      " 53%|███████████████████████████████████████████████████▏                                             | 19/36 [00:21<00:19,  1.12s/it]\u001b[A\n",
      " 56%|█████████████████████████████████████████████████████▉                                           | 20/36 [00:22<00:17,  1.12s/it]\u001b[A\n",
      " 58%|████████████████████████████████████████████████████████▌                                        | 21/36 [00:23<00:16,  1.12s/it]\u001b[A\n",
      " 61%|███████████████████████████████████████████████████████████▎                                     | 22/36 [00:24<00:15,  1.11s/it]\u001b[A\n",
      " 64%|█████████████████████████████████████████████████████████████▉                                   | 23/36 [00:25<00:14,  1.10s/it]\u001b[A\n",
      " 67%|████████████████████████████████████████████████████████████████▋                                | 24/36 [00:26<00:13,  1.11s/it]\u001b[A\n",
      " 69%|███████████████████████████████████████████████████████████████████▎                             | 25/36 [00:27<00:12,  1.09s/it]\u001b[A\n",
      " 72%|██████████████████████████████████████████████████████████████████████                           | 26/36 [00:28<00:10,  1.10s/it]\u001b[A\n",
      " 75%|████████████████████████████████████████████████████████████████████████▊                        | 27/36 [00:30<00:09,  1.10s/it]\u001b[A\n"
     ]
    },
    {
     "name": "stderr",
     "output_type": "stream",
     "text": [
      " 78%|███████████████████████████████████████████████████████████████████████████▍                     | 28/36 [00:31<00:08,  1.11s/it]\u001b[A\n",
      " 81%|██████████████████████████████████████████████████████████████████████████████▏                  | 29/36 [00:32<00:07,  1.12s/it]\u001b[A\n",
      " 83%|████████████████████████████████████████████████████████████████████████████████▊                | 30/36 [00:33<00:06,  1.12s/it]\u001b[A\n",
      " 86%|███████████████████████████████████████████████████████████████████████████████████▌             | 31/36 [00:34<00:05,  1.12s/it]\u001b[A\n",
      " 89%|██████████████████████████████████████████████████████████████████████████████████████▏          | 32/36 [00:35<00:04,  1.11s/it]\u001b[A\n",
      " 92%|████████████████████████████████████████████████████████████████████████████████████████▉        | 33/36 [00:36<00:03,  1.11s/it]\u001b[A\n",
      " 94%|███████████████████████████████████████████████████████████████████████████████████████████▌     | 34/36 [00:37<00:02,  1.10s/it]\u001b[A\n",
      " 97%|██████████████████████████████████████████████████████████████████████████████████████████████▎  | 35/36 [00:38<00:01,  1.09s/it]\u001b[A\n",
      "100%|█████████████████████████████████████████████████████████████████████████████████████████████████| 36/36 [00:40<00:00,  1.11s/it]\u001b[A\n",
      " 40%|███████████████████████████████████████▏                                                          | 8/20 [05:24<08:07, 40.59s/it]\n",
      "  0%|                                                                                                          | 0/36 [00:00<?, ?it/s]\u001b[A\n",
      "  3%|██▋                                                                                               | 1/36 [00:01<00:37,  1.07s/it]\u001b[A\n",
      "  6%|█████▍                                                                                            | 2/36 [00:02<00:37,  1.11s/it]\u001b[A\n",
      "  8%|████████▏                                                                                         | 3/36 [00:03<00:37,  1.13s/it]\u001b[A\n",
      " 11%|██████████▉                                                                                       | 4/36 [00:04<00:36,  1.13s/it]\u001b[A\n",
      " 14%|█████████████▌                                                                                    | 5/36 [00:05<00:34,  1.13s/it]\u001b[A\n",
      " 17%|████████████████▎                                                                                 | 6/36 [00:06<00:33,  1.12s/it]\u001b[A\n",
      " 19%|███████████████████                                                                               | 7/36 [00:07<00:32,  1.12s/it]\u001b[A\n",
      " 22%|█████████████████████▊                                                                            | 8/36 [00:08<00:31,  1.11s/it]\u001b[A\n",
      " 25%|████████████████████████▌                                                                         | 9/36 [00:10<00:30,  1.12s/it]\u001b[A\n",
      " 28%|██████████████████████████▉                                                                      | 10/36 [00:11<00:29,  1.12s/it]\u001b[A\n",
      " 31%|█████████████████████████████▋                                                                   | 11/36 [00:12<00:28,  1.13s/it]\u001b[A\n",
      " 33%|████████████████████████████████▎                                                                | 12/36 [00:13<00:26,  1.11s/it]\u001b[A\n",
      " 36%|███████████████████████████████████                                                              | 13/36 [00:14<00:25,  1.11s/it]\u001b[A\n",
      " 39%|█████████████████████████████████████▋                                                           | 14/36 [00:15<00:24,  1.11s/it]\u001b[A\n",
      " 42%|████████████████████████████████████████▍                                                        | 15/36 [00:16<00:23,  1.11s/it]\u001b[A\n",
      " 44%|███████████████████████████████████████████                                                      | 16/36 [00:17<00:21,  1.10s/it]\u001b[A\n",
      " 47%|█████████████████████████████████████████████▊                                                   | 17/36 [00:18<00:20,  1.10s/it]\u001b[A\n",
      " 50%|████████████████████████████████████████████████▌                                                | 18/36 [00:19<00:19,  1.09s/it]\u001b[A\n",
      " 53%|███████████████████████████████████████████████████▏                                             | 19/36 [00:21<00:18,  1.09s/it]\u001b[A\n",
      " 56%|█████████████████████████████████████████████████████▉                                           | 20/36 [00:22<00:17,  1.09s/it]\u001b[A\n",
      " 58%|████████████████████████████████████████████████████████▌                                        | 21/36 [00:23<00:16,  1.10s/it]\u001b[A\n",
      " 61%|███████████████████████████████████████████████████████████▎                                     | 22/36 [00:24<00:15,  1.10s/it]\u001b[A\n",
      " 64%|█████████████████████████████████████████████████████████████▉                                   | 23/36 [00:25<00:14,  1.10s/it]\u001b[A\n",
      " 67%|████████████████████████████████████████████████████████████████▋                                | 24/36 [00:26<00:13,  1.10s/it]\u001b[A\n",
      " 69%|███████████████████████████████████████████████████████████████████▎                             | 25/36 [00:27<00:11,  1.09s/it]\u001b[A\n",
      " 72%|██████████████████████████████████████████████████████████████████████                           | 26/36 [00:28<00:10,  1.10s/it]\u001b[A\n",
      " 75%|████████████████████████████████████████████████████████████████████████▊                        | 27/36 [00:29<00:10,  1.11s/it]\u001b[A\n",
      " 78%|███████████████████████████████████████████████████████████████████████████▍                     | 28/36 [00:31<00:08,  1.11s/it]\u001b[A\n",
      " 81%|██████████████████████████████████████████████████████████████████████████████▏                  | 29/36 [00:32<00:07,  1.11s/it]\u001b[A\n",
      " 83%|████████████████████████████████████████████████████████████████████████████████▊                | 30/36 [00:33<00:06,  1.12s/it]\u001b[A\n",
      " 86%|███████████████████████████████████████████████████████████████████████████████████▌             | 31/36 [00:34<00:05,  1.12s/it]\u001b[A\n",
      " 89%|██████████████████████████████████████████████████████████████████████████████████████▏          | 32/36 [00:35<00:04,  1.12s/it]\u001b[A\n",
      " 92%|████████████████████████████████████████████████████████████████████████████████████████▉        | 33/36 [00:36<00:03,  1.11s/it]\u001b[A\n",
      " 94%|███████████████████████████████████████████████████████████████████████████████████████████▌     | 34/36 [00:37<00:02,  1.09s/it]\u001b[A\n",
      " 97%|██████████████████████████████████████████████████████████████████████████████████████████████▎  | 35/36 [00:38<00:01,  1.09s/it]\u001b[A\n",
      "100%|█████████████████████████████████████████████████████████████████████████████████████████████████| 36/36 [00:39<00:00,  1.11s/it]\u001b[A\n",
      " 45%|████████████████████████████████████████████                                                      | 9/20 [06:04<07:24, 40.44s/it]\n",
      "  0%|                                                                                                          | 0/36 [00:00<?, ?it/s]\u001b[A\n",
      "  3%|██▋                                                                                               | 1/36 [00:01<00:37,  1.06s/it]\u001b[A\n",
      "  6%|█████▍                                                                                            | 2/36 [00:02<00:36,  1.08s/it]\u001b[A\n",
      "  8%|████████▏                                                                                         | 3/36 [00:03<00:36,  1.10s/it]\u001b[A\n",
      " 11%|██████████▉                                                                                       | 4/36 [00:04<00:36,  1.13s/it]\u001b[A\n",
      " 14%|█████████████▌                                                                                    | 5/36 [00:05<00:34,  1.12s/it]\u001b[A\n",
      " 17%|████████████████▎                                                                                 | 6/36 [00:06<00:33,  1.12s/it]\u001b[A\n",
      " 19%|███████████████████                                                                               | 7/36 [00:07<00:32,  1.11s/it]\u001b[A\n",
      " 22%|█████████████████████▊                                                                            | 8/36 [00:08<00:31,  1.11s/it]\u001b[A\n",
      " 25%|████████████████████████▌                                                                         | 9/36 [00:10<00:30,  1.12s/it]\u001b[A\n",
      " 28%|██████████████████████████▉                                                                      | 10/36 [00:11<00:28,  1.10s/it]\u001b[A\n"
     ]
    },
    {
     "name": "stderr",
     "output_type": "stream",
     "text": [
      " 31%|█████████████████████████████▋                                                                   | 11/36 [00:12<00:27,  1.11s/it]\u001b[A\n",
      " 33%|████████████████████████████████▎                                                                | 12/36 [00:13<00:26,  1.11s/it]\u001b[A\n",
      " 36%|███████████████████████████████████                                                              | 13/36 [00:14<00:25,  1.11s/it]\u001b[A\n",
      " 39%|█████████████████████████████████████▋                                                           | 14/36 [00:15<00:24,  1.11s/it]\u001b[A\n",
      " 42%|████████████████████████████████████████▍                                                        | 15/36 [00:16<00:23,  1.11s/it]\u001b[A\n",
      " 44%|███████████████████████████████████████████                                                      | 16/36 [00:17<00:22,  1.10s/it]\u001b[A\n",
      " 47%|█████████████████████████████████████████████▊                                                   | 17/36 [00:18<00:20,  1.10s/it]\u001b[A\n",
      " 50%|████████████████████████████████████████████████▌                                                | 18/36 [00:19<00:19,  1.09s/it]\u001b[A\n",
      " 53%|███████████████████████████████████████████████████▏                                             | 19/36 [00:20<00:18,  1.09s/it]\u001b[A\n",
      " 56%|█████████████████████████████████████████████████████▉                                           | 20/36 [00:22<00:17,  1.10s/it]\u001b[A\n",
      " 58%|████████████████████████████████████████████████████████▌                                        | 21/36 [00:23<00:16,  1.09s/it]\u001b[A\n",
      " 61%|███████████████████████████████████████████████████████████▎                                     | 22/36 [00:24<00:15,  1.09s/it]\u001b[A\n",
      " 64%|█████████████████████████████████████████████████████████████▉                                   | 23/36 [00:25<00:14,  1.09s/it]\u001b[A\n",
      " 67%|████████████████████████████████████████████████████████████████▋                                | 24/36 [00:26<00:13,  1.08s/it]\u001b[A\n",
      " 69%|███████████████████████████████████████████████████████████████████▎                             | 25/36 [00:27<00:11,  1.09s/it]\u001b[A\n",
      " 72%|██████████████████████████████████████████████████████████████████████                           | 26/36 [00:28<00:10,  1.09s/it]\u001b[A\n",
      " 75%|████████████████████████████████████████████████████████████████████████▊                        | 27/36 [00:29<00:09,  1.09s/it]\u001b[A\n",
      " 78%|███████████████████████████████████████████████████████████████████████████▍                     | 28/36 [00:30<00:08,  1.10s/it]\u001b[A\n",
      " 81%|██████████████████████████████████████████████████████████████████████████████▏                  | 29/36 [00:31<00:07,  1.11s/it]\u001b[A\n",
      " 83%|████████████████████████████████████████████████████████████████████████████████▊                | 30/36 [00:33<00:06,  1.12s/it]\u001b[A\n",
      " 86%|███████████████████████████████████████████████████████████████████████████████████▌             | 31/36 [00:34<00:05,  1.11s/it]\u001b[A\n",
      " 89%|██████████████████████████████████████████████████████████████████████████████████████▏          | 32/36 [00:35<00:04,  1.11s/it]\u001b[A\n",
      " 92%|████████████████████████████████████████████████████████████████████████████████████████▉        | 33/36 [00:36<00:03,  1.11s/it]\u001b[A\n",
      " 94%|███████████████████████████████████████████████████████████████████████████████████████████▌     | 34/36 [00:37<00:02,  1.09s/it]\u001b[A\n",
      " 97%|██████████████████████████████████████████████████████████████████████████████████████████████▎  | 35/36 [00:38<00:01,  1.08s/it]\u001b[A\n",
      "100%|█████████████████████████████████████████████████████████████████████████████████████████████████| 36/36 [00:39<00:00,  1.10s/it]\u001b[A\n",
      " 50%|████████████████████████████████████████████████▌                                                | 10/20 [06:44<06:42, 40.28s/it]\n",
      "  0%|                                                                                                          | 0/36 [00:00<?, ?it/s]\u001b[A\n",
      "  3%|██▋                                                                                               | 1/36 [00:01<00:37,  1.06s/it]\u001b[A\n",
      "  6%|█████▍                                                                                            | 2/36 [00:02<00:36,  1.08s/it]\u001b[A\n",
      "  8%|████████▏                                                                                         | 3/36 [00:03<00:36,  1.11s/it]\u001b[A\n",
      " 11%|██████████▉                                                                                       | 4/36 [00:04<00:35,  1.11s/it]\u001b[A\n",
      " 14%|█████████████▌                                                                                    | 5/36 [00:05<00:34,  1.12s/it]\u001b[A\n",
      " 17%|████████████████▎                                                                                 | 6/36 [00:06<00:33,  1.12s/it]\u001b[A\n",
      " 19%|███████████████████                                                                               | 7/36 [00:07<00:32,  1.11s/it]\u001b[A\n",
      " 22%|█████████████████████▊                                                                            | 8/36 [00:08<00:30,  1.11s/it]\u001b[A\n",
      " 25%|████████████████████████▌                                                                         | 9/36 [00:09<00:30,  1.11s/it]\u001b[A\n",
      " 28%|██████████████████████████▉                                                                      | 10/36 [00:11<00:28,  1.11s/it]\u001b[A\n",
      " 31%|█████████████████████████████▋                                                                   | 11/36 [00:12<00:27,  1.11s/it]\u001b[A\n",
      " 33%|████████████████████████████████▎                                                                | 12/36 [00:13<00:26,  1.11s/it]\u001b[A\n",
      " 36%|███████████████████████████████████                                                              | 13/36 [00:14<00:25,  1.11s/it]\u001b[A\n",
      " 39%|█████████████████████████████████████▋                                                           | 14/36 [00:15<00:24,  1.11s/it]\u001b[A\n",
      " 42%|████████████████████████████████████████▍                                                        | 15/36 [00:16<00:23,  1.12s/it]\u001b[A\n",
      " 44%|███████████████████████████████████████████                                                      | 16/36 [00:17<00:22,  1.10s/it]\u001b[A\n",
      " 47%|█████████████████████████████████████████████▊                                                   | 17/36 [00:18<00:20,  1.10s/it]\u001b[A\n",
      " 50%|████████████████████████████████████████████████▌                                                | 18/36 [00:19<00:19,  1.10s/it]\u001b[A\n",
      " 53%|███████████████████████████████████████████████████▏                                             | 19/36 [00:21<00:18,  1.09s/it]\u001b[A\n",
      " 56%|█████████████████████████████████████████████████████▉                                           | 20/36 [00:22<00:17,  1.10s/it]\u001b[A\n",
      " 58%|████████████████████████████████████████████████████████▌                                        | 21/36 [00:23<00:16,  1.11s/it]\u001b[A\n",
      " 61%|███████████████████████████████████████████████████████████▎                                     | 22/36 [00:24<00:15,  1.10s/it]\u001b[A\n",
      " 64%|█████████████████████████████████████████████████████████████▉                                   | 23/36 [00:25<00:14,  1.09s/it]\u001b[A\n",
      " 67%|████████████████████████████████████████████████████████████████▋                                | 24/36 [00:26<00:13,  1.09s/it]\u001b[A\n",
      " 69%|███████████████████████████████████████████████████████████████████▎                             | 25/36 [00:27<00:11,  1.09s/it]\u001b[A\n",
      " 72%|██████████████████████████████████████████████████████████████████████                           | 26/36 [00:28<00:10,  1.09s/it]\u001b[A\n",
      " 75%|████████████████████████████████████████████████████████████████████████▊                        | 27/36 [00:29<00:09,  1.09s/it]\u001b[A\n",
      " 78%|███████████████████████████████████████████████████████████████████████████▍                     | 28/36 [00:30<00:08,  1.11s/it]\u001b[A\n",
      " 81%|██████████████████████████████████████████████████████████████████████████████▏                  | 29/36 [00:32<00:07,  1.10s/it]\u001b[A\n",
      " 83%|████████████████████████████████████████████████████████████████████████████████▊                | 30/36 [00:33<00:06,  1.13s/it]\u001b[A\n",
      " 86%|███████████████████████████████████████████████████████████████████████████████████▌             | 31/36 [00:34<00:05,  1.18s/it]\u001b[A\n"
     ]
    },
    {
     "name": "stderr",
     "output_type": "stream",
     "text": [
      " 89%|██████████████████████████████████████████████████████████████████████████████████████▏          | 32/36 [00:35<00:04,  1.16s/it]\u001b[A\n",
      " 92%|████████████████████████████████████████████████████████████████████████████████████████▉        | 33/36 [00:36<00:03,  1.15s/it]\u001b[A\n",
      " 94%|███████████████████████████████████████████████████████████████████████████████████████████▌     | 34/36 [00:37<00:02,  1.12s/it]\u001b[A\n",
      " 97%|██████████████████████████████████████████████████████████████████████████████████████████████▎  | 35/36 [00:38<00:01,  1.10s/it]\u001b[A\n",
      "100%|█████████████████████████████████████████████████████████████████████████████████████████████████| 36/36 [00:39<00:00,  1.11s/it]\u001b[A\n",
      " 55%|█████████████████████████████████████████████████████▎                                           | 11/20 [07:24<06:02, 40.27s/it]\n",
      "  0%|                                                                                                          | 0/36 [00:00<?, ?it/s]\u001b[A\n",
      "  3%|██▋                                                                                               | 1/36 [00:01<00:36,  1.04s/it]\u001b[A\n",
      "  6%|█████▍                                                                                            | 2/36 [00:02<00:36,  1.08s/it]\u001b[A\n",
      "  8%|████████▏                                                                                         | 3/36 [00:03<00:36,  1.10s/it]\u001b[A\n",
      " 11%|██████████▉                                                                                       | 4/36 [00:04<00:35,  1.11s/it]\u001b[A\n",
      " 14%|█████████████▌                                                                                    | 5/36 [00:05<00:34,  1.10s/it]\u001b[A\n",
      " 17%|████████████████▎                                                                                 | 6/36 [00:06<00:32,  1.10s/it]\u001b[A\n",
      " 19%|███████████████████                                                                               | 7/36 [00:07<00:31,  1.10s/it]\u001b[A\n",
      " 22%|█████████████████████▊                                                                            | 8/36 [00:08<00:30,  1.10s/it]\u001b[A\n",
      " 25%|████████████████████████▌                                                                         | 9/36 [00:09<00:29,  1.10s/it]\u001b[A\n",
      " 28%|██████████████████████████▉                                                                      | 10/36 [00:10<00:28,  1.10s/it]\u001b[A\n",
      " 31%|█████████████████████████████▋                                                                   | 11/36 [00:12<00:27,  1.10s/it]\u001b[A\n",
      " 33%|████████████████████████████████▎                                                                | 12/36 [00:13<00:26,  1.10s/it]\u001b[A\n",
      " 36%|███████████████████████████████████                                                              | 13/36 [00:14<00:25,  1.10s/it]\u001b[A\n",
      " 39%|█████████████████████████████████████▋                                                           | 14/36 [00:15<00:24,  1.10s/it]\u001b[A\n",
      " 42%|████████████████████████████████████████▍                                                        | 15/36 [00:16<00:23,  1.11s/it]\u001b[A\n",
      " 44%|███████████████████████████████████████████                                                      | 16/36 [00:17<00:21,  1.10s/it]\u001b[A\n",
      " 47%|█████████████████████████████████████████████▊                                                   | 17/36 [00:18<00:21,  1.11s/it]\u001b[A\n",
      " 50%|████████████████████████████████████████████████▌                                                | 18/36 [00:19<00:19,  1.10s/it]\u001b[A\n",
      " 53%|███████████████████████████████████████████████████▏                                             | 19/36 [00:20<00:18,  1.09s/it]\u001b[A\n",
      " 56%|█████████████████████████████████████████████████████▉                                           | 20/36 [00:21<00:17,  1.09s/it]\u001b[A\n",
      " 58%|████████████████████████████████████████████████████████▌                                        | 21/36 [00:23<00:16,  1.10s/it]\u001b[A\n",
      " 61%|███████████████████████████████████████████████████████████▎                                     | 22/36 [00:24<00:15,  1.10s/it]\u001b[A\n",
      " 64%|█████████████████████████████████████████████████████████████▉                                   | 23/36 [00:25<00:14,  1.10s/it]\u001b[A\n",
      " 67%|████████████████████████████████████████████████████████████████▋                                | 24/36 [00:26<00:13,  1.10s/it]\u001b[A\n",
      " 69%|███████████████████████████████████████████████████████████████████▎                             | 25/36 [00:27<00:11,  1.08s/it]\u001b[A\n",
      " 72%|██████████████████████████████████████████████████████████████████████                           | 26/36 [00:28<00:10,  1.09s/it]\u001b[A\n",
      " 75%|████████████████████████████████████████████████████████████████████████▊                        | 27/36 [00:29<00:09,  1.10s/it]\u001b[A\n",
      " 78%|███████████████████████████████████████████████████████████████████████████▍                     | 28/36 [00:30<00:08,  1.11s/it]\u001b[A\n",
      " 81%|██████████████████████████████████████████████████████████████████████████████▏                  | 29/36 [00:31<00:07,  1.11s/it]\u001b[A\n",
      " 83%|████████████████████████████████████████████████████████████████████████████████▊                | 30/36 [00:33<00:06,  1.12s/it]\u001b[A\n",
      " 86%|███████████████████████████████████████████████████████████████████████████████████▌             | 31/36 [00:34<00:05,  1.12s/it]\u001b[A\n",
      " 89%|██████████████████████████████████████████████████████████████████████████████████████▏          | 32/36 [00:35<00:04,  1.11s/it]\u001b[A\n",
      " 92%|████████████████████████████████████████████████████████████████████████████████████████▉        | 33/36 [00:36<00:03,  1.11s/it]\u001b[A\n",
      " 94%|███████████████████████████████████████████████████████████████████████████████████████████▌     | 34/36 [00:37<00:02,  1.09s/it]\u001b[A\n",
      " 97%|██████████████████████████████████████████████████████████████████████████████████████████████▎  | 35/36 [00:38<00:01,  1.08s/it]\u001b[A\n",
      "100%|█████████████████████████████████████████████████████████████████████████████████████████████████| 36/36 [00:39<00:00,  1.10s/it]\u001b[A\n",
      " 60%|██████████████████████████████████████████████████████████▏                                      | 12/20 [08:04<05:21, 40.15s/it]\n",
      "  0%|                                                                                                          | 0/36 [00:00<?, ?it/s]\u001b[A\n",
      "  3%|██▋                                                                                               | 1/36 [00:01<00:37,  1.08s/it]\u001b[A\n",
      "  6%|█████▍                                                                                            | 2/36 [00:02<00:37,  1.09s/it]\u001b[A\n",
      "  8%|████████▏                                                                                         | 3/36 [00:03<00:36,  1.11s/it]\u001b[A\n",
      " 11%|██████████▉                                                                                       | 4/36 [00:04<00:35,  1.12s/it]\u001b[A\n",
      " 14%|█████████████▌                                                                                    | 5/36 [00:05<00:34,  1.12s/it]\u001b[A\n",
      " 17%|████████████████▎                                                                                 | 6/36 [00:06<00:33,  1.11s/it]\u001b[A\n",
      " 19%|███████████████████                                                                               | 7/36 [00:07<00:32,  1.11s/it]\u001b[A\n",
      " 22%|█████████████████████▊                                                                            | 8/36 [00:08<00:31,  1.11s/it]\u001b[A\n",
      " 25%|████████████████████████▌                                                                         | 9/36 [00:10<00:30,  1.12s/it]\u001b[A\n",
      " 28%|██████████████████████████▉                                                                      | 10/36 [00:11<00:28,  1.11s/it]\u001b[A\n",
      " 31%|█████████████████████████████▋                                                                   | 11/36 [00:12<00:27,  1.12s/it]\u001b[A\n",
      " 33%|████████████████████████████████▎                                                                | 12/36 [00:13<00:26,  1.11s/it]\u001b[A\n",
      " 36%|███████████████████████████████████                                                              | 13/36 [00:14<00:25,  1.11s/it]\u001b[A\n",
      " 39%|█████████████████████████████████████▋                                                           | 14/36 [00:15<00:24,  1.12s/it]\u001b[A\n"
     ]
    },
    {
     "name": "stderr",
     "output_type": "stream",
     "text": [
      " 42%|████████████████████████████████████████▍                                                        | 15/36 [00:16<00:23,  1.13s/it]\u001b[A\n",
      " 44%|███████████████████████████████████████████                                                      | 16/36 [00:17<00:22,  1.11s/it]\u001b[A\n",
      " 47%|█████████████████████████████████████████████▊                                                   | 17/36 [00:18<00:21,  1.11s/it]\u001b[A\n",
      " 50%|████████████████████████████████████████████████▌                                                | 18/36 [00:20<00:19,  1.10s/it]\u001b[A\n",
      " 53%|███████████████████████████████████████████████████▏                                             | 19/36 [00:21<00:18,  1.10s/it]\u001b[A\n",
      " 56%|█████████████████████████████████████████████████████▉                                           | 20/36 [00:22<00:17,  1.10s/it]\u001b[A\n",
      " 58%|████████████████████████████████████████████████████████▌                                        | 21/36 [00:23<00:16,  1.11s/it]\u001b[A\n",
      " 61%|███████████████████████████████████████████████████████████▎                                     | 22/36 [00:24<00:15,  1.11s/it]\u001b[A\n",
      " 64%|█████████████████████████████████████████████████████████████▉                                   | 23/36 [00:25<00:14,  1.10s/it]\u001b[A\n",
      " 67%|████████████████████████████████████████████████████████████████▋                                | 24/36 [00:26<00:13,  1.09s/it]\u001b[A\n",
      " 69%|███████████████████████████████████████████████████████████████████▎                             | 25/36 [00:27<00:11,  1.09s/it]\u001b[A\n",
      " 72%|██████████████████████████████████████████████████████████████████████                           | 26/36 [00:28<00:11,  1.10s/it]\u001b[A\n",
      " 75%|████████████████████████████████████████████████████████████████████████▊                        | 27/36 [00:29<00:09,  1.10s/it]\u001b[A\n",
      " 78%|███████████████████████████████████████████████████████████████████████████▍                     | 28/36 [00:31<00:08,  1.12s/it]\u001b[A\n",
      " 81%|██████████████████████████████████████████████████████████████████████████████▏                  | 29/36 [00:32<00:07,  1.12s/it]\u001b[A\n",
      " 83%|████████████████████████████████████████████████████████████████████████████████▊                | 30/36 [00:33<00:06,  1.14s/it]\u001b[A\n",
      " 86%|███████████████████████████████████████████████████████████████████████████████████▌             | 31/36 [00:34<00:05,  1.14s/it]\u001b[A\n",
      " 89%|██████████████████████████████████████████████████████████████████████████████████████▏          | 32/36 [00:35<00:04,  1.13s/it]\u001b[A\n",
      " 92%|████████████████████████████████████████████████████████████████████████████████████████▉        | 33/36 [00:36<00:03,  1.13s/it]\u001b[A\n",
      " 94%|███████████████████████████████████████████████████████████████████████████████████████████▌     | 34/36 [00:37<00:02,  1.12s/it]\u001b[A\n",
      " 97%|██████████████████████████████████████████████████████████████████████████████████████████████▎  | 35/36 [00:38<00:01,  1.10s/it]\u001b[A\n",
      "100%|█████████████████████████████████████████████████████████████████████████████████████████████████| 36/36 [00:40<00:00,  1.11s/it]\u001b[A\n",
      " 65%|███████████████████████████████████████████████████████████████                                  | 13/20 [08:45<04:41, 40.21s/it]\n",
      "  0%|                                                                                                          | 0/36 [00:00<?, ?it/s]\u001b[A\n",
      "  3%|██▋                                                                                               | 1/36 [00:01<00:37,  1.07s/it]\u001b[A\n",
      "  6%|█████▍                                                                                            | 2/36 [00:02<00:37,  1.09s/it]\u001b[A\n",
      "  8%|████████▏                                                                                         | 3/36 [00:03<00:36,  1.11s/it]\u001b[A\n",
      " 11%|██████████▉                                                                                       | 4/36 [00:04<00:35,  1.11s/it]\u001b[A\n",
      " 14%|█████████████▌                                                                                    | 5/36 [00:05<00:34,  1.12s/it]\u001b[A\n",
      " 17%|████████████████▎                                                                                 | 6/36 [00:06<00:33,  1.12s/it]\u001b[A\n",
      " 19%|███████████████████                                                                               | 7/36 [00:07<00:32,  1.12s/it]\u001b[A\n",
      " 22%|█████████████████████▊                                                                            | 8/36 [00:08<00:31,  1.12s/it]\u001b[A\n",
      " 25%|████████████████████████▌                                                                         | 9/36 [00:10<00:30,  1.13s/it]\u001b[A\n",
      " 28%|██████████████████████████▉                                                                      | 10/36 [00:11<00:29,  1.12s/it]\u001b[A\n",
      " 31%|█████████████████████████████▋                                                                   | 11/36 [00:12<00:28,  1.12s/it]\u001b[A\n",
      " 33%|████████████████████████████████▎                                                                | 12/36 [00:13<00:26,  1.12s/it]\u001b[A\n",
      " 36%|███████████████████████████████████                                                              | 13/36 [00:14<00:25,  1.12s/it]\u001b[A\n",
      " 39%|█████████████████████████████████████▋                                                           | 14/36 [00:15<00:24,  1.12s/it]\u001b[A\n",
      " 42%|████████████████████████████████████████▍                                                        | 15/36 [00:16<00:23,  1.13s/it]\u001b[A\n",
      " 44%|███████████████████████████████████████████                                                      | 16/36 [00:17<00:22,  1.12s/it]\u001b[A\n",
      " 47%|█████████████████████████████████████████████▊                                                   | 17/36 [00:19<00:21,  1.13s/it]\u001b[A\n",
      " 50%|████████████████████████████████████████████████▌                                                | 18/36 [00:20<00:20,  1.13s/it]\u001b[A\n",
      " 53%|███████████████████████████████████████████████████▏                                             | 19/36 [00:21<00:19,  1.13s/it]\u001b[A\n",
      " 56%|█████████████████████████████████████████████████████▉                                           | 20/36 [00:22<00:18,  1.13s/it]\u001b[A\n",
      " 58%|████████████████████████████████████████████████████████▌                                        | 21/36 [00:23<00:17,  1.14s/it]\u001b[A\n",
      " 61%|███████████████████████████████████████████████████████████▎                                     | 22/36 [00:24<00:16,  1.15s/it]\u001b[A\n",
      " 64%|█████████████████████████████████████████████████████████████▉                                   | 23/36 [00:25<00:14,  1.13s/it]\u001b[A\n",
      " 67%|████████████████████████████████████████████████████████████████▋                                | 24/36 [00:27<00:13,  1.13s/it]\u001b[A\n",
      " 69%|███████████████████████████████████████████████████████████████████▎                             | 25/36 [00:28<00:12,  1.12s/it]\u001b[A\n",
      " 72%|██████████████████████████████████████████████████████████████████████                           | 26/36 [00:29<00:11,  1.14s/it]\u001b[A\n",
      " 75%|████████████████████████████████████████████████████████████████████████▊                        | 27/36 [00:30<00:10,  1.14s/it]\u001b[A\n",
      " 78%|███████████████████████████████████████████████████████████████████████████▍                     | 28/36 [00:31<00:09,  1.15s/it]\u001b[A\n",
      " 81%|██████████████████████████████████████████████████████████████████████████████▏                  | 29/36 [00:32<00:08,  1.16s/it]\u001b[A\n",
      " 83%|████████████████████████████████████████████████████████████████████████████████▊                | 30/36 [00:34<00:07,  1.20s/it]\u001b[A\n",
      " 86%|███████████████████████████████████████████████████████████████████████████████████▌             | 31/36 [00:35<00:05,  1.19s/it]\u001b[A\n",
      " 89%|██████████████████████████████████████████████████████████████████████████████████████▏          | 32/36 [00:36<00:04,  1.17s/it]\u001b[A\n",
      " 92%|████████████████████████████████████████████████████████████████████████████████████████▉        | 33/36 [00:37<00:03,  1.16s/it]\u001b[A\n",
      " 94%|███████████████████████████████████████████████████████████████████████████████████████████▌     | 34/36 [00:38<00:02,  1.14s/it]\u001b[A\n",
      " 97%|██████████████████████████████████████████████████████████████████████████████████████████████▎  | 35/36 [00:39<00:01,  1.13s/it]\u001b[A\n"
     ]
    },
    {
     "name": "stderr",
     "output_type": "stream",
     "text": [
      "100%|█████████████████████████████████████████████████████████████████████████████████████████████████| 36/36 [00:40<00:00,  1.14s/it]\u001b[A\n",
      " 70%|███████████████████████████████████████████████████████████████████▉                             | 14/20 [09:26<04:03, 40.50s/it]\n",
      "  0%|                                                                                                          | 0/36 [00:00<?, ?it/s]\u001b[A\n",
      "  3%|██▋                                                                                               | 1/36 [00:01<00:35,  1.02s/it]\u001b[A\n",
      "  6%|█████▍                                                                                            | 2/36 [00:02<00:36,  1.07s/it]\u001b[A\n",
      "  8%|████████▏                                                                                         | 3/36 [00:03<00:36,  1.09s/it]\u001b[A\n",
      " 11%|██████████▉                                                                                       | 4/36 [00:04<00:35,  1.10s/it]\u001b[A\n",
      " 14%|█████████████▌                                                                                    | 5/36 [00:05<00:34,  1.11s/it]\u001b[A\n",
      " 17%|████████████████▎                                                                                 | 6/36 [00:06<00:33,  1.11s/it]\u001b[A\n",
      " 19%|███████████████████                                                                               | 7/36 [00:07<00:32,  1.11s/it]\u001b[A\n",
      " 22%|█████████████████████▊                                                                            | 8/36 [00:08<00:31,  1.13s/it]\u001b[A\n",
      " 25%|████████████████████████▌                                                                         | 9/36 [00:10<00:30,  1.13s/it]\u001b[A\n",
      " 28%|██████████████████████████▉                                                                      | 10/36 [00:11<00:29,  1.12s/it]\u001b[A\n",
      " 31%|█████████████████████████████▋                                                                   | 11/36 [00:12<00:28,  1.12s/it]\u001b[A\n",
      " 33%|████████████████████████████████▎                                                                | 12/36 [00:13<00:26,  1.12s/it]\u001b[A\n",
      " 36%|███████████████████████████████████                                                              | 13/36 [00:14<00:25,  1.13s/it]\u001b[A\n",
      " 39%|█████████████████████████████████████▋                                                           | 14/36 [00:15<00:24,  1.13s/it]\u001b[A\n",
      " 42%|████████████████████████████████████████▍                                                        | 15/36 [00:16<00:23,  1.13s/it]\u001b[A\n",
      " 44%|███████████████████████████████████████████                                                      | 16/36 [00:17<00:22,  1.12s/it]\u001b[A\n",
      " 47%|█████████████████████████████████████████████▊                                                   | 17/36 [00:18<00:21,  1.12s/it]\u001b[A\n",
      " 50%|████████████████████████████████████████████████▌                                                | 18/36 [00:20<00:19,  1.11s/it]\u001b[A\n",
      " 53%|███████████████████████████████████████████████████▏                                             | 19/36 [00:21<00:18,  1.11s/it]\u001b[A\n",
      " 56%|█████████████████████████████████████████████████████▉                                           | 20/36 [00:22<00:17,  1.12s/it]\u001b[A\n",
      " 58%|████████████████████████████████████████████████████████▌                                        | 21/36 [00:23<00:16,  1.13s/it]\u001b[A\n",
      " 61%|███████████████████████████████████████████████████████████▎                                     | 22/36 [00:24<00:15,  1.13s/it]\u001b[A\n",
      " 64%|█████████████████████████████████████████████████████████████▉                                   | 23/36 [00:25<00:14,  1.12s/it]\u001b[A\n",
      " 67%|████████████████████████████████████████████████████████████████▋                                | 24/36 [00:26<00:13,  1.12s/it]\u001b[A\n",
      " 69%|███████████████████████████████████████████████████████████████████▎                             | 25/36 [00:27<00:12,  1.11s/it]\u001b[A\n",
      " 72%|██████████████████████████████████████████████████████████████████████                           | 26/36 [00:29<00:11,  1.12s/it]\u001b[A\n",
      " 75%|████████████████████████████████████████████████████████████████████████▊                        | 27/36 [00:30<00:10,  1.12s/it]\u001b[A\n",
      " 78%|███████████████████████████████████████████████████████████████████████████▍                     | 28/36 [00:31<00:09,  1.13s/it]\u001b[A\n",
      " 81%|██████████████████████████████████████████████████████████████████████████████▏                  | 29/36 [00:32<00:07,  1.13s/it]\u001b[A\n",
      " 83%|████████████████████████████████████████████████████████████████████████████████▊                | 30/36 [00:33<00:06,  1.14s/it]\u001b[A\n",
      " 86%|███████████████████████████████████████████████████████████████████████████████████▌             | 31/36 [00:34<00:05,  1.13s/it]\u001b[A\n",
      " 89%|██████████████████████████████████████████████████████████████████████████████████████▏          | 32/36 [00:35<00:04,  1.13s/it]\u001b[A\n",
      " 92%|████████████████████████████████████████████████████████████████████████████████████████▉        | 33/36 [00:36<00:03,  1.13s/it]\u001b[A\n",
      " 94%|███████████████████████████████████████████████████████████████████████████████████████████▌     | 34/36 [00:38<00:02,  1.11s/it]\u001b[A\n",
      " 97%|██████████████████████████████████████████████████████████████████████████████████████████████▎  | 35/36 [00:39<00:01,  1.11s/it]\u001b[A\n",
      "100%|█████████████████████████████████████████████████████████████████████████████████████████████████| 36/36 [00:40<00:00,  1.12s/it]\u001b[A\n",
      " 75%|████████████████████████████████████████████████████████████████████████▊                        | 15/20 [10:06<03:22, 40.51s/it]\n",
      "  0%|                                                                                                          | 0/36 [00:00<?, ?it/s]\u001b[A\n",
      "  3%|██▋                                                                                               | 1/36 [00:01<00:37,  1.06s/it]\u001b[A\n",
      "  6%|█████▍                                                                                            | 2/36 [00:02<00:37,  1.10s/it]\u001b[A\n",
      "  8%|████████▏                                                                                         | 3/36 [00:03<00:37,  1.12s/it]\u001b[A\n",
      " 11%|██████████▉                                                                                       | 4/36 [00:04<00:35,  1.11s/it]\u001b[A\n",
      " 14%|█████████████▌                                                                                    | 5/36 [00:05<00:34,  1.11s/it]\u001b[A\n",
      " 17%|████████████████▎                                                                                 | 6/36 [00:06<00:33,  1.11s/it]\u001b[A\n",
      " 19%|███████████████████                                                                               | 7/36 [00:07<00:32,  1.11s/it]\u001b[A\n",
      " 22%|█████████████████████▊                                                                            | 8/36 [00:08<00:31,  1.11s/it]\u001b[A\n",
      " 25%|████████████████████████▌                                                                         | 9/36 [00:10<00:30,  1.12s/it]\u001b[A\n",
      " 28%|██████████████████████████▉                                                                      | 10/36 [00:11<00:28,  1.11s/it]\u001b[A\n",
      " 31%|█████████████████████████████▋                                                                   | 11/36 [00:12<00:28,  1.12s/it]\u001b[A\n",
      " 33%|████████████████████████████████▎                                                                | 12/36 [00:13<00:27,  1.13s/it]\u001b[A\n",
      " 36%|███████████████████████████████████                                                              | 13/36 [00:14<00:25,  1.13s/it]\u001b[A\n",
      " 39%|█████████████████████████████████████▋                                                           | 14/36 [00:15<00:24,  1.12s/it]\u001b[A\n",
      " 42%|████████████████████████████████████████▍                                                        | 15/36 [00:16<00:23,  1.13s/it]\u001b[A\n",
      " 44%|███████████████████████████████████████████                                                      | 16/36 [00:17<00:22,  1.12s/it]\u001b[A\n",
      " 47%|█████████████████████████████████████████████▊                                                   | 17/36 [00:18<00:21,  1.12s/it]\u001b[A\n",
      " 50%|████████████████████████████████████████████████▌                                                | 18/36 [00:20<00:20,  1.11s/it]\u001b[A\n"
     ]
    },
    {
     "name": "stderr",
     "output_type": "stream",
     "text": [
      " 53%|███████████████████████████████████████████████████▏                                             | 19/36 [00:21<00:18,  1.10s/it]\u001b[A\n",
      " 56%|█████████████████████████████████████████████████████▉                                           | 20/36 [00:22<00:17,  1.12s/it]\u001b[A\n",
      " 58%|████████████████████████████████████████████████████████▌                                        | 21/36 [00:23<00:16,  1.13s/it]\u001b[A\n",
      " 61%|███████████████████████████████████████████████████████████▎                                     | 22/36 [00:24<00:15,  1.11s/it]\u001b[A\n",
      " 64%|█████████████████████████████████████████████████████████████▉                                   | 23/36 [00:25<00:14,  1.10s/it]\u001b[A\n",
      " 67%|████████████████████████████████████████████████████████████████▋                                | 24/36 [00:26<00:13,  1.10s/it]\u001b[A\n",
      " 69%|███████████████████████████████████████████████████████████████████▎                             | 25/36 [00:27<00:11,  1.08s/it]\u001b[A\n",
      " 72%|██████████████████████████████████████████████████████████████████████                           | 26/36 [00:28<00:10,  1.09s/it]\u001b[A\n",
      " 75%|████████████████████████████████████████████████████████████████████████▊                        | 27/36 [00:29<00:09,  1.09s/it]\u001b[A\n",
      " 78%|███████████████████████████████████████████████████████████████████████████▍                     | 28/36 [00:31<00:08,  1.09s/it]\u001b[A\n",
      " 81%|██████████████████████████████████████████████████████████████████████████████▏                  | 29/36 [00:32<00:07,  1.10s/it]\u001b[A\n",
      " 83%|████████████████████████████████████████████████████████████████████████████████▊                | 30/36 [00:33<00:06,  1.12s/it]\u001b[A\n",
      " 86%|███████████████████████████████████████████████████████████████████████████████████▌             | 31/36 [00:34<00:05,  1.12s/it]\u001b[A\n",
      " 89%|██████████████████████████████████████████████████████████████████████████████████████▏          | 32/36 [00:35<00:04,  1.11s/it]\u001b[A\n",
      " 92%|████████████████████████████████████████████████████████████████████████████████████████▉        | 33/36 [00:36<00:03,  1.11s/it]\u001b[A\n",
      " 94%|███████████████████████████████████████████████████████████████████████████████████████████▌     | 34/36 [00:37<00:02,  1.09s/it]\u001b[A\n",
      " 97%|██████████████████████████████████████████████████████████████████████████████████████████████▎  | 35/36 [00:38<00:01,  1.08s/it]\u001b[A\n",
      "100%|█████████████████████████████████████████████████████████████████████████████████████████████████| 36/36 [00:39<00:00,  1.11s/it]\u001b[A\n",
      " 80%|█████████████████████████████████████████████████████████████████████████████▌                   | 16/20 [10:47<02:41, 40.40s/it]\n",
      "  0%|                                                                                                          | 0/36 [00:00<?, ?it/s]\u001b[A\n",
      "  3%|██▋                                                                                               | 1/36 [00:01<00:37,  1.08s/it]\u001b[A\n",
      "  6%|█████▍                                                                                            | 2/36 [00:02<00:37,  1.11s/it]\u001b[A\n",
      "  8%|████████▏                                                                                         | 3/36 [00:03<00:37,  1.13s/it]\u001b[A\n",
      " 11%|██████████▉                                                                                       | 4/36 [00:04<00:36,  1.13s/it]\u001b[A\n",
      " 14%|█████████████▌                                                                                    | 5/36 [00:05<00:34,  1.12s/it]\u001b[A\n",
      " 17%|████████████████▎                                                                                 | 6/36 [00:06<00:33,  1.13s/it]\u001b[A\n",
      " 19%|███████████████████                                                                               | 7/36 [00:07<00:32,  1.13s/it]\u001b[A\n",
      " 22%|█████████████████████▊                                                                            | 8/36 [00:09<00:31,  1.14s/it]\u001b[A\n",
      " 25%|████████████████████████▌                                                                         | 9/36 [00:10<00:30,  1.13s/it]\u001b[A\n",
      " 28%|██████████████████████████▉                                                                      | 10/36 [00:11<00:29,  1.12s/it]\u001b[A\n",
      " 31%|█████████████████████████████▋                                                                   | 11/36 [00:12<00:28,  1.12s/it]\u001b[A\n",
      " 33%|████████████████████████████████▎                                                                | 12/36 [00:13<00:26,  1.12s/it]\u001b[A\n",
      " 36%|███████████████████████████████████                                                              | 13/36 [00:14<00:25,  1.13s/it]\u001b[A\n",
      " 39%|█████████████████████████████████████▋                                                           | 14/36 [00:15<00:24,  1.12s/it]\u001b[A\n",
      " 42%|████████████████████████████████████████▍                                                        | 15/36 [00:16<00:23,  1.13s/it]\u001b[A\n",
      " 44%|███████████████████████████████████████████                                                      | 16/36 [00:17<00:22,  1.12s/it]\u001b[A\n",
      " 47%|█████████████████████████████████████████████▊                                                   | 17/36 [00:19<00:21,  1.12s/it]\u001b[A\n",
      " 50%|████████████████████████████████████████████████▌                                                | 18/36 [00:20<00:20,  1.12s/it]\u001b[A\n",
      " 53%|███████████████████████████████████████████████████▏                                             | 19/36 [00:21<00:19,  1.12s/it]\u001b[A\n",
      " 56%|█████████████████████████████████████████████████████▉                                           | 20/36 [00:22<00:18,  1.13s/it]\u001b[A\n",
      " 58%|████████████████████████████████████████████████████████▌                                        | 21/36 [00:23<00:17,  1.14s/it]\u001b[A\n",
      " 61%|███████████████████████████████████████████████████████████▎                                     | 22/36 [00:24<00:15,  1.14s/it]\u001b[A\n",
      " 64%|█████████████████████████████████████████████████████████████▉                                   | 23/36 [00:25<00:14,  1.13s/it]\u001b[A\n",
      " 67%|████████████████████████████████████████████████████████████████▋                                | 24/36 [00:27<00:13,  1.12s/it]\u001b[A\n",
      " 69%|███████████████████████████████████████████████████████████████████▎                             | 25/36 [00:28<00:12,  1.11s/it]\u001b[A\n",
      " 72%|██████████████████████████████████████████████████████████████████████                           | 26/36 [00:29<00:11,  1.12s/it]\u001b[A\n",
      " 75%|████████████████████████████████████████████████████████████████████████▊                        | 27/36 [00:30<00:10,  1.13s/it]\u001b[A\n",
      " 78%|███████████████████████████████████████████████████████████████████████████▍                     | 28/36 [00:31<00:09,  1.19s/it]\u001b[A\n",
      " 81%|██████████████████████████████████████████████████████████████████████████████▏                  | 29/36 [00:32<00:08,  1.17s/it]\u001b[A\n",
      " 83%|████████████████████████████████████████████████████████████████████████████████▊                | 30/36 [00:34<00:07,  1.18s/it]\u001b[A\n",
      " 86%|███████████████████████████████████████████████████████████████████████████████████▌             | 31/36 [00:35<00:05,  1.17s/it]\u001b[A\n",
      " 89%|██████████████████████████████████████████████████████████████████████████████████████▏          | 32/36 [00:36<00:04,  1.15s/it]\u001b[A\n",
      " 92%|████████████████████████████████████████████████████████████████████████████████████████▉        | 33/36 [00:37<00:03,  1.14s/it]\u001b[A\n",
      " 94%|███████████████████████████████████████████████████████████████████████████████████████████▌     | 34/36 [00:38<00:02,  1.12s/it]\u001b[A\n",
      " 97%|██████████████████████████████████████████████████████████████████████████████████████████████▎  | 35/36 [00:39<00:01,  1.12s/it]\u001b[A\n",
      "100%|█████████████████████████████████████████████████████████████████████████████████████████████████| 36/36 [00:40<00:00,  1.13s/it]\u001b[A\n",
      " 85%|██████████████████████████████████████████████████████████████████████████████████▍              | 17/20 [11:28<02:01, 40.59s/it]\n",
      "  0%|                                                                                                          | 0/36 [00:00<?, ?it/s]\u001b[A\n",
      "  3%|██▋                                                                                               | 1/36 [00:01<00:36,  1.06s/it]\u001b[A\n"
     ]
    },
    {
     "name": "stderr",
     "output_type": "stream",
     "text": [
      "  6%|█████▍                                                                                            | 2/36 [00:02<00:36,  1.09s/it]\u001b[A\n",
      "  8%|████████▏                                                                                         | 3/36 [00:03<00:36,  1.10s/it]\u001b[A\n",
      " 11%|██████████▉                                                                                       | 4/36 [00:04<00:35,  1.10s/it]\u001b[A\n",
      " 14%|█████████████▌                                                                                    | 5/36 [00:05<00:34,  1.11s/it]\u001b[A\n",
      " 17%|████████████████▎                                                                                 | 6/36 [00:06<00:33,  1.10s/it]\u001b[A\n",
      " 19%|███████████████████                                                                               | 7/36 [00:07<00:31,  1.10s/it]\u001b[A\n",
      " 22%|█████████████████████▊                                                                            | 8/36 [00:08<00:30,  1.10s/it]\u001b[A\n",
      " 25%|████████████████████████▌                                                                         | 9/36 [00:09<00:29,  1.10s/it]\u001b[A\n",
      " 28%|██████████████████████████▉                                                                      | 10/36 [00:10<00:28,  1.09s/it]\u001b[A\n",
      " 31%|█████████████████████████████▋                                                                   | 11/36 [00:12<00:27,  1.10s/it]\u001b[A\n",
      " 33%|████████████████████████████████▎                                                                | 12/36 [00:13<00:26,  1.10s/it]\u001b[A\n",
      " 36%|███████████████████████████████████                                                              | 13/36 [00:14<00:25,  1.10s/it]\u001b[A\n",
      " 39%|█████████████████████████████████████▋                                                           | 14/36 [00:15<00:24,  1.10s/it]\u001b[A\n",
      " 42%|████████████████████████████████████████▍                                                        | 15/36 [00:16<00:23,  1.10s/it]\u001b[A\n",
      " 44%|███████████████████████████████████████████                                                      | 16/36 [00:17<00:21,  1.10s/it]\u001b[A\n",
      " 47%|█████████████████████████████████████████████▊                                                   | 17/36 [00:18<00:20,  1.10s/it]\u001b[A\n",
      " 50%|████████████████████████████████████████████████▌                                                | 18/36 [00:19<00:19,  1.09s/it]\u001b[A\n",
      " 53%|███████████████████████████████████████████████████▏                                             | 19/36 [00:20<00:18,  1.09s/it]\u001b[A\n",
      " 56%|█████████████████████████████████████████████████████▉                                           | 20/36 [00:21<00:17,  1.10s/it]\u001b[A\n",
      " 58%|████████████████████████████████████████████████████████▌                                        | 21/36 [00:23<00:16,  1.11s/it]\u001b[A\n",
      " 61%|███████████████████████████████████████████████████████████▎                                     | 22/36 [00:24<00:15,  1.10s/it]\u001b[A\n",
      " 64%|█████████████████████████████████████████████████████████████▉                                   | 23/36 [00:25<00:14,  1.10s/it]\u001b[A\n",
      " 67%|████████████████████████████████████████████████████████████████▋                                | 24/36 [00:26<00:13,  1.09s/it]\u001b[A\n",
      " 69%|███████████████████████████████████████████████████████████████████▎                             | 25/36 [00:27<00:11,  1.08s/it]\u001b[A\n",
      " 72%|██████████████████████████████████████████████████████████████████████                           | 26/36 [00:28<00:10,  1.09s/it]\u001b[A\n",
      " 75%|████████████████████████████████████████████████████████████████████████▊                        | 27/36 [00:29<00:09,  1.09s/it]\u001b[A\n",
      " 78%|███████████████████████████████████████████████████████████████████████████▍                     | 28/36 [00:30<00:08,  1.10s/it]\u001b[A\n",
      " 81%|██████████████████████████████████████████████████████████████████████████████▏                  | 29/36 [00:31<00:07,  1.11s/it]\u001b[A\n",
      " 83%|████████████████████████████████████████████████████████████████████████████████▊                | 30/36 [00:32<00:06,  1.12s/it]\u001b[A\n",
      " 86%|███████████████████████████████████████████████████████████████████████████████████▌             | 31/36 [00:34<00:05,  1.13s/it]\u001b[A\n",
      " 89%|██████████████████████████████████████████████████████████████████████████████████████▏          | 32/36 [00:35<00:04,  1.11s/it]\u001b[A\n",
      " 92%|████████████████████████████████████████████████████████████████████████████████████████▉        | 33/36 [00:36<00:03,  1.11s/it]\u001b[A\n",
      " 94%|███████████████████████████████████████████████████████████████████████████████████████████▌     | 34/36 [00:37<00:02,  1.11s/it]\u001b[A\n",
      " 97%|██████████████████████████████████████████████████████████████████████████████████████████████▎  | 35/36 [00:38<00:01,  1.10s/it]\u001b[A\n",
      "100%|█████████████████████████████████████████████████████████████████████████████████████████████████| 36/36 [00:39<00:00,  1.10s/it]\u001b[A\n",
      " 90%|███████████████████████████████████████████████████████████████████████████████████████▎         | 18/20 [12:07<01:20, 40.39s/it]\n",
      "  0%|                                                                                                          | 0/36 [00:00<?, ?it/s]\u001b[A\n",
      "  3%|██▋                                                                                               | 1/36 [00:01<00:37,  1.06s/it]\u001b[A\n",
      "  6%|█████▍                                                                                            | 2/36 [00:02<00:37,  1.09s/it]\u001b[A\n",
      "  8%|████████▏                                                                                         | 3/36 [00:03<00:36,  1.11s/it]\u001b[A\n",
      " 11%|██████████▉                                                                                       | 4/36 [00:04<00:35,  1.11s/it]\u001b[A\n",
      " 14%|█████████████▌                                                                                    | 5/36 [00:05<00:34,  1.12s/it]\u001b[A\n",
      " 17%|████████████████▎                                                                                 | 6/36 [00:06<00:33,  1.12s/it]\u001b[A\n",
      " 19%|███████████████████                                                                               | 7/36 [00:07<00:32,  1.12s/it]\u001b[A\n",
      " 22%|█████████████████████▊                                                                            | 8/36 [00:08<00:31,  1.13s/it]\u001b[A\n",
      " 25%|████████████████████████▌                                                                         | 9/36 [00:10<00:30,  1.13s/it]\u001b[A\n",
      " 28%|██████████████████████████▉                                                                      | 10/36 [00:11<00:29,  1.12s/it]\u001b[A\n",
      " 31%|█████████████████████████████▋                                                                   | 11/36 [00:12<00:28,  1.12s/it]\u001b[A\n",
      " 33%|████████████████████████████████▎                                                                | 12/36 [00:13<00:26,  1.12s/it]\u001b[A\n",
      " 36%|███████████████████████████████████                                                              | 13/36 [00:14<00:25,  1.12s/it]\u001b[A\n",
      " 39%|█████████████████████████████████████▋                                                           | 14/36 [00:15<00:24,  1.12s/it]\u001b[A\n",
      " 42%|████████████████████████████████████████▍                                                        | 15/36 [00:16<00:23,  1.12s/it]\u001b[A\n",
      " 44%|███████████████████████████████████████████                                                      | 16/36 [00:17<00:22,  1.11s/it]\u001b[A\n",
      " 47%|█████████████████████████████████████████████▊                                                   | 17/36 [00:18<00:21,  1.12s/it]\u001b[A\n",
      " 50%|████████████████████████████████████████████████▌                                                | 18/36 [00:20<00:19,  1.10s/it]\u001b[A\n",
      " 53%|███████████████████████████████████████████████████▏                                             | 19/36 [00:21<00:18,  1.11s/it]\u001b[A\n",
      " 56%|█████████████████████████████████████████████████████▉                                           | 20/36 [00:22<00:18,  1.13s/it]\u001b[A\n",
      " 58%|████████████████████████████████████████████████████████▌                                        | 21/36 [00:23<00:16,  1.13s/it]\u001b[A\n",
      " 61%|███████████████████████████████████████████████████████████▎                                     | 22/36 [00:24<00:15,  1.12s/it]\u001b[A\n"
     ]
    },
    {
     "name": "stderr",
     "output_type": "stream",
     "text": [
      " 64%|█████████████████████████████████████████████████████████████▉                                   | 23/36 [00:25<00:14,  1.11s/it]\u001b[A\n",
      " 67%|████████████████████████████████████████████████████████████████▋                                | 24/36 [00:26<00:13,  1.11s/it]\u001b[A\n",
      " 69%|███████████████████████████████████████████████████████████████████▎                             | 25/36 [00:27<00:12,  1.10s/it]\u001b[A\n",
      " 72%|██████████████████████████████████████████████████████████████████████                           | 26/36 [00:28<00:11,  1.11s/it]\u001b[A\n",
      " 75%|████████████████████████████████████████████████████████████████████████▊                        | 27/36 [00:30<00:09,  1.11s/it]\u001b[A\n",
      " 78%|███████████████████████████████████████████████████████████████████████████▍                     | 28/36 [00:31<00:08,  1.12s/it]\u001b[A\n",
      " 81%|██████████████████████████████████████████████████████████████████████████████▏                  | 29/36 [00:32<00:07,  1.12s/it]\u001b[A\n",
      " 83%|████████████████████████████████████████████████████████████████████████████████▊                | 30/36 [00:33<00:06,  1.13s/it]\u001b[A\n",
      " 86%|███████████████████████████████████████████████████████████████████████████████████▌             | 31/36 [00:34<00:05,  1.13s/it]\u001b[A\n",
      " 89%|██████████████████████████████████████████████████████████████████████████████████████▏          | 32/36 [00:35<00:04,  1.13s/it]\u001b[A\n",
      " 92%|████████████████████████████████████████████████████████████████████████████████████████▉        | 33/36 [00:36<00:03,  1.13s/it]\u001b[A\n",
      " 94%|███████████████████████████████████████████████████████████████████████████████████████████▌     | 34/36 [00:37<00:02,  1.12s/it]\u001b[A\n",
      " 97%|██████████████████████████████████████████████████████████████████████████████████████████████▎  | 35/36 [00:39<00:01,  1.11s/it]\u001b[A\n",
      "100%|█████████████████████████████████████████████████████████████████████████████████████████████████| 36/36 [00:40<00:00,  1.12s/it]\u001b[A\n",
      " 95%|████████████████████████████████████████████████████████████████████████████████████████████▏    | 19/20 [12:48<00:40, 40.41s/it]\n",
      "  0%|                                                                                                          | 0/36 [00:00<?, ?it/s]\u001b[A\n",
      "  3%|██▋                                                                                               | 1/36 [00:01<00:37,  1.07s/it]\u001b[A\n",
      "  6%|█████▍                                                                                            | 2/36 [00:02<00:37,  1.11s/it]\u001b[A\n",
      "  8%|████████▏                                                                                         | 3/36 [00:03<00:37,  1.13s/it]\u001b[A\n",
      " 11%|██████████▉                                                                                       | 4/36 [00:04<00:35,  1.12s/it]\u001b[A\n",
      " 14%|█████████████▌                                                                                    | 5/36 [00:05<00:34,  1.12s/it]\u001b[A\n",
      " 17%|████████████████▎                                                                                 | 6/36 [00:06<00:33,  1.13s/it]\u001b[A\n",
      " 19%|███████████████████                                                                               | 7/36 [00:07<00:32,  1.13s/it]\u001b[A\n",
      " 22%|█████████████████████▊                                                                            | 8/36 [00:08<00:31,  1.12s/it]\u001b[A\n",
      " 25%|████████████████████████▌                                                                         | 9/36 [00:10<00:30,  1.12s/it]\u001b[A\n",
      " 28%|██████████████████████████▉                                                                      | 10/36 [00:11<00:29,  1.13s/it]\u001b[A\n",
      " 31%|█████████████████████████████▋                                                                   | 11/36 [00:12<00:28,  1.13s/it]\u001b[A\n",
      " 33%|████████████████████████████████▎                                                                | 12/36 [00:13<00:27,  1.13s/it]\u001b[A\n",
      " 36%|███████████████████████████████████                                                              | 13/36 [00:14<00:26,  1.13s/it]\u001b[A\n",
      " 39%|█████████████████████████████████████▋                                                           | 14/36 [00:15<00:24,  1.12s/it]\u001b[A\n",
      " 42%|████████████████████████████████████████▍                                                        | 15/36 [00:16<00:23,  1.13s/it]\u001b[A\n",
      " 44%|███████████████████████████████████████████                                                      | 16/36 [00:17<00:22,  1.11s/it]\u001b[A\n",
      " 47%|█████████████████████████████████████████████▊                                                   | 17/36 [00:19<00:21,  1.11s/it]\u001b[A\n",
      " 50%|████████████████████████████████████████████████▌                                                | 18/36 [00:20<00:19,  1.11s/it]\u001b[A\n",
      " 53%|███████████████████████████████████████████████████▏                                             | 19/36 [00:21<00:18,  1.11s/it]\u001b[A\n",
      " 56%|█████████████████████████████████████████████████████▉                                           | 20/36 [00:22<00:17,  1.11s/it]\u001b[A\n",
      " 58%|████████████████████████████████████████████████████████▌                                        | 21/36 [00:23<00:16,  1.12s/it]\u001b[A\n",
      " 61%|███████████████████████████████████████████████████████████▎                                     | 22/36 [00:24<00:15,  1.12s/it]\u001b[A\n",
      " 64%|█████████████████████████████████████████████████████████████▉                                   | 23/36 [00:25<00:14,  1.11s/it]\u001b[A\n",
      " 67%|████████████████████████████████████████████████████████████████▋                                | 24/36 [00:26<00:13,  1.11s/it]\u001b[A\n",
      " 69%|███████████████████████████████████████████████████████████████████▎                             | 25/36 [00:27<00:12,  1.10s/it]\u001b[A\n",
      " 72%|██████████████████████████████████████████████████████████████████████                           | 26/36 [00:29<00:11,  1.12s/it]\u001b[A\n",
      " 75%|████████████████████████████████████████████████████████████████████████▊                        | 27/36 [00:30<00:10,  1.17s/it]\u001b[A\n",
      " 78%|███████████████████████████████████████████████████████████████████████████▍                     | 28/36 [00:31<00:09,  1.16s/it]\u001b[A\n",
      " 81%|██████████████████████████████████████████████████████████████████████████████▏                  | 29/36 [00:32<00:08,  1.16s/it]\u001b[A\n",
      " 83%|████████████████████████████████████████████████████████████████████████████████▊                | 30/36 [00:33<00:06,  1.16s/it]\u001b[A\n",
      " 86%|███████████████████████████████████████████████████████████████████████████████████▌             | 31/36 [00:34<00:05,  1.15s/it]\u001b[A\n",
      " 89%|██████████████████████████████████████████████████████████████████████████████████████▏          | 32/36 [00:36<00:04,  1.14s/it]\u001b[A\n",
      " 92%|████████████████████████████████████████████████████████████████████████████████████████▉        | 33/36 [00:37<00:03,  1.14s/it]\u001b[A\n",
      " 94%|███████████████████████████████████████████████████████████████████████████████████████████▌     | 34/36 [00:38<00:02,  1.13s/it]\u001b[A\n",
      " 97%|██████████████████████████████████████████████████████████████████████████████████████████████▎  | 35/36 [00:39<00:01,  1.12s/it]\u001b[A\n",
      "100%|█████████████████████████████████████████████████████████████████████████████████████████████████| 36/36 [00:40<00:00,  1.13s/it]\u001b[A\n",
      "100%|█████████████████████████████████████████████████████████████████████████████████████████████████| 20/20 [13:29<00:00, 40.46s/it]\n"
     ]
    }
   ],
   "source": [
    "# the estimated PSD and spatial feature from SGM \n",
    "# for each iteration, we have 20 in total \n",
    "for ixfil in tqdm(sortedFils[:]):\n",
    "    sgmPSDs = []\n",
    "    sgmSPs = []\n",
    "    with open(ixfil, \"rb\") as f:\n",
    "        curRes = pickle.load(f)\n",
    "        \n",
    "    curEstParas = np.array([np.median(i.numpy(), axis=0) for i in curRes.postSpss])\n",
    "    for ix in trange(36):\n",
    "        curParas = curEstParas[ix, :]\n",
    "        curC = ind_conn[:, :, ix]\n",
    "        curBrain = Brain.Brain()\n",
    "        curBrain.add_connectome(data_dir) # grabs distance matrix\n",
    "        # re-ordering for DK atlas and normalizing the connectomes:\n",
    "        curBrain.reorder_connectome(curBrain.connectome, curBrain.distance_matrix)\n",
    "        curBrain.connectome = curC# re-assign connectome to individual connectome\n",
    "        curBrain.bi_symmetric_c()\n",
    "        curBrain.reduce_extreme_dir()\n",
    "        \n",
    "        curSgmModel = sgm(curBrain.reducedConnectome, curBrain.distance_matrix, freqs)\n",
    "        curPSD, curSPs = curSgmModel.run_local_coupling_forward(curParas)\n",
    "        curPSD = curPSD[:68, :]\n",
    "        curPSD = stdPSDFn(mag2db(np.abs(curPSD)))\n",
    "        \n",
    "        sgmPSDs.append(curPSD)\n",
    "        sgmSPs.append(curSPs.sum(axis=1))\n",
    "    \n",
    "    \n",
    "    \n",
    "    curRes.sgmPSDs = sgmPSDs\n",
    "    curRes.sgmSPs = sgmSPs\n",
    "    with open(ixfil, \"wb\") as f:\n",
    "        pickle.dump(curRes, f)"
   ]
  },
  {
   "cell_type": "code",
   "execution_count": 24,
   "id": "0a9318ba",
   "metadata": {},
   "outputs": [
    {
     "name": "stderr",
     "output_type": "stream",
     "text": [
      "100%|█████████████████████████████████████████████████████████████████████████████████████████████████| 20/20 [00:00<00:00, 59.91it/s]\n"
     ]
    }
   ],
   "source": [
    "corrs = []\n",
    "PSDs = []\n",
    "MEGPSDMean = np.mean([stdPSDFn(mag2db(ind_psd[:, :, ix])).mean(axis=0) for ix in range(36)], axis=0)\n",
    "for ix in trange(len(sortedFils)):\n",
    "    with open(sortedFils[ix], \"rb\") as f:\n",
    "        curRes = pickle.load(f)\n",
    "    curPSD = np.array(curRes.sgmPSDs).mean(axis=1).mean(axis=0)\n",
    "    cor = scipy.stats.pearsonr(stdFn(MEGPSDMean), stdFn(curPSD))[0]\n",
    "    corrs.append(cor)\n",
    "    PSDs.append(curPSD)"
   ]
  },
  {
   "cell_type": "code",
   "execution_count": 25,
   "id": "4c958fae",
   "metadata": {},
   "outputs": [
    {
     "data": {
      "image/png": "[encoded data removed]",
      "text/plain": [
       "<Figure size 1296x360 with 3 Axes>"
      ]
     },
     "metadata": {
      "needs_background": "light"
     },
     "output_type": "display_data"
    }
   ],
   "source": [
    "corrs = np.array(corrs)\n",
    "bestId = np.argmax(corrs)\n",
    "worstId = np.argmin(corrs)\n",
    "medId = np.argmin(np.abs(corrs-np.median(corrs)))\n",
    "titles = [\"Best\", \"Median\", \"Worst\"]\n",
    "plt.figure(figsize=[18, 5])\n",
    "for ix, curId in enumerate([bestId, medId, worstId]):\n",
    "    plt.subplot(1, 3, ix+1)\n",
    "    plt.title(f\"{titles[ix]}: Mean PSD (corr: {corrs[curId]:.3f})\")\n",
    "    plt.plot(freqs, stdFn(MEGPSDMean), linestyle = '-',marker = 's',fillstyle = 'none',color = 'k', label = \"MEG\", alpha = 0.8)\n",
    "    plt.plot(freqs, stdFn(PSDs[curId]), linestyle = '-',marker = 'o',fillstyle = 'none',color = 'b', label = \"M-SGM\", alpha = 0.8)\n",
    "    plt.xlabel('Frequency (Hz)', fontsize = 17)\n",
    "    plt.legend()\n",
    "    plt.ylabel('Normalized PSD', fontsize = 17)"
   ]
  },
  {
   "cell_type": "code",
   "execution_count": 26,
   "id": "96b1140a",
   "metadata": {},
   "outputs": [
    {
     "data": {
      "text/plain": [
       "[<matplotlib.lines.Line2D at 0x7f0857cb12b0>]"
      ]
     },
     "execution_count": 26,
     "metadata": {},
     "output_type": "execute_result"
    },
    {
     "data": {
      "image/png": "[encoded data removed]",
      "text/plain": [
       "<Figure size 432x288 with 1 Axes>"
      ]
     },
     "metadata": {
      "needs_background": "light"
     },
     "output_type": "display_data"
    }
   ],
   "source": [
    "plt.title(f\"Mean corr: {corrs.mean():.3f} (SD {corrs.std():.3f})\")\n",
    "plt.plot(corrs, \"o-\")"
   ]
  },
  {
   "cell_type": "markdown",
   "id": "648297fc",
   "metadata": {},
   "source": [
    "#### Corrs for PSD and spatial features for each subject"
   ]
  },
  {
   "cell_type": "code",
   "execution_count": 27,
   "id": "60307c49",
   "metadata": {},
   "outputs": [
    {
     "name": "stderr",
     "output_type": "stream",
     "text": [
      "100%|█████████████████████████████████████████████████████████████████████████████████████████████████| 20/20 [00:00<00:00, 55.94it/s]\n"
     ]
    }
   ],
   "source": [
    "MEGPSDeachs = np.array([stdPSDFn(mag2db(ind_psd[:, :, ix])).mean(axis=0) for ix in range(36)])\n",
    "PSDCorrss = []\n",
    "\n",
    "for ix in trange(20):\n",
    "    with open(sortedFils[ix], \"rb\") as f:\n",
    "        curRes = pickle.load(f)\n",
    "    curSGMPSDeachs = np.array(curRes.sgmPSDs).mean(axis=1)\n",
    "    PSDCorrs = []\n",
    "    for ix in range(MEGPSDeachs.shape[0]):\n",
    "        curMEG = MEGPSDeachs[ix, :]\n",
    "        curSGM = curSGMPSDeachs[ix, :]\n",
    "        PSDCorrs.append(scipy.stats.pearsonr(curMEG, curSGM)[0])\n",
    "    PSDCorrss.append(PSDCorrs)"
   ]
  },
  {
   "cell_type": "code",
   "execution_count": 28,
   "id": "4001bbf2",
   "metadata": {},
   "outputs": [
    {
     "data": {
      "image/png": "[encoded data removed]",
      "text/plain": [
       "<Figure size 1440x360 with 1 Axes>"
      ]
     },
     "metadata": {
      "needs_background": "light"
     },
     "output_type": "display_data"
    }
   ],
   "source": [
    "plt.figure(figsize=[20, 5])\n",
    "plt.title(\"The corrs for spectral\")\n",
    "_ = plt.boxplot(np.array(PSDCorrss).T, showfliers=False)"
   ]
  },
  {
   "cell_type": "code",
   "execution_count": 32,
   "id": "dc96cc13",
   "metadata": {},
   "outputs": [
    {
     "name": "stderr",
     "output_type": "stream",
     "text": [
      "100%|█████████████████████████████████████████████████████████████████████████████████████████████████| 20/20 [00:00<00:00, 57.36it/s]\n"
     ]
    }
   ],
   "source": [
    "SPCorrss = []\n",
    "for ix in trange(len(sortedFils)):\n",
    "    with open(sortedFils[ix], \"rb\") as f:\n",
    "        curRes = pickle.load(f)\n",
    "    SPCorrs = []\n",
    "    for mv, ov in zip(curRes.sgmSPs, MEGSPs):\n",
    "        SPCorrs.append(np.dot(mv/np.linalg.norm(mv), ov))\n",
    "        #SPCorrs.append(scipy.stats.pearsonr(mv, ov)[0])\n",
    "    SPCorrss.append(np.array(SPCorrs))"
   ]
  },
  {
   "cell_type": "code",
   "execution_count": 33,
   "id": "7579793a",
   "metadata": {},
   "outputs": [
    {
     "data": {
      "image/png": "[encoded data removed]",
      "text/plain": [
       "<Figure size 1440x360 with 1 Axes>"
      ]
     },
     "metadata": {
      "needs_background": "light"
     },
     "output_type": "display_data"
    }
   ],
   "source": [
    "plt.figure(figsize=[20, 5])\n",
    "plt.title(\"The corrs for spatial features\")\n",
    "_ = plt.boxplot(np.array(SPCorrss).T, showfliers=False)"
   ]
  },
  {
   "cell_type": "code",
   "execution_count": null,
   "id": "c81f8eb0",
   "metadata": {},
   "outputs": [],
   "source": []
  },
  {
   "cell_type": "markdown",
   "id": "433ff9b5",
   "metadata": {},
   "source": [
    "### Tuning parameters"
   ]
  },
  {
   "cell_type": "code",
   "execution_count": 36,
   "id": "05090b50",
   "metadata": {},
   "outputs": [],
   "source": []
  },
  {
   "cell_type": "code",
   "execution_count": 41,
   "id": "f13b689b",
   "metadata": {},
   "outputs": [],
   "source": []
  },
  {
   "cell_type": "code",
   "execution_count": null,
   "id": "7caeab8c",
   "metadata": {},
   "outputs": [],
   "source": []
  }
 ],
 "metadata": {
  "kernelspec": {
   "display_name": "Python 3 (ipykernel)",
   "language": "python",
   "name": "python3"
  },
  "language_info": {
   "codemirror_mode": {
    "name": "ipython",
    "version": 3
   },
   "file_extension": ".py",
   "mimetype": "text/x-python",
   "name": "python",
   "nbconvert_exporter": "python",
   "pygments_lexer": "ipython3",
   "version": "3.9.7"
  },
  "toc": {
   "base_numbering": 1,
   "nav_menu": {},
   "number_sections": true,
   "sideBar": true,
   "skip_h1_title": false,
   "title_cell": "Table of Contents",
   "title_sidebar": "Contents",
   "toc_cell": false,
   "toc_position": {
    "height": "calc(100% - 180px)",
    "left": "10px",
    "top": "150px",
    "width": "193px"
   },
   "toc_section_display": true,
   "toc_window_display": true
  }
 },
 "nbformat": 4,
 "nbformat_minor": 5
}
