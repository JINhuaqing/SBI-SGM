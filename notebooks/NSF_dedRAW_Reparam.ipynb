{
 "cells": [
  {
   "cell_type": "markdown",
   "id": "26d4c45a",
   "metadata": {
    "toc": true
   },
   "source": [
    "<h1>Table of Contents<span class=\"tocSkip\"></span></h1>\n",
    "<div class=\"toc\"><ul class=\"toc-item\"><li><span><a href=\"#import-and-define\" data-toc-modified-id=\"import-and-define-1\"><span class=\"toc-item-num\">1&nbsp;&nbsp;</span>import and define</a></span><ul class=\"toc-item\"><li><span><a href=\"#Other-pkgs\" data-toc-modified-id=\"Other-pkgs-1.1\"><span class=\"toc-item-num\">1.1&nbsp;&nbsp;</span>Other pkgs</a></span></li><li><span><a href=\"#My-own-pkgs\" data-toc-modified-id=\"My-own-pkgs-1.2\"><span class=\"toc-item-num\">1.2&nbsp;&nbsp;</span>My own pkgs</a></span></li><li><span><a href=\"#Some-fns\" data-toc-modified-id=\"Some-fns-1.3\"><span class=\"toc-item-num\">1.3&nbsp;&nbsp;</span>Some fns</a></span></li></ul></li><li><span><a href=\"#Load-real-data-PSD-and-brain\" data-toc-modified-id=\"Load-real-data-PSD-and-brain-2\"><span class=\"toc-item-num\">2&nbsp;&nbsp;</span>Load real data PSD and brain</a></span><ul class=\"toc-item\"><li><span><a href=\"#PSD-and-connectome\" data-toc-modified-id=\"PSD-and-connectome-2.1\"><span class=\"toc-item-num\">2.1&nbsp;&nbsp;</span>PSD and connectome</a></span></li><li><span><a href=\"#Set-up-Parameters\" data-toc-modified-id=\"Set-up-Parameters-2.2\"><span class=\"toc-item-num\">2.2&nbsp;&nbsp;</span>Set up Parameters</a></span></li></ul></li><li><span><a href=\"#Prepare-for-SBI\" data-toc-modified-id=\"Prepare-for-SBI-3\"><span class=\"toc-item-num\">3&nbsp;&nbsp;</span>Prepare for SBI</a></span><ul class=\"toc-item\"><li><span><a href=\"#Simulator\" data-toc-modified-id=\"Simulator-3.1\"><span class=\"toc-item-num\">3.1&nbsp;&nbsp;</span>Simulator</a></span></li><li><span><a href=\"#Prior\" data-toc-modified-id=\"Prior-3.2\"><span class=\"toc-item-num\">3.2&nbsp;&nbsp;</span>Prior</a></span></li><li><span><a href=\"#Density-estimator\" data-toc-modified-id=\"Density-estimator-3.3\"><span class=\"toc-item-num\">3.3&nbsp;&nbsp;</span>Density estimator</a></span></li></ul></li><li><span><a href=\"#SBI\" data-toc-modified-id=\"SBI-4\"><span class=\"toc-item-num\">4&nbsp;&nbsp;</span>SBI</a></span><ul class=\"toc-item\"><li><span><a href=\"#RUN\" data-toc-modified-id=\"RUN-4.1\"><span class=\"toc-item-num\">4.1&nbsp;&nbsp;</span>RUN</a></span></li><li><span><a href=\"#Get-posterior\" data-toc-modified-id=\"Get-posterior-4.2\"><span class=\"toc-item-num\">4.2&nbsp;&nbsp;</span>Get posterior</a></span></li><li><span><a href=\"#PSD-estimate\" data-toc-modified-id=\"PSD-estimate-4.3\"><span class=\"toc-item-num\">4.3&nbsp;&nbsp;</span>PSD estimate</a></span></li></ul></li><li><span><a href=\"#Another-way-to-do-the-inference\" data-toc-modified-id=\"Another-way-to-do-the-inference-5\"><span class=\"toc-item-num\">5&nbsp;&nbsp;</span>Another way to do the inference</a></span></li></ul></div>"
   ]
  },
  {
   "cell_type": "markdown",
   "id": "48ee4fd6",
   "metadata": {},
   "source": [
    "This file is to try SBI_SGM when extracting features without fooof.\n",
    "\n",
    "I also skip some pts in the tail of PSD\n",
    "\n",
    "And I train model with a general connectome.\n"
   ]
  },
  {
   "cell_type": "markdown",
   "id": "269c1f0a",
   "metadata": {},
   "source": [
    "### import and define"
   ]
  },
  {
   "cell_type": "code",
   "execution_count": 1,
   "id": "4e45686c",
   "metadata": {
    "ExecuteTime": {
     "end_time": "2022-11-01T19:30:12.758185Z",
     "start_time": "2022-11-01T19:30:12.749528Z"
    }
   },
   "outputs": [],
   "source": [
    "import os\n",
    "import sys\n",
    "module_path = os.path.abspath(os.path.join('../mypkg'))\n",
    "if module_path not in sys.path:\n",
    "    sys.path.append(module_path)"
   ]
  },
  {
   "cell_type": "markdown",
   "id": "e5ca9b8a",
   "metadata": {},
   "source": [
    "#### Other pkgs"
   ]
  },
  {
   "cell_type": "code",
   "execution_count": 2,
   "id": "c93dcfe1",
   "metadata": {
    "ExecuteTime": {
     "end_time": "2022-11-01T19:30:23.070095Z",
     "start_time": "2022-11-01T19:30:13.420656Z"
    }
   },
   "outputs": [
    {
     "name": "stderr",
     "output_type": "stream",
     "text": [
      "/opt/conda/lib/python3.9/site-packages/scipy/__init__.py:146: UserWarning: A NumPy version >=1.16.5 and <1.23.0 is required for this version of SciPy (detected version 1.23.1\n",
      "  warnings.warn(f\"A NumPy version >={np_minversion} and <{np_maxversion}\"\n"
     ]
    }
   ],
   "source": [
    "from tqdm import trange, tqdm\n",
    "\n",
    "import torch\n",
    "import torch.nn as nn \n",
    "import torch.nn.functional as F \n",
    "from sbi import utils as sutils\n",
    "from sbi import analysis as analysis\n",
    "from sbi.inference.base import infer\n",
    "from sbi.inference import SNPE, prepare_for_sbi, simulate_for_sbi\n",
    "from sbi.utils.get_nn_models import posterior_nn\n",
    "from torch.distributions.multivariate_normal import MultivariateNormal\n",
    "\n",
    "import numpy as np\n",
    "import xarray as xr\n",
    "from easydict import EasyDict as edict\n",
    "from pathlib import Path\n",
    "import pickle\n",
    "import scipy\n",
    "\n",
    "import seaborn as sns\n",
    "import pandas as pd\n",
    "import matplotlib.pyplot as plt\n",
    "import json\n",
    "from functools import partial\n",
    "\n",
    "import warnings\n",
    "warnings.filterwarnings(\"ignore\")"
   ]
  },
  {
   "cell_type": "code",
   "execution_count": null,
   "id": "8bbf603a",
   "metadata": {},
   "outputs": [],
   "source": []
  },
  {
   "cell_type": "code",
   "execution_count": null,
   "id": "aac0886a",
   "metadata": {},
   "outputs": [],
   "source": []
  },
  {
   "cell_type": "markdown",
   "id": "7452265b",
   "metadata": {},
   "source": [
    "#### My own pkgs"
   ]
  },
  {
   "cell_type": "code",
   "execution_count": 3,
   "id": "da2f4f7a",
   "metadata": {
    "ExecuteTime": {
     "end_time": "2022-11-01T19:30:23.971357Z",
     "start_time": "2022-11-01T19:30:23.072017Z"
    }
   },
   "outputs": [],
   "source": [
    "import importlib\n",
    "\n",
    "import utils.misc\n",
    "importlib.reload(utils.misc);\n",
    "from utils.misc import mag2db, meg_psd2spatialfeature, save_pkl_dict2folder, load_pkl_folder2dict, get_mode\n",
    "\n",
    "import utils.standardize\n",
    "importlib.reload(utils.standardize);\n",
    "from utils.standardize import stdz_psd, stdz_vec, minmax_vec, psd_2tr\n",
    "\n",
    "import utils.brain_plot\n",
    "importlib.reload(utils.brain_plot)\n",
    "from utils.brain_plot import U2BrainVec, reorderU \n",
    "\n",
    "import utils.reparam\n",
    "importlib.reload(utils.reparam)\n",
    "from utils.reparam import logistic_np, logistic_torch, theta_raw_2out\n",
    "\n",
    "import sgm.sgm\n",
    "importlib.reload(sgm.sgm);\n",
    "from sgm.sgm import SGM\n",
    "\n",
    "\n",
    "from spectrome import Brain, path, functions\n",
    "\n",
    "import features.psm\n",
    "importlib.reload(features.psm)\n",
    "from features.psm import obt_psm_fs, obt_psm_raw\n",
    "\n",
    "import constants\n",
    "importlib.reload(constants)\n",
    "from constants import RES_ROOT, FIG_ROOT, DAT_ROOT\n",
    "\n",
    "import models.embedding_nets \n",
    "importlib.reload(models.embedding_nets)\n",
    "from models.embedding_nets import SummaryNet\n",
    "\n",
    "import sgm.data_gen \n",
    "importlib.reload(sgm.data_gen)\n",
    "from sgm.data_gen import simulator_data"
   ]
  },
  {
   "cell_type": "markdown",
   "id": "32817577",
   "metadata": {},
   "source": [
    "#### Some fns"
   ]
  },
  {
   "cell_type": "code",
   "execution_count": 26,
   "id": "fce84107",
   "metadata": {
    "ExecuteTime": {
     "end_time": "2022-11-01T19:37:11.912395Z",
     "start_time": "2022-11-01T19:37:11.908726Z"
    }
   },
   "outputs": [],
   "source": [
    "# to remove some pts at the tail of PSD\n",
    "def _thin_psd_mat(psd_mat):\n",
    "    assert psd_mat.shape[0] == 68\n",
    "    length = psd_mat.shape[1]\n",
    "    del_idxs = np.arange(int(length/2)+1, length, 2)\n",
    "    psd_mat_thin = np.delete(psd_mat, del_idxs, axis=1)\n",
    "    return psd_mat_thin"
   ]
  },
  {
   "cell_type": "code",
   "execution_count": 4,
   "id": "3c28c72e",
   "metadata": {
    "ExecuteTime": {
     "end_time": "2022-11-01T19:30:23.974991Z",
     "start_time": "2022-11-01T19:30:23.972577Z"
    }
   },
   "outputs": [],
   "source": [
    "#torch.set_default_tensor_type(torch.DoubleTensor)"
   ]
  },
  {
   "cell_type": "markdown",
   "id": "4022c78f",
   "metadata": {},
   "source": [
    "### Load real data PSD and brain"
   ]
  },
  {
   "cell_type": "markdown",
   "id": "bcd6c5ab",
   "metadata": {},
   "source": [
    "#### PSD and connectome"
   ]
  },
  {
   "cell_type": "code",
   "execution_count": 5,
   "id": "bb358643",
   "metadata": {
    "ExecuteTime": {
     "end_time": "2022-11-01T19:30:24.393795Z",
     "start_time": "2022-11-01T19:30:23.976454Z"
    }
   },
   "outputs": [],
   "source": [
    "# Load data\n",
    "ind_psd_xr = xr.open_dataarray(DAT_ROOT/'individual_psd_reordered_matlab.nc')\n",
    "ind_psd = ind_psd_xr.values\n",
    "FREQS = ind_psd_xr[\"frequencies\"].values\n",
    "ind_conn_xr = xr.open_dataarray(DAT_ROOT/'individual_connectomes_reordered.nc')\n",
    "ind_conn = ind_conn_xr.values"
   ]
  },
  {
   "cell_type": "markdown",
   "id": "b6960bf4",
   "metadata": {},
   "source": [
    "#### Set up Parameters"
   ]
  },
  {
   "cell_type": "code",
   "execution_count": 87,
   "id": "d9326efc",
   "metadata": {
    "ExecuteTime": {
     "end_time": "2022-11-01T23:22:58.782951Z",
     "start_time": "2022-11-01T23:22:58.777528Z"
    }
   },
   "outputs": [],
   "source": [
    "# some constant parameters for this file\n",
    "paras = edict()\n",
    "#v_lower = 3.5-1.8\n",
    "#v_upper = 3.5+1.8\n",
    "#bnds = ((5.0,30.0), (5.0,200.0), (0.1,1.0), (v_lower,v_upper), (0.5,10.0), (0.5,10.0), (5.0,30.0))\n",
    "#This is the order for the above bounds:  tau_e, tau_i, alpha, speed, gei, gii, tauC,\n",
    "\n",
    "# taue, taui, tauC, speed, alpha, gii, gei\n",
    "paras.par_low = np.asarray([0.005,0.005,0.005,1.7,0.1,0.5,0.5])\n",
    "paras.par_high = np.asarray([0.03, 0.20, 0.03,5.3,  1, 10, 10])\n",
    "paras.prior_bds = np.array([paras.par_low, paras.par_high]).T\n",
    "paras.names = [\"Taue\", \"Taui\", \"TauC\", \"Speed\", \"alpha\", \"gii\", \"gei\"]\n",
    "\n",
    "paras.noise_sd = 0.20\n",
    "paras.num_prior_sps = int(2e4)\n",
    "paras.den_est = \"nsf\"\n",
    "paras.is_embed = False"
   ]
  },
  {
   "cell_type": "code",
   "execution_count": 88,
   "id": "221b3b6d",
   "metadata": {
    "ExecuteTime": {
     "end_time": "2022-11-01T23:22:59.409643Z",
     "start_time": "2022-11-01T23:22:59.401742Z"
    }
   },
   "outputs": [
    {
     "name": "stdout",
     "output_type": "stream",
     "text": [
      "folder is /data/rajlab1/user_data/jin/MyResearch/SBI-SGM/mypkg/../results/generalNoiseDedRawReparam_20000_sd20_denestnsf_embedFalse\n",
      "True\n"
     ]
    }
   ],
   "source": [
    "# paras  for this file\n",
    "_paras = edict()\n",
    "_folder_path = f\"./generalNoiseDedRawReparam_{paras.num_prior_sps:.0f}\" +\\\n",
    "               f\"_sd{paras.noise_sd*100:.0f}\" +\\\n",
    "               f\"_denest{paras.den_est}\" +\\\n",
    "               f\"_embed{paras.is_embed}\"\n",
    "_paras.folder_path = RES_ROOT/_folder_path\n",
    "print(f\"folder is {_paras.folder_path}\")\n",
    "print(_paras.folder_path.exists())"
   ]
  },
  {
   "cell_type": "code",
   "execution_count": 57,
   "id": "2f672600",
   "metadata": {
    "ExecuteTime": {
     "end_time": "2022-11-01T20:22:05.299966Z",
     "start_time": "2022-11-01T20:22:05.274073Z"
    }
   },
   "outputs": [],
   "source": [
    "cur_res = edict()"
   ]
  },
  {
   "cell_type": "markdown",
   "id": "86923703",
   "metadata": {},
   "source": [
    "### Prepare for SBI"
   ]
  },
  {
   "cell_type": "markdown",
   "id": "f931d238",
   "metadata": {},
   "source": [
    "#### Simulator"
   ]
  },
  {
   "cell_type": "code",
   "execution_count": 58,
   "id": "b4ee7118",
   "metadata": {
    "ExecuteTime": {
     "end_time": "2022-11-01T20:22:06.746197Z",
     "start_time": "2022-11-01T20:22:06.735935Z"
    }
   },
   "outputs": [],
   "source": [
    "def simulator(params, noise_sd, sgmmodel, prior_bds):\n",
    "    \"\"\"The function to simulate samples\n",
    "    \"\"\"\n",
    "    params_trans = []\n",
    "    for param, prior_bd in zip(params, prior_bds):\n",
    "        param_trans =  logistic_torch(param)*(prior_bd[1]-prior_bd[0]) + prior_bd[0]\n",
    "        params_trans.append(param_trans)\n",
    "    params_trans = torch.tensor(params_trans)\n",
    "    \n",
    "    psd, spatialFs = sgmmodel.run_local_coupling_forward(params_trans)\n",
    "    psd = psd[:68, :]\n",
    "    std_spatial = stdz_vec(spatialFs.sum(axis=1)) # std it\n",
    "    \n",
    "    std_psd_DB = psd_2tr(psd)\n",
    "    std_psd_DB = _thin_psd_mat(std_psd_DB)\n",
    "    psd_fs = std_psd_DB.flatten()\n",
    "    \n",
    "    res = np.concatenate([psd_fs, std_spatial]) \n",
    "    noise =  np.random.randn(*res.shape)*noise_sd \n",
    "    \n",
    "    return res+noise"
   ]
  },
  {
   "cell_type": "code",
   "execution_count": null,
   "id": "df187c08",
   "metadata": {},
   "outputs": [],
   "source": []
  },
  {
   "cell_type": "markdown",
   "id": "e2078c03",
   "metadata": {},
   "source": [
    "#### Prior "
   ]
  },
  {
   "cell_type": "code",
   "execution_count": 59,
   "id": "23dff474",
   "metadata": {
    "ExecuteTime": {
     "end_time": "2022-11-01T20:22:08.245620Z",
     "start_time": "2022-11-01T20:22:08.240142Z"
    }
   },
   "outputs": [],
   "source": [
    "#prior = sutils.BoxUniform(low=torch.as_tensor(paras.par_low), high=torch.as_tensor(paras.par_high))\n",
    "prior = MultivariateNormal(loc=torch.zeros(7), covariance_matrix=torch.eye(7)*100)"
   ]
  },
  {
   "cell_type": "markdown",
   "id": "1b4a2ec2",
   "metadata": {},
   "source": [
    "#### Density estimator"
   ]
  },
  {
   "cell_type": "code",
   "execution_count": 60,
   "id": "dd66a9e9",
   "metadata": {
    "ExecuteTime": {
     "end_time": "2022-11-01T20:22:09.269834Z",
     "start_time": "2022-11-01T20:22:09.263639Z"
    }
   },
   "outputs": [],
   "source": [
    "if paras.is_embed:\n",
    "    embedding_net = SummaryNet(num_in_fs=30*68+68)\n",
    "    paras.den_est = sutils.posterior_nn(\n",
    "    model=paras.den_est, embedding_net=embedding_net)\n",
    "    for ix in embedding_net.parameters():\n",
    "        print(ix.sum(), ix.shape, ix.dtype)"
   ]
  },
  {
   "cell_type": "markdown",
   "id": "5a694c3b",
   "metadata": {},
   "source": [
    "### SBI"
   ]
  },
  {
   "cell_type": "code",
   "execution_count": 61,
   "id": "c82b5b02",
   "metadata": {
    "ExecuteTime": {
     "end_time": "2022-11-01T20:22:11.612054Z",
     "start_time": "2022-11-01T20:22:10.300797Z"
    }
   },
   "outputs": [],
   "source": [
    "# obtain the brain\n",
    "brain = Brain.Brain()\n",
    "brain.add_connectome(DAT_ROOT)\n",
    "brain.reorder_connectome(brain.connectome, brain.distance_matrix)\n",
    "brain.bi_symmetric_c()\n",
    "brain.reduce_extreme_dir()\n",
    "sgmmodel = SGM(brain.reducedConnectome, brain.distance_matrix, FREQS)\n",
    "\n",
    "simulator_sp = partial(simulator,  noise_sd=paras.noise_sd, sgmmodel=sgmmodel, prior_bds=paras.prior_bds)\n",
    "# make a SBI-wrapper on the simulator object for compatibility\n",
    "simulator_wrapper, prior = prepare_for_sbi(simulator_sp, prior)"
   ]
  },
  {
   "cell_type": "code",
   "execution_count": null,
   "id": "ec84fcba",
   "metadata": {},
   "outputs": [],
   "source": []
  },
  {
   "cell_type": "markdown",
   "id": "aa59351b",
   "metadata": {},
   "source": [
    "#### RUN"
   ]
  },
  {
   "cell_type": "code",
   "execution_count": 62,
   "id": "3783abdd",
   "metadata": {
    "ExecuteTime": {
     "end_time": "2022-11-01T20:41:25.460462Z",
     "start_time": "2022-11-01T20:22:11.906493Z"
    },
    "scrolled": true
   },
   "outputs": [
    {
     "data": {
      "application/vnd.jupyter.widget-view+json": {
       "model_id": "c7d1f49d9e3842a6a432de72c22040cb",
       "version_major": 2,
       "version_minor": 0
      },
      "text/plain": [
       "Running 20000 simulations in 20000 batches.:   0%|          | 0/20000 [00:00<?, ?it/s]"
      ]
     },
     "metadata": {},
     "output_type": "display_data"
    },
    {
     "name": "stderr",
     "output_type": "stream",
     "text": [
      "IOPub message rate exceeded.\n",
      "The notebook server will temporarily stop sending output\n",
      "to the client in order to avoid crashing it.\n",
      "To change this limit, set the config variable\n",
      "`--NotebookApp.iopub_msg_rate_limit`.\n",
      "\n",
      "Current values:\n",
      "NotebookApp.iopub_msg_rate_limit=1000.0 (msgs/sec)\n",
      "NotebookApp.rate_limit_window=3.0 (secs)\n",
      "\n"
     ]
    }
   ],
   "source": [
    "theta_raw, x = simulate_for_sbi(simulator_wrapper, prior, \n",
    "                            num_simulations=int(paras.num_prior_sps), \n",
    "                            num_workers=50)\n",
    "inference = SNPE(prior=prior, density_estimator=paras.den_est)\n",
    "density_estimator = inference.append_simulations(theta_raw, x).train()\n",
    "posterior = inference.build_posterior(density_estimator)\n"
   ]
  },
  {
   "cell_type": "code",
   "execution_count": 63,
   "id": "7e2bb5bb",
   "metadata": {
    "ExecuteTime": {
     "end_time": "2022-11-01T21:24:27.565451Z",
     "start_time": "2022-11-01T21:24:25.185230Z"
    }
   },
   "outputs": [
    {
     "name": "stdout",
     "output_type": "stream",
     "text": [
      "/data/rajlab1/user_data/jin/MyResearch/SBI-SGM/mypkg/../results/generalNoiseDedRawReparam_20000_sd10_denestnsf_embedFalse\n",
      "Create a folder /data/rajlab1/user_data/jin/MyResearch/SBI-SGM/mypkg/../results/generalNoiseDedRawReparam_20000_sd10_denestnsf_embedFalse\n",
      "Save to /data/rajlab1/user_data/jin/MyResearch/SBI-SGM/mypkg/../results/generalNoiseDedRawReparam_20000_sd10_denestnsf_embedFalse/theta_raw.pkl\n",
      "Save to /data/rajlab1/user_data/jin/MyResearch/SBI-SGM/mypkg/../results/generalNoiseDedRawReparam_20000_sd10_denestnsf_embedFalse/x.pkl\n",
      "Save to /data/rajlab1/user_data/jin/MyResearch/SBI-SGM/mypkg/../results/generalNoiseDedRawReparam_20000_sd10_denestnsf_embedFalse/posterior.pkl\n"
     ]
    }
   ],
   "source": [
    "cur_res.theta_raw = theta_raw\n",
    "cur_res.x = x\n",
    "cur_res.posterior = posterior\n",
    "if paras.is_embed:\n",
    "    cur_res.embedding_net = embedding_net\n",
    "    for ix in embedding_net.parameters():\n",
    "        print(ix.sum(), ix.shape)\n",
    "save_pkl_dict2folder(_paras.folder_path, cur_res, True)"
   ]
  },
  {
   "cell_type": "markdown",
   "id": "a760e52d",
   "metadata": {},
   "source": [
    "#### Get posterior"
   ]
  },
  {
   "cell_type": "code",
   "execution_count": 64,
   "id": "6b548503",
   "metadata": {
    "ExecuteTime": {
     "end_time": "2022-11-01T21:24:34.539986Z",
     "start_time": "2022-11-01T21:24:32.822010Z"
    }
   },
   "outputs": [
    {
     "name": "stdout",
     "output_type": "stream",
     "text": [
      "Load file /data/rajlab1/user_data/jin/MyResearch/SBI-SGM/mypkg/../results/generalNoiseDedRawReparam_20000_sd10_denestnsf_embedFalse/theta_raw.pkl\n",
      "Load file /data/rajlab1/user_data/jin/MyResearch/SBI-SGM/mypkg/../results/generalNoiseDedRawReparam_20000_sd10_denestnsf_embedFalse/x.pkl\n",
      "Load file /data/rajlab1/user_data/jin/MyResearch/SBI-SGM/mypkg/../results/generalNoiseDedRawReparam_20000_sd10_denestnsf_embedFalse/posterior.pkl\n"
     ]
    }
   ],
   "source": [
    "cur_res = load_pkl_folder2dict(_paras.folder_path)"
   ]
  },
  {
   "cell_type": "code",
   "execution_count": 65,
   "id": "88174c4a",
   "metadata": {
    "ExecuteTime": {
     "end_time": "2022-11-01T21:24:49.005092Z",
     "start_time": "2022-11-01T21:24:35.444525Z"
    },
    "scrolled": true
   },
   "outputs": [
    {
     "data": {
      "application/vnd.jupyter.widget-view+json": {
       "model_id": "ca484d3b59454090aec1fed0d3f10ec6",
       "version_major": 2,
       "version_minor": 0
      },
      "text/plain": [
       "Drawing 10000 posterior samples:   0%|          | 0/10000 [00:00<?, ?it/s]"
      ]
     },
     "metadata": {},
     "output_type": "display_data"
    },
    {
     "data": {
      "application/vnd.jupyter.widget-view+json": {
       "model_id": "b9ecae88359346dcab1c0b272822f138",
       "version_major": 2,
       "version_minor": 0
      },
      "text/plain": [
       "Drawing 10000 posterior samples:   0%|          | 0/10000 [00:00<?, ?it/s]"
      ]
     },
     "metadata": {},
     "output_type": "display_data"
    },
    {
     "data": {
      "application/vnd.jupyter.widget-view+json": {
       "model_id": "782df504d5524fef93cdee552ddcc7d7",
       "version_major": 2,
       "version_minor": 0
      },
      "text/plain": [
       "Drawing 10000 posterior samples:   0%|          | 0/10000 [00:00<?, ?it/s]"
      ]
     },
     "metadata": {},
     "output_type": "display_data"
    },
    {
     "data": {
      "application/vnd.jupyter.widget-view+json": {
       "model_id": "07d5b2819f574c4b801e3e20624f5647",
       "version_major": 2,
       "version_minor": 0
      },
      "text/plain": [
       "Drawing 10000 posterior samples:   0%|          | 0/10000 [00:00<?, ?it/s]"
      ]
     },
     "metadata": {},
     "output_type": "display_data"
    },
    {
     "data": {
      "application/vnd.jupyter.widget-view+json": {
       "model_id": "16c0424663774e26a35c561fdacc77fe",
       "version_major": 2,
       "version_minor": 0
      },
      "text/plain": [
       "Drawing 10000 posterior samples:   0%|          | 0/10000 [00:00<?, ?it/s]"
      ]
     },
     "metadata": {},
     "output_type": "display_data"
    },
    {
     "data": {
      "application/vnd.jupyter.widget-view+json": {
       "model_id": "d0fff622b5b14899b816408bd5535944",
       "version_major": 2,
       "version_minor": 0
      },
      "text/plain": [
       "Drawing 10000 posterior samples:   0%|          | 0/10000 [00:00<?, ?it/s]"
      ]
     },
     "metadata": {},
     "output_type": "display_data"
    },
    {
     "data": {
      "application/vnd.jupyter.widget-view+json": {
       "model_id": "94e0382dc6a1444bb4c149f6ca2cdecb",
       "version_major": 2,
       "version_minor": 0
      },
      "text/plain": [
       "Drawing 10000 posterior samples:   0%|          | 0/10000 [00:00<?, ?it/s]"
      ]
     },
     "metadata": {},
     "output_type": "display_data"
    },
    {
     "data": {
      "application/vnd.jupyter.widget-view+json": {
       "model_id": "8d88e064623144d299aa0e4eaf6dc6a6",
       "version_major": 2,
       "version_minor": 0
      },
      "text/plain": [
       "Drawing 10000 posterior samples:   0%|          | 0/10000 [00:00<?, ?it/s]"
      ]
     },
     "metadata": {},
     "output_type": "display_data"
    },
    {
     "data": {
      "application/vnd.jupyter.widget-view+json": {
       "model_id": "f5ed249062694cb5bee196fd7d0adb14",
       "version_major": 2,
       "version_minor": 0
      },
      "text/plain": [
       "Drawing 10000 posterior samples:   0%|          | 0/10000 [00:00<?, ?it/s]"
      ]
     },
     "metadata": {},
     "output_type": "display_data"
    },
    {
     "data": {
      "application/vnd.jupyter.widget-view+json": {
       "model_id": "acd476bdb04e4609bfb4c49a7b475cce",
       "version_major": 2,
       "version_minor": 0
      },
      "text/plain": [
       "Drawing 10000 posterior samples:   0%|          | 0/10000 [00:00<?, ?it/s]"
      ]
     },
     "metadata": {},
     "output_type": "display_data"
    },
    {
     "data": {
      "application/vnd.jupyter.widget-view+json": {
       "model_id": "3f5f5871b0dc4a558abb9022cbef4ff0",
       "version_major": 2,
       "version_minor": 0
      },
      "text/plain": [
       "Drawing 10000 posterior samples:   0%|          | 0/10000 [00:00<?, ?it/s]"
      ]
     },
     "metadata": {},
     "output_type": "display_data"
    },
    {
     "data": {
      "application/vnd.jupyter.widget-view+json": {
       "model_id": "86374f9239494af99973e9810f2e9413",
       "version_major": 2,
       "version_minor": 0
      },
      "text/plain": [
       "Drawing 10000 posterior samples:   0%|          | 0/10000 [00:00<?, ?it/s]"
      ]
     },
     "metadata": {},
     "output_type": "display_data"
    },
    {
     "data": {
      "application/vnd.jupyter.widget-view+json": {
       "model_id": "8d685208c7314111b26c24750773a97b",
       "version_major": 2,
       "version_minor": 0
      },
      "text/plain": [
       "Drawing 10000 posterior samples:   0%|          | 0/10000 [00:00<?, ?it/s]"
      ]
     },
     "metadata": {},
     "output_type": "display_data"
    },
    {
     "data": {
      "application/vnd.jupyter.widget-view+json": {
       "model_id": "c7e6f25c60e146af80de98ead99513c5",
       "version_major": 2,
       "version_minor": 0
      },
      "text/plain": [
       "Drawing 10000 posterior samples:   0%|          | 0/10000 [00:00<?, ?it/s]"
      ]
     },
     "metadata": {},
     "output_type": "display_data"
    },
    {
     "data": {
      "application/vnd.jupyter.widget-view+json": {
       "model_id": "c8a4df825f1b491fb3c4cb83567f225b",
       "version_major": 2,
       "version_minor": 0
      },
      "text/plain": [
       "Drawing 10000 posterior samples:   0%|          | 0/10000 [00:00<?, ?it/s]"
      ]
     },
     "metadata": {},
     "output_type": "display_data"
    },
    {
     "data": {
      "application/vnd.jupyter.widget-view+json": {
       "model_id": "3bcc019a633746b68392106d3937750c",
       "version_major": 2,
       "version_minor": 0
      },
      "text/plain": [
       "Drawing 10000 posterior samples:   0%|          | 0/10000 [00:00<?, ?it/s]"
      ]
     },
     "metadata": {},
     "output_type": "display_data"
    },
    {
     "data": {
      "application/vnd.jupyter.widget-view+json": {
       "model_id": "7b84b2390bf846c58310b9197408b7b7",
       "version_major": 2,
       "version_minor": 0
      },
      "text/plain": [
       "Drawing 10000 posterior samples:   0%|          | 0/10000 [00:00<?, ?it/s]"
      ]
     },
     "metadata": {},
     "output_type": "display_data"
    },
    {
     "data": {
      "application/vnd.jupyter.widget-view+json": {
       "model_id": "708b4f938273472b88327ab67b69a5ff",
       "version_major": 2,
       "version_minor": 0
      },
      "text/plain": [
       "Drawing 10000 posterior samples:   0%|          | 0/10000 [00:00<?, ?it/s]"
      ]
     },
     "metadata": {},
     "output_type": "display_data"
    },
    {
     "data": {
      "application/vnd.jupyter.widget-view+json": {
       "model_id": "a47e02bfcde84e4fb611be40438ba7c4",
       "version_major": 2,
       "version_minor": 0
      },
      "text/plain": [
       "Drawing 10000 posterior samples:   0%|          | 0/10000 [00:00<?, ?it/s]"
      ]
     },
     "metadata": {},
     "output_type": "display_data"
    },
    {
     "data": {
      "application/vnd.jupyter.widget-view+json": {
       "model_id": "26406840dc04434a8b1d7e574e94ca4b",
       "version_major": 2,
       "version_minor": 0
      },
      "text/plain": [
       "Drawing 10000 posterior samples:   0%|          | 0/10000 [00:00<?, ?it/s]"
      ]
     },
     "metadata": {},
     "output_type": "display_data"
    },
    {
     "data": {
      "application/vnd.jupyter.widget-view+json": {
       "model_id": "afe0c9ad64264e8087d1bc1dcd2e92f0",
       "version_major": 2,
       "version_minor": 0
      },
      "text/plain": [
       "Drawing 10000 posterior samples:   0%|          | 0/10000 [00:00<?, ?it/s]"
      ]
     },
     "metadata": {},
     "output_type": "display_data"
    },
    {
     "data": {
      "application/vnd.jupyter.widget-view+json": {
       "model_id": "d5536d38114d41e8b8f4049a2fd2710d",
       "version_major": 2,
       "version_minor": 0
      },
      "text/plain": [
       "Drawing 10000 posterior samples:   0%|          | 0/10000 [00:00<?, ?it/s]"
      ]
     },
     "metadata": {},
     "output_type": "display_data"
    },
    {
     "data": {
      "application/vnd.jupyter.widget-view+json": {
       "model_id": "8482e41fab69421ab6d27ff90bbd42d8",
       "version_major": 2,
       "version_minor": 0
      },
      "text/plain": [
       "Drawing 10000 posterior samples:   0%|          | 0/10000 [00:00<?, ?it/s]"
      ]
     },
     "metadata": {},
     "output_type": "display_data"
    },
    {
     "data": {
      "application/vnd.jupyter.widget-view+json": {
       "model_id": "f790ea035d004925b8444f77b590e280",
       "version_major": 2,
       "version_minor": 0
      },
      "text/plain": [
       "Drawing 10000 posterior samples:   0%|          | 0/10000 [00:00<?, ?it/s]"
      ]
     },
     "metadata": {},
     "output_type": "display_data"
    },
    {
     "data": {
      "application/vnd.jupyter.widget-view+json": {
       "model_id": "2384e54d953344bda9f410e410f1f82d",
       "version_major": 2,
       "version_minor": 0
      },
      "text/plain": [
       "Drawing 10000 posterior samples:   0%|          | 0/10000 [00:00<?, ?it/s]"
      ]
     },
     "metadata": {},
     "output_type": "display_data"
    },
    {
     "data": {
      "application/vnd.jupyter.widget-view+json": {
       "model_id": "fd4fcb9088df493f8b48ff3b9740f766",
       "version_major": 2,
       "version_minor": 0
      },
      "text/plain": [
       "Drawing 10000 posterior samples:   0%|          | 0/10000 [00:00<?, ?it/s]"
      ]
     },
     "metadata": {},
     "output_type": "display_data"
    },
    {
     "data": {
      "application/vnd.jupyter.widget-view+json": {
       "model_id": "8a1df9bbf45e4081859ce8991f51d9d8",
       "version_major": 2,
       "version_minor": 0
      },
      "text/plain": [
       "Drawing 10000 posterior samples:   0%|          | 0/10000 [00:00<?, ?it/s]"
      ]
     },
     "metadata": {},
     "output_type": "display_data"
    },
    {
     "data": {
      "application/vnd.jupyter.widget-view+json": {
       "model_id": "a7181f1932894885b1a62bfa609e0c8b",
       "version_major": 2,
       "version_minor": 0
      },
      "text/plain": [
       "Drawing 10000 posterior samples:   0%|          | 0/10000 [00:00<?, ?it/s]"
      ]
     },
     "metadata": {},
     "output_type": "display_data"
    },
    {
     "data": {
      "application/vnd.jupyter.widget-view+json": {
       "model_id": "3b60de92f4e041b5824bcb15e3f687a3",
       "version_major": 2,
       "version_minor": 0
      },
      "text/plain": [
       "Drawing 10000 posterior samples:   0%|          | 0/10000 [00:00<?, ?it/s]"
      ]
     },
     "metadata": {},
     "output_type": "display_data"
    },
    {
     "data": {
      "application/vnd.jupyter.widget-view+json": {
       "model_id": "428a05f99a694a759cc2f80b31424886",
       "version_major": 2,
       "version_minor": 0
      },
      "text/plain": [
       "Drawing 10000 posterior samples:   0%|          | 0/10000 [00:00<?, ?it/s]"
      ]
     },
     "metadata": {},
     "output_type": "display_data"
    },
    {
     "data": {
      "application/vnd.jupyter.widget-view+json": {
       "model_id": "b3f5456dc44d46289ce73886a919847b",
       "version_major": 2,
       "version_minor": 0
      },
      "text/plain": [
       "Drawing 10000 posterior samples:   0%|          | 0/10000 [00:00<?, ?it/s]"
      ]
     },
     "metadata": {},
     "output_type": "display_data"
    },
    {
     "data": {
      "application/vnd.jupyter.widget-view+json": {
       "model_id": "e8457914dd0c4023ba3e8c609d17da56",
       "version_major": 2,
       "version_minor": 0
      },
      "text/plain": [
       "Drawing 10000 posterior samples:   0%|          | 0/10000 [00:00<?, ?it/s]"
      ]
     },
     "metadata": {},
     "output_type": "display_data"
    },
    {
     "data": {
      "application/vnd.jupyter.widget-view+json": {
       "model_id": "2e6ab4c61b6842b586d08d99c5bc2ab2",
       "version_major": 2,
       "version_minor": 0
      },
      "text/plain": [
       "Drawing 10000 posterior samples:   0%|          | 0/10000 [00:00<?, ?it/s]"
      ]
     },
     "metadata": {},
     "output_type": "display_data"
    },
    {
     "data": {
      "application/vnd.jupyter.widget-view+json": {
       "model_id": "62f7219b7c6d4b869b96f1ab3d90d8c2",
       "version_major": 2,
       "version_minor": 0
      },
      "text/plain": [
       "Drawing 10000 posterior samples:   0%|          | 0/10000 [00:00<?, ?it/s]"
      ]
     },
     "metadata": {},
     "output_type": "display_data"
    },
    {
     "data": {
      "application/vnd.jupyter.widget-view+json": {
       "model_id": "021dfb0aff3f402daeb6d84e1a41b17f",
       "version_major": 2,
       "version_minor": 0
      },
      "text/plain": [
       "Drawing 10000 posterior samples:   0%|          | 0/10000 [00:00<?, ?it/s]"
      ]
     },
     "metadata": {},
     "output_type": "display_data"
    },
    {
     "data": {
      "application/vnd.jupyter.widget-view+json": {
       "model_id": "f193b06a66cb4033a67110f13f784745",
       "version_major": 2,
       "version_minor": 0
      },
      "text/plain": [
       "Drawing 10000 posterior samples:   0%|          | 0/10000 [00:00<?, ?it/s]"
      ]
     },
     "metadata": {},
     "output_type": "display_data"
    }
   ],
   "source": [
    "post_spss_raw = []\n",
    "for ix in range(ind_psd.shape[-1]):\n",
    "    curC = ind_conn[:, :, ix]\n",
    "    curBrain = Brain.Brain()\n",
    "    curBrain.add_connectome(DAT_ROOT) # grabs distance matrix\n",
    "    # re-ordering for DK atlas and normalizing the connectomes:\n",
    "    curBrain.reorder_connectome(curBrain.connectome, curBrain.distance_matrix)\n",
    "    curBrain.connectome = curC# re-assign connectome to individual connectome\n",
    "    curBrain.bi_symmetric_c()\n",
    "    curBrain.reduce_extreme_dir()\n",
    "        \n",
    "    sp, raw_sps = meg_psd2spatialfeature(curBrain.reducedConnectome, ind_psd[:, :, ix], FREQS, band=\"alpha\")\n",
    "    \n",
    "    std_spv = stdz_vec(raw_sps.sum(axis=1))\n",
    "    std_psd_DB = psd_2tr(ind_psd[:, :, ix])\n",
    "    std_psd_DB = _thin_psd_mat(std_psd_DB)\n",
    "    \n",
    "    curX_raw = np.concatenate([std_psd_DB.flatten(), std_spv])\n",
    "    curX = torch.Tensor(curX_raw)\n",
    "    post_sps_raw = cur_res.posterior.sample((10000, ), x=curX, max_sampling_batch_size=100000)\n",
    "    post_spss_raw.append(post_sps_raw.numpy())\n",
    "        "
   ]
  },
  {
   "cell_type": "code",
   "execution_count": 66,
   "id": "40eae794",
   "metadata": {
    "ExecuteTime": {
     "end_time": "2022-11-01T21:24:51.126797Z",
     "start_time": "2022-11-01T21:24:50.979788Z"
    }
   },
   "outputs": [
    {
     "name": "stdout",
     "output_type": "stream",
     "text": [
      "/data/rajlab1/user_data/jin/MyResearch/SBI-SGM/mypkg/../results/generalNoiseDedRawReparam_20000_sd10_denestnsf_embedFalse/theta_raw.pkl exists! Use is_force=True to save it anyway\n",
      "/data/rajlab1/user_data/jin/MyResearch/SBI-SGM/mypkg/../results/generalNoiseDedRawReparam_20000_sd10_denestnsf_embedFalse/x.pkl exists! Use is_force=True to save it anyway\n",
      "/data/rajlab1/user_data/jin/MyResearch/SBI-SGM/mypkg/../results/generalNoiseDedRawReparam_20000_sd10_denestnsf_embedFalse/posterior.pkl exists! Use is_force=True to save it anyway\n",
      "Save to /data/rajlab1/user_data/jin/MyResearch/SBI-SGM/mypkg/../results/generalNoiseDedRawReparam_20000_sd10_denestnsf_embedFalse/post_spss_raw.pkl\n"
     ]
    }
   ],
   "source": [
    "cur_res.post_spss_raw = post_spss_raw\n",
    "save_pkl_dict2folder(_paras.folder_path, cur_res, False)"
   ]
  },
  {
   "cell_type": "code",
   "execution_count": 168,
   "id": "6b39a8f9",
   "metadata": {
    "ExecuteTime": {
     "end_time": "2022-11-01T05:37:44.751661Z",
     "start_time": "2022-11-01T05:37:43.299418Z"
    }
   },
   "outputs": [
    {
     "data": {
      "image/png": "[encoded data removed]",
      "text/plain": [
       "<Figure size 576x576 with 49 Axes>"
      ]
     },
     "metadata": {
      "needs_background": "light"
     },
     "output_type": "display_data"
    }
   ],
   "source": [
    "# taue, taui, tauC, speed, alpha, gii, gei\n",
    "_ = analysis.pairplot(cur_res.post_spss_raw[0], \n",
    "                      #limits=paras.prior_bds,\n",
    "                      labels=['taue','taui','tauG','speed','alpha','gii','gei'], \n",
    "                      figsize=(8,8))"
   ]
  },
  {
   "cell_type": "code",
   "execution_count": 67,
   "id": "aa1dcb31",
   "metadata": {
    "ExecuteTime": {
     "end_time": "2022-11-01T21:24:57.466922Z",
     "start_time": "2022-11-01T21:24:54.816132Z"
    }
   },
   "outputs": [
    {
     "name": "stdout",
     "output_type": "stream",
     "text": [
      "Save to /data/rajlab1/user_data/jin/MyResearch/SBI-SGM/mypkg/../results/generalNoiseDedRawReparam_20000_sd10_denestnsf_embedFalse/theta_raw.pkl\n",
      "Save to /data/rajlab1/user_data/jin/MyResearch/SBI-SGM/mypkg/../results/generalNoiseDedRawReparam_20000_sd10_denestnsf_embedFalse/x.pkl\n",
      "Save to /data/rajlab1/user_data/jin/MyResearch/SBI-SGM/mypkg/../results/generalNoiseDedRawReparam_20000_sd10_denestnsf_embedFalse/posterior.pkl\n",
      "Save to /data/rajlab1/user_data/jin/MyResearch/SBI-SGM/mypkg/../results/generalNoiseDedRawReparam_20000_sd10_denestnsf_embedFalse/post_spss_raw.pkl\n",
      "Save to /data/rajlab1/user_data/jin/MyResearch/SBI-SGM/mypkg/../results/generalNoiseDedRawReparam_20000_sd10_denestnsf_embedFalse/post_spss.pkl\n"
     ]
    }
   ],
   "source": [
    "# from theta_raw to theta\n",
    "post_spss = [theta_raw_2out(post_sps_raw, paras.prior_bds) for post_sps_raw in cur_res.post_spss_raw]\n",
    "\n",
    "cur_res.post_spss = post_spss\n",
    "save_pkl_dict2folder(_paras.folder_path, cur_res, True)"
   ]
  },
  {
   "cell_type": "code",
   "execution_count": 18,
   "id": "8e52ae29",
   "metadata": {
    "ExecuteTime": {
     "end_time": "2022-10-31T00:41:51.997678Z",
     "start_time": "2022-10-31T00:41:50.504569Z"
    }
   },
   "outputs": [
    {
     "data": {
      "image/png": "[encoded data removed]",
      "text/plain": [
       "<Figure size 576x576 with 49 Axes>"
      ]
     },
     "metadata": {
      "needs_background": "light"
     },
     "output_type": "display_data"
    }
   ],
   "source": [
    "# taue, taui, tauC, speed, alpha, gii, gei\n",
    "_ = analysis.pairplot(cur_res.post_spss[0], \n",
    "                      limits=paras.prior_bds,\n",
    "                      labels=['taue','taui','tauG','speed','alpha','gii','gei'], \n",
    "                      figsize=(8,8))"
   ]
  },
  {
   "cell_type": "code",
   "execution_count": null,
   "id": "8f0b70b3",
   "metadata": {},
   "outputs": [],
   "source": []
  },
  {
   "cell_type": "markdown",
   "id": "b71633d4",
   "metadata": {},
   "source": [
    "#### PSD estimate"
   ]
  },
  {
   "cell_type": "code",
   "execution_count": 89,
   "id": "37dc02f7",
   "metadata": {
    "ExecuteTime": {
     "end_time": "2022-11-01T23:23:07.194221Z",
     "start_time": "2022-11-01T23:23:06.371147Z"
    }
   },
   "outputs": [
    {
     "name": "stdout",
     "output_type": "stream",
     "text": [
      "Load file /data/rajlab1/user_data/jin/MyResearch/SBI-SGM/mypkg/../results/generalNoiseDedRawReparam_20000_sd20_denestnsf_embedFalse/theta_raw.pkl\n",
      "Load file /data/rajlab1/user_data/jin/MyResearch/SBI-SGM/mypkg/../results/generalNoiseDedRawReparam_20000_sd20_denestnsf_embedFalse/x.pkl\n",
      "Load file /data/rajlab1/user_data/jin/MyResearch/SBI-SGM/mypkg/../results/generalNoiseDedRawReparam_20000_sd20_denestnsf_embedFalse/posterior.pkl\n",
      "Load file /data/rajlab1/user_data/jin/MyResearch/SBI-SGM/mypkg/../results/generalNoiseDedRawReparam_20000_sd20_denestnsf_embedFalse/post_spss_raw.pkl\n",
      "Load file /data/rajlab1/user_data/jin/MyResearch/SBI-SGM/mypkg/../results/generalNoiseDedRawReparam_20000_sd20_denestnsf_embedFalse/post_spss.pkl\n"
     ]
    }
   ],
   "source": [
    "cur_res = load_pkl_folder2dict(_paras.folder_path)"
   ]
  },
  {
   "cell_type": "code",
   "execution_count": 90,
   "id": "a109dfe4",
   "metadata": {
    "ExecuteTime": {
     "end_time": "2022-11-01T23:33:44.528667Z",
     "start_time": "2022-11-01T23:23:09.672929Z"
    },
    "scrolled": true
   },
   "outputs": [
    {
     "name": "stderr",
     "output_type": "stream",
     "text": [
      "100%|██████████████████████████████████████████████████████████████████████████████████████████████████████████████████████████████████████████| 36/36 [10:34<00:00, 17.63s/it]\n"
     ]
    }
   ],
   "source": [
    "# the estimated PSD and spatial feature from SGM  \n",
    "\n",
    "# way 1\n",
    "cur_est_parass = np.array([np.median(ps, axis=0) for ps in cur_res.post_spss])\n",
    "\n",
    "# way 2\n",
    "#cur_est_parass = np.array([[get_mode(ps[:, ix]) for ix in range(7)] for ps in cur_res.post_spss])\n",
    "\n",
    "# way 3\n",
    "#cur_est_parass_raw = np.array([np.median(ps, axis=0) for ps in cur_res.post_spss_raw])\n",
    "#cur_est_parass = theta_raw_2out(cur_est_parass_raw, paras.prior_bds)\n",
    "\n",
    "# way 4\n",
    "#cur_est_parass_raw = np.array([[get_mode(ps[:, ix]) for ix in range(7)] for ps in cur_res.post_spss_raw])\n",
    "#cur_est_parass = theta_raw_2out(cur_est_parass_raw, paras.prior_bds)\n",
    "\n",
    "std_psd_DB = []\n",
    "raw_sp = []\n",
    "for ix in trange(36):\n",
    "    cur_est_paras = cur_est_parass[ix, :]\n",
    "    \n",
    "    cur_conn = ind_conn[:, :, ix]\n",
    "    cur_brain = Brain.Brain()\n",
    "    cur_brain.add_connectome(DAT_ROOT) # grabs distance matrix\n",
    "    cur_brain.reorder_connectome(cur_brain.connectome, cur_brain.distance_matrix)\n",
    "    cur_brain.connectome = cur_conn# re-assign connectome to individual connectome\n",
    "    cur_brain.bi_symmetric_c()\n",
    "    cur_brain.reduce_extreme_dir()\n",
    "    \n",
    "    cur_SGM_model = SGM(cur_brain.reducedConnectome, cur_brain.distance_matrix, FREQS)\n",
    "    cur_psd, cur_sp = cur_SGM_model.run_local_coupling_forward(cur_est_paras)\n",
    "    cur_psd = cur_psd[:68, :]\n",
    "    cur_psd_DB = psd_2tr(cur_psd)\n",
    "    \n",
    "    std_psd_DB.append(cur_psd_DB)\n",
    "    raw_sp.append(cur_sp.sum(axis=1))\n",
    "    "
   ]
  },
  {
   "cell_type": "code",
   "execution_count": 91,
   "id": "04e89f61",
   "metadata": {
    "ExecuteTime": {
     "end_time": "2022-11-01T23:33:44.564288Z",
     "start_time": "2022-11-01T23:33:44.536156Z"
    }
   },
   "outputs": [
    {
     "name": "stdout",
     "output_type": "stream",
     "text": [
      "Corr is 0.981\n"
     ]
    }
   ],
   "source": [
    "sgm_psd_curve = np.array(std_psd_DB).mean(axis=1).mean(axis=0)\n",
    "meg_psd_curve = np.mean([psd_2tr(ind_psd[:, :, ix]).mean(axis=0) for ix in range(36)], axis=0)\n",
    "cor = scipy.stats.pearsonr(stdz_vec(meg_psd_curve), stdz_vec(sgm_psd_curve))[0]\n",
    "print(f\"Corr is {cor:.3f}\")"
   ]
  },
  {
   "cell_type": "code",
   "execution_count": 92,
   "id": "3c253b43",
   "metadata": {
    "ExecuteTime": {
     "end_time": "2022-11-01T23:33:44.906451Z",
     "start_time": "2022-11-01T23:33:44.566234Z"
    }
   },
   "outputs": [
    {
     "data": {
      "text/plain": [
       "<matplotlib.legend.Legend at 0x7f8fec4a6bb0>"
      ]
     },
     "execution_count": 92,
     "metadata": {},
     "output_type": "execute_result"
    },
    {
     "data": {
      "image/png": "[encoded data removed]",
      "text/plain": [
       "<Figure size 360x360 with 1 Axes>"
      ]
     },
     "metadata": {
      "needs_background": "light"
     },
     "output_type": "display_data"
    }
   ],
   "source": [
    "plt.figure(figsize=[5, 5])\n",
    "plt.plot(FREQS, stdz_vec(meg_psd_curve), linestyle = '-',\n",
    "         marker = 's',fillstyle = 'none',color = 'k', label = \"MEG\", alpha = 0.8)\n",
    "plt.plot(FREQS, stdz_vec(sgm_psd_curve), linestyle = '-',\n",
    "         marker = 'o',fillstyle = 'none',color = 'b', label = \"M-SGM\", alpha = 0.8)\n",
    "plt.xlabel('Frequency (Hz)', fontsize = 17)\n",
    "plt.ylabel('Normalized PSD', fontsize = 17)\n",
    "plt.legend()"
   ]
  },
  {
   "cell_type": "code",
   "execution_count": null,
   "id": "8cda20e3",
   "metadata": {},
   "outputs": [],
   "source": []
  },
  {
   "cell_type": "code",
   "execution_count": 93,
   "id": "952e788f",
   "metadata": {
    "ExecuteTime": {
     "end_time": "2022-11-01T23:33:45.271958Z",
     "start_time": "2022-11-01T23:33:44.908457Z"
    }
   },
   "outputs": [],
   "source": [
    "# Corrs for PSD and spatial features for each subject\n",
    "meg_psd_roi_sub = np.array([psd_2tr(ind_psd[:, :, ix]) for ix in range(36)])\n",
    "sgm_psd_roi_sub = np.array(std_psd_DB)\n",
    "\n",
    "corrs_roi_sub = []\n",
    "for ix in range(meg_psd_roi_sub.shape[0]):\n",
    "    cur_meg = meg_psd_roi_sub[ix]\n",
    "    cur_sgm = sgm_psd_roi_sub[ix]\n",
    "    corrs_roi_sub.append(np.mean([scipy.stats.pearsonr(cur_meg[iy], cur_sgm[iy])[0] for iy in range(68)]))\n",
    "corrs_roi_sub = np.array(corrs_roi_sub)"
   ]
  },
  {
   "cell_type": "code",
   "execution_count": 94,
   "id": "47a59e01",
   "metadata": {
    "ExecuteTime": {
     "end_time": "2022-11-01T23:33:45.284715Z",
     "start_time": "2022-11-01T23:33:45.274275Z"
    }
   },
   "outputs": [
    {
     "data": {
      "text/plain": [
       "array([0.65936284, 0.66297291, 0.7256172 , 0.83185707, 0.83326678,\n",
       "       0.83448678, 0.83992097, 0.84084086, 0.84225677, 0.84430378,\n",
       "       0.85194804, 0.85338639, 0.85582601, 0.85588918, 0.86087716,\n",
       "       0.8657063 , 0.87695124, 0.87876295, 0.88196012, 0.88255693,\n",
       "       0.88314593, 0.88428413, 0.88565813, 0.88806699, 0.89138225,\n",
       "       0.89196864, 0.89718351, 0.89865407, 0.89979573, 0.90000589,\n",
       "       0.90229054, 0.90760221, 0.90819054, 0.91461587, 0.92590941,\n",
       "       0.93115494])"
      ]
     },
     "execution_count": 94,
     "metadata": {},
     "output_type": "execute_result"
    }
   ],
   "source": [
    "np.sort(corrs_roi_sub)"
   ]
  },
  {
   "cell_type": "code",
   "execution_count": 95,
   "id": "c0fd924b",
   "metadata": {
    "ExecuteTime": {
     "end_time": "2022-11-01T23:33:45.299771Z",
     "start_time": "2022-11-01T23:33:45.286131Z"
    }
   },
   "outputs": [
    {
     "name": "stdout",
     "output_type": "stream",
     "text": [
      "0.8803615360078594 0.8607960848435882\n"
     ]
    }
   ],
   "source": [
    "print(np.median(corrs_roi_sub), np.mean(corrs_roi_sub))"
   ]
  },
  {
   "cell_type": "code",
   "execution_count": 96,
   "id": "20903cdb",
   "metadata": {
    "ExecuteTime": {
     "end_time": "2022-11-01T23:33:45.323237Z",
     "start_time": "2022-11-01T23:33:45.301478Z"
    }
   },
   "outputs": [
    {
     "data": {
      "text/plain": [
       "array([21,  4, 24,  8, 32, 25,  0, 27, 10, 34,  3, 28, 19, 18,  2,  1, 26,\n",
       "       15,  7, 35, 14, 11, 33,  9, 13, 22, 12,  5, 16, 17, 31,  6, 23, 20,\n",
       "       29, 30])"
      ]
     },
     "execution_count": 96,
     "metadata": {},
     "output_type": "execute_result"
    }
   ],
   "source": [
    "np.argsort(corrs_roi_sub)"
   ]
  },
  {
   "cell_type": "code",
   "execution_count": 97,
   "id": "4be8b556",
   "metadata": {
    "ExecuteTime": {
     "end_time": "2022-11-01T23:33:45.684294Z",
     "start_time": "2022-11-01T23:33:45.324606Z"
    }
   },
   "outputs": [
    {
     "data": {
      "text/plain": [
       "<matplotlib.legend.Legend at 0x7f8fec479640>"
      ]
     },
     "execution_count": 97,
     "metadata": {},
     "output_type": "execute_result"
    },
    {
     "data": {
      "image/png": "[encoded data removed]",
      "text/plain": [
       "<Figure size 432x288 with 1 Axes>"
      ]
     },
     "metadata": {
      "needs_background": "light"
     },
     "output_type": "display_data"
    }
   ],
   "source": [
    "sub_ix = 1\n",
    "cur_sgm.shape\n",
    "plt.plot(FREQS, stdz_vec(meg_psd_roi_sub[sub_ix, :, :].mean(axis=0)), linestyle = '-',\n",
    "         marker = 's',fillstyle = 'none',color = 'k', label = \"MEG\", alpha = 0.8)\n",
    "plt.plot(FREQS, stdz_vec(sgm_psd_roi_sub[sub_ix, :, :].mean(axis=0)), linestyle = '-',\n",
    "         marker = 'o',fillstyle = 'none',color = 'b', label = \"M-SGM\", alpha = 0.8)\n",
    "plt.legend()"
   ]
  },
  {
   "cell_type": "code",
   "execution_count": 98,
   "id": "dc5a7cdd",
   "metadata": {
    "ExecuteTime": {
     "end_time": "2022-11-01T23:33:46.034871Z",
     "start_time": "2022-11-01T23:33:45.686025Z"
    }
   },
   "outputs": [
    {
     "data": {
      "text/plain": [
       "<matplotlib.legend.Legend at 0x7f8fe634a0d0>"
      ]
     },
     "execution_count": 98,
     "metadata": {},
     "output_type": "execute_result"
    },
    {
     "data": {
      "image/png": "[encoded data removed]",
      "text/plain": [
       "<Figure size 432x288 with 1 Axes>"
      ]
     },
     "metadata": {
      "needs_background": "light"
     },
     "output_type": "display_data"
    }
   ],
   "source": [
    "sub_ix = 24\n",
    "roi_ix = 1\n",
    "cur_sgm.shape\n",
    "plt.plot(FREQS, stdz_vec(meg_psd_roi_sub[sub_ix, roi_ix, :]), linestyle = '-',\n",
    "         marker = 's',fillstyle = 'none',color = 'k', label = \"MEG\", alpha = 0.8)\n",
    "plt.plot(FREQS, stdz_vec(sgm_psd_roi_sub[sub_ix, roi_ix, :]), linestyle = '-',\n",
    "         marker = 'o',fillstyle = 'none',color = 'b', label = \"M-SGM\", alpha = 0.8)\n",
    "plt.legend()"
   ]
  },
  {
   "cell_type": "code",
   "execution_count": null,
   "id": "0c275cd4",
   "metadata": {
    "ExecuteTime": {
     "end_time": "2022-10-21T20:16:22.512619Z",
     "start_time": "2022-10-21T20:16:22.489051Z"
    }
   },
   "outputs": [],
   "source": [
    "cur_res.raw_sp = raw_sp\n",
    "cur_res.std_psd_DB = std_psd_DB\n",
    "save_pkl_dict2folder(_paras.folder_path, cur_res, True)"
   ]
  },
  {
   "cell_type": "code",
   "execution_count": null,
   "id": "7e7ff003",
   "metadata": {},
   "outputs": [],
   "source": []
  },
  {
   "cell_type": "markdown",
   "id": "9f31156e",
   "metadata": {},
   "source": [
    "### Another way to do the inference"
   ]
  },
  {
   "cell_type": "code",
   "execution_count": 99,
   "id": "d11fed26",
   "metadata": {
    "ExecuteTime": {
     "end_time": "2022-11-01T23:40:24.746610Z",
     "start_time": "2022-11-01T23:35:05.214936Z"
    }
   },
   "outputs": [
    {
     "name": "stdout",
     "output_type": "stream",
     "text": [
      "0\n"
     ]
    },
    {
     "data": {
      "application/vnd.jupyter.widget-view+json": {
       "model_id": "08d6affc40754f32991e4add573e1442",
       "version_major": 2,
       "version_minor": 0
      },
      "text/plain": [
       "Drawing 100 posterior samples:   0%|          | 0/100 [00:00<?, ?it/s]"
      ]
     },
     "metadata": {},
     "output_type": "display_data"
    },
    {
     "data": {
      "application/vnd.jupyter.widget-view+json": {
       "model_id": "6a78963600b54f9387b880f9f04cccb0",
       "version_major": 2,
       "version_minor": 0
      },
      "text/plain": [
       "Running 100 simulations in 100 batches.:   0%|          | 0/100 [00:00<?, ?it/s]"
      ]
     },
     "metadata": {},
     "output_type": "display_data"
    },
    {
     "name": "stderr",
     "output_type": "stream",
     "text": [
      "/opt/conda/lib/python3.9/site-packages/scipy/__init__.py:146: UserWarning: A NumPy version >=1.16.5 and <1.23.0 is required for this version of SciPy (detected version 1.23.1\n",
      "  warnings.warn(f\"A NumPy version >={np_minversion} and <{np_maxversion}\"\n",
      "/opt/conda/lib/python3.9/site-packages/scipy/__init__.py:146: UserWarning: A NumPy version >=1.16.5 and <1.23.0 is required for this version of SciPy (detected version 1.23.1\n",
      "  warnings.warn(f\"A NumPy version >={np_minversion} and <{np_maxversion}\"\n",
      "/opt/conda/lib/python3.9/site-packages/scipy/__init__.py:146: UserWarning: A NumPy version >=1.16.5 and <1.23.0 is required for this version of SciPy (detected version 1.23.1\n",
      "  warnings.warn(f\"A NumPy version >={np_minversion} and <{np_maxversion}\"\n",
      "/opt/conda/lib/python3.9/site-packages/scipy/__init__.py:146: UserWarning: A NumPy version >=1.16.5 and <1.23.0 is required for this version of SciPy (detected version 1.23.1\n",
      "  warnings.warn(f\"A NumPy version >={np_minversion} and <{np_maxversion}\"\n",
      "/opt/conda/lib/python3.9/site-packages/scipy/__init__.py:146: UserWarning: A NumPy version >=1.16.5 and <1.23.0 is required for this version of SciPy (detected version 1.23.1\n",
      "  warnings.warn(f\"A NumPy version >={np_minversion} and <{np_maxversion}\"\n",
      "/opt/conda/lib/python3.9/site-packages/scipy/__init__.py:146: UserWarning: A NumPy version >=1.16.5 and <1.23.0 is required for this version of SciPy (detected version 1.23.1\n",
      "  warnings.warn(f\"A NumPy version >={np_minversion} and <{np_maxversion}\"\n",
      "/opt/conda/lib/python3.9/site-packages/scipy/__init__.py:146: UserWarning: A NumPy version >=1.16.5 and <1.23.0 is required for this version of SciPy (detected version 1.23.1\n",
      "  warnings.warn(f\"A NumPy version >={np_minversion} and <{np_maxversion}\"\n",
      "/opt/conda/lib/python3.9/site-packages/scipy/__init__.py:146: UserWarning: A NumPy version >=1.16.5 and <1.23.0 is required for this version of SciPy (detected version 1.23.1\n",
      "  warnings.warn(f\"A NumPy version >={np_minversion} and <{np_maxversion}\"\n",
      "/opt/conda/lib/python3.9/site-packages/scipy/__init__.py:146: UserWarning: A NumPy version >=1.16.5 and <1.23.0 is required for this version of SciPy (detected version 1.23.1\n",
      "  warnings.warn(f\"A NumPy version >={np_minversion} and <{np_maxversion}\"\n",
      "/opt/conda/lib/python3.9/site-packages/scipy/__init__.py:146: UserWarning: A NumPy version >=1.16.5 and <1.23.0 is required for this version of SciPy (detected version 1.23.1\n",
      "  warnings.warn(f\"A NumPy version >={np_minversion} and <{np_maxversion}\"\n",
      "/opt/conda/lib/python3.9/site-packages/scipy/__init__.py:146: UserWarning: A NumPy version >=1.16.5 and <1.23.0 is required for this version of SciPy (detected version 1.23.1\n",
      "  warnings.warn(f\"A NumPy version >={np_minversion} and <{np_maxversion}\"\n",
      "/opt/conda/lib/python3.9/site-packages/scipy/__init__.py:146: UserWarning: A NumPy version >=1.16.5 and <1.23.0 is required for this version of SciPy (detected version 1.23.1\n",
      "  warnings.warn(f\"A NumPy version >={np_minversion} and <{np_maxversion}\"\n",
      "/opt/conda/lib/python3.9/site-packages/scipy/__init__.py:146: UserWarning: A NumPy version >=1.16.5 and <1.23.0 is required for this version of SciPy (detected version 1.23.1\n",
      "  warnings.warn(f\"A NumPy version >={np_minversion} and <{np_maxversion}\"\n",
      "/opt/conda/lib/python3.9/site-packages/scipy/__init__.py:146: UserWarning: A NumPy version >=1.16.5 and <1.23.0 is required for this version of SciPy (detected version 1.23.1\n",
      "  warnings.warn(f\"A NumPy version >={np_minversion} and <{np_maxversion}\"\n",
      "/opt/conda/lib/python3.9/site-packages/scipy/__init__.py:146: UserWarning: A NumPy version >=1.16.5 and <1.23.0 is required for this version of SciPy (detected version 1.23.1\n",
      "  warnings.warn(f\"A NumPy version >={np_minversion} and <{np_maxversion}\"\n",
      "/opt/conda/lib/python3.9/site-packages/scipy/__init__.py:146: UserWarning: A NumPy version >=1.16.5 and <1.23.0 is required for this version of SciPy (detected version 1.23.1\n",
      "  warnings.warn(f\"A NumPy version >={np_minversion} and <{np_maxversion}\"\n",
      "/opt/conda/lib/python3.9/site-packages/scipy/__init__.py:146: UserWarning: A NumPy version >=1.16.5 and <1.23.0 is required for this version of SciPy (detected version 1.23.1\n",
      "  warnings.warn(f\"A NumPy version >={np_minversion} and <{np_maxversion}\"\n",
      "/opt/conda/lib/python3.9/site-packages/scipy/__init__.py:146: UserWarning: A NumPy version >=1.16.5 and <1.23.0 is required for this version of SciPy (detected version 1.23.1\n",
      "  warnings.warn(f\"A NumPy version >={np_minversion} and <{np_maxversion}\"\n",
      "/opt/conda/lib/python3.9/site-packages/scipy/__init__.py:146: UserWarning: A NumPy version >=1.16.5 and <1.23.0 is required for this version of SciPy (detected version 1.23.1\n",
      "  warnings.warn(f\"A NumPy version >={np_minversion} and <{np_maxversion}\"\n",
      "/opt/conda/lib/python3.9/site-packages/scipy/__init__.py:146: UserWarning: A NumPy version >=1.16.5 and <1.23.0 is required for this version of SciPy (detected version 1.23.1\n",
      "  warnings.warn(f\"A NumPy version >={np_minversion} and <{np_maxversion}\"\n",
      "/opt/conda/lib/python3.9/site-packages/scipy/__init__.py:146: UserWarning: A NumPy version >=1.16.5 and <1.23.0 is required for this version of SciPy (detected version 1.23.1\n",
      "  warnings.warn(f\"A NumPy version >={np_minversion} and <{np_maxversion}\"\n",
      "/opt/conda/lib/python3.9/site-packages/scipy/__init__.py:146: UserWarning: A NumPy version >=1.16.5 and <1.23.0 is required for this version of SciPy (detected version 1.23.1\n",
      "  warnings.warn(f\"A NumPy version >={np_minversion} and <{np_maxversion}\"\n",
      "/opt/conda/lib/python3.9/site-packages/scipy/__init__.py:146: UserWarning: A NumPy version >=1.16.5 and <1.23.0 is required for this version of SciPy (detected version 1.23.1\n",
      "  warnings.warn(f\"A NumPy version >={np_minversion} and <{np_maxversion}\"\n",
      "/opt/conda/lib/python3.9/site-packages/scipy/__init__.py:146: UserWarning: A NumPy version >=1.16.5 and <1.23.0 is required for this version of SciPy (detected version 1.23.1\n",
      "  warnings.warn(f\"A NumPy version >={np_minversion} and <{np_maxversion}\"\n",
      "/opt/conda/lib/python3.9/site-packages/scipy/__init__.py:146: UserWarning: A NumPy version >=1.16.5 and <1.23.0 is required for this version of SciPy (detected version 1.23.1\n",
      "  warnings.warn(f\"A NumPy version >={np_minversion} and <{np_maxversion}\"\n",
      "/opt/conda/lib/python3.9/site-packages/scipy/__init__.py:146: UserWarning: A NumPy version >=1.16.5 and <1.23.0 is required for this version of SciPy (detected version 1.23.1\n",
      "  warnings.warn(f\"A NumPy version >={np_minversion} and <{np_maxversion}\"\n",
      "/opt/conda/lib/python3.9/site-packages/scipy/__init__.py:146: UserWarning: A NumPy version >=1.16.5 and <1.23.0 is required for this version of SciPy (detected version 1.23.1\n",
      "  warnings.warn(f\"A NumPy version >={np_minversion} and <{np_maxversion}\"\n",
      "/opt/conda/lib/python3.9/site-packages/scipy/__init__.py:146: UserWarning: A NumPy version >=1.16.5 and <1.23.0 is required for this version of SciPy (detected version 1.23.1\n",
      "  warnings.warn(f\"A NumPy version >={np_minversion} and <{np_maxversion}\"\n",
      "/opt/conda/lib/python3.9/site-packages/scipy/__init__.py:146: UserWarning: A NumPy version >=1.16.5 and <1.23.0 is required for this version of SciPy (detected version 1.23.1\n",
      "  warnings.warn(f\"A NumPy version >={np_minversion} and <{np_maxversion}\"\n",
      "/opt/conda/lib/python3.9/site-packages/scipy/__init__.py:146: UserWarning: A NumPy version >=1.16.5 and <1.23.0 is required for this version of SciPy (detected version 1.23.1\n",
      "  warnings.warn(f\"A NumPy version >={np_minversion} and <{np_maxversion}\"\n",
      "/opt/conda/lib/python3.9/site-packages/scipy/__init__.py:146: UserWarning: A NumPy version >=1.16.5 and <1.23.0 is required for this version of SciPy (detected version 1.23.1\n",
      "  warnings.warn(f\"A NumPy version >={np_minversion} and <{np_maxversion}\"\n",
      "/opt/conda/lib/python3.9/site-packages/scipy/__init__.py:146: UserWarning: A NumPy version >=1.16.5 and <1.23.0 is required for this version of SciPy (detected version 1.23.1\n",
      "  warnings.warn(f\"A NumPy version >={np_minversion} and <{np_maxversion}\"\n",
      "/opt/conda/lib/python3.9/site-packages/scipy/__init__.py:146: UserWarning: A NumPy version >=1.16.5 and <1.23.0 is required for this version of SciPy (detected version 1.23.1\n",
      "  warnings.warn(f\"A NumPy version >={np_minversion} and <{np_maxversion}\"\n",
      "/opt/conda/lib/python3.9/site-packages/scipy/__init__.py:146: UserWarning: A NumPy version >=1.16.5 and <1.23.0 is required for this version of SciPy (detected version 1.23.1\n",
      "  warnings.warn(f\"A NumPy version >={np_minversion} and <{np_maxversion}\"\n",
      "/opt/conda/lib/python3.9/site-packages/scipy/__init__.py:146: UserWarning: A NumPy version >=1.16.5 and <1.23.0 is required for this version of SciPy (detected version 1.23.1\n",
      "  warnings.warn(f\"A NumPy version >={np_minversion} and <{np_maxversion}\"\n",
      "/opt/conda/lib/python3.9/site-packages/scipy/__init__.py:146: UserWarning: A NumPy version >=1.16.5 and <1.23.0 is required for this version of SciPy (detected version 1.23.1\n",
      "  warnings.warn(f\"A NumPy version >={np_minversion} and <{np_maxversion}\"\n",
      "/opt/conda/lib/python3.9/site-packages/scipy/__init__.py:146: UserWarning: A NumPy version >=1.16.5 and <1.23.0 is required for this version of SciPy (detected version 1.23.1\n",
      "  warnings.warn(f\"A NumPy version >={np_minversion} and <{np_maxversion}\"\n",
      "/opt/conda/lib/python3.9/site-packages/scipy/__init__.py:146: UserWarning: A NumPy version >=1.16.5 and <1.23.0 is required for this version of SciPy (detected version 1.23.1\n",
      "  warnings.warn(f\"A NumPy version >={np_minversion} and <{np_maxversion}\"\n",
      "/opt/conda/lib/python3.9/site-packages/scipy/__init__.py:146: UserWarning: A NumPy version >=1.16.5 and <1.23.0 is required for this version of SciPy (detected version 1.23.1\n",
      "  warnings.warn(f\"A NumPy version >={np_minversion} and <{np_maxversion}\"\n",
      "/opt/conda/lib/python3.9/site-packages/scipy/__init__.py:146: UserWarning: A NumPy version >=1.16.5 and <1.23.0 is required for this version of SciPy (detected version 1.23.1\n",
      "  warnings.warn(f\"A NumPy version >={np_minversion} and <{np_maxversion}\"\n"
     ]
    },
    {
     "name": "stderr",
     "output_type": "stream",
     "text": [
      "/opt/conda/lib/python3.9/site-packages/scipy/__init__.py:146: UserWarning: A NumPy version >=1.16.5 and <1.23.0 is required for this version of SciPy (detected version 1.23.1\n",
      "  warnings.warn(f\"A NumPy version >={np_minversion} and <{np_maxversion}\"\n",
      "/opt/conda/lib/python3.9/site-packages/scipy/__init__.py:146: UserWarning: A NumPy version >=1.16.5 and <1.23.0 is required for this version of SciPy (detected version 1.23.1\n",
      "  warnings.warn(f\"A NumPy version >={np_minversion} and <{np_maxversion}\"\n",
      "/opt/conda/lib/python3.9/site-packages/scipy/__init__.py:146: UserWarning: A NumPy version >=1.16.5 and <1.23.0 is required for this version of SciPy (detected version 1.23.1\n",
      "  warnings.warn(f\"A NumPy version >={np_minversion} and <{np_maxversion}\"\n",
      "/opt/conda/lib/python3.9/site-packages/scipy/__init__.py:146: UserWarning: A NumPy version >=1.16.5 and <1.23.0 is required for this version of SciPy (detected version 1.23.1\n",
      "  warnings.warn(f\"A NumPy version >={np_minversion} and <{np_maxversion}\"\n",
      "/opt/conda/lib/python3.9/site-packages/scipy/__init__.py:146: UserWarning: A NumPy version >=1.16.5 and <1.23.0 is required for this version of SciPy (detected version 1.23.1\n",
      "  warnings.warn(f\"A NumPy version >={np_minversion} and <{np_maxversion}\"\n",
      "/opt/conda/lib/python3.9/site-packages/scipy/__init__.py:146: UserWarning: A NumPy version >=1.16.5 and <1.23.0 is required for this version of SciPy (detected version 1.23.1\n",
      "  warnings.warn(f\"A NumPy version >={np_minversion} and <{np_maxversion}\"\n",
      "/opt/conda/lib/python3.9/site-packages/scipy/__init__.py:146: UserWarning: A NumPy version >=1.16.5 and <1.23.0 is required for this version of SciPy (detected version 1.23.1\n",
      "  warnings.warn(f\"A NumPy version >={np_minversion} and <{np_maxversion}\"\n",
      "/opt/conda/lib/python3.9/site-packages/scipy/__init__.py:146: UserWarning: A NumPy version >=1.16.5 and <1.23.0 is required for this version of SciPy (detected version 1.23.1\n",
      "  warnings.warn(f\"A NumPy version >={np_minversion} and <{np_maxversion}\"\n",
      "/opt/conda/lib/python3.9/site-packages/scipy/__init__.py:146: UserWarning: A NumPy version >=1.16.5 and <1.23.0 is required for this version of SciPy (detected version 1.23.1\n",
      "  warnings.warn(f\"A NumPy version >={np_minversion} and <{np_maxversion}\"\n",
      "/opt/conda/lib/python3.9/site-packages/scipy/__init__.py:146: UserWarning: A NumPy version >=1.16.5 and <1.23.0 is required for this version of SciPy (detected version 1.23.1\n",
      "  warnings.warn(f\"A NumPy version >={np_minversion} and <{np_maxversion}\"\n"
     ]
    },
    {
     "name": "stdout",
     "output_type": "stream",
     "text": [
      "1\n"
     ]
    },
    {
     "data": {
      "application/vnd.jupyter.widget-view+json": {
       "model_id": "143477504dd34793ab1daba674d7bdee",
       "version_major": 2,
       "version_minor": 0
      },
      "text/plain": [
       "Drawing 100 posterior samples:   0%|          | 0/100 [00:00<?, ?it/s]"
      ]
     },
     "metadata": {},
     "output_type": "display_data"
    },
    {
     "data": {
      "application/vnd.jupyter.widget-view+json": {
       "model_id": "48e066af5ee14904a7fc0aa509b4f534",
       "version_major": 2,
       "version_minor": 0
      },
      "text/plain": [
       "Running 100 simulations in 100 batches.:   0%|          | 0/100 [00:00<?, ?it/s]"
      ]
     },
     "metadata": {},
     "output_type": "display_data"
    },
    {
     "name": "stdout",
     "output_type": "stream",
     "text": [
      "2\n"
     ]
    },
    {
     "data": {
      "application/vnd.jupyter.widget-view+json": {
       "model_id": "458a1cc1b702479c9c9e6cc43f0ae7aa",
       "version_major": 2,
       "version_minor": 0
      },
      "text/plain": [
       "Drawing 100 posterior samples:   0%|          | 0/100 [00:00<?, ?it/s]"
      ]
     },
     "metadata": {},
     "output_type": "display_data"
    },
    {
     "data": {
      "application/vnd.jupyter.widget-view+json": {
       "model_id": "c885b297682642799e2c974b3df5a9a5",
       "version_major": 2,
       "version_minor": 0
      },
      "text/plain": [
       "Running 100 simulations in 100 batches.:   0%|          | 0/100 [00:00<?, ?it/s]"
      ]
     },
     "metadata": {},
     "output_type": "display_data"
    },
    {
     "name": "stdout",
     "output_type": "stream",
     "text": [
      "3\n"
     ]
    },
    {
     "data": {
      "application/vnd.jupyter.widget-view+json": {
       "model_id": "81c4ca8b7b20454e8d8ce84827bebddf",
       "version_major": 2,
       "version_minor": 0
      },
      "text/plain": [
       "Drawing 100 posterior samples:   0%|          | 0/100 [00:00<?, ?it/s]"
      ]
     },
     "metadata": {},
     "output_type": "display_data"
    },
    {
     "data": {
      "application/vnd.jupyter.widget-view+json": {
       "model_id": "836f03d78bdc4747994c13a0875705a6",
       "version_major": 2,
       "version_minor": 0
      },
      "text/plain": [
       "Running 100 simulations in 100 batches.:   0%|          | 0/100 [00:00<?, ?it/s]"
      ]
     },
     "metadata": {},
     "output_type": "display_data"
    },
    {
     "name": "stdout",
     "output_type": "stream",
     "text": [
      "4\n"
     ]
    },
    {
     "data": {
      "application/vnd.jupyter.widget-view+json": {
       "model_id": "57d7a6d8149c4c08b2e0465aa2dc4448",
       "version_major": 2,
       "version_minor": 0
      },
      "text/plain": [
       "Drawing 100 posterior samples:   0%|          | 0/100 [00:00<?, ?it/s]"
      ]
     },
     "metadata": {},
     "output_type": "display_data"
    },
    {
     "data": {
      "application/vnd.jupyter.widget-view+json": {
       "model_id": "7ba4f50b52684de8b416a7733769e787",
       "version_major": 2,
       "version_minor": 0
      },
      "text/plain": [
       "Running 100 simulations in 100 batches.:   0%|          | 0/100 [00:00<?, ?it/s]"
      ]
     },
     "metadata": {},
     "output_type": "display_data"
    },
    {
     "name": "stdout",
     "output_type": "stream",
     "text": [
      "5\n"
     ]
    },
    {
     "data": {
      "application/vnd.jupyter.widget-view+json": {
       "model_id": "bf6635a2792140e98819fbcd6e995edd",
       "version_major": 2,
       "version_minor": 0
      },
      "text/plain": [
       "Drawing 100 posterior samples:   0%|          | 0/100 [00:00<?, ?it/s]"
      ]
     },
     "metadata": {},
     "output_type": "display_data"
    },
    {
     "data": {
      "application/vnd.jupyter.widget-view+json": {
       "model_id": "50c81663648f49b9a302a75790f29fe1",
       "version_major": 2,
       "version_minor": 0
      },
      "text/plain": [
       "Running 100 simulations in 100 batches.:   0%|          | 0/100 [00:00<?, ?it/s]"
      ]
     },
     "metadata": {},
     "output_type": "display_data"
    },
    {
     "name": "stdout",
     "output_type": "stream",
     "text": [
      "6\n"
     ]
    },
    {
     "data": {
      "application/vnd.jupyter.widget-view+json": {
       "model_id": "8d4a747be1d04955a8e7d950f61ddeab",
       "version_major": 2,
       "version_minor": 0
      },
      "text/plain": [
       "Drawing 100 posterior samples:   0%|          | 0/100 [00:00<?, ?it/s]"
      ]
     },
     "metadata": {},
     "output_type": "display_data"
    },
    {
     "data": {
      "application/vnd.jupyter.widget-view+json": {
       "model_id": "b25485c625e2462788a198a9a80b87d0",
       "version_major": 2,
       "version_minor": 0
      },
      "text/plain": [
       "Running 100 simulations in 100 batches.:   0%|          | 0/100 [00:00<?, ?it/s]"
      ]
     },
     "metadata": {},
     "output_type": "display_data"
    },
    {
     "name": "stdout",
     "output_type": "stream",
     "text": [
      "7\n"
     ]
    },
    {
     "data": {
      "application/vnd.jupyter.widget-view+json": {
       "model_id": "bb7d8c66c1d4482191bcb1642c6a219e",
       "version_major": 2,
       "version_minor": 0
      },
      "text/plain": [
       "Drawing 100 posterior samples:   0%|          | 0/100 [00:00<?, ?it/s]"
      ]
     },
     "metadata": {},
     "output_type": "display_data"
    },
    {
     "data": {
      "application/vnd.jupyter.widget-view+json": {
       "model_id": "b1332c21bf1148399ed800742efc26e6",
       "version_major": 2,
       "version_minor": 0
      },
      "text/plain": [
       "Running 100 simulations in 100 batches.:   0%|          | 0/100 [00:00<?, ?it/s]"
      ]
     },
     "metadata": {},
     "output_type": "display_data"
    },
    {
     "name": "stdout",
     "output_type": "stream",
     "text": [
      "8\n"
     ]
    },
    {
     "data": {
      "application/vnd.jupyter.widget-view+json": {
       "model_id": "e7635fe5720a47a080c17de441559b08",
       "version_major": 2,
       "version_minor": 0
      },
      "text/plain": [
       "Drawing 100 posterior samples:   0%|          | 0/100 [00:00<?, ?it/s]"
      ]
     },
     "metadata": {},
     "output_type": "display_data"
    },
    {
     "data": {
      "application/vnd.jupyter.widget-view+json": {
       "model_id": "269eecedf40b4e0e90dfb4f255f88888",
       "version_major": 2,
       "version_minor": 0
      },
      "text/plain": [
       "Running 100 simulations in 100 batches.:   0%|          | 0/100 [00:00<?, ?it/s]"
      ]
     },
     "metadata": {},
     "output_type": "display_data"
    },
    {
     "name": "stdout",
     "output_type": "stream",
     "text": [
      "9\n"
     ]
    },
    {
     "data": {
      "application/vnd.jupyter.widget-view+json": {
       "model_id": "fb00333afe034ad2a40d182e6c4f564e",
       "version_major": 2,
       "version_minor": 0
      },
      "text/plain": [
       "Drawing 100 posterior samples:   0%|          | 0/100 [00:00<?, ?it/s]"
      ]
     },
     "metadata": {},
     "output_type": "display_data"
    },
    {
     "data": {
      "application/vnd.jupyter.widget-view+json": {
       "model_id": "9c8620939b324bca829f5a15eae48b40",
       "version_major": 2,
       "version_minor": 0
      },
      "text/plain": [
       "Running 100 simulations in 100 batches.:   0%|          | 0/100 [00:00<?, ?it/s]"
      ]
     },
     "metadata": {},
     "output_type": "display_data"
    },
    {
     "name": "stdout",
     "output_type": "stream",
     "text": [
      "10\n"
     ]
    },
    {
     "data": {
      "application/vnd.jupyter.widget-view+json": {
       "model_id": "651ae9adcb014774acfbbaadc9fd0527",
       "version_major": 2,
       "version_minor": 0
      },
      "text/plain": [
       "Drawing 100 posterior samples:   0%|          | 0/100 [00:00<?, ?it/s]"
      ]
     },
     "metadata": {},
     "output_type": "display_data"
    },
    {
     "data": {
      "application/vnd.jupyter.widget-view+json": {
       "model_id": "bc43b45e756b4f0b830dd6e317ad0465",
       "version_major": 2,
       "version_minor": 0
      },
      "text/plain": [
       "Running 100 simulations in 100 batches.:   0%|          | 0/100 [00:00<?, ?it/s]"
      ]
     },
     "metadata": {},
     "output_type": "display_data"
    },
    {
     "name": "stdout",
     "output_type": "stream",
     "text": [
      "11\n"
     ]
    },
    {
     "data": {
      "application/vnd.jupyter.widget-view+json": {
       "model_id": "13db26e49b5c44b4a43a83f73b759843",
       "version_major": 2,
       "version_minor": 0
      },
      "text/plain": [
       "Drawing 100 posterior samples:   0%|          | 0/100 [00:00<?, ?it/s]"
      ]
     },
     "metadata": {},
     "output_type": "display_data"
    },
    {
     "data": {
      "application/vnd.jupyter.widget-view+json": {
       "model_id": "bb40e93e68f34e7fa982a61db5df1a98",
       "version_major": 2,
       "version_minor": 0
      },
      "text/plain": [
       "Running 100 simulations in 100 batches.:   0%|          | 0/100 [00:00<?, ?it/s]"
      ]
     },
     "metadata": {},
     "output_type": "display_data"
    },
    {
     "name": "stdout",
     "output_type": "stream",
     "text": [
      "12\n"
     ]
    },
    {
     "data": {
      "application/vnd.jupyter.widget-view+json": {
       "model_id": "917bd1eff5a942228164fbde990309a5",
       "version_major": 2,
       "version_minor": 0
      },
      "text/plain": [
       "Drawing 100 posterior samples:   0%|          | 0/100 [00:00<?, ?it/s]"
      ]
     },
     "metadata": {},
     "output_type": "display_data"
    },
    {
     "data": {
      "application/vnd.jupyter.widget-view+json": {
       "model_id": "4eb0415ca71a49e5828d4d36ec1c0646",
       "version_major": 2,
       "version_minor": 0
      },
      "text/plain": [
       "Running 100 simulations in 100 batches.:   0%|          | 0/100 [00:00<?, ?it/s]"
      ]
     },
     "metadata": {},
     "output_type": "display_data"
    },
    {
     "name": "stdout",
     "output_type": "stream",
     "text": [
      "13\n"
     ]
    },
    {
     "data": {
      "application/vnd.jupyter.widget-view+json": {
       "model_id": "a22679c89f784bfb971e9c016cf55722",
       "version_major": 2,
       "version_minor": 0
      },
      "text/plain": [
       "Drawing 100 posterior samples:   0%|          | 0/100 [00:00<?, ?it/s]"
      ]
     },
     "metadata": {},
     "output_type": "display_data"
    },
    {
     "data": {
      "application/vnd.jupyter.widget-view+json": {
       "model_id": "2d93e7be7f4e472198a7a67105212909",
       "version_major": 2,
       "version_minor": 0
      },
      "text/plain": [
       "Running 100 simulations in 100 batches.:   0%|          | 0/100 [00:00<?, ?it/s]"
      ]
     },
     "metadata": {},
     "output_type": "display_data"
    },
    {
     "name": "stdout",
     "output_type": "stream",
     "text": [
      "14\n"
     ]
    },
    {
     "data": {
      "application/vnd.jupyter.widget-view+json": {
       "model_id": "e74f060dfba44b75a9fa8cc390e433de",
       "version_major": 2,
       "version_minor": 0
      },
      "text/plain": [
       "Drawing 100 posterior samples:   0%|          | 0/100 [00:00<?, ?it/s]"
      ]
     },
     "metadata": {},
     "output_type": "display_data"
    },
    {
     "data": {
      "application/vnd.jupyter.widget-view+json": {
       "model_id": "ba84c3bbd8fc4b448ae83e8006e705de",
       "version_major": 2,
       "version_minor": 0
      },
      "text/plain": [
       "Running 100 simulations in 100 batches.:   0%|          | 0/100 [00:00<?, ?it/s]"
      ]
     },
     "metadata": {},
     "output_type": "display_data"
    },
    {
     "name": "stdout",
     "output_type": "stream",
     "text": [
      "15\n"
     ]
    },
    {
     "data": {
      "application/vnd.jupyter.widget-view+json": {
       "model_id": "cdc8c84a4e0c4713883105ef8594d94b",
       "version_major": 2,
       "version_minor": 0
      },
      "text/plain": [
       "Drawing 100 posterior samples:   0%|          | 0/100 [00:00<?, ?it/s]"
      ]
     },
     "metadata": {},
     "output_type": "display_data"
    },
    {
     "data": {
      "application/vnd.jupyter.widget-view+json": {
       "model_id": "b45c46daf8774191910ae8d206bf7c98",
       "version_major": 2,
       "version_minor": 0
      },
      "text/plain": [
       "Running 100 simulations in 100 batches.:   0%|          | 0/100 [00:00<?, ?it/s]"
      ]
     },
     "metadata": {},
     "output_type": "display_data"
    },
    {
     "name": "stdout",
     "output_type": "stream",
     "text": [
      "16\n"
     ]
    },
    {
     "data": {
      "application/vnd.jupyter.widget-view+json": {
       "model_id": "5b9ac866b29740f6bc162e999de6d0bf",
       "version_major": 2,
       "version_minor": 0
      },
      "text/plain": [
       "Drawing 100 posterior samples:   0%|          | 0/100 [00:00<?, ?it/s]"
      ]
     },
     "metadata": {},
     "output_type": "display_data"
    },
    {
     "data": {
      "application/vnd.jupyter.widget-view+json": {
       "model_id": "b3b66b704b6044569625bf06e7102cd3",
       "version_major": 2,
       "version_minor": 0
      },
      "text/plain": [
       "Running 100 simulations in 100 batches.:   0%|          | 0/100 [00:00<?, ?it/s]"
      ]
     },
     "metadata": {},
     "output_type": "display_data"
    },
    {
     "name": "stdout",
     "output_type": "stream",
     "text": [
      "17\n"
     ]
    },
    {
     "data": {
      "application/vnd.jupyter.widget-view+json": {
       "model_id": "60b6b46e72674559b10e7d8add2554c2",
       "version_major": 2,
       "version_minor": 0
      },
      "text/plain": [
       "Drawing 100 posterior samples:   0%|          | 0/100 [00:00<?, ?it/s]"
      ]
     },
     "metadata": {},
     "output_type": "display_data"
    },
    {
     "data": {
      "application/vnd.jupyter.widget-view+json": {
       "model_id": "b5e3c55ab75e4d3f99885dd679f82bec",
       "version_major": 2,
       "version_minor": 0
      },
      "text/plain": [
       "Running 100 simulations in 100 batches.:   0%|          | 0/100 [00:00<?, ?it/s]"
      ]
     },
     "metadata": {},
     "output_type": "display_data"
    },
    {
     "name": "stdout",
     "output_type": "stream",
     "text": [
      "18\n"
     ]
    },
    {
     "data": {
      "application/vnd.jupyter.widget-view+json": {
       "model_id": "3f48201c99ca4ca889e404ffa6975ace",
       "version_major": 2,
       "version_minor": 0
      },
      "text/plain": [
       "Drawing 100 posterior samples:   0%|          | 0/100 [00:00<?, ?it/s]"
      ]
     },
     "metadata": {},
     "output_type": "display_data"
    },
    {
     "data": {
      "application/vnd.jupyter.widget-view+json": {
       "model_id": "df8917d7ff564c8e94c9f020fa4357e7",
       "version_major": 2,
       "version_minor": 0
      },
      "text/plain": [
       "Running 100 simulations in 100 batches.:   0%|          | 0/100 [00:00<?, ?it/s]"
      ]
     },
     "metadata": {},
     "output_type": "display_data"
    },
    {
     "name": "stdout",
     "output_type": "stream",
     "text": [
      "19\n"
     ]
    },
    {
     "data": {
      "application/vnd.jupyter.widget-view+json": {
       "model_id": "c847379f97b443ab9d6f595672277c70",
       "version_major": 2,
       "version_minor": 0
      },
      "text/plain": [
       "Drawing 100 posterior samples:   0%|          | 0/100 [00:00<?, ?it/s]"
      ]
     },
     "metadata": {},
     "output_type": "display_data"
    },
    {
     "data": {
      "application/vnd.jupyter.widget-view+json": {
       "model_id": "d82f9053a04341989f129780b3e7c626",
       "version_major": 2,
       "version_minor": 0
      },
      "text/plain": [
       "Running 100 simulations in 100 batches.:   0%|          | 0/100 [00:00<?, ?it/s]"
      ]
     },
     "metadata": {},
     "output_type": "display_data"
    },
    {
     "name": "stdout",
     "output_type": "stream",
     "text": [
      "20\n"
     ]
    },
    {
     "data": {
      "application/vnd.jupyter.widget-view+json": {
       "model_id": "ddd5ddb4983c415eabe35196fcc24ca9",
       "version_major": 2,
       "version_minor": 0
      },
      "text/plain": [
       "Drawing 100 posterior samples:   0%|          | 0/100 [00:00<?, ?it/s]"
      ]
     },
     "metadata": {},
     "output_type": "display_data"
    },
    {
     "data": {
      "application/vnd.jupyter.widget-view+json": {
       "model_id": "c2406635d71a43f4bb7e132fcb9ced26",
       "version_major": 2,
       "version_minor": 0
      },
      "text/plain": [
       "Running 100 simulations in 100 batches.:   0%|          | 0/100 [00:00<?, ?it/s]"
      ]
     },
     "metadata": {},
     "output_type": "display_data"
    },
    {
     "name": "stdout",
     "output_type": "stream",
     "text": [
      "21\n"
     ]
    },
    {
     "data": {
      "application/vnd.jupyter.widget-view+json": {
       "model_id": "5dd810913813415c9df751128d27a07f",
       "version_major": 2,
       "version_minor": 0
      },
      "text/plain": [
       "Drawing 100 posterior samples:   0%|          | 0/100 [00:00<?, ?it/s]"
      ]
     },
     "metadata": {},
     "output_type": "display_data"
    },
    {
     "data": {
      "application/vnd.jupyter.widget-view+json": {
       "model_id": "e1741855a18146d1a593d9adc7d69c05",
       "version_major": 2,
       "version_minor": 0
      },
      "text/plain": [
       "Running 100 simulations in 100 batches.:   0%|          | 0/100 [00:00<?, ?it/s]"
      ]
     },
     "metadata": {},
     "output_type": "display_data"
    },
    {
     "name": "stdout",
     "output_type": "stream",
     "text": [
      "22\n"
     ]
    },
    {
     "data": {
      "application/vnd.jupyter.widget-view+json": {
       "model_id": "d6bd2fd0b5484951863eb015b0191ff7",
       "version_major": 2,
       "version_minor": 0
      },
      "text/plain": [
       "Drawing 100 posterior samples:   0%|          | 0/100 [00:00<?, ?it/s]"
      ]
     },
     "metadata": {},
     "output_type": "display_data"
    },
    {
     "data": {
      "application/vnd.jupyter.widget-view+json": {
       "model_id": "1c54c8c5488142df80f7ebc3ebeb1e59",
       "version_major": 2,
       "version_minor": 0
      },
      "text/plain": [
       "Running 100 simulations in 100 batches.:   0%|          | 0/100 [00:00<?, ?it/s]"
      ]
     },
     "metadata": {},
     "output_type": "display_data"
    },
    {
     "name": "stdout",
     "output_type": "stream",
     "text": [
      "23\n"
     ]
    },
    {
     "data": {
      "application/vnd.jupyter.widget-view+json": {
       "model_id": "919cd224a7a34d76a0801a8e29418b7f",
       "version_major": 2,
       "version_minor": 0
      },
      "text/plain": [
       "Drawing 100 posterior samples:   0%|          | 0/100 [00:00<?, ?it/s]"
      ]
     },
     "metadata": {},
     "output_type": "display_data"
    },
    {
     "data": {
      "application/vnd.jupyter.widget-view+json": {
       "model_id": "9c655f4b30d645a082d5952d0708372a",
       "version_major": 2,
       "version_minor": 0
      },
      "text/plain": [
       "Running 100 simulations in 100 batches.:   0%|          | 0/100 [00:00<?, ?it/s]"
      ]
     },
     "metadata": {},
     "output_type": "display_data"
    },
    {
     "name": "stdout",
     "output_type": "stream",
     "text": [
      "24\n"
     ]
    },
    {
     "data": {
      "application/vnd.jupyter.widget-view+json": {
       "model_id": "357d9b5db090447191c02c73c1031b5d",
       "version_major": 2,
       "version_minor": 0
      },
      "text/plain": [
       "Drawing 100 posterior samples:   0%|          | 0/100 [00:00<?, ?it/s]"
      ]
     },
     "metadata": {},
     "output_type": "display_data"
    },
    {
     "data": {
      "application/vnd.jupyter.widget-view+json": {
       "model_id": "091a6416198a4c3c9ae6eda5fd5616a4",
       "version_major": 2,
       "version_minor": 0
      },
      "text/plain": [
       "Running 100 simulations in 100 batches.:   0%|          | 0/100 [00:00<?, ?it/s]"
      ]
     },
     "metadata": {},
     "output_type": "display_data"
    },
    {
     "name": "stdout",
     "output_type": "stream",
     "text": [
      "25\n"
     ]
    },
    {
     "data": {
      "application/vnd.jupyter.widget-view+json": {
       "model_id": "5ebbca3e196e43af94dec987823c5047",
       "version_major": 2,
       "version_minor": 0
      },
      "text/plain": [
       "Drawing 100 posterior samples:   0%|          | 0/100 [00:00<?, ?it/s]"
      ]
     },
     "metadata": {},
     "output_type": "display_data"
    },
    {
     "data": {
      "application/vnd.jupyter.widget-view+json": {
       "model_id": "b8a80769550446ab85ab11a3d8bda0df",
       "version_major": 2,
       "version_minor": 0
      },
      "text/plain": [
       "Running 100 simulations in 100 batches.:   0%|          | 0/100 [00:00<?, ?it/s]"
      ]
     },
     "metadata": {},
     "output_type": "display_data"
    },
    {
     "name": "stdout",
     "output_type": "stream",
     "text": [
      "26\n"
     ]
    },
    {
     "data": {
      "application/vnd.jupyter.widget-view+json": {
       "model_id": "7c9622ce13964366b0e06f9dd6716bbd",
       "version_major": 2,
       "version_minor": 0
      },
      "text/plain": [
       "Drawing 100 posterior samples:   0%|          | 0/100 [00:00<?, ?it/s]"
      ]
     },
     "metadata": {},
     "output_type": "display_data"
    },
    {
     "data": {
      "application/vnd.jupyter.widget-view+json": {
       "model_id": "c7513a7137344777a6d22c5b67084971",
       "version_major": 2,
       "version_minor": 0
      },
      "text/plain": [
       "Running 100 simulations in 100 batches.:   0%|          | 0/100 [00:00<?, ?it/s]"
      ]
     },
     "metadata": {},
     "output_type": "display_data"
    },
    {
     "name": "stdout",
     "output_type": "stream",
     "text": [
      "27\n"
     ]
    },
    {
     "data": {
      "application/vnd.jupyter.widget-view+json": {
       "model_id": "9cc327a940924ce38a19361a7dae5517",
       "version_major": 2,
       "version_minor": 0
      },
      "text/plain": [
       "Drawing 100 posterior samples:   0%|          | 0/100 [00:00<?, ?it/s]"
      ]
     },
     "metadata": {},
     "output_type": "display_data"
    },
    {
     "data": {
      "application/vnd.jupyter.widget-view+json": {
       "model_id": "8494a48be89b4321a0ba7dec4b0d0163",
       "version_major": 2,
       "version_minor": 0
      },
      "text/plain": [
       "Running 100 simulations in 100 batches.:   0%|          | 0/100 [00:00<?, ?it/s]"
      ]
     },
     "metadata": {},
     "output_type": "display_data"
    },
    {
     "name": "stdout",
     "output_type": "stream",
     "text": [
      "28\n"
     ]
    },
    {
     "data": {
      "application/vnd.jupyter.widget-view+json": {
       "model_id": "cc6448cba7d544b79b9c35b3378aba66",
       "version_major": 2,
       "version_minor": 0
      },
      "text/plain": [
       "Drawing 100 posterior samples:   0%|          | 0/100 [00:00<?, ?it/s]"
      ]
     },
     "metadata": {},
     "output_type": "display_data"
    },
    {
     "data": {
      "application/vnd.jupyter.widget-view+json": {
       "model_id": "d4a1cf6811b34c4aa118b4e0e395ba16",
       "version_major": 2,
       "version_minor": 0
      },
      "text/plain": [
       "Running 100 simulations in 100 batches.:   0%|          | 0/100 [00:00<?, ?it/s]"
      ]
     },
     "metadata": {},
     "output_type": "display_data"
    },
    {
     "name": "stdout",
     "output_type": "stream",
     "text": [
      "29\n"
     ]
    },
    {
     "data": {
      "application/vnd.jupyter.widget-view+json": {
       "model_id": "7886acf257884b5da22215819427424c",
       "version_major": 2,
       "version_minor": 0
      },
      "text/plain": [
       "Drawing 100 posterior samples:   0%|          | 0/100 [00:00<?, ?it/s]"
      ]
     },
     "metadata": {},
     "output_type": "display_data"
    },
    {
     "data": {
      "application/vnd.jupyter.widget-view+json": {
       "model_id": "9e691496f9fa49189c4f8e2058306266",
       "version_major": 2,
       "version_minor": 0
      },
      "text/plain": [
       "Running 100 simulations in 100 batches.:   0%|          | 0/100 [00:00<?, ?it/s]"
      ]
     },
     "metadata": {},
     "output_type": "display_data"
    },
    {
     "name": "stdout",
     "output_type": "stream",
     "text": [
      "30\n"
     ]
    },
    {
     "data": {
      "application/vnd.jupyter.widget-view+json": {
       "model_id": "df8fd8b9fac240379528ba86a8a84819",
       "version_major": 2,
       "version_minor": 0
      },
      "text/plain": [
       "Drawing 100 posterior samples:   0%|          | 0/100 [00:00<?, ?it/s]"
      ]
     },
     "metadata": {},
     "output_type": "display_data"
    },
    {
     "data": {
      "application/vnd.jupyter.widget-view+json": {
       "model_id": "5945452f49a54565a784274266ded950",
       "version_major": 2,
       "version_minor": 0
      },
      "text/plain": [
       "Running 100 simulations in 100 batches.:   0%|          | 0/100 [00:00<?, ?it/s]"
      ]
     },
     "metadata": {},
     "output_type": "display_data"
    },
    {
     "name": "stdout",
     "output_type": "stream",
     "text": [
      "31\n"
     ]
    },
    {
     "data": {
      "application/vnd.jupyter.widget-view+json": {
       "model_id": "6fd21e7e842f4275bfd6de871822341d",
       "version_major": 2,
       "version_minor": 0
      },
      "text/plain": [
       "Drawing 100 posterior samples:   0%|          | 0/100 [00:00<?, ?it/s]"
      ]
     },
     "metadata": {},
     "output_type": "display_data"
    },
    {
     "data": {
      "application/vnd.jupyter.widget-view+json": {
       "model_id": "f4c12f216f304f37a55b03bc14aa4b84",
       "version_major": 2,
       "version_minor": 0
      },
      "text/plain": [
       "Running 100 simulations in 100 batches.:   0%|          | 0/100 [00:00<?, ?it/s]"
      ]
     },
     "metadata": {},
     "output_type": "display_data"
    },
    {
     "name": "stdout",
     "output_type": "stream",
     "text": [
      "32\n"
     ]
    },
    {
     "data": {
      "application/vnd.jupyter.widget-view+json": {
       "model_id": "4b5bb9dcce374ff28a69b897a77b73a9",
       "version_major": 2,
       "version_minor": 0
      },
      "text/plain": [
       "Drawing 100 posterior samples:   0%|          | 0/100 [00:00<?, ?it/s]"
      ]
     },
     "metadata": {},
     "output_type": "display_data"
    },
    {
     "data": {
      "application/vnd.jupyter.widget-view+json": {
       "model_id": "20b50e465f134b57ad4aa08ab5e59878",
       "version_major": 2,
       "version_minor": 0
      },
      "text/plain": [
       "Running 100 simulations in 100 batches.:   0%|          | 0/100 [00:00<?, ?it/s]"
      ]
     },
     "metadata": {},
     "output_type": "display_data"
    },
    {
     "name": "stdout",
     "output_type": "stream",
     "text": [
      "33\n"
     ]
    },
    {
     "data": {
      "application/vnd.jupyter.widget-view+json": {
       "model_id": "c9d12b9e75d44d45afb36dd8019fcbce",
       "version_major": 2,
       "version_minor": 0
      },
      "text/plain": [
       "Drawing 100 posterior samples:   0%|          | 0/100 [00:00<?, ?it/s]"
      ]
     },
     "metadata": {},
     "output_type": "display_data"
    },
    {
     "data": {
      "application/vnd.jupyter.widget-view+json": {
       "model_id": "2f5d4212c3024710b8b59564ce959545",
       "version_major": 2,
       "version_minor": 0
      },
      "text/plain": [
       "Running 100 simulations in 100 batches.:   0%|          | 0/100 [00:00<?, ?it/s]"
      ]
     },
     "metadata": {},
     "output_type": "display_data"
    },
    {
     "name": "stdout",
     "output_type": "stream",
     "text": [
      "34\n"
     ]
    },
    {
     "data": {
      "application/vnd.jupyter.widget-view+json": {
       "model_id": "2e4036401a5f46a3b9b5d16bf42b6577",
       "version_major": 2,
       "version_minor": 0
      },
      "text/plain": [
       "Drawing 100 posterior samples:   0%|          | 0/100 [00:00<?, ?it/s]"
      ]
     },
     "metadata": {},
     "output_type": "display_data"
    },
    {
     "data": {
      "application/vnd.jupyter.widget-view+json": {
       "model_id": "dd9381a96af042018d9599cf8258b021",
       "version_major": 2,
       "version_minor": 0
      },
      "text/plain": [
       "Running 100 simulations in 100 batches.:   0%|          | 0/100 [00:00<?, ?it/s]"
      ]
     },
     "metadata": {},
     "output_type": "display_data"
    },
    {
     "name": "stdout",
     "output_type": "stream",
     "text": [
      "35\n"
     ]
    },
    {
     "data": {
      "application/vnd.jupyter.widget-view+json": {
       "model_id": "7a0b185a9656480d91c68ce1f35d8ffa",
       "version_major": 2,
       "version_minor": 0
      },
      "text/plain": [
       "Drawing 100 posterior samples:   0%|          | 0/100 [00:00<?, ?it/s]"
      ]
     },
     "metadata": {},
     "output_type": "display_data"
    },
    {
     "data": {
      "application/vnd.jupyter.widget-view+json": {
       "model_id": "d397710f0c694e328abfa8f5f004c47a",
       "version_major": 2,
       "version_minor": 0
      },
      "text/plain": [
       "Running 100 simulations in 100 batches.:   0%|          | 0/100 [00:00<?, ?it/s]"
      ]
     },
     "metadata": {},
     "output_type": "display_data"
    }
   ],
   "source": [
    "all_post_psds = []\n",
    "for ix in range(ind_psd.shape[-1]):\n",
    "    curC = ind_conn[:, :, ix]\n",
    "    curBrain = Brain.Brain()\n",
    "    curBrain.add_connectome(DAT_ROOT) # grabs distance matrix\n",
    "    # re-ordering for DK atlas and normalizing the connectomes:\n",
    "    curBrain.reorder_connectome(curBrain.connectome, curBrain.distance_matrix)\n",
    "    curBrain.connectome = curC# re-assign connectome to individual connectome\n",
    "    curBrain.bi_symmetric_c()\n",
    "    curBrain.reduce_extreme_dir()\n",
    "    cur_sgmmodel = SGM(curBrain.reducedConnectome, curBrain.distance_matrix, FREQS)\n",
    "        \n",
    "    sp, raw_sps = meg_psd2spatialfeature(curBrain.reducedConnectome, ind_psd[:, :, ix], FREQS, band=\"alpha\")\n",
    "    \n",
    "    std_spv = stdz_vec(raw_sps.sum(axis=1))\n",
    "    std_psd_DB = psd_2tr(ind_psd[:, :, ix])\n",
    "    std_psd_DB = _thin_psd_mat(std_psd_DB)\n",
    "    \n",
    "    curX_raw = np.concatenate([std_psd_DB.flatten(), std_spv])\n",
    "    curX = torch.Tensor(curX_raw)\n",
    "    cur_post = cur_res.posterior.set_default_x(curX)\n",
    "        \n",
    "    simulator_data_sp = partial(simulator_data,  sgmmodel=cur_sgmmodel, prior_bds=paras.prior_bds)\n",
    "    simulator_data_wrapper, _ = prepare_for_sbi(simulator_data_sp, prior)\n",
    "    \n",
    "    print(ix)\n",
    "    _, post_psd = simulate_for_sbi(simulator_data_wrapper, cur_post, \n",
    "                            num_simulations=100,\n",
    "                            num_workers=50)\n",
    "    all_post_psds.append(post_psd.numpy())"
   ]
  },
  {
   "cell_type": "code",
   "execution_count": 100,
   "id": "810f0ff3",
   "metadata": {
    "ExecuteTime": {
     "end_time": "2022-11-01T23:43:11.560530Z",
     "start_time": "2022-11-01T23:43:11.547943Z"
    }
   },
   "outputs": [],
   "source": [
    "est_psds = []\n",
    "for post_psd in all_post_psds:\n",
    "    est_psd = np.mean(post_psd[:, :-68], axis=0)\n",
    "    est_psd = est_psd.reshape(68, 40)\n",
    "    est_psds.append(est_psd)"
   ]
  },
  {
   "cell_type": "code",
   "execution_count": 101,
   "id": "932be868",
   "metadata": {
    "ExecuteTime": {
     "end_time": "2022-11-01T23:43:12.669344Z",
     "start_time": "2022-11-01T23:43:12.654873Z"
    }
   },
   "outputs": [
    {
     "name": "stdout",
     "output_type": "stream",
     "text": [
      "Corr is 0.988\n"
     ]
    }
   ],
   "source": [
    "sgm_psd_curve1 = np.array(est_psds).mean(axis=1).mean(axis=0)\n",
    "meg_psd_curve = np.mean([psd_2tr(ind_psd[:, :, ix]).mean(axis=0) for ix in range(36)], axis=0)\n",
    "cor = scipy.stats.pearsonr(stdz_vec(meg_psd_curve), stdz_vec(sgm_psd_curve1))[0]\n",
    "print(f\"Corr is {cor:.3f}\")"
   ]
  },
  {
   "cell_type": "code",
   "execution_count": 102,
   "id": "9e20bcf2",
   "metadata": {
    "ExecuteTime": {
     "end_time": "2022-11-01T23:43:14.279105Z",
     "start_time": "2022-11-01T23:43:14.167522Z"
    }
   },
   "outputs": [
    {
     "data": {
      "text/plain": [
       "<matplotlib.legend.Legend at 0x7f8fe6cbdf40>"
      ]
     },
     "execution_count": 102,
     "metadata": {},
     "output_type": "execute_result"
    },
    {
     "data": {
      "image/png": "[encoded data removed]",
      "text/plain": [
       "<Figure size 360x360 with 1 Axes>"
      ]
     },
     "metadata": {
      "needs_background": "light"
     },
     "output_type": "display_data"
    }
   ],
   "source": [
    "plt.figure(figsize=[5, 5])\n",
    "plt.plot(FREQS, stdz_vec(meg_psd_curve), linestyle = '-',\n",
    "         marker = 's',fillstyle = 'none',color = 'k', label = \"MEG\", alpha = 0.8)\n",
    "plt.plot(FREQS, stdz_vec(sgm_psd_curve1), linestyle = '-',\n",
    "         marker = 'o',fillstyle = 'none',color = 'b', label = \"M-SGM\", alpha = 0.8)\n",
    "plt.xlabel('Frequency (Hz)', fontsize = 17)\n",
    "plt.ylabel('Normalized PSD', fontsize = 17)\n",
    "plt.legend()"
   ]
  },
  {
   "cell_type": "code",
   "execution_count": 103,
   "id": "62f08bd5",
   "metadata": {
    "ExecuteTime": {
     "end_time": "2022-11-01T23:43:17.192146Z",
     "start_time": "2022-11-01T23:43:17.100411Z"
    }
   },
   "outputs": [],
   "source": [
    "# Corrs for PSD and spatial features for each subject\n",
    "meg_psd_roi_sub = np.array([psd_2tr(ind_psd[:, :, ix]) for ix in range(36)])\n",
    "sgm_psd_roi_sub = np.array(est_psds)\n",
    "\n",
    "corrs_roi_sub1 = []\n",
    "for ix in range(meg_psd_roi_sub.shape[0]):\n",
    "    cur_meg = meg_psd_roi_sub[ix]\n",
    "    cur_sgm = sgm_psd_roi_sub[ix]\n",
    "    corrs_roi_sub1.append(np.mean([scipy.stats.pearsonr(cur_meg[iy], cur_sgm[iy])[0] for iy in range(68)]))\n",
    "corrs_roi_sub1 = np.array(corrs_roi_sub1)"
   ]
  },
  {
   "cell_type": "code",
   "execution_count": 104,
   "id": "dee6071e",
   "metadata": {
    "ExecuteTime": {
     "end_time": "2022-11-01T23:43:17.721066Z",
     "start_time": "2022-11-01T23:43:17.718133Z"
    }
   },
   "outputs": [
    {
     "name": "stdout",
     "output_type": "stream",
     "text": [
      "0.8983854616434818 0.8886373681080493\n"
     ]
    }
   ],
   "source": [
    "print(np.median(corrs_roi_sub1), np.mean(corrs_roi_sub1))"
   ]
  },
  {
   "cell_type": "code",
   "execution_count": 105,
   "id": "cf944316",
   "metadata": {
    "ExecuteTime": {
     "end_time": "2022-11-01T23:43:19.805647Z",
     "start_time": "2022-11-01T23:43:19.802006Z"
    }
   },
   "outputs": [
    {
     "data": {
      "text/plain": [
       "array([0.74495704, 0.79031302, 0.80152009, 0.85160661, 0.85376779,\n",
       "       0.85394919, 0.85686914, 0.86823839, 0.87000645, 0.8758025 ,\n",
       "       0.88183032, 0.89292605, 0.89311748, 0.89406795, 0.89468711,\n",
       "       0.89592186, 0.89665092, 0.89828505, 0.89848587, 0.89906217,\n",
       "       0.90099686, 0.90169669, 0.90729949, 0.90805329, 0.91204976,\n",
       "       0.91256879, 0.91353408, 0.91435435, 0.91804867, 0.91929737,\n",
       "       0.91970459, 0.92135565, 0.92260615, 0.92966387, 0.93765463,\n",
       "       0.93999603])"
      ]
     },
     "execution_count": 105,
     "metadata": {},
     "output_type": "execute_result"
    }
   ],
   "source": [
    "np.sort(corrs_roi_sub1)"
   ]
  },
  {
   "cell_type": "code",
   "execution_count": 85,
   "id": "7fc99ce3",
   "metadata": {
    "ExecuteTime": {
     "end_time": "2022-11-01T21:29:21.580919Z",
     "start_time": "2022-11-01T21:29:21.559692Z"
    }
   },
   "outputs": [
    {
     "data": {
      "text/plain": [
       "array([24, 21, 34,  4, 18, 35,  3,  1, 32,  6, 16, 22, 25, 11,  0, 14,  2,\n",
       "       26, 28,  7,  8, 10, 19, 17, 27, 12,  9, 31, 15,  5, 13, 23, 33, 29,\n",
       "       20, 30])"
      ]
     },
     "execution_count": 85,
     "metadata": {},
     "output_type": "execute_result"
    }
   ],
   "source": [
    "np.argsort(corrs_roi_sub1)"
   ]
  },
  {
   "cell_type": "code",
   "execution_count": 86,
   "id": "a61a031f",
   "metadata": {
    "ExecuteTime": {
     "end_time": "2022-11-01T21:29:21.713009Z",
     "start_time": "2022-11-01T21:29:21.583133Z"
    }
   },
   "outputs": [
    {
     "data": {
      "text/plain": [
       "<matplotlib.legend.Legend at 0x7f8fec64d700>"
      ]
     },
     "execution_count": 86,
     "metadata": {},
     "output_type": "execute_result"
    },
    {
     "data": {
      "image/png": "[encoded data removed]",
      "text/plain": [
       "<Figure size 432x288 with 1 Axes>"
      ]
     },
     "metadata": {
      "needs_background": "light"
     },
     "output_type": "display_data"
    }
   ],
   "source": [
    "ix = 35\n",
    "sgm_post_rois = sgm_psd_roi_sub.mean(axis=1)\n",
    "plt.plot(FREQS, stdz_vec(meg_psd_roi_sub[ix, :, :].mean(axis=0)), linestyle = '-',\n",
    "         marker = 's',fillstyle = 'none',color = 'k', label = \"MEG\", alpha = 0.8)\n",
    "plt.plot(FREQS, stdz_vec(sgm_post_rois[ix]), linestyle = '-',\n",
    "         marker = 'o',fillstyle = 'none',color = 'b', label = \"M-SGM\", alpha = 0.8)\n",
    "plt.legend()"
   ]
  },
  {
   "cell_type": "code",
   "execution_count": null,
   "id": "87e283cf",
   "metadata": {},
   "outputs": [],
   "source": []
  }
 ],
 "metadata": {
  "kernelspec": {
   "display_name": "Python 3 (ipykernel)",
   "language": "python",
   "name": "python3"
  },
  "language_info": {
   "codemirror_mode": {
    "name": "ipython",
    "version": 3
   },
   "file_extension": ".py",
   "mimetype": "text/x-python",
   "name": "python",
   "nbconvert_exporter": "python",
   "pygments_lexer": "ipython3",
   "version": "3.9.7"
  },
  "toc": {
   "base_numbering": 1,
   "nav_menu": {},
   "number_sections": true,
   "sideBar": true,
   "skip_h1_title": false,
   "title_cell": "Table of Contents",
   "title_sidebar": "Contents",
   "toc_cell": true,
   "toc_position": {
    "height": "calc(100% - 180px)",
    "left": "10px",
    "top": "150px",
    "width": "193px"
   },
   "toc_section_display": true,
   "toc_window_display": true
  }
 },
 "nbformat": 4,
 "nbformat_minor": 5
}
