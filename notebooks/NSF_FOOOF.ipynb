{
 "cells": [
  {
   "cell_type": "markdown",
   "id": "26d4c45a",
   "metadata": {
    "toc": true
   },
   "source": [
    "<h1>Table of Contents<span class=\"tocSkip\"></span></h1>\n",
    "<div class=\"toc\"><ul class=\"toc-item\"><li><span><a href=\"#import-and-define\" data-toc-modified-id=\"import-and-define-1\"><span class=\"toc-item-num\">1&nbsp;&nbsp;</span>import and define</a></span><ul class=\"toc-item\"><li><span><a href=\"#Other-pkgs\" data-toc-modified-id=\"Other-pkgs-1.1\"><span class=\"toc-item-num\">1.1&nbsp;&nbsp;</span>Other pkgs</a></span></li><li><span><a href=\"#My-own-pkgs\" data-toc-modified-id=\"My-own-pkgs-1.2\"><span class=\"toc-item-num\">1.2&nbsp;&nbsp;</span>My own pkgs</a></span></li><li><span><a href=\"#Some-fns-for-this-file-only\" data-toc-modified-id=\"Some-fns-for-this-file-only-1.3\"><span class=\"toc-item-num\">1.3&nbsp;&nbsp;</span>Some fns for this file only</a></span></li></ul></li><li><span><a href=\"#Load-real-data-PSD-and-brain\" data-toc-modified-id=\"Load-real-data-PSD-and-brain-2\"><span class=\"toc-item-num\">2&nbsp;&nbsp;</span>Load real data PSD and brain</a></span><ul class=\"toc-item\"><li><span><a href=\"#PSD-and-connectome\" data-toc-modified-id=\"PSD-and-connectome-2.1\"><span class=\"toc-item-num\">2.1&nbsp;&nbsp;</span>PSD and connectome</a></span></li><li><span><a href=\"#Set-up-Parameters\" data-toc-modified-id=\"Set-up-Parameters-2.2\"><span class=\"toc-item-num\">2.2&nbsp;&nbsp;</span>Set up Parameters</a></span></li></ul></li><li><span><a href=\"#Prepare-for-SBI\" data-toc-modified-id=\"Prepare-for-SBI-3\"><span class=\"toc-item-num\">3&nbsp;&nbsp;</span>Prepare for SBI</a></span><ul class=\"toc-item\"><li><span><a href=\"#Simulator\" data-toc-modified-id=\"Simulator-3.1\"><span class=\"toc-item-num\">3.1&nbsp;&nbsp;</span>Simulator</a></span></li><li><span><a href=\"#Prior\" data-toc-modified-id=\"Prior-3.2\"><span class=\"toc-item-num\">3.2&nbsp;&nbsp;</span>Prior</a></span></li><li><span><a href=\"#Density-estimator\" data-toc-modified-id=\"Density-estimator-3.3\"><span class=\"toc-item-num\">3.3&nbsp;&nbsp;</span>Density estimator</a></span></li></ul></li><li><span><a href=\"#SBI\" data-toc-modified-id=\"SBI-4\"><span class=\"toc-item-num\">4&nbsp;&nbsp;</span>SBI</a></span><ul class=\"toc-item\"><li><span><a href=\"#RUN\" data-toc-modified-id=\"RUN-4.1\"><span class=\"toc-item-num\">4.1&nbsp;&nbsp;</span>RUN</a></span></li><li><span><a href=\"#Get-posterior\" data-toc-modified-id=\"Get-posterior-4.2\"><span class=\"toc-item-num\">4.2&nbsp;&nbsp;</span>Get posterior</a></span></li><li><span><a href=\"#PSD-estimate\" data-toc-modified-id=\"PSD-estimate-4.3\"><span class=\"toc-item-num\">4.3&nbsp;&nbsp;</span>PSD estimate</a></span></li></ul></li></ul></div>"
   ]
  },
  {
   "cell_type": "markdown",
   "id": "48ee4fd6",
   "metadata": {},
   "source": [
    "This file is to try SBI_SGM when extracting features with fooof (power spectrum model)\n",
    "\n",
    "And I train model with a general connectome.\n"
   ]
  },
  {
   "cell_type": "markdown",
   "id": "269c1f0a",
   "metadata": {},
   "source": [
    "### import and define"
   ]
  },
  {
   "cell_type": "code",
   "execution_count": 1,
   "id": "4e45686c",
   "metadata": {
    "ExecuteTime": {
     "end_time": "2022-10-30T03:53:14.728268Z",
     "start_time": "2022-10-30T03:53:14.721227Z"
    }
   },
   "outputs": [],
   "source": [
    "import os\n",
    "import sys\n",
    "module_path = os.path.abspath(os.path.join('../mypkg'))\n",
    "if module_path not in sys.path:\n",
    "    sys.path.append(module_path)"
   ]
  },
  {
   "cell_type": "markdown",
   "id": "e5ca9b8a",
   "metadata": {},
   "source": [
    "#### Other pkgs"
   ]
  },
  {
   "cell_type": "code",
   "execution_count": 2,
   "id": "c93dcfe1",
   "metadata": {
    "ExecuteTime": {
     "end_time": "2022-10-30T03:53:19.369501Z",
     "start_time": "2022-10-30T03:53:14.823290Z"
    }
   },
   "outputs": [
    {
     "name": "stderr",
     "output_type": "stream",
     "text": [
      "/opt/conda/lib/python3.9/site-packages/scipy/__init__.py:146: UserWarning: A NumPy version >=1.16.5 and <1.23.0 is required for this version of SciPy (detected version 1.23.1\n",
      "  warnings.warn(f\"A NumPy version >={np_minversion} and <{np_maxversion}\"\n"
     ]
    }
   ],
   "source": [
    "from tqdm import trange, tqdm\n",
    "\n",
    "import torch\n",
    "import torch.nn as nn \n",
    "import torch.nn.functional as F \n",
    "from sbi import utils as sutils\n",
    "from sbi import analysis as analysis\n",
    "from sbi.inference.base import infer\n",
    "from sbi.inference import SNPE, prepare_for_sbi, simulate_for_sbi\n",
    "from sbi.utils.get_nn_models import posterior_nn\n",
    "from sklearn.preprocessing import minmax_scale\n",
    "\n",
    "import numpy as np\n",
    "import xarray as xr\n",
    "from easydict import EasyDict as edict\n",
    "from pathlib import Path\n",
    "import pickle\n",
    "import scipy\n",
    "\n",
    "import seaborn as sns\n",
    "import pandas as pd\n",
    "import matplotlib.pyplot as plt\n",
    "import json\n",
    "from functools import partial\n",
    "\n",
    "import warnings\n",
    "warnings.filterwarnings(\"ignore\")"
   ]
  },
  {
   "cell_type": "code",
   "execution_count": null,
   "id": "aac0886a",
   "metadata": {},
   "outputs": [],
   "source": []
  },
  {
   "cell_type": "markdown",
   "id": "7452265b",
   "metadata": {},
   "source": [
    "#### My own pkgs"
   ]
  },
  {
   "cell_type": "code",
   "execution_count": 3,
   "id": "da2f4f7a",
   "metadata": {
    "ExecuteTime": {
     "end_time": "2022-10-30T03:53:19.823545Z",
     "start_time": "2022-10-30T03:53:19.371825Z"
    }
   },
   "outputs": [],
   "source": [
    "import importlib\n",
    "\n",
    "import utils.misc\n",
    "importlib.reload(utils.misc);\n",
    "from utils.misc import mag2db, meg_psd2spatialfeature, save_pkl_dict2folder, load_pkl_folder2dict, get_mode\n",
    "\n",
    "import utils.standardize\n",
    "importlib.reload(utils.standardize);\n",
    "from utils.standardize import stdz_psd, stdz_vec, minmax_vec, psd_2tr\n",
    "\n",
    "import utils.brain_plot\n",
    "importlib.reload(utils.brain_plot)\n",
    "from utils.brain_plot import U2BrainVec, reorderU \n",
    "\n",
    "import sgm.sgm\n",
    "importlib.reload(sgm.sgm);\n",
    "from sgm.sgm import SGM\n",
    "\n",
    "\n",
    "from spectrome import Brain, path, functions\n",
    "\n",
    "import features.psm\n",
    "importlib.reload(features.psm)\n",
    "from features.psm import obt_psm_fs, obt_psm_raw\n",
    "\n",
    "import constants\n",
    "importlib.reload(constants)\n",
    "from constants import RES_ROOT, FIG_ROOT, DAT_ROOT\n",
    "\n",
    "import models.embedding_nets \n",
    "importlib.reload(models.embedding_nets)\n",
    "from models.embedding_nets import SummaryNet"
   ]
  },
  {
   "cell_type": "code",
   "execution_count": null,
   "id": "3c28c72e",
   "metadata": {},
   "outputs": [],
   "source": []
  },
  {
   "cell_type": "markdown",
   "id": "996e3bb4",
   "metadata": {},
   "source": [
    "#### Some fns for this file only"
   ]
  },
  {
   "cell_type": "code",
   "execution_count": 4,
   "id": "e291220f",
   "metadata": {
    "ExecuteTime": {
     "end_time": "2022-10-30T03:53:19.833048Z",
     "start_time": "2022-10-30T03:53:19.826318Z"
    }
   },
   "outputs": [],
   "source": [
    "def _remove_nopeak(theta, x):\n",
    "    \"\"\"The function is to remove the samples with no-peak case\n",
    "        args:\n",
    "            theta: the parameters, n x nparas\n",
    "            x: the samples, n x dim of features\n",
    "    \"\"\"\n",
    "    keep_idxs = np.abs(x).min(axis=1).values != 0\n",
    "    #keep_idxs = x.max(axis=1).values != np.inf\n",
    "    x = x[keep_idxs, :]\n",
    "    theta = theta[keep_idxs, :]\n",
    "    return theta, x"
   ]
  },
  {
   "cell_type": "code",
   "execution_count": 5,
   "id": "3a3f744d",
   "metadata": {
    "ExecuteTime": {
     "end_time": "2022-10-30T03:53:19.857773Z",
     "start_time": "2022-10-30T03:53:19.836977Z"
    }
   },
   "outputs": [],
   "source": [
    "def _stdpsd_2psmfs(std_psd_DB):\n",
    "    \"\"\" convert std_psd_DB to psm features\n",
    "    \"\"\"\n",
    "    std_psd_power = 10**(std_psd_DB) # lets change it to exp scale\n",
    "    psd_psm_fs = []\n",
    "    for ix in range(68):\n",
    "        cur_psd = std_psd_power[ix, :]\n",
    "        cur_fs = obt_psm_fs(cur_psd, FREQS)\n",
    "        psd_psm_fs.append(cur_fs)\n",
    "    psd_psm_fs = np.concatenate(psd_psm_fs)\n",
    "    return psd_psm_fs"
   ]
  },
  {
   "cell_type": "code",
   "execution_count": 6,
   "id": "b20e1d4c",
   "metadata": {
    "ExecuteTime": {
     "end_time": "2022-10-30T03:53:19.882135Z",
     "start_time": "2022-10-30T03:53:19.860393Z"
    }
   },
   "outputs": [],
   "source": [
    "def _logistic(x):\n",
    "    num = np.exp(x)\n",
    "    den = np.exp(x) + 1\n",
    "    return num/den"
   ]
  },
  {
   "cell_type": "code",
   "execution_count": null,
   "id": "85583924",
   "metadata": {},
   "outputs": [],
   "source": []
  },
  {
   "cell_type": "markdown",
   "id": "4022c78f",
   "metadata": {},
   "source": [
    "### Load real data PSD and brain"
   ]
  },
  {
   "cell_type": "markdown",
   "id": "bcd6c5ab",
   "metadata": {},
   "source": [
    "#### PSD and connectome"
   ]
  },
  {
   "cell_type": "code",
   "execution_count": 7,
   "id": "bb358643",
   "metadata": {
    "ExecuteTime": {
     "end_time": "2022-10-30T03:53:20.901678Z",
     "start_time": "2022-10-30T03:53:20.645182Z"
    }
   },
   "outputs": [],
   "source": [
    "# Load data\n",
    "ind_psd_xr = xr.open_dataarray(DAT_ROOT/'individual_psd_reordered_matlab.nc')\n",
    "ind_psd = ind_psd_xr.values\n",
    "FREQS = ind_psd_xr[\"frequencies\"].values\n",
    "ind_conn_xr = xr.open_dataarray(DAT_ROOT/'individual_connectomes_reordered.nc')\n",
    "ind_conn = ind_conn_xr.values"
   ]
  },
  {
   "cell_type": "markdown",
   "id": "b6960bf4",
   "metadata": {},
   "source": [
    "#### Set up Parameters"
   ]
  },
  {
   "cell_type": "code",
   "execution_count": 8,
   "id": "d9326efc",
   "metadata": {
    "ExecuteTime": {
     "end_time": "2022-10-30T03:53:32.629335Z",
     "start_time": "2022-10-30T03:53:32.620065Z"
    }
   },
   "outputs": [],
   "source": [
    "# some constant parameters for this file\n",
    "paras = edict()\n",
    "#v_lower = 3.5-1.8\n",
    "#v_upper = 3.5+1.8\n",
    "#bnds = ((5.0,30.0), (5.0,200.0), (0.1,1.0), (v_lower,v_upper), (0.5,10.0), (0.5,10.0), (5.0,30.0))\n",
    "#This is the order for the above bounds:  tau_e, tau_i, alpha, speed, gei, gii, tauC,\n",
    "\n",
    "# taue, taui, tauC, speed, alpha, gii, gei\n",
    "paras.par_low = np.asarray([0.005,0.005,0.005,1.7,0.1,0.5,0.5])\n",
    "paras.par_high = np.asarray([0.03, 0.20, 0.03,5.3,  1, 10, 10])\n",
    "paras.plotLimits = np.array([paras.par_low, paras.par_high]).T\n",
    "paras.names = [\"Taue\", \"Taui\", \"TauC\", \"Speed\", \"alpha\", \"gii\", \"gei\"]\n",
    "\n",
    "paras.noise_sd = 0.15\n",
    "paras.num_prior_sps = int(1e5)\n",
    "paras.den_est = \"nsf\"\n",
    "paras.is_embed = True"
   ]
  },
  {
   "cell_type": "code",
   "execution_count": 9,
   "id": "221b3b6d",
   "metadata": {
    "ExecuteTime": {
     "end_time": "2022-10-30T03:53:34.834784Z",
     "start_time": "2022-10-30T03:53:34.826833Z"
    }
   },
   "outputs": [
    {
     "name": "stdout",
     "output_type": "stream",
     "text": [
      "folder is /data/rajlab1/user_data/jin/MyResearch/SBI-SGM/mypkg/../results/fooofgeneralNoise_100000_sd15_denestnsf_embedTrue\n",
      "True\n"
     ]
    }
   ],
   "source": [
    "# paras  for this file\n",
    "_paras = edict()\n",
    "_folder_path = f\"./fooofgeneralNoise_{paras.num_prior_sps:.0f}\" +\\\n",
    "               f\"_sd{paras.noise_sd*100:.0f}\" +\\\n",
    "               f\"_denest{paras.den_est}\" +\\\n",
    "               f\"_embed{paras.is_embed}\"\n",
    "_paras.folder_path = RES_ROOT/_folder_path\n",
    "print(f\"folder is {_paras.folder_path}\")\n",
    "print(_paras.folder_path.exists())"
   ]
  },
  {
   "cell_type": "code",
   "execution_count": 21,
   "id": "52d94d9e",
   "metadata": {
    "ExecuteTime": {
     "end_time": "2022-10-29T18:23:07.023322Z",
     "start_time": "2022-10-29T18:23:07.019047Z"
    }
   },
   "outputs": [],
   "source": [
    "cur_res = edict()"
   ]
  },
  {
   "cell_type": "code",
   "execution_count": 30,
   "id": "47ef2e52",
   "metadata": {
    "ExecuteTime": {
     "end_time": "2022-10-29T18:27:52.504177Z",
     "start_time": "2022-10-29T18:27:52.498798Z"
    }
   },
   "outputs": [],
   "source": []
  },
  {
   "cell_type": "code",
   "execution_count": null,
   "id": "d7c08ebf",
   "metadata": {},
   "outputs": [],
   "source": []
  },
  {
   "cell_type": "markdown",
   "id": "86923703",
   "metadata": {},
   "source": [
    "### Prepare for SBI"
   ]
  },
  {
   "cell_type": "markdown",
   "id": "f931d238",
   "metadata": {},
   "source": [
    "#### Simulator"
   ]
  },
  {
   "cell_type": "code",
   "execution_count": 22,
   "id": "b4ee7118",
   "metadata": {
    "ExecuteTime": {
     "end_time": "2022-10-29T18:23:08.347174Z",
     "start_time": "2022-10-29T18:23:08.338692Z"
    }
   },
   "outputs": [],
   "source": [
    "def simulator(params, noise_sd, sgmmodel):\n",
    "    \"\"\"The function to simulate samples\n",
    "    \"\"\"\n",
    "    psd, spatialFs = sgmmodel.run_local_coupling_forward(params)\n",
    "    std_spatial = stdz_vec(spatialFs.sum(axis=1)) # std it\n",
    "    \n",
    "    std_psd_DB = psd_2tr(psd)\n",
    "    noise1 =  np.random.randn(*std_psd_DB.shape)*noise_sd \n",
    "    std_psd_DB_noise = std_psd_DB + noise1\n",
    "    psd_psm_fs = _stdpsd_2psmfs(std_psd_DB_noise) # psd psm fs, two peaks\n",
    "    psd_mean_fs = stdz_vec(std_psd_DB_noise.mean(axis=0)) # mean PSD, 40 dim\n",
    "    \n",
    "    noise2 =  np.random.randn(*std_spatial.shape)*noise_sd \n",
    "    res = np.concatenate([psd_psm_fs, psd_mean_fs, std_spatial+noise2]) \n",
    "    return res"
   ]
  },
  {
   "cell_type": "markdown",
   "id": "e2078c03",
   "metadata": {},
   "source": [
    "#### Prior "
   ]
  },
  {
   "cell_type": "code",
   "execution_count": 23,
   "id": "23dff474",
   "metadata": {
    "ExecuteTime": {
     "end_time": "2022-10-29T18:23:09.053090Z",
     "start_time": "2022-10-29T18:23:09.047792Z"
    }
   },
   "outputs": [],
   "source": [
    "prior = sutils.BoxUniform(low=torch.as_tensor(paras.par_low), high=torch.as_tensor(paras.par_high))"
   ]
  },
  {
   "cell_type": "markdown",
   "id": "1b4a2ec2",
   "metadata": {},
   "source": [
    "#### Density estimator"
   ]
  },
  {
   "cell_type": "code",
   "execution_count": 24,
   "id": "dd66a9e9",
   "metadata": {
    "ExecuteTime": {
     "end_time": "2022-10-29T18:23:09.700192Z",
     "start_time": "2022-10-29T18:23:09.694250Z"
    }
   },
   "outputs": [],
   "source": [
    "if paras.is_embed:\n",
    "    embedding_net = SummaryNet(num_in_fs=516)\n",
    "    paras.den_est = sutils.posterior_nn(\n",
    "    model=paras.den_est, embedding_net=embedding_net)\n",
    "    for ix in embedding_net.parameters():\n",
    "        print(ix.sum(), ix.shape)"
   ]
  },
  {
   "cell_type": "markdown",
   "id": "5a694c3b",
   "metadata": {},
   "source": [
    "### SBI"
   ]
  },
  {
   "cell_type": "code",
   "execution_count": 25,
   "id": "c82b5b02",
   "metadata": {
    "ExecuteTime": {
     "end_time": "2022-10-29T18:23:12.096392Z",
     "start_time": "2022-10-29T18:23:10.539920Z"
    }
   },
   "outputs": [],
   "source": [
    "# obtain the brain\n",
    "brain = Brain.Brain()\n",
    "brain.add_connectome(DAT_ROOT)\n",
    "brain.reorder_connectome(brain.connectome, brain.distance_matrix)\n",
    "brain.bi_symmetric_c()\n",
    "brain.reduce_extreme_dir()\n",
    "sgmmodel = SGM(brain.reducedConnectome, brain.distance_matrix, FREQS)\n",
    "\n",
    "simulator_sp = partial(simulator,  noise_sd=paras.noise_sd, sgmmodel=sgmmodel)\n",
    "# make a SBI-wrapper on the simulator object for compatibility\n",
    "simulator_wrapper, prior = prepare_for_sbi(simulator_sp, prior)"
   ]
  },
  {
   "cell_type": "code",
   "execution_count": null,
   "id": "ec84fcba",
   "metadata": {},
   "outputs": [],
   "source": []
  },
  {
   "cell_type": "markdown",
   "id": "aa59351b",
   "metadata": {},
   "source": [
    "#### RUN"
   ]
  },
  {
   "cell_type": "code",
   "execution_count": 26,
   "id": "3783abdd",
   "metadata": {
    "ExecuteTime": {
     "end_time": "2022-10-29T18:24:56.524465Z",
     "start_time": "2022-10-29T18:23:12.576918Z"
    },
    "scrolled": true
   },
   "outputs": [
    {
     "data": {
      "application/vnd.jupyter.widget-view+json": {
       "model_id": "cd916c6d4a554601ad6980810d9a3c23",
       "version_major": 2,
       "version_minor": 0
      },
      "text/plain": [
       "Running 1000 simulations in 1000 batches.:   0%|          | 0/1000 [00:00<?, ?it/s]"
      ]
     },
     "metadata": {},
     "output_type": "display_data"
    },
    {
     "name": "stderr",
     "output_type": "stream",
     "text": [
      "/opt/conda/lib/python3.9/site-packages/scipy/__init__.py:146: UserWarning: A NumPy version >=1.16.5 and <1.23.0 is required for this version of SciPy (detected version 1.23.1\n",
      "  warnings.warn(f\"A NumPy version >={np_minversion} and <{np_maxversion}\"\n",
      "/opt/conda/lib/python3.9/site-packages/scipy/__init__.py:146: UserWarning: A NumPy version >=1.16.5 and <1.23.0 is required for this version of SciPy (detected version 1.23.1\n",
      "  warnings.warn(f\"A NumPy version >={np_minversion} and <{np_maxversion}\"\n",
      "/opt/conda/lib/python3.9/site-packages/scipy/__init__.py:146: UserWarning: A NumPy version >=1.16.5 and <1.23.0 is required for this version of SciPy (detected version 1.23.1\n",
      "  warnings.warn(f\"A NumPy version >={np_minversion} and <{np_maxversion}\"\n",
      "/opt/conda/lib/python3.9/site-packages/scipy/__init__.py:146: UserWarning: A NumPy version >=1.16.5 and <1.23.0 is required for this version of SciPy (detected version 1.23.1\n",
      "  warnings.warn(f\"A NumPy version >={np_minversion} and <{np_maxversion}\"\n",
      "/opt/conda/lib/python3.9/site-packages/scipy/__init__.py:146: UserWarning: A NumPy version >=1.16.5 and <1.23.0 is required for this version of SciPy (detected version 1.23.1\n",
      "  warnings.warn(f\"A NumPy version >={np_minversion} and <{np_maxversion}\"\n",
      "/opt/conda/lib/python3.9/site-packages/scipy/__init__.py:146: UserWarning: A NumPy version >=1.16.5 and <1.23.0 is required for this version of SciPy (detected version 1.23.1\n",
      "  warnings.warn(f\"A NumPy version >={np_minversion} and <{np_maxversion}\"\n",
      "/opt/conda/lib/python3.9/site-packages/scipy/__init__.py:146: UserWarning: A NumPy version >=1.16.5 and <1.23.0 is required for this version of SciPy (detected version 1.23.1\n",
      "  warnings.warn(f\"A NumPy version >={np_minversion} and <{np_maxversion}\"\n",
      "/opt/conda/lib/python3.9/site-packages/scipy/__init__.py:146: UserWarning: A NumPy version >=1.16.5 and <1.23.0 is required for this version of SciPy (detected version 1.23.1\n",
      "  warnings.warn(f\"A NumPy version >={np_minversion} and <{np_maxversion}\"\n",
      "/opt/conda/lib/python3.9/site-packages/scipy/__init__.py:146: UserWarning: A NumPy version >=1.16.5 and <1.23.0 is required for this version of SciPy (detected version 1.23.1\n",
      "  warnings.warn(f\"A NumPy version >={np_minversion} and <{np_maxversion}\"\n",
      "/opt/conda/lib/python3.9/site-packages/scipy/__init__.py:146: UserWarning: A NumPy version >=1.16.5 and <1.23.0 is required for this version of SciPy (detected version 1.23.1\n",
      "  warnings.warn(f\"A NumPy version >={np_minversion} and <{np_maxversion}\"\n",
      "/opt/conda/lib/python3.9/site-packages/scipy/__init__.py:146: UserWarning: A NumPy version >=1.16.5 and <1.23.0 is required for this version of SciPy (detected version 1.23.1\n",
      "  warnings.warn(f\"A NumPy version >={np_minversion} and <{np_maxversion}\"\n",
      "/opt/conda/lib/python3.9/site-packages/scipy/__init__.py:146: UserWarning: A NumPy version >=1.16.5 and <1.23.0 is required for this version of SciPy (detected version 1.23.1\n",
      "  warnings.warn(f\"A NumPy version >={np_minversion} and <{np_maxversion}\"\n",
      "/opt/conda/lib/python3.9/site-packages/scipy/__init__.py:146: UserWarning: A NumPy version >=1.16.5 and <1.23.0 is required for this version of SciPy (detected version 1.23.1\n",
      "  warnings.warn(f\"A NumPy version >={np_minversion} and <{np_maxversion}\"\n",
      "/opt/conda/lib/python3.9/site-packages/scipy/__init__.py:146: UserWarning: A NumPy version >=1.16.5 and <1.23.0 is required for this version of SciPy (detected version 1.23.1\n",
      "  warnings.warn(f\"A NumPy version >={np_minversion} and <{np_maxversion}\"\n",
      "/opt/conda/lib/python3.9/site-packages/scipy/__init__.py:146: UserWarning: A NumPy version >=1.16.5 and <1.23.0 is required for this version of SciPy (detected version 1.23.1\n",
      "  warnings.warn(f\"A NumPy version >={np_minversion} and <{np_maxversion}\"\n",
      "/opt/conda/lib/python3.9/site-packages/scipy/__init__.py:146: UserWarning: A NumPy version >=1.16.5 and <1.23.0 is required for this version of SciPy (detected version 1.23.1\n",
      "  warnings.warn(f\"A NumPy version >={np_minversion} and <{np_maxversion}\"\n",
      "/opt/conda/lib/python3.9/site-packages/scipy/__init__.py:146: UserWarning: A NumPy version >=1.16.5 and <1.23.0 is required for this version of SciPy (detected version 1.23.1\n",
      "  warnings.warn(f\"A NumPy version >={np_minversion} and <{np_maxversion}\"\n",
      "/opt/conda/lib/python3.9/site-packages/scipy/__init__.py:146: UserWarning: A NumPy version >=1.16.5 and <1.23.0 is required for this version of SciPy (detected version 1.23.1\n",
      "  warnings.warn(f\"A NumPy version >={np_minversion} and <{np_maxversion}\"\n",
      "/opt/conda/lib/python3.9/site-packages/scipy/__init__.py:146: UserWarning: A NumPy version >=1.16.5 and <1.23.0 is required for this version of SciPy (detected version 1.23.1\n",
      "  warnings.warn(f\"A NumPy version >={np_minversion} and <{np_maxversion}\"\n",
      "/opt/conda/lib/python3.9/site-packages/scipy/__init__.py:146: UserWarning: A NumPy version >=1.16.5 and <1.23.0 is required for this version of SciPy (detected version 1.23.1\n",
      "  warnings.warn(f\"A NumPy version >={np_minversion} and <{np_maxversion}\"\n",
      "/opt/conda/lib/python3.9/site-packages/scipy/__init__.py:146: UserWarning: A NumPy version >=1.16.5 and <1.23.0 is required for this version of SciPy (detected version 1.23.1\n",
      "  warnings.warn(f\"A NumPy version >={np_minversion} and <{np_maxversion}\"\n",
      "/opt/conda/lib/python3.9/site-packages/scipy/__init__.py:146: UserWarning: A NumPy version >=1.16.5 and <1.23.0 is required for this version of SciPy (detected version 1.23.1\n",
      "  warnings.warn(f\"A NumPy version >={np_minversion} and <{np_maxversion}\"\n",
      "/opt/conda/lib/python3.9/site-packages/scipy/__init__.py:146: UserWarning: A NumPy version >=1.16.5 and <1.23.0 is required for this version of SciPy (detected version 1.23.1\n",
      "  warnings.warn(f\"A NumPy version >={np_minversion} and <{np_maxversion}\"\n",
      "/opt/conda/lib/python3.9/site-packages/scipy/__init__.py:146: UserWarning: A NumPy version >=1.16.5 and <1.23.0 is required for this version of SciPy (detected version 1.23.1\n",
      "  warnings.warn(f\"A NumPy version >={np_minversion} and <{np_maxversion}\"\n",
      "/opt/conda/lib/python3.9/site-packages/scipy/__init__.py:146: UserWarning: A NumPy version >=1.16.5 and <1.23.0 is required for this version of SciPy (detected version 1.23.1\n",
      "  warnings.warn(f\"A NumPy version >={np_minversion} and <{np_maxversion}\"\n",
      "/opt/conda/lib/python3.9/site-packages/scipy/__init__.py:146: UserWarning: A NumPy version >=1.16.5 and <1.23.0 is required for this version of SciPy (detected version 1.23.1\n",
      "  warnings.warn(f\"A NumPy version >={np_minversion} and <{np_maxversion}\"\n",
      "/opt/conda/lib/python3.9/site-packages/scipy/__init__.py:146: UserWarning: A NumPy version >=1.16.5 and <1.23.0 is required for this version of SciPy (detected version 1.23.1\n",
      "  warnings.warn(f\"A NumPy version >={np_minversion} and <{np_maxversion}\"\n",
      "/opt/conda/lib/python3.9/site-packages/scipy/__init__.py:146: UserWarning: A NumPy version >=1.16.5 and <1.23.0 is required for this version of SciPy (detected version 1.23.1\n",
      "  warnings.warn(f\"A NumPy version >={np_minversion} and <{np_maxversion}\"\n",
      "/opt/conda/lib/python3.9/site-packages/scipy/__init__.py:146: UserWarning: A NumPy version >=1.16.5 and <1.23.0 is required for this version of SciPy (detected version 1.23.1\n",
      "  warnings.warn(f\"A NumPy version >={np_minversion} and <{np_maxversion}\"\n",
      "/opt/conda/lib/python3.9/site-packages/scipy/__init__.py:146: UserWarning: A NumPy version >=1.16.5 and <1.23.0 is required for this version of SciPy (detected version 1.23.1\n",
      "  warnings.warn(f\"A NumPy version >={np_minversion} and <{np_maxversion}\"\n",
      "/opt/conda/lib/python3.9/site-packages/scipy/__init__.py:146: UserWarning: A NumPy version >=1.16.5 and <1.23.0 is required for this version of SciPy (detected version 1.23.1\n",
      "  warnings.warn(f\"A NumPy version >={np_minversion} and <{np_maxversion}\"\n",
      "/opt/conda/lib/python3.9/site-packages/scipy/__init__.py:146: UserWarning: A NumPy version >=1.16.5 and <1.23.0 is required for this version of SciPy (detected version 1.23.1\n",
      "  warnings.warn(f\"A NumPy version >={np_minversion} and <{np_maxversion}\"\n",
      "/opt/conda/lib/python3.9/site-packages/scipy/__init__.py:146: UserWarning: A NumPy version >=1.16.5 and <1.23.0 is required for this version of SciPy (detected version 1.23.1\n",
      "  warnings.warn(f\"A NumPy version >={np_minversion} and <{np_maxversion}\"\n",
      "/opt/conda/lib/python3.9/site-packages/scipy/__init__.py:146: UserWarning: A NumPy version >=1.16.5 and <1.23.0 is required for this version of SciPy (detected version 1.23.1\n",
      "  warnings.warn(f\"A NumPy version >={np_minversion} and <{np_maxversion}\"\n",
      "/opt/conda/lib/python3.9/site-packages/scipy/__init__.py:146: UserWarning: A NumPy version >=1.16.5 and <1.23.0 is required for this version of SciPy (detected version 1.23.1\n",
      "  warnings.warn(f\"A NumPy version >={np_minversion} and <{np_maxversion}\"\n",
      "/opt/conda/lib/python3.9/site-packages/scipy/__init__.py:146: UserWarning: A NumPy version >=1.16.5 and <1.23.0 is required for this version of SciPy (detected version 1.23.1\n",
      "  warnings.warn(f\"A NumPy version >={np_minversion} and <{np_maxversion}\"\n",
      "/opt/conda/lib/python3.9/site-packages/scipy/__init__.py:146: UserWarning: A NumPy version >=1.16.5 and <1.23.0 is required for this version of SciPy (detected version 1.23.1\n",
      "  warnings.warn(f\"A NumPy version >={np_minversion} and <{np_maxversion}\"\n",
      "/opt/conda/lib/python3.9/site-packages/scipy/__init__.py:146: UserWarning: A NumPy version >=1.16.5 and <1.23.0 is required for this version of SciPy (detected version 1.23.1\n",
      "  warnings.warn(f\"A NumPy version >={np_minversion} and <{np_maxversion}\"\n",
      "/opt/conda/lib/python3.9/site-packages/scipy/__init__.py:146: UserWarning: A NumPy version >=1.16.5 and <1.23.0 is required for this version of SciPy (detected version 1.23.1\n",
      "  warnings.warn(f\"A NumPy version >={np_minversion} and <{np_maxversion}\"\n",
      "/opt/conda/lib/python3.9/site-packages/scipy/__init__.py:146: UserWarning: A NumPy version >=1.16.5 and <1.23.0 is required for this version of SciPy (detected version 1.23.1\n",
      "  warnings.warn(f\"A NumPy version >={np_minversion} and <{np_maxversion}\"\n"
     ]
    },
    {
     "name": "stderr",
     "output_type": "stream",
     "text": [
      "/opt/conda/lib/python3.9/site-packages/scipy/__init__.py:146: UserWarning: A NumPy version >=1.16.5 and <1.23.0 is required for this version of SciPy (detected version 1.23.1\n",
      "  warnings.warn(f\"A NumPy version >={np_minversion} and <{np_maxversion}\"\n",
      "/opt/conda/lib/python3.9/site-packages/scipy/__init__.py:146: UserWarning: A NumPy version >=1.16.5 and <1.23.0 is required for this version of SciPy (detected version 1.23.1\n",
      "  warnings.warn(f\"A NumPy version >={np_minversion} and <{np_maxversion}\"\n",
      "/opt/conda/lib/python3.9/site-packages/scipy/__init__.py:146: UserWarning: A NumPy version >=1.16.5 and <1.23.0 is required for this version of SciPy (detected version 1.23.1\n",
      "  warnings.warn(f\"A NumPy version >={np_minversion} and <{np_maxversion}\"\n",
      "/opt/conda/lib/python3.9/site-packages/scipy/__init__.py:146: UserWarning: A NumPy version >=1.16.5 and <1.23.0 is required for this version of SciPy (detected version 1.23.1\n",
      "  warnings.warn(f\"A NumPy version >={np_minversion} and <{np_maxversion}\"\n",
      "/opt/conda/lib/python3.9/site-packages/scipy/__init__.py:146: UserWarning: A NumPy version >=1.16.5 and <1.23.0 is required for this version of SciPy (detected version 1.23.1\n",
      "  warnings.warn(f\"A NumPy version >={np_minversion} and <{np_maxversion}\"\n",
      "/opt/conda/lib/python3.9/site-packages/scipy/__init__.py:146: UserWarning: A NumPy version >=1.16.5 and <1.23.0 is required for this version of SciPy (detected version 1.23.1\n",
      "  warnings.warn(f\"A NumPy version >={np_minversion} and <{np_maxversion}\"\n",
      "/opt/conda/lib/python3.9/site-packages/scipy/__init__.py:146: UserWarning: A NumPy version >=1.16.5 and <1.23.0 is required for this version of SciPy (detected version 1.23.1\n",
      "  warnings.warn(f\"A NumPy version >={np_minversion} and <{np_maxversion}\"\n",
      "/opt/conda/lib/python3.9/site-packages/scipy/__init__.py:146: UserWarning: A NumPy version >=1.16.5 and <1.23.0 is required for this version of SciPy (detected version 1.23.1\n",
      "  warnings.warn(f\"A NumPy version >={np_minversion} and <{np_maxversion}\"\n",
      "/opt/conda/lib/python3.9/site-packages/scipy/__init__.py:146: UserWarning: A NumPy version >=1.16.5 and <1.23.0 is required for this version of SciPy (detected version 1.23.1\n",
      "  warnings.warn(f\"A NumPy version >={np_minversion} and <{np_maxversion}\"\n",
      "/opt/conda/lib/python3.9/site-packages/scipy/__init__.py:146: UserWarning: A NumPy version >=1.16.5 and <1.23.0 is required for this version of SciPy (detected version 1.23.1\n",
      "  warnings.warn(f\"A NumPy version >={np_minversion} and <{np_maxversion}\"\n"
     ]
    },
    {
     "name": "stdout",
     "output_type": "stream",
     "text": [
      " Neural network successfully converged after 44 epochs."
     ]
    }
   ],
   "source": [
    "theta, x = simulate_for_sbi(simulator_wrapper, prior, \n",
    "                            num_simulations=int(paras.num_prior_sps), \n",
    "                            num_workers=50)\n",
    "theta, x = _remove_nopeak(theta, x) # remove some samples\n",
    "#theta, x = cur_res.theta, cur_res.x\n",
    "inference = SNPE(prior=prior, density_estimator=paras.den_est)\n",
    "density_estimator = inference.append_simulations(theta, x).train()\n",
    "posterior = inference.build_posterior(density_estimator)\n"
   ]
  },
  {
   "cell_type": "code",
   "execution_count": 27,
   "id": "7e2bb5bb",
   "metadata": {
    "ExecuteTime": {
     "end_time": "2022-10-29T18:25:14.768763Z",
     "start_time": "2022-10-29T18:25:14.669770Z"
    }
   },
   "outputs": [
    {
     "name": "stdout",
     "output_type": "stream",
     "text": [
      "/data/rajlab1/user_data/jin/MyResearch/SBI-SGM/mypkg/../results/fooofgeneralNoise_1000_sd5_denestnsf_embedFalse\n",
      "Create a folder /data/rajlab1/user_data/jin/MyResearch/SBI-SGM/mypkg/../results/fooofgeneralNoise_1000_sd5_denestnsf_embedFalse\n",
      "Save to /data/rajlab1/user_data/jin/MyResearch/SBI-SGM/mypkg/../results/fooofgeneralNoise_1000_sd5_denestnsf_embedFalse/theta.pkl\n",
      "Save to /data/rajlab1/user_data/jin/MyResearch/SBI-SGM/mypkg/../results/fooofgeneralNoise_1000_sd5_denestnsf_embedFalse/x.pkl\n",
      "Save to /data/rajlab1/user_data/jin/MyResearch/SBI-SGM/mypkg/../results/fooofgeneralNoise_1000_sd5_denestnsf_embedFalse/posterior.pkl\n"
     ]
    }
   ],
   "source": [
    "cur_res.theta = theta\n",
    "cur_res.x = x\n",
    "cur_res.posterior = posterior\n",
    "if paras.is_embed:\n",
    "    cur_res.embedding_net = embedding_net\n",
    "    for ix in embedding_net.parameters():\n",
    "        print(ix.sum(), ix.shape)\n",
    "save_pkl_dict2folder(_paras.folder_path, cur_res, True)"
   ]
  },
  {
   "cell_type": "markdown",
   "id": "a760e52d",
   "metadata": {},
   "source": [
    "#### Get posterior"
   ]
  },
  {
   "cell_type": "code",
   "execution_count": 11,
   "id": "6b548503",
   "metadata": {
    "ExecuteTime": {
     "end_time": "2022-10-30T03:54:00.814246Z",
     "start_time": "2022-10-30T03:54:00.560799Z"
    }
   },
   "outputs": [
    {
     "name": "stdout",
     "output_type": "stream",
     "text": [
      "Load file /data/rajlab1/user_data/jin/MyResearch/SBI-SGM/mypkg/../results/fooofgeneralNoise_100000_sd15_denestnsf_embedTrue/theta.pkl\n",
      "Load file /data/rajlab1/user_data/jin/MyResearch/SBI-SGM/mypkg/../results/fooofgeneralNoise_100000_sd15_denestnsf_embedTrue/x.pkl\n",
      "Load file /data/rajlab1/user_data/jin/MyResearch/SBI-SGM/mypkg/../results/fooofgeneralNoise_100000_sd15_denestnsf_embedTrue/posterior.pkl\n",
      "Load file /data/rajlab1/user_data/jin/MyResearch/SBI-SGM/mypkg/../results/fooofgeneralNoise_100000_sd15_denestnsf_embedTrue/embedding_net.pkl\n"
     ]
    }
   ],
   "source": [
    "cur_res = load_pkl_folder2dict(_paras.folder_path)"
   ]
  },
  {
   "cell_type": "code",
   "execution_count": 12,
   "id": "c8ff16be",
   "metadata": {
    "ExecuteTime": {
     "end_time": "2022-10-30T03:54:26.363867Z",
     "start_time": "2022-10-30T03:54:02.166070Z"
    },
    "scrolled": true
   },
   "outputs": [
    {
     "name": "stdout",
     "output_type": "stream",
     "text": [
      "0\n"
     ]
    },
    {
     "data": {
      "application/vnd.jupyter.widget-view+json": {
       "model_id": "bb09ca6f2f70472db344fe2f27443d2c",
       "version_major": 2,
       "version_minor": 0
      },
      "text/plain": [
       "Drawing 10000 posterior samples:   0%|          | 0/10000 [00:00<?, ?it/s]"
      ]
     },
     "metadata": {},
     "output_type": "display_data"
    },
    {
     "name": "stdout",
     "output_type": "stream",
     "text": [
      "1\n"
     ]
    },
    {
     "data": {
      "application/vnd.jupyter.widget-view+json": {
       "model_id": "49c5b1d7dc0341e6b8db6f1b32f08bd1",
       "version_major": 2,
       "version_minor": 0
      },
      "text/plain": [
       "Drawing 10000 posterior samples:   0%|          | 0/10000 [00:00<?, ?it/s]"
      ]
     },
     "metadata": {},
     "output_type": "display_data"
    },
    {
     "name": "stdout",
     "output_type": "stream",
     "text": [
      "2\n"
     ]
    },
    {
     "data": {
      "application/vnd.jupyter.widget-view+json": {
       "model_id": "e741d7bba0884a8e9d3c405fad74bdf3",
       "version_major": 2,
       "version_minor": 0
      },
      "text/plain": [
       "Drawing 10000 posterior samples:   0%|          | 0/10000 [00:00<?, ?it/s]"
      ]
     },
     "metadata": {},
     "output_type": "display_data"
    },
    {
     "name": "stdout",
     "output_type": "stream",
     "text": [
      "3\n"
     ]
    },
    {
     "data": {
      "application/vnd.jupyter.widget-view+json": {
       "model_id": "da84c5d36ed7457e9c8112d640593c7f",
       "version_major": 2,
       "version_minor": 0
      },
      "text/plain": [
       "Drawing 10000 posterior samples:   0%|          | 0/10000 [00:00<?, ?it/s]"
      ]
     },
     "metadata": {},
     "output_type": "display_data"
    },
    {
     "name": "stdout",
     "output_type": "stream",
     "text": [
      "4\n"
     ]
    },
    {
     "data": {
      "application/vnd.jupyter.widget-view+json": {
       "model_id": "1a61264ea45149b08dd71b231cf0c162",
       "version_major": 2,
       "version_minor": 0
      },
      "text/plain": [
       "Drawing 10000 posterior samples:   0%|          | 0/10000 [00:00<?, ?it/s]"
      ]
     },
     "metadata": {},
     "output_type": "display_data"
    },
    {
     "name": "stdout",
     "output_type": "stream",
     "text": [
      "5\n"
     ]
    },
    {
     "data": {
      "application/vnd.jupyter.widget-view+json": {
       "model_id": "8e68c942c60e4ad9886dc098945f4044",
       "version_major": 2,
       "version_minor": 0
      },
      "text/plain": [
       "Drawing 10000 posterior samples:   0%|          | 0/10000 [00:00<?, ?it/s]"
      ]
     },
     "metadata": {},
     "output_type": "display_data"
    },
    {
     "name": "stdout",
     "output_type": "stream",
     "text": [
      "6\n"
     ]
    },
    {
     "data": {
      "application/vnd.jupyter.widget-view+json": {
       "model_id": "94df74da27034e0bb89717f55cb93080",
       "version_major": 2,
       "version_minor": 0
      },
      "text/plain": [
       "Drawing 10000 posterior samples:   0%|          | 0/10000 [00:00<?, ?it/s]"
      ]
     },
     "metadata": {},
     "output_type": "display_data"
    },
    {
     "name": "stdout",
     "output_type": "stream",
     "text": [
      "7\n"
     ]
    },
    {
     "data": {
      "application/vnd.jupyter.widget-view+json": {
       "model_id": "795e276555974c7c9be6135b2d4bbbce",
       "version_major": 2,
       "version_minor": 0
      },
      "text/plain": [
       "Drawing 10000 posterior samples:   0%|          | 0/10000 [00:00<?, ?it/s]"
      ]
     },
     "metadata": {},
     "output_type": "display_data"
    },
    {
     "name": "stdout",
     "output_type": "stream",
     "text": [
      "8\n"
     ]
    },
    {
     "data": {
      "application/vnd.jupyter.widget-view+json": {
       "model_id": "f7885a3d8b9d4cbeb0c4ce32fdb2ef1d",
       "version_major": 2,
       "version_minor": 0
      },
      "text/plain": [
       "Drawing 10000 posterior samples:   0%|          | 0/10000 [00:00<?, ?it/s]"
      ]
     },
     "metadata": {},
     "output_type": "display_data"
    },
    {
     "name": "stdout",
     "output_type": "stream",
     "text": [
      "9\n"
     ]
    },
    {
     "data": {
      "application/vnd.jupyter.widget-view+json": {
       "model_id": "b9d304d051a64a1f97eda809b2b2f8f6",
       "version_major": 2,
       "version_minor": 0
      },
      "text/plain": [
       "Drawing 10000 posterior samples:   0%|          | 0/10000 [00:00<?, ?it/s]"
      ]
     },
     "metadata": {},
     "output_type": "display_data"
    },
    {
     "name": "stdout",
     "output_type": "stream",
     "text": [
      "10\n"
     ]
    },
    {
     "data": {
      "application/vnd.jupyter.widget-view+json": {
       "model_id": "1acd11a5bdc844a790345816511f7871",
       "version_major": 2,
       "version_minor": 0
      },
      "text/plain": [
       "Drawing 10000 posterior samples:   0%|          | 0/10000 [00:00<?, ?it/s]"
      ]
     },
     "metadata": {},
     "output_type": "display_data"
    },
    {
     "name": "stdout",
     "output_type": "stream",
     "text": [
      "11\n"
     ]
    },
    {
     "data": {
      "application/vnd.jupyter.widget-view+json": {
       "model_id": "a47882e6dc7246ecb0b217f547f9a7cd",
       "version_major": 2,
       "version_minor": 0
      },
      "text/plain": [
       "Drawing 10000 posterior samples:   0%|          | 0/10000 [00:00<?, ?it/s]"
      ]
     },
     "metadata": {},
     "output_type": "display_data"
    },
    {
     "name": "stdout",
     "output_type": "stream",
     "text": [
      "12\n"
     ]
    },
    {
     "data": {
      "application/vnd.jupyter.widget-view+json": {
       "model_id": "64e34da5987f45cb9878f4b4db7c4a62",
       "version_major": 2,
       "version_minor": 0
      },
      "text/plain": [
       "Drawing 10000 posterior samples:   0%|          | 0/10000 [00:00<?, ?it/s]"
      ]
     },
     "metadata": {},
     "output_type": "display_data"
    },
    {
     "name": "stdout",
     "output_type": "stream",
     "text": [
      "13\n"
     ]
    },
    {
     "data": {
      "application/vnd.jupyter.widget-view+json": {
       "model_id": "068addc6d6d94b9bab3ab13ed6906830",
       "version_major": 2,
       "version_minor": 0
      },
      "text/plain": [
       "Drawing 10000 posterior samples:   0%|          | 0/10000 [00:00<?, ?it/s]"
      ]
     },
     "metadata": {},
     "output_type": "display_data"
    },
    {
     "name": "stdout",
     "output_type": "stream",
     "text": [
      "14\n"
     ]
    },
    {
     "data": {
      "application/vnd.jupyter.widget-view+json": {
       "model_id": "91e88362fc014479a191ea32c5e2023c",
       "version_major": 2,
       "version_minor": 0
      },
      "text/plain": [
       "Drawing 10000 posterior samples:   0%|          | 0/10000 [00:00<?, ?it/s]"
      ]
     },
     "metadata": {},
     "output_type": "display_data"
    },
    {
     "name": "stdout",
     "output_type": "stream",
     "text": [
      "15\n"
     ]
    },
    {
     "data": {
      "application/vnd.jupyter.widget-view+json": {
       "model_id": "ba96769f2f104de8a9a12400dcfbd173",
       "version_major": 2,
       "version_minor": 0
      },
      "text/plain": [
       "Drawing 10000 posterior samples:   0%|          | 0/10000 [00:00<?, ?it/s]"
      ]
     },
     "metadata": {},
     "output_type": "display_data"
    },
    {
     "name": "stdout",
     "output_type": "stream",
     "text": [
      "16\n"
     ]
    },
    {
     "data": {
      "application/vnd.jupyter.widget-view+json": {
       "model_id": "f47560a5623a4c0994b334445f11352f",
       "version_major": 2,
       "version_minor": 0
      },
      "text/plain": [
       "Drawing 10000 posterior samples:   0%|          | 0/10000 [00:00<?, ?it/s]"
      ]
     },
     "metadata": {},
     "output_type": "display_data"
    },
    {
     "name": "stdout",
     "output_type": "stream",
     "text": [
      "17\n"
     ]
    },
    {
     "data": {
      "application/vnd.jupyter.widget-view+json": {
       "model_id": "1f5be31c6fd5451c8dac9e9da2ec59b1",
       "version_major": 2,
       "version_minor": 0
      },
      "text/plain": [
       "Drawing 10000 posterior samples:   0%|          | 0/10000 [00:00<?, ?it/s]"
      ]
     },
     "metadata": {},
     "output_type": "display_data"
    },
    {
     "name": "stdout",
     "output_type": "stream",
     "text": [
      "18\n"
     ]
    },
    {
     "data": {
      "application/vnd.jupyter.widget-view+json": {
       "model_id": "59b5f69c6926476eb5eb5efc8e263938",
       "version_major": 2,
       "version_minor": 0
      },
      "text/plain": [
       "Drawing 10000 posterior samples:   0%|          | 0/10000 [00:00<?, ?it/s]"
      ]
     },
     "metadata": {},
     "output_type": "display_data"
    },
    {
     "name": "stdout",
     "output_type": "stream",
     "text": [
      "19\n"
     ]
    },
    {
     "data": {
      "application/vnd.jupyter.widget-view+json": {
       "model_id": "e722215c226e4a608638cc9141af4952",
       "version_major": 2,
       "version_minor": 0
      },
      "text/plain": [
       "Drawing 10000 posterior samples:   0%|          | 0/10000 [00:00<?, ?it/s]"
      ]
     },
     "metadata": {},
     "output_type": "display_data"
    },
    {
     "name": "stdout",
     "output_type": "stream",
     "text": [
      "20\n"
     ]
    },
    {
     "data": {
      "application/vnd.jupyter.widget-view+json": {
       "model_id": "9a65b53016844b8ea5f0d3f26c6a2295",
       "version_major": 2,
       "version_minor": 0
      },
      "text/plain": [
       "Drawing 10000 posterior samples:   0%|          | 0/10000 [00:00<?, ?it/s]"
      ]
     },
     "metadata": {},
     "output_type": "display_data"
    },
    {
     "name": "stdout",
     "output_type": "stream",
     "text": [
      "21\n"
     ]
    },
    {
     "data": {
      "application/vnd.jupyter.widget-view+json": {
       "model_id": "4cd0b685d256474c80064b80bbdcfa37",
       "version_major": 2,
       "version_minor": 0
      },
      "text/plain": [
       "Drawing 10000 posterior samples:   0%|          | 0/10000 [00:00<?, ?it/s]"
      ]
     },
     "metadata": {},
     "output_type": "display_data"
    },
    {
     "name": "stdout",
     "output_type": "stream",
     "text": [
      "22\n"
     ]
    },
    {
     "data": {
      "application/vnd.jupyter.widget-view+json": {
       "model_id": "7e4e5134ec30459ea664985f7fe3d48c",
       "version_major": 2,
       "version_minor": 0
      },
      "text/plain": [
       "Drawing 10000 posterior samples:   0%|          | 0/10000 [00:00<?, ?it/s]"
      ]
     },
     "metadata": {},
     "output_type": "display_data"
    },
    {
     "name": "stdout",
     "output_type": "stream",
     "text": [
      "23\n"
     ]
    },
    {
     "data": {
      "application/vnd.jupyter.widget-view+json": {
       "model_id": "e8051619b3bf42ba988d7cf16bbcbd74",
       "version_major": 2,
       "version_minor": 0
      },
      "text/plain": [
       "Drawing 10000 posterior samples:   0%|          | 0/10000 [00:00<?, ?it/s]"
      ]
     },
     "metadata": {},
     "output_type": "display_data"
    },
    {
     "name": "stdout",
     "output_type": "stream",
     "text": [
      "24\n"
     ]
    },
    {
     "data": {
      "application/vnd.jupyter.widget-view+json": {
       "model_id": "49f7415946e9436b8bfa0b889f6716e6",
       "version_major": 2,
       "version_minor": 0
      },
      "text/plain": [
       "Drawing 10000 posterior samples:   0%|          | 0/10000 [00:00<?, ?it/s]"
      ]
     },
     "metadata": {},
     "output_type": "display_data"
    },
    {
     "name": "stdout",
     "output_type": "stream",
     "text": [
      "25\n"
     ]
    },
    {
     "data": {
      "application/vnd.jupyter.widget-view+json": {
       "model_id": "42ce3fa4f2674f7f97800ea02e036511",
       "version_major": 2,
       "version_minor": 0
      },
      "text/plain": [
       "Drawing 10000 posterior samples:   0%|          | 0/10000 [00:00<?, ?it/s]"
      ]
     },
     "metadata": {},
     "output_type": "display_data"
    },
    {
     "name": "stdout",
     "output_type": "stream",
     "text": [
      "26\n"
     ]
    },
    {
     "data": {
      "application/vnd.jupyter.widget-view+json": {
       "model_id": "62ba9280c52f4687a052dc44b0b41fad",
       "version_major": 2,
       "version_minor": 0
      },
      "text/plain": [
       "Drawing 10000 posterior samples:   0%|          | 0/10000 [00:00<?, ?it/s]"
      ]
     },
     "metadata": {},
     "output_type": "display_data"
    },
    {
     "name": "stdout",
     "output_type": "stream",
     "text": [
      "27\n"
     ]
    },
    {
     "data": {
      "application/vnd.jupyter.widget-view+json": {
       "model_id": "2944f24c04544ec7a16d9da683750c9c",
       "version_major": 2,
       "version_minor": 0
      },
      "text/plain": [
       "Drawing 10000 posterior samples:   0%|          | 0/10000 [00:00<?, ?it/s]"
      ]
     },
     "metadata": {},
     "output_type": "display_data"
    },
    {
     "name": "stdout",
     "output_type": "stream",
     "text": [
      "28\n"
     ]
    },
    {
     "data": {
      "application/vnd.jupyter.widget-view+json": {
       "model_id": "e5a0a0fec32b437a9ec73f4d0bfc8620",
       "version_major": 2,
       "version_minor": 0
      },
      "text/plain": [
       "Drawing 10000 posterior samples:   0%|          | 0/10000 [00:00<?, ?it/s]"
      ]
     },
     "metadata": {},
     "output_type": "display_data"
    },
    {
     "name": "stdout",
     "output_type": "stream",
     "text": [
      "29\n"
     ]
    },
    {
     "data": {
      "application/vnd.jupyter.widget-view+json": {
       "model_id": "cf9bbacc618348bc86aaff884447c3a3",
       "version_major": 2,
       "version_minor": 0
      },
      "text/plain": [
       "Drawing 10000 posterior samples:   0%|          | 0/10000 [00:00<?, ?it/s]"
      ]
     },
     "metadata": {},
     "output_type": "display_data"
    },
    {
     "name": "stdout",
     "output_type": "stream",
     "text": [
      "30\n"
     ]
    },
    {
     "data": {
      "application/vnd.jupyter.widget-view+json": {
       "model_id": "0b36d465826d4ef99e5e0f8d82a6e96e",
       "version_major": 2,
       "version_minor": 0
      },
      "text/plain": [
       "Drawing 10000 posterior samples:   0%|          | 0/10000 [00:00<?, ?it/s]"
      ]
     },
     "metadata": {},
     "output_type": "display_data"
    },
    {
     "name": "stdout",
     "output_type": "stream",
     "text": [
      "31\n"
     ]
    },
    {
     "data": {
      "application/vnd.jupyter.widget-view+json": {
       "model_id": "82a0449e941e4e61b37da25d56a4a66d",
       "version_major": 2,
       "version_minor": 0
      },
      "text/plain": [
       "Drawing 10000 posterior samples:   0%|          | 0/10000 [00:00<?, ?it/s]"
      ]
     },
     "metadata": {},
     "output_type": "display_data"
    },
    {
     "name": "stdout",
     "output_type": "stream",
     "text": [
      "32\n"
     ]
    },
    {
     "data": {
      "application/vnd.jupyter.widget-view+json": {
       "model_id": "e1223da3569e4d6780aab1133caa72f4",
       "version_major": 2,
       "version_minor": 0
      },
      "text/plain": [
       "Drawing 10000 posterior samples:   0%|          | 0/10000 [00:00<?, ?it/s]"
      ]
     },
     "metadata": {},
     "output_type": "display_data"
    },
    {
     "name": "stdout",
     "output_type": "stream",
     "text": [
      "33\n"
     ]
    },
    {
     "data": {
      "application/vnd.jupyter.widget-view+json": {
       "model_id": "a3bd5170d7bf429dbef0298d6e3483c1",
       "version_major": 2,
       "version_minor": 0
      },
      "text/plain": [
       "Drawing 10000 posterior samples:   0%|          | 0/10000 [00:00<?, ?it/s]"
      ]
     },
     "metadata": {},
     "output_type": "display_data"
    },
    {
     "name": "stdout",
     "output_type": "stream",
     "text": [
      "34\n"
     ]
    },
    {
     "data": {
      "application/vnd.jupyter.widget-view+json": {
       "model_id": "0764d9f76ad74132aacc36f8ea28010b",
       "version_major": 2,
       "version_minor": 0
      },
      "text/plain": [
       "Drawing 10000 posterior samples:   0%|          | 0/10000 [00:00<?, ?it/s]"
      ]
     },
     "metadata": {},
     "output_type": "display_data"
    },
    {
     "name": "stdout",
     "output_type": "stream",
     "text": [
      "35\n"
     ]
    },
    {
     "data": {
      "application/vnd.jupyter.widget-view+json": {
       "model_id": "39e057169e9e4e31942b9cda310cd714",
       "version_major": 2,
       "version_minor": 0
      },
      "text/plain": [
       "Drawing 10000 posterior samples:   0%|          | 0/10000 [00:00<?, ?it/s]"
      ]
     },
     "metadata": {},
     "output_type": "display_data"
    }
   ],
   "source": [
    "post_spss = []\n",
    "for ix in range(ind_psd.shape[-1]):\n",
    "    curC = ind_conn[:, :, ix]\n",
    "    curBrain = Brain.Brain()\n",
    "    curBrain.add_connectome(DAT_ROOT) # grabs distance matrix\n",
    "    # re-ordering for DK atlas and normalizing the connectomes:\n",
    "    curBrain.reorder_connectome(curBrain.connectome, curBrain.distance_matrix)\n",
    "    curBrain.connectome = curC# re-assign connectome to individual connectome\n",
    "    curBrain.bi_symmetric_c()\n",
    "    curBrain.reduce_extreme_dir()\n",
    "        \n",
    "    sp, raw_sps = meg_psd2spatialfeature(curBrain.reducedConnectome, ind_psd[:, :, ix], FREQS, band=\"alpha\")\n",
    "    \n",
    "    std_spv = stdz_vec(raw_sps.sum(axis=1))\n",
    "    std_psd_DB = psd_2tr(ind_psd[:, :, ix])\n",
    "    psm_fs = _stdpsd_2psmfs(std_psd_DB)\n",
    "    psd_mean_fs = stdz_vec(std_psd_DB.mean(axis=0)) # mean PSD, 40 dim\n",
    "    \n",
    "    #curX_raw = np.concatenate([stdz_psm_fs(psm_fs), std_spv])\n",
    "    curX_raw = np.concatenate([psm_fs, psd_mean_fs, std_spv])\n",
    "    curX = torch.Tensor(curX_raw)\n",
    "    print(ix)\n",
    "    if ix > -1:\n",
    "        post_sps = cur_res.posterior.sample((10000, ), x=curX, max_sampling_batch_size=100000)\n",
    "    post_spss.append(post_sps)\n",
    "        "
   ]
  },
  {
   "cell_type": "code",
   "execution_count": 13,
   "id": "40eae794",
   "metadata": {
    "ExecuteTime": {
     "end_time": "2022-10-30T03:54:32.353234Z",
     "start_time": "2022-10-30T03:54:29.439815Z"
    }
   },
   "outputs": [
    {
     "name": "stdout",
     "output_type": "stream",
     "text": [
      "Save to /data/rajlab1/user_data/jin/MyResearch/SBI-SGM/mypkg/../results/fooofgeneralNoise_100000_sd15_denestnsf_embedTrue/theta.pkl\n",
      "Save to /data/rajlab1/user_data/jin/MyResearch/SBI-SGM/mypkg/../results/fooofgeneralNoise_100000_sd15_denestnsf_embedTrue/x.pkl\n",
      "Save to /data/rajlab1/user_data/jin/MyResearch/SBI-SGM/mypkg/../results/fooofgeneralNoise_100000_sd15_denestnsf_embedTrue/posterior.pkl\n",
      "Save to /data/rajlab1/user_data/jin/MyResearch/SBI-SGM/mypkg/../results/fooofgeneralNoise_100000_sd15_denestnsf_embedTrue/embedding_net.pkl\n",
      "Save to /data/rajlab1/user_data/jin/MyResearch/SBI-SGM/mypkg/../results/fooofgeneralNoise_100000_sd15_denestnsf_embedTrue/post_spss.pkl\n"
     ]
    }
   ],
   "source": [
    "cur_res.post_spss = post_spss\n",
    "save_pkl_dict2folder(_paras.folder_path, cur_res, True)"
   ]
  },
  {
   "cell_type": "code",
   "execution_count": 25,
   "id": "6b39a8f9",
   "metadata": {
    "ExecuteTime": {
     "end_time": "2022-10-30T03:56:20.329720Z",
     "start_time": "2022-10-30T03:56:18.800829Z"
    }
   },
   "outputs": [
    {
     "data": {
      "image/png": "[encoded data removed]",
      "text/plain": [
       "<Figure size 576x576 with 49 Axes>"
      ]
     },
     "metadata": {
      "needs_background": "light"
     },
     "output_type": "display_data"
    }
   ],
   "source": [
    "# taue, taui, tauC, speed, alpha, gii, gei\n",
    "_ = analysis.pairplot(post_spss[29], \n",
    "                      limits=paras.plotLimits, \n",
    "                      labels=['taue','taui','tauG','speed','alpha','gii','gei'], \n",
    "                      figsize=(8,8))"
   ]
  },
  {
   "cell_type": "code",
   "execution_count": null,
   "id": "8f0b70b3",
   "metadata": {},
   "outputs": [],
   "source": []
  },
  {
   "cell_type": "markdown",
   "id": "b71633d4",
   "metadata": {},
   "source": [
    "#### PSD estimate"
   ]
  },
  {
   "cell_type": "code",
   "execution_count": 15,
   "id": "37dc02f7",
   "metadata": {
    "ExecuteTime": {
     "end_time": "2022-10-30T03:54:39.861040Z",
     "start_time": "2022-10-30T03:54:39.403399Z"
    }
   },
   "outputs": [
    {
     "name": "stdout",
     "output_type": "stream",
     "text": [
      "Load file /data/rajlab1/user_data/jin/MyResearch/SBI-SGM/mypkg/../results/fooofgeneralNoise_100000_sd15_denestnsf_embedTrue/theta.pkl\n",
      "Load file /data/rajlab1/user_data/jin/MyResearch/SBI-SGM/mypkg/../results/fooofgeneralNoise_100000_sd15_denestnsf_embedTrue/x.pkl\n",
      "Load file /data/rajlab1/user_data/jin/MyResearch/SBI-SGM/mypkg/../results/fooofgeneralNoise_100000_sd15_denestnsf_embedTrue/posterior.pkl\n",
      "Load file /data/rajlab1/user_data/jin/MyResearch/SBI-SGM/mypkg/../results/fooofgeneralNoise_100000_sd15_denestnsf_embedTrue/embedding_net.pkl\n",
      "Load file /data/rajlab1/user_data/jin/MyResearch/SBI-SGM/mypkg/../results/fooofgeneralNoise_100000_sd15_denestnsf_embedTrue/post_spss.pkl\n"
     ]
    }
   ],
   "source": [
    "cur_res = load_pkl_folder2dict(_paras.folder_path)"
   ]
  },
  {
   "cell_type": "code",
   "execution_count": 16,
   "id": "a109dfe4",
   "metadata": {
    "ExecuteTime": {
     "end_time": "2022-10-30T03:55:24.586095Z",
     "start_time": "2022-10-30T03:54:41.667505Z"
    },
    "scrolled": true
   },
   "outputs": [
    {
     "name": "stderr",
     "output_type": "stream",
     "text": [
      "100%|██████████████████████████████████████████████████████████████████████████████████████████████████████████████████████████████████████████| 36/36 [00:42<00:00,  1.19s/it]\n"
     ]
    }
   ],
   "source": [
    "# the estimated PSD and spatial feature from SGM  \n",
    "cur_est_parass = np.array([np.median(ps.numpy(), axis=0) for ps in cur_res.post_spss])\n",
    "#cur_est_parass = np.array([[get_mode(ps.numpy()[:, ix]) for ix in range(7)] for ps in cur_res.post_spss])\n",
    "std_psd_DB = []\n",
    "raw_sp = []\n",
    "for ix in trange(36):\n",
    "    cur_est_paras = cur_est_parass[ix, :]\n",
    "    \n",
    "    cur_conn = ind_conn[:, :, ix]\n",
    "    cur_brain = Brain.Brain()\n",
    "    cur_brain.add_connectome(DAT_ROOT) # grabs distance matrix\n",
    "    cur_brain.reorder_connectome(cur_brain.connectome, cur_brain.distance_matrix)\n",
    "    cur_brain.connectome = cur_conn# re-assign connectome to individual connectome\n",
    "    cur_brain.bi_symmetric_c()\n",
    "    cur_brain.reduce_extreme_dir()\n",
    "    \n",
    "    cur_SGM_model = SGM(cur_brain.reducedConnectome, cur_brain.distance_matrix, FREQS)\n",
    "    cur_psd, cur_sp = cur_SGM_model.run_local_coupling_forward(cur_est_paras)\n",
    "    cur_psd = cur_psd[:68, :]\n",
    "    cur_psd_DB = psd_2tr(cur_psd)\n",
    "    \n",
    "    std_psd_DB.append(cur_psd_DB)\n",
    "    raw_sp.append(cur_sp.sum(axis=1))\n",
    "    "
   ]
  },
  {
   "cell_type": "code",
   "execution_count": 17,
   "id": "04e89f61",
   "metadata": {
    "ExecuteTime": {
     "end_time": "2022-10-30T03:55:25.919244Z",
     "start_time": "2022-10-30T03:55:25.902655Z"
    }
   },
   "outputs": [
    {
     "name": "stdout",
     "output_type": "stream",
     "text": [
      "Corr is 0.968\n"
     ]
    }
   ],
   "source": [
    "sgm_psd_curve = np.array(std_psd_DB).mean(axis=1).mean(axis=0)\n",
    "meg_psd_curve = np.mean([psd_2tr(ind_psd[:, :, ix]).mean(axis=0) for ix in range(36)], axis=0)\n",
    "cor = scipy.stats.pearsonr(stdz_vec(meg_psd_curve), stdz_vec(sgm_psd_curve))[0]\n",
    "print(f\"Corr is {cor:.3f}\")"
   ]
  },
  {
   "cell_type": "code",
   "execution_count": 18,
   "id": "7f65133a",
   "metadata": {
    "ExecuteTime": {
     "end_time": "2022-10-30T03:55:26.889664Z",
     "start_time": "2022-10-30T03:55:26.774680Z"
    }
   },
   "outputs": [
    {
     "data": {
      "text/plain": [
       "<matplotlib.legend.Legend at 0x7f28b5a789a0>"
      ]
     },
     "execution_count": 18,
     "metadata": {},
     "output_type": "execute_result"
    },
    {
     "data": {
      "image/png": "[encoded data removed]",
      "text/plain": [
       "<Figure size 360x360 with 1 Axes>"
      ]
     },
     "metadata": {
      "needs_background": "light"
     },
     "output_type": "display_data"
    }
   ],
   "source": [
    "plt.figure(figsize=[5, 5])\n",
    "plt.plot(FREQS, stdz_vec(meg_psd_curve), linestyle = '-',\n",
    "         marker = 's',fillstyle = 'none',color = 'k', label = \"MEG\", alpha = 0.8)\n",
    "plt.plot(FREQS, stdz_vec(sgm_psd_curve), linestyle = '-',\n",
    "         marker = 'o',fillstyle = 'none',color = 'b', label = \"M-SGM\", alpha = 0.8)\n",
    "plt.xlabel('Frequency (Hz)', fontsize = 17)\n",
    "plt.ylabel('Normalized PSD', fontsize = 17)\n",
    "plt.legend()"
   ]
  },
  {
   "cell_type": "code",
   "execution_count": null,
   "id": "8cda20e3",
   "metadata": {},
   "outputs": [],
   "source": []
  },
  {
   "cell_type": "code",
   "execution_count": 19,
   "id": "952e788f",
   "metadata": {
    "ExecuteTime": {
     "end_time": "2022-10-30T03:55:29.913962Z",
     "start_time": "2022-10-30T03:55:29.801886Z"
    }
   },
   "outputs": [],
   "source": [
    "# Corrs for PSD and spatial features for each subject\n",
    "meg_psd_roi_sub = np.array([psd_2tr(ind_psd[:, :, ix]) for ix in range(36)])\n",
    "sgm_psd_roi_sub = np.array(std_psd_DB)\n",
    "\n",
    "corrs_roi_sub = []\n",
    "for ix in range(meg_psd_roi_sub.shape[0]):\n",
    "    cur_meg = meg_psd_roi_sub[ix]\n",
    "    cur_sgm = sgm_psd_roi_sub[ix]\n",
    "    corrs_roi_sub.append(np.mean([scipy.stats.pearsonr(cur_meg[iy], cur_sgm[iy])[0] for iy in range(68)]))\n",
    "corrs_roi_sub = np.array(corrs_roi_sub)"
   ]
  },
  {
   "cell_type": "code",
   "execution_count": 20,
   "id": "47a59e01",
   "metadata": {
    "ExecuteTime": {
     "end_time": "2022-10-30T03:55:30.333304Z",
     "start_time": "2022-10-30T03:55:30.325292Z"
    }
   },
   "outputs": [
    {
     "data": {
      "text/plain": [
       "array([0.68814764, 0.73686463, 0.74212168, 0.74499916, 0.75254162,\n",
       "       0.76362697, 0.76710095, 0.78135154, 0.78581641, 0.79033307,\n",
       "       0.80038473, 0.80230028, 0.80345513, 0.82125736, 0.82538157,\n",
       "       0.83030247, 0.83096648, 0.83549837, 0.83936233, 0.83988098,\n",
       "       0.84562631, 0.84576851, 0.85300604, 0.86116998, 0.87090283,\n",
       "       0.87165413, 0.87366214, 0.87699032, 0.88444706, 0.88685862,\n",
       "       0.8906038 , 0.89171634, 0.89564123, 0.90236279, 0.90981379,\n",
       "       0.9239296 ])"
      ]
     },
     "execution_count": 20,
     "metadata": {},
     "output_type": "execute_result"
    }
   ],
   "source": [
    "np.sort(corrs_roi_sub)"
   ]
  },
  {
   "cell_type": "code",
   "execution_count": 21,
   "id": "c0fd924b",
   "metadata": {
    "ExecuteTime": {
     "end_time": "2022-10-30T03:55:32.760547Z",
     "start_time": "2022-10-30T03:55:32.753623Z"
    }
   },
   "outputs": [
    {
     "data": {
      "text/plain": [
       "0.8296068574092718"
      ]
     },
     "execution_count": 21,
     "metadata": {},
     "output_type": "execute_result"
    }
   ],
   "source": [
    "np.mean(corrs_roi_sub)"
   ]
  },
  {
   "cell_type": "code",
   "execution_count": 22,
   "id": "20903cdb",
   "metadata": {
    "ExecuteTime": {
     "end_time": "2022-10-30T03:55:37.735311Z",
     "start_time": "2022-10-30T03:55:37.727791Z"
    }
   },
   "outputs": [
    {
     "data": {
      "text/plain": [
       "array([32,  2, 24,  4, 21, 31, 25, 12,  3, 16, 22,  5,  0, 18,  7, 11,  8,\n",
       "       23, 15,  9, 10, 14, 34, 26,  1, 28, 13, 17, 27, 35, 19, 33,  6, 30,\n",
       "       20, 29])"
      ]
     },
     "execution_count": 22,
     "metadata": {},
     "output_type": "execute_result"
    }
   ],
   "source": [
    "np.argsort(corrs_roi_sub)"
   ]
  },
  {
   "cell_type": "code",
   "execution_count": 23,
   "id": "dc5a7cdd",
   "metadata": {
    "ExecuteTime": {
     "end_time": "2022-10-30T03:55:39.847447Z",
     "start_time": "2022-10-30T03:55:39.696774Z"
    }
   },
   "outputs": [
    {
     "data": {
      "text/plain": [
       "<matplotlib.legend.Legend at 0x7f28b5104280>"
      ]
     },
     "execution_count": 23,
     "metadata": {},
     "output_type": "execute_result"
    },
    {
     "data": {
      "image/png": "[encoded data removed]",
      "text/plain": [
       "<Figure size 432x288 with 1 Axes>"
      ]
     },
     "metadata": {
      "needs_background": "light"
     },
     "output_type": "display_data"
    }
   ],
   "source": [
    "sub_ix = 24\n",
    "roi_ix = 0\n",
    "cur_sgm.shape\n",
    "plt.plot(FREQS, stdz_vec(meg_psd_roi_sub[sub_ix, roi_ix, :]), linestyle = '-',\n",
    "         marker = 's',fillstyle = 'none',color = 'k', label = \"MEG\", alpha = 0.8)\n",
    "plt.plot(FREQS, stdz_vec(sgm_psd_roi_sub[sub_ix, roi_ix, :]), linestyle = '-',\n",
    "         marker = 'o',fillstyle = 'none',color = 'b', label = \"M-SGM\", alpha = 0.8)\n",
    "plt.legend()"
   ]
  },
  {
   "cell_type": "code",
   "execution_count": 24,
   "id": "72e6f685",
   "metadata": {
    "ExecuteTime": {
     "end_time": "2022-10-30T03:55:43.257503Z",
     "start_time": "2022-10-30T03:55:43.108865Z"
    }
   },
   "outputs": [
    {
     "data": {
      "text/plain": [
       "<matplotlib.legend.Legend at 0x7f28b5071eb0>"
      ]
     },
     "execution_count": 24,
     "metadata": {},
     "output_type": "execute_result"
    },
    {
     "data": {
      "image/png": "[encoded data removed]",
      "text/plain": [
       "<Figure size 432x288 with 1 Axes>"
      ]
     },
     "metadata": {
      "needs_background": "light"
     },
     "output_type": "display_data"
    }
   ],
   "source": [
    "sub_ix = 29\n",
    "cur_sgm.shape\n",
    "plt.plot(FREQS, stdz_vec(meg_psd_roi_sub[sub_ix, :, :].mean(axis=0)), linestyle = '-',\n",
    "         marker = 's',fillstyle = 'none',color = 'k', label = \"MEG\", alpha = 0.8)\n",
    "plt.plot(FREQS, stdz_vec(sgm_psd_roi_sub[sub_ix, :, :].mean(axis=0)), linestyle = '-',\n",
    "         marker = 'o',fillstyle = 'none',color = 'b', label = \"M-SGM\", alpha = 0.8)\n",
    "plt.legend()"
   ]
  },
  {
   "cell_type": "code",
   "execution_count": null,
   "id": "ae137921",
   "metadata": {},
   "outputs": [],
   "source": []
  },
  {
   "cell_type": "code",
   "execution_count": 108,
   "id": "587e4283",
   "metadata": {
    "ExecuteTime": {
     "end_time": "2022-10-21T20:16:22.512619Z",
     "start_time": "2022-10-21T20:16:22.489051Z"
    }
   },
   "outputs": [
    {
     "ename": "NameError",
     "evalue": "name 'paras_gen' is not defined",
     "output_type": "error",
     "traceback": [
      "\u001b[0;31m---------------------------------------------------------------------------\u001b[0m",
      "\u001b[0;31mNameError\u001b[0m                                 Traceback (most recent call last)",
      "\u001b[0;32m/tmp/ipykernel_30495/385540044.py\u001b[0m in \u001b[0;36m<module>\u001b[0;34m\u001b[0m\n\u001b[1;32m      1\u001b[0m \u001b[0mcur_res\u001b[0m\u001b[0;34m.\u001b[0m\u001b[0mraw_sp\u001b[0m \u001b[0;34m=\u001b[0m \u001b[0mraw_sp\u001b[0m\u001b[0;34m\u001b[0m\u001b[0;34m\u001b[0m\u001b[0m\n\u001b[1;32m      2\u001b[0m \u001b[0mcur_res\u001b[0m\u001b[0;34m.\u001b[0m\u001b[0mstd_psd_DB\u001b[0m \u001b[0;34m=\u001b[0m \u001b[0mstd_psd_DB\u001b[0m\u001b[0;34m\u001b[0m\u001b[0;34m\u001b[0m\u001b[0m\n\u001b[0;32m----> 3\u001b[0;31m \u001b[0msave_pkl_dict2folder\u001b[0m\u001b[0;34m(\u001b[0m\u001b[0mparas_gen\u001b[0m\u001b[0;34m.\u001b[0m\u001b[0mfolder_path\u001b[0m\u001b[0;34m,\u001b[0m \u001b[0mcur_res\u001b[0m\u001b[0;34m,\u001b[0m \u001b[0;32mTrue\u001b[0m\u001b[0;34m)\u001b[0m\u001b[0;34m\u001b[0m\u001b[0;34m\u001b[0m\u001b[0m\n\u001b[0m",
      "\u001b[0;31mNameError\u001b[0m: name 'paras_gen' is not defined"
     ]
    }
   ],
   "source": [
    "cur_res.raw_sp = raw_sp\n",
    "cur_res.std_psd_DB = std_psd_DB\n",
    "save_pkl_dict2folder(paras_gen.folder_path, cur_res, True)"
   ]
  },
  {
   "cell_type": "code",
   "execution_count": null,
   "id": "18abc5e7",
   "metadata": {},
   "outputs": [],
   "source": []
  },
  {
   "cell_type": "code",
   "execution_count": 168,
   "id": "22d6ca18",
   "metadata": {
    "ExecuteTime": {
     "end_time": "2022-10-26T23:07:13.470402Z",
     "start_time": "2022-10-26T23:07:13.428331Z"
    }
   },
   "outputs": [
    {
     "data": {
      "text/plain": [
       "array([[ 7.51620119,  1.21579045,  4.57979638],\n",
       "       [15.08958038,  1.06411101,  8.89736324],\n",
       "       [24.52632811,  0.61429126,  6.16138445]])"
      ]
     },
     "execution_count": 168,
     "metadata": {},
     "output_type": "execute_result"
    }
   ],
   "source": [
    "cur_fs3 = obt_psm_raw(10**meg_psd_curve, FREQS, False)\n",
    "cur_fs3.peak_params_"
   ]
  },
  {
   "cell_type": "code",
   "execution_count": 170,
   "id": "ae3a29cd",
   "metadata": {
    "ExecuteTime": {
     "end_time": "2022-10-26T23:09:40.535033Z",
     "start_time": "2022-10-26T23:09:40.527854Z"
    }
   },
   "outputs": [
    {
     "data": {
      "text/plain": [
       "array([1.62437703, 1.63764493])"
      ]
     },
     "execution_count": 170,
     "metadata": {},
     "output_type": "execute_result"
    }
   ],
   "source": [
    "cur_fs3.aperiodic_params_"
   ]
  },
  {
   "cell_type": "code",
   "execution_count": 171,
   "id": "bcaa44df",
   "metadata": {
    "ExecuteTime": {
     "end_time": "2022-10-26T23:09:59.871429Z",
     "start_time": "2022-10-26T23:09:59.864146Z"
    }
   },
   "outputs": [
    {
     "data": {
      "text/plain": [
       "array([7.47115817e+00, 3.65341987e+06, 5.41851874e+00])"
      ]
     },
     "execution_count": 171,
     "metadata": {},
     "output_type": "execute_result"
    }
   ],
   "source": [
    "cur_fs1.aperiodic_params_"
   ]
  },
  {
   "cell_type": "code",
   "execution_count": 172,
   "id": "3ba83cb5",
   "metadata": {
    "ExecuteTime": {
     "end_time": "2022-10-26T23:11:50.290375Z",
     "start_time": "2022-10-26T23:11:50.283075Z"
    }
   },
   "outputs": [
    {
     "data": {
      "text/plain": [
       "array([[ 7.38527735,  0.50204234,  4.78334524],\n",
       "       [42.55264333,  0.29635263,  3.64309184]])"
      ]
     },
     "execution_count": 172,
     "metadata": {},
     "output_type": "execute_result"
    }
   ],
   "source": [
    "cur_fs1.peak_params_"
   ]
  },
  {
   "cell_type": "code",
   "execution_count": 174,
   "id": "1678c1fe",
   "metadata": {
    "ExecuteTime": {
     "end_time": "2022-10-26T23:31:07.734964Z",
     "start_time": "2022-10-26T23:31:07.701874Z"
    }
   },
   "outputs": [],
   "source": [
    "cur_fs1 = obt_psm_raw(10**meg_psd_curve, FREQS, False)\n",
    "cur_fs2 = obt_psm_raw(10**sgm_psd_curve, FREQS, False)"
   ]
  },
  {
   "cell_type": "code",
   "execution_count": 175,
   "id": "3be063f8",
   "metadata": {
    "ExecuteTime": {
     "end_time": "2022-10-26T23:31:10.355485Z",
     "start_time": "2022-10-26T23:31:10.138540Z"
    }
   },
   "outputs": [
    {
     "data": {
      "image/png": "[encoded data removed]",
      "text/plain": [
       "<Figure size 720x576 with 1 Axes>"
      ]
     },
     "metadata": {
      "needs_background": "light"
     },
     "output_type": "display_data"
    },
    {
     "data": {
      "image/png": "[encoded data removed]",
      "text/plain": [
       "<Figure size 720x576 with 1 Axes>"
      ]
     },
     "metadata": {
      "needs_background": "light"
     },
     "output_type": "display_data"
    }
   ],
   "source": [
    "cur_fs1.plot()\n",
    "cur_fs2.plot()"
   ]
  },
  {
   "cell_type": "code",
   "execution_count": null,
   "id": "a01dcf78",
   "metadata": {},
   "outputs": [],
   "source": []
  },
  {
   "cell_type": "code",
   "execution_count": 149,
   "id": "96680a2b",
   "metadata": {
    "ExecuteTime": {
     "end_time": "2022-10-26T21:01:27.964853Z",
     "start_time": "2022-10-26T21:01:27.849616Z"
    }
   },
   "outputs": [
    {
     "data": {
      "text/plain": [
       "<matplotlib.lines.Line2D at 0x7f38accb2640>"
      ]
     },
     "execution_count": 149,
     "metadata": {},
     "output_type": "execute_result"
    },
    {
     "data": {
      "image/png": "[encoded data removed]",
      "text/plain": [
       "<Figure size 432x288 with 1 Axes>"
      ]
     },
     "metadata": {
      "needs_background": "light"
     },
     "output_type": "display_data"
    }
   ],
   "source": [
    "cur_fs = obt_psm_fs(10**meg_psd_curve, FREQS)\n",
    "plt.plot(FREQS, stdz_vec(meg_psd_curve), linestyle = '-',\n",
    "         marker = 's',fillstyle = 'none',color = 'k', label = \"MEG\", alpha = 0.8)\n",
    "plt.axvline(x=cur_fs[1])\n",
    "plt.axvline(x=cur_fs[4])"
   ]
  }
 ],
 "metadata": {
  "kernelspec": {
   "display_name": "Python 3 (ipykernel)",
   "language": "python",
   "name": "python3"
  },
  "language_info": {
   "codemirror_mode": {
    "name": "ipython",
    "version": 3
   },
   "file_extension": ".py",
   "mimetype": "text/x-python",
   "name": "python",
   "nbconvert_exporter": "python",
   "pygments_lexer": "ipython3",
   "version": "3.9.7"
  },
  "toc": {
   "base_numbering": 1,
   "nav_menu": {},
   "number_sections": true,
   "sideBar": true,
   "skip_h1_title": false,
   "title_cell": "Table of Contents",
   "title_sidebar": "Contents",
   "toc_cell": true,
   "toc_position": {
    "height": "calc(100% - 180px)",
    "left": "10px",
    "top": "150px",
    "width": "193px"
   },
   "toc_section_display": true,
   "toc_window_display": true
  }
 },
 "nbformat": 4,
 "nbformat_minor": 5
}
