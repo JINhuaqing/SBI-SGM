{
 "cells": [
  {
   "cell_type": "markdown",
   "id": "26d4c45a",
   "metadata": {
    "toc": true
   },
   "source": [
    "<h1>Table of Contents<span class=\"tocSkip\"></span></h1>\n",
    "<div class=\"toc\"><ul class=\"toc-item\"><li><span><a href=\"#import-and-define\" data-toc-modified-id=\"import-and-define-1\"><span class=\"toc-item-num\">1&nbsp;&nbsp;</span>import and define</a></span><ul class=\"toc-item\"><li><span><a href=\"#Other-pkgs\" data-toc-modified-id=\"Other-pkgs-1.1\"><span class=\"toc-item-num\">1.1&nbsp;&nbsp;</span>Other pkgs</a></span></li><li><span><a href=\"#My-own-pkgs\" data-toc-modified-id=\"My-own-pkgs-1.2\"><span class=\"toc-item-num\">1.2&nbsp;&nbsp;</span>My own pkgs</a></span></li><li><span><a href=\"#Some-fns-for-this-file-only\" data-toc-modified-id=\"Some-fns-for-this-file-only-1.3\"><span class=\"toc-item-num\">1.3&nbsp;&nbsp;</span>Some fns for this file only</a></span></li></ul></li><li><span><a href=\"#Load-real-data-PSD-and-brain\" data-toc-modified-id=\"Load-real-data-PSD-and-brain-2\"><span class=\"toc-item-num\">2&nbsp;&nbsp;</span>Load real data PSD and brain</a></span><ul class=\"toc-item\"><li><span><a href=\"#PSD-and-connectome\" data-toc-modified-id=\"PSD-and-connectome-2.1\"><span class=\"toc-item-num\">2.1&nbsp;&nbsp;</span>PSD and connectome</a></span></li><li><span><a href=\"#Set-up-Parameters\" data-toc-modified-id=\"Set-up-Parameters-2.2\"><span class=\"toc-item-num\">2.2&nbsp;&nbsp;</span>Set up Parameters</a></span></li></ul></li><li><span><a href=\"#Prepare-for-SBI\" data-toc-modified-id=\"Prepare-for-SBI-3\"><span class=\"toc-item-num\">3&nbsp;&nbsp;</span>Prepare for SBI</a></span><ul class=\"toc-item\"><li><span><a href=\"#Simulator\" data-toc-modified-id=\"Simulator-3.1\"><span class=\"toc-item-num\">3.1&nbsp;&nbsp;</span>Simulator</a></span></li><li><span><a href=\"#Prior\" data-toc-modified-id=\"Prior-3.2\"><span class=\"toc-item-num\">3.2&nbsp;&nbsp;</span>Prior</a></span></li></ul></li><li><span><a href=\"#SBI\" data-toc-modified-id=\"SBI-4\"><span class=\"toc-item-num\">4&nbsp;&nbsp;</span>SBI</a></span><ul class=\"toc-item\"><li><span><a href=\"#RUN\" data-toc-modified-id=\"RUN-4.1\"><span class=\"toc-item-num\">4.1&nbsp;&nbsp;</span>RUN</a></span></li><li><span><a href=\"#Get-posterior\" data-toc-modified-id=\"Get-posterior-4.2\"><span class=\"toc-item-num\">4.2&nbsp;&nbsp;</span>Get posterior</a></span></li><li><span><a href=\"#PSD-estimate\" data-toc-modified-id=\"PSD-estimate-4.3\"><span class=\"toc-item-num\">4.3&nbsp;&nbsp;</span>PSD estimate</a></span></li></ul></li></ul></div>"
   ]
  },
  {
   "cell_type": "markdown",
   "id": "48ee4fd6",
   "metadata": {},
   "source": [
    "This file is to try SBI_SGM when extracting features with fooof (power spectrum model)\n",
    "\n",
    "And I train model with a general connectome.\n"
   ]
  },
  {
   "cell_type": "markdown",
   "id": "269c1f0a",
   "metadata": {},
   "source": [
    "### import and define"
   ]
  },
  {
   "cell_type": "code",
   "execution_count": 1,
   "id": "4e45686c",
   "metadata": {
    "ExecuteTime": {
     "end_time": "2022-10-29T02:45:17.611221Z",
     "start_time": "2022-10-29T02:45:17.603994Z"
    }
   },
   "outputs": [],
   "source": [
    "import os\n",
    "import sys\n",
    "module_path = os.path.abspath(os.path.join('../mypkg'))\n",
    "if module_path not in sys.path:\n",
    "    sys.path.append(module_path)"
   ]
  },
  {
   "cell_type": "markdown",
   "id": "e5ca9b8a",
   "metadata": {},
   "source": [
    "#### Other pkgs"
   ]
  },
  {
   "cell_type": "code",
   "execution_count": 2,
   "id": "c93dcfe1",
   "metadata": {
    "ExecuteTime": {
     "end_time": "2022-10-29T02:45:22.255662Z",
     "start_time": "2022-10-29T02:45:17.615170Z"
    }
   },
   "outputs": [
    {
     "name": "stderr",
     "output_type": "stream",
     "text": [
      "/opt/conda/lib/python3.9/site-packages/scipy/__init__.py:146: UserWarning: A NumPy version >=1.16.5 and <1.23.0 is required for this version of SciPy (detected version 1.23.1\n",
      "  warnings.warn(f\"A NumPy version >={np_minversion} and <{np_maxversion}\"\n"
     ]
    }
   ],
   "source": [
    "from tqdm import trange, tqdm\n",
    "\n",
    "import torch\n",
    "import torch.nn as nn \n",
    "import torch.nn.functional as F \n",
    "from sbi import utils as sutils\n",
    "from sbi import analysis as analysis\n",
    "from sbi.inference.base import infer\n",
    "from sbi.inference import SNPE, prepare_for_sbi, simulate_for_sbi\n",
    "from sbi.utils.get_nn_models import posterior_nn\n",
    "from sklearn.preprocessing import minmax_scale\n",
    "\n",
    "import numpy as np\n",
    "import xarray as xr\n",
    "from easydict import EasyDict as edict\n",
    "from pathlib import Path\n",
    "import pickle\n",
    "import scipy\n",
    "\n",
    "import seaborn as sns\n",
    "import pandas as pd\n",
    "import matplotlib.pyplot as plt\n",
    "import json\n",
    "from functools import partial\n",
    "\n",
    "import warnings\n",
    "warnings.filterwarnings(\"ignore\")"
   ]
  },
  {
   "cell_type": "code",
   "execution_count": null,
   "id": "aac0886a",
   "metadata": {},
   "outputs": [],
   "source": []
  },
  {
   "cell_type": "markdown",
   "id": "7452265b",
   "metadata": {},
   "source": [
    "#### My own pkgs"
   ]
  },
  {
   "cell_type": "code",
   "execution_count": 3,
   "id": "da2f4f7a",
   "metadata": {
    "ExecuteTime": {
     "end_time": "2022-10-29T02:45:22.717042Z",
     "start_time": "2022-10-29T02:45:22.259686Z"
    }
   },
   "outputs": [],
   "source": [
    "import importlib\n",
    "\n",
    "import utils.misc\n",
    "importlib.reload(utils.misc);\n",
    "from utils.misc import mag2db, meg_psd2spatialfeature, save_pkl_dict2folder, load_pkl_folder2dict\n",
    "\n",
    "import utils.standardize\n",
    "importlib.reload(utils.standardize);\n",
    "from utils.standardize import stdz_psd, stdz_vec, minmax_vec, psd_2tr\n",
    "\n",
    "import utils.brain_plot\n",
    "importlib.reload(utils.brain_plot)\n",
    "from utils.brain_plot import U2BrainVec, reorderU \n",
    "\n",
    "import sgm.sgm\n",
    "importlib.reload(sgm.sgm);\n",
    "from sgm.sgm import SGM\n",
    "\n",
    "\n",
    "from spectrome import Brain, path, functions\n",
    "\n",
    "import features.psm\n",
    "importlib.reload(features.psm)\n",
    "from features.psm import obt_psm_fs\n",
    "\n",
    "import constants\n",
    "importlib.reload(constants)\n",
    "from constants import RES_ROOT, FIG_ROOT, DAT_ROOT\n",
    "\n",
    "import models.embedding_nets \n",
    "importlib.reload(models.embedding_nets)\n",
    "from models.embedding_nets import SummaryNet"
   ]
  },
  {
   "cell_type": "markdown",
   "id": "996e3bb4",
   "metadata": {},
   "source": [
    "#### Some fns for this file only"
   ]
  },
  {
   "cell_type": "code",
   "execution_count": 4,
   "id": "e291220f",
   "metadata": {
    "ExecuteTime": {
     "end_time": "2022-10-29T02:45:22.726660Z",
     "start_time": "2022-10-29T02:45:22.720049Z"
    }
   },
   "outputs": [],
   "source": [
    "def _remove_nopeak(theta, x):\n",
    "    \"\"\"The function is to remove the samples with no-peak case\n",
    "        args:\n",
    "            theta: the parameters, n x nparas\n",
    "            x: the samples, n x dim of features\n",
    "    \"\"\"\n",
    "    keep_idxs = np.abs(x).min(axis=1).values != 0\n",
    "    #keep_idxs = x.max(axis=1).values != np.inf\n",
    "    x = x[keep_idxs, :]\n",
    "    theta = theta[keep_idxs, :]\n",
    "    return theta, x"
   ]
  },
  {
   "cell_type": "code",
   "execution_count": 5,
   "id": "3a3f744d",
   "metadata": {
    "ExecuteTime": {
     "end_time": "2022-10-29T02:45:22.756088Z",
     "start_time": "2022-10-29T02:45:22.729060Z"
    }
   },
   "outputs": [],
   "source": [
    "def _stdpsd_2psmfs(std_psd_DB):\n",
    "    \"\"\" convert std_psd_DB to psm features\n",
    "    \"\"\"\n",
    "    std_psd_power = 10**(std_psd_DB) # lets change it to exp scale\n",
    "    psd_psm_fs = []\n",
    "    for ix in range(68):\n",
    "        cur_psd = std_psd_power[ix, :]\n",
    "        cur_fs = obt_psm_fs(cur_psd, FREQS)\n",
    "        psd_psm_fs.append(cur_fs)\n",
    "    psd_psm_fs = np.concatenate(psd_psm_fs)\n",
    "    return psd_psm_fs"
   ]
  },
  {
   "cell_type": "code",
   "execution_count": null,
   "id": "85583924",
   "metadata": {},
   "outputs": [],
   "source": []
  },
  {
   "cell_type": "markdown",
   "id": "4022c78f",
   "metadata": {},
   "source": [
    "### Load real data PSD and brain"
   ]
  },
  {
   "cell_type": "markdown",
   "id": "bcd6c5ab",
   "metadata": {},
   "source": [
    "#### PSD and connectome"
   ]
  },
  {
   "cell_type": "code",
   "execution_count": 6,
   "id": "bb358643",
   "metadata": {
    "ExecuteTime": {
     "end_time": "2022-10-29T02:45:23.019500Z",
     "start_time": "2022-10-29T02:45:22.760089Z"
    }
   },
   "outputs": [],
   "source": [
    "# Load data\n",
    "ind_psd_xr = xr.open_dataarray(DAT_ROOT/'individual_psd_reordered_matlab.nc')\n",
    "ind_psd = ind_psd_xr.values\n",
    "FREQS = ind_psd_xr[\"frequencies\"].values\n",
    "ind_conn_xr = xr.open_dataarray(DAT_ROOT/'individual_connectomes_reordered.nc')\n",
    "ind_conn = ind_conn_xr.values"
   ]
  },
  {
   "cell_type": "markdown",
   "id": "b6960bf4",
   "metadata": {},
   "source": [
    "#### Set up Parameters"
   ]
  },
  {
   "cell_type": "code",
   "execution_count": 7,
   "id": "d9326efc",
   "metadata": {
    "ExecuteTime": {
     "end_time": "2022-10-29T02:45:23.031544Z",
     "start_time": "2022-10-29T02:45:23.022777Z"
    }
   },
   "outputs": [],
   "source": [
    "# some constant parameters for this file\n",
    "paras = edict()\n",
    "#v_lower = 3.5-1.8\n",
    "#v_upper = 3.5+1.8\n",
    "#bnds = ((5.0,30.0), (5.0,200.0), (0.1,1.0), (v_lower,v_upper), (0.5,10.0), (0.5,10.0), (5.0,30.0))\n",
    "#This is the order for the above bounds:  tau_e, tau_i, alpha, speed, gei, gii, tauC,\n",
    "\n",
    "# taue, taui, tauC, speed, alpha, gii, gei\n",
    "paras.par_low = np.asarray([0.005,0.005,0.005,1.7,0.1,0.5,0.5])\n",
    "paras.par_high = np.asarray([0.03, 0.20, 0.03,5.3,  1, 10, 10])\n",
    "paras.plotLimits = np.array([paras.par_low, paras.par_high]).T\n",
    "paras.names = [\"Taue\", \"Taui\", \"TauC\", \"Speed\", \"alpha\", \"gii\", \"gei\"]\n",
    "\n",
    "# paras \n",
    "paras.noise_sd = 0.30\n",
    "paras.num_prior_sps = int(1e2)\n",
    "paras.den_est = \"nsf\"\n",
    "paras.num_round = 2\n",
    "paras.is_embed = True"
   ]
  },
  {
   "cell_type": "code",
   "execution_count": 8,
   "id": "dfcf4a20",
   "metadata": {
    "ExecuteTime": {
     "end_time": "2022-10-29T02:45:23.065043Z",
     "start_time": "2022-10-29T02:45:23.034390Z"
    }
   },
   "outputs": [
    {
     "name": "stdout",
     "output_type": "stream",
     "text": [
      "folder is /data/rajlab1/user_data/jin/MyResearch/SBI-SGM/mypkg/../results/fooofMR_100_sd30_denestnsf_numround2_embedTrue\n",
      "False\n"
     ]
    }
   ],
   "source": [
    "# paras  for this file\n",
    "_paras = edict()\n",
    "_folder_path = f\"./fooofMR_{paras.num_prior_sps:.0f}\" +\\\n",
    "               f\"_sd{paras.noise_sd*100:.0f}\" +\\\n",
    "               f\"_denest{paras.den_est}\" +\\\n",
    "               f\"_numround{paras.num_round:.0f}\" +\\\n",
    "               f\"_embed{paras.is_embed}\"\n",
    "_paras.folder_path = RES_ROOT/_folder_path\n",
    "print(f\"folder is {_paras.folder_path}\")\n",
    "print(_paras.folder_path.exists())"
   ]
  },
  {
   "cell_type": "code",
   "execution_count": 9,
   "id": "d7c08ebf",
   "metadata": {
    "ExecuteTime": {
     "end_time": "2022-10-29T02:45:23.098978Z",
     "start_time": "2022-10-29T02:45:23.067858Z"
    }
   },
   "outputs": [],
   "source": [
    "cur_res = edict()"
   ]
  },
  {
   "cell_type": "code",
   "execution_count": null,
   "id": "b25f1eaa",
   "metadata": {},
   "outputs": [],
   "source": []
  },
  {
   "cell_type": "markdown",
   "id": "86923703",
   "metadata": {},
   "source": [
    "### Prepare for SBI"
   ]
  },
  {
   "cell_type": "markdown",
   "id": "f931d238",
   "metadata": {},
   "source": [
    "#### Simulator"
   ]
  },
  {
   "cell_type": "code",
   "execution_count": 10,
   "id": "29e2b8cb",
   "metadata": {
    "ExecuteTime": {
     "end_time": "2022-10-29T02:45:23.132405Z",
     "start_time": "2022-10-29T02:45:23.102295Z"
    }
   },
   "outputs": [],
   "source": [
    "def simulator(params, noise_sd, sgmmodel):\n",
    "    \"\"\"The function to simulate samples\n",
    "    \"\"\"\n",
    "    psd, spatialFs = sgmmodel.run_local_coupling_forward(params)\n",
    "    std_spatial = stdz_vec(spatialFs.sum(axis=1)) # std it\n",
    "    \n",
    "    std_psd_DB = psd_2tr(psd)\n",
    "    noise1 =  np.random.randn(*std_psd_DB.shape)*noise_sd \n",
    "    std_psd_DB_noise = std_psd_DB + noise1\n",
    "    psd_psm_fs = _stdpsd_2psmfs(std_psd_DB_noise) # psd psm fs, two peaks\n",
    "    psd_mean_fs = stdz_vec(std_psd_DB_noise.mean(axis=0)) # mean PSD, 40 dim\n",
    "    \n",
    "    noise2 =  np.random.randn(*std_spatial.shape)*noise_sd \n",
    "    res = np.concatenate([psd_psm_fs, psd_mean_fs, std_spatial+noise2]) \n",
    "    return res"
   ]
  },
  {
   "cell_type": "markdown",
   "id": "e2078c03",
   "metadata": {},
   "source": [
    "#### Prior "
   ]
  },
  {
   "cell_type": "code",
   "execution_count": 11,
   "id": "23dff474",
   "metadata": {
    "ExecuteTime": {
     "end_time": "2022-10-29T02:45:23.729688Z",
     "start_time": "2022-10-29T02:45:23.723401Z"
    }
   },
   "outputs": [],
   "source": [
    "prior = sutils.BoxUniform(low=torch.as_tensor(paras.par_low), high=torch.as_tensor(paras.par_high))"
   ]
  },
  {
   "cell_type": "code",
   "execution_count": null,
   "id": "73863e4e",
   "metadata": {},
   "outputs": [],
   "source": []
  },
  {
   "cell_type": "markdown",
   "id": "5a694c3b",
   "metadata": {},
   "source": [
    "### SBI"
   ]
  },
  {
   "cell_type": "markdown",
   "id": "aa59351b",
   "metadata": {},
   "source": [
    "#### RUN"
   ]
  },
  {
   "cell_type": "code",
   "execution_count": 12,
   "id": "f244e3a8",
   "metadata": {
    "ExecuteTime": {
     "end_time": "2022-10-29T02:46:10.968981Z",
     "start_time": "2022-10-29T02:45:25.557684Z"
    }
   },
   "outputs": [
    {
     "data": {
      "application/vnd.jupyter.widget-view+json": {
       "model_id": "848bf1f08b684f66948fc535521761d6",
       "version_major": 2,
       "version_minor": 0
      },
      "text/plain": [
       "Running 100 simulations in 100 batches.:   0%|          | 0/100 [00:00<?, ?it/s]"
      ]
     },
     "metadata": {},
     "output_type": "display_data"
    },
    {
     "name": "stderr",
     "output_type": "stream",
     "text": [
      "/opt/conda/lib/python3.9/site-packages/scipy/__init__.py:146: UserWarning: A NumPy version >=1.16.5 and <1.23.0 is required for this version of SciPy (detected version 1.23.1\n",
      "  warnings.warn(f\"A NumPy version >={np_minversion} and <{np_maxversion}\"\n",
      "/opt/conda/lib/python3.9/site-packages/scipy/__init__.py:146: UserWarning: A NumPy version >=1.16.5 and <1.23.0 is required for this version of SciPy (detected version 1.23.1\n",
      "  warnings.warn(f\"A NumPy version >={np_minversion} and <{np_maxversion}\"\n",
      "/opt/conda/lib/python3.9/site-packages/scipy/__init__.py:146: UserWarning: A NumPy version >=1.16.5 and <1.23.0 is required for this version of SciPy (detected version 1.23.1\n",
      "  warnings.warn(f\"A NumPy version >={np_minversion} and <{np_maxversion}\"\n",
      "/opt/conda/lib/python3.9/site-packages/scipy/__init__.py:146: UserWarning: A NumPy version >=1.16.5 and <1.23.0 is required for this version of SciPy (detected version 1.23.1\n",
      "  warnings.warn(f\"A NumPy version >={np_minversion} and <{np_maxversion}\"\n",
      "/opt/conda/lib/python3.9/site-packages/scipy/__init__.py:146: UserWarning: A NumPy version >=1.16.5 and <1.23.0 is required for this version of SciPy (detected version 1.23.1\n",
      "  warnings.warn(f\"A NumPy version >={np_minversion} and <{np_maxversion}\"\n",
      "/opt/conda/lib/python3.9/site-packages/scipy/__init__.py:146: UserWarning: A NumPy version >=1.16.5 and <1.23.0 is required for this version of SciPy (detected version 1.23.1\n",
      "  warnings.warn(f\"A NumPy version >={np_minversion} and <{np_maxversion}\"\n",
      "/opt/conda/lib/python3.9/site-packages/scipy/__init__.py:146: UserWarning: A NumPy version >=1.16.5 and <1.23.0 is required for this version of SciPy (detected version 1.23.1\n",
      "  warnings.warn(f\"A NumPy version >={np_minversion} and <{np_maxversion}\"\n",
      "/opt/conda/lib/python3.9/site-packages/scipy/__init__.py:146: UserWarning: A NumPy version >=1.16.5 and <1.23.0 is required for this version of SciPy (detected version 1.23.1\n",
      "  warnings.warn(f\"A NumPy version >={np_minversion} and <{np_maxversion}\"\n",
      "/opt/conda/lib/python3.9/site-packages/scipy/__init__.py:146: UserWarning: A NumPy version >=1.16.5 and <1.23.0 is required for this version of SciPy (detected version 1.23.1\n",
      "  warnings.warn(f\"A NumPy version >={np_minversion} and <{np_maxversion}\"\n",
      "/opt/conda/lib/python3.9/site-packages/scipy/__init__.py:146: UserWarning: A NumPy version >=1.16.5 and <1.23.0 is required for this version of SciPy (detected version 1.23.1\n",
      "  warnings.warn(f\"A NumPy version >={np_minversion} and <{np_maxversion}\"\n",
      "/opt/conda/lib/python3.9/site-packages/scipy/__init__.py:146: UserWarning: A NumPy version >=1.16.5 and <1.23.0 is required for this version of SciPy (detected version 1.23.1\n",
      "  warnings.warn(f\"A NumPy version >={np_minversion} and <{np_maxversion}\"\n",
      "/opt/conda/lib/python3.9/site-packages/scipy/__init__.py:146: UserWarning: A NumPy version >=1.16.5 and <1.23.0 is required for this version of SciPy (detected version 1.23.1\n",
      "  warnings.warn(f\"A NumPy version >={np_minversion} and <{np_maxversion}\"\n",
      "/opt/conda/lib/python3.9/site-packages/scipy/__init__.py:146: UserWarning: A NumPy version >=1.16.5 and <1.23.0 is required for this version of SciPy (detected version 1.23.1\n",
      "  warnings.warn(f\"A NumPy version >={np_minversion} and <{np_maxversion}\"\n",
      "/opt/conda/lib/python3.9/site-packages/scipy/__init__.py:146: UserWarning: A NumPy version >=1.16.5 and <1.23.0 is required for this version of SciPy (detected version 1.23.1\n",
      "  warnings.warn(f\"A NumPy version >={np_minversion} and <{np_maxversion}\"\n",
      "/opt/conda/lib/python3.9/site-packages/scipy/__init__.py:146: UserWarning: A NumPy version >=1.16.5 and <1.23.0 is required for this version of SciPy (detected version 1.23.1\n",
      "  warnings.warn(f\"A NumPy version >={np_minversion} and <{np_maxversion}\"\n",
      "/opt/conda/lib/python3.9/site-packages/scipy/__init__.py:146: UserWarning: A NumPy version >=1.16.5 and <1.23.0 is required for this version of SciPy (detected version 1.23.1\n",
      "  warnings.warn(f\"A NumPy version >={np_minversion} and <{np_maxversion}\"\n",
      "/opt/conda/lib/python3.9/site-packages/scipy/__init__.py:146: UserWarning: A NumPy version >=1.16.5 and <1.23.0 is required for this version of SciPy (detected version 1.23.1\n",
      "  warnings.warn(f\"A NumPy version >={np_minversion} and <{np_maxversion}\"\n",
      "/opt/conda/lib/python3.9/site-packages/scipy/__init__.py:146: UserWarning: A NumPy version >=1.16.5 and <1.23.0 is required for this version of SciPy (detected version 1.23.1\n",
      "  warnings.warn(f\"A NumPy version >={np_minversion} and <{np_maxversion}\"\n",
      "/opt/conda/lib/python3.9/site-packages/scipy/__init__.py:146: UserWarning: A NumPy version >=1.16.5 and <1.23.0 is required for this version of SciPy (detected version 1.23.1\n",
      "  warnings.warn(f\"A NumPy version >={np_minversion} and <{np_maxversion}\"\n",
      "/opt/conda/lib/python3.9/site-packages/scipy/__init__.py:146: UserWarning: A NumPy version >=1.16.5 and <1.23.0 is required for this version of SciPy (detected version 1.23.1\n",
      "  warnings.warn(f\"A NumPy version >={np_minversion} and <{np_maxversion}\"\n",
      "/opt/conda/lib/python3.9/site-packages/scipy/__init__.py:146: UserWarning: A NumPy version >=1.16.5 and <1.23.0 is required for this version of SciPy (detected version 1.23.1\n",
      "  warnings.warn(f\"A NumPy version >={np_minversion} and <{np_maxversion}\"\n",
      "/opt/conda/lib/python3.9/site-packages/scipy/__init__.py:146: UserWarning: A NumPy version >=1.16.5 and <1.23.0 is required for this version of SciPy (detected version 1.23.1\n",
      "  warnings.warn(f\"A NumPy version >={np_minversion} and <{np_maxversion}\"\n",
      "/opt/conda/lib/python3.9/site-packages/scipy/__init__.py:146: UserWarning: A NumPy version >=1.16.5 and <1.23.0 is required for this version of SciPy (detected version 1.23.1\n",
      "  warnings.warn(f\"A NumPy version >={np_minversion} and <{np_maxversion}\"\n",
      "/opt/conda/lib/python3.9/site-packages/scipy/__init__.py:146: UserWarning: A NumPy version >=1.16.5 and <1.23.0 is required for this version of SciPy (detected version 1.23.1\n",
      "  warnings.warn(f\"A NumPy version >={np_minversion} and <{np_maxversion}\"\n",
      "/opt/conda/lib/python3.9/site-packages/scipy/__init__.py:146: UserWarning: A NumPy version >=1.16.5 and <1.23.0 is required for this version of SciPy (detected version 1.23.1\n",
      "  warnings.warn(f\"A NumPy version >={np_minversion} and <{np_maxversion}\"\n",
      "/opt/conda/lib/python3.9/site-packages/scipy/__init__.py:146: UserWarning: A NumPy version >=1.16.5 and <1.23.0 is required for this version of SciPy (detected version 1.23.1\n",
      "  warnings.warn(f\"A NumPy version >={np_minversion} and <{np_maxversion}\"\n",
      "/opt/conda/lib/python3.9/site-packages/scipy/__init__.py:146: UserWarning: A NumPy version >=1.16.5 and <1.23.0 is required for this version of SciPy (detected version 1.23.1\n",
      "  warnings.warn(f\"A NumPy version >={np_minversion} and <{np_maxversion}\"\n",
      "/opt/conda/lib/python3.9/site-packages/scipy/__init__.py:146: UserWarning: A NumPy version >=1.16.5 and <1.23.0 is required for this version of SciPy (detected version 1.23.1\n",
      "  warnings.warn(f\"A NumPy version >={np_minversion} and <{np_maxversion}\"\n",
      "/opt/conda/lib/python3.9/site-packages/scipy/__init__.py:146: UserWarning: A NumPy version >=1.16.5 and <1.23.0 is required for this version of SciPy (detected version 1.23.1\n",
      "  warnings.warn(f\"A NumPy version >={np_minversion} and <{np_maxversion}\"\n",
      "/opt/conda/lib/python3.9/site-packages/scipy/__init__.py:146: UserWarning: A NumPy version >=1.16.5 and <1.23.0 is required for this version of SciPy (detected version 1.23.1\n",
      "  warnings.warn(f\"A NumPy version >={np_minversion} and <{np_maxversion}\"\n",
      "/opt/conda/lib/python3.9/site-packages/scipy/__init__.py:146: UserWarning: A NumPy version >=1.16.5 and <1.23.0 is required for this version of SciPy (detected version 1.23.1\n",
      "  warnings.warn(f\"A NumPy version >={np_minversion} and <{np_maxversion}\"\n",
      "/opt/conda/lib/python3.9/site-packages/scipy/__init__.py:146: UserWarning: A NumPy version >=1.16.5 and <1.23.0 is required for this version of SciPy (detected version 1.23.1\n",
      "  warnings.warn(f\"A NumPy version >={np_minversion} and <{np_maxversion}\"\n",
      "/opt/conda/lib/python3.9/site-packages/scipy/__init__.py:146: UserWarning: A NumPy version >=1.16.5 and <1.23.0 is required for this version of SciPy (detected version 1.23.1\n",
      "  warnings.warn(f\"A NumPy version >={np_minversion} and <{np_maxversion}\"\n",
      "/opt/conda/lib/python3.9/site-packages/scipy/__init__.py:146: UserWarning: A NumPy version >=1.16.5 and <1.23.0 is required for this version of SciPy (detected version 1.23.1\n",
      "  warnings.warn(f\"A NumPy version >={np_minversion} and <{np_maxversion}\"\n",
      "/opt/conda/lib/python3.9/site-packages/scipy/__init__.py:146: UserWarning: A NumPy version >=1.16.5 and <1.23.0 is required for this version of SciPy (detected version 1.23.1\n",
      "  warnings.warn(f\"A NumPy version >={np_minversion} and <{np_maxversion}\"\n",
      "/opt/conda/lib/python3.9/site-packages/scipy/__init__.py:146: UserWarning: A NumPy version >=1.16.5 and <1.23.0 is required for this version of SciPy (detected version 1.23.1\n",
      "  warnings.warn(f\"A NumPy version >={np_minversion} and <{np_maxversion}\"\n",
      "/opt/conda/lib/python3.9/site-packages/scipy/__init__.py:146: UserWarning: A NumPy version >=1.16.5 and <1.23.0 is required for this version of SciPy (detected version 1.23.1\n",
      "  warnings.warn(f\"A NumPy version >={np_minversion} and <{np_maxversion}\"\n",
      "/opt/conda/lib/python3.9/site-packages/scipy/__init__.py:146: UserWarning: A NumPy version >=1.16.5 and <1.23.0 is required for this version of SciPy (detected version 1.23.1\n",
      "  warnings.warn(f\"A NumPy version >={np_minversion} and <{np_maxversion}\"\n",
      "/opt/conda/lib/python3.9/site-packages/scipy/__init__.py:146: UserWarning: A NumPy version >=1.16.5 and <1.23.0 is required for this version of SciPy (detected version 1.23.1\n",
      "  warnings.warn(f\"A NumPy version >={np_minversion} and <{np_maxversion}\"\n",
      "/opt/conda/lib/python3.9/site-packages/scipy/__init__.py:146: UserWarning: A NumPy version >=1.16.5 and <1.23.0 is required for this version of SciPy (detected version 1.23.1\n",
      "  warnings.warn(f\"A NumPy version >={np_minversion} and <{np_maxversion}\"\n",
      "/opt/conda/lib/python3.9/site-packages/scipy/__init__.py:146: UserWarning: A NumPy version >=1.16.5 and <1.23.0 is required for this version of SciPy (detected version 1.23.1\n",
      "  warnings.warn(f\"A NumPy version >={np_minversion} and <{np_maxversion}\"\n",
      "/opt/conda/lib/python3.9/site-packages/scipy/__init__.py:146: UserWarning: A NumPy version >=1.16.5 and <1.23.0 is required for this version of SciPy (detected version 1.23.1\n",
      "  warnings.warn(f\"A NumPy version >={np_minversion} and <{np_maxversion}\"\n",
      "/opt/conda/lib/python3.9/site-packages/scipy/__init__.py:146: UserWarning: A NumPy version >=1.16.5 and <1.23.0 is required for this version of SciPy (detected version 1.23.1\n",
      "  warnings.warn(f\"A NumPy version >={np_minversion} and <{np_maxversion}\"\n",
      "/opt/conda/lib/python3.9/site-packages/scipy/__init__.py:146: UserWarning: A NumPy version >=1.16.5 and <1.23.0 is required for this version of SciPy (detected version 1.23.1\n",
      "  warnings.warn(f\"A NumPy version >={np_minversion} and <{np_maxversion}\"\n",
      "/opt/conda/lib/python3.9/site-packages/scipy/__init__.py:146: UserWarning: A NumPy version >=1.16.5 and <1.23.0 is required for this version of SciPy (detected version 1.23.1\n",
      "  warnings.warn(f\"A NumPy version >={np_minversion} and <{np_maxversion}\"\n"
     ]
    },
    {
     "name": "stderr",
     "output_type": "stream",
     "text": [
      "/opt/conda/lib/python3.9/site-packages/scipy/__init__.py:146: UserWarning: A NumPy version >=1.16.5 and <1.23.0 is required for this version of SciPy (detected version 1.23.1\n",
      "  warnings.warn(f\"A NumPy version >={np_minversion} and <{np_maxversion}\"\n",
      "/opt/conda/lib/python3.9/site-packages/scipy/__init__.py:146: UserWarning: A NumPy version >=1.16.5 and <1.23.0 is required for this version of SciPy (detected version 1.23.1\n",
      "  warnings.warn(f\"A NumPy version >={np_minversion} and <{np_maxversion}\"\n",
      "/opt/conda/lib/python3.9/site-packages/scipy/__init__.py:146: UserWarning: A NumPy version >=1.16.5 and <1.23.0 is required for this version of SciPy (detected version 1.23.1\n",
      "  warnings.warn(f\"A NumPy version >={np_minversion} and <{np_maxversion}\"\n",
      "/opt/conda/lib/python3.9/site-packages/scipy/__init__.py:146: UserWarning: A NumPy version >=1.16.5 and <1.23.0 is required for this version of SciPy (detected version 1.23.1\n",
      "  warnings.warn(f\"A NumPy version >={np_minversion} and <{np_maxversion}\"\n",
      "/opt/conda/lib/python3.9/site-packages/scipy/__init__.py:146: UserWarning: A NumPy version >=1.16.5 and <1.23.0 is required for this version of SciPy (detected version 1.23.1\n",
      "  warnings.warn(f\"A NumPy version >={np_minversion} and <{np_maxversion}\"\n"
     ]
    },
    {
     "name": "stdout",
     "output_type": "stream",
     "text": [
      " Neural network successfully converged after 35 epochs."
     ]
    },
    {
     "data": {
      "application/vnd.jupyter.widget-view+json": {
       "model_id": "e5729556e904486d87c6d9dc52d0195e",
       "version_major": 2,
       "version_minor": 0
      },
      "text/plain": [
       "Drawing 100 posterior samples:   0%|          | 0/100 [00:00<?, ?it/s]"
      ]
     },
     "metadata": {},
     "output_type": "display_data"
    },
    {
     "data": {
      "application/vnd.jupyter.widget-view+json": {
       "model_id": "6464efe743444b36a9d7599fd04b17ca",
       "version_major": 2,
       "version_minor": 0
      },
      "text/plain": [
       "Running 100 simulations in 100 batches.:   0%|          | 0/100 [00:00<?, ?it/s]"
      ]
     },
     "metadata": {},
     "output_type": "display_data"
    },
    {
     "name": "stdout",
     "output_type": "stream",
     "text": [
      "Using SNPE-C with atomic loss\n",
      " Neural network successfully converged after 57 epochs./data/rajlab1/user_data/jin/MyResearch/SBI-SGM/mypkg/../results/fooofMR_100_sd30_denestnsf_numround2_embedTrue\n",
      "Create a folder /data/rajlab1/user_data/jin/MyResearch/SBI-SGM/mypkg/../results/fooofMR_100_sd30_denestnsf_numround2_embedTrue\n",
      "Save to /data/rajlab1/user_data/jin/MyResearch/SBI-SGM/mypkg/../results/fooofMR_100_sd30_denestnsf_numround2_embedTrue/posterior_1.pkl\n",
      "Save to /data/rajlab1/user_data/jin/MyResearch/SBI-SGM/mypkg/../results/fooofMR_100_sd30_denestnsf_numround2_embedTrue/posteriorfix_1.pkl\n",
      "Save to /data/rajlab1/user_data/jin/MyResearch/SBI-SGM/mypkg/../results/fooofMR_100_sd30_denestnsf_numround2_embedTrue/embedding_net_1.pkl\n"
     ]
    },
    {
     "data": {
      "application/vnd.jupyter.widget-view+json": {
       "model_id": "27407094a39f45afaf5a6171b7d5bc3b",
       "version_major": 2,
       "version_minor": 0
      },
      "text/plain": [
       "Running 100 simulations in 100 batches.:   0%|          | 0/100 [00:00<?, ?it/s]"
      ]
     },
     "metadata": {},
     "output_type": "display_data"
    },
    {
     "name": "stderr",
     "output_type": "stream",
     "text": [
      "Process LokyProcess-40:\n",
      "Process LokyProcess-43:\n",
      "Process LokyProcess-32:\n",
      "Process LokyProcess-18:\n",
      "Process LokyProcess-29:\n",
      "Process LokyProcess-35:\n",
      "Process LokyProcess-20:\n",
      "Process LokyProcess-34:\n",
      "Process LokyProcess-21:\n",
      "Process LokyProcess-11:\n",
      "Process LokyProcess-7:\n",
      "Process LokyProcess-13:\n",
      "Process LokyProcess-1:\n",
      "Process LokyProcess-17:\n",
      "Process LokyProcess-8:\n",
      "Process LokyProcess-15:\n",
      "Traceback (most recent call last):\n",
      "  File \"/opt/conda/lib/python3.9/site-packages/joblib/_parallel_backends.py\", line 595, in __call__\n",
      "    return self.func(*args, **kwargs)\n",
      "  File \"/opt/conda/lib/python3.9/site-packages/joblib/parallel.py\", line 262, in __call__\n",
      "    return [func(*args, **kwargs)\n",
      "  File \"/opt/conda/lib/python3.9/site-packages/joblib/parallel.py\", line 262, in <listcomp>\n",
      "    return [func(*args, **kwargs)\n",
      "  File \"/home/hujin/.local/lib/python3.9/site-packages/sbi/utils/user_input_checks.py\", line 534, in batch_loop_simulator\n",
      "    xs = list(map(simulator, theta))\n",
      "  File \"/home/hujin/.local/lib/python3.9/site-packages/sbi/utils/user_input_checks.py\", line 499, in pytorch_simulator\n",
      "    return torch.as_tensor(simulator(theta), dtype=float32)\n",
      "  File \"/tmp/ipykernel_34289/2469422395.py\", line 10, in simulator\n",
      "  File \"/tmp/ipykernel_34289/1841306140.py\", line 8, in _stdpsd_2psmfs\n",
      "  File \"/data/rajlab1/user_data/jin/MyResearch/SBI-SGM/mypkg/features/psm.py\", line 24, in obt_psm_fs\n",
      "    fm.fit(freqs, sm_psd, freq_range)\n",
      "  File \"/home/hujin/.local/lib/python3.9/site-packages/fooof/objs/fit.py\", line 464, in fit\n",
      "    self._calc_r_squared()\n",
      "  File \"/home/hujin/.local/lib/python3.9/site-packages/fooof/objs/fit.py\", line 1065, in _calc_r_squared\n",
      "    r_val = np.corrcoef(self.power_spectrum, self.fooofed_spectrum_)\n",
      "  File \"<__array_function__ internals>\", line 180, in corrcoef\n",
      "  File \"/opt/conda/lib/python3.9/site-packages/numpy/lib/function_base.py\", line 2859, in corrcoef\n",
      "    np.clip(c.real, -1, 1, out=c.real)\n",
      "  File \"<__array_function__ internals>\", line 180, in clip\n",
      "  File \"/opt/conda/lib/python3.9/site-packages/numpy/core/fromnumeric.py\", line 2154, in clip\n",
      "    return _wrapfunc(a, 'clip', a_min, a_max, out=out, **kwargs)\n",
      "  File \"/opt/conda/lib/python3.9/site-packages/numpy/core/fromnumeric.py\", line 57, in _wrapfunc\n",
      "    return bound(*args, **kwds)\n",
      "  File \"/opt/conda/lib/python3.9/site-packages/numpy/core/_methods.py\", line 135, in _clip\n",
      "    if _clip_dep_is_scalar_nan(min):\n",
      "  File \"/opt/conda/lib/python3.9/site-packages/numpy/core/_methods.py\", line 95, in _clip_dep_is_scalar_nan\n",
      "    if ndim(a) != 0:\n",
      "  File \"<__array_function__ internals>\", line 177, in ndim\n",
      "KeyboardInterrupt\n",
      "\n",
      "The above exception was the direct cause of the following exception:\n",
      "\n",
      "Traceback (most recent call last):\n",
      "  File \"/opt/conda/lib/python3.9/site-packages/joblib/externals/loky/process_executor.py\", line 436, in _process_worker\n",
      "    r = call_item()\n",
      "  File \"/opt/conda/lib/python3.9/site-packages/joblib/externals/loky/process_executor.py\", line 288, in __call__\n",
      "    return self.fn(*self.args, **self.kwargs)\n",
      "  File \"/opt/conda/lib/python3.9/site-packages/joblib/_parallel_backends.py\", line 600, in __call__\n",
      "    raise WorkerInterrupt() from e\n",
      "joblib.my_exceptions.WorkerInterrupt\n",
      "\n",
      "During handling of the above exception, another exception occurred:\n",
      "\n",
      "Traceback (most recent call last):\n",
      "  File \"/opt/conda/lib/python3.9/multiprocessing/process.py\", line 315, in _bootstrap\n",
      "    self.run()\n",
      "  File \"/opt/conda/lib/python3.9/multiprocessing/process.py\", line 108, in run\n",
      "    self._target(*self._args, **self._kwargs)\n",
      "  File \"/opt/conda/lib/python3.9/site-packages/joblib/externals/loky/process_executor.py\", line 439, in _process_worker\n",
      "    result_queue.put(_ResultItem(call_item.work_id, exception=exc))\n",
      "  File \"/opt/conda/lib/python3.9/site-packages/joblib/externals/loky/backend/queues.py\", line 246, in put\n",
      "    with self._wlock:\n",
      "  File \"/opt/conda/lib/python3.9/site-packages/joblib/externals/loky/backend/synchronize.py\", line 110, in __enter__\n",
      "    return self._semlock.acquire()\n",
      "KeyboardInterrupt\n",
      "Traceback (most recent call last):\n",
      "Process LokyProcess-36:\n",
      "  File \"/opt/conda/lib/python3.9/site-packages/joblib/_parallel_backends.py\", line 595, in __call__\n",
      "    return self.func(*args, **kwargs)\n",
      "  File \"/opt/conda/lib/python3.9/site-packages/joblib/parallel.py\", line 262, in __call__\n",
      "    return [func(*args, **kwargs)\n",
      "  File \"/opt/conda/lib/python3.9/site-packages/joblib/parallel.py\", line 262, in <listcomp>\n",
      "    return [func(*args, **kwargs)\n",
      "  File \"/home/hujin/.local/lib/python3.9/site-packages/sbi/utils/user_input_checks.py\", line 534, in batch_loop_simulator\n",
      "    xs = list(map(simulator, theta))\n",
      "  File \"/home/hujin/.local/lib/python3.9/site-packages/sbi/utils/user_input_checks.py\", line 499, in pytorch_simulator\n",
      "    return torch.as_tensor(simulator(theta), dtype=float32)\n",
      "  File \"/tmp/ipykernel_34289/2469422395.py\", line 4, in simulator\n",
      "  File \"/data/rajlab1/user_data/jin/MyResearch/SBI-SGM/mypkg/sgm/sgm.py\", line 131, in run_local_coupling_forward\n",
      "    freq_model, freq_resp, eig_val, eig_vec = network_transfer_local(\n",
      "  File \"/data/rajlab1/user_data/jin/MyResearch/SBI-SGM/mypkg/sgm/sgm.py\", line 57, in network_transfer_local\n",
      "    d, v = np.linalg.eig(L)\n",
      "  File \"<__array_function__ internals>\", line 180, in eig\n",
      "  File \"/opt/conda/lib/python3.9/site-packages/numpy/linalg/linalg.py\", line 1318, in eig\n",
      "    w, vt = _umath_linalg.eig(a, signature=signature, extobj=extobj)\n",
      "KeyboardInterrupt\n",
      "\n",
      "The above exception was the direct cause of the following exception:\n",
      "\n",
      "Traceback (most recent call last):\n",
      "Traceback (most recent call last):\n",
      "  File \"/opt/conda/lib/python3.9/site-packages/joblib/externals/loky/process_executor.py\", line 436, in _process_worker\n",
      "    r = call_item()\n",
      "  File \"/opt/conda/lib/python3.9/site-packages/joblib/externals/loky/process_executor.py\", line 288, in __call__\n",
      "    return self.fn(*self.args, **self.kwargs)\n",
      "  File \"/opt/conda/lib/python3.9/site-packages/joblib/_parallel_backends.py\", line 600, in __call__\n",
      "    raise WorkerInterrupt() from e\n",
      "joblib.my_exceptions.WorkerInterrupt\n",
      "\n",
      "During handling of the above exception, another exception occurred:\n",
      "\n",
      "Traceback (most recent call last):\n",
      "  File \"/opt/conda/lib/python3.9/multiprocessing/process.py\", line 315, in _bootstrap\n",
      "    self.run()\n",
      "  File \"/opt/conda/lib/python3.9/multiprocessing/process.py\", line 108, in run\n",
      "    self._target(*self._args, **self._kwargs)\n",
      "  File \"/opt/conda/lib/python3.9/site-packages/joblib/externals/loky/process_executor.py\", line 439, in _process_worker\n",
      "    result_queue.put(_ResultItem(call_item.work_id, exception=exc))\n",
      "  File \"/opt/conda/lib/python3.9/site-packages/joblib/externals/loky/backend/queues.py\", line 246, in put\n",
      "    with self._wlock:\n",
      "  File \"/opt/conda/lib/python3.9/site-packages/joblib/externals/loky/backend/synchronize.py\", line 110, in __enter__\n",
      "    return self._semlock.acquire()\n",
      "KeyboardInterrupt\n",
      "  File \"/opt/conda/lib/python3.9/site-packages/joblib/_parallel_backends.py\", line 595, in __call__\n",
      "    return self.func(*args, **kwargs)\n",
      "  File \"/opt/conda/lib/python3.9/site-packages/joblib/parallel.py\", line 262, in __call__\n",
      "    return [func(*args, **kwargs)\n",
      "Traceback (most recent call last):\n",
      "  File \"/opt/conda/lib/python3.9/site-packages/joblib/parallel.py\", line 262, in <listcomp>\n",
      "    return [func(*args, **kwargs)\n",
      "  File \"/home/hujin/.local/lib/python3.9/site-packages/sbi/utils/user_input_checks.py\", line 534, in batch_loop_simulator\n",
      "    xs = list(map(simulator, theta))\n",
      "  File \"/home/hujin/.local/lib/python3.9/site-packages/sbi/utils/user_input_checks.py\", line 499, in pytorch_simulator\n",
      "    return torch.as_tensor(simulator(theta), dtype=float32)\n",
      "  File \"/tmp/ipykernel_34289/2469422395.py\", line 10, in simulator\n",
      "  File \"/tmp/ipykernel_34289/1841306140.py\", line 8, in _stdpsd_2psmfs\n",
      "  File \"/data/rajlab1/user_data/jin/MyResearch/SBI-SGM/mypkg/features/psm.py\", line 24, in obt_psm_fs\n",
      "    fm.fit(freqs, sm_psd, freq_range)\n",
      "  File \"/home/hujin/.local/lib/python3.9/site-packages/fooof/objs/fit.py\", line 435, in fit\n",
      "    self.aperiodic_params_ = self._robust_ap_fit(self.freqs, self.power_spectrum)\n",
      "  File \"/home/hujin/.local/lib/python3.9/site-packages/fooof/objs/fit.py\", line 762, in _robust_ap_fit\n",
      "    popt = self._simple_ap_fit(freqs, power_spectrum)\n",
      "  File \"/home/hujin/.local/lib/python3.9/site-packages/fooof/objs/fit.py\", line 728, in _simple_ap_fit\n",
      "    with warnings.catch_warnings():\n",
      "  File \"/opt/conda/lib/python3.9/site-packages/joblib/_parallel_backends.py\", line 595, in __call__\n",
      "    return self.func(*args, **kwargs)\n",
      "  File \"/opt/conda/lib/python3.9/warnings.py\", line 437, in __init__\n",
      "    def __init__(self, *, record=False, module=None):\n",
      "  File \"/opt/conda/lib/python3.9/site-packages/joblib/parallel.py\", line 262, in __call__\n",
      "    return [func(*args, **kwargs)\n",
      "  File \"/opt/conda/lib/python3.9/site-packages/joblib/parallel.py\", line 262, in <listcomp>\n",
      "    return [func(*args, **kwargs)\n",
      "  File \"/home/hujin/.local/lib/python3.9/site-packages/sbi/utils/user_input_checks.py\", line 534, in batch_loop_simulator\n",
      "    xs = list(map(simulator, theta))\n",
      "  File \"/home/hujin/.local/lib/python3.9/site-packages/sbi/utils/user_input_checks.py\", line 499, in pytorch_simulator\n",
      "    return torch.as_tensor(simulator(theta), dtype=float32)\n",
      "KeyboardInterrupt\n",
      "  File \"/tmp/ipykernel_34289/2469422395.py\", line 10, in simulator\n",
      "  File \"/tmp/ipykernel_34289/1841306140.py\", line 8, in _stdpsd_2psmfs\n",
      "\n",
      "The above exception was the direct cause of the following exception:\n",
      "\n",
      "  File \"/data/rajlab1/user_data/jin/MyResearch/SBI-SGM/mypkg/features/psm.py\", line 24, in obt_psm_fs\n",
      "    fm.fit(freqs, sm_psd, freq_range)\n",
      "  File \"/home/hujin/.local/lib/python3.9/site-packages/fooof/objs/fit.py\", line 442, in fit\n",
      "    self.gaussian_params_ = self._fit_peaks(np.copy(self._spectrum_flat))\n",
      "Traceback (most recent call last):\n",
      "  File \"/home/hujin/.local/lib/python3.9/site-packages/fooof/objs/fit.py\", line 876, in _fit_peaks\n",
      "    gaussian_params = self._fit_peak_guess(guess)\n",
      "  File \"/home/hujin/.local/lib/python3.9/site-packages/fooof/objs/fit.py\", line 926, in _fit_peak_guess\n",
      "    gaussian_params, _ = curve_fit(gaussian_function, self.freqs, self._spectrum_flat,\n",
      "Traceback (most recent call last):\n",
      "  File \"/opt/conda/lib/python3.9/site-packages/scipy/optimize/minpack.py\", line 800, in curve_fit\n",
      "    res = least_squares(func, p0, jac=jac, bounds=bounds, method=method,\n",
      "  File \"/opt/conda/lib/python3.9/site-packages/scipy/optimize/_lsq/least_squares.py\", line 928, in least_squares\n",
      "    result = trf(fun_wrapped, jac_wrapped, x0, f0, J0, lb, ub, ftol, xtol,\n",
      "Traceback (most recent call last):\n",
      "Traceback (most recent call last):\n",
      "  File \"/opt/conda/lib/python3.9/site-packages/scipy/optimize/_lsq/trf.py\", line 123, in trf\n",
      "    return trf_bounds(\n",
      "  File \"/opt/conda/lib/python3.9/site-packages/joblib/externals/loky/process_executor.py\", line 436, in _process_worker\n",
      "    r = call_item()\n",
      "  File \"/opt/conda/lib/python3.9/site-packages/scipy/optimize/_lsq/trf.py\", line 341, in trf_bounds\n",
      "    step_h_norm = norm(step_h)\n",
      "  File \"<__array_function__ internals>\", line 180, in norm\n",
      "  File \"/opt/conda/lib/python3.9/site-packages/joblib/externals/loky/process_executor.py\", line 288, in __call__\n",
      "    return self.fn(*self.args, **self.kwargs)\n",
      "Traceback (most recent call last):\n",
      "  File \"/opt/conda/lib/python3.9/site-packages/numpy/linalg/linalg.py\", line 2357, in norm\n",
      "    @array_function_dispatch(_norm_dispatcher)\n",
      "  File \"/opt/conda/lib/python3.9/site-packages/joblib/_parallel_backends.py\", line 600, in __call__\n",
      "    raise WorkerInterrupt() from e\n",
      "Traceback (most recent call last):\n",
      "KeyboardInterrupt\n",
      "Traceback (most recent call last):\n",
      "\n",
      "The above exception was the direct cause of the following exception:\n",
      "\n",
      "joblib.my_exceptions.WorkerInterrupt\n",
      "Traceback (most recent call last):\n",
      "\n",
      "During handling of the above exception, another exception occurred:\n",
      "\n",
      "Traceback (most recent call last):\n",
      "  File \"/opt/conda/lib/python3.9/site-packages/joblib/externals/loky/process_executor.py\", line 436, in _process_worker\n",
      "    r = call_item()\n",
      "  File \"/opt/conda/lib/python3.9/site-packages/joblib/externals/loky/process_executor.py\", line 288, in __call__\n",
      "    return self.fn(*self.args, **self.kwargs)\n",
      "  File \"/opt/conda/lib/python3.9/site-packages/joblib/_parallel_backends.py\", line 600, in __call__\n",
      "    raise WorkerInterrupt() from e\n",
      "joblib.my_exceptions.WorkerInterrupt\n",
      "\n",
      "During handling of the above exception, another exception occurred:\n",
      "\n",
      "Traceback (most recent call last):\n",
      "  File \"/opt/conda/lib/python3.9/multiprocessing/process.py\", line 315, in _bootstrap\n",
      "    self.run()\n",
      "  File \"/opt/conda/lib/python3.9/multiprocessing/process.py\", line 108, in run\n",
      "    self._target(*self._args, **self._kwargs)\n",
      "  File \"/opt/conda/lib/python3.9/multiprocessing/process.py\", line 315, in _bootstrap\n",
      "    self.run()\n",
      "  File \"/opt/conda/lib/python3.9/site-packages/joblib/_parallel_backends.py\", line 595, in __call__\n",
      "    return self.func(*args, **kwargs)\n",
      "  File \"/opt/conda/lib/python3.9/site-packages/joblib/externals/loky/process_executor.py\", line 439, in _process_worker\n",
      "    result_queue.put(_ResultItem(call_item.work_id, exception=exc))\n",
      "  File \"/opt/conda/lib/python3.9/multiprocessing/process.py\", line 108, in run\n",
      "    self._target(*self._args, **self._kwargs)\n",
      "  File \"/opt/conda/lib/python3.9/site-packages/joblib/externals/loky/process_executor.py\", line 439, in _process_worker\n",
      "    result_queue.put(_ResultItem(call_item.work_id, exception=exc))\n",
      "  File \"/opt/conda/lib/python3.9/site-packages/joblib/externals/loky/backend/queues.py\", line 246, in put\n",
      "    with self._wlock:\n",
      "  File \"/opt/conda/lib/python3.9/site-packages/joblib/parallel.py\", line 262, in __call__\n",
      "    return [func(*args, **kwargs)\n",
      "  File \"/opt/conda/lib/python3.9/site-packages/joblib/externals/loky/backend/queues.py\", line 246, in put\n",
      "    with self._wlock:\n",
      "  File \"/opt/conda/lib/python3.9/site-packages/joblib/_parallel_backends.py\", line 595, in __call__\n",
      "    return self.func(*args, **kwargs)\n",
      "  File \"/opt/conda/lib/python3.9/site-packages/joblib/_parallel_backends.py\", line 595, in __call__\n",
      "    return self.func(*args, **kwargs)\n",
      "  File \"/opt/conda/lib/python3.9/site-packages/joblib/externals/loky/backend/synchronize.py\", line 110, in __enter__\n",
      "    return self._semlock.acquire()\n",
      "  File \"/opt/conda/lib/python3.9/site-packages/joblib/externals/loky/backend/synchronize.py\", line 110, in __enter__\n",
      "    return self._semlock.acquire()\n",
      "  File \"/opt/conda/lib/python3.9/site-packages/joblib/parallel.py\", line 262, in <listcomp>\n",
      "    return [func(*args, **kwargs)\n",
      "  File \"/opt/conda/lib/python3.9/site-packages/joblib/_parallel_backends.py\", line 595, in __call__\n",
      "    return self.func(*args, **kwargs)\n",
      "KeyboardInterrupt\n",
      "  File \"/opt/conda/lib/python3.9/site-packages/joblib/parallel.py\", line 262, in __call__\n",
      "    return [func(*args, **kwargs)\n",
      "  File \"/home/hujin/.local/lib/python3.9/site-packages/sbi/utils/user_input_checks.py\", line 534, in batch_loop_simulator\n",
      "    xs = list(map(simulator, theta))\n",
      "  File \"/opt/conda/lib/python3.9/site-packages/joblib/parallel.py\", line 262, in __call__\n",
      "    return [func(*args, **kwargs)\n",
      "  File \"/opt/conda/lib/python3.9/site-packages/joblib/_parallel_backends.py\", line 595, in __call__\n",
      "    return self.func(*args, **kwargs)\n",
      "KeyboardInterrupt\n",
      "  File \"/opt/conda/lib/python3.9/site-packages/joblib/parallel.py\", line 262, in __call__\n",
      "    return [func(*args, **kwargs)\n",
      "  File \"/opt/conda/lib/python3.9/site-packages/joblib/parallel.py\", line 262, in <listcomp>\n",
      "    return [func(*args, **kwargs)\n",
      "  File \"/home/hujin/.local/lib/python3.9/site-packages/sbi/utils/user_input_checks.py\", line 499, in pytorch_simulator\n",
      "    return torch.as_tensor(simulator(theta), dtype=float32)\n",
      "  File \"/opt/conda/lib/python3.9/site-packages/joblib/parallel.py\", line 262, in <listcomp>\n",
      "    return [func(*args, **kwargs)\n",
      "  File \"/opt/conda/lib/python3.9/site-packages/joblib/parallel.py\", line 262, in __call__\n",
      "    return [func(*args, **kwargs)\n",
      "  File \"/opt/conda/lib/python3.9/site-packages/joblib/parallel.py\", line 262, in <listcomp>\n",
      "    return [func(*args, **kwargs)\n",
      "  File \"/home/hujin/.local/lib/python3.9/site-packages/sbi/utils/user_input_checks.py\", line 534, in batch_loop_simulator\n",
      "    xs = list(map(simulator, theta))\n",
      "  File \"/tmp/ipykernel_34289/2469422395.py\", line 4, in simulator\n",
      "  File \"/home/hujin/.local/lib/python3.9/site-packages/sbi/utils/user_input_checks.py\", line 534, in batch_loop_simulator\n",
      "    xs = list(map(simulator, theta))\n",
      "  File \"/opt/conda/lib/python3.9/site-packages/joblib/parallel.py\", line 262, in <listcomp>\n",
      "    return [func(*args, **kwargs)\n",
      "  File \"/home/hujin/.local/lib/python3.9/site-packages/sbi/utils/user_input_checks.py\", line 534, in batch_loop_simulator\n",
      "    xs = list(map(simulator, theta))\n",
      "  File \"/home/hujin/.local/lib/python3.9/site-packages/sbi/utils/user_input_checks.py\", line 499, in pytorch_simulator\n",
      "    return torch.as_tensor(simulator(theta), dtype=float32)\n",
      "  File \"/data/rajlab1/user_data/jin/MyResearch/SBI-SGM/mypkg/sgm/sgm.py\", line 131, in run_local_coupling_forward\n",
      "    freq_model, freq_resp, eig_val, eig_vec = network_transfer_local(\n",
      "  File \"/home/hujin/.local/lib/python3.9/site-packages/sbi/utils/user_input_checks.py\", line 499, in pytorch_simulator\n",
      "    return torch.as_tensor(simulator(theta), dtype=float32)\n",
      "  File \"/home/hujin/.local/lib/python3.9/site-packages/sbi/utils/user_input_checks.py\", line 534, in batch_loop_simulator\n",
      "    xs = list(map(simulator, theta))\n",
      "  File \"/home/hujin/.local/lib/python3.9/site-packages/sbi/utils/user_input_checks.py\", line 499, in pytorch_simulator\n",
      "    return torch.as_tensor(simulator(theta), dtype=float32)\n",
      "  File \"/tmp/ipykernel_34289/2469422395.py\", line 10, in simulator\n",
      "  File \"/data/rajlab1/user_data/jin/MyResearch/SBI-SGM/mypkg/sgm/sgm.py\", line 57, in network_transfer_local\n",
      "    d, v = np.linalg.eig(L)\n",
      "  File \"/tmp/ipykernel_34289/2469422395.py\", line 10, in simulator\n",
      "  File \"/home/hujin/.local/lib/python3.9/site-packages/sbi/utils/user_input_checks.py\", line 499, in pytorch_simulator\n",
      "    return torch.as_tensor(simulator(theta), dtype=float32)\n",
      "  File \"/tmp/ipykernel_34289/2469422395.py\", line 10, in simulator\n",
      "  File \"/tmp/ipykernel_34289/1841306140.py\", line 8, in _stdpsd_2psmfs\n",
      "  File \"<__array_function__ internals>\", line 180, in eig\n",
      "  File \"/tmp/ipykernel_34289/1841306140.py\", line 8, in _stdpsd_2psmfs\n",
      "  File \"/opt/conda/lib/python3.9/site-packages/joblib/_parallel_backends.py\", line 595, in __call__\n",
      "    return self.func(*args, **kwargs)\n",
      "  File \"/tmp/ipykernel_34289/2469422395.py\", line 10, in simulator\n",
      "Traceback (most recent call last):\n",
      "  File \"/tmp/ipykernel_34289/1841306140.py\", line 8, in _stdpsd_2psmfs\n",
      "  File \"/data/rajlab1/user_data/jin/MyResearch/SBI-SGM/mypkg/features/psm.py\", line 24, in obt_psm_fs\n",
      "    fm.fit(freqs, sm_psd, freq_range)\n",
      "  File \"/opt/conda/lib/python3.9/site-packages/numpy/linalg/linalg.py\", line 1318, in eig\n",
      "    w, vt = _umath_linalg.eig(a, signature=signature, extobj=extobj)\n",
      "  File \"/data/rajlab1/user_data/jin/MyResearch/SBI-SGM/mypkg/features/psm.py\", line 24, in obt_psm_fs\n",
      "    fm.fit(freqs, sm_psd, freq_range)\n",
      "  File \"/opt/conda/lib/python3.9/site-packages/joblib/parallel.py\", line 262, in __call__\n",
      "    return [func(*args, **kwargs)\n",
      "  File \"/tmp/ipykernel_34289/1841306140.py\", line 8, in _stdpsd_2psmfs\n",
      "  File \"/data/rajlab1/user_data/jin/MyResearch/SBI-SGM/mypkg/features/psm.py\", line 24, in obt_psm_fs\n",
      "    fm.fit(freqs, sm_psd, freq_range)\n",
      "  File \"/home/hujin/.local/lib/python3.9/site-packages/fooof/objs/fit.py\", line 442, in fit\n",
      "    self.gaussian_params_ = self._fit_peaks(np.copy(self._spectrum_flat))\n",
      "  File \"/home/hujin/.local/lib/python3.9/site-packages/fooof/objs/fit.py\", line 442, in fit\n",
      "    self.gaussian_params_ = self._fit_peaks(np.copy(self._spectrum_flat))\n",
      "  File \"/opt/conda/lib/python3.9/site-packages/joblib/parallel.py\", line 262, in <listcomp>\n",
      "    return [func(*args, **kwargs)\n",
      "  File \"/data/rajlab1/user_data/jin/MyResearch/SBI-SGM/mypkg/features/psm.py\", line 24, in obt_psm_fs\n",
      "    fm.fit(freqs, sm_psd, freq_range)\n",
      "  File \"/home/hujin/.local/lib/python3.9/site-packages/fooof/objs/fit.py\", line 442, in fit\n",
      "    self.gaussian_params_ = self._fit_peaks(np.copy(self._spectrum_flat))\n",
      "  File \"/home/hujin/.local/lib/python3.9/site-packages/fooof/objs/fit.py\", line 876, in _fit_peaks\n",
      "    gaussian_params = self._fit_peak_guess(guess)\n",
      "  File \"/home/hujin/.local/lib/python3.9/site-packages/fooof/objs/fit.py\", line 876, in _fit_peaks\n",
      "    gaussian_params = self._fit_peak_guess(guess)\n",
      "  File \"/home/hujin/.local/lib/python3.9/site-packages/sbi/utils/user_input_checks.py\", line 534, in batch_loop_simulator\n",
      "    xs = list(map(simulator, theta))\n",
      "KeyboardInterrupt\n",
      "  File \"/home/hujin/.local/lib/python3.9/site-packages/fooof/objs/fit.py\", line 442, in fit\n",
      "    self.gaussian_params_ = self._fit_peaks(np.copy(self._spectrum_flat))\n",
      "  File \"/home/hujin/.local/lib/python3.9/site-packages/fooof/objs/fit.py\", line 876, in _fit_peaks\n",
      "    gaussian_params = self._fit_peak_guess(guess)\n",
      "  File \"/home/hujin/.local/lib/python3.9/site-packages/fooof/objs/fit.py\", line 926, in _fit_peak_guess\n",
      "    gaussian_params, _ = curve_fit(gaussian_function, self.freqs, self._spectrum_flat,\n",
      "  File \"/home/hujin/.local/lib/python3.9/site-packages/fooof/objs/fit.py\", line 926, in _fit_peak_guess\n",
      "    gaussian_params, _ = curve_fit(gaussian_function, self.freqs, self._spectrum_flat,\n",
      "  File \"/home/hujin/.local/lib/python3.9/site-packages/sbi/utils/user_input_checks.py\", line 499, in pytorch_simulator\n",
      "    return torch.as_tensor(simulator(theta), dtype=float32)\n",
      "  File \"/home/hujin/.local/lib/python3.9/site-packages/fooof/objs/fit.py\", line 876, in _fit_peaks\n",
      "    gaussian_params = self._fit_peak_guess(guess)\n",
      "  File \"/home/hujin/.local/lib/python3.9/site-packages/fooof/objs/fit.py\", line 926, in _fit_peak_guess\n",
      "    gaussian_params, _ = curve_fit(gaussian_function, self.freqs, self._spectrum_flat,\n",
      "  File \"/opt/conda/lib/python3.9/site-packages/scipy/optimize/minpack.py\", line 800, in curve_fit\n",
      "    res = least_squares(func, p0, jac=jac, bounds=bounds, method=method,\n",
      "\n",
      "The above exception was the direct cause of the following exception:\n",
      "\n",
      "  File \"/opt/conda/lib/python3.9/site-packages/scipy/optimize/minpack.py\", line 800, in curve_fit\n",
      "    res = least_squares(func, p0, jac=jac, bounds=bounds, method=method,\n",
      "  File \"/tmp/ipykernel_34289/2469422395.py\", line 10, in simulator\n",
      "  File \"/home/hujin/.local/lib/python3.9/site-packages/fooof/objs/fit.py\", line 926, in _fit_peak_guess\n",
      "    gaussian_params, _ = curve_fit(gaussian_function, self.freqs, self._spectrum_flat,\n",
      "  File \"/opt/conda/lib/python3.9/site-packages/scipy/optimize/minpack.py\", line 800, in curve_fit\n",
      "    res = least_squares(func, p0, jac=jac, bounds=bounds, method=method,\n",
      "  File \"/opt/conda/lib/python3.9/site-packages/scipy/optimize/_lsq/least_squares.py\", line 928, in least_squares\n",
      "    result = trf(fun_wrapped, jac_wrapped, x0, f0, J0, lb, ub, ftol, xtol,\n",
      "Traceback (most recent call last):\n",
      "  File \"/opt/conda/lib/python3.9/site-packages/scipy/optimize/_lsq/least_squares.py\", line 928, in least_squares\n",
      "    result = trf(fun_wrapped, jac_wrapped, x0, f0, J0, lb, ub, ftol, xtol,\n",
      "  File \"/tmp/ipykernel_34289/1841306140.py\", line 8, in _stdpsd_2psmfs\n",
      "  File \"/opt/conda/lib/python3.9/site-packages/scipy/optimize/minpack.py\", line 800, in curve_fit\n",
      "    res = least_squares(func, p0, jac=jac, bounds=bounds, method=method,\n",
      "  File \"/opt/conda/lib/python3.9/site-packages/scipy/optimize/_lsq/least_squares.py\", line 928, in least_squares\n",
      "    result = trf(fun_wrapped, jac_wrapped, x0, f0, J0, lb, ub, ftol, xtol,\n",
      "  File \"/opt/conda/lib/python3.9/site-packages/scipy/optimize/_lsq/trf.py\", line 123, in trf\n",
      "    return trf_bounds(\n",
      "Traceback (most recent call last):\n",
      "  File \"/opt/conda/lib/python3.9/site-packages/scipy/optimize/_lsq/trf.py\", line 123, in trf\n",
      "    return trf_bounds(\n",
      "  File \"/data/rajlab1/user_data/jin/MyResearch/SBI-SGM/mypkg/features/psm.py\", line 24, in obt_psm_fs\n",
      "    fm.fit(freqs, sm_psd, freq_range)\n",
      "  File \"/opt/conda/lib/python3.9/site-packages/scipy/optimize/_lsq/least_squares.py\", line 928, in least_squares\n",
      "    result = trf(fun_wrapped, jac_wrapped, x0, f0, J0, lb, ub, ftol, xtol,\n",
      "  File \"/opt/conda/lib/python3.9/site-packages/scipy/optimize/_lsq/trf.py\", line 374, in trf_bounds\n",
      "    J = jac(x, f)\n",
      "  File \"/opt/conda/lib/python3.9/site-packages/scipy/optimize/_lsq/trf.py\", line 123, in trf\n",
      "    return trf_bounds(\n",
      "  File \"/opt/conda/lib/python3.9/site-packages/scipy/optimize/_lsq/trf.py\", line 334, in trf_bounds\n",
      "    step, step_h, predicted_reduction = select_step(\n",
      "  File \"/home/hujin/.local/lib/python3.9/site-packages/fooof/objs/fit.py\", line 442, in fit\n",
      "    self.gaussian_params_ = self._fit_peaks(np.copy(self._spectrum_flat))\n",
      "  File \"/opt/conda/lib/python3.9/site-packages/scipy/optimize/_lsq/trf.py\", line 123, in trf\n",
      "    return trf_bounds(\n",
      "  File \"/opt/conda/lib/python3.9/site-packages/scipy/optimize/_lsq/least_squares.py\", line 886, in jac_wrapped\n",
      "    J = approx_derivative(fun, x, rel_step=diff_step, method=jac,\n",
      "  File \"/opt/conda/lib/python3.9/site-packages/scipy/optimize/_lsq/trf.py\", line 358, in trf_bounds\n",
      "    termination_status = check_termination(\n",
      "  File \"/opt/conda/lib/python3.9/site-packages/scipy/optimize/_lsq/trf.py\", line 130, in select_step\n",
      "    if in_bounds(x + p, lb, ub):\n",
      "  File \"/opt/conda/lib/python3.9/site-packages/joblib/externals/loky/process_executor.py\", line 436, in _process_worker\n",
      "    r = call_item()\n",
      "  File \"/home/hujin/.local/lib/python3.9/site-packages/fooof/objs/fit.py\", line 876, in _fit_peaks\n",
      "    gaussian_params = self._fit_peak_guess(guess)\n",
      "  File \"/opt/conda/lib/python3.9/site-packages/scipy/optimize/_lsq/trf.py\", line 374, in trf_bounds\n",
      "    J = jac(x, f)\n",
      "  File \"/opt/conda/lib/python3.9/site-packages/scipy/optimize/_numdiff.py\", line 486, in approx_derivative\n",
      "    return _dense_difference(fun_wrapped, x0, f0, h,\n",
      "  File \"/opt/conda/lib/python3.9/site-packages/scipy/optimize/_lsq/common.py\", line 711, in check_termination\n",
      "    xtol_satisfied = dx_norm < xtol * (xtol + x_norm)\n",
      "  File \"/opt/conda/lib/python3.9/site-packages/scipy/optimize/_lsq/common.py\", line 369, in in_bounds\n",
      "    return np.all((x >= lb) & (x <= ub))\n",
      "  File \"/opt/conda/lib/python3.9/site-packages/joblib/externals/loky/process_executor.py\", line 288, in __call__\n",
      "    return self.fn(*self.args, **self.kwargs)\n",
      "  File \"/home/hujin/.local/lib/python3.9/site-packages/fooof/objs/fit.py\", line 926, in _fit_peak_guess\n",
      "    gaussian_params, _ = curve_fit(gaussian_function, self.freqs, self._spectrum_flat,\n",
      "  File \"/opt/conda/lib/python3.9/site-packages/scipy/optimize/_lsq/least_squares.py\", line 886, in jac_wrapped\n",
      "    J = approx_derivative(fun, x, rel_step=diff_step, method=jac,\n",
      "  File \"/opt/conda/lib/python3.9/site-packages/joblib/_parallel_backends.py\", line 600, in __call__\n",
      "    raise WorkerInterrupt() from e\n",
      "  File \"/opt/conda/lib/python3.9/site-packages/scipy/optimize/minpack.py\", line 800, in curve_fit\n",
      "    res = least_squares(func, p0, jac=jac, bounds=bounds, method=method,\n",
      "  File \"/opt/conda/lib/python3.9/site-packages/scipy/optimize/_numdiff.py\", line 477, in approx_derivative\n",
      "    h, use_one_sided = _adjust_scheme_to_bounds(\n",
      "KeyboardInterrupt\n",
      "KeyboardInterrupt\n",
      "  File \"/opt/conda/lib/python3.9/site-packages/scipy/optimize/_lsq/least_squares.py\", line 928, in least_squares\n",
      "    result = trf(fun_wrapped, jac_wrapped, x0, f0, J0, lb, ub, ftol, xtol,\n",
      "  File \"/opt/conda/lib/python3.9/site-packages/scipy/optimize/_numdiff.py\", line 66, in _adjust_scheme_to_bounds\n",
      "    h_adjusted[forward] = upper_dist[forward] / num_steps\n",
      "KeyboardInterrupt\n",
      "joblib.my_exceptions.WorkerInterrupt\n",
      "  File \"/opt/conda/lib/python3.9/site-packages/joblib/_parallel_backends.py\", line 595, in __call__\n",
      "    return self.func(*args, **kwargs)\n",
      "\n",
      "The above exception was the direct cause of the following exception:\n",
      "\n",
      "  File \"/opt/conda/lib/python3.9/site-packages/scipy/optimize/_lsq/trf.py\", line 123, in trf\n",
      "    return trf_bounds(\n",
      "\n",
      "The above exception was the direct cause of the following exception:\n",
      "\n",
      "\n",
      "The above exception was the direct cause of the following exception:\n",
      "\n",
      "\n",
      "During handling of the above exception, another exception occurred:\n",
      "\n",
      "  File \"/opt/conda/lib/python3.9/site-packages/scipy/optimize/_lsq/trf.py\", line 374, in trf_bounds\n",
      "    J = jac(x, f)\n",
      "Traceback (most recent call last):\n",
      "  File \"/opt/conda/lib/python3.9/site-packages/joblib/parallel.py\", line 262, in __call__\n",
      "    return [func(*args, **kwargs)\n",
      "Traceback (most recent call last):\n",
      "KeyboardInterrupt\n",
      "Traceback (most recent call last):\n",
      "Traceback (most recent call last):\n",
      "  File \"/opt/conda/lib/python3.9/site-packages/scipy/optimize/_lsq/least_squares.py\", line 886, in jac_wrapped\n",
      "    J = approx_derivative(fun, x, rel_step=diff_step, method=jac,\n",
      "  File \"/opt/conda/lib/python3.9/site-packages/joblib/parallel.py\", line 262, in <listcomp>\n",
      "    return [func(*args, **kwargs)\n",
      "\n",
      "The above exception was the direct cause of the following exception:\n",
      "\n",
      "  File \"/opt/conda/lib/python3.9/site-packages/scipy/optimize/_numdiff.py\", line 486, in approx_derivative\n",
      "    return _dense_difference(fun_wrapped, x0, f0, h,\n",
      "  File \"/home/hujin/.local/lib/python3.9/site-packages/sbi/utils/user_input_checks.py\", line 534, in batch_loop_simulator\n",
      "    xs = list(map(simulator, theta))\n",
      "Traceback (most recent call last):\n",
      "  File \"/opt/conda/lib/python3.9/site-packages/scipy/optimize/_numdiff.py\", line 557, in _dense_difference\n",
      "    df = fun(x) - f0\n",
      "  File \"/home/hujin/.local/lib/python3.9/site-packages/sbi/utils/user_input_checks.py\", line 499, in pytorch_simulator\n",
      "    return torch.as_tensor(simulator(theta), dtype=float32)\n",
      "  File \"/opt/conda/lib/python3.9/site-packages/joblib/externals/loky/process_executor.py\", line 436, in _process_worker\n",
      "    r = call_item()\n",
      "  File \"/opt/conda/lib/python3.9/site-packages/joblib/externals/loky/process_executor.py\", line 436, in _process_worker\n",
      "    r = call_item()\n",
      "  File \"/opt/conda/lib/python3.9/site-packages/joblib/_parallel_backends.py\", line 595, in __call__\n",
      "    return self.func(*args, **kwargs)\n",
      "  File \"/opt/conda/lib/python3.9/site-packages/scipy/optimize/_numdiff.py\", line 437, in fun_wrapped\n",
      "    f = np.atleast_1d(fun(x, *args, **kwargs))\n",
      "  File \"/opt/conda/lib/python3.9/site-packages/joblib/externals/loky/process_executor.py\", line 436, in _process_worker\n",
      "    r = call_item()\n",
      "  File \"/tmp/ipykernel_34289/2469422395.py\", line 10, in simulator\n",
      "  File \"/opt/conda/lib/python3.9/site-packages/joblib/externals/loky/process_executor.py\", line 288, in __call__\n",
      "    return self.fn(*self.args, **self.kwargs)\n",
      "  File \"/opt/conda/lib/python3.9/site-packages/joblib/externals/loky/process_executor.py\", line 288, in __call__\n",
      "    return self.fn(*self.args, **self.kwargs)\n",
      "  File \"/opt/conda/lib/python3.9/site-packages/scipy/optimize/minpack.py\", line 485, in func_wrapped\n",
      "    return func(xdata, *params) - ydata\n",
      "  File \"/opt/conda/lib/python3.9/site-packages/joblib/parallel.py\", line 262, in __call__\n",
      "    return [func(*args, **kwargs)\n",
      "  File \"/opt/conda/lib/python3.9/site-packages/joblib/externals/loky/process_executor.py\", line 288, in __call__\n",
      "    return self.fn(*self.args, **self.kwargs)\n",
      "  File \"/tmp/ipykernel_34289/1841306140.py\", line 8, in _stdpsd_2psmfs\n",
      "  File \"/opt/conda/lib/python3.9/site-packages/joblib/_parallel_backends.py\", line 600, in __call__\n",
      "    raise WorkerInterrupt() from e\n",
      "  File \"/opt/conda/lib/python3.9/site-packages/joblib/_parallel_backends.py\", line 600, in __call__\n",
      "    raise WorkerInterrupt() from e\n",
      "  File \"/home/hujin/.local/lib/python3.9/site-packages/fooof/core/funcs.py\", line 39, in gaussian_function\n",
      "    ys = ys + hgt * np.exp(-(xs-ctr)**2 / (2*wid**2))\n",
      "  File \"/opt/conda/lib/python3.9/multiprocessing/process.py\", line 315, in _bootstrap\n",
      "    self.run()\n",
      "  File \"/opt/conda/lib/python3.9/site-packages/joblib/parallel.py\", line 262, in <listcomp>\n",
      "    return [func(*args, **kwargs)\n",
      "  File \"/opt/conda/lib/python3.9/site-packages/joblib/externals/loky/process_executor.py\", line 436, in _process_worker\n",
      "    r = call_item()\n",
      "  File \"/opt/conda/lib/python3.9/site-packages/joblib/_parallel_backends.py\", line 600, in __call__\n",
      "    raise WorkerInterrupt() from e\n",
      "  File \"/data/rajlab1/user_data/jin/MyResearch/SBI-SGM/mypkg/features/psm.py\", line 24, in obt_psm_fs\n",
      "    fm.fit(freqs, sm_psd, freq_range)\n",
      "  File \"/opt/conda/lib/python3.9/multiprocessing/process.py\", line 108, in run\n",
      "    self._target(*self._args, **self._kwargs)\n",
      "  File \"/opt/conda/lib/python3.9/site-packages/joblib/externals/loky/process_executor.py\", line 288, in __call__\n",
      "    return self.fn(*self.args, **self.kwargs)\n",
      "  File \"/home/hujin/.local/lib/python3.9/site-packages/fooof/objs/fit.py\", line 442, in fit\n",
      "    self.gaussian_params_ = self._fit_peaks(np.copy(self._spectrum_flat))\n",
      "  File \"/home/hujin/.local/lib/python3.9/site-packages/sbi/utils/user_input_checks.py\", line 534, in batch_loop_simulator\n",
      "    xs = list(map(simulator, theta))\n",
      "joblib.my_exceptions.WorkerInterrupt\n",
      "joblib.my_exceptions.WorkerInterrupt\n",
      "  File \"/opt/conda/lib/python3.9/site-packages/joblib/externals/loky/process_executor.py\", line 439, in _process_worker\n",
      "    result_queue.put(_ResultItem(call_item.work_id, exception=exc))\n",
      "joblib.my_exceptions.WorkerInterrupt\n",
      "  File \"/opt/conda/lib/python3.9/site-packages/joblib/_parallel_backends.py\", line 600, in __call__\n",
      "    raise WorkerInterrupt() from e\n",
      "KeyboardInterrupt\n",
      "  File \"/home/hujin/.local/lib/python3.9/site-packages/fooof/objs/fit.py\", line 876, in _fit_peaks\n",
      "    gaussian_params = self._fit_peak_guess(guess)\n",
      "  File \"/home/hujin/.local/lib/python3.9/site-packages/sbi/utils/user_input_checks.py\", line 499, in pytorch_simulator\n",
      "    return torch.as_tensor(simulator(theta), dtype=float32)\n",
      "  File \"/opt/conda/lib/python3.9/site-packages/joblib/externals/loky/backend/queues.py\", line 247, in put\n",
      "    self._writer.send_bytes(obj)\n",
      "\n",
      "During handling of the above exception, another exception occurred:\n",
      "\n",
      "\n",
      "During handling of the above exception, another exception occurred:\n",
      "\n",
      "\n",
      "During handling of the above exception, another exception occurred:\n",
      "\n",
      "  File \"/home/hujin/.local/lib/python3.9/site-packages/fooof/objs/fit.py\", line 926, in _fit_peak_guess\n",
      "    gaussian_params, _ = curve_fit(gaussian_function, self.freqs, self._spectrum_flat,\n",
      "  File \"/opt/conda/lib/python3.9/multiprocessing/connection.py\", line 205, in send_bytes\n",
      "    self._send_bytes(m[offset:offset + size])\n",
      "  File \"/tmp/ipykernel_34289/2469422395.py\", line 10, in simulator\n",
      "Traceback (most recent call last):\n",
      "\n",
      "The above exception was the direct cause of the following exception:\n",
      "\n",
      "Traceback (most recent call last):\n",
      "joblib.my_exceptions.WorkerInterrupt\n",
      "  File \"/opt/conda/lib/python3.9/site-packages/scipy/optimize/minpack.py\", line 800, in curve_fit\n",
      "    res = least_squares(func, p0, jac=jac, bounds=bounds, method=method,\n",
      "Traceback (most recent call last):\n",
      "  File \"/opt/conda/lib/python3.9/multiprocessing/connection.py\", line 416, in _send_bytes\n",
      "    self._send(header + buf)\n",
      "Traceback (most recent call last):\n",
      "  File \"/tmp/ipykernel_34289/1841306140.py\", line 8, in _stdpsd_2psmfs\n",
      "\n",
      "During handling of the above exception, another exception occurred:\n",
      "\n",
      "  File \"/opt/conda/lib/python3.9/site-packages/scipy/optimize/_lsq/least_squares.py\", line 928, in least_squares\n",
      "    result = trf(fun_wrapped, jac_wrapped, x0, f0, J0, lb, ub, ftol, xtol,\n",
      "  File \"/opt/conda/lib/python3.9/multiprocessing/connection.py\", line 373, in _send\n",
      "    n = write(self._handle, buf)\n",
      "  File \"/data/rajlab1/user_data/jin/MyResearch/SBI-SGM/mypkg/features/psm.py\", line 24, in obt_psm_fs\n",
      "    fm.fit(freqs, sm_psd, freq_range)\n",
      "Traceback (most recent call last):\n",
      "  File \"/opt/conda/lib/python3.9/site-packages/scipy/optimize/_lsq/trf.py\", line 123, in trf\n",
      "    return trf_bounds(\n",
      "Traceback (most recent call last):\n",
      "  File \"/home/hujin/.local/lib/python3.9/site-packages/fooof/objs/fit.py\", line 453, in fit\n",
      "    self.aperiodic_params_ = self._simple_ap_fit(self.freqs, self._spectrum_peak_rm)\n",
      "  File \"/opt/conda/lib/python3.9/site-packages/scipy/optimize/_lsq/trf.py\", line 261, in trf_bounds\n",
      "    v, dv = CL_scaling_vector(x, g, lb, ub)\n",
      "KeyboardInterrupt\n",
      "  File \"/opt/conda/lib/python3.9/multiprocessing/process.py\", line 315, in _bootstrap\n",
      "    self.run()\n",
      "  File \"/opt/conda/lib/python3.9/multiprocessing/process.py\", line 315, in _bootstrap\n",
      "    self.run()\n",
      "  File \"/home/hujin/.local/lib/python3.9/site-packages/fooof/objs/fit.py\", line 730, in _simple_ap_fit\n",
      "    aperiodic_params, _ = curve_fit(get_ap_func(self.aperiodic_mode),\n",
      "  File \"/opt/conda/lib/python3.9/site-packages/scipy/optimize/_lsq/common.py\", line 505, in CL_scaling_vector\n",
      "    v[mask] = x[mask] - lb[mask]\n",
      "  File \"/opt/conda/lib/python3.9/site-packages/joblib/externals/loky/process_executor.py\", line 436, in _process_worker\n",
      "    r = call_item()\n",
      "  File \"/opt/conda/lib/python3.9/multiprocessing/process.py\", line 315, in _bootstrap\n",
      "    self.run()\n",
      "  File \"/opt/conda/lib/python3.9/multiprocessing/process.py\", line 108, in run\n",
      "    self._target(*self._args, **self._kwargs)\n",
      "  File \"/opt/conda/lib/python3.9/site-packages/scipy/optimize/minpack.py\", line 789, in curve_fit\n",
      "    res = leastsq(func, p0, Dfun=jac, full_output=1, **kwargs)\n",
      "  File \"/opt/conda/lib/python3.9/multiprocessing/process.py\", line 108, in run\n",
      "    self._target(*self._args, **self._kwargs)\n",
      "  File \"/opt/conda/lib/python3.9/site-packages/joblib/externals/loky/process_executor.py\", line 288, in __call__\n",
      "    return self.fn(*self.args, **self.kwargs)\n",
      "  File \"/opt/conda/lib/python3.9/multiprocessing/process.py\", line 108, in run\n",
      "    self._target(*self._args, **self._kwargs)\n",
      "  File \"/opt/conda/lib/python3.9/site-packages/joblib/externals/loky/process_executor.py\", line 439, in _process_worker\n",
      "    result_queue.put(_ResultItem(call_item.work_id, exception=exc))\n",
      "  File \"/opt/conda/lib/python3.9/multiprocessing/process.py\", line 315, in _bootstrap\n",
      "    self.run()\n",
      "  File \"/opt/conda/lib/python3.9/site-packages/joblib/externals/loky/process_executor.py\", line 439, in _process_worker\n",
      "    result_queue.put(_ResultItem(call_item.work_id, exception=exc))\n",
      "  File \"/opt/conda/lib/python3.9/site-packages/scipy/optimize/minpack.py\", line 423, in leastsq\n",
      "    retval = _minpack._lmdif(func, x0, args, full_output, ftol, xtol,\n",
      "  File \"/opt/conda/lib/python3.9/site-packages/joblib/_parallel_backends.py\", line 600, in __call__\n",
      "    raise WorkerInterrupt() from e\n",
      "  File \"/opt/conda/lib/python3.9/site-packages/joblib/externals/loky/process_executor.py\", line 439, in _process_worker\n",
      "    result_queue.put(_ResultItem(call_item.work_id, exception=exc))\n",
      "  File \"/opt/conda/lib/python3.9/site-packages/joblib/externals/loky/backend/queues.py\", line 246, in put\n",
      "    with self._wlock:\n",
      "KeyboardInterrupt\n",
      "  File \"/opt/conda/lib/python3.9/multiprocessing/process.py\", line 108, in run\n",
      "    self._target(*self._args, **self._kwargs)\n",
      "  File \"/opt/conda/lib/python3.9/site-packages/joblib/externals/loky/backend/queues.py\", line 246, in put\n",
      "    with self._wlock:\n",
      "  File \"/opt/conda/lib/python3.9/site-packages/scipy/optimize/minpack.py\", line 485, in func_wrapped\n",
      "    return func(xdata, *params) - ydata\n",
      "  File \"/opt/conda/lib/python3.9/site-packages/joblib/externals/loky/backend/queues.py\", line 246, in put\n",
      "    with self._wlock:\n",
      "  File \"/opt/conda/lib/python3.9/site-packages/joblib/externals/loky/backend/synchronize.py\", line 110, in __enter__\n",
      "    return self._semlock.acquire()\n",
      "Traceback (most recent call last):\n",
      "  File \"/opt/conda/lib/python3.9/site-packages/joblib/externals/loky/process_executor.py\", line 439, in _process_worker\n",
      "    result_queue.put(_ResultItem(call_item.work_id, exception=exc))\n",
      "  File \"/opt/conda/lib/python3.9/site-packages/joblib/externals/loky/backend/synchronize.py\", line 110, in __enter__\n",
      "    return self._semlock.acquire()\n",
      "\n",
      "The above exception was the direct cause of the following exception:\n",
      "\n",
      "joblib.my_exceptions.WorkerInterrupt\n",
      "  File \"/opt/conda/lib/python3.9/site-packages/joblib/externals/loky/backend/synchronize.py\", line 110, in __enter__\n",
      "    return self._semlock.acquire()\n",
      "  File \"/opt/conda/lib/python3.9/site-packages/joblib/externals/loky/backend/queues.py\", line 246, in put\n",
      "    with self._wlock:\n",
      "KeyboardInterrupt\n",
      "Traceback (most recent call last):\n",
      "\n",
      "During handling of the above exception, another exception occurred:\n",
      "\n",
      "KeyboardInterrupt\n",
      "KeyboardInterrupt\n",
      "  File \"/opt/conda/lib/python3.9/site-packages/joblib/externals/loky/backend/synchronize.py\", line 110, in __enter__\n",
      "    return self._semlock.acquire()\n",
      "KeyboardInterrupt\n",
      "Traceback (most recent call last):\n",
      "\n",
      "The above exception was the direct cause of the following exception:\n",
      "\n",
      "KeyboardInterrupt\n",
      "Traceback (most recent call last):\n",
      "  File \"/opt/conda/lib/python3.9/site-packages/joblib/externals/loky/process_executor.py\", line 436, in _process_worker\n",
      "    r = call_item()\n",
      "  File \"/opt/conda/lib/python3.9/site-packages/joblib/externals/loky/process_executor.py\", line 288, in __call__\n",
      "    return self.fn(*self.args, **self.kwargs)\n",
      "  File \"/opt/conda/lib/python3.9/site-packages/joblib/_parallel_backends.py\", line 595, in __call__\n",
      "    return self.func(*args, **kwargs)\n",
      "  File \"/opt/conda/lib/python3.9/site-packages/joblib/_parallel_backends.py\", line 600, in __call__\n",
      "    raise WorkerInterrupt() from e\n",
      "  File \"/opt/conda/lib/python3.9/multiprocessing/process.py\", line 315, in _bootstrap\n",
      "    self.run()\n",
      "  File \"/opt/conda/lib/python3.9/site-packages/joblib/externals/loky/process_executor.py\", line 436, in _process_worker\n",
      "    r = call_item()\n",
      "  File \"/opt/conda/lib/python3.9/site-packages/joblib/parallel.py\", line 262, in __call__\n",
      "    return [func(*args, **kwargs)\n",
      "  File \"/opt/conda/lib/python3.9/multiprocessing/process.py\", line 108, in run\n",
      "    self._target(*self._args, **self._kwargs)\n",
      "  File \"/opt/conda/lib/python3.9/site-packages/joblib/externals/loky/process_executor.py\", line 288, in __call__\n",
      "    return self.fn(*self.args, **self.kwargs)\n",
      "  File \"/opt/conda/lib/python3.9/site-packages/joblib/parallel.py\", line 262, in <listcomp>\n",
      "    return [func(*args, **kwargs)\n",
      "joblib.my_exceptions.WorkerInterrupt\n",
      "  File \"/opt/conda/lib/python3.9/site-packages/joblib/externals/loky/process_executor.py\", line 439, in _process_worker\n",
      "    result_queue.put(_ResultItem(call_item.work_id, exception=exc))\n",
      "  File \"/opt/conda/lib/python3.9/site-packages/joblib/_parallel_backends.py\", line 600, in __call__\n",
      "    raise WorkerInterrupt() from e\n",
      "  File \"/home/hujin/.local/lib/python3.9/site-packages/sbi/utils/user_input_checks.py\", line 534, in batch_loop_simulator\n",
      "    xs = list(map(simulator, theta))\n",
      "  File \"/opt/conda/lib/python3.9/site-packages/joblib/externals/loky/backend/queues.py\", line 246, in put\n",
      "    with self._wlock:\n",
      "\n",
      "During handling of the above exception, another exception occurred:\n",
      "\n",
      "  File \"/home/hujin/.local/lib/python3.9/site-packages/sbi/utils/user_input_checks.py\", line 499, in pytorch_simulator\n",
      "    return torch.as_tensor(simulator(theta), dtype=float32)\n",
      "  File \"/opt/conda/lib/python3.9/site-packages/joblib/externals/loky/backend/synchronize.py\", line 110, in __enter__\n",
      "    return self._semlock.acquire()\n",
      "Traceback (most recent call last):\n",
      "joblib.my_exceptions.WorkerInterrupt\n",
      "  File \"/tmp/ipykernel_34289/2469422395.py\", line 10, in simulator\n",
      "\n",
      "During handling of the above exception, another exception occurred:\n",
      "\n",
      "  File \"/tmp/ipykernel_34289/1841306140.py\", line 8, in _stdpsd_2psmfs\n",
      "KeyboardInterrupt\n",
      "Traceback (most recent call last):\n",
      "  File \"/data/rajlab1/user_data/jin/MyResearch/SBI-SGM/mypkg/features/psm.py\", line 24, in obt_psm_fs\n",
      "    fm.fit(freqs, sm_psd, freq_range)\n",
      "  File \"/home/hujin/.local/lib/python3.9/site-packages/fooof/objs/fit.py\", line 442, in fit\n",
      "    self.gaussian_params_ = self._fit_peaks(np.copy(self._spectrum_flat))\n",
      "  File \"/opt/conda/lib/python3.9/site-packages/joblib/_parallel_backends.py\", line 595, in __call__\n",
      "    return self.func(*args, **kwargs)\n",
      "  File \"/opt/conda/lib/python3.9/multiprocessing/process.py\", line 315, in _bootstrap\n",
      "    self.run()\n",
      "  File \"/home/hujin/.local/lib/python3.9/site-packages/fooof/objs/fit.py\", line 876, in _fit_peaks\n",
      "    gaussian_params = self._fit_peak_guess(guess)\n",
      "  File \"/opt/conda/lib/python3.9/site-packages/joblib/parallel.py\", line 262, in __call__\n",
      "    return [func(*args, **kwargs)\n",
      "  File \"/opt/conda/lib/python3.9/multiprocessing/process.py\", line 108, in run\n",
      "    self._target(*self._args, **self._kwargs)\n",
      "  File \"/home/hujin/.local/lib/python3.9/site-packages/fooof/objs/fit.py\", line 926, in _fit_peak_guess\n",
      "    gaussian_params, _ = curve_fit(gaussian_function, self.freqs, self._spectrum_flat,\n",
      "  File \"/opt/conda/lib/python3.9/site-packages/joblib/parallel.py\", line 262, in <listcomp>\n",
      "    return [func(*args, **kwargs)\n",
      "  File \"/opt/conda/lib/python3.9/site-packages/joblib/externals/loky/process_executor.py\", line 439, in _process_worker\n",
      "    result_queue.put(_ResultItem(call_item.work_id, exception=exc))\n",
      "  File \"/opt/conda/lib/python3.9/site-packages/scipy/optimize/minpack.py\", line 800, in curve_fit\n",
      "    res = least_squares(func, p0, jac=jac, bounds=bounds, method=method,\n",
      "  File \"/home/hujin/.local/lib/python3.9/site-packages/sbi/utils/user_input_checks.py\", line 534, in batch_loop_simulator\n",
      "    xs = list(map(simulator, theta))\n",
      "  File \"/opt/conda/lib/python3.9/multiprocessing/process.py\", line 315, in _bootstrap\n",
      "    self.run()\n",
      "  File \"/opt/conda/lib/python3.9/site-packages/joblib/externals/loky/backend/queues.py\", line 246, in put\n",
      "    with self._wlock:\n",
      "  File \"/opt/conda/lib/python3.9/site-packages/scipy/optimize/_lsq/least_squares.py\", line 928, in least_squares\n",
      "    result = trf(fun_wrapped, jac_wrapped, x0, f0, J0, lb, ub, ftol, xtol,\n",
      "  File \"/home/hujin/.local/lib/python3.9/site-packages/sbi/utils/user_input_checks.py\", line 499, in pytorch_simulator\n",
      "    return torch.as_tensor(simulator(theta), dtype=float32)\n",
      "  File \"/opt/conda/lib/python3.9/multiprocessing/process.py\", line 108, in run\n",
      "    self._target(*self._args, **self._kwargs)\n",
      "  File \"/opt/conda/lib/python3.9/site-packages/joblib/externals/loky/backend/synchronize.py\", line 110, in __enter__\n",
      "    return self._semlock.acquire()\n",
      "  File \"/opt/conda/lib/python3.9/site-packages/scipy/optimize/_lsq/trf.py\", line 123, in trf\n",
      "    return trf_bounds(\n",
      "  File \"/tmp/ipykernel_34289/2469422395.py\", line 10, in simulator\n",
      "  File \"/opt/conda/lib/python3.9/site-packages/joblib/externals/loky/process_executor.py\", line 439, in _process_worker\n",
      "    result_queue.put(_ResultItem(call_item.work_id, exception=exc))\n",
      "  File \"/opt/conda/lib/python3.9/site-packages/scipy/optimize/_lsq/trf.py\", line 301, in trf_bounds\n",
      "    U, s, V = svd(J_augmented, full_matrices=False)\n",
      "  File \"/tmp/ipykernel_34289/1841306140.py\", line 8, in _stdpsd_2psmfs\n",
      "KeyboardInterrupt\n",
      "  File \"/opt/conda/lib/python3.9/site-packages/joblib/externals/loky/backend/queues.py\", line 246, in put\n",
      "    with self._wlock:\n",
      "  File \"/opt/conda/lib/python3.9/site-packages/scipy/linalg/decomp_svd.py\", line 127, in svd\n",
      "    u, s, v, info = gesXd(a1, compute_uv=compute_uv, lwork=lwork,\n",
      "  File \"/data/rajlab1/user_data/jin/MyResearch/SBI-SGM/mypkg/features/psm.py\", line 24, in obt_psm_fs\n",
      "    fm.fit(freqs, sm_psd, freq_range)\n",
      "  File \"/opt/conda/lib/python3.9/site-packages/joblib/externals/loky/backend/synchronize.py\", line 110, in __enter__\n",
      "    return self._semlock.acquire()\n",
      "  File \"/home/hujin/.local/lib/python3.9/site-packages/fooof/objs/fit.py\", line 442, in fit\n",
      "    self.gaussian_params_ = self._fit_peaks(np.copy(self._spectrum_flat))\n",
      "KeyboardInterrupt\n",
      "KeyboardInterrupt\n",
      "  File \"/home/hujin/.local/lib/python3.9/site-packages/fooof/objs/fit.py\", line 876, in _fit_peaks\n",
      "    gaussian_params = self._fit_peak_guess(guess)\n",
      "  File \"/home/hujin/.local/lib/python3.9/site-packages/fooof/objs/fit.py\", line 926, in _fit_peak_guess\n",
      "    gaussian_params, _ = curve_fit(gaussian_function, self.freqs, self._spectrum_flat,\n",
      "\n",
      "The above exception was the direct cause of the following exception:\n",
      "\n",
      "  File \"/opt/conda/lib/python3.9/site-packages/scipy/optimize/minpack.py\", line 800, in curve_fit\n",
      "    res = least_squares(func, p0, jac=jac, bounds=bounds, method=method,\n",
      "Traceback (most recent call last):\n",
      "  File \"/opt/conda/lib/python3.9/site-packages/scipy/optimize/_lsq/least_squares.py\", line 928, in least_squares\n",
      "    result = trf(fun_wrapped, jac_wrapped, x0, f0, J0, lb, ub, ftol, xtol,\n",
      "  File \"/opt/conda/lib/python3.9/site-packages/scipy/optimize/_lsq/trf.py\", line 123, in trf\n",
      "    return trf_bounds(\n",
      "  File \"/opt/conda/lib/python3.9/site-packages/scipy/optimize/_lsq/trf.py\", line 374, in trf_bounds\n",
      "    J = jac(x, f)\n",
      "  File \"/opt/conda/lib/python3.9/site-packages/joblib/externals/loky/process_executor.py\", line 436, in _process_worker\n",
      "    r = call_item()\n",
      "  File \"/opt/conda/lib/python3.9/site-packages/scipy/optimize/_lsq/least_squares.py\", line 886, in jac_wrapped\n",
      "    J = approx_derivative(fun, x, rel_step=diff_step, method=jac,\n",
      "  File \"/opt/conda/lib/python3.9/site-packages/joblib/externals/loky/process_executor.py\", line 288, in __call__\n",
      "    return self.fn(*self.args, **self.kwargs)\n",
      "  File \"/opt/conda/lib/python3.9/site-packages/scipy/optimize/_numdiff.py\", line 486, in approx_derivative\n",
      "    return _dense_difference(fun_wrapped, x0, f0, h,\n",
      "  File \"/opt/conda/lib/python3.9/site-packages/joblib/_parallel_backends.py\", line 600, in __call__\n",
      "    raise WorkerInterrupt() from e\n",
      "  File \"/opt/conda/lib/python3.9/site-packages/scipy/optimize/_numdiff.py\", line 557, in _dense_difference\n",
      "    df = fun(x) - f0\n",
      "  File \"/opt/conda/lib/python3.9/site-packages/scipy/optimize/_numdiff.py\", line 437, in fun_wrapped\n",
      "    f = np.atleast_1d(fun(x, *args, **kwargs))\n",
      "joblib.my_exceptions.WorkerInterrupt\n",
      "  File \"/opt/conda/lib/python3.9/site-packages/scipy/optimize/minpack.py\", line 485, in func_wrapped\n",
      "    return func(xdata, *params) - ydata\n",
      "\n",
      "During handling of the above exception, another exception occurred:\n",
      "\n",
      "  File \"/home/hujin/.local/lib/python3.9/site-packages/fooof/core/funcs.py\", line 39, in gaussian_function\n",
      "    ys = ys + hgt * np.exp(-(xs-ctr)**2 / (2*wid**2))\n",
      "Traceback (most recent call last):\n",
      "KeyboardInterrupt\n",
      "\n",
      "The above exception was the direct cause of the following exception:\n",
      "\n",
      "  File \"/opt/conda/lib/python3.9/multiprocessing/process.py\", line 315, in _bootstrap\n",
      "    self.run()\n",
      "Traceback (most recent call last):\n",
      "  File \"/opt/conda/lib/python3.9/multiprocessing/process.py\", line 108, in run\n",
      "    self._target(*self._args, **self._kwargs)\n",
      "  File \"/opt/conda/lib/python3.9/site-packages/joblib/externals/loky/process_executor.py\", line 439, in _process_worker\n",
      "    result_queue.put(_ResultItem(call_item.work_id, exception=exc))\n",
      "  File \"/opt/conda/lib/python3.9/site-packages/joblib/externals/loky/backend/queues.py\", line 246, in put\n",
      "    with self._wlock:\n",
      "  File \"/opt/conda/lib/python3.9/site-packages/joblib/externals/loky/backend/synchronize.py\", line 110, in __enter__\n",
      "    return self._semlock.acquire()\n",
      "  File \"/opt/conda/lib/python3.9/site-packages/joblib/externals/loky/process_executor.py\", line 436, in _process_worker\n",
      "    r = call_item()\n",
      "  File \"/opt/conda/lib/python3.9/site-packages/joblib/externals/loky/process_executor.py\", line 288, in __call__\n",
      "    return self.fn(*self.args, **self.kwargs)\n",
      "KeyboardInterrupt\n",
      "  File \"/opt/conda/lib/python3.9/site-packages/joblib/_parallel_backends.py\", line 600, in __call__\n",
      "    raise WorkerInterrupt() from e\n",
      "joblib.my_exceptions.WorkerInterrupt\n",
      "\n",
      "During handling of the above exception, another exception occurred:\n",
      "\n",
      "Traceback (most recent call last):\n",
      "  File \"/opt/conda/lib/python3.9/multiprocessing/process.py\", line 315, in _bootstrap\n",
      "    self.run()\n",
      "  File \"/opt/conda/lib/python3.9/multiprocessing/process.py\", line 108, in run\n",
      "    self._target(*self._args, **self._kwargs)\n",
      "Traceback (most recent call last):\n",
      "  File \"/opt/conda/lib/python3.9/site-packages/joblib/externals/loky/process_executor.py\", line 439, in _process_worker\n",
      "    result_queue.put(_ResultItem(call_item.work_id, exception=exc))\n",
      "  File \"/opt/conda/lib/python3.9/site-packages/joblib/externals/loky/backend/queues.py\", line 246, in put\n",
      "    with self._wlock:\n",
      "  File \"/opt/conda/lib/python3.9/site-packages/joblib/externals/loky/backend/synchronize.py\", line 110, in __enter__\n",
      "    return self._semlock.acquire()\n",
      "KeyboardInterrupt\n",
      "  File \"/opt/conda/lib/python3.9/site-packages/joblib/_parallel_backends.py\", line 595, in __call__\n",
      "    return self.func(*args, **kwargs)\n",
      "  File \"/opt/conda/lib/python3.9/site-packages/joblib/parallel.py\", line 262, in __call__\n",
      "    return [func(*args, **kwargs)\n",
      "  File \"/opt/conda/lib/python3.9/site-packages/joblib/parallel.py\", line 262, in <listcomp>\n",
      "    return [func(*args, **kwargs)\n",
      "  File \"/home/hujin/.local/lib/python3.9/site-packages/sbi/utils/user_input_checks.py\", line 534, in batch_loop_simulator\n",
      "    xs = list(map(simulator, theta))\n",
      "  File \"/home/hujin/.local/lib/python3.9/site-packages/sbi/utils/user_input_checks.py\", line 499, in pytorch_simulator\n",
      "    return torch.as_tensor(simulator(theta), dtype=float32)\n",
      "  File \"/tmp/ipykernel_34289/2469422395.py\", line 10, in simulator\n",
      "  File \"/tmp/ipykernel_34289/1841306140.py\", line 8, in _stdpsd_2psmfs\n",
      "  File \"/data/rajlab1/user_data/jin/MyResearch/SBI-SGM/mypkg/features/psm.py\", line 24, in obt_psm_fs\n",
      "    fm.fit(freqs, sm_psd, freq_range)\n",
      "  File \"/home/hujin/.local/lib/python3.9/site-packages/fooof/objs/fit.py\", line 442, in fit\n",
      "    self.gaussian_params_ = self._fit_peaks(np.copy(self._spectrum_flat))\n",
      "  File \"/home/hujin/.local/lib/python3.9/site-packages/fooof/objs/fit.py\", line 876, in _fit_peaks\n",
      "    gaussian_params = self._fit_peak_guess(guess)\n",
      "  File \"/home/hujin/.local/lib/python3.9/site-packages/fooof/objs/fit.py\", line 926, in _fit_peak_guess\n",
      "    gaussian_params, _ = curve_fit(gaussian_function, self.freqs, self._spectrum_flat,\n",
      "  File \"/opt/conda/lib/python3.9/site-packages/scipy/optimize/minpack.py\", line 800, in curve_fit\n",
      "    res = least_squares(func, p0, jac=jac, bounds=bounds, method=method,\n",
      "  File \"/opt/conda/lib/python3.9/site-packages/scipy/optimize/_lsq/least_squares.py\", line 928, in least_squares\n",
      "    result = trf(fun_wrapped, jac_wrapped, x0, f0, J0, lb, ub, ftol, xtol,\n",
      "  File \"/opt/conda/lib/python3.9/site-packages/scipy/optimize/_lsq/trf.py\", line 123, in trf\n",
      "    return trf_bounds(\n",
      "  File \"/opt/conda/lib/python3.9/site-packages/scipy/optimize/_lsq/trf.py\", line 374, in trf_bounds\n",
      "    J = jac(x, f)\n",
      "  File \"/opt/conda/lib/python3.9/site-packages/scipy/optimize/_lsq/least_squares.py\", line 886, in jac_wrapped\n",
      "    J = approx_derivative(fun, x, rel_step=diff_step, method=jac,\n",
      "  File \"/opt/conda/lib/python3.9/site-packages/scipy/optimize/_numdiff.py\", line 486, in approx_derivative\n",
      "    return _dense_difference(fun_wrapped, x0, f0, h,\n",
      "  File \"/opt/conda/lib/python3.9/site-packages/scipy/optimize/_numdiff.py\", line 557, in _dense_difference\n",
      "    df = fun(x) - f0\n",
      "  File \"/opt/conda/lib/python3.9/site-packages/scipy/optimize/_numdiff.py\", line 437, in fun_wrapped\n",
      "    f = np.atleast_1d(fun(x, *args, **kwargs))\n",
      "  File \"<__array_function__ internals>\", line 179, in atleast_1d\n",
      "  File \"/opt/conda/lib/python3.9/site-packages/numpy/core/shape_base.py\", line 19, in _atleast_1d_dispatcher\n",
      "    def _atleast_1d_dispatcher(*arys):\n",
      "KeyboardInterrupt\n",
      "\n",
      "The above exception was the direct cause of the following exception:\n",
      "\n",
      "Traceback (most recent call last):\n",
      "Process LokyProcess-19:\n",
      "  File \"/opt/conda/lib/python3.9/site-packages/joblib/externals/loky/process_executor.py\", line 436, in _process_worker\n",
      "    r = call_item()\n",
      "  File \"/opt/conda/lib/python3.9/site-packages/joblib/externals/loky/process_executor.py\", line 288, in __call__\n",
      "    return self.fn(*self.args, **self.kwargs)\n",
      "  File \"/opt/conda/lib/python3.9/site-packages/joblib/_parallel_backends.py\", line 600, in __call__\n",
      "    raise WorkerInterrupt() from e\n",
      "joblib.my_exceptions.WorkerInterrupt\n",
      "\n",
      "During handling of the above exception, another exception occurred:\n",
      "\n",
      "Traceback (most recent call last):\n",
      "  File \"/opt/conda/lib/python3.9/multiprocessing/process.py\", line 315, in _bootstrap\n",
      "    self.run()\n",
      "  File \"/opt/conda/lib/python3.9/multiprocessing/process.py\", line 108, in run\n",
      "    self._target(*self._args, **self._kwargs)\n",
      "  File \"/opt/conda/lib/python3.9/site-packages/joblib/externals/loky/process_executor.py\", line 439, in _process_worker\n",
      "    result_queue.put(_ResultItem(call_item.work_id, exception=exc))\n",
      "  File \"/opt/conda/lib/python3.9/site-packages/joblib/externals/loky/backend/queues.py\", line 246, in put\n",
      "    with self._wlock:\n",
      "  File \"/opt/conda/lib/python3.9/site-packages/joblib/externals/loky/backend/synchronize.py\", line 110, in __enter__\n",
      "    return self._semlock.acquire()\n",
      "KeyboardInterrupt\n",
      "Traceback (most recent call last):\n",
      "  File \"/opt/conda/lib/python3.9/site-packages/joblib/_parallel_backends.py\", line 595, in __call__\n",
      "    return self.func(*args, **kwargs)\n",
      "  File \"/opt/conda/lib/python3.9/site-packages/joblib/parallel.py\", line 262, in __call__\n",
      "    return [func(*args, **kwargs)\n",
      "  File \"/opt/conda/lib/python3.9/site-packages/joblib/parallel.py\", line 262, in <listcomp>\n",
      "    return [func(*args, **kwargs)\n",
      "  File \"/home/hujin/.local/lib/python3.9/site-packages/sbi/utils/user_input_checks.py\", line 534, in batch_loop_simulator\n",
      "    xs = list(map(simulator, theta))\n",
      "  File \"/home/hujin/.local/lib/python3.9/site-packages/sbi/utils/user_input_checks.py\", line 499, in pytorch_simulator\n",
      "    return torch.as_tensor(simulator(theta), dtype=float32)\n",
      "  File \"/tmp/ipykernel_34289/2469422395.py\", line 10, in simulator\n",
      "  File \"/tmp/ipykernel_34289/1841306140.py\", line 8, in _stdpsd_2psmfs\n",
      "  File \"/data/rajlab1/user_data/jin/MyResearch/SBI-SGM/mypkg/features/psm.py\", line 24, in obt_psm_fs\n",
      "    fm.fit(freqs, sm_psd, freq_range)\n",
      "  File \"/home/hujin/.local/lib/python3.9/site-packages/fooof/objs/fit.py\", line 442, in fit\n",
      "    self.gaussian_params_ = self._fit_peaks(np.copy(self._spectrum_flat))\n",
      "  File \"/home/hujin/.local/lib/python3.9/site-packages/fooof/objs/fit.py\", line 821, in _fit_peaks\n",
      "    if max_height <= self.peak_threshold * np.std(flat_iter):\n",
      "  File \"<__array_function__ internals>\", line 180, in std\n",
      "  File \"/opt/conda/lib/python3.9/site-packages/numpy/core/fromnumeric.py\", line 3573, in std\n",
      "    return _methods._std(a, axis=axis, dtype=dtype, out=out, ddof=ddof,\n",
      "  File \"/opt/conda/lib/python3.9/site-packages/numpy/core/_methods.py\", line 265, in _std\n",
      "    ret = _var(a, axis=axis, dtype=dtype, out=out, ddof=ddof,\n",
      "  File \"/opt/conda/lib/python3.9/site-packages/numpy/core/_methods.py\", line 216, in _var\n",
      "    if rcount.ndim == 0:\n",
      "KeyboardInterrupt\n",
      "\n",
      "The above exception was the direct cause of the following exception:\n",
      "\n",
      "Traceback (most recent call last):\n",
      "  File \"/opt/conda/lib/python3.9/site-packages/joblib/externals/loky/process_executor.py\", line 436, in _process_worker\n",
      "    r = call_item()\n",
      "  File \"/opt/conda/lib/python3.9/site-packages/joblib/externals/loky/process_executor.py\", line 288, in __call__\n",
      "    return self.fn(*self.args, **self.kwargs)\n",
      "  File \"/opt/conda/lib/python3.9/site-packages/joblib/_parallel_backends.py\", line 600, in __call__\n",
      "    raise WorkerInterrupt() from e\n",
      "joblib.my_exceptions.WorkerInterrupt\n",
      "\n",
      "During handling of the above exception, another exception occurred:\n",
      "\n",
      "Traceback (most recent call last):\n",
      "  File \"/opt/conda/lib/python3.9/multiprocessing/process.py\", line 315, in _bootstrap\n",
      "    self.run()\n",
      "  File \"/opt/conda/lib/python3.9/multiprocessing/process.py\", line 108, in run\n",
      "    self._target(*self._args, **self._kwargs)\n",
      "  File \"/opt/conda/lib/python3.9/site-packages/joblib/externals/loky/process_executor.py\", line 439, in _process_worker\n",
      "    result_queue.put(_ResultItem(call_item.work_id, exception=exc))\n",
      "  File \"/opt/conda/lib/python3.9/site-packages/joblib/externals/loky/backend/queues.py\", line 246, in put\n",
      "    with self._wlock:\n",
      "  File \"/opt/conda/lib/python3.9/site-packages/joblib/externals/loky/backend/synchronize.py\", line 110, in __enter__\n",
      "    return self._semlock.acquire()\n",
      "KeyboardInterrupt\n",
      "Traceback (most recent call last):\n",
      "  File \"/opt/conda/lib/python3.9/site-packages/joblib/_parallel_backends.py\", line 595, in __call__\n",
      "    return self.func(*args, **kwargs)\n",
      "  File \"/opt/conda/lib/python3.9/site-packages/joblib/parallel.py\", line 262, in __call__\n",
      "    return [func(*args, **kwargs)\n",
      "  File \"/opt/conda/lib/python3.9/site-packages/joblib/parallel.py\", line 262, in <listcomp>\n",
      "    return [func(*args, **kwargs)\n",
      "  File \"/home/hujin/.local/lib/python3.9/site-packages/sbi/utils/user_input_checks.py\", line 534, in batch_loop_simulator\n",
      "    xs = list(map(simulator, theta))\n",
      "  File \"/home/hujin/.local/lib/python3.9/site-packages/sbi/utils/user_input_checks.py\", line 499, in pytorch_simulator\n",
      "    return torch.as_tensor(simulator(theta), dtype=float32)\n",
      "  File \"/tmp/ipykernel_34289/2469422395.py\", line 4, in simulator\n",
      "  File \"/data/rajlab1/user_data/jin/MyResearch/SBI-SGM/mypkg/sgm/sgm.py\", line 131, in run_local_coupling_forward\n",
      "    freq_model, freq_resp, eig_val, eig_vec = network_transfer_local(\n",
      "  File \"/data/rajlab1/user_data/jin/MyResearch/SBI-SGM/mypkg/sgm/sgm.py\", line 57, in network_transfer_local\n",
      "    d, v = np.linalg.eig(L)\n",
      "  File \"<__array_function__ internals>\", line 180, in eig\n",
      "  File \"/opt/conda/lib/python3.9/site-packages/numpy/linalg/linalg.py\", line 1318, in eig\n",
      "    w, vt = _umath_linalg.eig(a, signature=signature, extobj=extobj)\n",
      "KeyboardInterrupt\n",
      "\n",
      "The above exception was the direct cause of the following exception:\n",
      "\n",
      "Traceback (most recent call last):\n",
      "Traceback (most recent call last):\n",
      "  File \"/opt/conda/lib/python3.9/site-packages/joblib/externals/loky/process_executor.py\", line 436, in _process_worker\n",
      "    r = call_item()\n",
      "  File \"/opt/conda/lib/python3.9/site-packages/joblib/externals/loky/process_executor.py\", line 288, in __call__\n",
      "    return self.fn(*self.args, **self.kwargs)\n",
      "  File \"/opt/conda/lib/python3.9/site-packages/joblib/_parallel_backends.py\", line 600, in __call__\n",
      "    raise WorkerInterrupt() from e\n",
      "joblib.my_exceptions.WorkerInterrupt\n",
      "\n",
      "During handling of the above exception, another exception occurred:\n",
      "\n",
      "Traceback (most recent call last):\n",
      "  File \"/opt/conda/lib/python3.9/site-packages/joblib/_parallel_backends.py\", line 595, in __call__\n",
      "    return self.func(*args, **kwargs)\n",
      "  File \"/opt/conda/lib/python3.9/site-packages/joblib/parallel.py\", line 262, in __call__\n",
      "    return [func(*args, **kwargs)\n",
      "  File \"/opt/conda/lib/python3.9/site-packages/joblib/parallel.py\", line 262, in <listcomp>\n",
      "    return [func(*args, **kwargs)\n",
      "  File \"/opt/conda/lib/python3.9/multiprocessing/process.py\", line 315, in _bootstrap\n",
      "    self.run()\n",
      "  File \"/home/hujin/.local/lib/python3.9/site-packages/sbi/utils/user_input_checks.py\", line 534, in batch_loop_simulator\n",
      "    xs = list(map(simulator, theta))\n",
      "  File \"/opt/conda/lib/python3.9/multiprocessing/process.py\", line 108, in run\n",
      "    self._target(*self._args, **self._kwargs)\n",
      "  File \"/home/hujin/.local/lib/python3.9/site-packages/sbi/utils/user_input_checks.py\", line 499, in pytorch_simulator\n",
      "    return torch.as_tensor(simulator(theta), dtype=float32)\n",
      "  File \"/opt/conda/lib/python3.9/site-packages/joblib/externals/loky/process_executor.py\", line 439, in _process_worker\n",
      "    result_queue.put(_ResultItem(call_item.work_id, exception=exc))\n",
      "  File \"/tmp/ipykernel_34289/2469422395.py\", line 4, in simulator\n",
      "  File \"/opt/conda/lib/python3.9/site-packages/joblib/externals/loky/backend/queues.py\", line 246, in put\n",
      "    with self._wlock:\n",
      "  File \"/data/rajlab1/user_data/jin/MyResearch/SBI-SGM/mypkg/sgm/sgm.py\", line 131, in run_local_coupling_forward\n",
      "    freq_model, freq_resp, eig_val, eig_vec = network_transfer_local(\n",
      "  File \"/opt/conda/lib/python3.9/site-packages/joblib/externals/loky/backend/synchronize.py\", line 110, in __enter__\n",
      "    return self._semlock.acquire()\n",
      "  File \"/data/rajlab1/user_data/jin/MyResearch/SBI-SGM/mypkg/sgm/sgm.py\", line 57, in network_transfer_local\n",
      "    d, v = np.linalg.eig(L)\n",
      "  File \"<__array_function__ internals>\", line 180, in eig\n",
      "KeyboardInterrupt\n",
      "  File \"/opt/conda/lib/python3.9/site-packages/numpy/linalg/linalg.py\", line 1318, in eig\n",
      "    w, vt = _umath_linalg.eig(a, signature=signature, extobj=extobj)\n",
      "KeyboardInterrupt\n",
      "\n",
      "The above exception was the direct cause of the following exception:\n",
      "\n",
      "Traceback (most recent call last):\n",
      "  File \"/opt/conda/lib/python3.9/site-packages/joblib/externals/loky/process_executor.py\", line 436, in _process_worker\n",
      "    r = call_item()\n",
      "  File \"/opt/conda/lib/python3.9/site-packages/joblib/externals/loky/process_executor.py\", line 288, in __call__\n",
      "    return self.fn(*self.args, **self.kwargs)\n",
      "  File \"/opt/conda/lib/python3.9/site-packages/joblib/_parallel_backends.py\", line 600, in __call__\n",
      "    raise WorkerInterrupt() from e\n",
      "joblib.my_exceptions.WorkerInterrupt\n",
      "\n",
      "During handling of the above exception, another exception occurred:\n",
      "\n",
      "Traceback (most recent call last):\n",
      "  File \"/opt/conda/lib/python3.9/multiprocessing/process.py\", line 315, in _bootstrap\n",
      "    self.run()\n",
      "  File \"/opt/conda/lib/python3.9/multiprocessing/process.py\", line 108, in run\n",
      "    self._target(*self._args, **self._kwargs)\n",
      "  File \"/opt/conda/lib/python3.9/site-packages/joblib/externals/loky/process_executor.py\", line 439, in _process_worker\n",
      "    result_queue.put(_ResultItem(call_item.work_id, exception=exc))\n",
      "  File \"/opt/conda/lib/python3.9/site-packages/joblib/externals/loky/backend/queues.py\", line 246, in put\n",
      "    with self._wlock:\n",
      "Process LokyProcess-24:\n",
      "Process LokyProcess-23:\n",
      "Traceback (most recent call last):\n",
      "Traceback (most recent call last):\n",
      "  File \"/opt/conda/lib/python3.9/site-packages/joblib/_parallel_backends.py\", line 595, in __call__\n",
      "    return self.func(*args, **kwargs)\n",
      "  File \"/opt/conda/lib/python3.9/site-packages/joblib/parallel.py\", line 262, in __call__\n",
      "    return [func(*args, **kwargs)\n",
      "  File \"/opt/conda/lib/python3.9/site-packages/joblib/parallel.py\", line 262, in <listcomp>\n",
      "    return [func(*args, **kwargs)\n",
      "  File \"/home/hujin/.local/lib/python3.9/site-packages/sbi/utils/user_input_checks.py\", line 534, in batch_loop_simulator\n",
      "    xs = list(map(simulator, theta))\n",
      "  File \"/home/hujin/.local/lib/python3.9/site-packages/sbi/utils/user_input_checks.py\", line 499, in pytorch_simulator\n",
      "    return torch.as_tensor(simulator(theta), dtype=float32)\n",
      "  File \"/tmp/ipykernel_34289/2469422395.py\", line 10, in simulator\n",
      "  File \"/tmp/ipykernel_34289/1841306140.py\", line 8, in _stdpsd_2psmfs\n",
      "  File \"/data/rajlab1/user_data/jin/MyResearch/SBI-SGM/mypkg/features/psm.py\", line 24, in obt_psm_fs\n",
      "    fm.fit(freqs, sm_psd, freq_range)\n",
      "  File \"/home/hujin/.local/lib/python3.9/site-packages/fooof/objs/fit.py\", line 442, in fit\n",
      "    self.gaussian_params_ = self._fit_peaks(np.copy(self._spectrum_flat))\n",
      "  File \"/home/hujin/.local/lib/python3.9/site-packages/fooof/objs/fit.py\", line 876, in _fit_peaks\n",
      "    gaussian_params = self._fit_peak_guess(guess)\n",
      "  File \"/home/hujin/.local/lib/python3.9/site-packages/fooof/objs/fit.py\", line 926, in _fit_peak_guess\n",
      "    gaussian_params, _ = curve_fit(gaussian_function, self.freqs, self._spectrum_flat,\n",
      "  File \"/opt/conda/lib/python3.9/site-packages/scipy/optimize/minpack.py\", line 800, in curve_fit\n",
      "    res = least_squares(func, p0, jac=jac, bounds=bounds, method=method,\n",
      "  File \"/opt/conda/lib/python3.9/site-packages/scipy/optimize/_lsq/least_squares.py\", line 928, in least_squares\n",
      "    result = trf(fun_wrapped, jac_wrapped, x0, f0, J0, lb, ub, ftol, xtol,\n",
      "  File \"/opt/conda/lib/python3.9/site-packages/scipy/optimize/_lsq/trf.py\", line 123, in trf\n",
      "    return trf_bounds(\n",
      "  File \"/opt/conda/lib/python3.9/site-packages/scipy/optimize/_lsq/trf.py\", line 261, in trf_bounds\n",
      "    v, dv = CL_scaling_vector(x, g, lb, ub)\n",
      "  File \"/opt/conda/lib/python3.9/site-packages/scipy/optimize/_lsq/common.py\", line 497, in CL_scaling_vector\n",
      "    v = np.ones_like(x)\n",
      "  File \"<__array_function__ internals>\", line 180, in ones_like\n",
      "  File \"/opt/conda/lib/python3.9/site-packages/numpy/core/numeric.py\", line 281, in ones_like\n",
      "    multiarray.copyto(res, 1, casting='unsafe')\n",
      "  File \"<__array_function__ internals>\", line 180, in copyto\n",
      "KeyboardInterrupt\n",
      "\n",
      "The above exception was the direct cause of the following exception:\n",
      "\n",
      "Traceback (most recent call last):\n",
      "  File \"/opt/conda/lib/python3.9/site-packages/joblib/externals/loky/process_executor.py\", line 436, in _process_worker\n",
      "    r = call_item()\n",
      "  File \"/opt/conda/lib/python3.9/site-packages/joblib/externals/loky/process_executor.py\", line 288, in __call__\n",
      "    return self.fn(*self.args, **self.kwargs)\n",
      "  File \"/opt/conda/lib/python3.9/site-packages/joblib/_parallel_backends.py\", line 600, in __call__\n",
      "    raise WorkerInterrupt() from e\n",
      "joblib.my_exceptions.WorkerInterrupt\n",
      "\n",
      "During handling of the above exception, another exception occurred:\n",
      "\n",
      "Traceback (most recent call last):\n",
      "  File \"/opt/conda/lib/python3.9/multiprocessing/process.py\", line 315, in _bootstrap\n",
      "    self.run()\n",
      "  File \"/opt/conda/lib/python3.9/multiprocessing/process.py\", line 108, in run\n",
      "    self._target(*self._args, **self._kwargs)\n",
      "  File \"/opt/conda/lib/python3.9/site-packages/joblib/externals/loky/process_executor.py\", line 439, in _process_worker\n",
      "    result_queue.put(_ResultItem(call_item.work_id, exception=exc))\n",
      "  File \"/opt/conda/lib/python3.9/site-packages/joblib/externals/loky/backend/queues.py\", line 246, in put\n",
      "    with self._wlock:\n",
      "  File \"/opt/conda/lib/python3.9/site-packages/joblib/externals/loky/backend/synchronize.py\", line 110, in __enter__\n",
      "    return self._semlock.acquire()\n",
      "KeyboardInterrupt\n",
      "Process LokyProcess-37:\n",
      "Traceback (most recent call last):\n",
      "  File \"/opt/conda/lib/python3.9/site-packages/joblib/_parallel_backends.py\", line 595, in __call__\n",
      "    return self.func(*args, **kwargs)\n",
      "  File \"/opt/conda/lib/python3.9/site-packages/joblib/parallel.py\", line 262, in __call__\n",
      "    return [func(*args, **kwargs)\n",
      "  File \"/opt/conda/lib/python3.9/site-packages/joblib/parallel.py\", line 262, in <listcomp>\n",
      "    return [func(*args, **kwargs)\n",
      "  File \"/home/hujin/.local/lib/python3.9/site-packages/sbi/utils/user_input_checks.py\", line 534, in batch_loop_simulator\n",
      "    xs = list(map(simulator, theta))\n",
      "  File \"/home/hujin/.local/lib/python3.9/site-packages/sbi/utils/user_input_checks.py\", line 499, in pytorch_simulator\n",
      "    return torch.as_tensor(simulator(theta), dtype=float32)\n",
      "Process LokyProcess-39:\n",
      "  File \"/tmp/ipykernel_34289/2469422395.py\", line 10, in simulator\n",
      "  File \"/tmp/ipykernel_34289/1841306140.py\", line 8, in _stdpsd_2psmfs\n",
      "  File \"/data/rajlab1/user_data/jin/MyResearch/SBI-SGM/mypkg/features/psm.py\", line 24, in obt_psm_fs\n",
      "    fm.fit(freqs, sm_psd, freq_range)\n",
      "  File \"/home/hujin/.local/lib/python3.9/site-packages/fooof/objs/fit.py\", line 461, in fit\n",
      "    self.peak_params_ = self._create_peak_params(self.gaussian_params_)\n",
      "  File \"/home/hujin/.local/lib/python3.9/site-packages/fooof/objs/fit.py\", line 972, in _create_peak_params\n",
      "    for ii, peak in enumerate(gaus_params):\n",
      "KeyboardInterrupt\n",
      "\n",
      "The above exception was the direct cause of the following exception:\n",
      "\n",
      "Traceback (most recent call last):\n",
      "  File \"/opt/conda/lib/python3.9/site-packages/joblib/externals/loky/process_executor.py\", line 436, in _process_worker\n",
      "    r = call_item()\n",
      "  File \"/opt/conda/lib/python3.9/site-packages/joblib/externals/loky/process_executor.py\", line 288, in __call__\n",
      "    return self.fn(*self.args, **self.kwargs)\n",
      "  File \"/opt/conda/lib/python3.9/site-packages/joblib/_parallel_backends.py\", line 600, in __call__\n",
      "    raise WorkerInterrupt() from e\n",
      "joblib.my_exceptions.WorkerInterrupt\n",
      "\n",
      "During handling of the above exception, another exception occurred:\n",
      "\n",
      "Traceback (most recent call last):\n",
      "  File \"/opt/conda/lib/python3.9/multiprocessing/process.py\", line 315, in _bootstrap\n",
      "    self.run()\n",
      "  File \"/opt/conda/lib/python3.9/multiprocessing/process.py\", line 108, in run\n",
      "    self._target(*self._args, **self._kwargs)\n",
      "  File \"/opt/conda/lib/python3.9/site-packages/joblib/externals/loky/process_executor.py\", line 439, in _process_worker\n",
      "    result_queue.put(_ResultItem(call_item.work_id, exception=exc))\n",
      "  File \"/opt/conda/lib/python3.9/site-packages/joblib/externals/loky/backend/queues.py\", line 246, in put\n",
      "    with self._wlock:\n",
      "  File \"/opt/conda/lib/python3.9/site-packages/joblib/externals/loky/backend/synchronize.py\", line 110, in __enter__\n",
      "    return self._semlock.acquire()\n",
      "KeyboardInterrupt\n",
      "Process LokyProcess-42:\n",
      "Traceback (most recent call last):\n",
      "  File \"/opt/conda/lib/python3.9/site-packages/joblib/_parallel_backends.py\", line 595, in __call__\n",
      "    return self.func(*args, **kwargs)\n",
      "  File \"/opt/conda/lib/python3.9/site-packages/joblib/parallel.py\", line 262, in __call__\n",
      "    return [func(*args, **kwargs)\n",
      "  File \"/opt/conda/lib/python3.9/site-packages/joblib/parallel.py\", line 262, in <listcomp>\n",
      "    return [func(*args, **kwargs)\n",
      "  File \"/home/hujin/.local/lib/python3.9/site-packages/sbi/utils/user_input_checks.py\", line 534, in batch_loop_simulator\n",
      "    xs = list(map(simulator, theta))\n",
      "  File \"/home/hujin/.local/lib/python3.9/site-packages/sbi/utils/user_input_checks.py\", line 499, in pytorch_simulator\n",
      "    return torch.as_tensor(simulator(theta), dtype=float32)\n",
      "  File \"/tmp/ipykernel_34289/2469422395.py\", line 10, in simulator\n",
      "  File \"/tmp/ipykernel_34289/1841306140.py\", line 8, in _stdpsd_2psmfs\n",
      "  File \"/data/rajlab1/user_data/jin/MyResearch/SBI-SGM/mypkg/features/psm.py\", line 24, in obt_psm_fs\n",
      "    fm.fit(freqs, sm_psd, freq_range)\n",
      "  File \"/home/hujin/.local/lib/python3.9/site-packages/fooof/objs/fit.py\", line 442, in fit\n",
      "    self.gaussian_params_ = self._fit_peaks(np.copy(self._spectrum_flat))\n",
      "  File \"/home/hujin/.local/lib/python3.9/site-packages/fooof/objs/fit.py\", line 876, in _fit_peaks\n",
      "    gaussian_params = self._fit_peak_guess(guess)\n",
      "  File \"/home/hujin/.local/lib/python3.9/site-packages/fooof/objs/fit.py\", line 926, in _fit_peak_guess\n",
      "    gaussian_params, _ = curve_fit(gaussian_function, self.freqs, self._spectrum_flat,\n",
      "  File \"/opt/conda/lib/python3.9/site-packages/scipy/optimize/minpack.py\", line 800, in curve_fit\n",
      "    res = least_squares(func, p0, jac=jac, bounds=bounds, method=method,\n",
      "  File \"/opt/conda/lib/python3.9/site-packages/scipy/optimize/_lsq/least_squares.py\", line 928, in least_squares\n",
      "    result = trf(fun_wrapped, jac_wrapped, x0, f0, J0, lb, ub, ftol, xtol,\n",
      "  File \"/opt/conda/lib/python3.9/site-packages/scipy/optimize/_lsq/trf.py\", line 123, in trf\n",
      "    return trf_bounds(\n",
      "  File \"/opt/conda/lib/python3.9/site-packages/scipy/optimize/_lsq/trf.py\", line 302, in trf_bounds\n",
      "    V = V.T\n",
      "KeyboardInterrupt\n",
      "\n",
      "The above exception was the direct cause of the following exception:\n",
      "\n",
      "Traceback (most recent call last):\n",
      "  File \"/opt/conda/lib/python3.9/site-packages/joblib/externals/loky/process_executor.py\", line 436, in _process_worker\n",
      "    r = call_item()\n",
      "  File \"/opt/conda/lib/python3.9/site-packages/joblib/externals/loky/process_executor.py\", line 288, in __call__\n",
      "    return self.fn(*self.args, **self.kwargs)\n",
      "  File \"/opt/conda/lib/python3.9/site-packages/joblib/_parallel_backends.py\", line 600, in __call__\n",
      "    raise WorkerInterrupt() from e\n",
      "joblib.my_exceptions.WorkerInterrupt\n",
      "\n",
      "During handling of the above exception, another exception occurred:\n",
      "\n",
      "Traceback (most recent call last):\n",
      "  File \"/opt/conda/lib/python3.9/multiprocessing/process.py\", line 315, in _bootstrap\n",
      "    self.run()\n",
      "  File \"/opt/conda/lib/python3.9/multiprocessing/process.py\", line 108, in run\n",
      "    self._target(*self._args, **self._kwargs)\n",
      "  File \"/opt/conda/lib/python3.9/site-packages/joblib/externals/loky/process_executor.py\", line 439, in _process_worker\n",
      "    result_queue.put(_ResultItem(call_item.work_id, exception=exc))\n",
      "  File \"/opt/conda/lib/python3.9/site-packages/joblib/externals/loky/backend/queues.py\", line 246, in put\n",
      "    with self._wlock:\n",
      "  File \"/opt/conda/lib/python3.9/site-packages/joblib/externals/loky/backend/synchronize.py\", line 110, in __enter__\n",
      "    return self._semlock.acquire()\n",
      "KeyboardInterrupt\n",
      "Traceback (most recent call last):\n",
      "  File \"/opt/conda/lib/python3.9/site-packages/joblib/_parallel_backends.py\", line 595, in __call__\n",
      "    return self.func(*args, **kwargs)\n",
      "  File \"/opt/conda/lib/python3.9/site-packages/joblib/parallel.py\", line 262, in __call__\n",
      "    return [func(*args, **kwargs)\n",
      "  File \"/opt/conda/lib/python3.9/site-packages/joblib/parallel.py\", line 262, in <listcomp>\n",
      "    return [func(*args, **kwargs)\n",
      "  File \"/opt/conda/lib/python3.9/site-packages/joblib/externals/loky/backend/synchronize.py\", line 110, in __enter__\n",
      "    return self._semlock.acquire()\n",
      "KeyboardInterrupt\n",
      "Process LokyProcess-25:\n",
      "Traceback (most recent call last):\n",
      "  File \"/opt/conda/lib/python3.9/site-packages/joblib/_parallel_backends.py\", line 595, in __call__\n",
      "    return self.func(*args, **kwargs)\n",
      "  File \"/opt/conda/lib/python3.9/site-packages/joblib/parallel.py\", line 262, in __call__\n",
      "    return [func(*args, **kwargs)\n",
      "  File \"/opt/conda/lib/python3.9/site-packages/joblib/parallel.py\", line 262, in <listcomp>\n",
      "    return [func(*args, **kwargs)\n",
      "  File \"/home/hujin/.local/lib/python3.9/site-packages/sbi/utils/user_input_checks.py\", line 534, in batch_loop_simulator\n",
      "    xs = list(map(simulator, theta))\n",
      "  File \"/home/hujin/.local/lib/python3.9/site-packages/sbi/utils/user_input_checks.py\", line 499, in pytorch_simulator\n",
      "    return torch.as_tensor(simulator(theta), dtype=float32)\n",
      "  File \"/tmp/ipykernel_34289/2469422395.py\", line 4, in simulator\n",
      "  File \"/data/rajlab1/user_data/jin/MyResearch/SBI-SGM/mypkg/sgm/sgm.py\", line 131, in run_local_coupling_forward\n",
      "    freq_model, freq_resp, eig_val, eig_vec = network_transfer_local(\n",
      "  File \"/data/rajlab1/user_data/jin/MyResearch/SBI-SGM/mypkg/sgm/sgm.py\", line 57, in network_transfer_local\n",
      "    d, v = np.linalg.eig(L)\n",
      "  File \"<__array_function__ internals>\", line 180, in eig\n",
      "  File \"/opt/conda/lib/python3.9/site-packages/numpy/linalg/linalg.py\", line 1318, in eig\n",
      "    w, vt = _umath_linalg.eig(a, signature=signature, extobj=extobj)\n",
      "KeyboardInterrupt\n",
      "\n",
      "The above exception was the direct cause of the following exception:\n",
      "\n",
      "Traceback (most recent call last):\n",
      "  File \"/opt/conda/lib/python3.9/site-packages/joblib/externals/loky/process_executor.py\", line 436, in _process_worker\n",
      "    r = call_item()\n",
      "  File \"/opt/conda/lib/python3.9/site-packages/joblib/externals/loky/process_executor.py\", line 288, in __call__\n",
      "    return self.fn(*self.args, **self.kwargs)\n",
      "  File \"/opt/conda/lib/python3.9/site-packages/joblib/_parallel_backends.py\", line 600, in __call__\n",
      "    raise WorkerInterrupt() from e\n",
      "joblib.my_exceptions.WorkerInterrupt\n",
      "\n",
      "During handling of the above exception, another exception occurred:\n",
      "\n",
      "Traceback (most recent call last):\n",
      "  File \"/opt/conda/lib/python3.9/multiprocessing/process.py\", line 315, in _bootstrap\n",
      "    self.run()\n",
      "  File \"/opt/conda/lib/python3.9/multiprocessing/process.py\", line 108, in run\n",
      "    self._target(*self._args, **self._kwargs)\n",
      "  File \"/opt/conda/lib/python3.9/site-packages/joblib/externals/loky/process_executor.py\", line 439, in _process_worker\n",
      "    result_queue.put(_ResultItem(call_item.work_id, exception=exc))\n",
      "  File \"/opt/conda/lib/python3.9/site-packages/joblib/externals/loky/backend/queues.py\", line 246, in put\n",
      "    with self._wlock:\n",
      "  File \"/opt/conda/lib/python3.9/site-packages/joblib/externals/loky/backend/synchronize.py\", line 110, in __enter__\n",
      "    return self._semlock.acquire()\n",
      "KeyboardInterrupt\n",
      "  File \"/opt/conda/lib/python3.9/site-packages/joblib/_parallel_backends.py\", line 595, in __call__\n",
      "    return self.func(*args, **kwargs)\n",
      "  File \"/opt/conda/lib/python3.9/site-packages/joblib/parallel.py\", line 262, in __call__\n",
      "    return [func(*args, **kwargs)\n",
      "  File \"/opt/conda/lib/python3.9/site-packages/joblib/parallel.py\", line 262, in <listcomp>\n",
      "    return [func(*args, **kwargs)\n",
      "  File \"/home/hujin/.local/lib/python3.9/site-packages/sbi/utils/user_input_checks.py\", line 534, in batch_loop_simulator\n",
      "    xs = list(map(simulator, theta))\n",
      "  File \"/home/hujin/.local/lib/python3.9/site-packages/sbi/utils/user_input_checks.py\", line 499, in pytorch_simulator\n",
      "    return torch.as_tensor(simulator(theta), dtype=float32)\n",
      "  File \"/tmp/ipykernel_34289/2469422395.py\", line 10, in simulator\n",
      "  File \"/tmp/ipykernel_34289/1841306140.py\", line 8, in _stdpsd_2psmfs\n",
      "  File \"/data/rajlab1/user_data/jin/MyResearch/SBI-SGM/mypkg/features/psm.py\", line 24, in obt_psm_fs\n",
      "    fm.fit(freqs, sm_psd, freq_range)\n",
      "  File \"/home/hujin/.local/lib/python3.9/site-packages/fooof/objs/fit.py\", line 442, in fit\n",
      "    self.gaussian_params_ = self._fit_peaks(np.copy(self._spectrum_flat))\n",
      "  File \"/home/hujin/.local/lib/python3.9/site-packages/fooof/objs/fit.py\", line 876, in _fit_peaks\n",
      "    gaussian_params = self._fit_peak_guess(guess)\n",
      "  File \"/home/hujin/.local/lib/python3.9/site-packages/fooof/objs/fit.py\", line 926, in _fit_peak_guess\n",
      "    gaussian_params, _ = curve_fit(gaussian_function, self.freqs, self._spectrum_flat,\n",
      "  File \"/opt/conda/lib/python3.9/site-packages/scipy/optimize/minpack.py\", line 800, in curve_fit\n",
      "    res = least_squares(func, p0, jac=jac, bounds=bounds, method=method,\n",
      "  File \"/opt/conda/lib/python3.9/site-packages/scipy/optimize/_lsq/least_squares.py\", line 928, in least_squares\n",
      "    result = trf(fun_wrapped, jac_wrapped, x0, f0, J0, lb, ub, ftol, xtol,\n",
      "  File \"/opt/conda/lib/python3.9/site-packages/scipy/optimize/_lsq/trf.py\", line 123, in trf\n",
      "    return trf_bounds(\n",
      "  File \"/opt/conda/lib/python3.9/site-packages/scipy/optimize/_lsq/trf.py\", line 263, in trf_bounds\n",
      "    g_norm = norm(g * v, ord=np.inf)\n",
      "  File \"<__array_function__ internals>\", line 180, in norm\n",
      "  File \"/opt/conda/lib/python3.9/site-packages/numpy/linalg/linalg.py\", line 2518, in norm\n",
      "    (ord == 2 and ndim == 1)):\n",
      "KeyboardInterrupt\n",
      "\n",
      "The above exception was the direct cause of the following exception:\n",
      "\n",
      "Traceback (most recent call last):\n",
      "  File \"/opt/conda/lib/python3.9/site-packages/joblib/externals/loky/process_executor.py\", line 436, in _process_worker\n",
      "    r = call_item()\n",
      "  File \"/opt/conda/lib/python3.9/site-packages/joblib/externals/loky/process_executor.py\", line 288, in __call__\n",
      "    return self.fn(*self.args, **self.kwargs)\n",
      "  File \"/opt/conda/lib/python3.9/site-packages/joblib/_parallel_backends.py\", line 600, in __call__\n",
      "    raise WorkerInterrupt() from e\n",
      "joblib.my_exceptions.WorkerInterrupt\n",
      "\n",
      "During handling of the above exception, another exception occurred:\n",
      "\n",
      "Traceback (most recent call last):\n",
      "  File \"/opt/conda/lib/python3.9/multiprocessing/process.py\", line 315, in _bootstrap\n",
      "    self.run()\n",
      "  File \"/opt/conda/lib/python3.9/multiprocessing/process.py\", line 108, in run\n",
      "    self._target(*self._args, **self._kwargs)\n",
      "  File \"/opt/conda/lib/python3.9/site-packages/joblib/externals/loky/process_executor.py\", line 439, in _process_worker\n",
      "    result_queue.put(_ResultItem(call_item.work_id, exception=exc))\n",
      "  File \"/opt/conda/lib/python3.9/site-packages/joblib/externals/loky/backend/queues.py\", line 246, in put\n",
      "    with self._wlock:\n",
      "  File \"/opt/conda/lib/python3.9/site-packages/joblib/externals/loky/backend/synchronize.py\", line 110, in __enter__\n",
      "    return self._semlock.acquire()\n",
      "KeyboardInterrupt\n",
      "Process LokyProcess-9:\n",
      "Traceback (most recent call last):\n",
      "  File \"/opt/conda/lib/python3.9/site-packages/joblib/_parallel_backends.py\", line 595, in __call__\n",
      "    return self.func(*args, **kwargs)\n",
      "  File \"/opt/conda/lib/python3.9/site-packages/joblib/parallel.py\", line 262, in __call__\n",
      "    return [func(*args, **kwargs)\n",
      "  File \"/opt/conda/lib/python3.9/site-packages/joblib/parallel.py\", line 262, in <listcomp>\n",
      "    return [func(*args, **kwargs)\n",
      "  File \"/home/hujin/.local/lib/python3.9/site-packages/sbi/utils/user_input_checks.py\", line 534, in batch_loop_simulator\n",
      "    xs = list(map(simulator, theta))\n",
      "  File \"/home/hujin/.local/lib/python3.9/site-packages/sbi/utils/user_input_checks.py\", line 499, in pytorch_simulator\n",
      "    return torch.as_tensor(simulator(theta), dtype=float32)\n",
      "  File \"/tmp/ipykernel_34289/2469422395.py\", line 4, in simulator\n",
      "  File \"/data/rajlab1/user_data/jin/MyResearch/SBI-SGM/mypkg/sgm/sgm.py\", line 131, in run_local_coupling_forward\n",
      "    freq_model, freq_resp, eig_val, eig_vec = network_transfer_local(\n",
      "  File \"/data/rajlab1/user_data/jin/MyResearch/SBI-SGM/mypkg/sgm/sgm.py\", line 57, in network_transfer_local\n",
      "    d, v = np.linalg.eig(L)\n",
      "  File \"<__array_function__ internals>\", line 180, in eig\n",
      "  File \"/opt/conda/lib/python3.9/site-packages/numpy/linalg/linalg.py\", line 1318, in eig\n",
      "    w, vt = _umath_linalg.eig(a, signature=signature, extobj=extobj)\n",
      "KeyboardInterrupt\n",
      "\n",
      "The above exception was the direct cause of the following exception:\n",
      "\n",
      "Traceback (most recent call last):\n",
      "  File \"/opt/conda/lib/python3.9/site-packages/joblib/externals/loky/process_executor.py\", line 436, in _process_worker\n",
      "    r = call_item()\n",
      "  File \"/opt/conda/lib/python3.9/site-packages/joblib/externals/loky/process_executor.py\", line 288, in __call__\n",
      "    return self.fn(*self.args, **self.kwargs)\n",
      "  File \"/opt/conda/lib/python3.9/site-packages/joblib/_parallel_backends.py\", line 600, in __call__\n",
      "    raise WorkerInterrupt() from e\n",
      "joblib.my_exceptions.WorkerInterrupt\n",
      "\n",
      "During handling of the above exception, another exception occurred:\n",
      "\n",
      "Traceback (most recent call last):\n",
      "  File \"/opt/conda/lib/python3.9/multiprocessing/process.py\", line 315, in _bootstrap\n",
      "    self.run()\n",
      "  File \"/opt/conda/lib/python3.9/multiprocessing/process.py\", line 108, in run\n",
      "    self._target(*self._args, **self._kwargs)\n",
      "  File \"/opt/conda/lib/python3.9/site-packages/joblib/externals/loky/process_executor.py\", line 439, in _process_worker\n",
      "    result_queue.put(_ResultItem(call_item.work_id, exception=exc))\n",
      "  File \"/opt/conda/lib/python3.9/site-packages/joblib/externals/loky/backend/queues.py\", line 246, in put\n",
      "    with self._wlock:\n",
      "  File \"/opt/conda/lib/python3.9/site-packages/joblib/externals/loky/backend/synchronize.py\", line 110, in __enter__\n",
      "    return self._semlock.acquire()\n",
      "KeyboardInterrupt\n",
      "Process LokyProcess-5:\n",
      "Traceback (most recent call last):\n",
      "  File \"/opt/conda/lib/python3.9/site-packages/joblib/_parallel_backends.py\", line 595, in __call__\n",
      "    return self.func(*args, **kwargs)\n",
      "  File \"/opt/conda/lib/python3.9/site-packages/joblib/parallel.py\", line 262, in __call__\n",
      "    return [func(*args, **kwargs)\n",
      "  File \"/opt/conda/lib/python3.9/site-packages/joblib/parallel.py\", line 262, in <listcomp>\n",
      "    return [func(*args, **kwargs)\n",
      "  File \"/home/hujin/.local/lib/python3.9/site-packages/sbi/utils/user_input_checks.py\", line 534, in batch_loop_simulator\n",
      "    xs = list(map(simulator, theta))\n",
      "  File \"/home/hujin/.local/lib/python3.9/site-packages/sbi/utils/user_input_checks.py\", line 499, in pytorch_simulator\n",
      "    return torch.as_tensor(simulator(theta), dtype=float32)\n",
      "  File \"/tmp/ipykernel_34289/2469422395.py\", line 10, in simulator\n",
      "  File \"/tmp/ipykernel_34289/1841306140.py\", line 8, in _stdpsd_2psmfs\n",
      "  File \"/data/rajlab1/user_data/jin/MyResearch/SBI-SGM/mypkg/features/psm.py\", line 24, in obt_psm_fs\n",
      "    fm.fit(freqs, sm_psd, freq_range)\n",
      "  File \"/home/hujin/.local/lib/python3.9/site-packages/fooof/objs/fit.py\", line 442, in fit\n",
      "    self.gaussian_params_ = self._fit_peaks(np.copy(self._spectrum_flat))\n",
      "  File \"/home/hujin/.local/lib/python3.9/site-packages/fooof/objs/fit.py\", line 876, in _fit_peaks\n",
      "    gaussian_params = self._fit_peak_guess(guess)\n",
      "  File \"/home/hujin/.local/lib/python3.9/site-packages/fooof/objs/fit.py\", line 926, in _fit_peak_guess\n",
      "    gaussian_params, _ = curve_fit(gaussian_function, self.freqs, self._spectrum_flat,\n",
      "  File \"/opt/conda/lib/python3.9/site-packages/scipy/optimize/minpack.py\", line 800, in curve_fit\n",
      "    res = least_squares(func, p0, jac=jac, bounds=bounds, method=method,\n",
      "  File \"/opt/conda/lib/python3.9/site-packages/scipy/optimize/_lsq/least_squares.py\", line 928, in least_squares\n",
      "    result = trf(fun_wrapped, jac_wrapped, x0, f0, J0, lb, ub, ftol, xtol,\n",
      "  File \"/opt/conda/lib/python3.9/site-packages/scipy/optimize/_lsq/trf.py\", line 123, in trf\n",
      "    return trf_bounds(\n",
      "  File \"/opt/conda/lib/python3.9/site-packages/scipy/optimize/_lsq/trf.py\", line 374, in trf_bounds\n",
      "    J = jac(x, f)\n",
      "  File \"/opt/conda/lib/python3.9/site-packages/scipy/optimize/_lsq/least_squares.py\", line 886, in jac_wrapped\n",
      "    J = approx_derivative(fun, x, rel_step=diff_step, method=jac,\n",
      "  File \"/opt/conda/lib/python3.9/site-packages/scipy/optimize/_numdiff.py\", line 462, in approx_derivative\n",
      "    h = _compute_absolute_step(rel_step, x0, f0, method)\n",
      "  File \"/opt/conda/lib/python3.9/site-packages/scipy/optimize/_numdiff.py\", line 172, in _compute_absolute_step\n",
      "    return rel_step * sign_x0 * np.maximum(1.0, np.abs(x0))\n",
      "KeyboardInterrupt\n",
      "\n",
      "The above exception was the direct cause of the following exception:\n",
      "\n",
      "Traceback (most recent call last):\n",
      "  File \"/opt/conda/lib/python3.9/site-packages/joblib/externals/loky/process_executor.py\", line 436, in _process_worker\n",
      "    r = call_item()\n",
      "  File \"/opt/conda/lib/python3.9/site-packages/joblib/externals/loky/process_executor.py\", line 288, in __call__\n",
      "    return self.fn(*self.args, **self.kwargs)\n",
      "  File \"/opt/conda/lib/python3.9/site-packages/joblib/_parallel_backends.py\", line 600, in __call__\n",
      "    raise WorkerInterrupt() from e\n",
      "joblib.my_exceptions.WorkerInterrupt\n",
      "\n",
      "During handling of the above exception, another exception occurred:\n",
      "\n",
      "Traceback (most recent call last):\n",
      "  File \"/opt/conda/lib/python3.9/multiprocessing/process.py\", line 315, in _bootstrap\n",
      "    self.run()\n",
      "  File \"/opt/conda/lib/python3.9/multiprocessing/process.py\", line 108, in run\n",
      "    self._target(*self._args, **self._kwargs)\n",
      "  File \"/opt/conda/lib/python3.9/site-packages/joblib/externals/loky/process_executor.py\", line 439, in _process_worker\n",
      "    result_queue.put(_ResultItem(call_item.work_id, exception=exc))\n",
      "  File \"/opt/conda/lib/python3.9/site-packages/joblib/externals/loky/backend/queues.py\", line 246, in put\n",
      "    with self._wlock:\n",
      "  File \"/opt/conda/lib/python3.9/site-packages/joblib/externals/loky/backend/synchronize.py\", line 110, in __enter__\n",
      "    return self._semlock.acquire()\n",
      "KeyboardInterrupt\n",
      "  File \"/home/hujin/.local/lib/python3.9/site-packages/sbi/utils/user_input_checks.py\", line 534, in batch_loop_simulator\n",
      "    xs = list(map(simulator, theta))\n",
      "  File \"/home/hujin/.local/lib/python3.9/site-packages/sbi/utils/user_input_checks.py\", line 499, in pytorch_simulator\n",
      "    return torch.as_tensor(simulator(theta), dtype=float32)\n",
      "  File \"/tmp/ipykernel_34289/2469422395.py\", line 10, in simulator\n",
      "  File \"/tmp/ipykernel_34289/1841306140.py\", line 8, in _stdpsd_2psmfs\n",
      "  File \"/data/rajlab1/user_data/jin/MyResearch/SBI-SGM/mypkg/features/psm.py\", line 24, in obt_psm_fs\n",
      "    fm.fit(freqs, sm_psd, freq_range)\n",
      "  File \"/home/hujin/.local/lib/python3.9/site-packages/fooof/objs/fit.py\", line 442, in fit\n",
      "    self.gaussian_params_ = self._fit_peaks(np.copy(self._spectrum_flat))\n",
      "  File \"/home/hujin/.local/lib/python3.9/site-packages/fooof/objs/fit.py\", line 876, in _fit_peaks\n",
      "    gaussian_params = self._fit_peak_guess(guess)\n",
      "  File \"/home/hujin/.local/lib/python3.9/site-packages/fooof/objs/fit.py\", line 926, in _fit_peak_guess\n",
      "    gaussian_params, _ = curve_fit(gaussian_function, self.freqs, self._spectrum_flat,\n",
      "  File \"/opt/conda/lib/python3.9/site-packages/scipy/optimize/minpack.py\", line 800, in curve_fit\n",
      "    res = least_squares(func, p0, jac=jac, bounds=bounds, method=method,\n",
      "  File \"/opt/conda/lib/python3.9/site-packages/scipy/optimize/_lsq/least_squares.py\", line 928, in least_squares\n",
      "    result = trf(fun_wrapped, jac_wrapped, x0, f0, J0, lb, ub, ftol, xtol,\n",
      "  File \"/opt/conda/lib/python3.9/site-packages/scipy/optimize/_lsq/trf.py\", line 123, in trf\n",
      "    return trf_bounds(\n",
      "  File \"/opt/conda/lib/python3.9/site-packages/scipy/optimize/_lsq/trf.py\", line 374, in trf_bounds\n",
      "    J = jac(x, f)\n",
      "  File \"/opt/conda/lib/python3.9/site-packages/scipy/optimize/_lsq/least_squares.py\", line 886, in jac_wrapped\n",
      "    J = approx_derivative(fun, x, rel_step=diff_step, method=jac,\n",
      "  File \"/opt/conda/lib/python3.9/site-packages/scipy/optimize/_numdiff.py\", line 486, in approx_derivative\n",
      "    return _dense_difference(fun_wrapped, x0, f0, h,\n",
      "  File \"/opt/conda/lib/python3.9/site-packages/scipy/optimize/_numdiff.py\", line 557, in _dense_difference\n",
      "    df = fun(x) - f0\n",
      "  File \"/opt/conda/lib/python3.9/site-packages/scipy/optimize/_numdiff.py\", line 437, in fun_wrapped\n",
      "    f = np.atleast_1d(fun(x, *args, **kwargs))\n",
      "  File \"/opt/conda/lib/python3.9/site-packages/scipy/optimize/minpack.py\", line 485, in func_wrapped\n",
      "    return func(xdata, *params) - ydata\n",
      "  File \"/home/hujin/.local/lib/python3.9/site-packages/fooof/core/funcs.py\", line 33, in gaussian_function\n",
      "    ys = np.zeros_like(xs)\n",
      "  File \"<__array_function__ internals>\", line 180, in zeros_like\n",
      "  File \"/opt/conda/lib/python3.9/site-packages/numpy/core/numeric.py\", line 138, in zeros_like\n",
      "    res = empty_like(a, dtype=dtype, order=order, subok=subok, shape=shape)\n",
      "  File \"<__array_function__ internals>\", line 179, in empty_like\n",
      "KeyboardInterrupt\n",
      "\n",
      "The above exception was the direct cause of the following exception:\n",
      "\n",
      "Traceback (most recent call last):\n",
      "  File \"/opt/conda/lib/python3.9/site-packages/joblib/externals/loky/process_executor.py\", line 436, in _process_worker\n",
      "    r = call_item()\n",
      "  File \"/opt/conda/lib/python3.9/site-packages/joblib/externals/loky/process_executor.py\", line 288, in __call__\n",
      "    return self.fn(*self.args, **self.kwargs)\n",
      "  File \"/opt/conda/lib/python3.9/site-packages/joblib/_parallel_backends.py\", line 600, in __call__\n",
      "    raise WorkerInterrupt() from e\n",
      "joblib.my_exceptions.WorkerInterrupt\n",
      "\n",
      "During handling of the above exception, another exception occurred:\n",
      "\n",
      "Traceback (most recent call last):\n",
      "  File \"/opt/conda/lib/python3.9/multiprocessing/process.py\", line 315, in _bootstrap\n",
      "    self.run()\n",
      "  File \"/opt/conda/lib/python3.9/multiprocessing/process.py\", line 108, in run\n",
      "    self._target(*self._args, **self._kwargs)\n",
      "  File \"/opt/conda/lib/python3.9/site-packages/joblib/externals/loky/process_executor.py\", line 439, in _process_worker\n",
      "    result_queue.put(_ResultItem(call_item.work_id, exception=exc))\n",
      "  File \"/opt/conda/lib/python3.9/site-packages/joblib/externals/loky/backend/queues.py\", line 246, in put\n",
      "    with self._wlock:\n",
      "  File \"/opt/conda/lib/python3.9/site-packages/joblib/externals/loky/backend/synchronize.py\", line 110, in __enter__\n",
      "    return self._semlock.acquire()\n",
      "KeyboardInterrupt\n",
      "Process LokyProcess-2:\n",
      "Traceback (most recent call last):\n",
      "  File \"/opt/conda/lib/python3.9/site-packages/joblib/_parallel_backends.py\", line 595, in __call__\n",
      "    return self.func(*args, **kwargs)\n",
      "  File \"/opt/conda/lib/python3.9/site-packages/joblib/parallel.py\", line 262, in __call__\n",
      "    return [func(*args, **kwargs)\n",
      "  File \"/opt/conda/lib/python3.9/site-packages/joblib/parallel.py\", line 262, in <listcomp>\n",
      "    return [func(*args, **kwargs)\n",
      "  File \"/home/hujin/.local/lib/python3.9/site-packages/sbi/utils/user_input_checks.py\", line 534, in batch_loop_simulator\n",
      "    xs = list(map(simulator, theta))\n",
      "  File \"/home/hujin/.local/lib/python3.9/site-packages/sbi/utils/user_input_checks.py\", line 499, in pytorch_simulator\n",
      "    return torch.as_tensor(simulator(theta), dtype=float32)\n",
      "  File \"/tmp/ipykernel_34289/2469422395.py\", line 10, in simulator\n",
      "  File \"/tmp/ipykernel_34289/1841306140.py\", line 8, in _stdpsd_2psmfs\n",
      "  File \"/data/rajlab1/user_data/jin/MyResearch/SBI-SGM/mypkg/features/psm.py\", line 24, in obt_psm_fs\n",
      "    fm.fit(freqs, sm_psd, freq_range)\n",
      "  File \"/home/hujin/.local/lib/python3.9/site-packages/fooof/objs/fit.py\", line 442, in fit\n",
      "    self.gaussian_params_ = self._fit_peaks(np.copy(self._spectrum_flat))\n",
      "  File \"/home/hujin/.local/lib/python3.9/site-packages/fooof/objs/fit.py\", line 876, in _fit_peaks\n",
      "    gaussian_params = self._fit_peak_guess(guess)\n",
      "  File \"/home/hujin/.local/lib/python3.9/site-packages/fooof/objs/fit.py\", line 926, in _fit_peak_guess\n",
      "    gaussian_params, _ = curve_fit(gaussian_function, self.freqs, self._spectrum_flat,\n",
      "  File \"/opt/conda/lib/python3.9/site-packages/scipy/optimize/minpack.py\", line 800, in curve_fit\n",
      "    res = least_squares(func, p0, jac=jac, bounds=bounds, method=method,\n",
      "  File \"/opt/conda/lib/python3.9/site-packages/scipy/optimize/_lsq/least_squares.py\", line 928, in least_squares\n",
      "    result = trf(fun_wrapped, jac_wrapped, x0, f0, J0, lb, ub, ftol, xtol,\n",
      "  File \"/opt/conda/lib/python3.9/site-packages/scipy/optimize/_lsq/trf.py\", line 123, in trf\n",
      "    return trf_bounds(\n",
      "  File \"/opt/conda/lib/python3.9/site-packages/scipy/optimize/_lsq/trf.py\", line 374, in trf_bounds\n",
      "    J = jac(x, f)\n",
      "  File \"/opt/conda/lib/python3.9/site-packages/scipy/optimize/_lsq/least_squares.py\", line 886, in jac_wrapped\n",
      "    J = approx_derivative(fun, x, rel_step=diff_step, method=jac,\n",
      "  File \"/opt/conda/lib/python3.9/site-packages/scipy/optimize/_numdiff.py\", line 486, in approx_derivative\n",
      "    return _dense_difference(fun_wrapped, x0, f0, h,\n",
      "  File \"/opt/conda/lib/python3.9/site-packages/scipy/optimize/_numdiff.py\", line 557, in _dense_difference\n",
      "    df = fun(x) - f0\n",
      "  File \"/opt/conda/lib/python3.9/site-packages/scipy/optimize/_numdiff.py\", line 437, in fun_wrapped\n",
      "    f = np.atleast_1d(fun(x, *args, **kwargs))\n",
      "  File \"/opt/conda/lib/python3.9/site-packages/scipy/optimize/minpack.py\", line 485, in func_wrapped\n",
      "    return func(xdata, *params) - ydata\n",
      "  File \"/home/hujin/.local/lib/python3.9/site-packages/fooof/core/funcs.py\", line 33, in gaussian_function\n",
      "    ys = np.zeros_like(xs)\n",
      "  File \"<__array_function__ internals>\", line 180, in zeros_like\n",
      "  File \"/opt/conda/lib/python3.9/site-packages/numpy/core/numeric.py\", line 138, in zeros_like\n",
      "    res = empty_like(a, dtype=dtype, order=order, subok=subok, shape=shape)\n",
      "  File \"<__array_function__ internals>\", line 179, in empty_like\n",
      "  File \"/opt/conda/lib/python3.9/site-packages/numpy/core/multiarray.py\", line 80, in empty_like\n",
      "    @array_function_from_c_func_and_dispatcher(_multiarray_umath.empty_like)\n",
      "KeyboardInterrupt\n",
      "\n",
      "The above exception was the direct cause of the following exception:\n",
      "\n",
      "Traceback (most recent call last):\n",
      "  File \"/opt/conda/lib/python3.9/site-packages/joblib/externals/loky/process_executor.py\", line 436, in _process_worker\n",
      "    r = call_item()\n",
      "  File \"/opt/conda/lib/python3.9/site-packages/joblib/externals/loky/process_executor.py\", line 288, in __call__\n",
      "    return self.fn(*self.args, **self.kwargs)\n",
      "  File \"/opt/conda/lib/python3.9/site-packages/joblib/_parallel_backends.py\", line 600, in __call__\n",
      "    raise WorkerInterrupt() from e\n",
      "joblib.my_exceptions.WorkerInterrupt\n",
      "\n",
      "During handling of the above exception, another exception occurred:\n",
      "\n",
      "Traceback (most recent call last):\n",
      "  File \"/opt/conda/lib/python3.9/multiprocessing/process.py\", line 315, in _bootstrap\n",
      "    self.run()\n",
      "  File \"/opt/conda/lib/python3.9/multiprocessing/process.py\", line 108, in run\n",
      "    self._target(*self._args, **self._kwargs)\n",
      "  File \"/opt/conda/lib/python3.9/site-packages/joblib/externals/loky/process_executor.py\", line 438, in _process_worker\n",
      "    exc = _ExceptionWithTraceback(e)\n",
      "  File \"/opt/conda/lib/python3.9/site-packages/joblib/externals/loky/process_executor.py\", line 242, in __init__\n",
      "    tb = traceback.format_exception(type(exc), exc, tb)\n",
      "  File \"/opt/conda/lib/python3.9/traceback.py\", line 120, in format_exception\n",
      "    return list(TracebackException(\n",
      "  File \"/opt/conda/lib/python3.9/traceback.py\", line 533, in __init__\n",
      "    self._load_lines()\n",
      "  File \"/opt/conda/lib/python3.9/traceback.py\", line 547, in _load_lines\n",
      "    self.__cause__._load_lines()\n",
      "  File \"/opt/conda/lib/python3.9/traceback.py\", line 543, in _load_lines\n",
      "    frame.line\n",
      "  File \"/opt/conda/lib/python3.9/traceback.py\", line 288, in line\n",
      "    self._line = linecache.getline(self.filename, self.lineno).strip()\n",
      "  File \"/opt/conda/lib/python3.9/linecache.py\", line 30, in getline\n",
      "    lines = getlines(filename, module_globals)\n",
      "  File \"/opt/conda/lib/python3.9/linecache.py\", line 46, in getlines\n",
      "    return updatecache(filename, module_globals)\n",
      "  File \"/opt/conda/lib/python3.9/linecache.py\", line 136, in updatecache\n",
      "    with tokenize.open(fullname) as fp:\n",
      "  File \"/opt/conda/lib/python3.9/tokenize.py\", line 394, in open\n",
      "    encoding, lines = detect_encoding(buffer.readline)\n",
      "  File \"/opt/conda/lib/python3.9/tokenize.py\", line 363, in detect_encoding\n",
      "    first = read_or_stop()\n",
      "  File \"/opt/conda/lib/python3.9/tokenize.py\", line 321, in read_or_stop\n",
      "    return readline()\n",
      "KeyboardInterrupt\n"
     ]
    },
    {
     "ename": "KeyboardInterrupt",
     "evalue": "",
     "output_type": "error",
     "traceback": [
      "\u001b[0;31m---------------------------------------------------------------------------\u001b[0m",
      "\u001b[0;31mKeyboardInterrupt\u001b[0m                         Traceback (most recent call last)",
      "\u001b[0;32m/opt/conda/lib/python3.9/site-packages/joblib/parallel.py\u001b[0m in \u001b[0;36mretrieve\u001b[0;34m(self)\u001b[0m\n\u001b[1;32m    934\u001b[0m                 \u001b[0;32mif\u001b[0m \u001b[0mgetattr\u001b[0m\u001b[0;34m(\u001b[0m\u001b[0mself\u001b[0m\u001b[0;34m.\u001b[0m\u001b[0m_backend\u001b[0m\u001b[0;34m,\u001b[0m \u001b[0;34m'supports_timeout'\u001b[0m\u001b[0;34m,\u001b[0m \u001b[0;32mFalse\u001b[0m\u001b[0;34m)\u001b[0m\u001b[0;34m:\u001b[0m\u001b[0;34m\u001b[0m\u001b[0;34m\u001b[0m\u001b[0m\n\u001b[0;32m--> 935\u001b[0;31m                     \u001b[0mself\u001b[0m\u001b[0;34m.\u001b[0m\u001b[0m_output\u001b[0m\u001b[0;34m.\u001b[0m\u001b[0mextend\u001b[0m\u001b[0;34m(\u001b[0m\u001b[0mjob\u001b[0m\u001b[0;34m.\u001b[0m\u001b[0mget\u001b[0m\u001b[0;34m(\u001b[0m\u001b[0mtimeout\u001b[0m\u001b[0;34m=\u001b[0m\u001b[0mself\u001b[0m\u001b[0;34m.\u001b[0m\u001b[0mtimeout\u001b[0m\u001b[0;34m)\u001b[0m\u001b[0;34m)\u001b[0m\u001b[0;34m\u001b[0m\u001b[0;34m\u001b[0m\u001b[0m\n\u001b[0m\u001b[1;32m    936\u001b[0m                 \u001b[0;32melse\u001b[0m\u001b[0;34m:\u001b[0m\u001b[0;34m\u001b[0m\u001b[0;34m\u001b[0m\u001b[0m\n",
      "\u001b[0;32m/opt/conda/lib/python3.9/site-packages/joblib/_parallel_backends.py\u001b[0m in \u001b[0;36mwrap_future_result\u001b[0;34m(future, timeout)\u001b[0m\n\u001b[1;32m    541\u001b[0m         \u001b[0;32mtry\u001b[0m\u001b[0;34m:\u001b[0m\u001b[0;34m\u001b[0m\u001b[0;34m\u001b[0m\u001b[0m\n\u001b[0;32m--> 542\u001b[0;31m             \u001b[0;32mreturn\u001b[0m \u001b[0mfuture\u001b[0m\u001b[0;34m.\u001b[0m\u001b[0mresult\u001b[0m\u001b[0;34m(\u001b[0m\u001b[0mtimeout\u001b[0m\u001b[0;34m=\u001b[0m\u001b[0mtimeout\u001b[0m\u001b[0;34m)\u001b[0m\u001b[0;34m\u001b[0m\u001b[0;34m\u001b[0m\u001b[0m\n\u001b[0m\u001b[1;32m    543\u001b[0m         \u001b[0;32mexcept\u001b[0m \u001b[0mCfTimeoutError\u001b[0m \u001b[0;32mas\u001b[0m \u001b[0me\u001b[0m\u001b[0;34m:\u001b[0m\u001b[0;34m\u001b[0m\u001b[0;34m\u001b[0m\u001b[0m\n",
      "\u001b[0;32m/opt/conda/lib/python3.9/concurrent/futures/_base.py\u001b[0m in \u001b[0;36mresult\u001b[0;34m(self, timeout)\u001b[0m\n\u001b[1;32m    439\u001b[0m \u001b[0;34m\u001b[0m\u001b[0m\n\u001b[0;32m--> 440\u001b[0;31m                 \u001b[0mself\u001b[0m\u001b[0;34m.\u001b[0m\u001b[0m_condition\u001b[0m\u001b[0;34m.\u001b[0m\u001b[0mwait\u001b[0m\u001b[0;34m(\u001b[0m\u001b[0mtimeout\u001b[0m\u001b[0;34m)\u001b[0m\u001b[0;34m\u001b[0m\u001b[0;34m\u001b[0m\u001b[0m\n\u001b[0m\u001b[1;32m    441\u001b[0m \u001b[0;34m\u001b[0m\u001b[0m\n",
      "\u001b[0;32m/opt/conda/lib/python3.9/threading.py\u001b[0m in \u001b[0;36mwait\u001b[0;34m(self, timeout)\u001b[0m\n\u001b[1;32m    311\u001b[0m             \u001b[0;32mif\u001b[0m \u001b[0mtimeout\u001b[0m \u001b[0;32mis\u001b[0m \u001b[0;32mNone\u001b[0m\u001b[0;34m:\u001b[0m\u001b[0;34m\u001b[0m\u001b[0;34m\u001b[0m\u001b[0m\n\u001b[0;32m--> 312\u001b[0;31m                 \u001b[0mwaiter\u001b[0m\u001b[0;34m.\u001b[0m\u001b[0macquire\u001b[0m\u001b[0;34m(\u001b[0m\u001b[0;34m)\u001b[0m\u001b[0;34m\u001b[0m\u001b[0;34m\u001b[0m\u001b[0m\n\u001b[0m\u001b[1;32m    313\u001b[0m                 \u001b[0mgotit\u001b[0m \u001b[0;34m=\u001b[0m \u001b[0;32mTrue\u001b[0m\u001b[0;34m\u001b[0m\u001b[0;34m\u001b[0m\u001b[0m\n",
      "\u001b[0;31mKeyboardInterrupt\u001b[0m: ",
      "\nDuring handling of the above exception, another exception occurred:\n",
      "\u001b[0;31mKeyboardInterrupt\u001b[0m                         Traceback (most recent call last)",
      "\u001b[0;32m/tmp/ipykernel_34289/2845018267.py\u001b[0m in \u001b[0;36m<module>\u001b[0;34m\u001b[0m\n\u001b[1;32m     43\u001b[0m     \u001b[0mproposal\u001b[0m \u001b[0;34m=\u001b[0m \u001b[0mprior\u001b[0m\u001b[0;34m\u001b[0m\u001b[0;34m\u001b[0m\u001b[0m\n\u001b[1;32m     44\u001b[0m     \u001b[0;32mfor\u001b[0m \u001b[0m_\u001b[0m \u001b[0;32min\u001b[0m \u001b[0mrange\u001b[0m\u001b[0;34m(\u001b[0m\u001b[0mparas\u001b[0m\u001b[0;34m.\u001b[0m\u001b[0mnum_round\u001b[0m\u001b[0;34m)\u001b[0m\u001b[0;34m:\u001b[0m\u001b[0;34m\u001b[0m\u001b[0;34m\u001b[0m\u001b[0m\n\u001b[0;32m---> 45\u001b[0;31m         theta, x = simulate_for_sbi(simulator_wrapper, proposal,\n\u001b[0m\u001b[1;32m     46\u001b[0m                                     \u001b[0mnum_simulations\u001b[0m\u001b[0;34m=\u001b[0m\u001b[0mparas\u001b[0m\u001b[0;34m.\u001b[0m\u001b[0mnum_prior_sps\u001b[0m\u001b[0;34m,\u001b[0m\u001b[0;34m\u001b[0m\u001b[0;34m\u001b[0m\u001b[0m\n\u001b[1;32m     47\u001b[0m                                     num_workers=50)\n",
      "\u001b[0;32m~/.local/lib/python3.9/site-packages/sbi/inference/base.py\u001b[0m in \u001b[0;36msimulate_for_sbi\u001b[0;34m(simulator, proposal, num_simulations, num_workers, simulation_batch_size, show_progress_bar)\u001b[0m\n\u001b[1;32m    493\u001b[0m     \u001b[0mtheta\u001b[0m \u001b[0;34m=\u001b[0m \u001b[0mproposal\u001b[0m\u001b[0;34m.\u001b[0m\u001b[0msample\u001b[0m\u001b[0;34m(\u001b[0m\u001b[0;34m(\u001b[0m\u001b[0mnum_simulations\u001b[0m\u001b[0;34m,\u001b[0m\u001b[0;34m)\u001b[0m\u001b[0;34m)\u001b[0m\u001b[0;34m\u001b[0m\u001b[0;34m\u001b[0m\u001b[0m\n\u001b[1;32m    494\u001b[0m \u001b[0;34m\u001b[0m\u001b[0m\n\u001b[0;32m--> 495\u001b[0;31m     x = simulate_in_batches(\n\u001b[0m\u001b[1;32m    496\u001b[0m         \u001b[0msimulator\u001b[0m\u001b[0;34m,\u001b[0m \u001b[0mtheta\u001b[0m\u001b[0;34m,\u001b[0m \u001b[0msimulation_batch_size\u001b[0m\u001b[0;34m,\u001b[0m \u001b[0mnum_workers\u001b[0m\u001b[0;34m,\u001b[0m \u001b[0mshow_progress_bar\u001b[0m\u001b[0;34m\u001b[0m\u001b[0;34m\u001b[0m\u001b[0m\n\u001b[1;32m    497\u001b[0m     )\n",
      "\u001b[0;32m~/.local/lib/python3.9/site-packages/sbi/simulators/simutils.py\u001b[0m in \u001b[0;36msimulate_in_batches\u001b[0;34m(simulator, theta, sim_batch_size, num_workers, show_progress_bars)\u001b[0m\n\u001b[1;32m     60\u001b[0m                 )\n\u001b[1;32m     61\u001b[0m             ) as progress_bar:\n\u001b[0;32m---> 62\u001b[0;31m                 simulation_outputs = Parallel(n_jobs=num_workers)(\n\u001b[0m\u001b[1;32m     63\u001b[0m                     \u001b[0mdelayed\u001b[0m\u001b[0;34m(\u001b[0m\u001b[0msimulator\u001b[0m\u001b[0;34m)\u001b[0m\u001b[0;34m(\u001b[0m\u001b[0mbatch\u001b[0m\u001b[0;34m)\u001b[0m \u001b[0;32mfor\u001b[0m \u001b[0mbatch\u001b[0m \u001b[0;32min\u001b[0m \u001b[0mbatches\u001b[0m\u001b[0;34m\u001b[0m\u001b[0;34m\u001b[0m\u001b[0m\n\u001b[1;32m     64\u001b[0m                 )\n",
      "\u001b[0;32m/opt/conda/lib/python3.9/site-packages/joblib/parallel.py\u001b[0m in \u001b[0;36m__call__\u001b[0;34m(self, iterable)\u001b[0m\n\u001b[1;32m   1054\u001b[0m \u001b[0;34m\u001b[0m\u001b[0m\n\u001b[1;32m   1055\u001b[0m             \u001b[0;32mwith\u001b[0m \u001b[0mself\u001b[0m\u001b[0;34m.\u001b[0m\u001b[0m_backend\u001b[0m\u001b[0;34m.\u001b[0m\u001b[0mretrieval_context\u001b[0m\u001b[0;34m(\u001b[0m\u001b[0;34m)\u001b[0m\u001b[0;34m:\u001b[0m\u001b[0;34m\u001b[0m\u001b[0;34m\u001b[0m\u001b[0m\n\u001b[0;32m-> 1056\u001b[0;31m                 \u001b[0mself\u001b[0m\u001b[0;34m.\u001b[0m\u001b[0mretrieve\u001b[0m\u001b[0;34m(\u001b[0m\u001b[0;34m)\u001b[0m\u001b[0;34m\u001b[0m\u001b[0;34m\u001b[0m\u001b[0m\n\u001b[0m\u001b[1;32m   1057\u001b[0m             \u001b[0;31m# Make sure that we get a last message telling us we are done\u001b[0m\u001b[0;34m\u001b[0m\u001b[0;34m\u001b[0m\u001b[0m\n\u001b[1;32m   1058\u001b[0m             \u001b[0melapsed_time\u001b[0m \u001b[0;34m=\u001b[0m \u001b[0mtime\u001b[0m\u001b[0;34m.\u001b[0m\u001b[0mtime\u001b[0m\u001b[0;34m(\u001b[0m\u001b[0;34m)\u001b[0m \u001b[0;34m-\u001b[0m \u001b[0mself\u001b[0m\u001b[0;34m.\u001b[0m\u001b[0m_start_time\u001b[0m\u001b[0;34m\u001b[0m\u001b[0;34m\u001b[0m\u001b[0m\n",
      "\u001b[0;32m/opt/conda/lib/python3.9/site-packages/joblib/parallel.py\u001b[0m in \u001b[0;36mretrieve\u001b[0;34m(self)\u001b[0m\n\u001b[1;32m    955\u001b[0m                     \u001b[0;31m# scheduling.\u001b[0m\u001b[0;34m\u001b[0m\u001b[0;34m\u001b[0m\u001b[0m\n\u001b[1;32m    956\u001b[0m                     \u001b[0mensure_ready\u001b[0m \u001b[0;34m=\u001b[0m \u001b[0mself\u001b[0m\u001b[0;34m.\u001b[0m\u001b[0m_managed_backend\u001b[0m\u001b[0;34m\u001b[0m\u001b[0;34m\u001b[0m\u001b[0m\n\u001b[0;32m--> 957\u001b[0;31m                     \u001b[0mbackend\u001b[0m\u001b[0;34m.\u001b[0m\u001b[0mabort_everything\u001b[0m\u001b[0;34m(\u001b[0m\u001b[0mensure_ready\u001b[0m\u001b[0;34m=\u001b[0m\u001b[0mensure_ready\u001b[0m\u001b[0;34m)\u001b[0m\u001b[0;34m\u001b[0m\u001b[0;34m\u001b[0m\u001b[0m\n\u001b[0m\u001b[1;32m    958\u001b[0m                 \u001b[0;32mraise\u001b[0m\u001b[0;34m\u001b[0m\u001b[0;34m\u001b[0m\u001b[0m\n\u001b[1;32m    959\u001b[0m \u001b[0;34m\u001b[0m\u001b[0m\n",
      "\u001b[0;32m/opt/conda/lib/python3.9/site-packages/joblib/_parallel_backends.py\u001b[0m in \u001b[0;36mabort_everything\u001b[0;34m(self, ensure_ready)\u001b[0m\n\u001b[1;32m    559\u001b[0m         \"\"\"Shutdown the workers and restart a new one with the same parameters\n\u001b[1;32m    560\u001b[0m         \"\"\"\n\u001b[0;32m--> 561\u001b[0;31m         \u001b[0mself\u001b[0m\u001b[0;34m.\u001b[0m\u001b[0m_workers\u001b[0m\u001b[0;34m.\u001b[0m\u001b[0mterminate\u001b[0m\u001b[0;34m(\u001b[0m\u001b[0mkill_workers\u001b[0m\u001b[0;34m=\u001b[0m\u001b[0;32mTrue\u001b[0m\u001b[0;34m)\u001b[0m\u001b[0;34m\u001b[0m\u001b[0;34m\u001b[0m\u001b[0m\n\u001b[0m\u001b[1;32m    562\u001b[0m         \u001b[0mself\u001b[0m\u001b[0;34m.\u001b[0m\u001b[0m_workers\u001b[0m \u001b[0;34m=\u001b[0m \u001b[0;32mNone\u001b[0m\u001b[0;34m\u001b[0m\u001b[0;34m\u001b[0m\u001b[0m\n\u001b[1;32m    563\u001b[0m \u001b[0;34m\u001b[0m\u001b[0m\n",
      "\u001b[0;32m/opt/conda/lib/python3.9/site-packages/joblib/executor.py\u001b[0m in \u001b[0;36mterminate\u001b[0;34m(self, kill_workers)\u001b[0m\n\u001b[1;32m     72\u001b[0m \u001b[0;34m\u001b[0m\u001b[0m\n\u001b[1;32m     73\u001b[0m     \u001b[0;32mdef\u001b[0m \u001b[0mterminate\u001b[0m\u001b[0;34m(\u001b[0m\u001b[0mself\u001b[0m\u001b[0;34m,\u001b[0m \u001b[0mkill_workers\u001b[0m\u001b[0;34m=\u001b[0m\u001b[0;32mFalse\u001b[0m\u001b[0;34m)\u001b[0m\u001b[0;34m:\u001b[0m\u001b[0;34m\u001b[0m\u001b[0;34m\u001b[0m\u001b[0m\n\u001b[0;32m---> 74\u001b[0;31m         \u001b[0mself\u001b[0m\u001b[0;34m.\u001b[0m\u001b[0mshutdown\u001b[0m\u001b[0;34m(\u001b[0m\u001b[0mkill_workers\u001b[0m\u001b[0;34m=\u001b[0m\u001b[0mkill_workers\u001b[0m\u001b[0;34m)\u001b[0m\u001b[0;34m\u001b[0m\u001b[0;34m\u001b[0m\u001b[0m\n\u001b[0m\u001b[1;32m     75\u001b[0m         \u001b[0;32mif\u001b[0m \u001b[0mkill_workers\u001b[0m\u001b[0;34m:\u001b[0m\u001b[0;34m\u001b[0m\u001b[0;34m\u001b[0m\u001b[0m\n\u001b[1;32m     76\u001b[0m             \u001b[0;31m# When workers are killed in such a brutal manner, they cannot\u001b[0m\u001b[0;34m\u001b[0m\u001b[0;34m\u001b[0m\u001b[0m\n",
      "\u001b[0;32m/opt/conda/lib/python3.9/site-packages/joblib/externals/loky/process_executor.py\u001b[0m in \u001b[0;36mshutdown\u001b[0;34m(self, wait, kill_workers)\u001b[0m\n\u001b[1;32m   1183\u001b[0m \u001b[0;34m\u001b[0m\u001b[0m\n\u001b[1;32m   1184\u001b[0m         \u001b[0;32mif\u001b[0m \u001b[0mexecutor_manager_thread\u001b[0m \u001b[0;32mis\u001b[0m \u001b[0;32mnot\u001b[0m \u001b[0;32mNone\u001b[0m \u001b[0;32mand\u001b[0m \u001b[0mwait\u001b[0m\u001b[0;34m:\u001b[0m\u001b[0;34m\u001b[0m\u001b[0;34m\u001b[0m\u001b[0m\n\u001b[0;32m-> 1185\u001b[0;31m             \u001b[0mexecutor_manager_thread\u001b[0m\u001b[0;34m.\u001b[0m\u001b[0mjoin\u001b[0m\u001b[0;34m(\u001b[0m\u001b[0;34m)\u001b[0m\u001b[0;34m\u001b[0m\u001b[0;34m\u001b[0m\u001b[0m\n\u001b[0m\u001b[1;32m   1186\u001b[0m \u001b[0;34m\u001b[0m\u001b[0m\n\u001b[1;32m   1187\u001b[0m         \u001b[0;31m# To reduce the risk of opening too many files, remove references to\u001b[0m\u001b[0;34m\u001b[0m\u001b[0;34m\u001b[0m\u001b[0m\n",
      "\u001b[0;32m/opt/conda/lib/python3.9/threading.py\u001b[0m in \u001b[0;36mjoin\u001b[0;34m(self, timeout)\u001b[0m\n\u001b[1;32m   1051\u001b[0m \u001b[0;34m\u001b[0m\u001b[0m\n\u001b[1;32m   1052\u001b[0m         \u001b[0;32mif\u001b[0m \u001b[0mtimeout\u001b[0m \u001b[0;32mis\u001b[0m \u001b[0;32mNone\u001b[0m\u001b[0;34m:\u001b[0m\u001b[0;34m\u001b[0m\u001b[0;34m\u001b[0m\u001b[0m\n\u001b[0;32m-> 1053\u001b[0;31m             \u001b[0mself\u001b[0m\u001b[0;34m.\u001b[0m\u001b[0m_wait_for_tstate_lock\u001b[0m\u001b[0;34m(\u001b[0m\u001b[0;34m)\u001b[0m\u001b[0;34m\u001b[0m\u001b[0;34m\u001b[0m\u001b[0m\n\u001b[0m\u001b[1;32m   1054\u001b[0m         \u001b[0;32melse\u001b[0m\u001b[0;34m:\u001b[0m\u001b[0;34m\u001b[0m\u001b[0;34m\u001b[0m\u001b[0m\n\u001b[1;32m   1055\u001b[0m             \u001b[0;31m# the behavior of a negative timeout isn't documented, but\u001b[0m\u001b[0;34m\u001b[0m\u001b[0;34m\u001b[0m\u001b[0m\n",
      "\u001b[0;32m/opt/conda/lib/python3.9/threading.py\u001b[0m in \u001b[0;36m_wait_for_tstate_lock\u001b[0;34m(self, block, timeout)\u001b[0m\n\u001b[1;32m   1067\u001b[0m         \u001b[0;32mif\u001b[0m \u001b[0mlock\u001b[0m \u001b[0;32mis\u001b[0m \u001b[0;32mNone\u001b[0m\u001b[0;34m:\u001b[0m  \u001b[0;31m# already determined that the C code is done\u001b[0m\u001b[0;34m\u001b[0m\u001b[0;34m\u001b[0m\u001b[0m\n\u001b[1;32m   1068\u001b[0m             \u001b[0;32massert\u001b[0m \u001b[0mself\u001b[0m\u001b[0;34m.\u001b[0m\u001b[0m_is_stopped\u001b[0m\u001b[0;34m\u001b[0m\u001b[0;34m\u001b[0m\u001b[0m\n\u001b[0;32m-> 1069\u001b[0;31m         \u001b[0;32melif\u001b[0m \u001b[0mlock\u001b[0m\u001b[0;34m.\u001b[0m\u001b[0macquire\u001b[0m\u001b[0;34m(\u001b[0m\u001b[0mblock\u001b[0m\u001b[0;34m,\u001b[0m \u001b[0mtimeout\u001b[0m\u001b[0;34m)\u001b[0m\u001b[0;34m:\u001b[0m\u001b[0;34m\u001b[0m\u001b[0;34m\u001b[0m\u001b[0m\n\u001b[0m\u001b[1;32m   1070\u001b[0m             \u001b[0mlock\u001b[0m\u001b[0;34m.\u001b[0m\u001b[0mrelease\u001b[0m\u001b[0;34m(\u001b[0m\u001b[0;34m)\u001b[0m\u001b[0;34m\u001b[0m\u001b[0;34m\u001b[0m\u001b[0m\n\u001b[1;32m   1071\u001b[0m             \u001b[0mself\u001b[0m\u001b[0;34m.\u001b[0m\u001b[0m_stop\u001b[0m\u001b[0;34m(\u001b[0m\u001b[0;34m)\u001b[0m\u001b[0;34m\u001b[0m\u001b[0;34m\u001b[0m\u001b[0m\n",
      "\u001b[0;31mKeyboardInterrupt\u001b[0m: "
     ]
    }
   ],
   "source": [
    "# obtain the brain\n",
    "for ix in range(0, ind_psd.shape[-1]):\n",
    "    curC = ind_conn[:, :, ix]\n",
    "    curBrain = Brain.Brain()\n",
    "    curBrain.add_connectome(DAT_ROOT) # grabs distance matrix\n",
    "    # re-ordering for DK atlas and normalizing the connectomes:\n",
    "    curBrain.reorder_connectome(curBrain.connectome, curBrain.distance_matrix)\n",
    "    curBrain.connectome = curC# re-assign connectome to individual connectome\n",
    "    curBrain.bi_symmetric_c()\n",
    "    curBrain.reduce_extreme_dir()\n",
    "        \n",
    "    # the simulator\n",
    "    sgmmodel = SGM(curBrain.reducedConnectome, curBrain.distance_matrix, FREQS)\n",
    "    simulator_sp = partial(simulator,  \n",
    "                           noise_sd=paras.noise_sd, \n",
    "                           sgmmodel=sgmmodel)\n",
    "    # make a SBI-wrapper on the simulator object for compatibility\n",
    "    simulator_wrapper, prior = prepare_for_sbi(simulator_sp, prior)\n",
    "    \n",
    "    # the observed data\n",
    "    sp, raw_sps = meg_psd2spatialfeature(curBrain.reducedConnectome, \n",
    "                                         ind_psd[:, :, ix], FREQS, \n",
    "                                         band=\"alpha\")\n",
    "    std_spv = stdz_vec(raw_sps.sum(axis=1))\n",
    "    std_psd_DB = psd_2tr(ind_psd[:, :, ix])\n",
    "    psm_fs = _stdpsd_2psmfs(std_psd_DB)\n",
    "    psd_mean_fs = stdz_vec(std_psd_DB.mean(axis=0)) # mean PSD, 40 dim\n",
    "    \n",
    "    curX_raw = np.concatenate([psm_fs, psd_mean_fs, std_spv])\n",
    "    curX = torch.Tensor(curX_raw)\n",
    "\n",
    "\n",
    "    if paras.is_embed:\n",
    "        # embedding net\n",
    "        cur_embedding_net = SummaryNet(num_in_fs=516)\n",
    "        cur_den_est = sutils.posterior_nn(\n",
    "        model=paras.den_est, embedding_net=cur_embedding_net)\n",
    "        #for ix in embedding_net.parameters():\n",
    "        #    print(ix.sum(), ix.shape)\n",
    "    else:\n",
    "        cur_den_est = paras.den_est\n",
    "    \n",
    "    inference = SNPE(prior=prior, \n",
    "                     density_estimator=cur_den_est)\n",
    "    proposal = prior \n",
    "    for _ in range(paras.num_round):\n",
    "        theta, x = simulate_for_sbi(simulator_wrapper, proposal,\n",
    "                                    num_simulations=paras.num_prior_sps, \n",
    "                                    num_workers=50)\n",
    "        theta, x = _remove_nopeak(theta, x) # remove some samples\n",
    "        density_estimator = inference.append_simulations(\n",
    "                            theta, x, proposal=proposal\n",
    "                            ).train()\n",
    "        posterior = inference.build_posterior(density_estimator)\n",
    "        \n",
    "        \n",
    "        #update proposal \n",
    "        proposal = posterior.set_default_x(curX)\n",
    "        \n",
    "    cur_res[f\"posterior_{ix+1}\"] = posterior\n",
    "    cur_res[f\"posteriorfix_{ix+1}\"] = proposal\n",
    "    if paras.is_embed:\n",
    "        cur_res[f\"embedding_net_{ix+1}\"] = cur_embedding_net\n",
    "    save_pkl_dict2folder(_paras.folder_path, cur_res)"
   ]
  },
  {
   "cell_type": "code",
   "execution_count": null,
   "id": "612be298",
   "metadata": {},
   "outputs": [],
   "source": []
  },
  {
   "cell_type": "markdown",
   "id": "a760e52d",
   "metadata": {},
   "source": [
    "#### Get posterior"
   ]
  },
  {
   "cell_type": "code",
   "execution_count": 97,
   "id": "6b548503",
   "metadata": {
    "ExecuteTime": {
     "end_time": "2022-10-18T23:58:29.725213Z",
     "start_time": "2022-10-18T23:58:29.674680Z"
    }
   },
   "outputs": [
    {
     "name": "stdout",
     "output_type": "stream",
     "text": [
      "Load file /data/rajlab1/user_data/jin/MyResearch/SGMBAY/mypkg/../results/fooofgeneralNoise_10000_sd15_denestnsf/theta.pkl\n",
      "Load file /data/rajlab1/user_data/jin/MyResearch/SGMBAY/mypkg/../results/fooofgeneralNoise_10000_sd15_denestnsf/x.pkl\n",
      "Load file /data/rajlab1/user_data/jin/MyResearch/SGMBAY/mypkg/../results/fooofgeneralNoise_10000_sd15_denestnsf/posterior.pkl\n"
     ]
    }
   ],
   "source": [
    "cur_res = load_pkl_folder2dict(_paras.folder_path)"
   ]
  },
  {
   "cell_type": "code",
   "execution_count": 48,
   "id": "88174c4a",
   "metadata": {
    "ExecuteTime": {
     "end_time": "2022-10-21T02:48:04.109997Z",
     "start_time": "2022-10-21T02:48:02.951982Z"
    },
    "scrolled": true
   },
   "outputs": [
    {
     "data": {
      "application/vnd.jupyter.widget-view+json": {
       "model_id": "cae24e723e9943df8d88880d14e42491",
       "version_major": 2,
       "version_minor": 0
      },
      "text/plain": [
       "Drawing 10000 posterior samples:   0%|          | 0/10000 [00:00<?, ?it/s]"
      ]
     },
     "metadata": {},
     "output_type": "display_data"
    },
    {
     "data": {
      "application/vnd.jupyter.widget-view+json": {
       "model_id": "4b09168a8c5a4ee59475786266ef792a",
       "version_major": 2,
       "version_minor": 0
      },
      "text/plain": [
       "Drawing 10000 posterior samples:   0%|          | 0/10000 [00:00<?, ?it/s]"
      ]
     },
     "metadata": {},
     "output_type": "display_data"
    },
    {
     "data": {
      "application/vnd.jupyter.widget-view+json": {
       "model_id": "d5afcdebefd544c6ba89485b093c7ed2",
       "version_major": 2,
       "version_minor": 0
      },
      "text/plain": [
       "Drawing 10000 posterior samples:   0%|          | 0/10000 [00:00<?, ?it/s]"
      ]
     },
     "metadata": {},
     "output_type": "display_data"
    },
    {
     "data": {
      "application/vnd.jupyter.widget-view+json": {
       "model_id": "cfd254e314d64abcb5d2871ec62cd2a8",
       "version_major": 2,
       "version_minor": 0
      },
      "text/plain": [
       "Drawing 10000 posterior samples:   0%|          | 0/10000 [00:00<?, ?it/s]"
      ]
     },
     "metadata": {},
     "output_type": "display_data"
    },
    {
     "data": {
      "application/vnd.jupyter.widget-view+json": {
       "model_id": "cbaa7db565854909b6db05ca4b1aed27",
       "version_major": 2,
       "version_minor": 0
      },
      "text/plain": [
       "Drawing 10000 posterior samples:   0%|          | 0/10000 [00:00<?, ?it/s]"
      ]
     },
     "metadata": {},
     "output_type": "display_data"
    },
    {
     "data": {
      "application/vnd.jupyter.widget-view+json": {
       "model_id": "bf0e2db2045147e9856b74762407ab47",
       "version_major": 2,
       "version_minor": 0
      },
      "text/plain": [
       "Drawing 10000 posterior samples:   0%|          | 0/10000 [00:00<?, ?it/s]"
      ]
     },
     "metadata": {},
     "output_type": "display_data"
    },
    {
     "data": {
      "application/vnd.jupyter.widget-view+json": {
       "model_id": "be6f74cb29da458395420bd65a0d70dd",
       "version_major": 2,
       "version_minor": 0
      },
      "text/plain": [
       "Drawing 10000 posterior samples:   0%|          | 0/10000 [00:00<?, ?it/s]"
      ]
     },
     "metadata": {},
     "output_type": "display_data"
    },
    {
     "data": {
      "application/vnd.jupyter.widget-view+json": {
       "model_id": "9cf597bcf4f84f9b98adc493a5c8131e",
       "version_major": 2,
       "version_minor": 0
      },
      "text/plain": [
       "Drawing 10000 posterior samples:   0%|          | 0/10000 [00:00<?, ?it/s]"
      ]
     },
     "metadata": {},
     "output_type": "display_data"
    },
    {
     "data": {
      "application/vnd.jupyter.widget-view+json": {
       "model_id": "f8ae7b604e1a4507b4e0d062adcea3d6",
       "version_major": 2,
       "version_minor": 0
      },
      "text/plain": [
       "Drawing 10000 posterior samples:   0%|          | 0/10000 [00:00<?, ?it/s]"
      ]
     },
     "metadata": {},
     "output_type": "display_data"
    },
    {
     "data": {
      "application/vnd.jupyter.widget-view+json": {
       "model_id": "ae5d926cb76849c885cc357cfcb04d34",
       "version_major": 2,
       "version_minor": 0
      },
      "text/plain": [
       "Drawing 10000 posterior samples:   0%|          | 0/10000 [00:00<?, ?it/s]"
      ]
     },
     "metadata": {},
     "output_type": "display_data"
    },
    {
     "data": {
      "application/vnd.jupyter.widget-view+json": {
       "model_id": "dd2fc5602bd44d82b42babc9f975c4b5",
       "version_major": 2,
       "version_minor": 0
      },
      "text/plain": [
       "Drawing 10000 posterior samples:   0%|          | 0/10000 [00:00<?, ?it/s]"
      ]
     },
     "metadata": {},
     "output_type": "display_data"
    },
    {
     "data": {
      "application/vnd.jupyter.widget-view+json": {
       "model_id": "329f119320b4479b8f43c2dd51ac0e2c",
       "version_major": 2,
       "version_minor": 0
      },
      "text/plain": [
       "Drawing 10000 posterior samples:   0%|          | 0/10000 [00:00<?, ?it/s]"
      ]
     },
     "metadata": {},
     "output_type": "display_data"
    },
    {
     "data": {
      "application/vnd.jupyter.widget-view+json": {
       "model_id": "e01ca1b533054d368b8c52e17c68d636",
       "version_major": 2,
       "version_minor": 0
      },
      "text/plain": [
       "Drawing 10000 posterior samples:   0%|          | 0/10000 [00:00<?, ?it/s]"
      ]
     },
     "metadata": {},
     "output_type": "display_data"
    },
    {
     "data": {
      "application/vnd.jupyter.widget-view+json": {
       "model_id": "22231517070042de88c41ccb1a31b3d0",
       "version_major": 2,
       "version_minor": 0
      },
      "text/plain": [
       "Drawing 10000 posterior samples:   0%|          | 0/10000 [00:00<?, ?it/s]"
      ]
     },
     "metadata": {},
     "output_type": "display_data"
    },
    {
     "data": {
      "application/vnd.jupyter.widget-view+json": {
       "model_id": "6149c61165d142df9ab1dad12c2b4e40",
       "version_major": 2,
       "version_minor": 0
      },
      "text/plain": [
       "Drawing 10000 posterior samples:   0%|          | 0/10000 [00:00<?, ?it/s]"
      ]
     },
     "metadata": {},
     "output_type": "display_data"
    },
    {
     "data": {
      "application/vnd.jupyter.widget-view+json": {
       "model_id": "cd415784f07847aeb755a5953501d20b",
       "version_major": 2,
       "version_minor": 0
      },
      "text/plain": [
       "Drawing 10000 posterior samples:   0%|          | 0/10000 [00:00<?, ?it/s]"
      ]
     },
     "metadata": {},
     "output_type": "display_data"
    },
    {
     "data": {
      "application/vnd.jupyter.widget-view+json": {
       "model_id": "95b55ed4d1b84d1bb1bc48312d30b871",
       "version_major": 2,
       "version_minor": 0
      },
      "text/plain": [
       "Drawing 10000 posterior samples:   0%|          | 0/10000 [00:00<?, ?it/s]"
      ]
     },
     "metadata": {},
     "output_type": "display_data"
    },
    {
     "data": {
      "application/vnd.jupyter.widget-view+json": {
       "model_id": "cfcd3e4aa4b14021be6ca7d7a843b8b7",
       "version_major": 2,
       "version_minor": 0
      },
      "text/plain": [
       "Drawing 10000 posterior samples:   0%|          | 0/10000 [00:00<?, ?it/s]"
      ]
     },
     "metadata": {},
     "output_type": "display_data"
    },
    {
     "data": {
      "application/vnd.jupyter.widget-view+json": {
       "model_id": "36626cc5973742498fe03c4e859ff852",
       "version_major": 2,
       "version_minor": 0
      },
      "text/plain": [
       "Drawing 10000 posterior samples:   0%|          | 0/10000 [00:00<?, ?it/s]"
      ]
     },
     "metadata": {},
     "output_type": "display_data"
    },
    {
     "data": {
      "application/vnd.jupyter.widget-view+json": {
       "model_id": "7561d5cf567c405f9113b80ab2784006",
       "version_major": 2,
       "version_minor": 0
      },
      "text/plain": [
       "Drawing 10000 posterior samples:   0%|          | 0/10000 [00:00<?, ?it/s]"
      ]
     },
     "metadata": {},
     "output_type": "display_data"
    },
    {
     "data": {
      "application/vnd.jupyter.widget-view+json": {
       "model_id": "ead80e69d80d4520b8dff36526825e2d",
       "version_major": 2,
       "version_minor": 0
      },
      "text/plain": [
       "Drawing 10000 posterior samples:   0%|          | 0/10000 [00:00<?, ?it/s]"
      ]
     },
     "metadata": {},
     "output_type": "display_data"
    },
    {
     "data": {
      "application/vnd.jupyter.widget-view+json": {
       "model_id": "456bc93b7c96409595ed9597ebe02a8e",
       "version_major": 2,
       "version_minor": 0
      },
      "text/plain": [
       "Drawing 10000 posterior samples:   0%|          | 0/10000 [00:00<?, ?it/s]"
      ]
     },
     "metadata": {},
     "output_type": "display_data"
    },
    {
     "data": {
      "application/vnd.jupyter.widget-view+json": {
       "model_id": "8f687a961ac64ee6baec5a49b709f646",
       "version_major": 2,
       "version_minor": 0
      },
      "text/plain": [
       "Drawing 10000 posterior samples:   0%|          | 0/10000 [00:00<?, ?it/s]"
      ]
     },
     "metadata": {},
     "output_type": "display_data"
    },
    {
     "data": {
      "application/vnd.jupyter.widget-view+json": {
       "model_id": "3e0a7fbb208249928099c8ae58a3de44",
       "version_major": 2,
       "version_minor": 0
      },
      "text/plain": [
       "Drawing 10000 posterior samples:   0%|          | 0/10000 [00:00<?, ?it/s]"
      ]
     },
     "metadata": {},
     "output_type": "display_data"
    },
    {
     "data": {
      "application/vnd.jupyter.widget-view+json": {
       "model_id": "60b4e143377441729be01b60704a2469",
       "version_major": 2,
       "version_minor": 0
      },
      "text/plain": [
       "Drawing 10000 posterior samples:   0%|          | 0/10000 [00:00<?, ?it/s]"
      ]
     },
     "metadata": {},
     "output_type": "display_data"
    },
    {
     "data": {
      "application/vnd.jupyter.widget-view+json": {
       "model_id": "f67dd473d0a147c3a24cb9006852bf90",
       "version_major": 2,
       "version_minor": 0
      },
      "text/plain": [
       "Drawing 10000 posterior samples:   0%|          | 0/10000 [00:00<?, ?it/s]"
      ]
     },
     "metadata": {},
     "output_type": "display_data"
    },
    {
     "data": {
      "application/vnd.jupyter.widget-view+json": {
       "model_id": "6bbf1536dbc148df9eaeb7b6097ec246",
       "version_major": 2,
       "version_minor": 0
      },
      "text/plain": [
       "Drawing 10000 posterior samples:   0%|          | 0/10000 [00:00<?, ?it/s]"
      ]
     },
     "metadata": {},
     "output_type": "display_data"
    },
    {
     "data": {
      "application/vnd.jupyter.widget-view+json": {
       "model_id": "a7e9e4188bb1435384fde9271473824f",
       "version_major": 2,
       "version_minor": 0
      },
      "text/plain": [
       "Drawing 10000 posterior samples:   0%|          | 0/10000 [00:00<?, ?it/s]"
      ]
     },
     "metadata": {},
     "output_type": "display_data"
    },
    {
     "data": {
      "application/vnd.jupyter.widget-view+json": {
       "model_id": "66a5506438cf425287a5948d98cfe9a4",
       "version_major": 2,
       "version_minor": 0
      },
      "text/plain": [
       "Drawing 10000 posterior samples:   0%|          | 0/10000 [00:00<?, ?it/s]"
      ]
     },
     "metadata": {},
     "output_type": "display_data"
    },
    {
     "data": {
      "application/vnd.jupyter.widget-view+json": {
       "model_id": "49a2abea5abe4d2a8c03e24ae8a24117",
       "version_major": 2,
       "version_minor": 0
      },
      "text/plain": [
       "Drawing 10000 posterior samples:   0%|          | 0/10000 [00:00<?, ?it/s]"
      ]
     },
     "metadata": {},
     "output_type": "display_data"
    },
    {
     "data": {
      "application/vnd.jupyter.widget-view+json": {
       "model_id": "3bf2319e644342f18d17c357d3020c09",
       "version_major": 2,
       "version_minor": 0
      },
      "text/plain": [
       "Drawing 10000 posterior samples:   0%|          | 0/10000 [00:00<?, ?it/s]"
      ]
     },
     "metadata": {},
     "output_type": "display_data"
    },
    {
     "data": {
      "application/vnd.jupyter.widget-view+json": {
       "model_id": "42f5aa532b5b47da84f114dc8e6ccba1",
       "version_major": 2,
       "version_minor": 0
      },
      "text/plain": [
       "Drawing 10000 posterior samples:   0%|          | 0/10000 [00:00<?, ?it/s]"
      ]
     },
     "metadata": {},
     "output_type": "display_data"
    },
    {
     "data": {
      "application/vnd.jupyter.widget-view+json": {
       "model_id": "09bf3d9aa31c43e5b6ba7cfbda9c6062",
       "version_major": 2,
       "version_minor": 0
      },
      "text/plain": [
       "Drawing 10000 posterior samples:   0%|          | 0/10000 [00:00<?, ?it/s]"
      ]
     },
     "metadata": {},
     "output_type": "display_data"
    },
    {
     "data": {
      "application/vnd.jupyter.widget-view+json": {
       "model_id": "d291df1110124f4894d4b838a5495c81",
       "version_major": 2,
       "version_minor": 0
      },
      "text/plain": [
       "Drawing 10000 posterior samples:   0%|          | 0/10000 [00:00<?, ?it/s]"
      ]
     },
     "metadata": {},
     "output_type": "display_data"
    },
    {
     "data": {
      "application/vnd.jupyter.widget-view+json": {
       "model_id": "8c85ecb5363947f3abb2fa83a6ce1d53",
       "version_major": 2,
       "version_minor": 0
      },
      "text/plain": [
       "Drawing 10000 posterior samples:   0%|          | 0/10000 [00:00<?, ?it/s]"
      ]
     },
     "metadata": {},
     "output_type": "display_data"
    },
    {
     "data": {
      "application/vnd.jupyter.widget-view+json": {
       "model_id": "f9d189de77ac4da095c2925d31e9c2eb",
       "version_major": 2,
       "version_minor": 0
      },
      "text/plain": [
       "Drawing 10000 posterior samples:   0%|          | 0/10000 [00:00<?, ?it/s]"
      ]
     },
     "metadata": {},
     "output_type": "display_data"
    }
   ],
   "source": [
    "post_spss = []\n",
    "for ix in range(ind_psd.shape[-1]):\n",
    "    post_sps = cur_res[f\"posteriorfix_{ix+1}\"].sample((10000, ), max_sampling_batch_size=100000)\n",
    "    post_spss.append(post_sps)\n",
    "        "
   ]
  },
  {
   "cell_type": "code",
   "execution_count": 50,
   "id": "40eae794",
   "metadata": {
    "ExecuteTime": {
     "end_time": "2022-10-21T02:48:35.371111Z",
     "start_time": "2022-10-21T02:48:35.033639Z"
    }
   },
   "outputs": [
    {
     "name": "stdout",
     "output_type": "stream",
     "text": [
      "/data/rajlab1/user_data/jin/MyResearch/SBI-SGM/mypkg/../results/fooofMR_1000_sd20_denestmdn_numround5/posterior_1.pkl exists! Use is_force=True to save it anyway\n",
      "/data/rajlab1/user_data/jin/MyResearch/SBI-SGM/mypkg/../results/fooofMR_1000_sd20_denestmdn_numround5/posteriorfix_1.pkl exists! Use is_force=True to save it anyway\n",
      "/data/rajlab1/user_data/jin/MyResearch/SBI-SGM/mypkg/../results/fooofMR_1000_sd20_denestmdn_numround5/posterior_2.pkl exists! Use is_force=True to save it anyway\n",
      "/data/rajlab1/user_data/jin/MyResearch/SBI-SGM/mypkg/../results/fooofMR_1000_sd20_denestmdn_numround5/posteriorfix_2.pkl exists! Use is_force=True to save it anyway\n",
      "/data/rajlab1/user_data/jin/MyResearch/SBI-SGM/mypkg/../results/fooofMR_1000_sd20_denestmdn_numround5/posterior_3.pkl exists! Use is_force=True to save it anyway\n",
      "/data/rajlab1/user_data/jin/MyResearch/SBI-SGM/mypkg/../results/fooofMR_1000_sd20_denestmdn_numround5/posteriorfix_3.pkl exists! Use is_force=True to save it anyway\n",
      "/data/rajlab1/user_data/jin/MyResearch/SBI-SGM/mypkg/../results/fooofMR_1000_sd20_denestmdn_numround5/posterior_4.pkl exists! Use is_force=True to save it anyway\n",
      "/data/rajlab1/user_data/jin/MyResearch/SBI-SGM/mypkg/../results/fooofMR_1000_sd20_denestmdn_numround5/posteriorfix_4.pkl exists! Use is_force=True to save it anyway\n",
      "/data/rajlab1/user_data/jin/MyResearch/SBI-SGM/mypkg/../results/fooofMR_1000_sd20_denestmdn_numround5/posterior_5.pkl exists! Use is_force=True to save it anyway\n",
      "/data/rajlab1/user_data/jin/MyResearch/SBI-SGM/mypkg/../results/fooofMR_1000_sd20_denestmdn_numround5/posteriorfix_5.pkl exists! Use is_force=True to save it anyway\n",
      "/data/rajlab1/user_data/jin/MyResearch/SBI-SGM/mypkg/../results/fooofMR_1000_sd20_denestmdn_numround5/posterior_6.pkl exists! Use is_force=True to save it anyway\n",
      "/data/rajlab1/user_data/jin/MyResearch/SBI-SGM/mypkg/../results/fooofMR_1000_sd20_denestmdn_numround5/posteriorfix_6.pkl exists! Use is_force=True to save it anyway\n",
      "/data/rajlab1/user_data/jin/MyResearch/SBI-SGM/mypkg/../results/fooofMR_1000_sd20_denestmdn_numround5/posterior_7.pkl exists! Use is_force=True to save it anyway\n",
      "/data/rajlab1/user_data/jin/MyResearch/SBI-SGM/mypkg/../results/fooofMR_1000_sd20_denestmdn_numround5/posteriorfix_7.pkl exists! Use is_force=True to save it anyway\n",
      "/data/rajlab1/user_data/jin/MyResearch/SBI-SGM/mypkg/../results/fooofMR_1000_sd20_denestmdn_numround5/posterior_8.pkl exists! Use is_force=True to save it anyway\n",
      "/data/rajlab1/user_data/jin/MyResearch/SBI-SGM/mypkg/../results/fooofMR_1000_sd20_denestmdn_numround5/posteriorfix_8.pkl exists! Use is_force=True to save it anyway\n",
      "/data/rajlab1/user_data/jin/MyResearch/SBI-SGM/mypkg/../results/fooofMR_1000_sd20_denestmdn_numround5/posterior_9.pkl exists! Use is_force=True to save it anyway\n",
      "/data/rajlab1/user_data/jin/MyResearch/SBI-SGM/mypkg/../results/fooofMR_1000_sd20_denestmdn_numround5/posteriorfix_9.pkl exists! Use is_force=True to save it anyway\n",
      "/data/rajlab1/user_data/jin/MyResearch/SBI-SGM/mypkg/../results/fooofMR_1000_sd20_denestmdn_numround5/posterior_10.pkl exists! Use is_force=True to save it anyway\n",
      "/data/rajlab1/user_data/jin/MyResearch/SBI-SGM/mypkg/../results/fooofMR_1000_sd20_denestmdn_numround5/posteriorfix_10.pkl exists! Use is_force=True to save it anyway\n",
      "/data/rajlab1/user_data/jin/MyResearch/SBI-SGM/mypkg/../results/fooofMR_1000_sd20_denestmdn_numround5/posterior_11.pkl exists! Use is_force=True to save it anyway\n",
      "/data/rajlab1/user_data/jin/MyResearch/SBI-SGM/mypkg/../results/fooofMR_1000_sd20_denestmdn_numround5/posteriorfix_11.pkl exists! Use is_force=True to save it anyway\n",
      "/data/rajlab1/user_data/jin/MyResearch/SBI-SGM/mypkg/../results/fooofMR_1000_sd20_denestmdn_numround5/posterior_12.pkl exists! Use is_force=True to save it anyway\n",
      "/data/rajlab1/user_data/jin/MyResearch/SBI-SGM/mypkg/../results/fooofMR_1000_sd20_denestmdn_numround5/posteriorfix_12.pkl exists! Use is_force=True to save it anyway\n",
      "/data/rajlab1/user_data/jin/MyResearch/SBI-SGM/mypkg/../results/fooofMR_1000_sd20_denestmdn_numround5/posterior_13.pkl exists! Use is_force=True to save it anyway\n",
      "/data/rajlab1/user_data/jin/MyResearch/SBI-SGM/mypkg/../results/fooofMR_1000_sd20_denestmdn_numround5/posteriorfix_13.pkl exists! Use is_force=True to save it anyway\n",
      "/data/rajlab1/user_data/jin/MyResearch/SBI-SGM/mypkg/../results/fooofMR_1000_sd20_denestmdn_numround5/posterior_14.pkl exists! Use is_force=True to save it anyway\n",
      "/data/rajlab1/user_data/jin/MyResearch/SBI-SGM/mypkg/../results/fooofMR_1000_sd20_denestmdn_numround5/posteriorfix_14.pkl exists! Use is_force=True to save it anyway\n",
      "/data/rajlab1/user_data/jin/MyResearch/SBI-SGM/mypkg/../results/fooofMR_1000_sd20_denestmdn_numround5/posterior_15.pkl exists! Use is_force=True to save it anyway\n",
      "/data/rajlab1/user_data/jin/MyResearch/SBI-SGM/mypkg/../results/fooofMR_1000_sd20_denestmdn_numround5/posteriorfix_15.pkl exists! Use is_force=True to save it anyway\n",
      "/data/rajlab1/user_data/jin/MyResearch/SBI-SGM/mypkg/../results/fooofMR_1000_sd20_denestmdn_numround5/posterior_16.pkl exists! Use is_force=True to save it anyway\n",
      "/data/rajlab1/user_data/jin/MyResearch/SBI-SGM/mypkg/../results/fooofMR_1000_sd20_denestmdn_numround5/posteriorfix_16.pkl exists! Use is_force=True to save it anyway\n",
      "/data/rajlab1/user_data/jin/MyResearch/SBI-SGM/mypkg/../results/fooofMR_1000_sd20_denestmdn_numround5/posterior_17.pkl exists! Use is_force=True to save it anyway\n",
      "/data/rajlab1/user_data/jin/MyResearch/SBI-SGM/mypkg/../results/fooofMR_1000_sd20_denestmdn_numround5/posteriorfix_17.pkl exists! Use is_force=True to save it anyway\n",
      "/data/rajlab1/user_data/jin/MyResearch/SBI-SGM/mypkg/../results/fooofMR_1000_sd20_denestmdn_numround5/posterior_18.pkl exists! Use is_force=True to save it anyway\n",
      "/data/rajlab1/user_data/jin/MyResearch/SBI-SGM/mypkg/../results/fooofMR_1000_sd20_denestmdn_numround5/posteriorfix_18.pkl exists! Use is_force=True to save it anyway\n",
      "/data/rajlab1/user_data/jin/MyResearch/SBI-SGM/mypkg/../results/fooofMR_1000_sd20_denestmdn_numround5/posterior_19.pkl exists! Use is_force=True to save it anyway\n",
      "/data/rajlab1/user_data/jin/MyResearch/SBI-SGM/mypkg/../results/fooofMR_1000_sd20_denestmdn_numround5/posteriorfix_19.pkl exists! Use is_force=True to save it anyway\n",
      "/data/rajlab1/user_data/jin/MyResearch/SBI-SGM/mypkg/../results/fooofMR_1000_sd20_denestmdn_numround5/posterior_20.pkl exists! Use is_force=True to save it anyway\n",
      "/data/rajlab1/user_data/jin/MyResearch/SBI-SGM/mypkg/../results/fooofMR_1000_sd20_denestmdn_numround5/posteriorfix_20.pkl exists! Use is_force=True to save it anyway\n",
      "/data/rajlab1/user_data/jin/MyResearch/SBI-SGM/mypkg/../results/fooofMR_1000_sd20_denestmdn_numround5/posterior_21.pkl exists! Use is_force=True to save it anyway\n",
      "/data/rajlab1/user_data/jin/MyResearch/SBI-SGM/mypkg/../results/fooofMR_1000_sd20_denestmdn_numround5/posteriorfix_21.pkl exists! Use is_force=True to save it anyway\n",
      "/data/rajlab1/user_data/jin/MyResearch/SBI-SGM/mypkg/../results/fooofMR_1000_sd20_denestmdn_numround5/posterior_22.pkl exists! Use is_force=True to save it anyway\n",
      "/data/rajlab1/user_data/jin/MyResearch/SBI-SGM/mypkg/../results/fooofMR_1000_sd20_denestmdn_numround5/posteriorfix_22.pkl exists! Use is_force=True to save it anyway\n",
      "/data/rajlab1/user_data/jin/MyResearch/SBI-SGM/mypkg/../results/fooofMR_1000_sd20_denestmdn_numround5/posterior_23.pkl exists! Use is_force=True to save it anyway\n",
      "/data/rajlab1/user_data/jin/MyResearch/SBI-SGM/mypkg/../results/fooofMR_1000_sd20_denestmdn_numround5/posteriorfix_23.pkl exists! Use is_force=True to save it anyway\n",
      "/data/rajlab1/user_data/jin/MyResearch/SBI-SGM/mypkg/../results/fooofMR_1000_sd20_denestmdn_numround5/posterior_24.pkl exists! Use is_force=True to save it anyway\n",
      "/data/rajlab1/user_data/jin/MyResearch/SBI-SGM/mypkg/../results/fooofMR_1000_sd20_denestmdn_numround5/posteriorfix_24.pkl exists! Use is_force=True to save it anyway\n",
      "/data/rajlab1/user_data/jin/MyResearch/SBI-SGM/mypkg/../results/fooofMR_1000_sd20_denestmdn_numround5/posterior_25.pkl exists! Use is_force=True to save it anyway\n",
      "/data/rajlab1/user_data/jin/MyResearch/SBI-SGM/mypkg/../results/fooofMR_1000_sd20_denestmdn_numround5/posteriorfix_25.pkl exists! Use is_force=True to save it anyway\n",
      "/data/rajlab1/user_data/jin/MyResearch/SBI-SGM/mypkg/../results/fooofMR_1000_sd20_denestmdn_numround5/posterior_26.pkl exists! Use is_force=True to save it anyway\n",
      "/data/rajlab1/user_data/jin/MyResearch/SBI-SGM/mypkg/../results/fooofMR_1000_sd20_denestmdn_numround5/posteriorfix_26.pkl exists! Use is_force=True to save it anyway\n",
      "/data/rajlab1/user_data/jin/MyResearch/SBI-SGM/mypkg/../results/fooofMR_1000_sd20_denestmdn_numround5/posterior_27.pkl exists! Use is_force=True to save it anyway\n",
      "/data/rajlab1/user_data/jin/MyResearch/SBI-SGM/mypkg/../results/fooofMR_1000_sd20_denestmdn_numround5/posteriorfix_27.pkl exists! Use is_force=True to save it anyway\n",
      "/data/rajlab1/user_data/jin/MyResearch/SBI-SGM/mypkg/../results/fooofMR_1000_sd20_denestmdn_numround5/posterior_28.pkl exists! Use is_force=True to save it anyway\n",
      "/data/rajlab1/user_data/jin/MyResearch/SBI-SGM/mypkg/../results/fooofMR_1000_sd20_denestmdn_numround5/posteriorfix_28.pkl exists! Use is_force=True to save it anyway\n",
      "/data/rajlab1/user_data/jin/MyResearch/SBI-SGM/mypkg/../results/fooofMR_1000_sd20_denestmdn_numround5/posterior_29.pkl exists! Use is_force=True to save it anyway\n",
      "/data/rajlab1/user_data/jin/MyResearch/SBI-SGM/mypkg/../results/fooofMR_1000_sd20_denestmdn_numround5/posteriorfix_29.pkl exists! Use is_force=True to save it anyway\n",
      "/data/rajlab1/user_data/jin/MyResearch/SBI-SGM/mypkg/../results/fooofMR_1000_sd20_denestmdn_numround5/posterior_30.pkl exists! Use is_force=True to save it anyway\n",
      "/data/rajlab1/user_data/jin/MyResearch/SBI-SGM/mypkg/../results/fooofMR_1000_sd20_denestmdn_numround5/posteriorfix_30.pkl exists! Use is_force=True to save it anyway\n",
      "/data/rajlab1/user_data/jin/MyResearch/SBI-SGM/mypkg/../results/fooofMR_1000_sd20_denestmdn_numround5/posterior_31.pkl exists! Use is_force=True to save it anyway\n",
      "/data/rajlab1/user_data/jin/MyResearch/SBI-SGM/mypkg/../results/fooofMR_1000_sd20_denestmdn_numround5/posteriorfix_31.pkl exists! Use is_force=True to save it anyway\n",
      "/data/rajlab1/user_data/jin/MyResearch/SBI-SGM/mypkg/../results/fooofMR_1000_sd20_denestmdn_numround5/posterior_32.pkl exists! Use is_force=True to save it anyway\n",
      "/data/rajlab1/user_data/jin/MyResearch/SBI-SGM/mypkg/../results/fooofMR_1000_sd20_denestmdn_numround5/posteriorfix_32.pkl exists! Use is_force=True to save it anyway\n",
      "/data/rajlab1/user_data/jin/MyResearch/SBI-SGM/mypkg/../results/fooofMR_1000_sd20_denestmdn_numround5/posterior_33.pkl exists! Use is_force=True to save it anyway\n",
      "/data/rajlab1/user_data/jin/MyResearch/SBI-SGM/mypkg/../results/fooofMR_1000_sd20_denestmdn_numround5/posteriorfix_33.pkl exists! Use is_force=True to save it anyway\n",
      "/data/rajlab1/user_data/jin/MyResearch/SBI-SGM/mypkg/../results/fooofMR_1000_sd20_denestmdn_numround5/posterior_34.pkl exists! Use is_force=True to save it anyway\n",
      "/data/rajlab1/user_data/jin/MyResearch/SBI-SGM/mypkg/../results/fooofMR_1000_sd20_denestmdn_numround5/posteriorfix_34.pkl exists! Use is_force=True to save it anyway\n",
      "/data/rajlab1/user_data/jin/MyResearch/SBI-SGM/mypkg/../results/fooofMR_1000_sd20_denestmdn_numround5/posterior_35.pkl exists! Use is_force=True to save it anyway\n",
      "/data/rajlab1/user_data/jin/MyResearch/SBI-SGM/mypkg/../results/fooofMR_1000_sd20_denestmdn_numround5/posteriorfix_35.pkl exists! Use is_force=True to save it anyway\n",
      "/data/rajlab1/user_data/jin/MyResearch/SBI-SGM/mypkg/../results/fooofMR_1000_sd20_denestmdn_numround5/posterior_36.pkl exists! Use is_force=True to save it anyway\n",
      "/data/rajlab1/user_data/jin/MyResearch/SBI-SGM/mypkg/../results/fooofMR_1000_sd20_denestmdn_numround5/posteriorfix_36.pkl exists! Use is_force=True to save it anyway\n",
      "Save to /data/rajlab1/user_data/jin/MyResearch/SBI-SGM/mypkg/../results/fooofMR_1000_sd20_denestmdn_numround5/post_spss.pkl\n"
     ]
    }
   ],
   "source": [
    "cur_res.post_spss = post_spss\n",
    "save_pkl_dict2folder(_paras.folder_path, cur_res)"
   ]
  },
  {
   "cell_type": "code",
   "execution_count": 51,
   "id": "6b39a8f9",
   "metadata": {
    "ExecuteTime": {
     "end_time": "2022-10-21T02:48:42.530750Z",
     "start_time": "2022-10-21T02:48:40.130510Z"
    }
   },
   "outputs": [
    {
     "data": {
      "image/png": "[encoded data removed]",
      "text/plain": [
       "<Figure size 576x576 with 49 Axes>"
      ]
     },
     "metadata": {
      "needs_background": "light"
     },
     "output_type": "display_data"
    }
   ],
   "source": [
    "# taue, taui, tauC, speed, alpha, gii, gei\n",
    "_ = analysis.pairplot(post_spss[0], \n",
    "                      limits=paras.plotLimits, \n",
    "                      labels=['taue','taui','tauG','speed','alpha','gii','gei'], \n",
    "                      figsize=(8,8))"
   ]
  },
  {
   "cell_type": "code",
   "execution_count": null,
   "id": "8f0b70b3",
   "metadata": {},
   "outputs": [],
   "source": []
  },
  {
   "cell_type": "markdown",
   "id": "b71633d4",
   "metadata": {},
   "source": [
    "#### PSD estimate"
   ]
  },
  {
   "cell_type": "code",
   "execution_count": 52,
   "id": "37dc02f7",
   "metadata": {
    "ExecuteTime": {
     "end_time": "2022-10-21T02:48:56.613495Z",
     "start_time": "2022-10-21T02:48:54.127402Z"
    }
   },
   "outputs": [
    {
     "name": "stdout",
     "output_type": "stream",
     "text": [
      "Load file /data/rajlab1/user_data/jin/MyResearch/SBI-SGM/mypkg/../results/fooofMR_1000_sd20_denestmdn_numround5/posterior_1.pkl\n",
      "Load file /data/rajlab1/user_data/jin/MyResearch/SBI-SGM/mypkg/../results/fooofMR_1000_sd20_denestmdn_numround5/posteriorfix_1.pkl\n",
      "Load file /data/rajlab1/user_data/jin/MyResearch/SBI-SGM/mypkg/../results/fooofMR_1000_sd20_denestmdn_numround5/posterior_2.pkl\n",
      "Load file /data/rajlab1/user_data/jin/MyResearch/SBI-SGM/mypkg/../results/fooofMR_1000_sd20_denestmdn_numround5/posteriorfix_2.pkl\n",
      "Load file /data/rajlab1/user_data/jin/MyResearch/SBI-SGM/mypkg/../results/fooofMR_1000_sd20_denestmdn_numround5/posterior_3.pkl\n",
      "Load file /data/rajlab1/user_data/jin/MyResearch/SBI-SGM/mypkg/../results/fooofMR_1000_sd20_denestmdn_numround5/posteriorfix_3.pkl\n",
      "Load file /data/rajlab1/user_data/jin/MyResearch/SBI-SGM/mypkg/../results/fooofMR_1000_sd20_denestmdn_numround5/posterior_4.pkl\n",
      "Load file /data/rajlab1/user_data/jin/MyResearch/SBI-SGM/mypkg/../results/fooofMR_1000_sd20_denestmdn_numround5/posteriorfix_4.pkl\n",
      "Load file /data/rajlab1/user_data/jin/MyResearch/SBI-SGM/mypkg/../results/fooofMR_1000_sd20_denestmdn_numround5/posterior_5.pkl\n",
      "Load file /data/rajlab1/user_data/jin/MyResearch/SBI-SGM/mypkg/../results/fooofMR_1000_sd20_denestmdn_numround5/posteriorfix_5.pkl\n",
      "Load file /data/rajlab1/user_data/jin/MyResearch/SBI-SGM/mypkg/../results/fooofMR_1000_sd20_denestmdn_numround5/posterior_6.pkl\n",
      "Load file /data/rajlab1/user_data/jin/MyResearch/SBI-SGM/mypkg/../results/fooofMR_1000_sd20_denestmdn_numround5/posteriorfix_6.pkl\n",
      "Load file /data/rajlab1/user_data/jin/MyResearch/SBI-SGM/mypkg/../results/fooofMR_1000_sd20_denestmdn_numround5/posterior_7.pkl\n",
      "Load file /data/rajlab1/user_data/jin/MyResearch/SBI-SGM/mypkg/../results/fooofMR_1000_sd20_denestmdn_numround5/posteriorfix_7.pkl\n",
      "Load file /data/rajlab1/user_data/jin/MyResearch/SBI-SGM/mypkg/../results/fooofMR_1000_sd20_denestmdn_numround5/posterior_8.pkl\n",
      "Load file /data/rajlab1/user_data/jin/MyResearch/SBI-SGM/mypkg/../results/fooofMR_1000_sd20_denestmdn_numround5/posteriorfix_8.pkl\n",
      "Load file /data/rajlab1/user_data/jin/MyResearch/SBI-SGM/mypkg/../results/fooofMR_1000_sd20_denestmdn_numround5/posterior_9.pkl\n",
      "Load file /data/rajlab1/user_data/jin/MyResearch/SBI-SGM/mypkg/../results/fooofMR_1000_sd20_denestmdn_numround5/posteriorfix_9.pkl\n",
      "Load file /data/rajlab1/user_data/jin/MyResearch/SBI-SGM/mypkg/../results/fooofMR_1000_sd20_denestmdn_numround5/posterior_10.pkl\n",
      "Load file /data/rajlab1/user_data/jin/MyResearch/SBI-SGM/mypkg/../results/fooofMR_1000_sd20_denestmdn_numround5/posteriorfix_10.pkl\n",
      "Load file /data/rajlab1/user_data/jin/MyResearch/SBI-SGM/mypkg/../results/fooofMR_1000_sd20_denestmdn_numround5/posterior_11.pkl\n",
      "Load file /data/rajlab1/user_data/jin/MyResearch/SBI-SGM/mypkg/../results/fooofMR_1000_sd20_denestmdn_numround5/posteriorfix_11.pkl\n",
      "Load file /data/rajlab1/user_data/jin/MyResearch/SBI-SGM/mypkg/../results/fooofMR_1000_sd20_denestmdn_numround5/posterior_12.pkl\n",
      "Load file /data/rajlab1/user_data/jin/MyResearch/SBI-SGM/mypkg/../results/fooofMR_1000_sd20_denestmdn_numround5/posteriorfix_12.pkl\n",
      "Load file /data/rajlab1/user_data/jin/MyResearch/SBI-SGM/mypkg/../results/fooofMR_1000_sd20_denestmdn_numround5/posterior_13.pkl\n",
      "Load file /data/rajlab1/user_data/jin/MyResearch/SBI-SGM/mypkg/../results/fooofMR_1000_sd20_denestmdn_numround5/posteriorfix_13.pkl\n",
      "Load file /data/rajlab1/user_data/jin/MyResearch/SBI-SGM/mypkg/../results/fooofMR_1000_sd20_denestmdn_numround5/posterior_14.pkl\n",
      "Load file /data/rajlab1/user_data/jin/MyResearch/SBI-SGM/mypkg/../results/fooofMR_1000_sd20_denestmdn_numround5/posteriorfix_14.pkl\n",
      "Load file /data/rajlab1/user_data/jin/MyResearch/SBI-SGM/mypkg/../results/fooofMR_1000_sd20_denestmdn_numround5/posterior_15.pkl\n",
      "Load file /data/rajlab1/user_data/jin/MyResearch/SBI-SGM/mypkg/../results/fooofMR_1000_sd20_denestmdn_numround5/posteriorfix_15.pkl\n",
      "Load file /data/rajlab1/user_data/jin/MyResearch/SBI-SGM/mypkg/../results/fooofMR_1000_sd20_denestmdn_numround5/posterior_16.pkl\n",
      "Load file /data/rajlab1/user_data/jin/MyResearch/SBI-SGM/mypkg/../results/fooofMR_1000_sd20_denestmdn_numround5/posteriorfix_16.pkl\n",
      "Load file /data/rajlab1/user_data/jin/MyResearch/SBI-SGM/mypkg/../results/fooofMR_1000_sd20_denestmdn_numround5/posterior_17.pkl\n",
      "Load file /data/rajlab1/user_data/jin/MyResearch/SBI-SGM/mypkg/../results/fooofMR_1000_sd20_denestmdn_numround5/posteriorfix_17.pkl\n",
      "Load file /data/rajlab1/user_data/jin/MyResearch/SBI-SGM/mypkg/../results/fooofMR_1000_sd20_denestmdn_numround5/posterior_18.pkl\n",
      "Load file /data/rajlab1/user_data/jin/MyResearch/SBI-SGM/mypkg/../results/fooofMR_1000_sd20_denestmdn_numround5/posteriorfix_18.pkl\n",
      "Load file /data/rajlab1/user_data/jin/MyResearch/SBI-SGM/mypkg/../results/fooofMR_1000_sd20_denestmdn_numround5/posterior_19.pkl\n",
      "Load file /data/rajlab1/user_data/jin/MyResearch/SBI-SGM/mypkg/../results/fooofMR_1000_sd20_denestmdn_numround5/posteriorfix_19.pkl\n",
      "Load file /data/rajlab1/user_data/jin/MyResearch/SBI-SGM/mypkg/../results/fooofMR_1000_sd20_denestmdn_numround5/posterior_20.pkl\n",
      "Load file /data/rajlab1/user_data/jin/MyResearch/SBI-SGM/mypkg/../results/fooofMR_1000_sd20_denestmdn_numround5/posteriorfix_20.pkl\n",
      "Load file /data/rajlab1/user_data/jin/MyResearch/SBI-SGM/mypkg/../results/fooofMR_1000_sd20_denestmdn_numround5/posterior_21.pkl\n",
      "Load file /data/rajlab1/user_data/jin/MyResearch/SBI-SGM/mypkg/../results/fooofMR_1000_sd20_denestmdn_numround5/posteriorfix_21.pkl\n",
      "Load file /data/rajlab1/user_data/jin/MyResearch/SBI-SGM/mypkg/../results/fooofMR_1000_sd20_denestmdn_numround5/posterior_22.pkl\n",
      "Load file /data/rajlab1/user_data/jin/MyResearch/SBI-SGM/mypkg/../results/fooofMR_1000_sd20_denestmdn_numround5/posteriorfix_22.pkl\n",
      "Load file /data/rajlab1/user_data/jin/MyResearch/SBI-SGM/mypkg/../results/fooofMR_1000_sd20_denestmdn_numround5/posterior_23.pkl\n",
      "Load file /data/rajlab1/user_data/jin/MyResearch/SBI-SGM/mypkg/../results/fooofMR_1000_sd20_denestmdn_numround5/posteriorfix_23.pkl\n",
      "Load file /data/rajlab1/user_data/jin/MyResearch/SBI-SGM/mypkg/../results/fooofMR_1000_sd20_denestmdn_numround5/posterior_24.pkl\n",
      "Load file /data/rajlab1/user_data/jin/MyResearch/SBI-SGM/mypkg/../results/fooofMR_1000_sd20_denestmdn_numround5/posteriorfix_24.pkl\n",
      "Load file /data/rajlab1/user_data/jin/MyResearch/SBI-SGM/mypkg/../results/fooofMR_1000_sd20_denestmdn_numround5/posterior_25.pkl\n",
      "Load file /data/rajlab1/user_data/jin/MyResearch/SBI-SGM/mypkg/../results/fooofMR_1000_sd20_denestmdn_numround5/posteriorfix_25.pkl\n",
      "Load file /data/rajlab1/user_data/jin/MyResearch/SBI-SGM/mypkg/../results/fooofMR_1000_sd20_denestmdn_numround5/posterior_26.pkl\n",
      "Load file /data/rajlab1/user_data/jin/MyResearch/SBI-SGM/mypkg/../results/fooofMR_1000_sd20_denestmdn_numround5/posteriorfix_26.pkl\n",
      "Load file /data/rajlab1/user_data/jin/MyResearch/SBI-SGM/mypkg/../results/fooofMR_1000_sd20_denestmdn_numround5/posterior_27.pkl\n",
      "Load file /data/rajlab1/user_data/jin/MyResearch/SBI-SGM/mypkg/../results/fooofMR_1000_sd20_denestmdn_numround5/posteriorfix_27.pkl\n",
      "Load file /data/rajlab1/user_data/jin/MyResearch/SBI-SGM/mypkg/../results/fooofMR_1000_sd20_denestmdn_numround5/posterior_28.pkl\n",
      "Load file /data/rajlab1/user_data/jin/MyResearch/SBI-SGM/mypkg/../results/fooofMR_1000_sd20_denestmdn_numround5/posteriorfix_28.pkl\n",
      "Load file /data/rajlab1/user_data/jin/MyResearch/SBI-SGM/mypkg/../results/fooofMR_1000_sd20_denestmdn_numround5/posterior_29.pkl\n",
      "Load file /data/rajlab1/user_data/jin/MyResearch/SBI-SGM/mypkg/../results/fooofMR_1000_sd20_denestmdn_numround5/posteriorfix_29.pkl\n",
      "Load file /data/rajlab1/user_data/jin/MyResearch/SBI-SGM/mypkg/../results/fooofMR_1000_sd20_denestmdn_numround5/posterior_30.pkl\n",
      "Load file /data/rajlab1/user_data/jin/MyResearch/SBI-SGM/mypkg/../results/fooofMR_1000_sd20_denestmdn_numround5/posteriorfix_30.pkl\n",
      "Load file /data/rajlab1/user_data/jin/MyResearch/SBI-SGM/mypkg/../results/fooofMR_1000_sd20_denestmdn_numround5/posterior_31.pkl\n",
      "Load file /data/rajlab1/user_data/jin/MyResearch/SBI-SGM/mypkg/../results/fooofMR_1000_sd20_denestmdn_numround5/posteriorfix_31.pkl\n",
      "Load file /data/rajlab1/user_data/jin/MyResearch/SBI-SGM/mypkg/../results/fooofMR_1000_sd20_denestmdn_numround5/posterior_32.pkl\n",
      "Load file /data/rajlab1/user_data/jin/MyResearch/SBI-SGM/mypkg/../results/fooofMR_1000_sd20_denestmdn_numround5/posteriorfix_32.pkl\n",
      "Load file /data/rajlab1/user_data/jin/MyResearch/SBI-SGM/mypkg/../results/fooofMR_1000_sd20_denestmdn_numround5/posterior_33.pkl\n",
      "Load file /data/rajlab1/user_data/jin/MyResearch/SBI-SGM/mypkg/../results/fooofMR_1000_sd20_denestmdn_numround5/posteriorfix_33.pkl\n",
      "Load file /data/rajlab1/user_data/jin/MyResearch/SBI-SGM/mypkg/../results/fooofMR_1000_sd20_denestmdn_numround5/posterior_34.pkl\n",
      "Load file /data/rajlab1/user_data/jin/MyResearch/SBI-SGM/mypkg/../results/fooofMR_1000_sd20_denestmdn_numround5/posteriorfix_34.pkl\n"
     ]
    },
    {
     "name": "stdout",
     "output_type": "stream",
     "text": [
      "Load file /data/rajlab1/user_data/jin/MyResearch/SBI-SGM/mypkg/../results/fooofMR_1000_sd20_denestmdn_numround5/posterior_35.pkl\n",
      "Load file /data/rajlab1/user_data/jin/MyResearch/SBI-SGM/mypkg/../results/fooofMR_1000_sd20_denestmdn_numround5/posteriorfix_35.pkl\n",
      "Load file /data/rajlab1/user_data/jin/MyResearch/SBI-SGM/mypkg/../results/fooofMR_1000_sd20_denestmdn_numround5/posterior_36.pkl\n",
      "Load file /data/rajlab1/user_data/jin/MyResearch/SBI-SGM/mypkg/../results/fooofMR_1000_sd20_denestmdn_numround5/posteriorfix_36.pkl\n",
      "Load file /data/rajlab1/user_data/jin/MyResearch/SBI-SGM/mypkg/../results/fooofMR_1000_sd20_denestmdn_numround5/post_spss.pkl\n"
     ]
    }
   ],
   "source": [
    "cur_res = load_pkl_folder2dict(_paras.folder_path)"
   ]
  },
  {
   "cell_type": "code",
   "execution_count": 53,
   "id": "a109dfe4",
   "metadata": {
    "ExecuteTime": {
     "end_time": "2022-10-21T02:49:42.436252Z",
     "start_time": "2022-10-21T02:49:00.368486Z"
    },
    "scrolled": true
   },
   "outputs": [
    {
     "name": "stderr",
     "output_type": "stream",
     "text": [
      "100%|██████████████████████████████████████████████████████████████████████████████████████████████████████████████████████████████████████████| 36/36 [00:41<00:00,  1.17s/it]\n"
     ]
    }
   ],
   "source": [
    "# the estimated PSD and spatial feature from SGM  \n",
    "cur_est_parass = np.array([np.median(ps.numpy(), axis=0) for ps in cur_res.post_spss])\n",
    "std_psd_DB = []\n",
    "raw_sp = []\n",
    "for ix in trange(36):\n",
    "    cur_est_paras = cur_est_parass[ix, :]\n",
    "    \n",
    "    cur_conn = ind_conn[:, :, ix]\n",
    "    cur_brain = Brain.Brain()\n",
    "    cur_brain.add_connectome(DAT_ROOT) # grabs distance matrix\n",
    "    cur_brain.reorder_connectome(cur_brain.connectome, cur_brain.distance_matrix)\n",
    "    cur_brain.connectome = cur_conn# re-assign connectome to individual connectome\n",
    "    cur_brain.bi_symmetric_c()\n",
    "    cur_brain.reduce_extreme_dir()\n",
    "    \n",
    "    cur_SGM_model = SGM(cur_brain.reducedConnectome, cur_brain.distance_matrix, FREQS)\n",
    "    cur_psd, cur_sp = cur_SGM_model.run_local_coupling_forward(cur_est_paras)\n",
    "    cur_psd = cur_psd[:68, :]\n",
    "    cur_psd_DB = psd_2tr(cur_psd)\n",
    "    \n",
    "    std_psd_DB.append(cur_psd_DB)\n",
    "    raw_sp.append(cur_sp.sum(axis=1))\n",
    "    "
   ]
  },
  {
   "cell_type": "code",
   "execution_count": 54,
   "id": "04e89f61",
   "metadata": {
    "ExecuteTime": {
     "end_time": "2022-10-21T02:49:42.731812Z",
     "start_time": "2022-10-21T02:49:42.438606Z"
    }
   },
   "outputs": [
    {
     "name": "stdout",
     "output_type": "stream",
     "text": [
      "Corr is 0.960\n"
     ]
    }
   ],
   "source": [
    "sgm_psd_curve = np.array(std_psd_DB).mean(axis=1).mean(axis=0)\n",
    "meg_psd_curve = np.mean([psd_2tr(ind_psd[:, :, ix]).mean(axis=0) for ix in range(36)], axis=0)\n",
    "cor = scipy.stats.pearsonr(stdz_vec(meg_psd_curve), stdz_vec(sgm_psd_curve))[0]\n",
    "print(f\"Corr is {cor:.3f}\")"
   ]
  },
  {
   "cell_type": "code",
   "execution_count": 55,
   "id": "7f65133a",
   "metadata": {
    "ExecuteTime": {
     "end_time": "2022-10-21T02:49:44.681550Z",
     "start_time": "2022-10-21T02:49:44.566377Z"
    }
   },
   "outputs": [
    {
     "data": {
      "text/plain": [
       "<matplotlib.legend.Legend at 0x7f53bc56f7c0>"
      ]
     },
     "execution_count": 55,
     "metadata": {},
     "output_type": "execute_result"
    },
    {
     "data": {
      "image/png": "[encoded data removed]",
      "text/plain": [
       "<Figure size 360x360 with 1 Axes>"
      ]
     },
     "metadata": {
      "needs_background": "light"
     },
     "output_type": "display_data"
    }
   ],
   "source": [
    "plt.figure(figsize=[5, 5])\n",
    "plt.plot(FREQS, stdz_vec(meg_psd_curve), linestyle = '-',\n",
    "         marker = 's',fillstyle = 'none',color = 'k', label = \"MEG\", alpha = 0.8)\n",
    "plt.plot(FREQS, stdz_vec(sgm_psd_curve), linestyle = '-',\n",
    "         marker = 'o',fillstyle = 'none',color = 'b', label = \"M-SGM\", alpha = 0.8)\n",
    "plt.xlabel('Frequency (Hz)', fontsize = 17)\n",
    "plt.ylabel('Normalized PSD', fontsize = 17)\n",
    "plt.legend()"
   ]
  },
  {
   "cell_type": "code",
   "execution_count": 56,
   "id": "952e788f",
   "metadata": {
    "ExecuteTime": {
     "end_time": "2022-10-21T02:49:53.397148Z",
     "start_time": "2022-10-21T02:49:53.284725Z"
    }
   },
   "outputs": [],
   "source": [
    "# Corrs for PSD and spatial features for each subject\n",
    "meg_psd_roi_sub = np.array([psd_2tr(ind_psd[:, :, ix]) for ix in range(36)])\n",
    "sgm_psd_roi_sub = np.array(std_psd_DB)\n",
    "\n",
    "corrs_roi_sub = []\n",
    "for ix in range(meg_psd_roi_sub.shape[0]):\n",
    "    cur_meg = meg_psd_roi_sub[ix]\n",
    "    cur_sgm = sgm_psd_roi_sub[ix]\n",
    "    corrs_roi_sub.append(np.mean([scipy.stats.pearsonr(cur_meg[iy], cur_sgm[iy])[0] for iy in range(68)]))\n",
    "corrs_roi_sub = np.array(corrs_roi_sub)"
   ]
  },
  {
   "cell_type": "code",
   "execution_count": 57,
   "id": "dc5a7cdd",
   "metadata": {
    "ExecuteTime": {
     "end_time": "2022-10-21T02:49:54.379039Z",
     "start_time": "2022-10-21T02:49:54.255489Z"
    }
   },
   "outputs": [
    {
     "data": {
      "text/plain": [
       "<matplotlib.legend.Legend at 0x7f53bc598e50>"
      ]
     },
     "execution_count": 57,
     "metadata": {},
     "output_type": "execute_result"
    },
    {
     "data": {
      "image/png": "[encoded data removed]",
      "text/plain": [
       "<Figure size 432x288 with 1 Axes>"
      ]
     },
     "metadata": {
      "needs_background": "light"
     },
     "output_type": "display_data"
    }
   ],
   "source": [
    "sub_ix = 30\n",
    "roi_ix = 0\n",
    "cur_sgm.shape\n",
    "plt.plot(FREQS, stdz_vec(meg_psd_roi_sub[sub_ix, roi_ix, :]), linestyle = '-',\n",
    "         marker = 's',fillstyle = 'none',color = 'k', label = \"MEG\", alpha = 0.8)\n",
    "plt.plot(FREQS, stdz_vec(sgm_psd_roi_sub[sub_ix, roi_ix, :]), linestyle = '-',\n",
    "         marker = 'o',fillstyle = 'none',color = 'b', label = \"M-SGM\", alpha = 0.8)\n",
    "plt.legend()"
   ]
  },
  {
   "cell_type": "code",
   "execution_count": 63,
   "id": "72e6f685",
   "metadata": {
    "ExecuteTime": {
     "end_time": "2022-10-21T02:50:22.326648Z",
     "start_time": "2022-10-21T02:50:22.224933Z"
    }
   },
   "outputs": [
    {
     "data": {
      "text/plain": [
       "<matplotlib.legend.Legend at 0x7f53906894c0>"
      ]
     },
     "execution_count": 63,
     "metadata": {},
     "output_type": "execute_result"
    },
    {
     "data": {
      "image/png": "[encoded data removed]",
      "text/plain": [
       "<Figure size 432x288 with 1 Axes>"
      ]
     },
     "metadata": {
      "needs_background": "light"
     },
     "output_type": "display_data"
    }
   ],
   "source": [
    "sub_ix = 24\n",
    "cur_sgm.shape\n",
    "plt.plot(FREQS, stdz_vec(meg_psd_roi_sub[sub_ix, :, :].mean(axis=0)), linestyle = '-',\n",
    "         marker = 's',fillstyle = 'none',color = 'k', label = \"MEG\", alpha = 0.8)\n",
    "plt.plot(FREQS, stdz_vec(sgm_psd_roi_sub[sub_ix, :, :].mean(axis=0)), linestyle = '-',\n",
    "         marker = 'o',fillstyle = 'none',color = 'b', label = \"M-SGM\", alpha = 0.8)\n",
    "plt.legend()"
   ]
  },
  {
   "cell_type": "code",
   "execution_count": 59,
   "id": "516517fe",
   "metadata": {
    "ExecuteTime": {
     "end_time": "2022-10-21T02:50:00.705729Z",
     "start_time": "2022-10-21T02:50:00.692544Z"
    }
   },
   "outputs": [
    {
     "data": {
      "text/plain": [
       "array([0.64604469, 0.75825155, 0.78395713, 0.82526441, 0.82636222,\n",
       "       0.82720295, 0.82926768, 0.83015935, 0.83064107, 0.83093393,\n",
       "       0.83856408, 0.84068109, 0.85250163, 0.85270504, 0.85737141,\n",
       "       0.86066517, 0.86458969, 0.86596857, 0.86854376, 0.87076005,\n",
       "       0.87142436, 0.87208013, 0.87371976, 0.87377032, 0.87390863,\n",
       "       0.87478209, 0.87561104, 0.87663848, 0.88204138, 0.88678081,\n",
       "       0.88938022, 0.89365823, 0.89452827, 0.89948297, 0.90406962,\n",
       "       0.91476473])"
      ]
     },
     "execution_count": 59,
     "metadata": {},
     "output_type": "execute_result"
    }
   ],
   "source": [
    "np.sort(corrs_roi_sub)"
   ]
  },
  {
   "cell_type": "code",
   "execution_count": 60,
   "id": "cbcaa136",
   "metadata": {
    "ExecuteTime": {
     "end_time": "2022-10-21T02:50:01.552393Z",
     "start_time": "2022-10-21T02:50:01.545481Z"
    }
   },
   "outputs": [
    {
     "data": {
      "text/plain": [
       "0.8672561691022798"
      ]
     },
     "execution_count": 60,
     "metadata": {},
     "output_type": "execute_result"
    }
   ],
   "source": [
    "np.median(corrs_roi_sub)"
   ]
  },
  {
   "cell_type": "code",
   "execution_count": 61,
   "id": "f8c3423b",
   "metadata": {
    "ExecuteTime": {
     "end_time": "2022-10-21T02:50:02.939759Z",
     "start_time": "2022-10-21T02:50:02.932387Z"
    }
   },
   "outputs": [
    {
     "data": {
      "text/plain": [
       "array([24,  4, 21, 18, 25, 19,  8, 22, 28,  3,  7, 12, 35, 32, 16, 14, 34,\n",
       "       15,  5, 27,  2,  1,  9, 11,  0, 23, 10, 13, 26, 31, 33, 30,  6, 17,\n",
       "       20, 29])"
      ]
     },
     "execution_count": 61,
     "metadata": {},
     "output_type": "execute_result"
    }
   ],
   "source": [
    "np.argsort(corrs_roi_sub)"
   ]
  },
  {
   "cell_type": "code",
   "execution_count": 36,
   "id": "587e4283",
   "metadata": {
    "ExecuteTime": {
     "end_time": "2022-10-18T19:58:51.765156Z",
     "start_time": "2022-10-18T19:58:51.215492Z"
    }
   },
   "outputs": [
    {
     "name": "stdout",
     "output_type": "stream",
     "text": [
      "Save to /data/rajlab1/user_data/jin/MyResearch/SGMBAY/mypkg/../results/fooofgeneralNoise_10000_sd40_denestnsf/theta.pkl\n",
      "Save to /data/rajlab1/user_data/jin/MyResearch/SGMBAY/mypkg/../results/fooofgeneralNoise_10000_sd40_denestnsf/x.pkl\n",
      "Save to /data/rajlab1/user_data/jin/MyResearch/SGMBAY/mypkg/../results/fooofgeneralNoise_10000_sd40_denestnsf/posterior.pkl\n",
      "Save to /data/rajlab1/user_data/jin/MyResearch/SGMBAY/mypkg/../results/fooofgeneralNoise_10000_sd40_denestnsf/post_spss.pkl\n",
      "Save to /data/rajlab1/user_data/jin/MyResearch/SGMBAY/mypkg/../results/fooofgeneralNoise_10000_sd40_denestnsf/raw_sp.pkl\n",
      "Save to /data/rajlab1/user_data/jin/MyResearch/SGMBAY/mypkg/../results/fooofgeneralNoise_10000_sd40_denestnsf/std_psd_DB.pkl\n"
     ]
    }
   ],
   "source": [
    "cur_res.raw_sp = raw_sp\n",
    "cur_res.std_psd_DB = std_psd_DB\n",
    "save_pkl_dict2folder(paras_gen.folder_path, cur_res, True)"
   ]
  },
  {
   "cell_type": "code",
   "execution_count": null,
   "id": "18abc5e7",
   "metadata": {},
   "outputs": [],
   "source": []
  }
 ],
 "metadata": {
  "kernelspec": {
   "display_name": "Python 3 (ipykernel)",
   "language": "python",
   "name": "python3"
  },
  "language_info": {
   "codemirror_mode": {
    "name": "ipython",
    "version": 3
   },
   "file_extension": ".py",
   "mimetype": "text/x-python",
   "name": "python",
   "nbconvert_exporter": "python",
   "pygments_lexer": "ipython3",
   "version": "3.9.7"
  },
  "toc": {
   "base_numbering": 1,
   "nav_menu": {},
   "number_sections": true,
   "sideBar": true,
   "skip_h1_title": false,
   "title_cell": "Table of Contents",
   "title_sidebar": "Contents",
   "toc_cell": true,
   "toc_position": {
    "height": "calc(100% - 180px)",
    "left": "10px",
    "top": "150px",
    "width": "193px"
   },
   "toc_section_display": true,
   "toc_window_display": true
  }
 },
 "nbformat": 4,
 "nbformat_minor": 5
}
