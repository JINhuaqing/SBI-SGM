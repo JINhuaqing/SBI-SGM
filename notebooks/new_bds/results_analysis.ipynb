{
 "cells": [
  {
   "cell_type": "markdown",
   "id": "48ee4fd6",
   "metadata": {},
   "source": [
    "This file is to analyze the results and save them\n"
   ]
  },
  {
   "cell_type": "markdown",
   "id": "269c1f0a",
   "metadata": {},
   "source": [
    "### import and define"
   ]
  },
  {
   "cell_type": "code",
   "execution_count": 1,
   "id": "4e45686c",
   "metadata": {
    "ExecuteTime": {
     "end_time": "2022-12-22T03:59:43.796802Z",
     "start_time": "2022-12-22T03:59:43.783078Z"
    }
   },
   "outputs": [],
   "source": [
    "import os\n",
    "import sys\n",
    "module_path = os.path.abspath(os.path.join('../../mypkg'))\n",
    "if module_path not in sys.path:\n",
    "    sys.path.append(module_path)"
   ]
  },
  {
   "cell_type": "markdown",
   "id": "e5ca9b8a",
   "metadata": {},
   "source": [
    "#### Other pkgs"
   ]
  },
  {
   "cell_type": "code",
   "execution_count": 64,
   "id": "c93dcfe1",
   "metadata": {
    "ExecuteTime": {
     "end_time": "2022-12-22T06:34:26.437072Z",
     "start_time": "2022-12-22T06:34:26.429658Z"
    }
   },
   "outputs": [],
   "source": [
    "from tqdm import trange, tqdm\n",
    "\n",
    "import torch\n",
    "import torch.nn as nn \n",
    "import torch.nn.functional as F \n",
    "from sbi import utils as sutils\n",
    "from sbi import analysis as analysis\n",
    "from sbi.inference.base import infer\n",
    "from sbi.inference import SNPE, prepare_for_sbi, simulate_for_sbi\n",
    "from sbi.utils.get_nn_models import posterior_nn\n",
    "from torch.distributions.multivariate_normal import MultivariateNormal\n",
    "\n",
    "import numpy as np\n",
    "import xarray as xr\n",
    "from easydict import EasyDict as edict\n",
    "from collections import defaultdict as ddict\n",
    "from pathlib import Path\n",
    "import pickle\n",
    "import scipy\n",
    "\n",
    "import seaborn as sns\n",
    "import pandas as pd\n",
    "import matplotlib.pyplot as plt\n",
    "import json\n",
    "from functools import partial\n",
    "\n",
    "import warnings\n",
    "warnings.filterwarnings(\"ignore\")"
   ]
  },
  {
   "cell_type": "code",
   "execution_count": null,
   "id": "21afc51c",
   "metadata": {},
   "outputs": [],
   "source": []
  },
  {
   "cell_type": "markdown",
   "id": "7452265b",
   "metadata": {},
   "source": [
    "#### My own pkgs"
   ]
  },
  {
   "cell_type": "code",
   "execution_count": 3,
   "id": "da2f4f7a",
   "metadata": {
    "ExecuteTime": {
     "end_time": "2022-12-22T04:00:32.876087Z",
     "start_time": "2022-12-22T04:00:24.301922Z"
    }
   },
   "outputs": [],
   "source": [
    "import importlib\n",
    "\n",
    "from utils.misc import mag2db, meg_psd2spatialfeature, save_pkl_dict2folder, load_pkl_folder2dict, geodesic_dist\n",
    "from utils.standardize import stdz_psd, stdz_vec, minmax_vec, psd_2tr\n",
    "from utils.brain_plot import U2BrainVec, reorderU \n",
    "from utils.reparam import theta_raw_2out, normcdf_np, normcdf_torch, logistic_np, logistic_torch\n",
    "from utils.stable import paras_table_check\n",
    "from sgm.sgm import SGM\n",
    "from spectrome import Brain, path, functions\n",
    "from features.psm import obt_psm_fs, obt_psm_raw\n",
    "from constants import RES_ROOT, FIG_ROOT, DAT_ROOT\n",
    "from models.embedding_nets import SummaryNet\n",
    "from sgm.data_gen import simulator_data"
   ]
  },
  {
   "cell_type": "code",
   "execution_count": 4,
   "id": "b2bec640",
   "metadata": {
    "ExecuteTime": {
     "end_time": "2022-12-22T04:00:33.964336Z",
     "start_time": "2022-12-22T04:00:33.897583Z"
    }
   },
   "outputs": [
    {
     "data": {
      "text/plain": [
       "<module 'utils.misc' from '/data/rajlab1/user_data/jin/MyResearch/SBI-SGM/mypkg/utils/misc.py'>"
      ]
     },
     "execution_count": 4,
     "metadata": {},
     "output_type": "execute_result"
    }
   ],
   "source": [
    "import utils.misc\n",
    "importlib.reload(utils.misc)"
   ]
  },
  {
   "cell_type": "code",
   "execution_count": 5,
   "id": "3c28c72e",
   "metadata": {
    "ExecuteTime": {
     "end_time": "2022-12-22T04:00:35.699769Z",
     "start_time": "2022-12-22T04:00:35.695447Z"
    }
   },
   "outputs": [],
   "source": [
    "#torch.set_default_tensor_type(torch.DoubleTensor)"
   ]
  },
  {
   "cell_type": "markdown",
   "id": "4022c78f",
   "metadata": {},
   "source": [
    "### Load real data PSD and brain"
   ]
  },
  {
   "cell_type": "markdown",
   "id": "bcd6c5ab",
   "metadata": {},
   "source": [
    "#### PSD and connectome"
   ]
  },
  {
   "cell_type": "code",
   "execution_count": 6,
   "id": "bb358643",
   "metadata": {
    "ExecuteTime": {
     "end_time": "2022-12-22T04:00:37.101246Z",
     "start_time": "2022-12-22T04:00:36.722161Z"
    }
   },
   "outputs": [],
   "source": [
    "# Load data\n",
    "ind_psd_xr = xr.open_dataarray(DAT_ROOT/'individual_psd_reordered_matlab.nc')\n",
    "ind_psd = ind_psd_xr.values\n",
    "FREQS = ind_psd_xr[\"frequencies\"].values\n",
    "ind_conn_xr = xr.open_dataarray(DAT_ROOT/'individual_connectomes_reordered.nc')\n",
    "ind_conn = ind_conn_xr.values"
   ]
  },
  {
   "cell_type": "markdown",
   "id": "b6960bf4",
   "metadata": {},
   "source": [
    "#### Set up Parameters"
   ]
  },
  {
   "cell_type": "code",
   "execution_count": 7,
   "id": "d9326efc",
   "metadata": {
    "ExecuteTime": {
     "end_time": "2022-12-22T04:00:41.291937Z",
     "start_time": "2022-12-22T04:00:41.282915Z"
    }
   },
   "outputs": [],
   "source": [
    "# some constant parameters for this file\n",
    "paras = edict()\n",
    "#bnds = ((5.0,30.0), (5.0,200.0), (0.1,1.0), (5, 20), (0.001,0.7), (0.001,2.0), (5.0,30.0))\n",
    "#Bounds for taue, taui, alpha, speed, gei, gii, tauC\n",
    "# (0.001,0.7), (0.001,2.0) when considering stable checking.\n",
    "# (0.001,0.5), (0.001,1.5) as safe (narrower) bounds\n",
    "\n",
    "# taue, taui, tauC, speed, alpha, gii, gei\n",
    "paras.par_low = np.asarray([0.005,0.005,0.005,5, 0.1,0.001,0.001])\n",
    "paras.par_high = np.asarray([0.03, 0.20, 0.03,20,  1,    2,  0.7])\n",
    "paras.prior_bds = np.array([paras.par_low, paras.par_high]).T\n",
    "paras.names = [\"Taue\", \"Taui\", \"TauC\", \"Speed\", \"alpha\", \"gii\", \"gei\"]\n",
    "\n",
    "paras.num_prior_sps = int(1e5)\n",
    "paras.den_est = \"nsf\"\n",
    "paras.is_embed = False\n",
    "\n",
    "paras.prior_sd = 10"
   ]
  },
  {
   "cell_type": "code",
   "execution_count": 180,
   "id": "221b3b6d",
   "metadata": {
    "ExecuteTime": {
     "end_time": "2022-12-22T21:38:29.754476Z",
     "start_time": "2022-12-22T21:38:29.704756Z"
    }
   },
   "outputs": [],
   "source": [
    "# paras  for this file\n",
    "_paras = edict()\n",
    "#_paras.noise_sds = [0.4, 0.8, 1.2, 1.6, 2.0, 2.4, 2.8]\n",
    "_paras.noise_sds = np.array([0, 0.1, 0.15, 0.20, 0.25, 0.3, 0.35, 0.4, 0.6, \n",
    "                    #1.0, 1.2, 1.6, 2.0, 2.4, 2.8]\n",
    "                    0.8, 1.0, 1.2, 1.6, 2.0, 2.4, 2.8, 3.2])\n",
    "_paras.filss = []\n",
    "for noise_sd in _paras.noise_sds:\n",
    "    _folder_path = f\"./new_bds[0-9]*_reparam{paras.num_prior_sps:.0f}\" +\\\n",
    "                   f\"_sd{noise_sd*100:.0f}\" +\\\n",
    "                   f\"_denest{paras.den_est}\" +\\\n",
    "                   f\"_embed{paras.is_embed}\"\n",
    "    fils = list(RES_ROOT.glob(_folder_path))\n",
    "    fils = sorted(fils, key=lambda x: int(x.stem.split(\"bds\")[1].split(\"_\")[0]))\n",
    "    _paras.filss.append(fils)"
   ]
  },
  {
   "cell_type": "code",
   "execution_count": 183,
   "id": "17add0f4",
   "metadata": {
    "ExecuteTime": {
     "end_time": "2022-12-22T21:40:04.938644Z",
     "start_time": "2022-12-22T21:40:04.932769Z"
    }
   },
   "outputs": [],
   "source": [
    "_paras.plot_sets = edict()\n",
    "_paras.plot_sets.col = [\"dodgerblue\", \"coral\"]\n",
    "_paras.plot_sets.alpha = 0.8\n",
    "_paras.plot_sets.marker = [\"o\", \"h\"]"
   ]
  },
  {
   "cell_type": "code",
   "execution_count": 168,
   "id": "23dff474",
   "metadata": {
    "ExecuteTime": {
     "end_time": "2022-12-22T21:20:48.442813Z",
     "start_time": "2022-12-22T21:20:48.436352Z"
    }
   },
   "outputs": [],
   "source": [
    "prior = MultivariateNormal(loc=torch.zeros(7), covariance_matrix=torch.eye(7)*(paras.prior_sd**2))"
   ]
  },
  {
   "cell_type": "code",
   "execution_count": 169,
   "id": "c82b5b02",
   "metadata": {
    "ExecuteTime": {
     "end_time": "2022-12-22T21:20:48.801507Z",
     "start_time": "2022-12-22T21:20:48.772987Z"
    }
   },
   "outputs": [],
   "source": [
    "# obtain the brain\n",
    "brain = Brain.Brain()\n",
    "brain.add_connectome(DAT_ROOT)\n",
    "brain.reorder_connectome(brain.connectome, brain.distance_matrix)\n",
    "brain.bi_symmetric_c()\n",
    "brain.reduce_extreme_dir()\n",
    "sgmmodel = SGM(brain.reducedConnectome, brain.distance_matrix, FREQS)"
   ]
  },
  {
   "cell_type": "code",
   "execution_count": 170,
   "id": "b73198fe",
   "metadata": {
    "ExecuteTime": {
     "end_time": "2022-12-22T21:20:49.738835Z",
     "start_time": "2022-12-22T21:20:49.113539Z"
    }
   },
   "outputs": [
    {
     "name": "stderr",
     "output_type": "stream",
     "text": [
      "100%|██████████████████████████████████████████████████████████████████████████████████████████████████████████████████████████████████████████| 36/36 [00:00<00:00, 60.31it/s]\n"
     ]
    }
   ],
   "source": [
    "#meg_psd_curve = np.median([np.median(psd_2tr(ind_psd[:, :, ix]), axis=0) for ix in range(36)], axis=0)\n",
    "meg_psd_curve = np.mean([psd_2tr(ind_psd[:, :, ix]).mean(axis=0) for ix in range(36)], axis=0)\n",
    "meg_psd_roi_sub = np.array([psd_2tr(ind_psd[:, :, ix]) for ix in range(36)])\n",
    "\n",
    "# the estimated spatial feature from MEG\n",
    "meg_sps = []\n",
    "meg_sp_raws = []\n",
    "for ix in trange(36):\n",
    "    curC = ind_conn[:, :, ix]\n",
    "    curBrain = Brain.Brain()\n",
    "    curBrain.add_connectome(DAT_ROOT) # grabs distance matrix\n",
    "    # re-ordering for DK atlas and normalizing the connectomes:\n",
    "    curBrain.reorder_connectome(curBrain.connectome, curBrain.distance_matrix)\n",
    "    curBrain.connectome = curC# re-assign connectome to individual connectome\n",
    "    curBrain.bi_symmetric_c()\n",
    "    curBrain.reduce_extreme_dir()\n",
    "    \n",
    "    curMEGSP, curMEGSPRaw = meg_psd2spatialfeature(curBrain.reducedConnectome, ind_psd[:, :, ix], FREQS)\n",
    "    meg_sps.append(curMEGSP)\n",
    "    meg_sp_raws.append(curMEGSPRaw.sum(axis=1))\n",
    "\n",
    "meg_sps = np.array(meg_sps)\n",
    "meg_sp_raws = np.array(meg_sp_raws)"
   ]
  },
  {
   "cell_type": "code",
   "execution_count": null,
   "id": "bb064f49",
   "metadata": {},
   "outputs": [],
   "source": []
  },
  {
   "cell_type": "markdown",
   "id": "2e8d0aa8",
   "metadata": {},
   "source": [
    "#### Some fns"
   ]
  },
  {
   "cell_type": "code",
   "execution_count": 171,
   "id": "ad1be665",
   "metadata": {
    "ExecuteTime": {
     "end_time": "2022-12-22T21:20:52.051921Z",
     "start_time": "2022-12-22T21:20:52.046992Z"
    }
   },
   "outputs": [],
   "source": [
    "_map_fn_torch = partial(logistic_torch, k=0.1)\n",
    "_theta_raw_2out = partial(theta_raw_2out, map_fn=partial(logistic_np, k=0.1))"
   ]
  },
  {
   "cell_type": "code",
   "execution_count": 172,
   "id": "0c3a2332",
   "metadata": {
    "ExecuteTime": {
     "end_time": "2022-12-22T21:20:52.533343Z",
     "start_time": "2022-12-22T21:20:52.526762Z"
    }
   },
   "outputs": [],
   "source": [
    "def _filter_unstable(theta_raw, prior_bds, x=None):\n",
    "    \"\"\"This fn is to remove unstable SGM parameters\n",
    "        args: theta_raw: parameters: num of sps x dim\n",
    "                order: ['Taue', 'Taui', 'TauC', 'Speed', 'alpha', 'gii', 'gei']\n",
    "    \"\"\"\n",
    "    theta = _theta_raw_2out(theta_raw.numpy(), prior_bds)\n",
    "    stable_idxs = paras_table_check(theta)\n",
    "    \n",
    "    # keep stable sps only\n",
    "    theta_raw_stable = theta_raw[stable_idxs==0]\n",
    "    if x is not None:\n",
    "        x_stable = x[stable_idxs==0]\n",
    "        return theta_raw_stable, x_stable\n",
    "    else:\n",
    "        return theta_raw_stable"
   ]
  },
  {
   "cell_type": "code",
   "execution_count": null,
   "id": "ec84fcba",
   "metadata": {},
   "outputs": [],
   "source": []
  },
  {
   "cell_type": "markdown",
   "id": "791c1440",
   "metadata": {},
   "source": [
    "### Analysis"
   ]
  },
  {
   "cell_type": "code",
   "execution_count": null,
   "id": "36bb89db",
   "metadata": {
    "ExecuteTime": {
     "start_time": "2022-12-21T06:46:59.046Z"
    },
    "scrolled": true
   },
   "outputs": [
    {
     "name": "stderr",
     "output_type": "stream",
     "text": [
      " 83%|███████████████████████████████████████████████████████████████████████████████████████████████████████████████████                       | 10/12 [10:25<02:08, 64.20s/it]"
     ]
    }
   ],
   "source": [
    "all_ress = []\n",
    "for fils in tqdm(_paras.filss):\n",
    "    all_res = []\n",
    "    for cur_fil in fils:\n",
    "        cur_res = load_pkl_folder2dict(cur_fil, [\"raw_sp\", \"*_raw\", \"posterior\"], verbose=False)\n",
    "        all_res.append(cur_res)\n",
    "    all_ress.append(all_res)"
   ]
  },
  {
   "cell_type": "code",
   "execution_count": 173,
   "id": "4a1726e0",
   "metadata": {
    "ExecuteTime": {
     "end_time": "2022-12-22T21:34:34.864890Z",
     "start_time": "2022-12-22T21:21:20.017353Z"
    },
    "scrolled": true
   },
   "outputs": [
    {
     "name": "stderr",
     "output_type": "stream",
     "text": [
      "100%|██████████████████████████████████████████████████████████████████████████████████████████████████████████████████████████████████████████| 17/17 [13:14<00:00, 46.75s/it]\n"
     ]
    }
   ],
   "source": [
    "results_across_sd = []\n",
    "\n",
    "for fils in tqdm(_paras.filss):\n",
    "#for all_res in tqdm(all_ress):\n",
    "    result = ddict(list)\n",
    "    for cur_fil in fils:\n",
    "    #for cur_res in all_res:\n",
    "        cur_res = load_pkl_folder2dict(cur_fil, [\"raw_sp\", \"*_raw\", \"posterior\"], verbose=False)\n",
    "        est_psds = []\n",
    "        est_FCs = []\n",
    "        for post_psd in cur_res.fb_post_res:\n",
    "            est_psd = np.mean(post_psd[:, :-68], axis=0)\n",
    "            est_psd = est_psd.reshape(68, 40)\n",
    "            est_psds.append(est_psd)\n",
    "            est_FCs.append(np.corrcoef(est_psd))\n",
    "            \n",
    "        # single corr\n",
    "        sgm_psd_curve_fb = np.array(est_psds).mean(axis=1).mean(axis=0)\n",
    "        #sgm_psd_curve_fb = np.median(np.median(np.array(est_psds), axis=1), axis=0)\n",
    "        corr = scipy.stats.pearsonr(stdz_vec(meg_psd_curve), stdz_vec(sgm_psd_curve_fb))[0]\n",
    "        #print(f\"Corr is {corr:.3f}\")\n",
    "        \n",
    "        # Corrs for PSD and spatial features for each subject\n",
    "        sgm_psd_roi_sub_fb = np.array(est_psds)\n",
    "        corrs_roi_sub_fb = []\n",
    "        for ix in range(meg_psd_roi_sub.shape[0]):\n",
    "            cur_meg = meg_psd_roi_sub[ix]\n",
    "            cur_sgm = sgm_psd_roi_sub_fb[ix]\n",
    "            corrs_roi_sub_fb.append(np.mean([scipy.stats.pearsonr(cur_meg[iy], cur_sgm[iy])[0] for iy in range(68)]))\n",
    "        corrs_roi_sub_fb = np.array(corrs_roi_sub_fb)\n",
    "        \n",
    "        # geodesic dist\n",
    "        geo_dists = [geodesic_dist(np.corrcoef(meg_psd_roi_sub[iz]), est_FCs[iz]) for iz in range(36)]\n",
    "        \n",
    "        #print(np.median(corrs_roi_sub_fb), np.mean(corrs_roi_sub_fb))\n",
    "        result[\"corr\"].append(corr)\n",
    "        result[\"corrs_roi_sub\"].append(corrs_roi_sub_fb)\n",
    "        result[\"geo_dists\"].append(geo_dists)\n",
    "    results_across_sd.append(edict(result))"
   ]
  },
  {
   "cell_type": "code",
   "execution_count": 194,
   "id": "b7dfed42",
   "metadata": {
    "ExecuteTime": {
     "end_time": "2022-12-22T21:44:14.016691Z",
     "start_time": "2022-12-22T21:44:13.895536Z"
    }
   },
   "outputs": [
    {
     "name": "stdout",
     "output_type": "stream",
     "text": [
      "1.2\n"
     ]
    },
    {
     "data": {
      "text/plain": [
       "array([0.93132518, 0.97422351, 0.98543368, 0.98298015, 0.98758107,\n",
       "       0.98736977, 0.98671922, 0.98778756, 0.98993264, 0.99189225,\n",
       "       0.99214847, 0.99216724, 0.99132169, 0.98988775, 0.98663922,\n",
       "       0.98449179, 0.98243683])"
      ]
     },
     "execution_count": 194,
     "metadata": {},
     "output_type": "execute_result"
    },
    {
     "data": {
      "image/png": "[encoded data removed]",
      "text/plain": [
       "<Figure size 720x360 with 1 Axes>"
      ]
     },
     "metadata": {
      "needs_background": "light"
     },
     "output_type": "display_data"
    }
   ],
   "source": [
    "idxs = np.array([0, 7, 9, 11, 12, 13, 14, 15, 16])\n",
    "ys = np.array([np.mean(result.corr) for result in results_across_sd])\n",
    "ys_se = np.array([np.std(result.corr) for result in results_across_sd])/np.sqrt(10)\n",
    "lows = ys - 1.96*ys_se\n",
    "ups = ys + 1.96*ys_se\n",
    "plt.figure(figsize=[10, 5])\n",
    "plt.plot(_paras.noise_sds[idxs], ys[idxs], \"o-\", lw=2,\n",
    "         color=_paras.plot_sets.col[0])\n",
    "plt.fill_between(_paras.noise_sds[idxs], lows[idxs] ,ups[idxs], alpha=0.5,\n",
    "                 color=_paras.plot_sets.col[0])\n",
    "print(np.array(_paras.noise_sds[idxs])[np.argmax(ys[idxs])])\n",
    "ys"
   ]
  },
  {
   "cell_type": "code",
   "execution_count": 189,
   "id": "b003d819",
   "metadata": {
    "ExecuteTime": {
     "end_time": "2022-12-22T21:41:35.483363Z",
     "start_time": "2022-12-22T21:41:35.373414Z"
    },
    "scrolled": false
   },
   "outputs": [
    {
     "name": "stdout",
     "output_type": "stream",
     "text": [
      "1.6\n"
     ]
    },
    {
     "data": {
      "text/plain": [
       "array([0.8045453 , 0.87093507, 0.8892278 , 0.88681298, 0.89531494,\n",
       "       0.89776838, 0.8959595 , 0.89913797, 0.90149062, 0.90473755,\n",
       "       0.9041824 , 0.90600212, 0.90615334, 0.90528202, 0.89995493,\n",
       "       0.89784644, 0.89635842])"
      ]
     },
     "execution_count": 189,
     "metadata": {},
     "output_type": "execute_result"
    },
    {
     "data": {
      "image/png": "[encoded data removed]",
      "text/plain": [
       "<Figure size 720x360 with 1 Axes>"
      ]
     },
     "metadata": {
      "needs_background": "light"
     },
     "output_type": "display_data"
    }
   ],
   "source": [
    "idxs = np.array([0, 7, 9, 11, 12, 13, 14, 15, 16])\n",
    "ys = np.array([np.median(result.corrs_roi_sub) for result in results_across_sd])\n",
    "ys_se = np.array([np.std(np.mean(result.corrs_roi_sub, axis=1))\n",
    "                  for result in results_across_sd])/np.sqrt(10)\n",
    "lows = ys - 1.96*ys_se\n",
    "ups = ys + 1.96*ys_se\n",
    "plt.figure(figsize=[10, 5])\n",
    "plt.plot(_paras.noise_sds[idxs], ys[idxs], \"o-\", lw=2, \n",
    "         color=_paras.plot_sets.col[0])\n",
    "plt.fill_between(_paras.noise_sds[idxs], lows[idxs], ups[idxs], alpha=0.5,\n",
    "                 color=_paras.plot_sets.col[0])\n",
    "print(np.array(_paras.noise_sds[idxs])[np.argmax(ys)])\n",
    "ys"
   ]
  },
  {
   "cell_type": "code",
   "execution_count": 190,
   "id": "64f82ac8",
   "metadata": {
    "ExecuteTime": {
     "end_time": "2022-12-22T21:42:22.849242Z",
     "start_time": "2022-12-22T21:42:22.733400Z"
    }
   },
   "outputs": [
    {
     "data": {
      "text/plain": [
       "array([187.85892404, 181.55316611, 177.85583956, 179.26510359,\n",
       "       177.60450899, 177.01067479, 176.63223642, 175.03049478,\n",
       "       172.19300544, 168.99450052, 166.1229923 , 163.92600293,\n",
       "       160.31865551, 158.22103284, 156.16223221, 155.41201607,\n",
       "       154.63613774])"
      ]
     },
     "execution_count": 190,
     "metadata": {},
     "output_type": "execute_result"
    },
    {
     "data": {
      "image/png": "[encoded data removed]",
      "text/plain": [
       "<Figure size 720x360 with 1 Axes>"
      ]
     },
     "metadata": {
      "needs_background": "light"
     },
     "output_type": "display_data"
    }
   ],
   "source": [
    "idxs = np.array([0, 7, 9, 11, 12, 13, 14, 15, 16])\n",
    "ys = np.array([np.mean(result.geo_dists) for result in results_across_sd])\n",
    "ys_se = np.array([np.std(np.mean(result.geo_dists, axis=1))\n",
    "                  for result in results_across_sd])/np.sqrt(10)\n",
    "lows = ys - 1.96*ys_se\n",
    "ups = ys + 1.96*ys_se\n",
    "plt.figure(figsize=[10, 5])\n",
    "plt.plot(_paras.noise_sds[idxs], ys[idxs], lw=2, \n",
    "         color=_paras.plot_sets.col[0])\n",
    "plt.fill_between(_paras.noise_sds[idxs], lows[idxs], ups[idxs], alpha=0.5,\n",
    "                 color=_paras.plot_sets.col[0])\n",
    "ys"
   ]
  },
  {
   "cell_type": "markdown",
   "id": "1cea0483",
   "metadata": {},
   "source": [
    "### Analysis for one SD"
   ]
  },
  {
   "cell_type": "code",
   "execution_count": 90,
   "id": "acb526b5",
   "metadata": {
    "ExecuteTime": {
     "end_time": "2022-12-22T06:42:22.699024Z",
     "start_time": "2022-12-22T06:42:22.679689Z"
    }
   },
   "outputs": [
    {
     "data": {
      "text/plain": [
       "PosixPath('/data/rajlab1/user_data/jin/MyResearch/SBI-SGM/mypkg/../results/new_bds1_reparam100000_sd120_denestnsf_embedFalse')"
      ]
     },
     "execution_count": 90,
     "metadata": {},
     "output_type": "execute_result"
    }
   ],
   "source": [
    "sel_sd = 1.2\n",
    "_folder_path = f\"./new_bds[0-9]*_reparam{paras.num_prior_sps:.0f}\" +\\\n",
    "                   f\"_sd{sel_sd*100:.0f}\" +\\\n",
    "                   f\"_denest{paras.den_est}\" +\\\n",
    "                   f\"_embed{paras.is_embed}\"\n",
    "sel_fils = list(RES_ROOT.glob(_folder_path))\n",
    "sel_fils = sorted(sel_fils, key=lambda x: int(x.stem.split(\"bds\")[1].split(\"_\")[0]))\n",
    "sel_fils[0]"
   ]
  },
  {
   "cell_type": "code",
   "execution_count": 123,
   "id": "7471aecb",
   "metadata": {
    "ExecuteTime": {
     "end_time": "2022-12-22T07:08:24.926556Z",
     "start_time": "2022-12-22T07:07:33.203125Z"
    }
   },
   "outputs": [
    {
     "name": "stderr",
     "output_type": "stream",
     "text": [
      "100%|██████████████████████████████████████████████████████████████████████████████████████████████████████████████████████████████████████████| 10/10 [00:51<00:00,  5.17s/it]\n"
     ]
    }
   ],
   "source": [
    "cur_ress = [load_pkl_folder2dict(cur_fil, [\"*_raw\", \"posterior\"], verbose=False) \n",
    "            for cur_fil in tqdm(sel_fils)\n",
    "           ]"
   ]
  },
  {
   "cell_type": "code",
   "execution_count": 155,
   "id": "5a17a4cf",
   "metadata": {
    "ExecuteTime": {
     "end_time": "2022-12-22T21:16:22.283578Z",
     "start_time": "2022-12-22T21:16:22.276022Z"
    }
   },
   "outputs": [
    {
     "data": {
      "text/plain": [
       "(36, 68, 40)"
      ]
     },
     "execution_count": 155,
     "metadata": {},
     "output_type": "execute_result"
    }
   ],
   "source": [
    "np.array(est_psds).shape"
   ]
  },
  {
   "cell_type": "code",
   "execution_count": 163,
   "id": "c964d7ce",
   "metadata": {
    "ExecuteTime": {
     "end_time": "2022-12-22T21:19:38.907648Z",
     "start_time": "2022-12-22T21:19:35.846555Z"
    },
    "scrolled": true
   },
   "outputs": [
    {
     "name": "stderr",
     "output_type": "stream",
     "text": [
      "100%|██████████████████████████████████████████████████████████████████████████████████████████████████████████████████████████████████████████| 10/10 [00:03<00:00,  3.29it/s]\n"
     ]
    }
   ],
   "source": [
    "result = ddict(list)\n",
    "for cur_res in tqdm(cur_ress):\n",
    "    est_psds = []\n",
    "    est_FCs = []\n",
    "    est_sps = []\n",
    "    for post_psd in cur_res.fb_post_res:\n",
    "        est_psd = np.mean(post_psd[:, :-68], axis=0)\n",
    "        est_psd = est_psd.reshape(68, 40)\n",
    "        est_sp = np.mean(post_psd[:, -68:], axis=0)\n",
    "        \n",
    "        est_psds.append(est_psd)\n",
    "        est_sps.append(est_sp)\n",
    "        est_FCs.append(np.corrcoef(est_psd))\n",
    "        \n",
    "    # single corr\n",
    "    sgm_psd_curve_fb = np.mean(np.mean(np.array(est_psds), axis=1), axis=0)\n",
    "    #sgm_psd_curve_fb = np.array(est_psds).mean(axis=1).mean(axis=0)\n",
    "    corr = scipy.stats.pearsonr(stdz_vec(meg_psd_curve), stdz_vec(sgm_psd_curve_fb))[0]\n",
    "    #print(f\"Corr is {corr:.3f}\")\n",
    "    \n",
    "    # Corrs for PSD and spatial features for each subject\n",
    "    sgm_psd_roi_sub_fb = np.array(est_psds)\n",
    "    corrs_roi_sub_fb = []\n",
    "    for ix in range(meg_psd_roi_sub.shape[0]):\n",
    "        cur_meg = meg_psd_roi_sub[ix]\n",
    "        cur_sgm = sgm_psd_roi_sub_fb[ix]\n",
    "        corrs_roi_sub_fb.append(np.mean([scipy.stats.pearsonr(cur_meg[iy], cur_sgm[iy])[0] for iy in range(68)]))\n",
    "    corrs_roi_sub_fb = np.array(corrs_roi_sub_fb)\n",
    "    \n",
    "    sgm_sp_sub = np.array(est_sps)\n",
    "    corrs_sp = []\n",
    "    for ix in range(meg_sps.shape[0]):\n",
    "        cur_meg = meg_sps[ix]\n",
    "        cur_sgm = cur_res.raw_sp[ix]\n",
    "        corrs_sp.append(np.dot(cur_sgm/np.linalg.norm(cur_sgm), cur_meg))\n",
    "    \n",
    "    # geodesic dist\n",
    "    geo_dists = [geodesic_dist(np.corrcoef(meg_psd_roi_sub[iz]), est_FCs[iz]) for iz in range(36)]\n",
    "    \n",
    "    result[\"sgm_psd_curs\"].append(sgm_psd_curve_fb)\n",
    "    result[\"corr\"].append(corr)\n",
    "    result[\"corrs_sp\"].append(corrs_sp)\n",
    "    result[\"corrs_roi_sub\"].append(corrs_roi_sub_fb)\n",
    "    result[\"geo_dists\"].append(geo_dists)\n",
    "result = edict(result)"
   ]
  },
  {
   "cell_type": "code",
   "execution_count": 165,
   "id": "a05b2c7b",
   "metadata": {
    "ExecuteTime": {
     "end_time": "2022-12-22T21:19:56.265421Z",
     "start_time": "2022-12-22T21:19:56.138321Z"
    }
   },
   "outputs": [
    {
     "data": {
      "text/plain": [
       "<matplotlib.legend.Legend at 0x7fed60781fd0>"
      ]
     },
     "execution_count": 165,
     "metadata": {},
     "output_type": "execute_result"
    },
    {
     "data": {
      "image/png": "[encoded data removed]",
      "text/plain": [
       "<Figure size 600x500 with 1 Axes>"
      ]
     },
     "metadata": {
      "needs_background": "light"
     },
     "output_type": "display_data"
    }
   ],
   "source": [
    "plt.figure(figsize=[6, 5], dpi=100)\n",
    "plt.plot(FREQS, stdz_vec(meg_psd_curve), linestyle = '-',marker = '',\n",
    "         fillstyle = 'none',color = 'k', \n",
    "         label = \"MEG\")\n",
    "plt.plot(FREQS, stdz_vec(result.sgm_psd_curs[0]), linestyle = '-',marker=\"o\",\n",
    "         fillstyle = 'none',color = _paras.plot_sets.col[1], \n",
    "         label = \"SBI\")\n",
    "plt.xlabel('Frequency (Hz)', fontsize = 17)\n",
    "plt.ylabel('Normalized PSD', fontsize = 17)\n",
    "plt.legend()\n"
   ]
  },
  {
   "cell_type": "code",
   "execution_count": 149,
   "id": "841b96bf",
   "metadata": {
    "ExecuteTime": {
     "end_time": "2022-12-22T07:22:57.308289Z",
     "start_time": "2022-12-22T07:22:57.301746Z"
    }
   },
   "outputs": [
    {
     "data": {
      "text/plain": [
       "[0.9896511859890272,\n",
       " 0.9899672995570162,\n",
       " 0.9898667792961188,\n",
       " 0.9909797845097846,\n",
       " 0.9901970640895238,\n",
       " 0.990141286286651,\n",
       " 0.9891244652299671,\n",
       " 0.9898683592133992,\n",
       " 0.9897329278265576,\n",
       " 0.990413250296354]"
      ]
     },
     "execution_count": 149,
     "metadata": {},
     "output_type": "execute_result"
    }
   ],
   "source": [
    "result.corr"
   ]
  },
  {
   "cell_type": "code",
   "execution_count": null,
   "id": "7fa8f0d2",
   "metadata": {},
   "outputs": [],
   "source": []
  }
 ],
 "metadata": {
  "kernelspec": {
   "display_name": "Python 3 (ipykernel)",
   "language": "python",
   "name": "python3"
  },
  "language_info": {
   "codemirror_mode": {
    "name": "ipython",
    "version": 3
   },
   "file_extension": ".py",
   "mimetype": "text/x-python",
   "name": "python",
   "nbconvert_exporter": "python",
   "pygments_lexer": "ipython3",
   "version": "3.9.7"
  },
  "toc": {
   "base_numbering": 1,
   "nav_menu": {},
   "number_sections": true,
   "sideBar": true,
   "skip_h1_title": false,
   "title_cell": "Table of Contents",
   "title_sidebar": "Contents",
   "toc_cell": false,
   "toc_position": {
    "height": "calc(100% - 180px)",
    "left": "10px",
    "top": "150px",
    "width": "193px"
   },
   "toc_section_display": true,
   "toc_window_display": true
  }
 },
 "nbformat": 4,
 "nbformat_minor": 5
}
