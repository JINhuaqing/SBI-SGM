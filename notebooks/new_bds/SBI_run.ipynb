{
 "cells": [
  {
   "cell_type": "markdown",
   "id": "48ee4fd6",
   "metadata": {},
   "source": [
    "This file is to try SBI_SGM \n",
    "\n",
    "And I train model with a general connectome.\n"
   ]
  },
  {
   "cell_type": "markdown",
   "id": "269c1f0a",
   "metadata": {},
   "source": [
    "### import and define"
   ]
  },
  {
   "cell_type": "code",
   "execution_count": 2,
   "id": "4e45686c",
   "metadata": {
    "ExecuteTime": {
     "end_time": "2022-12-29T19:04:22.840994Z",
     "start_time": "2022-12-29T19:04:22.830184Z"
    }
   },
   "outputs": [],
   "source": [
    "import os\n",
    "import sys\n",
    "module_path = os.path.abspath(os.path.join('../../mypkg'))\n",
    "if module_path not in sys.path:\n",
    "    sys.path.append(module_path)"
   ]
  },
  {
   "cell_type": "markdown",
   "id": "e5ca9b8a",
   "metadata": {},
   "source": [
    "#### Other pkgs"
   ]
  },
  {
   "cell_type": "code",
   "execution_count": 3,
   "id": "c93dcfe1",
   "metadata": {
    "ExecuteTime": {
     "end_time": "2022-12-29T19:04:48.475647Z",
     "start_time": "2022-12-29T19:04:23.413010Z"
    }
   },
   "outputs": [],
   "source": [
    "from tqdm import trange, tqdm\n",
    "\n",
    "import torch\n",
    "import torch.nn as nn \n",
    "import torch.nn.functional as F \n",
    "from sbi import utils as sutils\n",
    "from sbi import analysis as analysis\n",
    "from sbi.inference.base import infer\n",
    "from sbi.inference import SNPE, prepare_for_sbi, simulate_for_sbi\n",
    "from sbi.utils.get_nn_models import posterior_nn\n",
    "from torch.distributions.multivariate_normal import MultivariateNormal\n",
    "\n",
    "import numpy as np\n",
    "import xarray as xr\n",
    "from easydict import EasyDict as edict\n",
    "from pathlib import Path\n",
    "import pickle\n",
    "import scipy\n",
    "\n",
    "import seaborn as sns\n",
    "import pandas as pd\n",
    "import matplotlib.pyplot as plt\n",
    "import json\n",
    "from functools import partial\n",
    "\n",
    "import warnings\n",
    "warnings.filterwarnings(\"ignore\")"
   ]
  },
  {
   "cell_type": "code",
   "execution_count": null,
   "id": "8bbf603a",
   "metadata": {},
   "outputs": [],
   "source": []
  },
  {
   "cell_type": "code",
   "execution_count": null,
   "id": "aac0886a",
   "metadata": {},
   "outputs": [],
   "source": []
  },
  {
   "cell_type": "markdown",
   "id": "7452265b",
   "metadata": {},
   "source": [
    "#### My own pkgs"
   ]
  },
  {
   "cell_type": "code",
   "execution_count": 4,
   "id": "da2f4f7a",
   "metadata": {
    "ExecuteTime": {
     "end_time": "2022-12-29T19:04:51.850256Z",
     "start_time": "2022-12-29T19:04:48.480512Z"
    }
   },
   "outputs": [],
   "source": [
    "import importlib\n",
    "\n",
    "import utils.misc\n",
    "importlib.reload(utils.misc);\n",
    "from utils.misc import mag2db, meg_psd2spatialfeature, save_pkl_dict2folder, load_pkl_folder2dict, get_mode\n",
    "\n",
    "import utils.standardize\n",
    "importlib.reload(utils.standardize);\n",
    "from utils.standardize import stdz_psd, stdz_vec, minmax_vec, psd_2tr\n",
    "\n",
    "import utils.brain_plot\n",
    "importlib.reload(utils.brain_plot)\n",
    "from utils.brain_plot import U2BrainVec, reorderU \n",
    "\n",
    "import utils.reparam\n",
    "importlib.reload(utils.reparam)\n",
    "from utils.reparam import theta_raw_2out, normcdf_np, normcdf_torch, logistic_np, logistic_torch\n",
    "\n",
    "import utils.stable\n",
    "importlib.reload(utils.stable)\n",
    "from utils.stable import paras_table_check\n",
    "\n",
    "import sgm.sgm\n",
    "importlib.reload(sgm.sgm);\n",
    "from sgm.sgm import SGM\n",
    "\n",
    "\n",
    "from spectrome import Brain, path, functions\n",
    "\n",
    "import features.psm\n",
    "importlib.reload(features.psm)\n",
    "from features.psm import obt_psm_fs, obt_psm_raw\n",
    "\n",
    "import constants\n",
    "importlib.reload(constants)\n",
    "from constants import RES_ROOT, FIG_ROOT, DAT_ROOT\n",
    "\n",
    "import models.embedding_nets \n",
    "importlib.reload(models.embedding_nets)\n",
    "from models.embedding_nets import SummaryNet\n",
    "\n",
    "import sgm.data_gen \n",
    "importlib.reload(sgm.data_gen)\n",
    "from sgm.data_gen import simulator_data"
   ]
  },
  {
   "cell_type": "code",
   "execution_count": 5,
   "id": "3c28c72e",
   "metadata": {
    "ExecuteTime": {
     "end_time": "2022-12-29T19:04:51.857011Z",
     "start_time": "2022-12-29T19:04:51.853213Z"
    }
   },
   "outputs": [],
   "source": [
    "#torch.set_default_tensor_type(torch.DoubleTensor)"
   ]
  },
  {
   "cell_type": "markdown",
   "id": "4022c78f",
   "metadata": {},
   "source": [
    "### Load real data PSD and brain"
   ]
  },
  {
   "cell_type": "markdown",
   "id": "bcd6c5ab",
   "metadata": {},
   "source": [
    "#### PSD and connectome"
   ]
  },
  {
   "cell_type": "code",
   "execution_count": 6,
   "id": "bb358643",
   "metadata": {
    "ExecuteTime": {
     "end_time": "2022-12-29T19:04:52.270609Z",
     "start_time": "2022-12-29T19:04:51.860494Z"
    }
   },
   "outputs": [],
   "source": [
    "# Load data\n",
    "ind_psd_xr = xr.open_dataarray(DAT_ROOT/'individual_psd_reordered_matlab.nc')\n",
    "ind_psd = ind_psd_xr.values\n",
    "FREQS = ind_psd_xr[\"frequencies\"].values\n",
    "ind_conn_xr = xr.open_dataarray(DAT_ROOT/'individual_connectomes_reordered.nc')\n",
    "ind_conn = ind_conn_xr.values"
   ]
  },
  {
   "cell_type": "code",
   "execution_count": null,
   "id": "43c52e6c",
   "metadata": {},
   "outputs": [],
   "source": []
  },
  {
   "cell_type": "markdown",
   "id": "b6960bf4",
   "metadata": {},
   "source": [
    "#### Set up Parameters"
   ]
  },
  {
   "cell_type": "code",
   "execution_count": 18,
   "id": "d9326efc",
   "metadata": {
    "ExecuteTime": {
     "end_time": "2022-12-29T19:18:55.682130Z",
     "start_time": "2022-12-29T19:18:55.672532Z"
    }
   },
   "outputs": [],
   "source": [
    "# some constant parameters for this file\n",
    "paras = edict()\n",
    "#bnds = ((5.0,30.0), (5.0,200.0), (0.1,1.0), (5, 20), (0.001,0.7), (0.001,2.0), (5.0,30.0))\n",
    "#Bounds for taue, taui, alpha, speed, gei, gii, tauC\n",
    "# (0.001,0.7), (0.001,2.0) when considering stable checking.\n",
    "# (0.001,0.5), (0.001,1.5) as safe (narrower) bounds\n",
    "\n",
    "# taue, taui, tauC, speed, alpha, gii, gei\n",
    "paras.par_low = np.asarray([0.005,0.005,0.005,5, 0.1,0.001,0.001])\n",
    "paras.par_high = np.asarray([0.03, 0.20, 0.03,20,  1,    2,  0.7])\n",
    "paras.prior_bds = np.array([paras.par_low, paras.par_high]).T\n",
    "paras.names = [\"Taue\", \"Taui\", \"TauC\", \"Speed\", \"alpha\", \"gii\", \"gei\"]\n",
    "\n",
    "paras.noise_sd = 0.20\n",
    "paras.num_prior_sps = int(1e5)\n",
    "paras.den_est = \"nsf\"\n",
    "paras.is_embed = False\n",
    "\n",
    "paras.prior_sd = 10"
   ]
  },
  {
   "cell_type": "code",
   "execution_count": 19,
   "id": "e4533faf",
   "metadata": {
    "ExecuteTime": {
     "end_time": "2022-12-29T19:18:57.051712Z",
     "start_time": "2022-12-29T19:18:57.046914Z"
    }
   },
   "outputs": [],
   "source": [
    "_map_fn_torch = partial(logistic_torch, k=0.1)\n",
    "_theta_raw_2out = partial(theta_raw_2out, map_fn=partial(logistic_np, k=0.1))"
   ]
  },
  {
   "cell_type": "code",
   "execution_count": 20,
   "id": "daefb8f1",
   "metadata": {
    "ExecuteTime": {
     "end_time": "2022-12-29T19:18:57.643908Z",
     "start_time": "2022-12-29T19:18:57.633999Z"
    }
   },
   "outputs": [],
   "source": [
    "def _filter_unstable(theta_raw, prior_bds, x=None):\n",
    "    \"\"\"This fn is to remove unstable SGM parameters\n",
    "        args: theta_raw: parameters: num of sps x dim\n",
    "                order: ['Taue', 'Taui', 'TauC', 'Speed', 'alpha', 'gii', 'gei']\n",
    "    \"\"\"\n",
    "    theta = _theta_raw_2out(theta_raw.numpy(), prior_bds)\n",
    "    stable_idxs = paras_table_check(theta)\n",
    "    \n",
    "    # keep stable sps only\n",
    "    theta_raw_stable = theta_raw[stable_idxs==0]\n",
    "    if x is not None:\n",
    "        x_stable = x[stable_idxs==0]\n",
    "        return theta_raw_stable, x_stable\n",
    "    else:\n",
    "        return theta_raw_stable"
   ]
  },
  {
   "cell_type": "code",
   "execution_count": 21,
   "id": "221b3b6d",
   "metadata": {
    "ExecuteTime": {
     "end_time": "2022-12-29T19:18:58.328045Z",
     "start_time": "2022-12-29T19:18:58.287865Z"
    }
   },
   "outputs": [
    {
     "name": "stdout",
     "output_type": "stream",
     "text": [
      "folder is /data/rajlab1/user_data/jin/MyResearch/SBI-SGM/mypkg/../results/new_bds1_reparam100000_sd20_denestnsf_embedFalse\n",
      "True\n"
     ]
    }
   ],
   "source": [
    "# paras  for this file\n",
    "_paras = edict()\n",
    "_folder_path = f\"./new_bds1_reparam{paras.num_prior_sps:.0f}\" +\\\n",
    "               f\"_sd{paras.noise_sd*100:.0f}\" +\\\n",
    "               f\"_denest{paras.den_est}\" +\\\n",
    "               f\"_embed{paras.is_embed}\"\n",
    "_paras.folder_path = RES_ROOT/_folder_path\n",
    "print(f\"folder is {_paras.folder_path}\")\n",
    "print(_paras.folder_path.exists())"
   ]
  },
  {
   "cell_type": "code",
   "execution_count": 22,
   "id": "2f672600",
   "metadata": {
    "ExecuteTime": {
     "end_time": "2022-12-29T19:18:59.997678Z",
     "start_time": "2022-12-29T19:18:59.993609Z"
    }
   },
   "outputs": [],
   "source": [
    "cur_res = edict()"
   ]
  },
  {
   "cell_type": "markdown",
   "id": "86923703",
   "metadata": {},
   "source": [
    "### Prepare for SBI"
   ]
  },
  {
   "cell_type": "markdown",
   "id": "f931d238",
   "metadata": {},
   "source": [
    "#### Simulator"
   ]
  },
  {
   "cell_type": "code",
   "execution_count": 23,
   "id": "b4ee7118",
   "metadata": {
    "ExecuteTime": {
     "end_time": "2022-12-29T19:19:00.852860Z",
     "start_time": "2022-12-29T19:19:00.843484Z"
    }
   },
   "outputs": [],
   "source": [
    "def simulator(params, noise_sd, sgmmodel, prior_bds):\n",
    "    \"\"\"The function to simulate samples\n",
    "    \"\"\"\n",
    "    params_trans = []\n",
    "    for param, prior_bd in zip(params, prior_bds):\n",
    "        param_trans =  _map_fn_torch(param)*(prior_bd[1]-prior_bd[0]) + prior_bd[0]\n",
    "        params_trans.append(param_trans)\n",
    "    params_trans = torch.tensor(params_trans)\n",
    "    \n",
    "    psd, spatialFs = sgmmodel.run_local_coupling_forward(params_trans)\n",
    "    psd = psd[:68, :]\n",
    "    std_spatial = stdz_vec(spatialFs.sum(axis=1)) # std it\n",
    "    \n",
    "    std_psd_DB = psd_2tr(psd)\n",
    "    psd_fs = std_psd_DB.flatten()\n",
    "    \n",
    "    res = np.concatenate([psd_fs, std_spatial]) \n",
    "    noise =  np.random.randn(*res.shape)*noise_sd \n",
    "    \n",
    "    return res+noise"
   ]
  },
  {
   "cell_type": "code",
   "execution_count": null,
   "id": "df187c08",
   "metadata": {},
   "outputs": [],
   "source": []
  },
  {
   "cell_type": "markdown",
   "id": "e2078c03",
   "metadata": {},
   "source": [
    "#### Prior "
   ]
  },
  {
   "cell_type": "code",
   "execution_count": 24,
   "id": "23dff474",
   "metadata": {
    "ExecuteTime": {
     "end_time": "2022-12-29T19:19:03.517812Z",
     "start_time": "2022-12-29T19:19:02.564090Z"
    }
   },
   "outputs": [],
   "source": [
    "prior = MultivariateNormal(loc=torch.zeros(7), covariance_matrix=torch.eye(7)*(paras.prior_sd**2))"
   ]
  },
  {
   "cell_type": "markdown",
   "id": "1b4a2ec2",
   "metadata": {},
   "source": [
    "#### Density estimator"
   ]
  },
  {
   "cell_type": "code",
   "execution_count": 25,
   "id": "dd66a9e9",
   "metadata": {
    "ExecuteTime": {
     "end_time": "2022-12-29T19:19:03.991938Z",
     "start_time": "2022-12-29T19:19:03.985888Z"
    }
   },
   "outputs": [],
   "source": [
    "if paras.is_embed:\n",
    "    embedding_net = SummaryNet(num_in_fs=68*41)\n",
    "    paras.den_est = sutils.posterior_nn(\n",
    "    model=paras.den_est, embedding_net=embedding_net)\n",
    "    for ix in embedding_net.parameters():\n",
    "        print(ix.sum(), ix.shape, ix.dtype)"
   ]
  },
  {
   "cell_type": "markdown",
   "id": "5a694c3b",
   "metadata": {},
   "source": [
    "### SBI"
   ]
  },
  {
   "cell_type": "code",
   "execution_count": 26,
   "id": "c82b5b02",
   "metadata": {
    "ExecuteTime": {
     "end_time": "2022-12-29T19:19:06.903814Z",
     "start_time": "2022-12-29T19:19:04.664354Z"
    }
   },
   "outputs": [],
   "source": [
    "# obtain the brain\n",
    "brain = Brain.Brain()\n",
    "brain.add_connectome(DAT_ROOT)\n",
    "brain.reorder_connectome(brain.connectome, brain.distance_matrix)\n",
    "brain.bi_symmetric_c()\n",
    "brain.reduce_extreme_dir()\n",
    "sgmmodel = SGM(brain.reducedConnectome, brain.distance_matrix, FREQS)\n",
    "\n",
    "simulator_sp = partial(simulator,  noise_sd=paras.noise_sd, sgmmodel=sgmmodel, prior_bds=paras.prior_bds)\n",
    "# make a SBI-wrapper on the simulator object for compatibility\n",
    "simulator_wrapper, prior = prepare_for_sbi(simulator_sp, prior)"
   ]
  },
  {
   "cell_type": "code",
   "execution_count": 55,
   "id": "b181561b",
   "metadata": {
    "ExecuteTime": {
     "end_time": "2022-12-29T19:33:43.051983Z",
     "start_time": "2022-12-29T19:33:43.041940Z"
    },
    "code_folding": [
     0
    ]
   },
   "outputs": [
    {
     "name": "stdout",
     "output_type": "stream",
     "text": [
      "/data/rajlab1/user_data/jin/MyResearch/SBI-SGM/mypkg/../data/HCP_SC_advdctrl.pkl exists! Use is_force=True to save it anyway\n"
     ]
    }
   ],
   "source": [
    "# save the HCP SC in AD-vs-ctrl data order (Not for this file)\n",
    "from utils.misc import save_pkl\n",
    "HCP_SC = brain.reducedConnectome[:68, :68]\n",
    "reidxs = np.concatenate([np.arange(9), [33], np.arange(9, 33),  \n",
    "                         np.arange(34, 43), [67], np.arange(43, 67)])\n",
    "reorder_HCP_SC = HCP_SC[reidxs, :][:, reidxs]\n",
    "save_pkl(DAT_ROOT/\"HCP_SC_advdctrl.pkl\", reorder_HCP_SC)"
   ]
  },
  {
   "cell_type": "code",
   "execution_count": 42,
   "id": "c6393378",
   "metadata": {
    "ExecuteTime": {
     "end_time": "2022-12-29T19:25:55.358341Z",
     "start_time": "2022-12-29T19:25:55.353420Z"
    }
   },
   "outputs": [],
   "source": []
  },
  {
   "cell_type": "code",
   "execution_count": null,
   "id": "ec84fcba",
   "metadata": {},
   "outputs": [],
   "source": []
  },
  {
   "cell_type": "markdown",
   "id": "aa59351b",
   "metadata": {},
   "source": [
    "#### RUN"
   ]
  },
  {
   "cell_type": "code",
   "execution_count": 62,
   "id": "e718d63f",
   "metadata": {
    "ExecuteTime": {
     "end_time": "2022-12-19T02:09:04.540365Z",
     "start_time": "2022-12-19T02:02:22.169043Z"
    }
   },
   "outputs": [
    {
     "data": {
      "application/vnd.jupyter.widget-view+json": {
       "model_id": "781a6d9199f64c08a0fb829ac0dab1e6",
       "version_major": 2,
       "version_minor": 0
      },
      "text/plain": [
       "Running 10000 simulations in 10000 batches.:   0%|          | 0/10000 [00:00<?, ?it/s]"
      ]
     },
     "metadata": {},
     "output_type": "display_data"
    }
   ],
   "source": [
    "theta_raw, x = simulate_for_sbi(simulator_wrapper, prior, \n",
    "                            num_simulations=int(paras.num_prior_sps), \n",
    "                            num_workers=50)"
   ]
  },
  {
   "cell_type": "code",
   "execution_count": 63,
   "id": "a16e8d33",
   "metadata": {
    "ExecuteTime": {
     "end_time": "2022-12-19T02:09:05.290706Z",
     "start_time": "2022-12-19T02:09:04.542705Z"
    }
   },
   "outputs": [],
   "source": [
    "# keep stable sps only\n",
    "theta_raw_stable, x_stable = _filter_unstable(theta_raw, paras.prior_bds, x)"
   ]
  },
  {
   "cell_type": "code",
   "execution_count": 64,
   "id": "3783abdd",
   "metadata": {
    "ExecuteTime": {
     "end_time": "2022-12-19T02:11:25.627483Z",
     "start_time": "2022-12-19T02:09:05.291813Z"
    },
    "scrolled": true
   },
   "outputs": [
    {
     "name": "stdout",
     "output_type": "stream",
     "text": [
      " Neural network successfully converged after 25 epochs."
     ]
    }
   ],
   "source": [
    "inference = SNPE(prior=prior, density_estimator=paras.den_est)\n",
    "density_estimator = inference.append_simulations(theta_raw_stable, x_stable).train()\n",
    "posterior = inference.build_posterior(density_estimator)"
   ]
  },
  {
   "cell_type": "code",
   "execution_count": 65,
   "id": "7e2bb5bb",
   "metadata": {
    "ExecuteTime": {
     "end_time": "2022-12-19T02:11:27.128163Z",
     "start_time": "2022-12-19T02:11:25.631931Z"
    }
   },
   "outputs": [
    {
     "name": "stdout",
     "output_type": "stream",
     "text": [
      "/data/rajlab1/user_data/jin/MyResearch/SBI-SGM/mypkg/../results/new_bds_reparam10000_sd15_denestnsf_embedFalse\n",
      "Create a folder /data/rajlab1/user_data/jin/MyResearch/SBI-SGM/mypkg/../results/new_bds_reparam10000_sd15_denestnsf_embedFalse\n",
      "Save to /data/rajlab1/user_data/jin/MyResearch/SBI-SGM/mypkg/../results/new_bds_reparam10000_sd15_denestnsf_embedFalse/theta_raw.pkl\n",
      "Save to /data/rajlab1/user_data/jin/MyResearch/SBI-SGM/mypkg/../results/new_bds_reparam10000_sd15_denestnsf_embedFalse/x.pkl\n",
      "Save to /data/rajlab1/user_data/jin/MyResearch/SBI-SGM/mypkg/../results/new_bds_reparam10000_sd15_denestnsf_embedFalse/posterior.pkl\n"
     ]
    }
   ],
   "source": [
    "cur_res.theta_raw = theta_raw_stable\n",
    "cur_res.x = x_stable\n",
    "cur_res.posterior = posterior\n",
    "if paras.is_embed:\n",
    "    cur_res.embedding_net = embedding_net\n",
    "    for ix in embedding_net.parameters():\n",
    "        print(ix.sum(), ix.shape)\n",
    "save_pkl_dict2folder(_paras.folder_path, cur_res, is_force=False)"
   ]
  },
  {
   "cell_type": "code",
   "execution_count": null,
   "id": "b6ac9780",
   "metadata": {},
   "outputs": [],
   "source": []
  },
  {
   "cell_type": "markdown",
   "id": "a760e52d",
   "metadata": {},
   "source": [
    "#### Get posterior"
   ]
  },
  {
   "cell_type": "code",
   "execution_count": 66,
   "id": "6b548503",
   "metadata": {
    "ExecuteTime": {
     "end_time": "2022-12-19T02:16:35.258942Z",
     "start_time": "2022-12-19T02:16:35.212254Z"
    }
   },
   "outputs": [
    {
     "name": "stdout",
     "output_type": "stream",
     "text": [
      "Load file /data/rajlab1/user_data/jin/MyResearch/SBI-SGM/mypkg/../results/new_bds_reparam10000_sd15_denestnsf_embedFalse/posterior.pkl\n"
     ]
    }
   ],
   "source": [
    "cur_res = load_pkl_folder2dict(_paras.folder_path, [\"x\", \"*_raw\"])"
   ]
  },
  {
   "cell_type": "code",
   "execution_count": 67,
   "id": "88174c4a",
   "metadata": {
    "ExecuteTime": {
     "end_time": "2022-12-19T02:17:10.857364Z",
     "start_time": "2022-12-19T02:16:36.903550Z"
    },
    "scrolled": true
   },
   "outputs": [
    {
     "data": {
      "application/vnd.jupyter.widget-view+json": {
       "model_id": "7215646a7c5d4b1bbea02c6546bdb090",
       "version_major": 2,
       "version_minor": 0
      },
      "text/plain": [
       "Drawing 10000 posterior samples:   0%|          | 0/10000 [00:00<?, ?it/s]"
      ]
     },
     "metadata": {},
     "output_type": "display_data"
    },
    {
     "name": "stdout",
     "output_type": "stream",
     "text": [
      "torch.Size([8496, 7])\n"
     ]
    },
    {
     "data": {
      "application/vnd.jupyter.widget-view+json": {
       "model_id": "8351cd7290764360bba8aac1143890f4",
       "version_major": 2,
       "version_minor": 0
      },
      "text/plain": [
       "Drawing 10000 posterior samples:   0%|          | 0/10000 [00:00<?, ?it/s]"
      ]
     },
     "metadata": {},
     "output_type": "display_data"
    },
    {
     "name": "stdout",
     "output_type": "stream",
     "text": [
      "torch.Size([8918, 7])\n"
     ]
    },
    {
     "data": {
      "application/vnd.jupyter.widget-view+json": {
       "model_id": "62b16ffacf094757a09dabeb33a4f47c",
       "version_major": 2,
       "version_minor": 0
      },
      "text/plain": [
       "Drawing 10000 posterior samples:   0%|          | 0/10000 [00:00<?, ?it/s]"
      ]
     },
     "metadata": {},
     "output_type": "display_data"
    },
    {
     "name": "stdout",
     "output_type": "stream",
     "text": [
      "torch.Size([9192, 7])\n"
     ]
    },
    {
     "data": {
      "application/vnd.jupyter.widget-view+json": {
       "model_id": "97985188faeb42389c06dc5f2ef0ceef",
       "version_major": 2,
       "version_minor": 0
      },
      "text/plain": [
       "Drawing 10000 posterior samples:   0%|          | 0/10000 [00:00<?, ?it/s]"
      ]
     },
     "metadata": {},
     "output_type": "display_data"
    },
    {
     "name": "stdout",
     "output_type": "stream",
     "text": [
      "torch.Size([9883, 7])\n"
     ]
    },
    {
     "data": {
      "application/vnd.jupyter.widget-view+json": {
       "model_id": "d0837487ced84b23a61f57913fd39655",
       "version_major": 2,
       "version_minor": 0
      },
      "text/plain": [
       "Drawing 10000 posterior samples:   0%|          | 0/10000 [00:00<?, ?it/s]"
      ]
     },
     "metadata": {},
     "output_type": "display_data"
    },
    {
     "name": "stdout",
     "output_type": "stream",
     "text": [
      "torch.Size([7403, 7])\n"
     ]
    },
    {
     "data": {
      "application/vnd.jupyter.widget-view+json": {
       "model_id": "512a9adff85f4dd5a55f17c1a64feb84",
       "version_major": 2,
       "version_minor": 0
      },
      "text/plain": [
       "Drawing 10000 posterior samples:   0%|          | 0/10000 [00:00<?, ?it/s]"
      ]
     },
     "metadata": {},
     "output_type": "display_data"
    },
    {
     "name": "stdout",
     "output_type": "stream",
     "text": [
      "torch.Size([9116, 7])\n"
     ]
    },
    {
     "data": {
      "application/vnd.jupyter.widget-view+json": {
       "model_id": "b10709e8f28d452592bba027d55c2b34",
       "version_major": 2,
       "version_minor": 0
      },
      "text/plain": [
       "Drawing 10000 posterior samples:   0%|          | 0/10000 [00:00<?, ?it/s]"
      ]
     },
     "metadata": {},
     "output_type": "display_data"
    },
    {
     "name": "stdout",
     "output_type": "stream",
     "text": [
      "torch.Size([9992, 7])\n"
     ]
    },
    {
     "data": {
      "application/vnd.jupyter.widget-view+json": {
       "model_id": "dc1645ac0bea47bbb0f272712700d0d2",
       "version_major": 2,
       "version_minor": 0
      },
      "text/plain": [
       "Drawing 10000 posterior samples:   0%|          | 0/10000 [00:00<?, ?it/s]"
      ]
     },
     "metadata": {},
     "output_type": "display_data"
    },
    {
     "name": "stdout",
     "output_type": "stream",
     "text": [
      "torch.Size([9985, 7])\n"
     ]
    },
    {
     "data": {
      "application/vnd.jupyter.widget-view+json": {
       "model_id": "45753216b34d4abcbff8b3eb90793aa0",
       "version_major": 2,
       "version_minor": 0
      },
      "text/plain": [
       "Drawing 10000 posterior samples:   0%|          | 0/10000 [00:00<?, ?it/s]"
      ]
     },
     "metadata": {},
     "output_type": "display_data"
    },
    {
     "name": "stdout",
     "output_type": "stream",
     "text": [
      "torch.Size([9555, 7])\n"
     ]
    },
    {
     "data": {
      "application/vnd.jupyter.widget-view+json": {
       "model_id": "395cee456d5e477cba15c4887883e426",
       "version_major": 2,
       "version_minor": 0
      },
      "text/plain": [
       "Drawing 10000 posterior samples:   0%|          | 0/10000 [00:00<?, ?it/s]"
      ]
     },
     "metadata": {},
     "output_type": "display_data"
    },
    {
     "name": "stdout",
     "output_type": "stream",
     "text": [
      "torch.Size([9932, 7])\n"
     ]
    },
    {
     "data": {
      "application/vnd.jupyter.widget-view+json": {
       "model_id": "aec0c34d4846457d8152af3aa7bc70db",
       "version_major": 2,
       "version_minor": 0
      },
      "text/plain": [
       "Drawing 10000 posterior samples:   0%|          | 0/10000 [00:00<?, ?it/s]"
      ]
     },
     "metadata": {},
     "output_type": "display_data"
    },
    {
     "name": "stdout",
     "output_type": "stream",
     "text": [
      "torch.Size([8937, 7])\n"
     ]
    },
    {
     "data": {
      "application/vnd.jupyter.widget-view+json": {
       "model_id": "217c1e696a294ba8b8f3adbb6995afe9",
       "version_major": 2,
       "version_minor": 0
      },
      "text/plain": [
       "Drawing 10000 posterior samples:   0%|          | 0/10000 [00:00<?, ?it/s]"
      ]
     },
     "metadata": {},
     "output_type": "display_data"
    },
    {
     "name": "stdout",
     "output_type": "stream",
     "text": [
      "torch.Size([7253, 7])\n"
     ]
    },
    {
     "data": {
      "application/vnd.jupyter.widget-view+json": {
       "model_id": "09dd10da081a4fd29219cc4c77dddc76",
       "version_major": 2,
       "version_minor": 0
      },
      "text/plain": [
       "Drawing 10000 posterior samples:   0%|          | 0/10000 [00:00<?, ?it/s]"
      ]
     },
     "metadata": {},
     "output_type": "display_data"
    },
    {
     "name": "stdout",
     "output_type": "stream",
     "text": [
      "torch.Size([9526, 7])\n"
     ]
    },
    {
     "data": {
      "application/vnd.jupyter.widget-view+json": {
       "model_id": "09bf7e95b3ff4b31a961848ebc97b2c5",
       "version_major": 2,
       "version_minor": 0
      },
      "text/plain": [
       "Drawing 10000 posterior samples:   0%|          | 0/10000 [00:00<?, ?it/s]"
      ]
     },
     "metadata": {},
     "output_type": "display_data"
    },
    {
     "name": "stdout",
     "output_type": "stream",
     "text": [
      "torch.Size([9641, 7])\n"
     ]
    },
    {
     "data": {
      "application/vnd.jupyter.widget-view+json": {
       "model_id": "be8400d7559e4d83b64c31a21c670163",
       "version_major": 2,
       "version_minor": 0
      },
      "text/plain": [
       "Drawing 10000 posterior samples:   0%|          | 0/10000 [00:00<?, ?it/s]"
      ]
     },
     "metadata": {},
     "output_type": "display_data"
    },
    {
     "name": "stdout",
     "output_type": "stream",
     "text": [
      "torch.Size([9928, 7])\n"
     ]
    },
    {
     "data": {
      "application/vnd.jupyter.widget-view+json": {
       "model_id": "ccacb721305443e99aa6f59768406b5e",
       "version_major": 2,
       "version_minor": 0
      },
      "text/plain": [
       "Drawing 10000 posterior samples:   0%|          | 0/10000 [00:00<?, ?it/s]"
      ]
     },
     "metadata": {},
     "output_type": "display_data"
    },
    {
     "name": "stdout",
     "output_type": "stream",
     "text": [
      "torch.Size([9561, 7])\n"
     ]
    },
    {
     "data": {
      "application/vnd.jupyter.widget-view+json": {
       "model_id": "6950b94243944101bd2657ede82d214c",
       "version_major": 2,
       "version_minor": 0
      },
      "text/plain": [
       "Drawing 10000 posterior samples:   0%|          | 0/10000 [00:00<?, ?it/s]"
      ]
     },
     "metadata": {},
     "output_type": "display_data"
    },
    {
     "name": "stdout",
     "output_type": "stream",
     "text": [
      "torch.Size([9674, 7])\n"
     ]
    },
    {
     "data": {
      "application/vnd.jupyter.widget-view+json": {
       "model_id": "22f69b6d636449a8a1ad160037800090",
       "version_major": 2,
       "version_minor": 0
      },
      "text/plain": [
       "Drawing 10000 posterior samples:   0%|          | 0/10000 [00:00<?, ?it/s]"
      ]
     },
     "metadata": {},
     "output_type": "display_data"
    },
    {
     "name": "stdout",
     "output_type": "stream",
     "text": [
      "torch.Size([9093, 7])\n"
     ]
    },
    {
     "data": {
      "application/vnd.jupyter.widget-view+json": {
       "model_id": "ac1f34dfb8894cfba21132e92ed1deb1",
       "version_major": 2,
       "version_minor": 0
      },
      "text/plain": [
       "Drawing 10000 posterior samples:   0%|          | 0/10000 [00:00<?, ?it/s]"
      ]
     },
     "metadata": {},
     "output_type": "display_data"
    },
    {
     "name": "stdout",
     "output_type": "stream",
     "text": [
      "torch.Size([9748, 7])\n"
     ]
    },
    {
     "data": {
      "application/vnd.jupyter.widget-view+json": {
       "model_id": "ae77c34d3b8a4908bf5fb902b7e98bed",
       "version_major": 2,
       "version_minor": 0
      },
      "text/plain": [
       "Drawing 10000 posterior samples:   0%|          | 0/10000 [00:00<?, ?it/s]"
      ]
     },
     "metadata": {},
     "output_type": "display_data"
    },
    {
     "name": "stdout",
     "output_type": "stream",
     "text": [
      "torch.Size([9455, 7])\n"
     ]
    },
    {
     "data": {
      "application/vnd.jupyter.widget-view+json": {
       "model_id": "c3d4166e90f8494a8c54e95c8862b70b",
       "version_major": 2,
       "version_minor": 0
      },
      "text/plain": [
       "Drawing 10000 posterior samples:   0%|          | 0/10000 [00:00<?, ?it/s]"
      ]
     },
     "metadata": {},
     "output_type": "display_data"
    },
    {
     "name": "stdout",
     "output_type": "stream",
     "text": [
      "torch.Size([9799, 7])\n"
     ]
    },
    {
     "data": {
      "application/vnd.jupyter.widget-view+json": {
       "model_id": "5c2cb20e8fde462c996ec1bdb33f6f2c",
       "version_major": 2,
       "version_minor": 0
      },
      "text/plain": [
       "Drawing 10000 posterior samples:   0%|          | 0/10000 [00:00<?, ?it/s]"
      ]
     },
     "metadata": {},
     "output_type": "display_data"
    },
    {
     "name": "stdout",
     "output_type": "stream",
     "text": [
      "torch.Size([8784, 7])\n"
     ]
    },
    {
     "data": {
      "application/vnd.jupyter.widget-view+json": {
       "model_id": "664bdd66b5324ef0b7e39272ab2539da",
       "version_major": 2,
       "version_minor": 0
      },
      "text/plain": [
       "Drawing 10000 posterior samples:   0%|          | 0/10000 [00:00<?, ?it/s]"
      ]
     },
     "metadata": {},
     "output_type": "display_data"
    },
    {
     "name": "stdout",
     "output_type": "stream",
     "text": [
      "torch.Size([9652, 7])\n"
     ]
    },
    {
     "data": {
      "application/vnd.jupyter.widget-view+json": {
       "model_id": "623e62a73473435c94fafbf9555d5ea9",
       "version_major": 2,
       "version_minor": 0
      },
      "text/plain": [
       "Drawing 10000 posterior samples:   0%|          | 0/10000 [00:00<?, ?it/s]"
      ]
     },
     "metadata": {},
     "output_type": "display_data"
    },
    {
     "name": "stdout",
     "output_type": "stream",
     "text": [
      "torch.Size([9896, 7])\n"
     ]
    },
    {
     "data": {
      "application/vnd.jupyter.widget-view+json": {
       "model_id": "f91fc1b4eb24465a9b0e5f4eba22c9f0",
       "version_major": 2,
       "version_minor": 0
      },
      "text/plain": [
       "Drawing 10000 posterior samples:   0%|          | 0/10000 [00:00<?, ?it/s]"
      ]
     },
     "metadata": {},
     "output_type": "display_data"
    },
    {
     "name": "stdout",
     "output_type": "stream",
     "text": [
      "torch.Size([5615, 7])\n"
     ]
    },
    {
     "data": {
      "application/vnd.jupyter.widget-view+json": {
       "model_id": "8df0dc594a6442f39f2b12c9c8801525",
       "version_major": 2,
       "version_minor": 0
      },
      "text/plain": [
       "Drawing 10000 posterior samples:   0%|          | 0/10000 [00:00<?, ?it/s]"
      ]
     },
     "metadata": {},
     "output_type": "display_data"
    },
    {
     "name": "stdout",
     "output_type": "stream",
     "text": [
      "torch.Size([9945, 7])\n"
     ]
    },
    {
     "data": {
      "application/vnd.jupyter.widget-view+json": {
       "model_id": "87beb745ca2e454381aadf700e691289",
       "version_major": 2,
       "version_minor": 0
      },
      "text/plain": [
       "Drawing 10000 posterior samples:   0%|          | 0/10000 [00:00<?, ?it/s]"
      ]
     },
     "metadata": {},
     "output_type": "display_data"
    },
    {
     "name": "stdout",
     "output_type": "stream",
     "text": [
      "torch.Size([9356, 7])\n"
     ]
    },
    {
     "data": {
      "application/vnd.jupyter.widget-view+json": {
       "model_id": "1303da599ac445c2ba799d02601b9887",
       "version_major": 2,
       "version_minor": 0
      },
      "text/plain": [
       "Drawing 10000 posterior samples:   0%|          | 0/10000 [00:00<?, ?it/s]"
      ]
     },
     "metadata": {},
     "output_type": "display_data"
    },
    {
     "name": "stdout",
     "output_type": "stream",
     "text": [
      "torch.Size([9860, 7])\n"
     ]
    },
    {
     "data": {
      "application/vnd.jupyter.widget-view+json": {
       "model_id": "f3b5e938c79e449f946ea7606543c99e",
       "version_major": 2,
       "version_minor": 0
      },
      "text/plain": [
       "Drawing 10000 posterior samples:   0%|          | 0/10000 [00:00<?, ?it/s]"
      ]
     },
     "metadata": {},
     "output_type": "display_data"
    },
    {
     "name": "stdout",
     "output_type": "stream",
     "text": [
      "torch.Size([9383, 7])\n"
     ]
    },
    {
     "data": {
      "application/vnd.jupyter.widget-view+json": {
       "model_id": "69a0dc28cd77454991ce965758c9e9f3",
       "version_major": 2,
       "version_minor": 0
      },
      "text/plain": [
       "Drawing 10000 posterior samples:   0%|          | 0/10000 [00:00<?, ?it/s]"
      ]
     },
     "metadata": {},
     "output_type": "display_data"
    },
    {
     "name": "stdout",
     "output_type": "stream",
     "text": [
      "torch.Size([9970, 7])\n"
     ]
    },
    {
     "data": {
      "application/vnd.jupyter.widget-view+json": {
       "model_id": "3df8219f2d48425ba1f9e343be86caa8",
       "version_major": 2,
       "version_minor": 0
      },
      "text/plain": [
       "Drawing 10000 posterior samples:   0%|          | 0/10000 [00:00<?, ?it/s]"
      ]
     },
     "metadata": {},
     "output_type": "display_data"
    },
    {
     "name": "stdout",
     "output_type": "stream",
     "text": [
      "torch.Size([9701, 7])\n"
     ]
    },
    {
     "data": {
      "application/vnd.jupyter.widget-view+json": {
       "model_id": "73ea09e656f041c69e2a0efd5ec74412",
       "version_major": 2,
       "version_minor": 0
      },
      "text/plain": [
       "Drawing 10000 posterior samples:   0%|          | 0/10000 [00:00<?, ?it/s]"
      ]
     },
     "metadata": {},
     "output_type": "display_data"
    },
    {
     "name": "stdout",
     "output_type": "stream",
     "text": [
      "torch.Size([9650, 7])\n"
     ]
    },
    {
     "data": {
      "application/vnd.jupyter.widget-view+json": {
       "model_id": "9bbe7807afac4999bd1437a5fd708eaa",
       "version_major": 2,
       "version_minor": 0
      },
      "text/plain": [
       "Drawing 10000 posterior samples:   0%|          | 0/10000 [00:00<?, ?it/s]"
      ]
     },
     "metadata": {},
     "output_type": "display_data"
    },
    {
     "name": "stdout",
     "output_type": "stream",
     "text": [
      "torch.Size([8286, 7])\n"
     ]
    },
    {
     "data": {
      "application/vnd.jupyter.widget-view+json": {
       "model_id": "e9949a5be314407d89a1f91c5881217d",
       "version_major": 2,
       "version_minor": 0
      },
      "text/plain": [
       "Drawing 10000 posterior samples:   0%|          | 0/10000 [00:00<?, ?it/s]"
      ]
     },
     "metadata": {},
     "output_type": "display_data"
    },
    {
     "name": "stdout",
     "output_type": "stream",
     "text": [
      "torch.Size([9733, 7])\n"
     ]
    },
    {
     "data": {
      "application/vnd.jupyter.widget-view+json": {
       "model_id": "93087fb7af88485fa318fafb44dc8f5b",
       "version_major": 2,
       "version_minor": 0
      },
      "text/plain": [
       "Drawing 10000 posterior samples:   0%|          | 0/10000 [00:00<?, ?it/s]"
      ]
     },
     "metadata": {},
     "output_type": "display_data"
    },
    {
     "name": "stdout",
     "output_type": "stream",
     "text": [
      "torch.Size([8548, 7])\n"
     ]
    },
    {
     "data": {
      "application/vnd.jupyter.widget-view+json": {
       "model_id": "24c202cf6b1a4706bf26d20777e35596",
       "version_major": 2,
       "version_minor": 0
      },
      "text/plain": [
       "Drawing 10000 posterior samples:   0%|          | 0/10000 [00:00<?, ?it/s]"
      ]
     },
     "metadata": {},
     "output_type": "display_data"
    },
    {
     "name": "stdout",
     "output_type": "stream",
     "text": [
      "torch.Size([9427, 7])\n"
     ]
    }
   ],
   "source": [
    "post_spss_raw = []\n",
    "for ix in range(ind_psd.shape[-1]):\n",
    "    curC = ind_conn[:, :, ix]\n",
    "    curBrain = Brain.Brain()\n",
    "    curBrain.add_connectome(DAT_ROOT) # grabs distance matrix\n",
    "    # re-ordering for DK atlas and normalizing the connectomes:\n",
    "    curBrain.reorder_connectome(curBrain.connectome, curBrain.distance_matrix)\n",
    "    curBrain.connectome = curC# re-assign connectome to individual connectome\n",
    "    curBrain.bi_symmetric_c()\n",
    "    curBrain.reduce_extreme_dir()\n",
    "        \n",
    "    sp, raw_sps = meg_psd2spatialfeature(curBrain.reducedConnectome, ind_psd[:, :, ix], FREQS, band=\"alpha\")\n",
    "    \n",
    "    std_spv = stdz_vec(raw_sps.sum(axis=1))\n",
    "    std_psd_DB = psd_2tr(ind_psd[:, :, ix])\n",
    "    \n",
    "    curX_raw = np.concatenate([std_psd_DB.flatten(), std_spv])\n",
    "    curX = torch.Tensor(curX_raw)\n",
    "    post_sps_raw = cur_res.posterior.sample((10000, ), x=curX, max_sampling_batch_size=10000)\n",
    "    post_sps_raw_stable = _filter_unstable(post_sps_raw, paras.prior_bds)\n",
    "    print(post_sps_raw_stable.shape)\n",
    "    post_spss_raw.append(post_sps_raw_stable.numpy())\n",
    "        "
   ]
  },
  {
   "cell_type": "code",
   "execution_count": 68,
   "id": "40eae794",
   "metadata": {
    "ExecuteTime": {
     "end_time": "2022-12-19T02:17:18.866904Z",
     "start_time": "2022-12-19T02:17:18.729177Z"
    }
   },
   "outputs": [
    {
     "name": "stdout",
     "output_type": "stream",
     "text": [
      "/data/rajlab1/user_data/jin/MyResearch/SBI-SGM/mypkg/../results/new_bds_reparam10000_sd15_denestnsf_embedFalse/posterior.pkl exists! Use is_force=True to save it anyway\n",
      "Save to /data/rajlab1/user_data/jin/MyResearch/SBI-SGM/mypkg/../results/new_bds_reparam10000_sd15_denestnsf_embedFalse/post_spss_raw.pkl\n"
     ]
    }
   ],
   "source": [
    "cur_res.post_spss_raw = post_spss_raw\n",
    "save_pkl_dict2folder(_paras.folder_path, cur_res, is_force=False)"
   ]
  },
  {
   "cell_type": "code",
   "execution_count": 69,
   "id": "6b39a8f9",
   "metadata": {
    "ExecuteTime": {
     "end_time": "2022-12-19T02:17:21.643355Z",
     "start_time": "2022-12-19T02:17:20.001733Z"
    }
   },
   "outputs": [
    {
     "data": {
      "image/png": "[encoded data removed]",
      "text/plain": [
       "<Figure size 576x576 with 49 Axes>"
      ]
     },
     "metadata": {
      "needs_background": "light"
     },
     "output_type": "display_data"
    }
   ],
   "source": [
    "# taue, taui, tauC, speed, alpha, gii, gei\n",
    "_ = analysis.pairplot(cur_res.post_spss_raw[0], \n",
    "                      #limits=paras.prior_bds,\n",
    "                      labels=['taue','taui','tauG','speed','alpha','gii','gei'], \n",
    "                      figsize=(8,8))"
   ]
  },
  {
   "cell_type": "code",
   "execution_count": 70,
   "id": "aa1dcb31",
   "metadata": {
    "ExecuteTime": {
     "end_time": "2022-12-19T02:17:23.845624Z",
     "start_time": "2022-12-19T02:17:23.566269Z"
    }
   },
   "outputs": [
    {
     "name": "stdout",
     "output_type": "stream",
     "text": [
      "/data/rajlab1/user_data/jin/MyResearch/SBI-SGM/mypkg/../results/new_bds_reparam10000_sd15_denestnsf_embedFalse/posterior.pkl exists! Use is_force=True to save it anyway\n",
      "/data/rajlab1/user_data/jin/MyResearch/SBI-SGM/mypkg/../results/new_bds_reparam10000_sd15_denestnsf_embedFalse/post_spss_raw.pkl exists! Use is_force=True to save it anyway\n",
      "Save to /data/rajlab1/user_data/jin/MyResearch/SBI-SGM/mypkg/../results/new_bds_reparam10000_sd15_denestnsf_embedFalse/post_spss.pkl\n"
     ]
    }
   ],
   "source": [
    "# from theta_raw to theta\n",
    "post_spss = [_theta_raw_2out(post_sps_raw, paras.prior_bds) for post_sps_raw in cur_res.post_spss_raw]\n",
    "\n",
    "cur_res.post_spss = post_spss\n",
    "save_pkl_dict2folder(_paras.folder_path, cur_res, is_force=False)"
   ]
  },
  {
   "cell_type": "code",
   "execution_count": 71,
   "id": "8e52ae29",
   "metadata": {
    "ExecuteTime": {
     "end_time": "2022-12-19T02:17:26.655294Z",
     "start_time": "2022-12-19T02:17:25.077892Z"
    }
   },
   "outputs": [
    {
     "data": {
      "image/png": "[encoded data removed]",
      "text/plain": [
       "<Figure size 576x576 with 49 Axes>"
      ]
     },
     "metadata": {
      "needs_background": "light"
     },
     "output_type": "display_data"
    }
   ],
   "source": [
    "# taue, taui, tauC, speed, alpha, gii, gei\n",
    "_ = analysis.pairplot(cur_res.post_spss[0], \n",
    "                      limits=paras.prior_bds,\n",
    "                      labels=['taue','taui','tauG','speed','alpha','gii','gei'], \n",
    "                      figsize=(8,8))"
   ]
  },
  {
   "cell_type": "code",
   "execution_count": null,
   "id": "8f0b70b3",
   "metadata": {},
   "outputs": [],
   "source": []
  },
  {
   "cell_type": "markdown",
   "id": "b71633d4",
   "metadata": {},
   "source": [
    "#### PSD estimate"
   ]
  },
  {
   "cell_type": "code",
   "execution_count": 30,
   "id": "d0b94780",
   "metadata": {
    "ExecuteTime": {
     "end_time": "2022-12-19T05:38:24.687919Z",
     "start_time": "2022-12-19T05:38:23.678614Z"
    }
   },
   "outputs": [
    {
     "name": "stdout",
     "output_type": "stream",
     "text": [
      "Load file /data/rajlab1/user_data/jin/MyResearch/SBI-SGM/mypkg/../results/new_bds1_reparam100000_sd20_denestnsf_embedFalse/theta_raw.pkl\n",
      "Load file /data/rajlab1/user_data/jin/MyResearch/SBI-SGM/mypkg/../results/new_bds1_reparam100000_sd20_denestnsf_embedFalse/x.pkl\n",
      "Load file /data/rajlab1/user_data/jin/MyResearch/SBI-SGM/mypkg/../results/new_bds1_reparam100000_sd20_denestnsf_embedFalse/posterior.pkl\n",
      "Load file /data/rajlab1/user_data/jin/MyResearch/SBI-SGM/mypkg/../results/new_bds1_reparam100000_sd20_denestnsf_embedFalse/post_spss_raw.pkl\n",
      "Load file /data/rajlab1/user_data/jin/MyResearch/SBI-SGM/mypkg/../results/new_bds1_reparam100000_sd20_denestnsf_embedFalse/post_spss.pkl\n",
      "Load file /data/rajlab1/user_data/jin/MyResearch/SBI-SGM/mypkg/../results/new_bds1_reparam100000_sd20_denestnsf_embedFalse/raw_sp.pkl\n",
      "Load file /data/rajlab1/user_data/jin/MyResearch/SBI-SGM/mypkg/../results/new_bds1_reparam100000_sd20_denestnsf_embedFalse/std_psd_DB.pkl\n"
     ]
    }
   ],
   "source": [
    "cur_res = load_pkl_folder2dict(_paras.folder_path, [\"\"])"
   ]
  },
  {
   "cell_type": "code",
   "execution_count": 12,
   "id": "37dc02f7",
   "metadata": {
    "ExecuteTime": {
     "end_time": "2022-12-19T03:49:27.850887Z",
     "start_time": "2022-12-19T03:49:27.783250Z"
    }
   },
   "outputs": [
    {
     "name": "stdout",
     "output_type": "stream",
     "text": [
      "Load file /data/rajlab1/user_data/jin/MyResearch/SBI-SGM/mypkg/../results/new_bds1_reparam100000_sd20_denestnsf_embedFalse/posterior.pkl\n",
      "Load file /data/rajlab1/user_data/jin/MyResearch/SBI-SGM/mypkg/../results/new_bds1_reparam100000_sd20_denestnsf_embedFalse/post_spss.pkl\n",
      "Load file /data/rajlab1/user_data/jin/MyResearch/SBI-SGM/mypkg/../results/new_bds1_reparam100000_sd20_denestnsf_embedFalse/raw_sp.pkl\n",
      "Load file /data/rajlab1/user_data/jin/MyResearch/SBI-SGM/mypkg/../results/new_bds1_reparam100000_sd20_denestnsf_embedFalse/std_psd_DB.pkl\n"
     ]
    }
   ],
   "source": [
    "cur_res = load_pkl_folder2dict(_paras.folder_path, [\"x\", \"*raw\"])"
   ]
  },
  {
   "cell_type": "code",
   "execution_count": 73,
   "id": "a109dfe4",
   "metadata": {
    "ExecuteTime": {
     "end_time": "2022-12-19T02:18:09.437783Z",
     "start_time": "2022-12-19T02:17:31.612181Z"
    },
    "scrolled": true
   },
   "outputs": [
    {
     "name": "stderr",
     "output_type": "stream",
     "text": [
      "100%|██████████████████████████████████████████████████████████████████████████████████████████████████████████████████████████████████████████| 36/36 [00:37<00:00,  1.05s/it]\n"
     ]
    }
   ],
   "source": [
    "# the estimated PSD and spatial feature from SGM  \n",
    "\n",
    "# way 1\n",
    "cur_est_parass = np.array([np.median(ps, axis=0) for ps in cur_res.post_spss])\n",
    "\n",
    "# way 2\n",
    "#cur_est_parass = np.array([[get_mode(ps[:, ix]) for ix in range(7)] for ps in cur_res.post_spss])\n",
    "\n",
    "# way 3\n",
    "#cur_est_parass_raw = np.array([np.median(ps, axis=0) for ps in cur_res.post_spss_raw])\n",
    "#cur_est_parass = _theta_raw_2out(cur_est_parass_raw, paras.prior_bds)\n",
    "\n",
    "# way 4\n",
    "#cur_est_parass_raw = np.array([[get_mode(ps[:, ix]) for ix in range(7)] for ps in cur_res.post_spss_raw])\n",
    "#cur_est_parass = _theta_raw_2out(cur_est_parass_raw, paras.prior_bds)\n",
    "\n",
    "std_psd_DB = []\n",
    "raw_sp = []\n",
    "for ix in trange(36):\n",
    "    cur_est_paras = cur_est_parass[ix, :]\n",
    "    \n",
    "    cur_conn = ind_conn[:, :, ix]\n",
    "    cur_brain = Brain.Brain()\n",
    "    cur_brain.add_connectome(DAT_ROOT) # grabs distance matrix\n",
    "    cur_brain.reorder_connectome(cur_brain.connectome, cur_brain.distance_matrix)\n",
    "    cur_brain.connectome = cur_conn# re-assign connectome to individual connectome\n",
    "    cur_brain.bi_symmetric_c()\n",
    "    cur_brain.reduce_extreme_dir()\n",
    "    \n",
    "    cur_SGM_model = SGM(cur_brain.reducedConnectome, cur_brain.distance_matrix, FREQS)\n",
    "    cur_psd, cur_sp = cur_SGM_model.run_local_coupling_forward(cur_est_paras)\n",
    "    cur_psd = cur_psd[:68, :]\n",
    "    cur_psd_DB = psd_2tr(cur_psd)\n",
    "    #cur_psd_DB = cur_psd_DB.reshape(68, 40)\n",
    "    \n",
    "    std_psd_DB.append(cur_psd_DB)\n",
    "    raw_sp.append(cur_sp.sum(axis=1))\n",
    "    "
   ]
  },
  {
   "cell_type": "code",
   "execution_count": 74,
   "id": "04e89f61",
   "metadata": {
    "ExecuteTime": {
     "end_time": "2022-12-19T02:18:10.288554Z",
     "start_time": "2022-12-19T02:18:10.270811Z"
    }
   },
   "outputs": [
    {
     "name": "stdout",
     "output_type": "stream",
     "text": [
      "Corr is 0.975\n"
     ]
    }
   ],
   "source": [
    "sgm_psd_curve = np.array(std_psd_DB).mean(axis=1).mean(axis=0)\n",
    "meg_psd_curve = np.mean([psd_2tr(ind_psd[:, :, ix]).mean(axis=0) for ix in range(36)], axis=0)\n",
    "cor = scipy.stats.pearsonr(stdz_vec(meg_psd_curve), stdz_vec(sgm_psd_curve))[0]\n",
    "print(f\"Corr is {cor:.3f}\")"
   ]
  },
  {
   "cell_type": "code",
   "execution_count": 75,
   "id": "7f65133a",
   "metadata": {
    "ExecuteTime": {
     "end_time": "2022-12-19T02:18:12.028255Z",
     "start_time": "2022-12-19T02:18:11.895860Z"
    }
   },
   "outputs": [
    {
     "data": {
      "text/plain": [
       "<matplotlib.legend.Legend at 0x7f0641b46280>"
      ]
     },
     "execution_count": 75,
     "metadata": {},
     "output_type": "execute_result"
    },
    {
     "data": {
      "image/png": "[encoded data removed]",
      "text/plain": [
       "<Figure size 720x720 with 1 Axes>"
      ]
     },
     "metadata": {
      "needs_background": "light"
     },
     "output_type": "display_data"
    }
   ],
   "source": [
    "plt.figure(figsize=[10, 10])\n",
    "#plt.plot(FREQS, meg_psd_curve, linestyle = '-',\n",
    "plt.plot(FREQS, stdz_vec(meg_psd_curve), linestyle = '-',\n",
    "         marker = 's',fillstyle = 'none',color = 'k', label = \"MEG\", alpha = 0.8)\n",
    "#plt.plot(FREQS, sgm_psd_curve, linestyle = '-',\n",
    "plt.plot(FREQS, stdz_vec(sgm_psd_curve), linestyle = '-',\n",
    "         marker = 'o',fillstyle = 'none',color = 'b', label = \"M-SGM\", alpha = 0.8)\n",
    "plt.xlabel('Frequency (Hz)', fontsize = 17)\n",
    "plt.ylabel('Normalized PSD', fontsize = 17)\n",
    "plt.legend()"
   ]
  },
  {
   "cell_type": "code",
   "execution_count": null,
   "id": "8cda20e3",
   "metadata": {},
   "outputs": [],
   "source": []
  },
  {
   "cell_type": "code",
   "execution_count": 76,
   "id": "952e788f",
   "metadata": {
    "ExecuteTime": {
     "end_time": "2022-12-19T02:18:15.303050Z",
     "start_time": "2022-12-19T02:18:15.183768Z"
    }
   },
   "outputs": [],
   "source": [
    "# Corrs for PSD and spatial features for each subject\n",
    "meg_psd_roi_sub = np.array([psd_2tr(ind_psd[:, :, ix]) for ix in range(36)])\n",
    "sgm_psd_roi_sub = np.array(std_psd_DB)\n",
    "\n",
    "corrs_roi_sub = []\n",
    "for ix in range(meg_psd_roi_sub.shape[0]):\n",
    "    cur_meg = meg_psd_roi_sub[ix]\n",
    "    cur_sgm = sgm_psd_roi_sub[ix]\n",
    "    corrs_roi_sub.append(np.mean([scipy.stats.pearsonr(cur_meg[iy], cur_sgm[iy])[0] for iy in range(68)]))\n",
    "corrs_roi_sub = np.array(corrs_roi_sub)"
   ]
  },
  {
   "cell_type": "code",
   "execution_count": 77,
   "id": "47a59e01",
   "metadata": {
    "ExecuteTime": {
     "end_time": "2022-12-19T02:18:15.564276Z",
     "start_time": "2022-12-19T02:18:15.556538Z"
    }
   },
   "outputs": [
    {
     "data": {
      "text/plain": [
       "array([0.7173805 , 0.722993  , 0.79056448, 0.80251312, 0.82048086,\n",
       "       0.82814799, 0.83919684, 0.84140619, 0.8440395 , 0.85335558,\n",
       "       0.85654131, 0.86042701, 0.8609725 , 0.86464841, 0.87247121,\n",
       "       0.87299643, 0.8745338 , 0.87787556, 0.87907353, 0.88190835,\n",
       "       0.88203201, 0.88235332, 0.88462613, 0.88761814, 0.89130804,\n",
       "       0.8919449 , 0.89505809, 0.89728055, 0.90211391, 0.90304744,\n",
       "       0.90333663, 0.90545618, 0.91592456, 0.91607247, 0.92147719,\n",
       "       0.93254902])"
      ]
     },
     "execution_count": 77,
     "metadata": {},
     "output_type": "execute_result"
    }
   ],
   "source": [
    "np.sort(corrs_roi_sub)"
   ]
  },
  {
   "cell_type": "code",
   "execution_count": 78,
   "id": "c0fd924b",
   "metadata": {
    "ExecuteTime": {
     "end_time": "2022-12-19T02:18:17.083968Z",
     "start_time": "2022-12-19T02:18:17.077864Z"
    }
   },
   "outputs": [
    {
     "name": "stdout",
     "output_type": "stream",
     "text": [
      "0.8784745489182189 0.865936798774712\n"
     ]
    }
   ],
   "source": [
    "print(np.median(corrs_roi_sub), np.mean(corrs_roi_sub))"
   ]
  },
  {
   "cell_type": "code",
   "execution_count": 79,
   "id": "20903cdb",
   "metadata": {
    "ExecuteTime": {
     "end_time": "2022-12-19T02:18:18.256269Z",
     "start_time": "2022-12-19T02:18:18.249362Z"
    }
   },
   "outputs": [
    {
     "data": {
      "text/plain": [
       "array([32, 24,  4, 21, 35,  3, 18, 27, 34, 25, 31, 28, 14, 33,  9, 15,  1,\n",
       "       13,  7, 20, 22, 11, 10,  0, 17, 23, 16, 26, 19,  8,  5, 30,  2,  6,\n",
       "       12, 29])"
      ]
     },
     "execution_count": 79,
     "metadata": {},
     "output_type": "execute_result"
    }
   ],
   "source": [
    "np.argsort(corrs_roi_sub)"
   ]
  },
  {
   "cell_type": "code",
   "execution_count": 80,
   "id": "38238167",
   "metadata": {
    "ExecuteTime": {
     "end_time": "2022-12-19T02:18:19.758247Z",
     "start_time": "2022-12-19T02:18:19.640808Z"
    }
   },
   "outputs": [
    {
     "data": {
      "text/plain": [
       "<matplotlib.legend.Legend at 0x7f0641bca100>"
      ]
     },
     "execution_count": 80,
     "metadata": {},
     "output_type": "execute_result"
    },
    {
     "data": {
      "image/png": "[encoded data removed]",
      "text/plain": [
       "<Figure size 432x288 with 1 Axes>"
      ]
     },
     "metadata": {
      "needs_background": "light"
     },
     "output_type": "display_data"
    }
   ],
   "source": [
    "sub_ix = 1\n",
    "cur_sgm.shape\n",
    "plt.plot(FREQS, stdz_vec(meg_psd_roi_sub[sub_ix, :, :].mean(axis=0)), linestyle = '-',\n",
    "         marker = 's',fillstyle = 'none',color = 'k', label = \"MEG\", alpha = 0.8)\n",
    "plt.plot(FREQS, stdz_vec(sgm_psd_roi_sub[sub_ix, :, :].mean(axis=0)), linestyle = '-',\n",
    "         marker = 'o',fillstyle = 'none',color = 'b', label = \"M-SGM\", alpha = 0.8)\n",
    "plt.legend()"
   ]
  },
  {
   "cell_type": "code",
   "execution_count": 38,
   "id": "dc5a7cdd",
   "metadata": {
    "ExecuteTime": {
     "end_time": "2022-12-19T01:47:42.429830Z",
     "start_time": "2022-12-19T01:47:42.311383Z"
    }
   },
   "outputs": [
    {
     "data": {
      "text/plain": [
       "<matplotlib.legend.Legend at 0x7f05ec280f40>"
      ]
     },
     "execution_count": 38,
     "metadata": {},
     "output_type": "execute_result"
    },
    {
     "data": {
      "image/png": "[encoded data removed]",
      "text/plain": [
       "<Figure size 432x288 with 1 Axes>"
      ]
     },
     "metadata": {
      "needs_background": "light"
     },
     "output_type": "display_data"
    }
   ],
   "source": [
    "sub_ix = 24\n",
    "roi_ix = 1\n",
    "cur_sgm.shape\n",
    "plt.plot(FREQS, stdz_vec(meg_psd_roi_sub[sub_ix, roi_ix, :]), linestyle = '-',\n",
    "         marker = 's',fillstyle = 'none',color = 'k', label = \"MEG\", alpha = 0.8)\n",
    "plt.plot(FREQS, stdz_vec(sgm_psd_roi_sub[sub_ix, roi_ix, :]), linestyle = '-',\n",
    "         marker = 'o',fillstyle = 'none',color = 'b', label = \"M-SGM\", alpha = 0.8)\n",
    "plt.legend()"
   ]
  },
  {
   "cell_type": "code",
   "execution_count": 32,
   "id": "128e03f9",
   "metadata": {
    "ExecuteTime": {
     "end_time": "2022-11-01T23:50:41.009836Z",
     "start_time": "2022-11-01T23:50:37.252263Z"
    }
   },
   "outputs": [
    {
     "name": "stdout",
     "output_type": "stream",
     "text": [
      "Save to /data/rajlab1/user_data/jin/MyResearch/SBI-SGM/mypkg/../results/generalNoiseRawReparam_20000_sd20_denestnsf_embedTrue/theta_raw.pkl\n",
      "Save to /data/rajlab1/user_data/jin/MyResearch/SBI-SGM/mypkg/../results/generalNoiseRawReparam_20000_sd20_denestnsf_embedTrue/x.pkl\n",
      "Save to /data/rajlab1/user_data/jin/MyResearch/SBI-SGM/mypkg/../results/generalNoiseRawReparam_20000_sd20_denestnsf_embedTrue/posterior.pkl\n",
      "Save to /data/rajlab1/user_data/jin/MyResearch/SBI-SGM/mypkg/../results/generalNoiseRawReparam_20000_sd20_denestnsf_embedTrue/embedding_net.pkl\n",
      "Save to /data/rajlab1/user_data/jin/MyResearch/SBI-SGM/mypkg/../results/generalNoiseRawReparam_20000_sd20_denestnsf_embedTrue/post_spss_raw.pkl\n",
      "Save to /data/rajlab1/user_data/jin/MyResearch/SBI-SGM/mypkg/../results/generalNoiseRawReparam_20000_sd20_denestnsf_embedTrue/post_spss.pkl\n",
      "Save to /data/rajlab1/user_data/jin/MyResearch/SBI-SGM/mypkg/../results/generalNoiseRawReparam_20000_sd20_denestnsf_embedTrue/raw_sp.pkl\n",
      "Save to /data/rajlab1/user_data/jin/MyResearch/SBI-SGM/mypkg/../results/generalNoiseRawReparam_20000_sd20_denestnsf_embedTrue/std_psd_DB.pkl\n"
     ]
    }
   ],
   "source": [
    "cur_res.raw_sp = raw_sp\n",
    "cur_res.std_psd_DB = std_psd_DB\n",
    "save_pkl_dict2folder(_paras.folder_path, cur_res, False)"
   ]
  },
  {
   "cell_type": "code",
   "execution_count": null,
   "id": "7e7ff003",
   "metadata": {},
   "outputs": [],
   "source": []
  },
  {
   "cell_type": "markdown",
   "id": "791c1440",
   "metadata": {},
   "source": [
    "### Another way to do the inference"
   ]
  },
  {
   "cell_type": "code",
   "execution_count": 15,
   "id": "4a1726e0",
   "metadata": {
    "ExecuteTime": {
     "end_time": "2022-12-19T03:52:58.030416Z",
     "start_time": "2022-12-19T03:49:52.067809Z"
    },
    "scrolled": true
   },
   "outputs": [
    {
     "name": "stdout",
     "output_type": "stream",
     "text": [
      "0\n"
     ]
    },
    {
     "data": {
      "application/vnd.jupyter.widget-view+json": {
       "model_id": "802ea429488e43179bda55e5cf8cc10b",
       "version_major": 2,
       "version_minor": 0
      },
      "text/plain": [
       "Drawing 100 posterior samples:   0%|          | 0/100 [00:00<?, ?it/s]"
      ]
     },
     "metadata": {},
     "output_type": "display_data"
    },
    {
     "data": {
      "application/vnd.jupyter.widget-view+json": {
       "model_id": "294edfa86e0843ee82da4805c39b413c",
       "version_major": 2,
       "version_minor": 0
      },
      "text/plain": [
       "Running 100 simulations in 100 batches.:   0%|          | 0/100 [00:00<?, ?it/s]"
      ]
     },
     "metadata": {},
     "output_type": "display_data"
    },
    {
     "name": "stdout",
     "output_type": "stream",
     "text": [
      "torch.Size([99, 2788])\n",
      "1\n"
     ]
    },
    {
     "data": {
      "application/vnd.jupyter.widget-view+json": {
       "model_id": "4f1e2c554d724051aff975cfcab24d75",
       "version_major": 2,
       "version_minor": 0
      },
      "text/plain": [
       "Drawing 100 posterior samples:   0%|          | 0/100 [00:00<?, ?it/s]"
      ]
     },
     "metadata": {},
     "output_type": "display_data"
    },
    {
     "data": {
      "application/vnd.jupyter.widget-view+json": {
       "model_id": "0b70920bcad94f6586d93fa2118915ed",
       "version_major": 2,
       "version_minor": 0
      },
      "text/plain": [
       "Running 100 simulations in 100 batches.:   0%|          | 0/100 [00:00<?, ?it/s]"
      ]
     },
     "metadata": {},
     "output_type": "display_data"
    },
    {
     "name": "stdout",
     "output_type": "stream",
     "text": [
      "torch.Size([98, 2788])\n",
      "2\n"
     ]
    },
    {
     "data": {
      "application/vnd.jupyter.widget-view+json": {
       "model_id": "ed5857015d1d4cecad984cf051cd6d9d",
       "version_major": 2,
       "version_minor": 0
      },
      "text/plain": [
       "Drawing 100 posterior samples:   0%|          | 0/100 [00:00<?, ?it/s]"
      ]
     },
     "metadata": {},
     "output_type": "display_data"
    },
    {
     "data": {
      "application/vnd.jupyter.widget-view+json": {
       "model_id": "f812eeddb9394c088800ac5bfeaf9334",
       "version_major": 2,
       "version_minor": 0
      },
      "text/plain": [
       "Running 100 simulations in 100 batches.:   0%|          | 0/100 [00:00<?, ?it/s]"
      ]
     },
     "metadata": {},
     "output_type": "display_data"
    },
    {
     "name": "stdout",
     "output_type": "stream",
     "text": [
      "torch.Size([100, 2788])\n",
      "3\n"
     ]
    },
    {
     "data": {
      "application/vnd.jupyter.widget-view+json": {
       "model_id": "ad7578ec2d4f42db91d8105ea2588163",
       "version_major": 2,
       "version_minor": 0
      },
      "text/plain": [
       "Drawing 100 posterior samples:   0%|          | 0/100 [00:00<?, ?it/s]"
      ]
     },
     "metadata": {},
     "output_type": "display_data"
    },
    {
     "data": {
      "application/vnd.jupyter.widget-view+json": {
       "model_id": "db7bd2ab54964c4cbab1d0994ff7d5bf",
       "version_major": 2,
       "version_minor": 0
      },
      "text/plain": [
       "Running 100 simulations in 100 batches.:   0%|          | 0/100 [00:00<?, ?it/s]"
      ]
     },
     "metadata": {},
     "output_type": "display_data"
    },
    {
     "name": "stdout",
     "output_type": "stream",
     "text": [
      "torch.Size([98, 2788])\n",
      "4\n"
     ]
    },
    {
     "data": {
      "application/vnd.jupyter.widget-view+json": {
       "model_id": "d46930c3afd7469b80a75f9949493be5",
       "version_major": 2,
       "version_minor": 0
      },
      "text/plain": [
       "Drawing 100 posterior samples:   0%|          | 0/100 [00:00<?, ?it/s]"
      ]
     },
     "metadata": {},
     "output_type": "display_data"
    },
    {
     "data": {
      "application/vnd.jupyter.widget-view+json": {
       "model_id": "b2475308d6974f6fb1be964ff6b609d2",
       "version_major": 2,
       "version_minor": 0
      },
      "text/plain": [
       "Running 100 simulations in 100 batches.:   0%|          | 0/100 [00:00<?, ?it/s]"
      ]
     },
     "metadata": {},
     "output_type": "display_data"
    },
    {
     "name": "stdout",
     "output_type": "stream",
     "text": [
      "torch.Size([99, 2788])\n",
      "5\n"
     ]
    },
    {
     "data": {
      "application/vnd.jupyter.widget-view+json": {
       "model_id": "2a1c0af401304b3cb2b7469df058ee12",
       "version_major": 2,
       "version_minor": 0
      },
      "text/plain": [
       "Drawing 100 posterior samples:   0%|          | 0/100 [00:00<?, ?it/s]"
      ]
     },
     "metadata": {},
     "output_type": "display_data"
    },
    {
     "data": {
      "application/vnd.jupyter.widget-view+json": {
       "model_id": "e282b056330d4c7594d4afcfacdb66d7",
       "version_major": 2,
       "version_minor": 0
      },
      "text/plain": [
       "Running 100 simulations in 100 batches.:   0%|          | 0/100 [00:00<?, ?it/s]"
      ]
     },
     "metadata": {},
     "output_type": "display_data"
    },
    {
     "name": "stdout",
     "output_type": "stream",
     "text": [
      "torch.Size([100, 2788])\n",
      "6\n"
     ]
    },
    {
     "data": {
      "application/vnd.jupyter.widget-view+json": {
       "model_id": "93473c78f0b448fd97afea885bb4572e",
       "version_major": 2,
       "version_minor": 0
      },
      "text/plain": [
       "Drawing 100 posterior samples:   0%|          | 0/100 [00:00<?, ?it/s]"
      ]
     },
     "metadata": {},
     "output_type": "display_data"
    },
    {
     "data": {
      "application/vnd.jupyter.widget-view+json": {
       "model_id": "1a32a2b74b2a4731959987f038721153",
       "version_major": 2,
       "version_minor": 0
      },
      "text/plain": [
       "Running 100 simulations in 100 batches.:   0%|          | 0/100 [00:00<?, ?it/s]"
      ]
     },
     "metadata": {},
     "output_type": "display_data"
    },
    {
     "name": "stdout",
     "output_type": "stream",
     "text": [
      "torch.Size([100, 2788])\n",
      "7\n"
     ]
    },
    {
     "data": {
      "application/vnd.jupyter.widget-view+json": {
       "model_id": "0c8d9633593b45e4ba835f0b6ce1d8c0",
       "version_major": 2,
       "version_minor": 0
      },
      "text/plain": [
       "Drawing 100 posterior samples:   0%|          | 0/100 [00:00<?, ?it/s]"
      ]
     },
     "metadata": {},
     "output_type": "display_data"
    },
    {
     "data": {
      "application/vnd.jupyter.widget-view+json": {
       "model_id": "40dc40e50b9a4a2fb70a965430f16214",
       "version_major": 2,
       "version_minor": 0
      },
      "text/plain": [
       "Running 100 simulations in 100 batches.:   0%|          | 0/100 [00:00<?, ?it/s]"
      ]
     },
     "metadata": {},
     "output_type": "display_data"
    },
    {
     "name": "stdout",
     "output_type": "stream",
     "text": [
      "torch.Size([100, 2788])\n",
      "8\n"
     ]
    },
    {
     "data": {
      "application/vnd.jupyter.widget-view+json": {
       "model_id": "5351c3be723e47b5ac47e9e1d1215fe7",
       "version_major": 2,
       "version_minor": 0
      },
      "text/plain": [
       "Drawing 100 posterior samples:   0%|          | 0/100 [00:00<?, ?it/s]"
      ]
     },
     "metadata": {},
     "output_type": "display_data"
    },
    {
     "data": {
      "application/vnd.jupyter.widget-view+json": {
       "model_id": "bc980e26b5fb4d5abcfc63f71fca3e20",
       "version_major": 2,
       "version_minor": 0
      },
      "text/plain": [
       "Running 100 simulations in 100 batches.:   0%|          | 0/100 [00:00<?, ?it/s]"
      ]
     },
     "metadata": {},
     "output_type": "display_data"
    },
    {
     "name": "stdout",
     "output_type": "stream",
     "text": [
      "torch.Size([100, 2788])\n",
      "9\n"
     ]
    },
    {
     "data": {
      "application/vnd.jupyter.widget-view+json": {
       "model_id": "d5c78b305e8f4a199a50480f75b10809",
       "version_major": 2,
       "version_minor": 0
      },
      "text/plain": [
       "Drawing 100 posterior samples:   0%|          | 0/100 [00:00<?, ?it/s]"
      ]
     },
     "metadata": {},
     "output_type": "display_data"
    },
    {
     "data": {
      "application/vnd.jupyter.widget-view+json": {
       "model_id": "c34361d00bdc4b959ed0535765a5a930",
       "version_major": 2,
       "version_minor": 0
      },
      "text/plain": [
       "Running 100 simulations in 100 batches.:   0%|          | 0/100 [00:00<?, ?it/s]"
      ]
     },
     "metadata": {},
     "output_type": "display_data"
    },
    {
     "name": "stdout",
     "output_type": "stream",
     "text": [
      "torch.Size([100, 2788])\n",
      "10\n"
     ]
    },
    {
     "data": {
      "application/vnd.jupyter.widget-view+json": {
       "model_id": "9ff3b281c1684ca58418b4fa46e340ea",
       "version_major": 2,
       "version_minor": 0
      },
      "text/plain": [
       "Drawing 100 posterior samples:   0%|          | 0/100 [00:00<?, ?it/s]"
      ]
     },
     "metadata": {},
     "output_type": "display_data"
    },
    {
     "data": {
      "application/vnd.jupyter.widget-view+json": {
       "model_id": "818e3c09e7d0418198fa3306740b8e52",
       "version_major": 2,
       "version_minor": 0
      },
      "text/plain": [
       "Running 100 simulations in 100 batches.:   0%|          | 0/100 [00:00<?, ?it/s]"
      ]
     },
     "metadata": {},
     "output_type": "display_data"
    },
    {
     "name": "stdout",
     "output_type": "stream",
     "text": [
      "torch.Size([100, 2788])\n",
      "11\n"
     ]
    },
    {
     "data": {
      "application/vnd.jupyter.widget-view+json": {
       "model_id": "53481b9b87e746fda0fb1fdfe5bcac2c",
       "version_major": 2,
       "version_minor": 0
      },
      "text/plain": [
       "Drawing 100 posterior samples:   0%|          | 0/100 [00:00<?, ?it/s]"
      ]
     },
     "metadata": {},
     "output_type": "display_data"
    },
    {
     "data": {
      "application/vnd.jupyter.widget-view+json": {
       "model_id": "944d4fd0a93747749f380e252159253d",
       "version_major": 2,
       "version_minor": 0
      },
      "text/plain": [
       "Running 100 simulations in 100 batches.:   0%|          | 0/100 [00:00<?, ?it/s]"
      ]
     },
     "metadata": {},
     "output_type": "display_data"
    },
    {
     "name": "stdout",
     "output_type": "stream",
     "text": [
      "torch.Size([100, 2788])\n",
      "12\n"
     ]
    },
    {
     "data": {
      "application/vnd.jupyter.widget-view+json": {
       "model_id": "e2f9bdcb385a49a9b35dc89ca65d9d8b",
       "version_major": 2,
       "version_minor": 0
      },
      "text/plain": [
       "Drawing 100 posterior samples:   0%|          | 0/100 [00:00<?, ?it/s]"
      ]
     },
     "metadata": {},
     "output_type": "display_data"
    },
    {
     "data": {
      "application/vnd.jupyter.widget-view+json": {
       "model_id": "583a47e07ea2468bb5134473d137101f",
       "version_major": 2,
       "version_minor": 0
      },
      "text/plain": [
       "Running 100 simulations in 100 batches.:   0%|          | 0/100 [00:00<?, ?it/s]"
      ]
     },
     "metadata": {},
     "output_type": "display_data"
    },
    {
     "name": "stdout",
     "output_type": "stream",
     "text": [
      "torch.Size([100, 2788])\n",
      "13\n"
     ]
    },
    {
     "data": {
      "application/vnd.jupyter.widget-view+json": {
       "model_id": "f0a01d6f03ea493c90b931c612ae91d6",
       "version_major": 2,
       "version_minor": 0
      },
      "text/plain": [
       "Drawing 100 posterior samples:   0%|          | 0/100 [00:00<?, ?it/s]"
      ]
     },
     "metadata": {},
     "output_type": "display_data"
    },
    {
     "data": {
      "application/vnd.jupyter.widget-view+json": {
       "model_id": "2455094fdb80463f8374e275087501b0",
       "version_major": 2,
       "version_minor": 0
      },
      "text/plain": [
       "Running 100 simulations in 100 batches.:   0%|          | 0/100 [00:00<?, ?it/s]"
      ]
     },
     "metadata": {},
     "output_type": "display_data"
    },
    {
     "name": "stdout",
     "output_type": "stream",
     "text": [
      "torch.Size([100, 2788])\n",
      "14\n"
     ]
    },
    {
     "data": {
      "application/vnd.jupyter.widget-view+json": {
       "model_id": "f5ed14f85af04975bb5599a8a5a29594",
       "version_major": 2,
       "version_minor": 0
      },
      "text/plain": [
       "Drawing 100 posterior samples:   0%|          | 0/100 [00:00<?, ?it/s]"
      ]
     },
     "metadata": {},
     "output_type": "display_data"
    },
    {
     "data": {
      "application/vnd.jupyter.widget-view+json": {
       "model_id": "6f9fbcbe74364bc1879cf63d90bc0035",
       "version_major": 2,
       "version_minor": 0
      },
      "text/plain": [
       "Running 100 simulations in 100 batches.:   0%|          | 0/100 [00:00<?, ?it/s]"
      ]
     },
     "metadata": {},
     "output_type": "display_data"
    },
    {
     "name": "stdout",
     "output_type": "stream",
     "text": [
      "torch.Size([99, 2788])\n",
      "15\n"
     ]
    },
    {
     "data": {
      "application/vnd.jupyter.widget-view+json": {
       "model_id": "fdd47cd23c604f0394a99d0c7a9ed7f2",
       "version_major": 2,
       "version_minor": 0
      },
      "text/plain": [
       "Drawing 100 posterior samples:   0%|          | 0/100 [00:00<?, ?it/s]"
      ]
     },
     "metadata": {},
     "output_type": "display_data"
    },
    {
     "data": {
      "application/vnd.jupyter.widget-view+json": {
       "model_id": "d27a4ce914ce4b7fb68618b3aac31db0",
       "version_major": 2,
       "version_minor": 0
      },
      "text/plain": [
       "Running 100 simulations in 100 batches.:   0%|          | 0/100 [00:00<?, ?it/s]"
      ]
     },
     "metadata": {},
     "output_type": "display_data"
    },
    {
     "name": "stdout",
     "output_type": "stream",
     "text": [
      "torch.Size([100, 2788])\n",
      "16\n"
     ]
    },
    {
     "data": {
      "application/vnd.jupyter.widget-view+json": {
       "model_id": "3b6af4ae65484a25afaf524c9a2034a8",
       "version_major": 2,
       "version_minor": 0
      },
      "text/plain": [
       "Drawing 100 posterior samples:   0%|          | 0/100 [00:00<?, ?it/s]"
      ]
     },
     "metadata": {},
     "output_type": "display_data"
    },
    {
     "data": {
      "application/vnd.jupyter.widget-view+json": {
       "model_id": "e5178d68509f4acba40b8acee2df0fa0",
       "version_major": 2,
       "version_minor": 0
      },
      "text/plain": [
       "Running 100 simulations in 100 batches.:   0%|          | 0/100 [00:00<?, ?it/s]"
      ]
     },
     "metadata": {},
     "output_type": "display_data"
    },
    {
     "name": "stdout",
     "output_type": "stream",
     "text": [
      "torch.Size([99, 2788])\n",
      "17\n"
     ]
    },
    {
     "data": {
      "application/vnd.jupyter.widget-view+json": {
       "model_id": "30b0df5d2831492499619b0cc1e54a97",
       "version_major": 2,
       "version_minor": 0
      },
      "text/plain": [
       "Drawing 100 posterior samples:   0%|          | 0/100 [00:00<?, ?it/s]"
      ]
     },
     "metadata": {},
     "output_type": "display_data"
    },
    {
     "data": {
      "application/vnd.jupyter.widget-view+json": {
       "model_id": "b8d285ca52ff4e158e4e8d48071780fd",
       "version_major": 2,
       "version_minor": 0
      },
      "text/plain": [
       "Running 100 simulations in 100 batches.:   0%|          | 0/100 [00:00<?, ?it/s]"
      ]
     },
     "metadata": {},
     "output_type": "display_data"
    },
    {
     "name": "stdout",
     "output_type": "stream",
     "text": [
      "torch.Size([100, 2788])\n",
      "18\n"
     ]
    },
    {
     "data": {
      "application/vnd.jupyter.widget-view+json": {
       "model_id": "9602f53476564975b8f27ac8979289c3",
       "version_major": 2,
       "version_minor": 0
      },
      "text/plain": [
       "Drawing 100 posterior samples:   0%|          | 0/100 [00:00<?, ?it/s]"
      ]
     },
     "metadata": {},
     "output_type": "display_data"
    },
    {
     "data": {
      "application/vnd.jupyter.widget-view+json": {
       "model_id": "277635e5588a46b2b44eeaceaf5b5b3f",
       "version_major": 2,
       "version_minor": 0
      },
      "text/plain": [
       "Running 100 simulations in 100 batches.:   0%|          | 0/100 [00:00<?, ?it/s]"
      ]
     },
     "metadata": {},
     "output_type": "display_data"
    },
    {
     "name": "stdout",
     "output_type": "stream",
     "text": [
      "torch.Size([99, 2788])\n",
      "19\n"
     ]
    },
    {
     "data": {
      "application/vnd.jupyter.widget-view+json": {
       "model_id": "ee018768695440aeade2562495da98b0",
       "version_major": 2,
       "version_minor": 0
      },
      "text/plain": [
       "Drawing 100 posterior samples:   0%|          | 0/100 [00:00<?, ?it/s]"
      ]
     },
     "metadata": {},
     "output_type": "display_data"
    },
    {
     "data": {
      "application/vnd.jupyter.widget-view+json": {
       "model_id": "d1fe0d5b071b42959c4dd037f54b5bde",
       "version_major": 2,
       "version_minor": 0
      },
      "text/plain": [
       "Running 100 simulations in 100 batches.:   0%|          | 0/100 [00:00<?, ?it/s]"
      ]
     },
     "metadata": {},
     "output_type": "display_data"
    },
    {
     "name": "stdout",
     "output_type": "stream",
     "text": [
      "torch.Size([98, 2788])\n",
      "20\n"
     ]
    },
    {
     "data": {
      "application/vnd.jupyter.widget-view+json": {
       "model_id": "6116397deef04a819d55e15ca2df75f6",
       "version_major": 2,
       "version_minor": 0
      },
      "text/plain": [
       "Drawing 100 posterior samples:   0%|          | 0/100 [00:00<?, ?it/s]"
      ]
     },
     "metadata": {},
     "output_type": "display_data"
    },
    {
     "data": {
      "application/vnd.jupyter.widget-view+json": {
       "model_id": "8e17e3d6ad8d44ce8f59fdffcaa23f52",
       "version_major": 2,
       "version_minor": 0
      },
      "text/plain": [
       "Running 100 simulations in 100 batches.:   0%|          | 0/100 [00:00<?, ?it/s]"
      ]
     },
     "metadata": {},
     "output_type": "display_data"
    },
    {
     "name": "stdout",
     "output_type": "stream",
     "text": [
      "torch.Size([100, 2788])\n",
      "21\n"
     ]
    },
    {
     "data": {
      "application/vnd.jupyter.widget-view+json": {
       "model_id": "e651697cffff431793f77a6fd380f55f",
       "version_major": 2,
       "version_minor": 0
      },
      "text/plain": [
       "Drawing 100 posterior samples:   0%|          | 0/100 [00:00<?, ?it/s]"
      ]
     },
     "metadata": {},
     "output_type": "display_data"
    },
    {
     "data": {
      "application/vnd.jupyter.widget-view+json": {
       "model_id": "3a3226fca64248e2bdaca879affcc803",
       "version_major": 2,
       "version_minor": 0
      },
      "text/plain": [
       "Running 100 simulations in 100 batches.:   0%|          | 0/100 [00:00<?, ?it/s]"
      ]
     },
     "metadata": {},
     "output_type": "display_data"
    },
    {
     "name": "stdout",
     "output_type": "stream",
     "text": [
      "torch.Size([98, 2788])\n",
      "22\n"
     ]
    },
    {
     "data": {
      "application/vnd.jupyter.widget-view+json": {
       "model_id": "5e3e627dd0594753ad3347104e4d1173",
       "version_major": 2,
       "version_minor": 0
      },
      "text/plain": [
       "Drawing 100 posterior samples:   0%|          | 0/100 [00:00<?, ?it/s]"
      ]
     },
     "metadata": {},
     "output_type": "display_data"
    },
    {
     "data": {
      "application/vnd.jupyter.widget-view+json": {
       "model_id": "454620e8a3e64c97bb5a9b27949b0377",
       "version_major": 2,
       "version_minor": 0
      },
      "text/plain": [
       "Running 100 simulations in 100 batches.:   0%|          | 0/100 [00:00<?, ?it/s]"
      ]
     },
     "metadata": {},
     "output_type": "display_data"
    },
    {
     "name": "stdout",
     "output_type": "stream",
     "text": [
      "torch.Size([100, 2788])\n",
      "23\n"
     ]
    },
    {
     "data": {
      "application/vnd.jupyter.widget-view+json": {
       "model_id": "a946e8cba5504f97be4d3e0d2aa8efc4",
       "version_major": 2,
       "version_minor": 0
      },
      "text/plain": [
       "Drawing 100 posterior samples:   0%|          | 0/100 [00:00<?, ?it/s]"
      ]
     },
     "metadata": {},
     "output_type": "display_data"
    },
    {
     "data": {
      "application/vnd.jupyter.widget-view+json": {
       "model_id": "023b3198113f42409eaf9b5c21e31524",
       "version_major": 2,
       "version_minor": 0
      },
      "text/plain": [
       "Running 100 simulations in 100 batches.:   0%|          | 0/100 [00:00<?, ?it/s]"
      ]
     },
     "metadata": {},
     "output_type": "display_data"
    },
    {
     "name": "stdout",
     "output_type": "stream",
     "text": [
      "torch.Size([100, 2788])\n",
      "24\n"
     ]
    },
    {
     "data": {
      "application/vnd.jupyter.widget-view+json": {
       "model_id": "280eb3bff8c64061b832e1814324ea1e",
       "version_major": 2,
       "version_minor": 0
      },
      "text/plain": [
       "Drawing 100 posterior samples:   0%|          | 0/100 [00:00<?, ?it/s]"
      ]
     },
     "metadata": {},
     "output_type": "display_data"
    },
    {
     "data": {
      "application/vnd.jupyter.widget-view+json": {
       "model_id": "27c402ddf26e452e8cef4445d06f9a62",
       "version_major": 2,
       "version_minor": 0
      },
      "text/plain": [
       "Running 100 simulations in 100 batches.:   0%|          | 0/100 [00:00<?, ?it/s]"
      ]
     },
     "metadata": {},
     "output_type": "display_data"
    },
    {
     "name": "stdout",
     "output_type": "stream",
     "text": [
      "torch.Size([99, 2788])\n",
      "25\n"
     ]
    },
    {
     "data": {
      "application/vnd.jupyter.widget-view+json": {
       "model_id": "bf1898e3c3ab4dcbbfc52a151312158d",
       "version_major": 2,
       "version_minor": 0
      },
      "text/plain": [
       "Drawing 100 posterior samples:   0%|          | 0/100 [00:00<?, ?it/s]"
      ]
     },
     "metadata": {},
     "output_type": "display_data"
    },
    {
     "data": {
      "application/vnd.jupyter.widget-view+json": {
       "model_id": "f5ad446a878d47f6b17b0f1e3df45a05",
       "version_major": 2,
       "version_minor": 0
      },
      "text/plain": [
       "Running 100 simulations in 100 batches.:   0%|          | 0/100 [00:00<?, ?it/s]"
      ]
     },
     "metadata": {},
     "output_type": "display_data"
    },
    {
     "name": "stdout",
     "output_type": "stream",
     "text": [
      "torch.Size([100, 2788])\n",
      "26\n"
     ]
    },
    {
     "data": {
      "application/vnd.jupyter.widget-view+json": {
       "model_id": "e7ab026258ef4fe28dbad82f7f7e4ab4",
       "version_major": 2,
       "version_minor": 0
      },
      "text/plain": [
       "Drawing 100 posterior samples:   0%|          | 0/100 [00:00<?, ?it/s]"
      ]
     },
     "metadata": {},
     "output_type": "display_data"
    },
    {
     "data": {
      "application/vnd.jupyter.widget-view+json": {
       "model_id": "ffb2b8639dea488fbe7063f27fc66e8d",
       "version_major": 2,
       "version_minor": 0
      },
      "text/plain": [
       "Running 100 simulations in 100 batches.:   0%|          | 0/100 [00:00<?, ?it/s]"
      ]
     },
     "metadata": {},
     "output_type": "display_data"
    },
    {
     "name": "stdout",
     "output_type": "stream",
     "text": [
      "torch.Size([100, 2788])\n",
      "27\n"
     ]
    },
    {
     "data": {
      "application/vnd.jupyter.widget-view+json": {
       "model_id": "09948788a31e40adabb89099bc28844f",
       "version_major": 2,
       "version_minor": 0
      },
      "text/plain": [
       "Drawing 100 posterior samples:   0%|          | 0/100 [00:00<?, ?it/s]"
      ]
     },
     "metadata": {},
     "output_type": "display_data"
    },
    {
     "data": {
      "application/vnd.jupyter.widget-view+json": {
       "model_id": "3f7822755ccd40a7917d230437307d05",
       "version_major": 2,
       "version_minor": 0
      },
      "text/plain": [
       "Running 100 simulations in 100 batches.:   0%|          | 0/100 [00:00<?, ?it/s]"
      ]
     },
     "metadata": {},
     "output_type": "display_data"
    },
    {
     "name": "stdout",
     "output_type": "stream",
     "text": [
      "torch.Size([100, 2788])\n",
      "28\n"
     ]
    },
    {
     "data": {
      "application/vnd.jupyter.widget-view+json": {
       "model_id": "c784e1f3cb1240ada252d23a16a55ddb",
       "version_major": 2,
       "version_minor": 0
      },
      "text/plain": [
       "Drawing 100 posterior samples:   0%|          | 0/100 [00:00<?, ?it/s]"
      ]
     },
     "metadata": {},
     "output_type": "display_data"
    },
    {
     "data": {
      "application/vnd.jupyter.widget-view+json": {
       "model_id": "220c65538a5949da9832ac8cf66737bb",
       "version_major": 2,
       "version_minor": 0
      },
      "text/plain": [
       "Running 100 simulations in 100 batches.:   0%|          | 0/100 [00:00<?, ?it/s]"
      ]
     },
     "metadata": {},
     "output_type": "display_data"
    },
    {
     "name": "stdout",
     "output_type": "stream",
     "text": [
      "torch.Size([100, 2788])\n",
      "29\n"
     ]
    },
    {
     "data": {
      "application/vnd.jupyter.widget-view+json": {
       "model_id": "08045d9dbc3844a58c07c57487467bd8",
       "version_major": 2,
       "version_minor": 0
      },
      "text/plain": [
       "Drawing 100 posterior samples:   0%|          | 0/100 [00:00<?, ?it/s]"
      ]
     },
     "metadata": {},
     "output_type": "display_data"
    },
    {
     "data": {
      "application/vnd.jupyter.widget-view+json": {
       "model_id": "be88641abcbc4dbaacab81ed0476564e",
       "version_major": 2,
       "version_minor": 0
      },
      "text/plain": [
       "Running 100 simulations in 100 batches.:   0%|          | 0/100 [00:00<?, ?it/s]"
      ]
     },
     "metadata": {},
     "output_type": "display_data"
    },
    {
     "name": "stdout",
     "output_type": "stream",
     "text": [
      "torch.Size([100, 2788])\n",
      "30\n"
     ]
    },
    {
     "data": {
      "application/vnd.jupyter.widget-view+json": {
       "model_id": "563e80fa0c68444d9039eeb43514f60c",
       "version_major": 2,
       "version_minor": 0
      },
      "text/plain": [
       "Drawing 100 posterior samples:   0%|          | 0/100 [00:00<?, ?it/s]"
      ]
     },
     "metadata": {},
     "output_type": "display_data"
    },
    {
     "data": {
      "application/vnd.jupyter.widget-view+json": {
       "model_id": "deae8b6a600c44e1bdfa6c8221a7a00f",
       "version_major": 2,
       "version_minor": 0
      },
      "text/plain": [
       "Running 100 simulations in 100 batches.:   0%|          | 0/100 [00:00<?, ?it/s]"
      ]
     },
     "metadata": {},
     "output_type": "display_data"
    },
    {
     "name": "stdout",
     "output_type": "stream",
     "text": [
      "torch.Size([100, 2788])\n",
      "31\n"
     ]
    },
    {
     "data": {
      "application/vnd.jupyter.widget-view+json": {
       "model_id": "7e0cbb3b664d4665852a59a3a9efbe49",
       "version_major": 2,
       "version_minor": 0
      },
      "text/plain": [
       "Drawing 100 posterior samples:   0%|          | 0/100 [00:00<?, ?it/s]"
      ]
     },
     "metadata": {},
     "output_type": "display_data"
    },
    {
     "data": {
      "application/vnd.jupyter.widget-view+json": {
       "model_id": "8802e2907d474708a3f954bd290897d4",
       "version_major": 2,
       "version_minor": 0
      },
      "text/plain": [
       "Running 100 simulations in 100 batches.:   0%|          | 0/100 [00:00<?, ?it/s]"
      ]
     },
     "metadata": {},
     "output_type": "display_data"
    },
    {
     "name": "stdout",
     "output_type": "stream",
     "text": [
      "torch.Size([99, 2788])\n",
      "32\n"
     ]
    },
    {
     "data": {
      "application/vnd.jupyter.widget-view+json": {
       "model_id": "144f8778b8f64041bcb911442cf1ca8d",
       "version_major": 2,
       "version_minor": 0
      },
      "text/plain": [
       "Drawing 100 posterior samples:   0%|          | 0/100 [00:00<?, ?it/s]"
      ]
     },
     "metadata": {},
     "output_type": "display_data"
    },
    {
     "data": {
      "application/vnd.jupyter.widget-view+json": {
       "model_id": "f2be501ea00647f48a3c4593fb1b1979",
       "version_major": 2,
       "version_minor": 0
      },
      "text/plain": [
       "Running 100 simulations in 100 batches.:   0%|          | 0/100 [00:00<?, ?it/s]"
      ]
     },
     "metadata": {},
     "output_type": "display_data"
    },
    {
     "name": "stdout",
     "output_type": "stream",
     "text": [
      "torch.Size([100, 2788])\n",
      "33\n"
     ]
    },
    {
     "data": {
      "application/vnd.jupyter.widget-view+json": {
       "model_id": "1f500ca99e0949e0861f4e017a71c3df",
       "version_major": 2,
       "version_minor": 0
      },
      "text/plain": [
       "Drawing 100 posterior samples:   0%|          | 0/100 [00:00<?, ?it/s]"
      ]
     },
     "metadata": {},
     "output_type": "display_data"
    },
    {
     "data": {
      "application/vnd.jupyter.widget-view+json": {
       "model_id": "6cbf3019cc074a2bb8d630beccaa57ba",
       "version_major": 2,
       "version_minor": 0
      },
      "text/plain": [
       "Running 100 simulations in 100 batches.:   0%|          | 0/100 [00:00<?, ?it/s]"
      ]
     },
     "metadata": {},
     "output_type": "display_data"
    },
    {
     "name": "stdout",
     "output_type": "stream",
     "text": [
      "torch.Size([99, 2788])\n",
      "34\n"
     ]
    },
    {
     "data": {
      "application/vnd.jupyter.widget-view+json": {
       "model_id": "af3464b81af945598c6f5902a4184057",
       "version_major": 2,
       "version_minor": 0
      },
      "text/plain": [
       "Drawing 100 posterior samples:   0%|          | 0/100 [00:00<?, ?it/s]"
      ]
     },
     "metadata": {},
     "output_type": "display_data"
    },
    {
     "data": {
      "application/vnd.jupyter.widget-view+json": {
       "model_id": "71b17f7db74b4c5fb163375da422977a",
       "version_major": 2,
       "version_minor": 0
      },
      "text/plain": [
       "Running 100 simulations in 100 batches.:   0%|          | 0/100 [00:00<?, ?it/s]"
      ]
     },
     "metadata": {},
     "output_type": "display_data"
    },
    {
     "name": "stdout",
     "output_type": "stream",
     "text": [
      "torch.Size([99, 2788])\n",
      "35\n"
     ]
    },
    {
     "data": {
      "application/vnd.jupyter.widget-view+json": {
       "model_id": "575f528e01664beabbb6e1467b3c4c4d",
       "version_major": 2,
       "version_minor": 0
      },
      "text/plain": [
       "Drawing 100 posterior samples:   0%|          | 0/100 [00:00<?, ?it/s]"
      ]
     },
     "metadata": {},
     "output_type": "display_data"
    },
    {
     "data": {
      "application/vnd.jupyter.widget-view+json": {
       "model_id": "84129c0e667740ad9ac5870888b3c4c0",
       "version_major": 2,
       "version_minor": 0
      },
      "text/plain": [
       "Running 100 simulations in 100 batches.:   0%|          | 0/100 [00:00<?, ?it/s]"
      ]
     },
     "metadata": {},
     "output_type": "display_data"
    },
    {
     "name": "stdout",
     "output_type": "stream",
     "text": [
      "torch.Size([100, 2788])\n"
     ]
    }
   ],
   "source": [
    "all_post_psds = []\n",
    "for ix in range(ind_psd.shape[-1]):\n",
    "    curC = ind_conn[:, :, ix]\n",
    "    curBrain = Brain.Brain()\n",
    "    curBrain.add_connectome(DAT_ROOT) # grabs distance matrix\n",
    "    # re-ordering for DK atlas and normalizing the connectomes:\n",
    "    curBrain.reorder_connectome(curBrain.connectome, curBrain.distance_matrix)\n",
    "    curBrain.connectome = curC# re-assign connectome to individual connectome\n",
    "    curBrain.bi_symmetric_c()\n",
    "    curBrain.reduce_extreme_dir()\n",
    "    cur_sgmmodel = SGM(curBrain.reducedConnectome, curBrain.distance_matrix, FREQS)\n",
    "        \n",
    "    sp, raw_sps = meg_psd2spatialfeature(curBrain.reducedConnectome, ind_psd[:, :, ix], FREQS, band=\"alpha\")\n",
    "    \n",
    "    std_spv = stdz_vec(raw_sps.sum(axis=1))\n",
    "    std_psd_DB = psd_2tr(ind_psd[:, :, ix])\n",
    "    \n",
    "    curX_raw = np.concatenate([std_psd_DB.flatten(), std_spv])\n",
    "    curX = torch.Tensor(curX_raw)\n",
    "    cur_post = cur_res.posterior.set_default_x(curX)\n",
    "        \n",
    "    simulator_data_sp = partial(simulator_data,  sgmmodel=cur_sgmmodel, prior_bds=paras.prior_bds)\n",
    "    simulator_data_wrapper, _ = prepare_for_sbi(simulator_data_sp, prior)\n",
    "    \n",
    "    print(ix)\n",
    "    tmp_sps, post_psd = simulate_for_sbi(simulator_data_wrapper, cur_post, \n",
    "                            num_simulations=100,\n",
    "                            num_workers=50)\n",
    "    _, post_psd_stable = _filter_unstable(tmp_sps, paras.prior_bds, post_psd)\n",
    "    print(post_psd_stable.shape)\n",
    "    all_post_psds.append(post_psd_stable.numpy())"
   ]
  },
  {
   "cell_type": "code",
   "execution_count": 16,
   "id": "cfa3cc15",
   "metadata": {
    "ExecuteTime": {
     "end_time": "2022-12-19T03:52:59.290390Z",
     "start_time": "2022-12-19T03:52:59.275256Z"
    }
   },
   "outputs": [],
   "source": [
    "est_psds = []\n",
    "for post_psd in all_post_psds:\n",
    "    est_psd = np.mean(post_psd[:, :-68], axis=0)\n",
    "    est_psd = est_psd.reshape(68, 40)\n",
    "    est_psds.append(est_psd)"
   ]
  },
  {
   "cell_type": "code",
   "execution_count": 17,
   "id": "3ddef00d",
   "metadata": {
    "ExecuteTime": {
     "end_time": "2022-12-19T03:53:00.200394Z",
     "start_time": "2022-12-19T03:53:00.162263Z"
    }
   },
   "outputs": [
    {
     "name": "stdout",
     "output_type": "stream",
     "text": [
      "Corr is 0.988\n"
     ]
    }
   ],
   "source": [
    "sgm_psd_curve1 = np.array(est_psds).mean(axis=1).mean(axis=0)\n",
    "meg_psd_curve = np.mean([psd_2tr(ind_psd[:, :, ix]).mean(axis=0) for ix in range(36)], axis=0)\n",
    "cor = scipy.stats.pearsonr(stdz_vec(meg_psd_curve), stdz_vec(sgm_psd_curve1))[0]\n",
    "print(f\"Corr is {cor:.3f}\")"
   ]
  },
  {
   "cell_type": "code",
   "execution_count": 27,
   "id": "bc4f341b",
   "metadata": {
    "ExecuteTime": {
     "end_time": "2022-12-19T04:02:11.652916Z",
     "start_time": "2022-12-19T04:02:11.519617Z"
    }
   },
   "outputs": [
    {
     "data": {
      "text/plain": [
       "<matplotlib.legend.Legend at 0x7fbab51fd220>"
      ]
     },
     "execution_count": 27,
     "metadata": {},
     "output_type": "execute_result"
    },
    {
     "data": {
      "image/png": "[encoded data removed]",
      "text/plain": [
       "<Figure size 720x360 with 1 Axes>"
      ]
     },
     "metadata": {
      "needs_background": "light"
     },
     "output_type": "display_data"
    }
   ],
   "source": [
    "plt.figure(figsize=[10, 5])\n",
    "#plt.plot(FREQS, meg_psd_curve, linestyle = '-',\n",
    "plt.plot(FREQS, stdz_vec(meg_psd_curve), linestyle = '-',\n",
    "         marker = 's',fillstyle = 'none',color = 'k', label = \"MEG\", alpha = 0.8)\n",
    "#plt.plot(FREQS, sgm_psd_curve1, linestyle = '-',\n",
    "plt.plot(FREQS, stdz_vec(sgm_psd_curve1), linestyle = '-',\n",
    "         marker = 'o',fillstyle = 'none',color = 'b', label = \"M-SGM\", alpha = 0.8)\n",
    "plt.xlabel('Frequency (Hz)', fontsize = 17)\n",
    "plt.ylabel('Normalized PSD', fontsize = 17)\n",
    "plt.legend()"
   ]
  },
  {
   "cell_type": "code",
   "execution_count": 19,
   "id": "4674b07d",
   "metadata": {
    "ExecuteTime": {
     "end_time": "2022-12-19T03:53:14.712447Z",
     "start_time": "2022-12-19T03:53:14.597774Z"
    }
   },
   "outputs": [],
   "source": [
    "# Corrs for PSD and spatial features for each subject\n",
    "meg_psd_roi_sub = np.array([psd_2tr(ind_psd[:, :, ix]) for ix in range(36)])\n",
    "sgm_psd_roi_sub = np.array(est_psds)\n",
    "\n",
    "corrs_roi_sub1 = []\n",
    "for ix in range(meg_psd_roi_sub.shape[0]):\n",
    "    cur_meg = meg_psd_roi_sub[ix]\n",
    "    cur_sgm = sgm_psd_roi_sub[ix]\n",
    "    corrs_roi_sub1.append(np.mean([scipy.stats.pearsonr(cur_meg[iy], cur_sgm[iy])[0] for iy in range(68)]))\n",
    "corrs_roi_sub1 = np.array(corrs_roi_sub1)"
   ]
  },
  {
   "cell_type": "code",
   "execution_count": 20,
   "id": "2ac1f68a",
   "metadata": {
    "ExecuteTime": {
     "end_time": "2022-12-19T03:53:15.244504Z",
     "start_time": "2022-12-19T03:53:15.238253Z"
    }
   },
   "outputs": [
    {
     "name": "stdout",
     "output_type": "stream",
     "text": [
      "0.8995026023164818 0.8888607933473206\n"
     ]
    }
   ],
   "source": [
    "print(np.median(corrs_roi_sub1), np.mean(corrs_roi_sub1))"
   ]
  },
  {
   "cell_type": "code",
   "execution_count": 21,
   "id": "4795ea39",
   "metadata": {
    "ExecuteTime": {
     "end_time": "2022-12-19T03:53:16.904480Z",
     "start_time": "2022-12-19T03:53:16.896615Z"
    }
   },
   "outputs": [
    {
     "data": {
      "text/plain": [
       "array([0.73690229, 0.79820387, 0.82306468, 0.83413185, 0.83924807,\n",
       "       0.8507294 , 0.86463387, 0.86626709, 0.87945358, 0.88734979,\n",
       "       0.89004077, 0.89311355, 0.89329741, 0.89343455, 0.89558513,\n",
       "       0.89711068, 0.8974626 , 0.89949358, 0.89951163, 0.89996198,\n",
       "       0.90066383, 0.90148947, 0.90487846, 0.90625376, 0.90662056,\n",
       "       0.9089943 , 0.91044905, 0.91200348, 0.91440885, 0.91477686,\n",
       "       0.91980098, 0.92035963, 0.92556936, 0.93507996, 0.93834424,\n",
       "       0.94029942])"
      ]
     },
     "execution_count": 21,
     "metadata": {},
     "output_type": "execute_result"
    }
   ],
   "source": [
    "np.sort(corrs_roi_sub1)"
   ]
  },
  {
   "cell_type": "code",
   "execution_count": 22,
   "id": "45568d7b",
   "metadata": {
    "ExecuteTime": {
     "end_time": "2022-12-19T03:53:19.973389Z",
     "start_time": "2022-12-19T03:53:19.966338Z"
    }
   },
   "outputs": [
    {
     "data": {
      "text/plain": [
       "array([24,  4, 21,  3, 18, 32, 25, 10,  7, 34, 14,  8, 11, 28, 15,  1,  9,\n",
       "       17, 16,  0, 26, 23, 31, 35, 12, 19, 27,  2,  6, 33, 22,  5, 13, 20,\n",
       "       29, 30])"
      ]
     },
     "execution_count": 22,
     "metadata": {},
     "output_type": "execute_result"
    }
   ],
   "source": [
    "np.argsort(corrs_roi_sub1)"
   ]
  },
  {
   "cell_type": "code",
   "execution_count": 23,
   "id": "d1b778f6",
   "metadata": {
    "ExecuteTime": {
     "end_time": "2022-12-19T03:53:21.760091Z",
     "start_time": "2022-12-19T03:53:21.644821Z"
    }
   },
   "outputs": [
    {
     "data": {
      "text/plain": [
       "<matplotlib.legend.Legend at 0x7fbab356dfd0>"
      ]
     },
     "execution_count": 23,
     "metadata": {},
     "output_type": "execute_result"
    },
    {
     "data": {
      "image/png": "[encoded data removed]",
      "text/plain": [
       "<Figure size 432x288 with 1 Axes>"
      ]
     },
     "metadata": {
      "needs_background": "light"
     },
     "output_type": "display_data"
    }
   ],
   "source": [
    "ix = 30 \n",
    "sgm_post_rois = sgm_psd_roi_sub.mean(axis=1)\n",
    "plt.plot(FREQS, stdz_vec(meg_psd_roi_sub[ix, :, :].mean(axis=0)), linestyle = '-',\n",
    "         marker = 's',fillstyle = 'none',color = 'k', label = \"MEG\", alpha = 0.8)\n",
    "plt.plot(FREQS, stdz_vec(sgm_post_rois[ix]), linestyle = '-',\n",
    "         marker = 'o',fillstyle = 'none',color = 'b', label = \"M-SGM\", alpha = 0.8)\n",
    "plt.legend()"
   ]
  },
  {
   "cell_type": "code",
   "execution_count": null,
   "id": "1e556805",
   "metadata": {},
   "outputs": [],
   "source": []
  }
 ],
 "metadata": {
  "kernelspec": {
   "display_name": "Python 3 (ipykernel)",
   "language": "python",
   "name": "python3"
  },
  "language_info": {
   "codemirror_mode": {
    "name": "ipython",
    "version": 3
   },
   "file_extension": ".py",
   "mimetype": "text/x-python",
   "name": "python",
   "nbconvert_exporter": "python",
   "pygments_lexer": "ipython3",
   "version": "3.9.7"
  },
  "toc": {
   "base_numbering": 1,
   "nav_menu": {},
   "number_sections": true,
   "sideBar": true,
   "skip_h1_title": false,
   "title_cell": "Table of Contents",
   "title_sidebar": "Contents",
   "toc_cell": false,
   "toc_position": {
    "height": "calc(100% - 180px)",
    "left": "10px",
    "top": "150px",
    "width": "193px"
   },
   "toc_section_display": true,
   "toc_window_display": true
  }
 },
 "nbformat": 4,
 "nbformat_minor": 5
}
