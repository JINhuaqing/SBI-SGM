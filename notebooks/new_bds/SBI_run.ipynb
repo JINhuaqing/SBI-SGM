{
 "cells": [
  {
   "cell_type": "markdown",
   "id": "48ee4fd6",
   "metadata": {},
   "source": [
    "This file is to try SBI_SGM when extracting features with fooof (power spectrum model)\n",
    "\n",
    "And I train model with a general connectome.\n"
   ]
  },
  {
   "cell_type": "markdown",
   "id": "269c1f0a",
   "metadata": {},
   "source": [
    "### import and define"
   ]
  },
  {
   "cell_type": "code",
   "execution_count": 1,
   "id": "4e45686c",
   "metadata": {
    "ExecuteTime": {
     "end_time": "2022-12-17T00:45:05.628329Z",
     "start_time": "2022-12-17T00:45:05.621716Z"
    }
   },
   "outputs": [],
   "source": [
    "import os\n",
    "import sys\n",
    "module_path = os.path.abspath(os.path.join('../../mypkg'))\n",
    "if module_path not in sys.path:\n",
    "    sys.path.append(module_path)"
   ]
  },
  {
   "cell_type": "markdown",
   "id": "e5ca9b8a",
   "metadata": {},
   "source": [
    "#### Other pkgs"
   ]
  },
  {
   "cell_type": "code",
   "execution_count": 2,
   "id": "c93dcfe1",
   "metadata": {
    "ExecuteTime": {
     "end_time": "2022-12-17T00:45:12.480023Z",
     "start_time": "2022-12-17T00:45:06.669073Z"
    }
   },
   "outputs": [],
   "source": [
    "from tqdm import trange, tqdm\n",
    "\n",
    "import torch\n",
    "import torch.nn as nn \n",
    "import torch.nn.functional as F \n",
    "from sbi import utils as sutils\n",
    "from sbi import analysis as analysis\n",
    "from sbi.inference.base import infer\n",
    "from sbi.inference import SNPE, prepare_for_sbi, simulate_for_sbi\n",
    "from sbi.utils.get_nn_models import posterior_nn\n",
    "from torch.distributions.multivariate_normal import MultivariateNormal\n",
    "\n",
    "import numpy as np\n",
    "import xarray as xr\n",
    "from easydict import EasyDict as edict\n",
    "from pathlib import Path\n",
    "import pickle\n",
    "import scipy\n",
    "\n",
    "import seaborn as sns\n",
    "import pandas as pd\n",
    "import matplotlib.pyplot as plt\n",
    "import json\n",
    "from functools import partial\n",
    "\n",
    "import warnings\n",
    "warnings.filterwarnings(\"ignore\")"
   ]
  },
  {
   "cell_type": "code",
   "execution_count": null,
   "id": "8bbf603a",
   "metadata": {},
   "outputs": [],
   "source": []
  },
  {
   "cell_type": "code",
   "execution_count": null,
   "id": "aac0886a",
   "metadata": {},
   "outputs": [],
   "source": []
  },
  {
   "cell_type": "markdown",
   "id": "7452265b",
   "metadata": {},
   "source": [
    "#### My own pkgs"
   ]
  },
  {
   "cell_type": "code",
   "execution_count": 3,
   "id": "da2f4f7a",
   "metadata": {
    "ExecuteTime": {
     "end_time": "2022-12-17T00:45:13.441634Z",
     "start_time": "2022-12-17T00:45:12.483502Z"
    }
   },
   "outputs": [],
   "source": [
    "import importlib\n",
    "\n",
    "import utils.misc\n",
    "importlib.reload(utils.misc);\n",
    "from utils.misc import mag2db, meg_psd2spatialfeature, save_pkl_dict2folder, load_pkl_folder2dict, get_mode\n",
    "\n",
    "import utils.standardize\n",
    "importlib.reload(utils.standardize);\n",
    "from utils.standardize import stdz_psd, stdz_vec, minmax_vec, psd_2tr\n",
    "\n",
    "import utils.brain_plot\n",
    "importlib.reload(utils.brain_plot)\n",
    "from utils.brain_plot import U2BrainVec, reorderU \n",
    "\n",
    "import utils.reparam\n",
    "importlib.reload(utils.reparam)\n",
    "from utils.reparam import theta_raw_2out, normcdf_np, normcdf_torch, logistic_np, logistic_torch\n",
    "\n",
    "import utils.stable\n",
    "importlib.reload(utils.stable)\n",
    "from utils.stable import paras_table_check\n",
    "\n",
    "import sgm.sgm\n",
    "importlib.reload(sgm.sgm);\n",
    "from sgm.sgm import SGM\n",
    "\n",
    "\n",
    "from spectrome import Brain, path, functions\n",
    "\n",
    "import features.psm\n",
    "importlib.reload(features.psm)\n",
    "from features.psm import obt_psm_fs, obt_psm_raw\n",
    "\n",
    "import constants\n",
    "importlib.reload(constants)\n",
    "from constants import RES_ROOT, FIG_ROOT, DAT_ROOT\n",
    "\n",
    "import models.embedding_nets \n",
    "importlib.reload(models.embedding_nets)\n",
    "from models.embedding_nets import SummaryNet\n",
    "\n",
    "import sgm.data_gen \n",
    "importlib.reload(sgm.data_gen)\n",
    "from sgm.data_gen import simulator_data"
   ]
  },
  {
   "cell_type": "code",
   "execution_count": 4,
   "id": "3c28c72e",
   "metadata": {
    "ExecuteTime": {
     "end_time": "2022-12-17T00:45:13.448996Z",
     "start_time": "2022-12-17T00:45:13.444471Z"
    }
   },
   "outputs": [],
   "source": [
    "#torch.set_default_tensor_type(torch.DoubleTensor)"
   ]
  },
  {
   "cell_type": "markdown",
   "id": "4022c78f",
   "metadata": {},
   "source": [
    "### Load real data PSD and brain"
   ]
  },
  {
   "cell_type": "markdown",
   "id": "bcd6c5ab",
   "metadata": {},
   "source": [
    "#### PSD and connectome"
   ]
  },
  {
   "cell_type": "code",
   "execution_count": 5,
   "id": "bb358643",
   "metadata": {
    "ExecuteTime": {
     "end_time": "2022-12-17T00:45:15.080050Z",
     "start_time": "2022-12-17T00:45:14.720381Z"
    }
   },
   "outputs": [],
   "source": [
    "# Load data\n",
    "ind_psd_xr = xr.open_dataarray(DAT_ROOT/'individual_psd_reordered_matlab.nc')\n",
    "ind_psd = ind_psd_xr.values\n",
    "FREQS = ind_psd_xr[\"frequencies\"].values\n",
    "ind_conn_xr = xr.open_dataarray(DAT_ROOT/'individual_connectomes_reordered.nc')\n",
    "ind_conn = ind_conn_xr.values"
   ]
  },
  {
   "cell_type": "markdown",
   "id": "b6960bf4",
   "metadata": {},
   "source": [
    "#### Set up Parameters"
   ]
  },
  {
   "cell_type": "code",
   "execution_count": 6,
   "id": "d9326efc",
   "metadata": {
    "ExecuteTime": {
     "end_time": "2022-12-17T00:45:16.696535Z",
     "start_time": "2022-12-17T00:45:16.687003Z"
    }
   },
   "outputs": [],
   "source": [
    "# some constant parameters for this file\n",
    "paras = edict()\n",
    "#bnds = ((5.0,30.0), (5.0,200.0), (0.1,1.0), (5, 20), (0.001,0.7), (0.001,2.0), (5.0,30.0))\n",
    "#Bounds for taue, taui, alpha, speed, gei, gii, tauC\n",
    "# (0.001,0.7), (0.001,2.0) when considering stable checking.\n",
    "# (0.001,0.5), (0.001,1.5) as safe (narrower) bounds\n",
    "\n",
    "# taue, taui, tauC, speed, alpha, gii, gei\n",
    "paras.par_low = np.asarray([0.005,0.005,0.005,5, 0.1,0.001,0.001])\n",
    "paras.par_high = np.asarray([0.03, 0.20, 0.03,20,  1,    2,  0.7])\n",
    "paras.prior_bds = np.array([paras.par_low, paras.par_high]).T\n",
    "paras.names = [\"Taue\", \"Taui\", \"TauC\", \"Speed\", \"alpha\", \"gii\", \"gei\"]\n",
    "\n",
    "paras.noise_sd = 0.20\n",
    "paras.num_prior_sps = int(1e5)\n",
    "paras.den_est = \"nsf\"\n",
    "paras.is_embed = False\n",
    "\n",
    "paras.prior_sd = 10"
   ]
  },
  {
   "cell_type": "code",
   "execution_count": 7,
   "id": "e4533faf",
   "metadata": {
    "ExecuteTime": {
     "end_time": "2022-12-17T00:45:18.556972Z",
     "start_time": "2022-12-17T00:45:18.551868Z"
    }
   },
   "outputs": [],
   "source": [
    "_map_fn_torch = partial(logistic_torch, k=0.1)\n",
    "_theta_raw_2out = partial(theta_raw_2out, map_fn=partial(logistic_np, k=0.1))"
   ]
  },
  {
   "cell_type": "code",
   "execution_count": 8,
   "id": "daefb8f1",
   "metadata": {
    "ExecuteTime": {
     "end_time": "2022-12-17T00:45:20.328537Z",
     "start_time": "2022-12-17T00:45:20.321079Z"
    }
   },
   "outputs": [],
   "source": [
    "def _filter_unstable(theta_raw, prior_bds, x=None):\n",
    "    \"\"\"This fn is to remove unstable SGM parameters\n",
    "        args: theta_raw: parameters: num of sps x dim\n",
    "                order: ['Taue', 'Taui', 'TauC', 'Speed', 'alpha', 'gii', 'gei']\n",
    "    \"\"\"\n",
    "    theta = _theta_raw_2out(theta_raw.numpy(), prior_bds)\n",
    "    stable_idxs = paras_table_check(theta)\n",
    "    \n",
    "    # keep stable sps only\n",
    "    theta_raw_stable = theta_raw[stable_idxs==0]\n",
    "    if x is not None:\n",
    "        x_stable = x[stable_idxs==0]\n",
    "        return theta_raw_stable, x_stable\n",
    "    else:\n",
    "        return theta_raw_stable"
   ]
  },
  {
   "cell_type": "code",
   "execution_count": 10,
   "id": "221b3b6d",
   "metadata": {
    "ExecuteTime": {
     "end_time": "2022-12-17T00:45:28.116030Z",
     "start_time": "2022-12-17T00:45:28.107730Z"
    }
   },
   "outputs": [
    {
     "name": "stdout",
     "output_type": "stream",
     "text": [
      "folder is /data/rajlab1/user_data/jin/MyResearch/SBI-SGM/mypkg/../results/new_bds_reparam100000_sd20_denestnsf_embedFalse\n",
      "True\n"
     ]
    }
   ],
   "source": [
    "# paras  for this file\n",
    "_paras = edict()\n",
    "_folder_path = f\"./new_bds_reparam{paras.num_prior_sps:.0f}\" +\\\n",
    "               f\"_sd{paras.noise_sd*100:.0f}\" +\\\n",
    "               f\"_denest{paras.den_est}\" +\\\n",
    "               f\"_embed{paras.is_embed}\"\n",
    "_paras.folder_path = RES_ROOT/_folder_path\n",
    "print(f\"folder is {_paras.folder_path}\")\n",
    "print(_paras.folder_path.exists())"
   ]
  },
  {
   "cell_type": "code",
   "execution_count": 11,
   "id": "2f672600",
   "metadata": {
    "ExecuteTime": {
     "end_time": "2022-12-17T00:45:29.962186Z",
     "start_time": "2022-12-17T00:45:29.957623Z"
    }
   },
   "outputs": [],
   "source": [
    "cur_res = edict()"
   ]
  },
  {
   "cell_type": "markdown",
   "id": "86923703",
   "metadata": {},
   "source": [
    "### Prepare for SBI"
   ]
  },
  {
   "cell_type": "markdown",
   "id": "f931d238",
   "metadata": {},
   "source": [
    "#### Simulator"
   ]
  },
  {
   "cell_type": "code",
   "execution_count": 12,
   "id": "b4ee7118",
   "metadata": {
    "ExecuteTime": {
     "end_time": "2022-12-17T00:45:31.253438Z",
     "start_time": "2022-12-17T00:45:31.243734Z"
    }
   },
   "outputs": [],
   "source": [
    "def simulator(params, noise_sd, sgmmodel, prior_bds):\n",
    "    \"\"\"The function to simulate samples\n",
    "    \"\"\"\n",
    "    params_trans = []\n",
    "    for param, prior_bd in zip(params, prior_bds):\n",
    "        param_trans =  _map_fn_torch(param)*(prior_bd[1]-prior_bd[0]) + prior_bd[0]\n",
    "        params_trans.append(param_trans)\n",
    "    params_trans = torch.tensor(params_trans)\n",
    "    \n",
    "    psd, spatialFs = sgmmodel.run_local_coupling_forward(params_trans)\n",
    "    psd = psd[:68, :]\n",
    "    std_spatial = stdz_vec(spatialFs.sum(axis=1)) # std it\n",
    "    \n",
    "    std_psd_DB = psd_2tr(psd)\n",
    "    psd_fs = std_psd_DB.flatten()\n",
    "    \n",
    "    res = np.concatenate([psd_fs, std_spatial]) \n",
    "    noise =  np.random.randn(*res.shape)*noise_sd \n",
    "    \n",
    "    return res+noise"
   ]
  },
  {
   "cell_type": "code",
   "execution_count": null,
   "id": "df187c08",
   "metadata": {},
   "outputs": [],
   "source": []
  },
  {
   "cell_type": "markdown",
   "id": "e2078c03",
   "metadata": {},
   "source": [
    "#### Prior "
   ]
  },
  {
   "cell_type": "code",
   "execution_count": 13,
   "id": "23dff474",
   "metadata": {
    "ExecuteTime": {
     "end_time": "2022-12-17T00:45:33.344155Z",
     "start_time": "2022-12-17T00:45:33.333529Z"
    }
   },
   "outputs": [],
   "source": [
    "prior = MultivariateNormal(loc=torch.zeros(7), covariance_matrix=torch.eye(7)*(paras.prior_sd**2))"
   ]
  },
  {
   "cell_type": "markdown",
   "id": "1b4a2ec2",
   "metadata": {},
   "source": [
    "#### Density estimator"
   ]
  },
  {
   "cell_type": "code",
   "execution_count": 14,
   "id": "dd66a9e9",
   "metadata": {
    "ExecuteTime": {
     "end_time": "2022-12-17T00:45:33.955729Z",
     "start_time": "2022-12-17T00:45:33.949788Z"
    }
   },
   "outputs": [],
   "source": [
    "if paras.is_embed:\n",
    "    embedding_net = SummaryNet(num_in_fs=68*41)\n",
    "    paras.den_est = sutils.posterior_nn(\n",
    "    model=paras.den_est, embedding_net=embedding_net)\n",
    "    for ix in embedding_net.parameters():\n",
    "        print(ix.sum(), ix.shape, ix.dtype)"
   ]
  },
  {
   "cell_type": "markdown",
   "id": "5a694c3b",
   "metadata": {},
   "source": [
    "### SBI"
   ]
  },
  {
   "cell_type": "code",
   "execution_count": 15,
   "id": "c82b5b02",
   "metadata": {
    "ExecuteTime": {
     "end_time": "2022-12-17T00:45:37.449561Z",
     "start_time": "2022-12-17T00:45:36.265237Z"
    }
   },
   "outputs": [],
   "source": [
    "# obtain the brain\n",
    "brain = Brain.Brain()\n",
    "brain.add_connectome(DAT_ROOT)\n",
    "brain.reorder_connectome(brain.connectome, brain.distance_matrix)\n",
    "brain.bi_symmetric_c()\n",
    "brain.reduce_extreme_dir()\n",
    "sgmmodel = SGM(brain.reducedConnectome, brain.distance_matrix, FREQS)\n",
    "\n",
    "simulator_sp = partial(simulator,  noise_sd=paras.noise_sd, sgmmodel=sgmmodel, prior_bds=paras.prior_bds)\n",
    "# make a SBI-wrapper on the simulator object for compatibility\n",
    "simulator_wrapper, prior = prepare_for_sbi(simulator_sp, prior)"
   ]
  },
  {
   "cell_type": "code",
   "execution_count": null,
   "id": "ec84fcba",
   "metadata": {},
   "outputs": [],
   "source": []
  },
  {
   "cell_type": "markdown",
   "id": "aa59351b",
   "metadata": {},
   "source": [
    "#### RUN"
   ]
  },
  {
   "cell_type": "code",
   "execution_count": 16,
   "id": "e718d63f",
   "metadata": {
    "ExecuteTime": {
     "end_time": "2022-12-17T00:05:40.137867Z",
     "start_time": "2022-12-16T22:58:58.463484Z"
    }
   },
   "outputs": [
    {
     "data": {
      "application/vnd.jupyter.widget-view+json": {
       "model_id": "ec5f6d3edbcb4e778a9fef04864becf7",
       "version_major": 2,
       "version_minor": 0
      },
      "text/plain": [
       "Running 100000 simulations in 100000 batches.:   0%|          | 0/100000 [00:00<?, ?it/s]"
      ]
     },
     "metadata": {},
     "output_type": "display_data"
    }
   ],
   "source": [
    "theta_raw, x = simulate_for_sbi(simulator_wrapper, prior, \n",
    "                            num_simulations=int(paras.num_prior_sps), \n",
    "                            num_workers=50)"
   ]
  },
  {
   "cell_type": "code",
   "execution_count": 17,
   "id": "a16e8d33",
   "metadata": {
    "ExecuteTime": {
     "end_time": "2022-12-17T00:05:47.118607Z",
     "start_time": "2022-12-17T00:05:40.140367Z"
    }
   },
   "outputs": [],
   "source": [
    "# keep stable sps only\n",
    "theta_raw_stable, x_stable = _filter_unstable(theta_raw, paras.prior_bds, x)"
   ]
  },
  {
   "cell_type": "code",
   "execution_count": 18,
   "id": "3783abdd",
   "metadata": {
    "ExecuteTime": {
     "end_time": "2022-12-17T00:30:46.116039Z",
     "start_time": "2022-12-17T00:05:47.119772Z"
    },
    "scrolled": true
   },
   "outputs": [
    {
     "name": "stdout",
     "output_type": "stream",
     "text": [
      " Neural network successfully converged after 25 epochs."
     ]
    }
   ],
   "source": [
    "inference = SNPE(prior=prior, density_estimator=paras.den_est)\n",
    "density_estimator = inference.append_simulations(theta_raw_stable, x_stable).train()\n",
    "posterior = inference.build_posterior(density_estimator)"
   ]
  },
  {
   "cell_type": "code",
   "execution_count": 19,
   "id": "7e2bb5bb",
   "metadata": {
    "ExecuteTime": {
     "end_time": "2022-12-17T00:31:00.138315Z",
     "start_time": "2022-12-17T00:30:46.118611Z"
    }
   },
   "outputs": [
    {
     "name": "stdout",
     "output_type": "stream",
     "text": [
      "/data/rajlab1/user_data/jin/MyResearch/SBI-SGM/mypkg/../results/new_bds_reparam100000_sd20_denestnsf_embedFalse\n",
      "Create a folder /data/rajlab1/user_data/jin/MyResearch/SBI-SGM/mypkg/../results/new_bds_reparam100000_sd20_denestnsf_embedFalse\n",
      "Save to /data/rajlab1/user_data/jin/MyResearch/SBI-SGM/mypkg/../results/new_bds_reparam100000_sd20_denestnsf_embedFalse/theta_raw.pkl\n",
      "Save to /data/rajlab1/user_data/jin/MyResearch/SBI-SGM/mypkg/../results/new_bds_reparam100000_sd20_denestnsf_embedFalse/x.pkl\n",
      "Save to /data/rajlab1/user_data/jin/MyResearch/SBI-SGM/mypkg/../results/new_bds_reparam100000_sd20_denestnsf_embedFalse/posterior.pkl\n"
     ]
    }
   ],
   "source": [
    "cur_res.theta_raw = theta_raw_stable\n",
    "cur_res.x = x_stable\n",
    "cur_res.posterior = posterior\n",
    "if paras.is_embed:\n",
    "    cur_res.embedding_net = embedding_net\n",
    "    for ix in embedding_net.parameters():\n",
    "        print(ix.sum(), ix.shape)\n",
    "save_pkl_dict2folder(_paras.folder_path, cur_res, True)"
   ]
  },
  {
   "cell_type": "code",
   "execution_count": null,
   "id": "b6ac9780",
   "metadata": {},
   "outputs": [],
   "source": []
  },
  {
   "cell_type": "markdown",
   "id": "a760e52d",
   "metadata": {},
   "source": [
    "#### Get posterior"
   ]
  },
  {
   "cell_type": "code",
   "execution_count": 51,
   "id": "6b548503",
   "metadata": {
    "ExecuteTime": {
     "end_time": "2022-12-19T01:29:07.493755Z",
     "start_time": "2022-12-19T01:29:07.436378Z"
    }
   },
   "outputs": [
    {
     "name": "stdout",
     "output_type": "stream",
     "text": [
      "Load file /data/rajlab1/user_data/jin/MyResearch/SBI-SGM/mypkg/../results/new_bds_reparam100000_sd20_denestnsf_embedFalse/theta_raw.pkl\n",
      "Load file /data/rajlab1/user_data/jin/MyResearch/SBI-SGM/mypkg/../results/new_bds_reparam100000_sd20_denestnsf_embedFalse/posterior.pkl\n",
      "Load file /data/rajlab1/user_data/jin/MyResearch/SBI-SGM/mypkg/../results/new_bds_reparam100000_sd20_denestnsf_embedFalse/post_spss_raw.pkl\n",
      "Load file /data/rajlab1/user_data/jin/MyResearch/SBI-SGM/mypkg/../results/new_bds_reparam100000_sd20_denestnsf_embedFalse/post_spss.pkl\n"
     ]
    }
   ],
   "source": [
    "cur_res = load_pkl_folder2dict(_paras.folder_path, [\"x\", \"*_raw\"])"
   ]
  },
  {
   "cell_type": "code",
   "execution_count": 49,
   "id": "88174c4a",
   "metadata": {
    "ExecuteTime": {
     "end_time": "2022-12-19T01:12:27.530013Z",
     "start_time": "2022-12-19T01:11:03.815966Z"
    },
    "scrolled": true
   },
   "outputs": [
    {
     "data": {
      "application/vnd.jupyter.widget-view+json": {
       "model_id": "f010bac7f4ed46238a1911503f45622b",
       "version_major": 2,
       "version_minor": 0
      },
      "text/plain": [
       "Drawing 10000 posterior samples:   0%|          | 0/10000 [00:00<?, ?it/s]"
      ]
     },
     "metadata": {},
     "output_type": "display_data"
    },
    {
     "name": "stdout",
     "output_type": "stream",
     "text": [
      "torch.Size([9775, 7])\n"
     ]
    },
    {
     "data": {
      "application/vnd.jupyter.widget-view+json": {
       "model_id": "9d8ed294620e448a81781b17781e18ae",
       "version_major": 2,
       "version_minor": 0
      },
      "text/plain": [
       "Drawing 10000 posterior samples:   0%|          | 0/10000 [00:00<?, ?it/s]"
      ]
     },
     "metadata": {},
     "output_type": "display_data"
    },
    {
     "name": "stdout",
     "output_type": "stream",
     "text": [
      "torch.Size([9607, 7])\n"
     ]
    },
    {
     "data": {
      "application/vnd.jupyter.widget-view+json": {
       "model_id": "cda380921fdd4c9d8882d80e51c7bab3",
       "version_major": 2,
       "version_minor": 0
      },
      "text/plain": [
       "Drawing 10000 posterior samples:   0%|          | 0/10000 [00:00<?, ?it/s]"
      ]
     },
     "metadata": {},
     "output_type": "display_data"
    },
    {
     "name": "stdout",
     "output_type": "stream",
     "text": [
      "torch.Size([9955, 7])\n"
     ]
    },
    {
     "data": {
      "application/vnd.jupyter.widget-view+json": {
       "model_id": "5e16efbd43d6433d9cabe1f294da796c",
       "version_major": 2,
       "version_minor": 0
      },
      "text/plain": [
       "Drawing 10000 posterior samples:   0%|          | 0/10000 [00:00<?, ?it/s]"
      ]
     },
     "metadata": {},
     "output_type": "display_data"
    },
    {
     "name": "stdout",
     "output_type": "stream",
     "text": [
      "torch.Size([9920, 7])\n"
     ]
    },
    {
     "data": {
      "application/vnd.jupyter.widget-view+json": {
       "model_id": "6415b46a1113427cb287fcf78ee8c665",
       "version_major": 2,
       "version_minor": 0
      },
      "text/plain": [
       "Drawing 10000 posterior samples:   0%|          | 0/10000 [00:00<?, ?it/s]"
      ]
     },
     "metadata": {},
     "output_type": "display_data"
    },
    {
     "name": "stdout",
     "output_type": "stream",
     "text": [
      "torch.Size([8197, 7])\n"
     ]
    },
    {
     "data": {
      "application/vnd.jupyter.widget-view+json": {
       "model_id": "f9c0b5ac95064dd5a297f4e4a946f28f",
       "version_major": 2,
       "version_minor": 0
      },
      "text/plain": [
       "Drawing 10000 posterior samples:   0%|          | 0/10000 [00:00<?, ?it/s]"
      ]
     },
     "metadata": {},
     "output_type": "display_data"
    },
    {
     "name": "stdout",
     "output_type": "stream",
     "text": [
      "torch.Size([9951, 7])\n"
     ]
    },
    {
     "data": {
      "application/vnd.jupyter.widget-view+json": {
       "model_id": "ecd010f3371b48059e0e6cb090f60fc7",
       "version_major": 2,
       "version_minor": 0
      },
      "text/plain": [
       "Drawing 10000 posterior samples:   0%|          | 0/10000 [00:00<?, ?it/s]"
      ]
     },
     "metadata": {},
     "output_type": "display_data"
    },
    {
     "name": "stdout",
     "output_type": "stream",
     "text": [
      "torch.Size([9959, 7])\n"
     ]
    },
    {
     "data": {
      "application/vnd.jupyter.widget-view+json": {
       "model_id": "30361d4da66d4f2ab3787c547db2382f",
       "version_major": 2,
       "version_minor": 0
      },
      "text/plain": [
       "Drawing 10000 posterior samples:   0%|          | 0/10000 [00:00<?, ?it/s]"
      ]
     },
     "metadata": {},
     "output_type": "display_data"
    },
    {
     "name": "stdout",
     "output_type": "stream",
     "text": [
      "torch.Size([9934, 7])\n"
     ]
    },
    {
     "data": {
      "application/vnd.jupyter.widget-view+json": {
       "model_id": "d6f5da4d9751459b89585943fa4c9adc",
       "version_major": 2,
       "version_minor": 0
      },
      "text/plain": [
       "Drawing 10000 posterior samples:   0%|          | 0/10000 [00:00<?, ?it/s]"
      ]
     },
     "metadata": {},
     "output_type": "display_data"
    },
    {
     "name": "stdout",
     "output_type": "stream",
     "text": [
      "torch.Size([9972, 7])\n"
     ]
    },
    {
     "data": {
      "application/vnd.jupyter.widget-view+json": {
       "model_id": "76926bd53a384897a050ac0b4fd3b123",
       "version_major": 2,
       "version_minor": 0
      },
      "text/plain": [
       "Drawing 10000 posterior samples:   0%|          | 0/10000 [00:00<?, ?it/s]"
      ]
     },
     "metadata": {},
     "output_type": "display_data"
    },
    {
     "name": "stdout",
     "output_type": "stream",
     "text": [
      "torch.Size([9940, 7])\n"
     ]
    },
    {
     "data": {
      "application/vnd.jupyter.widget-view+json": {
       "model_id": "a2e95128e0d84255b92570885d92b001",
       "version_major": 2,
       "version_minor": 0
      },
      "text/plain": [
       "Drawing 10000 posterior samples:   0%|          | 0/10000 [00:00<?, ?it/s]"
      ]
     },
     "metadata": {},
     "output_type": "display_data"
    },
    {
     "name": "stdout",
     "output_type": "stream",
     "text": [
      "torch.Size([9975, 7])\n"
     ]
    },
    {
     "data": {
      "application/vnd.jupyter.widget-view+json": {
       "model_id": "0177a5de9c6743e5a8fae4c4a4b43870",
       "version_major": 2,
       "version_minor": 0
      },
      "text/plain": [
       "Drawing 10000 posterior samples:   0%|          | 0/10000 [00:00<?, ?it/s]"
      ]
     },
     "metadata": {},
     "output_type": "display_data"
    },
    {
     "name": "stdout",
     "output_type": "stream",
     "text": [
      "torch.Size([9199, 7])\n"
     ]
    },
    {
     "data": {
      "application/vnd.jupyter.widget-view+json": {
       "model_id": "29846d71f664491f8430a7a244c6a526",
       "version_major": 2,
       "version_minor": 0
      },
      "text/plain": [
       "Drawing 10000 posterior samples:   0%|          | 0/10000 [00:00<?, ?it/s]"
      ]
     },
     "metadata": {},
     "output_type": "display_data"
    },
    {
     "name": "stdout",
     "output_type": "stream",
     "text": [
      "torch.Size([9927, 7])\n"
     ]
    },
    {
     "data": {
      "application/vnd.jupyter.widget-view+json": {
       "model_id": "9ad0e9385f854396a8bd0a65f35bc8a0",
       "version_major": 2,
       "version_minor": 0
      },
      "text/plain": [
       "Drawing 10000 posterior samples:   0%|          | 0/10000 [00:00<?, ?it/s]"
      ]
     },
     "metadata": {},
     "output_type": "display_data"
    },
    {
     "name": "stdout",
     "output_type": "stream",
     "text": [
      "torch.Size([9889, 7])\n"
     ]
    },
    {
     "data": {
      "application/vnd.jupyter.widget-view+json": {
       "model_id": "a20aae4de3ea48c0a808c2b478b6cf5b",
       "version_major": 2,
       "version_minor": 0
      },
      "text/plain": [
       "Drawing 10000 posterior samples:   0%|          | 0/10000 [00:00<?, ?it/s]"
      ]
     },
     "metadata": {},
     "output_type": "display_data"
    },
    {
     "name": "stdout",
     "output_type": "stream",
     "text": [
      "torch.Size([9902, 7])\n"
     ]
    },
    {
     "data": {
      "application/vnd.jupyter.widget-view+json": {
       "model_id": "4436a9f8d49a4efc98ca17b12f80b8bc",
       "version_major": 2,
       "version_minor": 0
      },
      "text/plain": [
       "Drawing 10000 posterior samples:   0%|          | 0/10000 [00:00<?, ?it/s]"
      ]
     },
     "metadata": {},
     "output_type": "display_data"
    },
    {
     "name": "stdout",
     "output_type": "stream",
     "text": [
      "torch.Size([9689, 7])\n"
     ]
    },
    {
     "data": {
      "application/vnd.jupyter.widget-view+json": {
       "model_id": "e39f06f6d90a45bf9d82b12aa0da1ae7",
       "version_major": 2,
       "version_minor": 0
      },
      "text/plain": [
       "Drawing 10000 posterior samples:   0%|          | 0/10000 [00:00<?, ?it/s]"
      ]
     },
     "metadata": {},
     "output_type": "display_data"
    },
    {
     "name": "stdout",
     "output_type": "stream",
     "text": [
      "torch.Size([9491, 7])\n"
     ]
    },
    {
     "data": {
      "application/vnd.jupyter.widget-view+json": {
       "model_id": "2251cf8862c54e4d8b4774ee51d45a75",
       "version_major": 2,
       "version_minor": 0
      },
      "text/plain": [
       "Drawing 10000 posterior samples:   0%|          | 0/10000 [00:00<?, ?it/s]"
      ]
     },
     "metadata": {},
     "output_type": "display_data"
    },
    {
     "name": "stdout",
     "output_type": "stream",
     "text": [
      "torch.Size([9961, 7])\n"
     ]
    },
    {
     "data": {
      "application/vnd.jupyter.widget-view+json": {
       "model_id": "6b41dcf7e01144e38cf005abab88fc0c",
       "version_major": 2,
       "version_minor": 0
      },
      "text/plain": [
       "Drawing 10000 posterior samples:   0%|          | 0/10000 [00:00<?, ?it/s]"
      ]
     },
     "metadata": {},
     "output_type": "display_data"
    },
    {
     "name": "stdout",
     "output_type": "stream",
     "text": [
      "torch.Size([9896, 7])\n"
     ]
    },
    {
     "data": {
      "application/vnd.jupyter.widget-view+json": {
       "model_id": "17465e204164456ca83a50616fbac8c9",
       "version_major": 2,
       "version_minor": 0
      },
      "text/plain": [
       "Drawing 10000 posterior samples:   0%|          | 0/10000 [00:00<?, ?it/s]"
      ]
     },
     "metadata": {},
     "output_type": "display_data"
    },
    {
     "name": "stdout",
     "output_type": "stream",
     "text": [
      "torch.Size([9970, 7])\n"
     ]
    },
    {
     "data": {
      "application/vnd.jupyter.widget-view+json": {
       "model_id": "c5328aea4f384a1586575b0d26e2b0a2",
       "version_major": 2,
       "version_minor": 0
      },
      "text/plain": [
       "Drawing 10000 posterior samples:   0%|          | 0/10000 [00:00<?, ?it/s]"
      ]
     },
     "metadata": {},
     "output_type": "display_data"
    },
    {
     "name": "stdout",
     "output_type": "stream",
     "text": [
      "torch.Size([9957, 7])\n"
     ]
    },
    {
     "data": {
      "application/vnd.jupyter.widget-view+json": {
       "model_id": "3bcc854d4f824d84872ec9b115c2acca",
       "version_major": 2,
       "version_minor": 0
      },
      "text/plain": [
       "Drawing 10000 posterior samples:   0%|          | 0/10000 [00:00<?, ?it/s]"
      ]
     },
     "metadata": {},
     "output_type": "display_data"
    },
    {
     "name": "stdout",
     "output_type": "stream",
     "text": [
      "torch.Size([9199, 7])\n"
     ]
    },
    {
     "data": {
      "application/vnd.jupyter.widget-view+json": {
       "model_id": "fe75fd0ddd394072ac190afeec908702",
       "version_major": 2,
       "version_minor": 0
      },
      "text/plain": [
       "Drawing 10000 posterior samples:   0%|          | 0/10000 [00:00<?, ?it/s]"
      ]
     },
     "metadata": {},
     "output_type": "display_data"
    },
    {
     "name": "stdout",
     "output_type": "stream",
     "text": [
      "torch.Size([9866, 7])\n"
     ]
    },
    {
     "data": {
      "application/vnd.jupyter.widget-view+json": {
       "model_id": "aa382c61aca847658d514f195fc94646",
       "version_major": 2,
       "version_minor": 0
      },
      "text/plain": [
       "Drawing 10000 posterior samples:   0%|          | 0/10000 [00:00<?, ?it/s]"
      ]
     },
     "metadata": {},
     "output_type": "display_data"
    },
    {
     "name": "stdout",
     "output_type": "stream",
     "text": [
      "torch.Size([9894, 7])\n"
     ]
    },
    {
     "data": {
      "application/vnd.jupyter.widget-view+json": {
       "model_id": "9259bf6bfb4545368e4a98969a5d9be1",
       "version_major": 2,
       "version_minor": 0
      },
      "text/plain": [
       "Drawing 10000 posterior samples:   0%|          | 0/10000 [00:00<?, ?it/s]"
      ]
     },
     "metadata": {},
     "output_type": "display_data"
    },
    {
     "name": "stdout",
     "output_type": "stream",
     "text": [
      "torch.Size([9955, 7])\n"
     ]
    },
    {
     "data": {
      "application/vnd.jupyter.widget-view+json": {
       "model_id": "7edda88ccee54aa6815c5d8b7a8819e0",
       "version_major": 2,
       "version_minor": 0
      },
      "text/plain": [
       "Drawing 10000 posterior samples:   0%|          | 0/10000 [00:00<?, ?it/s]"
      ]
     },
     "metadata": {},
     "output_type": "display_data"
    },
    {
     "name": "stdout",
     "output_type": "stream",
     "text": [
      "torch.Size([9634, 7])\n"
     ]
    },
    {
     "data": {
      "application/vnd.jupyter.widget-view+json": {
       "model_id": "7a6fc92fdbde451883c9de88af7b9bf0",
       "version_major": 2,
       "version_minor": 0
      },
      "text/plain": [
       "Drawing 10000 posterior samples:   0%|          | 0/10000 [00:00<?, ?it/s]"
      ]
     },
     "metadata": {},
     "output_type": "display_data"
    },
    {
     "name": "stdout",
     "output_type": "stream",
     "text": [
      "torch.Size([9959, 7])\n"
     ]
    },
    {
     "data": {
      "application/vnd.jupyter.widget-view+json": {
       "model_id": "068854fd29c74bf09ad7624a21949db7",
       "version_major": 2,
       "version_minor": 0
      },
      "text/plain": [
       "Drawing 10000 posterior samples:   0%|          | 0/10000 [00:00<?, ?it/s]"
      ]
     },
     "metadata": {},
     "output_type": "display_data"
    },
    {
     "name": "stdout",
     "output_type": "stream",
     "text": [
      "torch.Size([9729, 7])\n"
     ]
    },
    {
     "data": {
      "application/vnd.jupyter.widget-view+json": {
       "model_id": "2db0bc66be1d468994ba53a5aefd109e",
       "version_major": 2,
       "version_minor": 0
      },
      "text/plain": [
       "Drawing 10000 posterior samples:   0%|          | 0/10000 [00:00<?, ?it/s]"
      ]
     },
     "metadata": {},
     "output_type": "display_data"
    },
    {
     "name": "stdout",
     "output_type": "stream",
     "text": [
      "torch.Size([9969, 7])\n"
     ]
    },
    {
     "data": {
      "application/vnd.jupyter.widget-view+json": {
       "model_id": "9c8a02a04c11401495721fd00e3e07ca",
       "version_major": 2,
       "version_minor": 0
      },
      "text/plain": [
       "Drawing 10000 posterior samples:   0%|          | 0/10000 [00:00<?, ?it/s]"
      ]
     },
     "metadata": {},
     "output_type": "display_data"
    },
    {
     "name": "stdout",
     "output_type": "stream",
     "text": [
      "torch.Size([9966, 7])\n"
     ]
    },
    {
     "data": {
      "application/vnd.jupyter.widget-view+json": {
       "model_id": "d671731988b644ecacea809344027cf9",
       "version_major": 2,
       "version_minor": 0
      },
      "text/plain": [
       "Drawing 10000 posterior samples:   0%|          | 0/10000 [00:00<?, ?it/s]"
      ]
     },
     "metadata": {},
     "output_type": "display_data"
    },
    {
     "name": "stdout",
     "output_type": "stream",
     "text": [
      "torch.Size([9904, 7])\n"
     ]
    },
    {
     "data": {
      "application/vnd.jupyter.widget-view+json": {
       "model_id": "8cc76dd869074a64994d3669292aca51",
       "version_major": 2,
       "version_minor": 0
      },
      "text/plain": [
       "Drawing 10000 posterior samples:   0%|          | 0/10000 [00:00<?, ?it/s]"
      ]
     },
     "metadata": {},
     "output_type": "display_data"
    },
    {
     "name": "stdout",
     "output_type": "stream",
     "text": [
      "torch.Size([9929, 7])\n"
     ]
    },
    {
     "data": {
      "application/vnd.jupyter.widget-view+json": {
       "model_id": "a1acccea616b4c43a00130f23be6985a",
       "version_major": 2,
       "version_minor": 0
      },
      "text/plain": [
       "Drawing 10000 posterior samples:   0%|          | 0/10000 [00:00<?, ?it/s]"
      ]
     },
     "metadata": {},
     "output_type": "display_data"
    },
    {
     "name": "stdout",
     "output_type": "stream",
     "text": [
      "torch.Size([9942, 7])\n"
     ]
    },
    {
     "data": {
      "application/vnd.jupyter.widget-view+json": {
       "model_id": "ffbdbac2cb804e3ab7aa18c0d89a225c",
       "version_major": 2,
       "version_minor": 0
      },
      "text/plain": [
       "Drawing 10000 posterior samples:   0%|          | 0/10000 [00:00<?, ?it/s]"
      ]
     },
     "metadata": {},
     "output_type": "display_data"
    },
    {
     "name": "stdout",
     "output_type": "stream",
     "text": [
      "torch.Size([9788, 7])\n"
     ]
    },
    {
     "data": {
      "application/vnd.jupyter.widget-view+json": {
       "model_id": "844648c6d0c742c5af25d5f496335c4f",
       "version_major": 2,
       "version_minor": 0
      },
      "text/plain": [
       "Drawing 10000 posterior samples:   0%|          | 0/10000 [00:00<?, ?it/s]"
      ]
     },
     "metadata": {},
     "output_type": "display_data"
    },
    {
     "name": "stdout",
     "output_type": "stream",
     "text": [
      "torch.Size([9440, 7])\n"
     ]
    },
    {
     "data": {
      "application/vnd.jupyter.widget-view+json": {
       "model_id": "1bf5896e0dd846c288a77a1940fee772",
       "version_major": 2,
       "version_minor": 0
      },
      "text/plain": [
       "Drawing 10000 posterior samples:   0%|          | 0/10000 [00:00<?, ?it/s]"
      ]
     },
     "metadata": {},
     "output_type": "display_data"
    },
    {
     "name": "stdout",
     "output_type": "stream",
     "text": [
      "torch.Size([9675, 7])\n"
     ]
    }
   ],
   "source": [
    "post_spss_raw = []\n",
    "for ix in range(ind_psd.shape[-1]):\n",
    "    curC = ind_conn[:, :, ix]\n",
    "    curBrain = Brain.Brain()\n",
    "    curBrain.add_connectome(DAT_ROOT) # grabs distance matrix\n",
    "    # re-ordering for DK atlas and normalizing the connectomes:\n",
    "    curBrain.reorder_connectome(curBrain.connectome, curBrain.distance_matrix)\n",
    "    curBrain.connectome = curC# re-assign connectome to individual connectome\n",
    "    curBrain.bi_symmetric_c()\n",
    "    curBrain.reduce_extreme_dir()\n",
    "        \n",
    "    sp, raw_sps = meg_psd2spatialfeature(curBrain.reducedConnectome, ind_psd[:, :, ix], FREQS, band=\"alpha\")\n",
    "    \n",
    "    std_spv = stdz_vec(raw_sps.sum(axis=1))\n",
    "    std_psd_DB = psd_2tr(ind_psd[:, :, ix])\n",
    "    \n",
    "    curX_raw = np.concatenate([std_psd_DB.flatten(), std_spv])\n",
    "    curX = torch.Tensor(curX_raw)\n",
    "    post_sps_raw = cur_res.posterior.sample((10000, ), x=curX, max_sampling_batch_size=10000)\n",
    "    post_sps_raw_stable = _filter_unstable(post_sps_raw, paras.prior_bds)\n",
    "    print(post_sps_raw_stable.shape)\n",
    "    post_spss_raw.append(post_sps_raw_stable.numpy())\n",
    "        "
   ]
  },
  {
   "cell_type": "code",
   "execution_count": 23,
   "id": "40eae794",
   "metadata": {
    "ExecuteTime": {
     "end_time": "2022-12-17T00:35:39.252863Z",
     "start_time": "2022-12-17T00:35:19.496250Z"
    }
   },
   "outputs": [
    {
     "name": "stdout",
     "output_type": "stream",
     "text": [
      "Save to /data/rajlab1/user_data/jin/MyResearch/SBI-SGM/mypkg/../results/new_bds_reparam100000_sd20_denestnsf_embedFalse/theta_raw.pkl\n",
      "Save to /data/rajlab1/user_data/jin/MyResearch/SBI-SGM/mypkg/../results/new_bds_reparam100000_sd20_denestnsf_embedFalse/x.pkl\n",
      "Save to /data/rajlab1/user_data/jin/MyResearch/SBI-SGM/mypkg/../results/new_bds_reparam100000_sd20_denestnsf_embedFalse/posterior.pkl\n",
      "Save to /data/rajlab1/user_data/jin/MyResearch/SBI-SGM/mypkg/../results/new_bds_reparam100000_sd20_denestnsf_embedFalse/post_spss_raw.pkl\n"
     ]
    }
   ],
   "source": [
    "cur_res.post_spss_raw = post_spss_raw\n",
    "save_pkl_dict2folder(_paras.folder_path, cur_res, True)"
   ]
  },
  {
   "cell_type": "code",
   "execution_count": 24,
   "id": "6b39a8f9",
   "metadata": {
    "ExecuteTime": {
     "end_time": "2022-12-17T00:35:43.667111Z",
     "start_time": "2022-12-17T00:35:42.022424Z"
    }
   },
   "outputs": [
    {
     "data": {
      "image/png": "[encoded data removed]",
      "text/plain": [
       "<Figure size 576x576 with 49 Axes>"
      ]
     },
     "metadata": {
      "needs_background": "light"
     },
     "output_type": "display_data"
    }
   ],
   "source": [
    "# taue, taui, tauC, speed, alpha, gii, gei\n",
    "_ = analysis.pairplot(cur_res.post_spss_raw[0], \n",
    "                      #limits=paras.prior_bds,\n",
    "                      labels=['taue','taui','tauG','speed','alpha','gii','gei'], \n",
    "                      figsize=(8,8))"
   ]
  },
  {
   "cell_type": "code",
   "execution_count": 25,
   "id": "aa1dcb31",
   "metadata": {
    "ExecuteTime": {
     "end_time": "2022-12-17T00:36:03.942647Z",
     "start_time": "2022-12-17T00:35:46.855014Z"
    }
   },
   "outputs": [
    {
     "name": "stdout",
     "output_type": "stream",
     "text": [
      "Save to /data/rajlab1/user_data/jin/MyResearch/SBI-SGM/mypkg/../results/new_bds_reparam100000_sd20_denestnsf_embedFalse/theta_raw.pkl\n",
      "Save to /data/rajlab1/user_data/jin/MyResearch/SBI-SGM/mypkg/../results/new_bds_reparam100000_sd20_denestnsf_embedFalse/x.pkl\n",
      "Save to /data/rajlab1/user_data/jin/MyResearch/SBI-SGM/mypkg/../results/new_bds_reparam100000_sd20_denestnsf_embedFalse/posterior.pkl\n",
      "Save to /data/rajlab1/user_data/jin/MyResearch/SBI-SGM/mypkg/../results/new_bds_reparam100000_sd20_denestnsf_embedFalse/post_spss_raw.pkl\n",
      "Save to /data/rajlab1/user_data/jin/MyResearch/SBI-SGM/mypkg/../results/new_bds_reparam100000_sd20_denestnsf_embedFalse/post_spss.pkl\n"
     ]
    }
   ],
   "source": [
    "# from theta_raw to theta\n",
    "post_spss = [_theta_raw_2out(post_sps_raw, paras.prior_bds) for post_sps_raw in cur_res.post_spss_raw]\n",
    "\n",
    "cur_res.post_spss = post_spss\n",
    "save_pkl_dict2folder(_paras.folder_path, cur_res, True)"
   ]
  },
  {
   "cell_type": "code",
   "execution_count": 26,
   "id": "8e52ae29",
   "metadata": {
    "ExecuteTime": {
     "end_time": "2022-12-17T00:36:15.397318Z",
     "start_time": "2022-12-17T00:36:13.830645Z"
    }
   },
   "outputs": [
    {
     "data": {
      "image/png": "[encoded data removed]",
      "text/plain": [
       "<Figure size 576x576 with 49 Axes>"
      ]
     },
     "metadata": {
      "needs_background": "light"
     },
     "output_type": "display_data"
    }
   ],
   "source": [
    "# taue, taui, tauC, speed, alpha, gii, gei\n",
    "_ = analysis.pairplot(cur_res.post_spss[0], \n",
    "                      limits=paras.prior_bds,\n",
    "                      labels=['taue','taui','tauG','speed','alpha','gii','gei'], \n",
    "                      figsize=(8,8))"
   ]
  },
  {
   "cell_type": "code",
   "execution_count": null,
   "id": "8f0b70b3",
   "metadata": {},
   "outputs": [],
   "source": []
  },
  {
   "cell_type": "markdown",
   "id": "b71633d4",
   "metadata": {},
   "source": [
    "#### PSD estimate"
   ]
  },
  {
   "cell_type": "code",
   "execution_count": 16,
   "id": "37dc02f7",
   "metadata": {
    "ExecuteTime": {
     "end_time": "2022-12-17T00:45:48.189206Z",
     "start_time": "2022-12-17T00:45:48.105231Z"
    }
   },
   "outputs": [
    {
     "name": "stdout",
     "output_type": "stream",
     "text": [
      "Load file /data/rajlab1/user_data/jin/MyResearch/SBI-SGM/mypkg/../results/new_bds_reparam100000_sd20_denestnsf_embedFalse/theta_raw.pkl\n",
      "Load file /data/rajlab1/user_data/jin/MyResearch/SBI-SGM/mypkg/../results/new_bds_reparam100000_sd20_denestnsf_embedFalse/posterior.pkl\n",
      "Load file /data/rajlab1/user_data/jin/MyResearch/SBI-SGM/mypkg/../results/new_bds_reparam100000_sd20_denestnsf_embedFalse/post_spss_raw.pkl\n",
      "Load file /data/rajlab1/user_data/jin/MyResearch/SBI-SGM/mypkg/../results/new_bds_reparam100000_sd20_denestnsf_embedFalse/post_spss.pkl\n"
     ]
    }
   ],
   "source": [
    "cur_res = load_pkl_folder2dict(_paras.folder_path, [\"x\"])"
   ]
  },
  {
   "cell_type": "code",
   "execution_count": 37,
   "id": "a109dfe4",
   "metadata": {
    "ExecuteTime": {
     "end_time": "2022-12-17T00:54:29.972741Z",
     "start_time": "2022-12-17T00:53:49.907921Z"
    },
    "scrolled": true
   },
   "outputs": [
    {
     "name": "stderr",
     "output_type": "stream",
     "text": [
      "100%|██████████████████████████████████████████████████████████████████████████████████████████████████████████████████████████████████████████| 36/36 [00:40<00:00,  1.11s/it]\n"
     ]
    }
   ],
   "source": [
    "# the estimated PSD and spatial feature from SGM  \n",
    "\n",
    "# way 1\n",
    "cur_est_parass = np.array([np.median(ps, axis=0) for ps in cur_res.post_spss])\n",
    "\n",
    "# way 2\n",
    "#cur_est_parass = np.array([[get_mode(ps[:, ix]) for ix in range(7)] for ps in cur_res.post_spss])\n",
    "\n",
    "# way 3\n",
    "#cur_est_parass_raw = np.array([np.median(ps, axis=0) for ps in cur_res.post_spss_raw])\n",
    "#cur_est_parass = _theta_raw_2out(cur_est_parass_raw, paras.prior_bds)\n",
    "\n",
    "# way 4\n",
    "#cur_est_parass_raw = np.array([[get_mode(ps[:, ix]) for ix in range(7)] for ps in cur_res.post_spss_raw])\n",
    "#cur_est_parass = _theta_raw_2out(cur_est_parass_raw, paras.prior_bds)\n",
    "\n",
    "std_psd_DB = []\n",
    "raw_sp = []\n",
    "for ix in trange(36):\n",
    "    cur_est_paras = cur_est_parass[ix, :]\n",
    "    \n",
    "    cur_conn = ind_conn[:, :, ix]\n",
    "    cur_brain = Brain.Brain()\n",
    "    cur_brain.add_connectome(DAT_ROOT) # grabs distance matrix\n",
    "    cur_brain.reorder_connectome(cur_brain.connectome, cur_brain.distance_matrix)\n",
    "    #cur_brain.connectome = cur_conn# re-assign connectome to individual connectome\n",
    "    cur_brain.bi_symmetric_c()\n",
    "    cur_brain.reduce_extreme_dir()\n",
    "    \n",
    "    cur_SGM_model = SGM(cur_brain.reducedConnectome, cur_brain.distance_matrix, FREQS)\n",
    "    cur_psd, cur_sp = cur_SGM_model.run_local_coupling_forward(cur_est_paras)\n",
    "    cur_psd = cur_psd[:68, :]\n",
    "    cur_psd_DB = psd_2tr(cur_psd)\n",
    "    #cur_psd_DB = cur_psd_DB.reshape(68, 40)\n",
    "    \n",
    "    std_psd_DB.append(cur_psd_DB)\n",
    "    raw_sp.append(cur_sp.sum(axis=1))\n",
    "    "
   ]
  },
  {
   "cell_type": "code",
   "execution_count": 38,
   "id": "04e89f61",
   "metadata": {
    "ExecuteTime": {
     "end_time": "2022-12-17T00:54:29.988887Z",
     "start_time": "2022-12-17T00:54:29.975889Z"
    }
   },
   "outputs": [
    {
     "name": "stdout",
     "output_type": "stream",
     "text": [
      "Corr is 0.992\n"
     ]
    }
   ],
   "source": [
    "sgm_psd_curve = np.array(std_psd_DB).mean(axis=1).mean(axis=0)\n",
    "meg_psd_curve = np.mean([psd_2tr(ind_psd[:, :, ix]).mean(axis=0) for ix in range(36)], axis=0)\n",
    "cor = scipy.stats.pearsonr(stdz_vec(meg_psd_curve), stdz_vec(sgm_psd_curve))[0]\n",
    "print(f\"Corr is {cor:.3f}\")"
   ]
  },
  {
   "cell_type": "code",
   "execution_count": 39,
   "id": "7f65133a",
   "metadata": {
    "ExecuteTime": {
     "end_time": "2022-12-17T00:54:30.129678Z",
     "start_time": "2022-12-17T00:54:29.991038Z"
    }
   },
   "outputs": [
    {
     "data": {
      "text/plain": [
       "<matplotlib.legend.Legend at 0x7f3f8b139100>"
      ]
     },
     "execution_count": 39,
     "metadata": {},
     "output_type": "execute_result"
    },
    {
     "data": {
      "image/png": "[encoded data removed]",
      "text/plain": [
       "<Figure size 720x720 with 1 Axes>"
      ]
     },
     "metadata": {
      "needs_background": "light"
     },
     "output_type": "display_data"
    }
   ],
   "source": [
    "plt.figure(figsize=[10, 10])\n",
    "#plt.plot(FREQS, meg_psd_curve, linestyle = '-',\n",
    "plt.plot(FREQS, stdz_vec(meg_psd_curve), linestyle = '-',\n",
    "         marker = 's',fillstyle = 'none',color = 'k', label = \"MEG\", alpha = 0.8)\n",
    "#plt.plot(FREQS, sgm_psd_curve, linestyle = '-',\n",
    "plt.plot(FREQS, stdz_vec(sgm_psd_curve), linestyle = '-',\n",
    "         marker = 'o',fillstyle = 'none',color = 'b', label = \"M-SGM\", alpha = 0.8)\n",
    "plt.xlabel('Frequency (Hz)', fontsize = 17)\n",
    "plt.ylabel('Normalized PSD', fontsize = 17)\n",
    "plt.legend()"
   ]
  },
  {
   "cell_type": "code",
   "execution_count": null,
   "id": "8cda20e3",
   "metadata": {},
   "outputs": [],
   "source": []
  },
  {
   "cell_type": "code",
   "execution_count": 40,
   "id": "952e788f",
   "metadata": {
    "ExecuteTime": {
     "end_time": "2022-12-17T00:54:30.236285Z",
     "start_time": "2022-12-17T00:54:30.131169Z"
    }
   },
   "outputs": [],
   "source": [
    "# Corrs for PSD and spatial features for each subject\n",
    "meg_psd_roi_sub = np.array([psd_2tr(ind_psd[:, :, ix]) for ix in range(36)])\n",
    "sgm_psd_roi_sub = np.array(std_psd_DB)\n",
    "\n",
    "corrs_roi_sub = []\n",
    "for ix in range(meg_psd_roi_sub.shape[0]):\n",
    "    cur_meg = meg_psd_roi_sub[ix]\n",
    "    cur_sgm = sgm_psd_roi_sub[ix]\n",
    "    corrs_roi_sub.append(np.mean([scipy.stats.pearsonr(cur_meg[iy], cur_sgm[iy])[0] for iy in range(68)]))\n",
    "corrs_roi_sub = np.array(corrs_roi_sub)"
   ]
  },
  {
   "cell_type": "code",
   "execution_count": 41,
   "id": "47a59e01",
   "metadata": {
    "ExecuteTime": {
     "end_time": "2022-12-17T00:54:30.240248Z",
     "start_time": "2022-12-17T00:54:30.237235Z"
    }
   },
   "outputs": [
    {
     "data": {
      "text/plain": [
       "array([0.72616907, 0.79799466, 0.81410126, 0.8191576 , 0.81926515,\n",
       "       0.83899844, 0.84080655, 0.84251766, 0.84490549, 0.84801368,\n",
       "       0.84906162, 0.85407228, 0.8542234 , 0.86171948, 0.86327061,\n",
       "       0.86538676, 0.87314245, 0.87630977, 0.87640171, 0.8770865 ,\n",
       "       0.88084989, 0.88435463, 0.89191801, 0.89289307, 0.89423461,\n",
       "       0.89502836, 0.89584788, 0.8973436 , 0.89763046, 0.89878366,\n",
       "       0.906874  , 0.90867434, 0.91546584, 0.92356987, 0.92446198,\n",
       "       0.93347978])"
      ]
     },
     "execution_count": 41,
     "metadata": {},
     "output_type": "execute_result"
    }
   ],
   "source": [
    "np.sort(corrs_roi_sub)"
   ]
  },
  {
   "cell_type": "code",
   "execution_count": 42,
   "id": "c0fd924b",
   "metadata": {
    "ExecuteTime": {
     "end_time": "2022-12-17T00:54:30.268265Z",
     "start_time": "2022-12-17T00:54:30.241085Z"
    }
   },
   "outputs": [
    {
     "name": "stdout",
     "output_type": "stream",
     "text": [
      "0.8763557414300647 0.8690003928113224\n"
     ]
    }
   ],
   "source": [
    "print(np.median(corrs_roi_sub), np.mean(corrs_roi_sub))"
   ]
  },
  {
   "cell_type": "code",
   "execution_count": 43,
   "id": "20903cdb",
   "metadata": {
    "ExecuteTime": {
     "end_time": "2022-12-17T00:54:30.301515Z",
     "start_time": "2022-12-17T00:54:30.269736Z"
    }
   },
   "outputs": [
    {
     "data": {
      "text/plain": [
       "array([24, 33,  0,  4, 21, 32, 25, 18,  1,  3, 15, 11,  9, 27, 17,  8,  7,\n",
       "       19, 13, 34, 14, 16, 22, 28, 23, 31, 35, 20, 10, 12, 26,  5,  6,  2,\n",
       "       30, 29])"
      ]
     },
     "execution_count": 43,
     "metadata": {},
     "output_type": "execute_result"
    }
   ],
   "source": [
    "np.argsort(corrs_roi_sub)"
   ]
  },
  {
   "cell_type": "code",
   "execution_count": 44,
   "id": "38238167",
   "metadata": {
    "ExecuteTime": {
     "end_time": "2022-12-17T00:54:30.426727Z",
     "start_time": "2022-12-17T00:54:30.303835Z"
    }
   },
   "outputs": [
    {
     "data": {
      "text/plain": [
       "<matplotlib.legend.Legend at 0x7f3f8b079520>"
      ]
     },
     "execution_count": 44,
     "metadata": {},
     "output_type": "execute_result"
    },
    {
     "data": {
      "image/png": "[encoded data removed]",
      "text/plain": [
       "<Figure size 432x288 with 1 Axes>"
      ]
     },
     "metadata": {
      "needs_background": "light"
     },
     "output_type": "display_data"
    }
   ],
   "source": [
    "sub_ix = 1\n",
    "cur_sgm.shape\n",
    "plt.plot(FREQS, stdz_vec(meg_psd_roi_sub[sub_ix, :, :].mean(axis=0)), linestyle = '-',\n",
    "         marker = 's',fillstyle = 'none',color = 'k', label = \"MEG\", alpha = 0.8)\n",
    "plt.plot(FREQS, stdz_vec(sgm_psd_roi_sub[sub_ix, :, :].mean(axis=0)), linestyle = '-',\n",
    "         marker = 'o',fillstyle = 'none',color = 'b', label = \"M-SGM\", alpha = 0.8)\n",
    "plt.legend()"
   ]
  },
  {
   "cell_type": "code",
   "execution_count": 45,
   "id": "dc5a7cdd",
   "metadata": {
    "ExecuteTime": {
     "end_time": "2022-12-17T00:54:30.560576Z",
     "start_time": "2022-12-17T00:54:30.427647Z"
    }
   },
   "outputs": [
    {
     "data": {
      "text/plain": [
       "<matplotlib.legend.Legend at 0x7f3f8afd02e0>"
      ]
     },
     "execution_count": 45,
     "metadata": {},
     "output_type": "execute_result"
    },
    {
     "data": {
      "image/png": "[encoded data removed]",
      "text/plain": [
       "<Figure size 432x288 with 1 Axes>"
      ]
     },
     "metadata": {
      "needs_background": "light"
     },
     "output_type": "display_data"
    }
   ],
   "source": [
    "sub_ix = 24\n",
    "roi_ix = 1\n",
    "cur_sgm.shape\n",
    "plt.plot(FREQS, stdz_vec(meg_psd_roi_sub[sub_ix, roi_ix, :]), linestyle = '-',\n",
    "         marker = 's',fillstyle = 'none',color = 'k', label = \"MEG\", alpha = 0.8)\n",
    "plt.plot(FREQS, stdz_vec(sgm_psd_roi_sub[sub_ix, roi_ix, :]), linestyle = '-',\n",
    "         marker = 'o',fillstyle = 'none',color = 'b', label = \"M-SGM\", alpha = 0.8)\n",
    "plt.legend()"
   ]
  },
  {
   "cell_type": "code",
   "execution_count": 32,
   "id": "128e03f9",
   "metadata": {
    "ExecuteTime": {
     "end_time": "2022-11-01T23:50:41.009836Z",
     "start_time": "2022-11-01T23:50:37.252263Z"
    }
   },
   "outputs": [
    {
     "name": "stdout",
     "output_type": "stream",
     "text": [
      "Save to /data/rajlab1/user_data/jin/MyResearch/SBI-SGM/mypkg/../results/generalNoiseRawReparam_20000_sd20_denestnsf_embedTrue/theta_raw.pkl\n",
      "Save to /data/rajlab1/user_data/jin/MyResearch/SBI-SGM/mypkg/../results/generalNoiseRawReparam_20000_sd20_denestnsf_embedTrue/x.pkl\n",
      "Save to /data/rajlab1/user_data/jin/MyResearch/SBI-SGM/mypkg/../results/generalNoiseRawReparam_20000_sd20_denestnsf_embedTrue/posterior.pkl\n",
      "Save to /data/rajlab1/user_data/jin/MyResearch/SBI-SGM/mypkg/../results/generalNoiseRawReparam_20000_sd20_denestnsf_embedTrue/embedding_net.pkl\n",
      "Save to /data/rajlab1/user_data/jin/MyResearch/SBI-SGM/mypkg/../results/generalNoiseRawReparam_20000_sd20_denestnsf_embedTrue/post_spss_raw.pkl\n",
      "Save to /data/rajlab1/user_data/jin/MyResearch/SBI-SGM/mypkg/../results/generalNoiseRawReparam_20000_sd20_denestnsf_embedTrue/post_spss.pkl\n",
      "Save to /data/rajlab1/user_data/jin/MyResearch/SBI-SGM/mypkg/../results/generalNoiseRawReparam_20000_sd20_denestnsf_embedTrue/raw_sp.pkl\n",
      "Save to /data/rajlab1/user_data/jin/MyResearch/SBI-SGM/mypkg/../results/generalNoiseRawReparam_20000_sd20_denestnsf_embedTrue/std_psd_DB.pkl\n"
     ]
    }
   ],
   "source": [
    "cur_res.raw_sp = raw_sp\n",
    "cur_res.std_psd_DB = std_psd_DB\n",
    "save_pkl_dict2folder(_paras.folder_path, cur_res, False)"
   ]
  },
  {
   "cell_type": "code",
   "execution_count": null,
   "id": "7e7ff003",
   "metadata": {},
   "outputs": [],
   "source": []
  },
  {
   "cell_type": "markdown",
   "id": "791c1440",
   "metadata": {},
   "source": [
    "### Another way to do the inference"
   ]
  },
  {
   "cell_type": "code",
   "execution_count": 28,
   "id": "4a1726e0",
   "metadata": {
    "ExecuteTime": {
     "end_time": "2022-12-17T00:53:16.784092Z",
     "start_time": "2022-12-17T00:50:02.433710Z"
    },
    "scrolled": true
   },
   "outputs": [
    {
     "name": "stdout",
     "output_type": "stream",
     "text": [
      "0\n"
     ]
    },
    {
     "data": {
      "application/vnd.jupyter.widget-view+json": {
       "model_id": "ba56230fd49248cd819121c660b2f9f0",
       "version_major": 2,
       "version_minor": 0
      },
      "text/plain": [
       "Drawing 100 posterior samples:   0%|          | 0/100 [00:00<?, ?it/s]"
      ]
     },
     "metadata": {},
     "output_type": "display_data"
    },
    {
     "data": {
      "application/vnd.jupyter.widget-view+json": {
       "model_id": "8095460818ee4f7bb8615ab96a85c90d",
       "version_major": 2,
       "version_minor": 0
      },
      "text/plain": [
       "Running 100 simulations in 100 batches.:   0%|          | 0/100 [00:00<?, ?it/s]"
      ]
     },
     "metadata": {},
     "output_type": "display_data"
    },
    {
     "name": "stdout",
     "output_type": "stream",
     "text": [
      "1\n"
     ]
    },
    {
     "data": {
      "application/vnd.jupyter.widget-view+json": {
       "model_id": "80779543a26047ccbf320e39c62cc15d",
       "version_major": 2,
       "version_minor": 0
      },
      "text/plain": [
       "Drawing 100 posterior samples:   0%|          | 0/100 [00:00<?, ?it/s]"
      ]
     },
     "metadata": {},
     "output_type": "display_data"
    },
    {
     "data": {
      "application/vnd.jupyter.widget-view+json": {
       "model_id": "e0bf0c5226d5467c838711054c1f7f40",
       "version_major": 2,
       "version_minor": 0
      },
      "text/plain": [
       "Running 100 simulations in 100 batches.:   0%|          | 0/100 [00:00<?, ?it/s]"
      ]
     },
     "metadata": {},
     "output_type": "display_data"
    },
    {
     "name": "stdout",
     "output_type": "stream",
     "text": [
      "2\n"
     ]
    },
    {
     "data": {
      "application/vnd.jupyter.widget-view+json": {
       "model_id": "ded89cb24fd04f9ba4a70dc390704fa4",
       "version_major": 2,
       "version_minor": 0
      },
      "text/plain": [
       "Drawing 100 posterior samples:   0%|          | 0/100 [00:00<?, ?it/s]"
      ]
     },
     "metadata": {},
     "output_type": "display_data"
    },
    {
     "data": {
      "application/vnd.jupyter.widget-view+json": {
       "model_id": "88ae5da7a41545dbb231678fdc33e44e",
       "version_major": 2,
       "version_minor": 0
      },
      "text/plain": [
       "Running 100 simulations in 100 batches.:   0%|          | 0/100 [00:00<?, ?it/s]"
      ]
     },
     "metadata": {},
     "output_type": "display_data"
    },
    {
     "name": "stdout",
     "output_type": "stream",
     "text": [
      "3\n"
     ]
    },
    {
     "data": {
      "application/vnd.jupyter.widget-view+json": {
       "model_id": "1ae5f4a5c5ef4f0a90b24a12091ba701",
       "version_major": 2,
       "version_minor": 0
      },
      "text/plain": [
       "Drawing 100 posterior samples:   0%|          | 0/100 [00:00<?, ?it/s]"
      ]
     },
     "metadata": {},
     "output_type": "display_data"
    },
    {
     "data": {
      "application/vnd.jupyter.widget-view+json": {
       "model_id": "b3ea36c4124e4514bb5897a3c13231c6",
       "version_major": 2,
       "version_minor": 0
      },
      "text/plain": [
       "Running 100 simulations in 100 batches.:   0%|          | 0/100 [00:00<?, ?it/s]"
      ]
     },
     "metadata": {},
     "output_type": "display_data"
    },
    {
     "name": "stdout",
     "output_type": "stream",
     "text": [
      "4\n"
     ]
    },
    {
     "data": {
      "application/vnd.jupyter.widget-view+json": {
       "model_id": "e3e813492d294e0b9c6998a987fe0447",
       "version_major": 2,
       "version_minor": 0
      },
      "text/plain": [
       "Drawing 100 posterior samples:   0%|          | 0/100 [00:00<?, ?it/s]"
      ]
     },
     "metadata": {},
     "output_type": "display_data"
    },
    {
     "data": {
      "application/vnd.jupyter.widget-view+json": {
       "model_id": "4d5eadec6d114eb292e90781ac17768a",
       "version_major": 2,
       "version_minor": 0
      },
      "text/plain": [
       "Running 100 simulations in 100 batches.:   0%|          | 0/100 [00:00<?, ?it/s]"
      ]
     },
     "metadata": {},
     "output_type": "display_data"
    },
    {
     "name": "stdout",
     "output_type": "stream",
     "text": [
      "5\n"
     ]
    },
    {
     "data": {
      "application/vnd.jupyter.widget-view+json": {
       "model_id": "f2d06ef46c024edf9345610a9902f31b",
       "version_major": 2,
       "version_minor": 0
      },
      "text/plain": [
       "Drawing 100 posterior samples:   0%|          | 0/100 [00:00<?, ?it/s]"
      ]
     },
     "metadata": {},
     "output_type": "display_data"
    },
    {
     "data": {
      "application/vnd.jupyter.widget-view+json": {
       "model_id": "7ba6dfa48b1341b4afb9eb03eda421e1",
       "version_major": 2,
       "version_minor": 0
      },
      "text/plain": [
       "Running 100 simulations in 100 batches.:   0%|          | 0/100 [00:00<?, ?it/s]"
      ]
     },
     "metadata": {},
     "output_type": "display_data"
    },
    {
     "name": "stdout",
     "output_type": "stream",
     "text": [
      "6\n"
     ]
    },
    {
     "data": {
      "application/vnd.jupyter.widget-view+json": {
       "model_id": "adc90ee5b2a648a7aa55132bfc601dff",
       "version_major": 2,
       "version_minor": 0
      },
      "text/plain": [
       "Drawing 100 posterior samples:   0%|          | 0/100 [00:00<?, ?it/s]"
      ]
     },
     "metadata": {},
     "output_type": "display_data"
    },
    {
     "data": {
      "application/vnd.jupyter.widget-view+json": {
       "model_id": "ef098870f1fa47c68f66c92f8f8ae7e6",
       "version_major": 2,
       "version_minor": 0
      },
      "text/plain": [
       "Running 100 simulations in 100 batches.:   0%|          | 0/100 [00:00<?, ?it/s]"
      ]
     },
     "metadata": {},
     "output_type": "display_data"
    },
    {
     "name": "stdout",
     "output_type": "stream",
     "text": [
      "7\n"
     ]
    },
    {
     "data": {
      "application/vnd.jupyter.widget-view+json": {
       "model_id": "35d4c65d25404c4da2bb13fd50d38a10",
       "version_major": 2,
       "version_minor": 0
      },
      "text/plain": [
       "Drawing 100 posterior samples:   0%|          | 0/100 [00:00<?, ?it/s]"
      ]
     },
     "metadata": {},
     "output_type": "display_data"
    },
    {
     "data": {
      "application/vnd.jupyter.widget-view+json": {
       "model_id": "3e0905820903483a892c994a9b6060e8",
       "version_major": 2,
       "version_minor": 0
      },
      "text/plain": [
       "Running 100 simulations in 100 batches.:   0%|          | 0/100 [00:00<?, ?it/s]"
      ]
     },
     "metadata": {},
     "output_type": "display_data"
    },
    {
     "name": "stdout",
     "output_type": "stream",
     "text": [
      "8\n"
     ]
    },
    {
     "data": {
      "application/vnd.jupyter.widget-view+json": {
       "model_id": "556dee7418894ae48e970987e9ad96e4",
       "version_major": 2,
       "version_minor": 0
      },
      "text/plain": [
       "Drawing 100 posterior samples:   0%|          | 0/100 [00:00<?, ?it/s]"
      ]
     },
     "metadata": {},
     "output_type": "display_data"
    },
    {
     "data": {
      "application/vnd.jupyter.widget-view+json": {
       "model_id": "d29b43e02bb14dd5992d6414004b77e9",
       "version_major": 2,
       "version_minor": 0
      },
      "text/plain": [
       "Running 100 simulations in 100 batches.:   0%|          | 0/100 [00:00<?, ?it/s]"
      ]
     },
     "metadata": {},
     "output_type": "display_data"
    },
    {
     "name": "stdout",
     "output_type": "stream",
     "text": [
      "9\n"
     ]
    },
    {
     "data": {
      "application/vnd.jupyter.widget-view+json": {
       "model_id": "13da9e8c9de640b89b71f18c778ade24",
       "version_major": 2,
       "version_minor": 0
      },
      "text/plain": [
       "Drawing 100 posterior samples:   0%|          | 0/100 [00:00<?, ?it/s]"
      ]
     },
     "metadata": {},
     "output_type": "display_data"
    },
    {
     "data": {
      "application/vnd.jupyter.widget-view+json": {
       "model_id": "1e93bc2f40ad4bd18b0051b9730a015b",
       "version_major": 2,
       "version_minor": 0
      },
      "text/plain": [
       "Running 100 simulations in 100 batches.:   0%|          | 0/100 [00:00<?, ?it/s]"
      ]
     },
     "metadata": {},
     "output_type": "display_data"
    },
    {
     "name": "stdout",
     "output_type": "stream",
     "text": [
      "10\n"
     ]
    },
    {
     "data": {
      "application/vnd.jupyter.widget-view+json": {
       "model_id": "14f45160bd274ce1b3a7345bd7aa951b",
       "version_major": 2,
       "version_minor": 0
      },
      "text/plain": [
       "Drawing 100 posterior samples:   0%|          | 0/100 [00:00<?, ?it/s]"
      ]
     },
     "metadata": {},
     "output_type": "display_data"
    },
    {
     "data": {
      "application/vnd.jupyter.widget-view+json": {
       "model_id": "a0448a94396b400c8659391af1139abe",
       "version_major": 2,
       "version_minor": 0
      },
      "text/plain": [
       "Running 100 simulations in 100 batches.:   0%|          | 0/100 [00:00<?, ?it/s]"
      ]
     },
     "metadata": {},
     "output_type": "display_data"
    },
    {
     "name": "stdout",
     "output_type": "stream",
     "text": [
      "11\n"
     ]
    },
    {
     "data": {
      "application/vnd.jupyter.widget-view+json": {
       "model_id": "d250ed0de11846e7a04d11f02255cfc0",
       "version_major": 2,
       "version_minor": 0
      },
      "text/plain": [
       "Drawing 100 posterior samples:   0%|          | 0/100 [00:00<?, ?it/s]"
      ]
     },
     "metadata": {},
     "output_type": "display_data"
    },
    {
     "data": {
      "application/vnd.jupyter.widget-view+json": {
       "model_id": "3e2013ef69ff4bc4b3287f746ef9fac3",
       "version_major": 2,
       "version_minor": 0
      },
      "text/plain": [
       "Running 100 simulations in 100 batches.:   0%|          | 0/100 [00:00<?, ?it/s]"
      ]
     },
     "metadata": {},
     "output_type": "display_data"
    },
    {
     "name": "stdout",
     "output_type": "stream",
     "text": [
      "12\n"
     ]
    },
    {
     "data": {
      "application/vnd.jupyter.widget-view+json": {
       "model_id": "8d225e4169fb40e99cb8b1a8db616adc",
       "version_major": 2,
       "version_minor": 0
      },
      "text/plain": [
       "Drawing 100 posterior samples:   0%|          | 0/100 [00:00<?, ?it/s]"
      ]
     },
     "metadata": {},
     "output_type": "display_data"
    },
    {
     "data": {
      "application/vnd.jupyter.widget-view+json": {
       "model_id": "04df31479b5449e19a3d6d41e938a090",
       "version_major": 2,
       "version_minor": 0
      },
      "text/plain": [
       "Running 100 simulations in 100 batches.:   0%|          | 0/100 [00:00<?, ?it/s]"
      ]
     },
     "metadata": {},
     "output_type": "display_data"
    },
    {
     "name": "stdout",
     "output_type": "stream",
     "text": [
      "13\n"
     ]
    },
    {
     "data": {
      "application/vnd.jupyter.widget-view+json": {
       "model_id": "1c24c3de7e564f5187d27581954a482d",
       "version_major": 2,
       "version_minor": 0
      },
      "text/plain": [
       "Drawing 100 posterior samples:   0%|          | 0/100 [00:00<?, ?it/s]"
      ]
     },
     "metadata": {},
     "output_type": "display_data"
    },
    {
     "data": {
      "application/vnd.jupyter.widget-view+json": {
       "model_id": "9f0f0cdd3f6e4d57999431b692c3a7bc",
       "version_major": 2,
       "version_minor": 0
      },
      "text/plain": [
       "Running 100 simulations in 100 batches.:   0%|          | 0/100 [00:00<?, ?it/s]"
      ]
     },
     "metadata": {},
     "output_type": "display_data"
    },
    {
     "name": "stdout",
     "output_type": "stream",
     "text": [
      "14\n"
     ]
    },
    {
     "data": {
      "application/vnd.jupyter.widget-view+json": {
       "model_id": "5ae74df574544775be495b11b9f9d40b",
       "version_major": 2,
       "version_minor": 0
      },
      "text/plain": [
       "Drawing 100 posterior samples:   0%|          | 0/100 [00:00<?, ?it/s]"
      ]
     },
     "metadata": {},
     "output_type": "display_data"
    },
    {
     "data": {
      "application/vnd.jupyter.widget-view+json": {
       "model_id": "2960b551151b476abb8dd802ae440d35",
       "version_major": 2,
       "version_minor": 0
      },
      "text/plain": [
       "Running 100 simulations in 100 batches.:   0%|          | 0/100 [00:00<?, ?it/s]"
      ]
     },
     "metadata": {},
     "output_type": "display_data"
    },
    {
     "name": "stdout",
     "output_type": "stream",
     "text": [
      "15\n"
     ]
    },
    {
     "data": {
      "application/vnd.jupyter.widget-view+json": {
       "model_id": "574b8f52b107422f831962a5f162fef2",
       "version_major": 2,
       "version_minor": 0
      },
      "text/plain": [
       "Drawing 100 posterior samples:   0%|          | 0/100 [00:00<?, ?it/s]"
      ]
     },
     "metadata": {},
     "output_type": "display_data"
    },
    {
     "data": {
      "application/vnd.jupyter.widget-view+json": {
       "model_id": "a7c60409fee14bf1a1f300512cce4dc5",
       "version_major": 2,
       "version_minor": 0
      },
      "text/plain": [
       "Running 100 simulations in 100 batches.:   0%|          | 0/100 [00:00<?, ?it/s]"
      ]
     },
     "metadata": {},
     "output_type": "display_data"
    },
    {
     "name": "stdout",
     "output_type": "stream",
     "text": [
      "16\n"
     ]
    },
    {
     "data": {
      "application/vnd.jupyter.widget-view+json": {
       "model_id": "93f0a5a245bb4477aad55c8db5abafae",
       "version_major": 2,
       "version_minor": 0
      },
      "text/plain": [
       "Drawing 100 posterior samples:   0%|          | 0/100 [00:00<?, ?it/s]"
      ]
     },
     "metadata": {},
     "output_type": "display_data"
    },
    {
     "data": {
      "application/vnd.jupyter.widget-view+json": {
       "model_id": "5930e5a7128049829b22684a708a4972",
       "version_major": 2,
       "version_minor": 0
      },
      "text/plain": [
       "Running 100 simulations in 100 batches.:   0%|          | 0/100 [00:00<?, ?it/s]"
      ]
     },
     "metadata": {},
     "output_type": "display_data"
    },
    {
     "name": "stdout",
     "output_type": "stream",
     "text": [
      "17\n"
     ]
    },
    {
     "data": {
      "application/vnd.jupyter.widget-view+json": {
       "model_id": "22ccc28ed3044f34afd9b0f05db99ffd",
       "version_major": 2,
       "version_minor": 0
      },
      "text/plain": [
       "Drawing 100 posterior samples:   0%|          | 0/100 [00:00<?, ?it/s]"
      ]
     },
     "metadata": {},
     "output_type": "display_data"
    },
    {
     "data": {
      "application/vnd.jupyter.widget-view+json": {
       "model_id": "c427e039e7b5441db7c0618edc6c7a0e",
       "version_major": 2,
       "version_minor": 0
      },
      "text/plain": [
       "Running 100 simulations in 100 batches.:   0%|          | 0/100 [00:00<?, ?it/s]"
      ]
     },
     "metadata": {},
     "output_type": "display_data"
    },
    {
     "name": "stdout",
     "output_type": "stream",
     "text": [
      "18\n"
     ]
    },
    {
     "data": {
      "application/vnd.jupyter.widget-view+json": {
       "model_id": "ac98bc17ce4644438ee8bf14892f4b10",
       "version_major": 2,
       "version_minor": 0
      },
      "text/plain": [
       "Drawing 100 posterior samples:   0%|          | 0/100 [00:00<?, ?it/s]"
      ]
     },
     "metadata": {},
     "output_type": "display_data"
    },
    {
     "data": {
      "application/vnd.jupyter.widget-view+json": {
       "model_id": "7a5a8efdb72b445087f25514c9c42c6d",
       "version_major": 2,
       "version_minor": 0
      },
      "text/plain": [
       "Running 100 simulations in 100 batches.:   0%|          | 0/100 [00:00<?, ?it/s]"
      ]
     },
     "metadata": {},
     "output_type": "display_data"
    },
    {
     "name": "stdout",
     "output_type": "stream",
     "text": [
      "19\n"
     ]
    },
    {
     "data": {
      "application/vnd.jupyter.widget-view+json": {
       "model_id": "871f8b84dd1941f4abc78968e8fe513c",
       "version_major": 2,
       "version_minor": 0
      },
      "text/plain": [
       "Drawing 100 posterior samples:   0%|          | 0/100 [00:00<?, ?it/s]"
      ]
     },
     "metadata": {},
     "output_type": "display_data"
    },
    {
     "data": {
      "application/vnd.jupyter.widget-view+json": {
       "model_id": "dd17b21bbd9444ab87fde0ff1dc06bdd",
       "version_major": 2,
       "version_minor": 0
      },
      "text/plain": [
       "Running 100 simulations in 100 batches.:   0%|          | 0/100 [00:00<?, ?it/s]"
      ]
     },
     "metadata": {},
     "output_type": "display_data"
    },
    {
     "name": "stdout",
     "output_type": "stream",
     "text": [
      "20\n"
     ]
    },
    {
     "data": {
      "application/vnd.jupyter.widget-view+json": {
       "model_id": "5dc1d95427ed416a9433bd8f67937d7e",
       "version_major": 2,
       "version_minor": 0
      },
      "text/plain": [
       "Drawing 100 posterior samples:   0%|          | 0/100 [00:00<?, ?it/s]"
      ]
     },
     "metadata": {},
     "output_type": "display_data"
    },
    {
     "data": {
      "application/vnd.jupyter.widget-view+json": {
       "model_id": "a8487ef42d0647d294de5df539615647",
       "version_major": 2,
       "version_minor": 0
      },
      "text/plain": [
       "Running 100 simulations in 100 batches.:   0%|          | 0/100 [00:00<?, ?it/s]"
      ]
     },
     "metadata": {},
     "output_type": "display_data"
    },
    {
     "name": "stdout",
     "output_type": "stream",
     "text": [
      "21\n"
     ]
    },
    {
     "data": {
      "application/vnd.jupyter.widget-view+json": {
       "model_id": "9aa41d75ee4d419e9f46e14815810825",
       "version_major": 2,
       "version_minor": 0
      },
      "text/plain": [
       "Drawing 100 posterior samples:   0%|          | 0/100 [00:00<?, ?it/s]"
      ]
     },
     "metadata": {},
     "output_type": "display_data"
    },
    {
     "data": {
      "application/vnd.jupyter.widget-view+json": {
       "model_id": "833a1b2c6eee417fbda960061e9a8f5d",
       "version_major": 2,
       "version_minor": 0
      },
      "text/plain": [
       "Running 100 simulations in 100 batches.:   0%|          | 0/100 [00:00<?, ?it/s]"
      ]
     },
     "metadata": {},
     "output_type": "display_data"
    },
    {
     "name": "stdout",
     "output_type": "stream",
     "text": [
      "22\n"
     ]
    },
    {
     "data": {
      "application/vnd.jupyter.widget-view+json": {
       "model_id": "1eff7af5298147dd9568eb07b4f724bd",
       "version_major": 2,
       "version_minor": 0
      },
      "text/plain": [
       "Drawing 100 posterior samples:   0%|          | 0/100 [00:00<?, ?it/s]"
      ]
     },
     "metadata": {},
     "output_type": "display_data"
    },
    {
     "data": {
      "application/vnd.jupyter.widget-view+json": {
       "model_id": "7e394221b50c4e6b842619cce7126b33",
       "version_major": 2,
       "version_minor": 0
      },
      "text/plain": [
       "Running 100 simulations in 100 batches.:   0%|          | 0/100 [00:00<?, ?it/s]"
      ]
     },
     "metadata": {},
     "output_type": "display_data"
    },
    {
     "name": "stdout",
     "output_type": "stream",
     "text": [
      "23\n"
     ]
    },
    {
     "data": {
      "application/vnd.jupyter.widget-view+json": {
       "model_id": "1105aad266dc464ebb2f06340a4e7056",
       "version_major": 2,
       "version_minor": 0
      },
      "text/plain": [
       "Drawing 100 posterior samples:   0%|          | 0/100 [00:00<?, ?it/s]"
      ]
     },
     "metadata": {},
     "output_type": "display_data"
    },
    {
     "data": {
      "application/vnd.jupyter.widget-view+json": {
       "model_id": "8b1dd526c4b24222af9ed6ad697c5082",
       "version_major": 2,
       "version_minor": 0
      },
      "text/plain": [
       "Running 100 simulations in 100 batches.:   0%|          | 0/100 [00:00<?, ?it/s]"
      ]
     },
     "metadata": {},
     "output_type": "display_data"
    },
    {
     "name": "stdout",
     "output_type": "stream",
     "text": [
      "24\n"
     ]
    },
    {
     "data": {
      "application/vnd.jupyter.widget-view+json": {
       "model_id": "3e9fde8ef7de466b992ed5905c48a690",
       "version_major": 2,
       "version_minor": 0
      },
      "text/plain": [
       "Drawing 100 posterior samples:   0%|          | 0/100 [00:00<?, ?it/s]"
      ]
     },
     "metadata": {},
     "output_type": "display_data"
    },
    {
     "data": {
      "application/vnd.jupyter.widget-view+json": {
       "model_id": "0919689adcfb4dc29332c4f3fd2329ee",
       "version_major": 2,
       "version_minor": 0
      },
      "text/plain": [
       "Running 100 simulations in 100 batches.:   0%|          | 0/100 [00:00<?, ?it/s]"
      ]
     },
     "metadata": {},
     "output_type": "display_data"
    },
    {
     "name": "stdout",
     "output_type": "stream",
     "text": [
      "25\n"
     ]
    },
    {
     "data": {
      "application/vnd.jupyter.widget-view+json": {
       "model_id": "48bf3455c10e4608a72a38206e258cca",
       "version_major": 2,
       "version_minor": 0
      },
      "text/plain": [
       "Drawing 100 posterior samples:   0%|          | 0/100 [00:00<?, ?it/s]"
      ]
     },
     "metadata": {},
     "output_type": "display_data"
    },
    {
     "data": {
      "application/vnd.jupyter.widget-view+json": {
       "model_id": "203a07bb03fb466393f32655e577256c",
       "version_major": 2,
       "version_minor": 0
      },
      "text/plain": [
       "Running 100 simulations in 100 batches.:   0%|          | 0/100 [00:00<?, ?it/s]"
      ]
     },
     "metadata": {},
     "output_type": "display_data"
    },
    {
     "name": "stdout",
     "output_type": "stream",
     "text": [
      "26\n"
     ]
    },
    {
     "data": {
      "application/vnd.jupyter.widget-view+json": {
       "model_id": "e92f41aafa284f4db2d7175de42bf40c",
       "version_major": 2,
       "version_minor": 0
      },
      "text/plain": [
       "Drawing 100 posterior samples:   0%|          | 0/100 [00:00<?, ?it/s]"
      ]
     },
     "metadata": {},
     "output_type": "display_data"
    },
    {
     "data": {
      "application/vnd.jupyter.widget-view+json": {
       "model_id": "c04500ebc3d144c9af2ace152a006f1d",
       "version_major": 2,
       "version_minor": 0
      },
      "text/plain": [
       "Running 100 simulations in 100 batches.:   0%|          | 0/100 [00:00<?, ?it/s]"
      ]
     },
     "metadata": {},
     "output_type": "display_data"
    },
    {
     "name": "stdout",
     "output_type": "stream",
     "text": [
      "27\n"
     ]
    },
    {
     "data": {
      "application/vnd.jupyter.widget-view+json": {
       "model_id": "d4877c69f2ac49ea8dfdb69ba5182b5d",
       "version_major": 2,
       "version_minor": 0
      },
      "text/plain": [
       "Drawing 100 posterior samples:   0%|          | 0/100 [00:00<?, ?it/s]"
      ]
     },
     "metadata": {},
     "output_type": "display_data"
    },
    {
     "data": {
      "application/vnd.jupyter.widget-view+json": {
       "model_id": "5e9e3a55e6994c2abb72ba4b5f8c2af1",
       "version_major": 2,
       "version_minor": 0
      },
      "text/plain": [
       "Running 100 simulations in 100 batches.:   0%|          | 0/100 [00:00<?, ?it/s]"
      ]
     },
     "metadata": {},
     "output_type": "display_data"
    },
    {
     "name": "stdout",
     "output_type": "stream",
     "text": [
      "28\n"
     ]
    },
    {
     "data": {
      "application/vnd.jupyter.widget-view+json": {
       "model_id": "1071fac7a3574edcba3795dd26a9b66a",
       "version_major": 2,
       "version_minor": 0
      },
      "text/plain": [
       "Drawing 100 posterior samples:   0%|          | 0/100 [00:00<?, ?it/s]"
      ]
     },
     "metadata": {},
     "output_type": "display_data"
    },
    {
     "data": {
      "application/vnd.jupyter.widget-view+json": {
       "model_id": "6993f08f7bc04aab99b5c29db8a51883",
       "version_major": 2,
       "version_minor": 0
      },
      "text/plain": [
       "Running 100 simulations in 100 batches.:   0%|          | 0/100 [00:00<?, ?it/s]"
      ]
     },
     "metadata": {},
     "output_type": "display_data"
    },
    {
     "name": "stdout",
     "output_type": "stream",
     "text": [
      "29\n"
     ]
    },
    {
     "data": {
      "application/vnd.jupyter.widget-view+json": {
       "model_id": "042cb74c3a934d14a6a3cf68c1c90e80",
       "version_major": 2,
       "version_minor": 0
      },
      "text/plain": [
       "Drawing 100 posterior samples:   0%|          | 0/100 [00:00<?, ?it/s]"
      ]
     },
     "metadata": {},
     "output_type": "display_data"
    },
    {
     "data": {
      "application/vnd.jupyter.widget-view+json": {
       "model_id": "549d5da58b2441f8978590d05cbeaaae",
       "version_major": 2,
       "version_minor": 0
      },
      "text/plain": [
       "Running 100 simulations in 100 batches.:   0%|          | 0/100 [00:00<?, ?it/s]"
      ]
     },
     "metadata": {},
     "output_type": "display_data"
    },
    {
     "name": "stdout",
     "output_type": "stream",
     "text": [
      "30\n"
     ]
    },
    {
     "data": {
      "application/vnd.jupyter.widget-view+json": {
       "model_id": "a2ed768572b84d5baf12c5951ddeda06",
       "version_major": 2,
       "version_minor": 0
      },
      "text/plain": [
       "Drawing 100 posterior samples:   0%|          | 0/100 [00:00<?, ?it/s]"
      ]
     },
     "metadata": {},
     "output_type": "display_data"
    },
    {
     "data": {
      "application/vnd.jupyter.widget-view+json": {
       "model_id": "216f24e0456544d18573bf261d987b76",
       "version_major": 2,
       "version_minor": 0
      },
      "text/plain": [
       "Running 100 simulations in 100 batches.:   0%|          | 0/100 [00:00<?, ?it/s]"
      ]
     },
     "metadata": {},
     "output_type": "display_data"
    },
    {
     "name": "stdout",
     "output_type": "stream",
     "text": [
      "31\n"
     ]
    },
    {
     "data": {
      "application/vnd.jupyter.widget-view+json": {
       "model_id": "eddea65fcb424e08976344a15977a56a",
       "version_major": 2,
       "version_minor": 0
      },
      "text/plain": [
       "Drawing 100 posterior samples:   0%|          | 0/100 [00:00<?, ?it/s]"
      ]
     },
     "metadata": {},
     "output_type": "display_data"
    },
    {
     "data": {
      "application/vnd.jupyter.widget-view+json": {
       "model_id": "4a5d2cdd219148908203415f9467a788",
       "version_major": 2,
       "version_minor": 0
      },
      "text/plain": [
       "Running 100 simulations in 100 batches.:   0%|          | 0/100 [00:00<?, ?it/s]"
      ]
     },
     "metadata": {},
     "output_type": "display_data"
    },
    {
     "name": "stdout",
     "output_type": "stream",
     "text": [
      "32\n"
     ]
    },
    {
     "data": {
      "application/vnd.jupyter.widget-view+json": {
       "model_id": "aa184b0ac78d4be1b00f65e60050afce",
       "version_major": 2,
       "version_minor": 0
      },
      "text/plain": [
       "Drawing 100 posterior samples:   0%|          | 0/100 [00:00<?, ?it/s]"
      ]
     },
     "metadata": {},
     "output_type": "display_data"
    },
    {
     "data": {
      "application/vnd.jupyter.widget-view+json": {
       "model_id": "94d7f1cda1144cba889a6e2a86502771",
       "version_major": 2,
       "version_minor": 0
      },
      "text/plain": [
       "Running 100 simulations in 100 batches.:   0%|          | 0/100 [00:00<?, ?it/s]"
      ]
     },
     "metadata": {},
     "output_type": "display_data"
    },
    {
     "name": "stdout",
     "output_type": "stream",
     "text": [
      "33\n"
     ]
    },
    {
     "data": {
      "application/vnd.jupyter.widget-view+json": {
       "model_id": "58ec72eaa2c54b90b015599495134b60",
       "version_major": 2,
       "version_minor": 0
      },
      "text/plain": [
       "Drawing 100 posterior samples:   0%|          | 0/100 [00:00<?, ?it/s]"
      ]
     },
     "metadata": {},
     "output_type": "display_data"
    },
    {
     "data": {
      "application/vnd.jupyter.widget-view+json": {
       "model_id": "834a402aaa2d4e09a88776d875069342",
       "version_major": 2,
       "version_minor": 0
      },
      "text/plain": [
       "Running 100 simulations in 100 batches.:   0%|          | 0/100 [00:00<?, ?it/s]"
      ]
     },
     "metadata": {},
     "output_type": "display_data"
    },
    {
     "name": "stdout",
     "output_type": "stream",
     "text": [
      "34\n"
     ]
    },
    {
     "data": {
      "application/vnd.jupyter.widget-view+json": {
       "model_id": "8b8162a2a2b04488b4a783aa0bf5abe6",
       "version_major": 2,
       "version_minor": 0
      },
      "text/plain": [
       "Drawing 100 posterior samples:   0%|          | 0/100 [00:00<?, ?it/s]"
      ]
     },
     "metadata": {},
     "output_type": "display_data"
    },
    {
     "data": {
      "application/vnd.jupyter.widget-view+json": {
       "model_id": "cd342a609f2049889be4293006fe451d",
       "version_major": 2,
       "version_minor": 0
      },
      "text/plain": [
       "Running 100 simulations in 100 batches.:   0%|          | 0/100 [00:00<?, ?it/s]"
      ]
     },
     "metadata": {},
     "output_type": "display_data"
    },
    {
     "name": "stdout",
     "output_type": "stream",
     "text": [
      "35\n"
     ]
    },
    {
     "data": {
      "application/vnd.jupyter.widget-view+json": {
       "model_id": "f9d7dec9544547cfbbd4ff7f76e9b888",
       "version_major": 2,
       "version_minor": 0
      },
      "text/plain": [
       "Drawing 100 posterior samples:   0%|          | 0/100 [00:00<?, ?it/s]"
      ]
     },
     "metadata": {},
     "output_type": "display_data"
    },
    {
     "data": {
      "application/vnd.jupyter.widget-view+json": {
       "model_id": "a48d48cbbc1c4a51a5a98b00acf2288a",
       "version_major": 2,
       "version_minor": 0
      },
      "text/plain": [
       "Running 100 simulations in 100 batches.:   0%|          | 0/100 [00:00<?, ?it/s]"
      ]
     },
     "metadata": {},
     "output_type": "display_data"
    }
   ],
   "source": [
    "all_post_psds = []\n",
    "for ix in range(ind_psd.shape[-1]):\n",
    "    curC = ind_conn[:, :, ix]\n",
    "    curBrain = Brain.Brain()\n",
    "    curBrain.add_connectome(DAT_ROOT) # grabs distance matrix\n",
    "    # re-ordering for DK atlas and normalizing the connectomes:\n",
    "    curBrain.reorder_connectome(curBrain.connectome, curBrain.distance_matrix)\n",
    "    #curBrain.connectome = curC# re-assign connectome to individual connectome\n",
    "    curBrain.bi_symmetric_c()\n",
    "    curBrain.reduce_extreme_dir()\n",
    "    cur_sgmmodel = SGM(curBrain.reducedConnectome, curBrain.distance_matrix, FREQS)\n",
    "        \n",
    "    sp, raw_sps = meg_psd2spatialfeature(curBrain.reducedConnectome, ind_psd[:, :, ix], FREQS, band=\"alpha\")\n",
    "    \n",
    "    std_spv = stdz_vec(raw_sps.sum(axis=1))\n",
    "    std_psd_DB = psd_2tr(ind_psd[:, :, ix])\n",
    "    \n",
    "    curX_raw = np.concatenate([std_psd_DB.flatten(), std_spv])\n",
    "    curX = torch.Tensor(curX_raw)\n",
    "    cur_post = cur_res.posterior.set_default_x(curX)\n",
    "        \n",
    "    simulator_data_sp = partial(simulator_data,  sgmmodel=cur_sgmmodel, prior_bds=paras.prior_bds)\n",
    "    simulator_data_wrapper, _ = prepare_for_sbi(simulator_data_sp, prior)\n",
    "    \n",
    "    print(ix)\n",
    "    tmp_sps, post_psd = simulate_for_sbi(simulator_data_wrapper, cur_post, \n",
    "                            num_simulations=100,\n",
    "                            num_workers=50)\n",
    "    _, post_psd_stable = _filter_unstable(tmp_sps, paras.prior_bds, post_psd)\n",
    "    all_post_psds.append(post_psd_stable.numpy())"
   ]
  },
  {
   "cell_type": "code",
   "execution_count": 29,
   "id": "cfa3cc15",
   "metadata": {
    "ExecuteTime": {
     "end_time": "2022-12-17T00:53:16.795245Z",
     "start_time": "2022-12-17T00:53:16.787294Z"
    }
   },
   "outputs": [],
   "source": [
    "est_psds = []\n",
    "for post_psd in all_post_psds:\n",
    "    est_psd = np.mean(post_psd[:, :-68], axis=0)\n",
    "    est_psd = est_psd.reshape(68, 40)\n",
    "    est_psds.append(est_psd)"
   ]
  },
  {
   "cell_type": "code",
   "execution_count": 30,
   "id": "3ddef00d",
   "metadata": {
    "ExecuteTime": {
     "end_time": "2022-12-17T00:53:19.178976Z",
     "start_time": "2022-12-17T00:53:19.161701Z"
    }
   },
   "outputs": [
    {
     "name": "stdout",
     "output_type": "stream",
     "text": [
      "Corr is 0.991\n"
     ]
    }
   ],
   "source": [
    "sgm_psd_curve1 = np.array(est_psds).mean(axis=1).mean(axis=0)\n",
    "meg_psd_curve = np.mean([psd_2tr(ind_psd[:, :, ix]).mean(axis=0) for ix in range(36)], axis=0)\n",
    "cor = scipy.stats.pearsonr(stdz_vec(meg_psd_curve), stdz_vec(sgm_psd_curve1))[0]\n",
    "print(f\"Corr is {cor:.3f}\")"
   ]
  },
  {
   "cell_type": "code",
   "execution_count": 31,
   "id": "bc4f341b",
   "metadata": {
    "ExecuteTime": {
     "end_time": "2022-12-17T00:53:20.172966Z",
     "start_time": "2022-12-17T00:53:20.033471Z"
    }
   },
   "outputs": [
    {
     "data": {
      "text/plain": [
       "<matplotlib.legend.Legend at 0x7f3f8b195070>"
      ]
     },
     "execution_count": 31,
     "metadata": {},
     "output_type": "execute_result"
    },
    {
     "data": {
      "image/png": "[encoded data removed]",
      "text/plain": [
       "<Figure size 720x720 with 1 Axes>"
      ]
     },
     "metadata": {
      "needs_background": "light"
     },
     "output_type": "display_data"
    }
   ],
   "source": [
    "plt.figure(figsize=[10, 10])\n",
    "plt.plot(FREQS, meg_psd_curve, linestyle = '-',\n",
    "#plt.plot(FREQS, stdz_vec(meg_psd_curve), linestyle = '-',\n",
    "         marker = 's',fillstyle = 'none',color = 'k', label = \"MEG\", alpha = 0.8)\n",
    "plt.plot(FREQS, sgm_psd_curve1, linestyle = '-',\n",
    "#plt.plot(FREQS, stdz_vec(sgm_psd_curve1), linestyle = '-',\n",
    "         marker = 'o',fillstyle = 'none',color = 'b', label = \"M-SGM\", alpha = 0.8)\n",
    "plt.xlabel('Frequency (Hz)', fontsize = 17)\n",
    "plt.ylabel('Normalized PSD', fontsize = 17)\n",
    "plt.legend()"
   ]
  },
  {
   "cell_type": "code",
   "execution_count": 32,
   "id": "4674b07d",
   "metadata": {
    "ExecuteTime": {
     "end_time": "2022-12-17T00:53:26.062967Z",
     "start_time": "2022-12-17T00:53:25.944563Z"
    }
   },
   "outputs": [],
   "source": [
    "# Corrs for PSD and spatial features for each subject\n",
    "meg_psd_roi_sub = np.array([psd_2tr(ind_psd[:, :, ix]) for ix in range(36)])\n",
    "sgm_psd_roi_sub = np.array(est_psds)\n",
    "\n",
    "corrs_roi_sub1 = []\n",
    "for ix in range(meg_psd_roi_sub.shape[0]):\n",
    "    cur_meg = meg_psd_roi_sub[ix]\n",
    "    cur_sgm = sgm_psd_roi_sub[ix]\n",
    "    corrs_roi_sub1.append(np.mean([scipy.stats.pearsonr(cur_meg[iy], cur_sgm[iy])[0] for iy in range(68)]))\n",
    "corrs_roi_sub1 = np.array(corrs_roi_sub1)"
   ]
  },
  {
   "cell_type": "code",
   "execution_count": 33,
   "id": "2ac1f68a",
   "metadata": {
    "ExecuteTime": {
     "end_time": "2022-12-17T00:53:26.468893Z",
     "start_time": "2022-12-17T00:53:26.462525Z"
    }
   },
   "outputs": [
    {
     "name": "stdout",
     "output_type": "stream",
     "text": [
      "0.8996274512315984 0.886413932687284\n"
     ]
    }
   ],
   "source": [
    "print(np.median(corrs_roi_sub1), np.mean(corrs_roi_sub1))"
   ]
  },
  {
   "cell_type": "code",
   "execution_count": 34,
   "id": "4795ea39",
   "metadata": {
    "ExecuteTime": {
     "end_time": "2022-12-17T00:53:29.206269Z",
     "start_time": "2022-12-17T00:53:29.197989Z"
    }
   },
   "outputs": [
    {
     "data": {
      "text/plain": [
       "array([0.79015653, 0.81367861, 0.82752168, 0.83531536, 0.84630147,\n",
       "       0.84936092, 0.85593023, 0.86094853, 0.86212447, 0.86857638,\n",
       "       0.87321716, 0.8770834 , 0.87837815, 0.88254927, 0.88757868,\n",
       "       0.88765754, 0.89439217, 0.89804665, 0.90120826, 0.90176411,\n",
       "       0.90239248, 0.9026675 , 0.90271349, 0.90273594, 0.90365148,\n",
       "       0.90575111, 0.90627142, 0.90874934, 0.91172765, 0.91250269,\n",
       "       0.91570805, 0.91683261, 0.92314986, 0.92403283, 0.9392772 ,\n",
       "       0.94094836])"
      ]
     },
     "execution_count": 34,
     "metadata": {},
     "output_type": "execute_result"
    }
   ],
   "source": [
    "np.sort(corrs_roi_sub1)"
   ]
  },
  {
   "cell_type": "code",
   "execution_count": 35,
   "id": "45568d7b",
   "metadata": {
    "ExecuteTime": {
     "end_time": "2022-12-17T00:53:32.230563Z",
     "start_time": "2022-12-17T00:53:32.223104Z"
    }
   },
   "outputs": [
    {
     "data": {
      "text/plain": [
       "array([24,  4, 21, 32, 18,  1, 25, 33,  3, 11,  7, 34,  0,  9, 16, 14, 27,\n",
       "       17, 10, 22, 13, 23, 28, 15, 19, 31, 35,  8, 12, 26,  5,  6,  2, 20,\n",
       "       30, 29])"
      ]
     },
     "execution_count": 35,
     "metadata": {},
     "output_type": "execute_result"
    }
   ],
   "source": [
    "np.argsort(corrs_roi_sub1)"
   ]
  },
  {
   "cell_type": "code",
   "execution_count": 36,
   "id": "d1b778f6",
   "metadata": {
    "ExecuteTime": {
     "end_time": "2022-12-17T00:53:33.881678Z",
     "start_time": "2022-12-17T00:53:33.763612Z"
    }
   },
   "outputs": [
    {
     "data": {
      "text/plain": [
       "<matplotlib.legend.Legend at 0x7f3f8b2bbc10>"
      ]
     },
     "execution_count": 36,
     "metadata": {},
     "output_type": "execute_result"
    },
    {
     "data": {
      "image/png": "[encoded data removed]",
      "text/plain": [
       "<Figure size 432x288 with 1 Axes>"
      ]
     },
     "metadata": {
      "needs_background": "light"
     },
     "output_type": "display_data"
    }
   ],
   "source": [
    "ix = 30 \n",
    "sgm_post_rois = sgm_psd_roi_sub.mean(axis=1)\n",
    "plt.plot(FREQS, stdz_vec(meg_psd_roi_sub[ix, :, :].mean(axis=0)), linestyle = '-',\n",
    "         marker = 's',fillstyle = 'none',color = 'k', label = \"MEG\", alpha = 0.8)\n",
    "plt.plot(FREQS, stdz_vec(sgm_post_rois[ix]), linestyle = '-',\n",
    "         marker = 'o',fillstyle = 'none',color = 'b', label = \"M-SGM\", alpha = 0.8)\n",
    "plt.legend()"
   ]
  },
  {
   "cell_type": "code",
   "execution_count": null,
   "id": "1e556805",
   "metadata": {},
   "outputs": [],
   "source": []
  }
 ],
 "metadata": {
  "kernelspec": {
   "display_name": "Python 3 (ipykernel)",
   "language": "python",
   "name": "python3"
  },
  "language_info": {
   "codemirror_mode": {
    "name": "ipython",
    "version": 3
   },
   "file_extension": ".py",
   "mimetype": "text/x-python",
   "name": "python",
   "nbconvert_exporter": "python",
   "pygments_lexer": "ipython3",
   "version": "3.9.7"
  },
  "toc": {
   "base_numbering": 1,
   "nav_menu": {},
   "number_sections": true,
   "sideBar": true,
   "skip_h1_title": false,
   "title_cell": "Table of Contents",
   "title_sidebar": "Contents",
   "toc_cell": false,
   "toc_position": {
    "height": "calc(100% - 180px)",
    "left": "10px",
    "top": "150px",
    "width": "193px"
   },
   "toc_section_display": true,
   "toc_window_display": true
  }
 },
 "nbformat": 4,
 "nbformat_minor": 5
}
