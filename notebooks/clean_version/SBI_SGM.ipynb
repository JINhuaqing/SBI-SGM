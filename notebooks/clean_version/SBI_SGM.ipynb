{
 "cells": [
  {
   "cell_type": "markdown",
   "id": "48ee4fd6",
   "metadata": {},
   "source": [
    "This file is to try SBI_SGM \n",
    "\n",
    "And I train model with a general connectome.\n"
   ]
  },
  {
   "cell_type": "markdown",
   "id": "269c1f0a",
   "metadata": {},
   "source": [
    "### import and define"
   ]
  },
  {
   "cell_type": "code",
   "execution_count": 1,
   "id": "4e45686c",
   "metadata": {
    "ExecuteTime": {
     "end_time": "2023-12-05T03:11:38.276463Z",
     "start_time": "2023-12-05T03:11:38.267663Z"
    }
   },
   "outputs": [],
   "source": [
    "import os\n",
    "import sys\n",
    "module_path = os.path.abspath(os.path.join('../../mypkg'))\n",
    "if module_path not in sys.path:\n",
    "    sys.path.append(module_path)"
   ]
  },
  {
   "cell_type": "markdown",
   "id": "e5ca9b8a",
   "metadata": {},
   "source": [
    "#### Other pkgs"
   ]
  },
  {
   "cell_type": "code",
   "execution_count": 2,
   "id": "c93dcfe1",
   "metadata": {
    "ExecuteTime": {
     "end_time": "2023-12-05T03:11:41.089271Z",
     "start_time": "2023-12-05T03:11:38.280459Z"
    }
   },
   "outputs": [],
   "source": [
    "from tqdm import trange, tqdm\n",
    "\n",
    "import torch\n",
    "import torch.nn as nn \n",
    "import torch.nn.functional as F \n",
    "from sbi import utils as sutils\n",
    "from sbi import analysis as analysis\n",
    "from sbi.inference.base import infer\n",
    "from sbi.inference import SNPE, prepare_for_sbi, simulate_for_sbi\n",
    "from sbi.utils.get_nn_models import posterior_nn\n",
    "from torch.distributions.multivariate_normal import MultivariateNormal\n",
    "\n",
    "import numpy as np\n",
    "import xarray as xr\n",
    "from easydict import EasyDict as edict\n",
    "from pathlib import Path\n",
    "import pickle\n",
    "import scipy\n",
    "\n",
    "import seaborn as sns\n",
    "import pandas as pd\n",
    "import matplotlib.pyplot as plt\n",
    "import json\n",
    "from functools import partial\n",
    "\n",
    "import warnings\n",
    "warnings.filterwarnings(\"ignore\")"
   ]
  },
  {
   "cell_type": "code",
   "execution_count": 3,
   "id": "8bbf603a",
   "metadata": {
    "ExecuteTime": {
     "end_time": "2023-12-05T03:11:41.111856Z",
     "start_time": "2023-12-05T03:11:41.090533Z"
    }
   },
   "outputs": [],
   "source": [
    "# This will reload all imports as soon as the code changes\n",
    "%load_ext autoreload\n",
    "%autoreload 2"
   ]
  },
  {
   "cell_type": "code",
   "execution_count": null,
   "id": "aac0886a",
   "metadata": {},
   "outputs": [],
   "source": []
  },
  {
   "cell_type": "markdown",
   "id": "7452265b",
   "metadata": {},
   "source": [
    "#### My own pkgs"
   ]
  },
  {
   "cell_type": "code",
   "execution_count": 4,
   "id": "da2f4f7a",
   "metadata": {
    "ExecuteTime": {
     "end_time": "2023-12-05T03:11:41.589227Z",
     "start_time": "2023-12-05T03:11:41.112834Z"
    }
   },
   "outputs": [],
   "source": [
    "from utils.standardize import stdz_psd, stdz_vec, minmax_vec, psd_2tr\n",
    "from utils.reparam import theta_raw_2out, normcdf_np, normcdf_torch, logistic_np, logistic_torch\n",
    "from utils.stable import paras_table_check\n",
    "from sgm.sgm import SGM\n",
    "from spectrome import Brain, path, functions\n",
    "from constants import RES_ROOT, FIG_ROOT, DAT_ROOT\n",
    "from models.embedding_nets import SummaryNet"
   ]
  },
  {
   "cell_type": "code",
   "execution_count": 5,
   "id": "3c28c72e",
   "metadata": {
    "ExecuteTime": {
     "end_time": "2023-12-05T03:11:41.629064Z",
     "start_time": "2023-12-05T03:11:41.592756Z"
    }
   },
   "outputs": [],
   "source": [
    "#torch.set_default_tensor_type(torch.DoubleTensor)"
   ]
  },
  {
   "cell_type": "markdown",
   "id": "4022c78f",
   "metadata": {},
   "source": [
    "### Load real data PSD and brain"
   ]
  },
  {
   "cell_type": "markdown",
   "id": "bcd6c5ab",
   "metadata": {},
   "source": [
    "#### PSD and connectome"
   ]
  },
  {
   "cell_type": "code",
   "execution_count": 6,
   "id": "bb358643",
   "metadata": {
    "ExecuteTime": {
     "end_time": "2023-12-05T03:11:41.879258Z",
     "start_time": "2023-12-05T03:11:41.630204Z"
    }
   },
   "outputs": [],
   "source": [
    "# Load data\n",
    "ind_psd_xr = xr.open_dataarray(DAT_ROOT/'individual_psd_reordered_matlab.nc')\n",
    "ind_psd = ind_psd_xr.values\n",
    "FREQS = ind_psd_xr[\"frequencies\"].values\n",
    "ind_conn_xr = xr.open_dataarray(DAT_ROOT/'individual_connectomes_reordered.nc')\n",
    "ind_conn = ind_conn_xr.values;"
   ]
  },
  {
   "cell_type": "code",
   "execution_count": 7,
   "id": "09b0355d",
   "metadata": {
    "ExecuteTime": {
     "end_time": "2023-12-05T03:11:42.932800Z",
     "start_time": "2023-12-05T03:11:42.891354Z"
    }
   },
   "outputs": [],
   "source": [
    "import logging\n",
    "logger = logging.getLogger(__name__)\n",
    "logger.setLevel(logging.DEBUG)\n",
    "ch = logging.StreamHandler() # for console. \n",
    "ch.setLevel(logging.DEBUG)\n",
    "formatter = logging.Formatter('%(asctime)s - %(name)s - %(levelname)s - %(message)s')\n",
    "ch.setFormatter(formatter)\n",
    "logger.addHandler(ch)"
   ]
  },
  {
   "cell_type": "code",
   "execution_count": 8,
   "id": "4de7ec28",
   "metadata": {
    "ExecuteTime": {
     "end_time": "2023-12-05T03:11:44.055853Z",
     "start_time": "2023-12-05T03:11:44.000056Z"
    }
   },
   "outputs": [],
   "source": [
    "from torch.distributions.multivariate_normal import MultivariateNormal\n",
    "import torch\n",
    "from models.embedding_nets import SummaryNet\n",
    "from utils.standardize import psd_2tr, stdz_vec\n",
    "from utils.misc import save_pkl, load_pkl\n",
    "class sbi_sgm():\n",
    "    def __init__(self, sgmmodel, save_folder=None, **input_params):\n",
    "        \n",
    "        \n",
    "        # default params\n",
    "        params = edict()\n",
    "        \n",
    "        # noise level added to SGM output\n",
    "        params.noise_sd = 0.20\n",
    "        # num of sbi sps to train the NN\n",
    "        params.num_prior_sps = int(1e4)\n",
    "        # the density estimator\n",
    "        params.den_est = \"nsf\"\n",
    "        # whether using a embed net to reduce the output dim or not\n",
    "        params.is_embed = False\n",
    "        # the sd of Gaussian prior for SBI\n",
    "        params.prior_sd = 10\n",
    "        \n",
    "        # the parameter to control how to reparam the SGM parameters\n",
    "        params.k = 0.1\n",
    "        \n",
    "        # the default SGM parameters bds with order in params.names\n",
    "        params.names = [\"Taue\", \"Taui\", \"TauC\", \"Speed\", \"alpha\", \"gii\", \"gei\"]\n",
    "        par_low = np.asarray([0.005,0.005,0.005,5, 0.1,0.001,0.001])\n",
    "        par_high = np.asarray([0.03, 0.20, 0.03,20,  1,    2,  0.7])\n",
    "        params.prior_bds = np.array([par_low, par_high]).T\n",
    "        \n",
    "        for key in input_params.keys():\n",
    "            if key not in params.keys():\n",
    "                logger.warning(f\"Plz check your input {key}, it is not used.\")\n",
    "            else:\n",
    "                params[key] = input_params[key]\n",
    "        if \"prior_sd\" in input_params.keys() or \"k\" in input_params.keys():\n",
    "            logger.warning(f\"k control the reparam of SGM. \"\n",
    "                           f\"The default value is compatible with prior_sd.\"\n",
    "                           f\"Be careful if you change k or prior_sd.\"\n",
    "                          )\n",
    "        \n",
    "        self.params = params\n",
    "        logger.info(f\"In this class, the sgm parameter order is {self.params.names}.\")\n",
    "        logger.info(self.params)\n",
    "        \n",
    "        \n",
    "        if isinstance(save_folder, str):\n",
    "            self.save_path = RES_ROOT/save_folder\n",
    "        elif save_folder:\n",
    "            self.save_path = RES_ROOT/(f\"./sbi-sgm_results_numsps{paras.num_prior_sps:.0f}\" +\n",
    "                                      f\"_sd{paras.noise_sd*100:.0f}\" +\n",
    "                                      f\"_denest{paras.den_est}\" +\n",
    "                                      f\"_embed{paras.is_embed}\")\n",
    "        else:\n",
    "            self.save_path = None\n",
    "        if self.save_path is not None:\n",
    "            if not self.save_path.exists():\n",
    "                self.save_path.mkdir()\n",
    "        if self.save_path is None:\n",
    "            logger.info(f\"Results will not be saved.\")\n",
    "        else:\n",
    "            logger.info(f\"Results will be saved at {self.save_path}.\")\n",
    "            \n",
    "        \n",
    "        self.init_prior = MultivariateNormal(loc=torch.zeros(7), \n",
    "                                             covariance_matrix=torch.eye(7)*(self.params.prior_sd**2))\n",
    "            \n",
    "        self._trans_fn=partial(logistic_torch, k=self.params.k)\n",
    "        self._reparam_fn = partial(theta_raw_2out, map_fn=partial(logistic_torch, k=self.params.k))\n",
    "        \n",
    "        self.sgmmodel = sgmmodel\n",
    "        self.posterior = None\n",
    "        self.embedding_net = None\n",
    "        self.curX = None\n",
    "        self.post_sps = None\n",
    "        \n",
    "        assert not self.params.is_embed, f\"The embed network is not fully test!! If using, comment out this sentence.\"\n",
    "        if self.params.is_embed:\n",
    "            self.embedding_net = SummaryNet(num_in_fs=68*41)\n",
    "            self.params.den_est = sutils.posterior_nn(model=self.params.den_est, \n",
    "                                                      embedding_net=self.embedding_net)\n",
    "            \n",
    "        \n",
    "    def simulator(self, sgm_reparams, is_train=True):\n",
    "        \"\"\" Generate data with SGM model\n",
    "            args:\n",
    "                is_train: (bool) if True, generating SGM data with noise (for training)\n",
    "                                 if False, generating clean SGM data (no noise, for inference)\n",
    "                    \n",
    "        \"\"\"\n",
    "        sgm_params = (self._trans_fn(sgm_reparams)*(self.params.prior_bds[:, 1]-self.params.prior_bds[:, 0]) +\n",
    "                       self.params.prior_bds[:, 0])\n",
    "        #sgm_params = self._reparam_fn(sgm_reparams, self.params.prior_bds)\n",
    "        psd, spatialFs = self.sgmmodel.run_local_coupling_forward(sgm_params)\n",
    "        psd = psd[:68, :]\n",
    "        \n",
    "        sp_fs= spatialFs.sum(axis=1)\n",
    "        if is_train: \n",
    "            sp_fs = stdz_vec(sp_fs) # std it\n",
    "        \n",
    "        std_psd_DB = psd_2tr(psd)\n",
    "        psd_fs = std_psd_DB.flatten()\n",
    "        \n",
    "        res = np.concatenate([psd_fs, sp_fs]) \n",
    "        if is_train:\n",
    "            noise =  np.random.randn(*res.shape)*self.params.noise_sd \n",
    "        else:\n",
    "            noise = np.zeros_like(res)\n",
    "        \n",
    "        return res+noise\n",
    "    \n",
    "    def _filter_unstable(self, theta_raw, x=None):\n",
    "        \"\"\"This fn is to remove unstable SGM parameters\n",
    "            args: theta_raw: parameters: num of sps x dim\n",
    "                    order: ['Taue', 'Taui', 'TauC', 'Speed', 'alpha', 'gii', 'gei']\n",
    "        \"\"\"\n",
    "        theta = self._reparam_fn(theta_raw, self.params.prior_bds)\n",
    "        stable_idxs = paras_table_check(theta.numpy())\n",
    "        \n",
    "        # keep stable sps only\n",
    "        theta_raw_stable = theta_raw[stable_idxs==0]\n",
    "        if x is not None:\n",
    "            x_stable = x[stable_idxs==0]\n",
    "            return theta_raw_stable, x_stable\n",
    "        else:\n",
    "            return theta_raw_stable\n",
    "    \n",
    "    def SBI_fit(self, load=False):\n",
    "        if not load:\n",
    "            simulator_wrapper, prior = prepare_for_sbi(self.simulator, self.init_prior)\n",
    "            sgm_reparamss, x = simulate_for_sbi(simulator_wrapper, prior, \n",
    "                                            num_simulations=int(self.params.num_prior_sps), \n",
    "                                            num_workers=20)\n",
    "            sgm_reparamss_stable, x_stable = self._filter_unstable(sgm_reparamss, x)\n",
    "            inference = SNPE(prior=prior, density_estimator=self.params.den_est)\n",
    "            density_estimator = inference.append_simulations(sgm_reparamss_stable, x_stable).train()\n",
    "            posterior = inference.build_posterior(density_estimator)\n",
    "            self.posterior = posterior\n",
    "            if self.save_path is not None:\n",
    "                save_pkl(self.save_path/\"posterior.pkl\", self.posterior, is_force=True)\n",
    "        else:\n",
    "            assert (self.save_path/\"posterior.pkl\").exists(), \"No file to load!!\"\n",
    "            self.posterior = load_pkl(self.save_path/\"posterior.pkl\")\n",
    "        \n",
    "    def add_data(self, psd):\n",
    "        \"\"\"psd: nroi x nfreq\n",
    "        \"\"\"\n",
    "        # only get spatial feature from alpha band\n",
    "        freqband = np.where((self.sgmmodel.freqs>=8) & (self.sgmmodel.freqs<=12))[0]\n",
    "        raw_sps = psd[:, freqband]\n",
    "    \n",
    "        std_spv = stdz_vec(raw_sps.sum(axis=1))\n",
    "        std_psd_DB = psd_2tr(psd)\n",
    "        curX_raw = np.concatenate([std_psd_DB.flatten(), std_spv])\n",
    "        self.curX = torch.Tensor(curX_raw)\n",
    "        \n",
    "        # if add a data, clean the previous sps\n",
    "        self.post_sps = None\n",
    "    \n",
    "    def get_post_sps(self, n=10000):\n",
    "        assert self.posterior is not None, \"Train SBI first with SBI_fit()\"\n",
    "        assert self.curX is not None, \"You should add data first with add_data(psd)\"\n",
    "        \n",
    "        post_sps_reparam = self.posterior.sample((n, ), x=self.curX, max_sampling_batch_size=100)\n",
    "        \n",
    "        # only keep stable params\n",
    "        post_sps_reparam = self._filter_unstable(post_sps_reparam)\n",
    "        self.post_sps = self._reparam_fn(post_sps_reparam, self.params.prior_bds) \n",
    "        return self.post_sps\n",
    "        \n",
    "    def get_model_psd_sp(self):\n",
    "        assert self.post_sps is not None, \"You should get posterior sps with get_post_sps(n)\"\n",
    "        pt_est = np.median(self.post_sps, axis=0)\n",
    "        cur_psd, cur_sp = self.sgmmodel.run_local_coupling_forward(pt_est)\n",
    "        cur_psd = cur_psd[:68, :]\n",
    "        cur_psd_DB = psd_2tr(cur_psd)\n",
    "        return cur_psd_DB, cur_sp.sum(axis=1)\n",
    "        \n",
    "\n",
    "    def get_post_psd_sps(self, n=100):\n",
    "        \"\"\"You only need it when you want a Full-Bayesian inference.\n",
    "        \"\"\"\n",
    "        assert self.posterior is not None, \"Train SBI first with SBI_fit()\"\n",
    "        assert self.curX is not None, \"You should add data first with add_data(psd, sc)\"\n",
    "        simulator_data_sp = partial(self.simulator, is_train=False)\n",
    "        simulator_data_wrapper, _ = prepare_for_sbi(simulator_data_sp, self.init_prior)\n",
    "        cur_post = self.posterior.set_default_x(self.curX)\n",
    "        \n",
    "        tmp_sps, post_psd = simulate_for_sbi(simulator_data_wrapper, cur_post, \n",
    "                            num_simulations=n,\n",
    "                            num_workers=20)\n",
    "        \n",
    "        _, post_psd_stable = self._filter_unstable(tmp_sps, post_psd)\n",
    "        self.post_psd = post_psd_stable[:, :-68].reshape(-1, 68, len(self.sgmmodel.freqs)).numpy()\n",
    "        return self.post_psd"
   ]
  },
  {
   "cell_type": "code",
   "execution_count": 24,
   "id": "4f98de83",
   "metadata": {
    "ExecuteTime": {
     "end_time": "2023-12-05T05:48:09.377723Z",
     "start_time": "2023-12-05T05:48:09.150980Z"
    }
   },
   "outputs": [
    {
     "name": "stderr",
     "output_type": "stream",
     "text": [
      "2023-12-04 21:48:09,364 - __main__ - INFO - {'noise_sd': 0.2, 'num_prior_sps': 1000, 'den_est': 'nsf', 'is_embed': False, 'prior_sd': 10, 'k': 0.1, 'names': ['Taue', 'Taui', 'TauC', 'Speed', 'alpha', 'gii', 'gei'], 'prior_bds': array([[5.e-03, 3.e-02],\n",
      "       [5.e-03, 2.e-01],\n",
      "       [5.e-03, 3.e-02],\n",
      "       [5.e+00, 2.e+01],\n",
      "       [1.e-01, 1.e+00],\n",
      "       [1.e-03, 2.e+00],\n",
      "       [1.e-03, 7.e-01]])}\n",
      "2023-12-04 21:48:09,370 - __main__ - INFO - Results will be saved at /data/rajlab1/user_data/jin/MyResearch/SBI-SGM/mypkg/../results/Test.\n"
     ]
    },
    {
     "data": {
      "text/plain": [
       "<__main__.sbi_sgm at 0x7f1d093f0c40>"
      ]
     },
     "execution_count": 24,
     "metadata": {},
     "output_type": "execute_result"
    }
   ],
   "source": [
    "brain = Brain.Brain()\n",
    "brain.add_connectome(DAT_ROOT)\n",
    "brain.reorder_connectome(brain.connectome, brain.distance_matrix)\n",
    "brain.bi_symmetric_c()\n",
    "brain.reduce_extreme_dir()\n",
    "sgmmodel = SGM(brain.reducedConnectome, brain.distance_matrix, FREQS)\n",
    "SBI_SGM = sbi_sgm(sgmmodel, save_folder=\"Test\",  num_prior_sps=1000)"
   ]
  },
  {
   "cell_type": "code",
   "execution_count": 10,
   "id": "092c8be7",
   "metadata": {
    "ExecuteTime": {
     "end_time": "2023-12-05T03:12:53.595402Z",
     "start_time": "2023-12-05T03:11:50.161469Z"
    }
   },
   "outputs": [
    {
     "data": {
      "application/vnd.jupyter.widget-view+json": {
       "model_id": "c2503396de1247749957cc3f2fcc91b1",
       "version_major": 2,
       "version_minor": 0
      },
      "text/plain": [
       "Running 1000 simulations in 1000 batches.:   0%|          | 0/1000 [00:00<?, ?it/s]"
      ]
     },
     "metadata": {},
     "output_type": "display_data"
    },
    {
     "name": "stdout",
     "output_type": "stream",
     "text": [
      " Neural network successfully converged after 29 epochs.Save to /data/rajlab1/user_data/jin/MyResearch/SBI-SGM/mypkg/../results/Test/posterior.pkl\n"
     ]
    }
   ],
   "source": [
    "SBI_SGM.SBI_fit(load=False)"
   ]
  },
  {
   "cell_type": "code",
   "execution_count": 11,
   "id": "58ffc553",
   "metadata": {
    "ExecuteTime": {
     "end_time": "2023-12-05T03:12:55.700701Z",
     "start_time": "2023-12-05T03:12:55.488262Z"
    }
   },
   "outputs": [],
   "source": [
    "SBI_SGM.add_data(ind_psd[:, :, 0])"
   ]
  },
  {
   "cell_type": "code",
   "execution_count": 12,
   "id": "08e92a45",
   "metadata": {
    "ExecuteTime": {
     "end_time": "2023-12-05T03:12:58.124637Z",
     "start_time": "2023-12-05T03:12:56.351165Z"
    }
   },
   "outputs": [
    {
     "data": {
      "application/vnd.jupyter.widget-view+json": {
       "model_id": "c4f899ebb16c41c1839a9d43cd18c9cb",
       "version_major": 2,
       "version_minor": 0
      },
      "text/plain": [
       "Drawing 10000 posterior samples:   0%|          | 0/10000 [00:00<?, ?it/s]"
      ]
     },
     "metadata": {},
     "output_type": "display_data"
    }
   ],
   "source": [
    "SBI_SGM.get_post_sps();"
   ]
  },
  {
   "cell_type": "code",
   "execution_count": 17,
   "id": "01944e1a",
   "metadata": {
    "ExecuteTime": {
     "end_time": "2023-12-05T03:14:24.769077Z",
     "start_time": "2023-12-05T03:14:23.637893Z"
    }
   },
   "outputs": [],
   "source": [
    "psd, sp = SBI_SGM.get_model_psd_sp();"
   ]
  },
  {
   "cell_type": "code",
   "execution_count": 14,
   "id": "a1d72809",
   "metadata": {
    "ExecuteTime": {
     "end_time": "2023-12-05T03:13:07.466430Z",
     "start_time": "2023-12-05T03:13:00.970590Z"
    }
   },
   "outputs": [
    {
     "data": {
      "application/vnd.jupyter.widget-view+json": {
       "model_id": "95684d6026ca4cfe8223fbd9209b256e",
       "version_major": 2,
       "version_minor": 0
      },
      "text/plain": [
       "Drawing 100 posterior samples:   0%|          | 0/100 [00:00<?, ?it/s]"
      ]
     },
     "metadata": {},
     "output_type": "display_data"
    },
    {
     "data": {
      "application/vnd.jupyter.widget-view+json": {
       "model_id": "5264ec9601e0416eb74e9307eea518ab",
       "version_major": 2,
       "version_minor": 0
      },
      "text/plain": [
       "Running 100 simulations in 100 batches.:   0%|          | 0/100 [00:00<?, ?it/s]"
      ]
     },
     "metadata": {},
     "output_type": "display_data"
    }
   ],
   "source": [
    "SBI_SGM.get_post_psd_sps();"
   ]
  },
  {
   "cell_type": "code",
   "execution_count": 23,
   "id": "43c52e6c",
   "metadata": {
    "ExecuteTime": {
     "end_time": "2023-12-05T05:45:08.197645Z",
     "start_time": "2023-12-05T05:45:08.067400Z"
    }
   },
   "outputs": [
    {
     "data": {
      "text/plain": [
       "[<matplotlib.lines.Line2D at 0x7f1d09670f40>]"
      ]
     },
     "execution_count": 23,
     "metadata": {},
     "output_type": "execute_result"
    },
    {
     "data": {
      "image/png": "[encoded data removed]",
      "text/plain": [
       "<Figure size 432x288 with 1 Axes>"
      ]
     },
     "metadata": {
      "needs_background": "light"
     },
     "output_type": "display_data"
    }
   ],
   "source": [
    "plt.plot(stdz_vec(psd.mean(axis=0)))\n",
    "plt.plot(stdz_vec(ind_psd[:, :, 0].mean(axis=0)))\n"
   ]
  },
  {
   "cell_type": "code",
   "execution_count": null,
   "id": "1e556805",
   "metadata": {},
   "outputs": [],
   "source": []
  }
 ],
 "metadata": {
  "kernelspec": {
   "display_name": "Python 3 (ipykernel)",
   "language": "python",
   "name": "python3"
  },
  "language_info": {
   "codemirror_mode": {
    "name": "ipython",
    "version": 3
   },
   "file_extension": ".py",
   "mimetype": "text/x-python",
   "name": "python",
   "nbconvert_exporter": "python",
   "pygments_lexer": "ipython3",
   "version": "3.9.7"
  },
  "toc": {
   "base_numbering": 1,
   "nav_menu": {},
   "number_sections": true,
   "sideBar": true,
   "skip_h1_title": false,
   "title_cell": "Table of Contents",
   "title_sidebar": "Contents",
   "toc_cell": false,
   "toc_position": {
    "height": "calc(100% - 180px)",
    "left": "10px",
    "top": "150px",
    "width": "193px"
   },
   "toc_section_display": true,
   "toc_window_display": true
  }
 },
 "nbformat": 4,
 "nbformat_minor": 5
}
